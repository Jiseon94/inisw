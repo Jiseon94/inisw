{
 "cells": [
  {
   "cell_type": "markdown",
   "id": "cc3724b3",
   "metadata": {},
   "source": [
    "<!-- Regression 흡사\n",
    "*Neural Network => Artificial NN\n",
    "단층 Perceptron, Single Layer Perceptron => SLP\n",
    "2층 Multi-layer Perceptron => MLP\n",
    "N층 Deep NN => DNN\n",
    "; Back-propagation(Backward)\n",
    "; Estimation(유추/속도 아주 느림) => Matrix(GPU), 병렬 -->"
   ]
  },
  {
   "cell_type": "code",
   "execution_count": 1,
   "id": "a6ea5295",
   "metadata": {},
   "outputs": [],
   "source": [
    "# Regression 흡사\n",
    "# *Neural Network => Artificial NN\n",
    "# 단층 Perceptron, Single Layer Perceptron => SLP\n",
    "# 2층 Multi-layer Perceptron => MLP\n",
    "# N층 Deep NN => DNN\n",
    "# ; Back-propagation(Backward)\n",
    "# ; Estimation(유추/속도 아주 느림) => Matrix(GPU), 병렬"
   ]
  },
  {
   "cell_type": "code",
   "execution_count": 2,
   "id": "d073c413",
   "metadata": {},
   "outputs": [],
   "source": [
    "# SLP, 거리(M/SE), Loss + Chain rule\n",
    "#      Activate Func=Sigmoid(Logistic), Loss\n",
    "#      다중분류 Softmax(확률분포 변환 함수), Loss\n",
    "# MLP, Hidden Layer\n",
    "# Embedding(Weight)"
   ]
  },
  {
   "cell_type": "code",
   "execution_count": 3,
   "id": "d4040da3",
   "metadata": {},
   "outputs": [],
   "source": [
    "# O -> node -> node -> node\n",
    "#  Y/N\n",
    "#   Activate\n",
    "# X                                Y\n",
    "# node -> node -> node -> node -> 행동\n",
    "#      W  node\n",
    "#         Layer\n",
    "#              -> 결과\n",
    "#                 Y, ~Y\n",
    "#  Y      node4\n",
    "# -----   -----\n",
    "# dnode4  dnode3   dnode2  dnode1  X"
   ]
  },
  {
   "cell_type": "code",
   "execution_count": 4,
   "id": "104e725d",
   "metadata": {},
   "outputs": [],
   "source": [
    "import numpy as np"
   ]
  },
  {
   "cell_type": "code",
   "execution_count": 8,
   "id": "afb517a3",
   "metadata": {},
   "outputs": [],
   "source": [
    "X = np.array([[0,0],\n",
    "              [0,1],\n",
    "              [1,0],\n",
    "              [1,1]])\n",
    "Y = np.array([[1],[0],[0],[0]])\n",
    "# AND  0 0 0 1\n",
    "# OR   0 1 1 1\n",
    "# NAND 1 1 1 0\n",
    "# NOR  1 0 0 0"
   ]
  },
  {
   "cell_type": "code",
   "execution_count": 12,
   "id": "a60bb0c9",
   "metadata": {},
   "outputs": [],
   "source": [
    "W = np.random.rand(2,1)\n",
    "B = np.random.rand(1,1)\n",
    "\n",
    "history = list()\n",
    "\n",
    "# W = np.random.rand(3)  #x0 = 1 가정\n",
    "\n",
    "lr = 1e-4\n",
    "epoch = 20000\n",
    "\n",
    "for i in range(epoch):\n",
    "    error = 0\n",
    "    \n",
    "#     for x, y in zip(X,Y):  #Batch = 1\n",
    "#         x = (2,), y=(1,)\n",
    "#         Z = x.dot(W)\n",
    "#         Yhat = Z +B\n",
    "        \n",
    "#         error = (y-Yhat)**2\n",
    "        \n",
    "#         loss = -2*(y-Yhat)  #Yhat-Y, -(y-Yhat)\n",
    "        \n",
    "#         B = B - lr* loss\n",
    "#         W = W - lr*x*loss\n",
    "        \n",
    "    Z = X.dot(W)\n",
    "    Yhat = Z + B\n",
    "    \n",
    "    error = np.sum((Y-Yhat)**2)\n",
    "    \n",
    "    loss = -2*(Y-Yhat)\n",
    "    \n",
    "    B = B - lr*np.sum(loss)\n",
    "    W = W - lr*X.T.dot(loss)\n",
    "    \n",
    "    if i%100 ==0:\n",
    "        history.append(error)"
   ]
  },
  {
   "cell_type": "code",
   "execution_count": 13,
   "id": "0b06030c",
   "metadata": {},
   "outputs": [
    {
     "data": {
      "text/plain": [
       "array([[ True],\n",
       "       [False],\n",
       "       [False],\n",
       "       [False]])"
      ]
     },
     "execution_count": 13,
     "metadata": {},
     "output_type": "execute_result"
    }
   ],
   "source": [
    "X.dot(W)+B >.5"
   ]
  },
  {
   "cell_type": "code",
   "execution_count": 14,
   "id": "b3bee0e1",
   "metadata": {},
   "outputs": [
    {
     "data": {
      "text/plain": [
       "[<matplotlib.lines.Line2D at 0x2919d34dc50>]"
      ]
     },
     "execution_count": 14,
     "metadata": {},
     "output_type": "execute_result"
    },
    {
     "data": {
      "image/png": "[encoded data removed]",
      "text/plain": [
       "<Figure size 640x480 with 1 Axes>"
      ]
     },
     "metadata": {},
     "output_type": "display_data"
    }
   ],
   "source": [
    "import matplotlib.pyplot as plt\n",
    "\n",
    "plt.plot(range(len(history)), history)"
   ]
  },
  {
   "cell_type": "code",
   "execution_count": null,
   "id": "bbbd7417",
   "metadata": {},
   "outputs": [],
   "source": []
  }
 ],
 "metadata": {
  "kernelspec": {
   "display_name": "Python 3 (ipykernel)",
   "language": "python",
   "name": "python3"
  },
  "language_info": {
   "codemirror_mode": {
    "name": "ipython",
    "version": 3
   },
   "file_extension": ".py",
   "mimetype": "text/x-python",
   "name": "python",
   "nbconvert_exporter": "python",
   "pygments_lexer": "ipython3",
   "version": "3.11.5"
  }
 },
 "nbformat": 4,
 "nbformat_minor": 5
}
