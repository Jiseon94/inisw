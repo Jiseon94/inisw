{
 "cells": [
  {
   "cell_type": "code",
   "execution_count": 9,
   "id": "95116f27-f686-45da-a61c-58df0f9a5e27",
   "metadata": {},
   "outputs": [],
   "source": [
    "class FourCal():\n",
    "\n",
    "    def setdata(x,y):\n",
    "        self.x\n",
    "        self.y\n",
    "\n",
    "        def add(x,y):\n",
    "            z = x+y\n",
    "            return z\n",
    "    \n",
    "        def mul(x,y):\n",
    "            z = x*y\n",
    "            return z\n",
    "    \n",
    "        def sub(x,y):\n",
    "            z = x-y\n",
    "            return z\n",
    "    \n",
    "        def div(x,y):\n",
    "            z = x/y\n",
    "            return z\n",
    "    pass"
   ]
  },
  {
   "cell_type": "code",
   "execution_count": 10,
   "id": "3ed6f94c-d281-4384-aba7-c394ffcedfbc",
   "metadata": {},
   "outputs": [],
   "source": [
    "a = FourCal()"
   ]
  },
  {
   "cell_type": "code",
   "execution_count": 11,
   "id": "6bc42915-4bb2-4a58-9f95-bf72a7b41c1a",
   "metadata": {},
   "outputs": [
    {
     "ename": "TypeError",
     "evalue": "FourCal.setdata() takes 2 positional arguments but 3 were given",
     "output_type": "error",
     "traceback": [
      "\u001b[1;31m----------------------------------------------------------------\u001b[0m",
      "\u001b[1;31mTypeError\u001b[0m                      Traceback (most recent call last)",
      "Cell \u001b[1;32mIn[11], line 1\u001b[0m\n\u001b[1;32m----> 1\u001b[0m \u001b[43ma\u001b[49m\u001b[38;5;241;43m.\u001b[39;49m\u001b[43msetdata\u001b[49m\u001b[43m(\u001b[49m\u001b[38;5;241;43m4\u001b[39;49m\u001b[43m,\u001b[49m\u001b[38;5;241;43m2\u001b[39;49m\u001b[43m)\u001b[49m\n",
      "\u001b[1;31mTypeError\u001b[0m: FourCal.setdata() takes 2 positional arguments but 3 were given"
     ]
    }
   ],
   "source": [
    "a.setdata(4,2)"
   ]
  },
  {
   "cell_type": "code",
   "execution_count": 14,
   "id": "b47691b8-ffc5-42c8-898d-8a556610d619",
   "metadata": {},
   "outputs": [],
   "source": [
    "result = 0\n",
    "\n",
    "def add(num):\n",
    "    global result\n",
    "    result += num\n",
    "    return result"
   ]
  },
  {
   "cell_type": "code",
   "execution_count": 15,
   "id": "25cf552f-446b-4e01-a97d-169adc349487",
   "metadata": {},
   "outputs": [
    {
     "name": "stdout",
     "output_type": "stream",
     "text": [
      "3\n"
     ]
    }
   ],
   "source": [
    "print(add(3))"
   ]
  },
  {
   "cell_type": "code",
   "execution_count": null,
   "id": "9e68728d-33e2-4408-8fa5-b777f5c019c2",
   "metadata": {},
   "outputs": [],
   "source": [
    ":"
   ]
  }
 ],
 "metadata": {
  "kernelspec": {
   "display_name": "Python 3 (ipykernel)",
   "language": "python",
   "name": "python3"
  },
  "language_info": {
   "codemirror_mode": {
    "name": "ipython",
    "version": 3
   },
   "file_extension": ".py",
   "mimetype": "text/x-python",
   "name": "python",
   "nbconvert_exporter": "python",
   "pygments_lexer": "ipython3",
   "version": "3.10.1"
  }
 },
 "nbformat": 4,
 "nbformat_minor": 5
}
