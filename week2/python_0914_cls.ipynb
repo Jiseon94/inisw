{
 "cells": [
  {
   "cell_type": "code",
   "execution_count": 9,
   "id": "7e8a1013-dd9a-4e1c-88e9-894b1746a08a",
   "metadata": {},
   "outputs": [],
   "source": [
    "class A:\n",
    "    __x = 1\n",
    "\n",
    "    @property\n",
    "    def tt(self):\n",
    "        return 1"
   ]
  },
  {
   "cell_type": "code",
   "execution_count": 10,
   "id": "b6b5f4c7-6cb7-47a9-a9bb-9c5531946422",
   "metadata": {},
   "outputs": [],
   "source": [
    "a = A()"
   ]
  },
  {
   "cell_type": "code",
   "execution_count": 11,
   "id": "983829e5-9915-49ec-b05c-97540ef27f2e",
   "metadata": {},
   "outputs": [
    {
     "ename": "TypeError",
     "evalue": "'int' object is not callable",
     "output_type": "error",
     "traceback": [
      "\u001b[1;31m---------------------------------------------------------------------------\u001b[0m",
      "\u001b[1;31mTypeError\u001b[0m                                 Traceback (most recent call last)",
      "Cell \u001b[1;32mIn[11], line 1\u001b[0m\n\u001b[1;32m----> 1\u001b[0m \u001b[43ma\u001b[49m\u001b[38;5;241;43m.\u001b[39;49m\u001b[43mtt\u001b[49m\u001b[43m(\u001b[49m\u001b[43m)\u001b[49m\n",
      "\u001b[1;31mTypeError\u001b[0m: 'int' object is not callable"
     ]
    }
   ],
   "source": [
    "a.tt()"
   ]
  },
  {
   "cell_type": "code",
   "execution_count": 12,
   "id": "19aa5a56-72e9-4a6c-b165-db94e09ab55c",
   "metadata": {},
   "outputs": [
    {
     "data": {
      "text/plain": [
       "1"
      ]
     },
     "execution_count": 12,
     "metadata": {},
     "output_type": "execute_result"
    }
   ],
   "source": [
    "a.tt"
   ]
  },
  {
   "cell_type": "code",
   "execution_count": 13,
   "id": "e9605a29-a2ba-470c-9e8c-c0e7a00edaba",
   "metadata": {},
   "outputs": [],
   "source": [
    "import numpy as np"
   ]
  },
  {
   "cell_type": "code",
   "execution_count": 57,
   "id": "7378af4c-ec2f-4241-b7c4-58d6f6a499e3",
   "metadata": {},
   "outputs": [],
   "source": [
    "a = np.array([1,2,3,4])"
   ]
  },
  {
   "cell_type": "code",
   "execution_count": 58,
   "id": "e66c0dbb-2d42-401b-838a-1a445deb39ef",
   "metadata": {},
   "outputs": [
    {
     "data": {
      "text/plain": [
       "(4,)"
      ]
     },
     "execution_count": 58,
     "metadata": {},
     "output_type": "execute_result"
    }
   ],
   "source": [
    "a.shape"
   ]
  },
  {
   "cell_type": "code",
   "execution_count": 51,
   "id": "cd4b90e3-fc51-4bca-9dc0-45bde2a35a35",
   "metadata": {},
   "outputs": [],
   "source": [
    "class A:\n",
    "    __x = 1\n",
    "\n",
    "    @property\n",
    "    def x(self):\n",
    "        print('안알려줌')\n",
    "        # return A.__x\n",
    "\n",
    "    @x.setter\n",
    "    def x(self, x):\n",
    "        print('새롭게 값 할당 불가')\n",
    "        # A.__x = x"
   ]
  },
  {
   "cell_type": "code",
   "execution_count": 52,
   "id": "392573ba-c069-45bf-a074-a57423092395",
   "metadata": {},
   "outputs": [],
   "source": [
    "a = A()"
   ]
  },
  {
   "cell_type": "code",
   "execution_count": 53,
   "id": "a2a524b8-6cbb-4593-b723-b68fffe5065f",
   "metadata": {},
   "outputs": [
    {
     "name": "stdout",
     "output_type": "stream",
     "text": [
      "안알려줌\n"
     ]
    }
   ],
   "source": [
    "a.x"
   ]
  },
  {
   "cell_type": "code",
   "execution_count": 54,
   "id": "9528ac1f-22e2-46dc-ad57-5d6f5a0751a4",
   "metadata": {},
   "outputs": [
    {
     "name": "stdout",
     "output_type": "stream",
     "text": [
      "새롭게 값 할당 불가\n"
     ]
    }
   ],
   "source": [
    "a.x = 2"
   ]
  },
  {
   "cell_type": "code",
   "execution_count": 55,
   "id": "fee43400-d3e2-48a0-aed8-d4f4ce4fac8d",
   "metadata": {},
   "outputs": [
    {
     "name": "stdout",
     "output_type": "stream",
     "text": [
      "안알려줌\n"
     ]
    }
   ],
   "source": [
    "a.x"
   ]
  },
  {
   "cell_type": "code",
   "execution_count": 33,
   "id": "32748fda-1b0e-4d06-80c7-a561464dd0f2",
   "metadata": {},
   "outputs": [
    {
     "data": {
      "text/plain": [
       "<property at 0x14f4780f5b0>"
      ]
     },
     "execution_count": 33,
     "metadata": {},
     "output_type": "execute_result"
    }
   ],
   "source": [
    "A.x #외부에서 __x에 접근할 경우"
   ]
  },
  {
   "cell_type": "code",
   "execution_count": 28,
   "id": "8fbdcc48-d191-4dd9-af02-387f58e01c8e",
   "metadata": {},
   "outputs": [
    {
     "data": {
      "text/plain": [
       "1"
      ]
     },
     "execution_count": 28,
     "metadata": {},
     "output_type": "execute_result"
    }
   ],
   "source": [
    "a.x #내부에서 __x에 접근할 경우"
   ]
  },
  {
   "cell_type": "code",
   "execution_count": 59,
   "id": "5ef5bfb1-dbc3-4c3d-9200-f8f638757974",
   "metadata": {},
   "outputs": [
    {
     "data": {
      "text/plain": [
       "<memory at 0x0000014F67442C80>"
      ]
     },
     "execution_count": 59,
     "metadata": {},
     "output_type": "execute_result"
    }
   ],
   "source": [
    "a.data"
   ]
  },
  {
   "cell_type": "code",
   "execution_count": 60,
   "id": "f3c32873-dcfa-4090-a844-ce9252497c35",
   "metadata": {
    "scrolled": true
   },
   "outputs": [
    {
     "data": {
      "text/plain": [
       "['__class__',\n",
       " '__delattr__',\n",
       " '__delitem__',\n",
       " '__dir__',\n",
       " '__doc__',\n",
       " '__enter__',\n",
       " '__eq__',\n",
       " '__exit__',\n",
       " '__format__',\n",
       " '__ge__',\n",
       " '__getattribute__',\n",
       " '__getitem__',\n",
       " '__gt__',\n",
       " '__hash__',\n",
       " '__init__',\n",
       " '__init_subclass__',\n",
       " '__iter__',\n",
       " '__le__',\n",
       " '__len__',\n",
       " '__lt__',\n",
       " '__ne__',\n",
       " '__new__',\n",
       " '__reduce__',\n",
       " '__reduce_ex__',\n",
       " '__repr__',\n",
       " '__setattr__',\n",
       " '__setitem__',\n",
       " '__sizeof__',\n",
       " '__str__',\n",
       " '__subclasshook__',\n",
       " 'c_contiguous',\n",
       " 'cast',\n",
       " 'contiguous',\n",
       " 'f_contiguous',\n",
       " 'format',\n",
       " 'hex',\n",
       " 'itemsize',\n",
       " 'nbytes',\n",
       " 'ndim',\n",
       " 'obj',\n",
       " 'readonly',\n",
       " 'release',\n",
       " 'shape',\n",
       " 'strides',\n",
       " 'suboffsets',\n",
       " 'tobytes',\n",
       " 'tolist',\n",
       " 'toreadonly']"
      ]
     },
     "execution_count": 60,
     "metadata": {},
     "output_type": "execute_result"
    }
   ],
   "source": [
    "dir(a.data)"
   ]
  },
  {
   "cell_type": "code",
   "execution_count": 70,
   "id": "05613878-16e6-4716-8ab8-0d9b12697a0b",
   "metadata": {},
   "outputs": [],
   "source": [
    "a = np.arange(24).reshape(4,2,3)"
   ]
  },
  {
   "cell_type": "code",
   "execution_count": 81,
   "id": "2cc4aaa7-24c6-4bdd-b825-296989e61cc8",
   "metadata": {},
   "outputs": [
    {
     "data": {
      "text/plain": [
       "array([[[ 0,  1,  2],\n",
       "        [ 3,  4,  5]],\n",
       "\n",
       "       [[ 6,  7,  8],\n",
       "        [ 9, 10, 11]],\n",
       "\n",
       "       [[12, 13, 14],\n",
       "        [15, 16, 17]],\n",
       "\n",
       "       [[18, 19, 20],\n",
       "        [21, 22, 23]]])"
      ]
     },
     "execution_count": 81,
     "metadata": {},
     "output_type": "execute_result"
    }
   ],
   "source": [
    "a"
   ]
  },
  {
   "cell_type": "code",
   "execution_count": 72,
   "id": "98c10660-451a-45cf-85f3-2f4b1472bee9",
   "metadata": {},
   "outputs": [
    {
     "data": {
      "text/plain": [
       "(4, 2, 3)"
      ]
     },
     "execution_count": 72,
     "metadata": {},
     "output_type": "execute_result"
    }
   ],
   "source": [
    "a.shape"
   ]
  },
  {
   "cell_type": "code",
   "execution_count": 77,
   "id": "3e44039f-37b4-4f42-9fe4-19f2d901eba5",
   "metadata": {},
   "outputs": [
    {
     "data": {
      "text/plain": [
       "dtype('int32')"
      ]
     },
     "execution_count": 77,
     "metadata": {},
     "output_type": "execute_result"
    }
   ],
   "source": [
    "a.dtype"
   ]
  },
  {
   "cell_type": "code",
   "execution_count": 73,
   "id": "3fd88ef7-2e17-4dbc-bd51-a8234167b4bd",
   "metadata": {},
   "outputs": [],
   "source": [
    "import tensorflow as tf"
   ]
  },
  {
   "cell_type": "code",
   "execution_count": 76,
   "id": "df7b58c6-adcc-42f6-b18f-d8b3e927fafd",
   "metadata": {},
   "outputs": [],
   "source": [
    "(X_train,y_train),(X_text,y_test) = tf.keras.datasets.mnist.load_data()"
   ]
  },
  {
   "cell_type": "code",
   "execution_count": 78,
   "id": "169819e8-6546-404f-84c6-b483bd85fb39",
   "metadata": {},
   "outputs": [],
   "source": [
    "import pprint"
   ]
  },
  {
   "cell_type": "code",
   "execution_count": 83,
   "id": "77da5ce0-44fa-446b-a89e-731ea1fe3c9c",
   "metadata": {},
   "outputs": [],
   "source": [
    "from pprint import pprint"
   ]
  },
  {
   "cell_type": "code",
   "execution_count": 79,
   "id": "dd13b281-e17b-4899-99f6-c12f24df6438",
   "metadata": {
    "scrolled": true
   },
   "outputs": [
    {
     "data": {
      "text/plain": [
       "['PrettyPrinter',\n",
       " '_StringIO',\n",
       " '__all__',\n",
       " '__builtins__',\n",
       " '__cached__',\n",
       " '__doc__',\n",
       " '__file__',\n",
       " '__loader__',\n",
       " '__name__',\n",
       " '__package__',\n",
       " '__spec__',\n",
       " '_builtin_scalars',\n",
       " '_collections',\n",
       " '_dataclasses',\n",
       " '_perfcheck',\n",
       " '_recursion',\n",
       " '_safe_key',\n",
       " '_safe_tuple',\n",
       " '_sys',\n",
       " '_types',\n",
       " '_wrap_bytes_repr',\n",
       " 'isreadable',\n",
       " 'isrecursive',\n",
       " 'pformat',\n",
       " 'pp',\n",
       " 'pprint',\n",
       " 're',\n",
       " 'saferepr']"
      ]
     },
     "execution_count": 79,
     "metadata": {},
     "output_type": "execute_result"
    }
   ],
   "source": [
    "dir(pprint)"
   ]
  },
  {
   "cell_type": "code",
   "execution_count": 84,
   "id": "72492bd5-76e0-48f0-822c-78a273f41654",
   "metadata": {},
   "outputs": [
    {
     "name": "stdout",
     "output_type": "stream",
     "text": [
      "array([[[ 0,  1,  2],\n",
      "        [ 3,  4,  5]],\n",
      "\n",
      "       [[ 6,  7,  8],\n",
      "        [ 9, 10, 11]],\n",
      "\n",
      "       [[12, 13, 14],\n",
      "        [15, 16, 17]],\n",
      "\n",
      "       [[18, 19, 20],\n",
      "        [21, 22, 23]]])\n"
     ]
    }
   ],
   "source": [
    "pprint(a)"
   ]
  },
  {
   "cell_type": "code",
   "execution_count": 90,
   "id": "764b6740-2a67-4dc9-9da0-27767b08dcce",
   "metadata": {},
   "outputs": [
    {
     "data": {
      "text/plain": [
       "<ufunc 'add'>"
      ]
     },
     "execution_count": 90,
     "metadata": {},
     "output_type": "execute_result"
    }
   ],
   "source": [
    "np.add"
   ]
  },
  {
   "cell_type": "code",
   "execution_count": 89,
   "id": "5745a2cd-c7e2-4229-a2f0-08d92722b865",
   "metadata": {},
   "outputs": [
    {
     "data": {
      "text/plain": [
       "array([5, 7])"
      ]
     },
     "execution_count": 89,
     "metadata": {},
     "output_type": "execute_result"
    }
   ],
   "source": [
    "np.add([1,2], [4,5])"
   ]
  },
  {
   "cell_type": "code",
   "execution_count": 91,
   "id": "a97c0901-8886-4e70-84f0-f8cf2b725fbe",
   "metadata": {},
   "outputs": [],
   "source": [
    "from operator import add"
   ]
  },
  {
   "cell_type": "code",
   "execution_count": 92,
   "id": "3c319321-bc59-4eb7-8aa1-aeeefc8492ad",
   "metadata": {},
   "outputs": [
    {
     "data": {
      "text/plain": [
       "[1, 2, 4, 5]"
      ]
     },
     "execution_count": 92,
     "metadata": {},
     "output_type": "execute_result"
    }
   ],
   "source": [
    "add([1,2], [4,5])"
   ]
  },
  {
   "cell_type": "code",
   "execution_count": 93,
   "id": "d8f8221a-13bc-4567-b6bb-03e108f82d3d",
   "metadata": {},
   "outputs": [
    {
     "data": {
      "text/plain": [
       "<function _operator.add(a, b, /)>"
      ]
     },
     "execution_count": 93,
     "metadata": {},
     "output_type": "execute_result"
    }
   ],
   "source": [
    "add"
   ]
  },
  {
   "cell_type": "code",
   "execution_count": 94,
   "id": "a83ba29f-cd81-4f3d-9af5-68423677fcc0",
   "metadata": {},
   "outputs": [],
   "source": [
    "a = np.array([1,2,3])\n",
    "b = np.array([1,2,3])"
   ]
  },
  {
   "cell_type": "code",
   "execution_count": 95,
   "id": "4ac94ea8-ef71-4f56-9624-abbe69c8f2b0",
   "metadata": {},
   "outputs": [
    {
     "data": {
      "text/plain": [
       "array([1, 4, 9])"
      ]
     },
     "execution_count": 95,
     "metadata": {},
     "output_type": "execute_result"
    }
   ],
   "source": [
    "a*b"
   ]
  },
  {
   "cell_type": "code",
   "execution_count": 96,
   "id": "8d168474-0a75-4e3d-9303-971a6669d13f",
   "metadata": {},
   "outputs": [
    {
     "data": {
      "text/plain": [
       "14"
      ]
     },
     "execution_count": 96,
     "metadata": {},
     "output_type": "execute_result"
    }
   ],
   "source": [
    "a@b #1,4,9 더한 값이다. inner product 내적 이라고 한다... 수학에서..."
   ]
  },
  {
   "cell_type": "code",
   "execution_count": 97,
   "id": "67325f0a-4dea-4346-9adc-19f700b41d6f",
   "metadata": {},
   "outputs": [
    {
     "data": {
      "text/plain": [
       "14"
      ]
     },
     "execution_count": 97,
     "metadata": {},
     "output_type": "execute_result"
    }
   ],
   "source": [
    "np.dot(a,b)"
   ]
  },
  {
   "cell_type": "code",
   "execution_count": 98,
   "id": "d4dc2b2a-be2f-4dc3-9930-bb4b90eda4c4",
   "metadata": {},
   "outputs": [
    {
     "data": {
      "text/plain": [
       "14"
      ]
     },
     "execution_count": 98,
     "metadata": {},
     "output_type": "execute_result"
    }
   ],
   "source": [
    "a.dot(b)"
   ]
  },
  {
   "cell_type": "code",
   "execution_count": 99,
   "id": "4a2f8a1d-0f93-4de0-9617-f3885a5cff1b",
   "metadata": {},
   "outputs": [],
   "source": [
    "# 왜 같을까? a.dot(b)가 존재하면 function 이 존재할 수 있으니까. np.dot(a,b) 이 존재하는거다. \n",
    "# 함수형 패러다임 잘 쓰려면 , 함수 잘 써야하고, 함수의 존재를 잘 알아야 한다."
   ]
  },
  {
   "cell_type": "code",
   "execution_count": 101,
   "id": "70b8664a-053d-44a4-9a82-476f9befff08",
   "metadata": {},
   "outputs": [],
   "source": [
    "aa = np.array([[1,2,],[4,5,]])\n",
    "bb = np.array([[1,2,],[4,5,]])"
   ]
  },
  {
   "cell_type": "code",
   "execution_count": 102,
   "id": "dc81e780-3cba-4a8f-be78-0f9a5bbff1be",
   "metadata": {},
   "outputs": [
    {
     "data": {
      "text/plain": [
       "array([[ 1,  4],\n",
       "       [16, 25]])"
      ]
     },
     "execution_count": 102,
     "metadata": {},
     "output_type": "execute_result"
    }
   ],
   "source": [
    "aa*bb"
   ]
  },
  {
   "cell_type": "code",
   "execution_count": 103,
   "id": "308ed4fd-66be-4589-a9ef-56aea00399fe",
   "metadata": {},
   "outputs": [
    {
     "data": {
      "text/plain": [
       "array([[ 9, 12],\n",
       "       [24, 33]])"
      ]
     },
     "execution_count": 103,
     "metadata": {},
     "output_type": "execute_result"
    }
   ],
   "source": [
    "aa@bb"
   ]
  },
  {
   "cell_type": "code",
   "execution_count": 104,
   "id": "960530a4-15af-4b01-afd5-271db2361241",
   "metadata": {},
   "outputs": [],
   "source": [
    "a=np.array([1,2,3,4])\n",
    "bb=np.array([1,2,3,])"
   ]
  },
  {
   "cell_type": "code",
   "execution_count": 105,
   "id": "a86275d9-cc72-446a-a4e1-54522ebf67de",
   "metadata": {},
   "outputs": [
    {
     "ename": "ValueError",
     "evalue": "operands could not be broadcast together with shapes (4,) (3,) ",
     "output_type": "error",
     "traceback": [
      "\u001b[1;31m---------------------------------------------------------------------------\u001b[0m",
      "\u001b[1;31mValueError\u001b[0m                                Traceback (most recent call last)",
      "Cell \u001b[1;32mIn[105], line 1\u001b[0m\n\u001b[1;32m----> 1\u001b[0m \u001b[43ma\u001b[49m\u001b[38;5;241;43m+\u001b[39;49m\u001b[43mbb\u001b[49m\n",
      "\u001b[1;31mValueError\u001b[0m: operands could not be broadcast together with shapes (4,) (3,) "
     ]
    }
   ],
   "source": [
    "a+bb"
   ]
  },
  {
   "cell_type": "code",
   "execution_count": 106,
   "id": "dda4a17e-d360-4203-b0c5-1aa96bc029ab",
   "metadata": {},
   "outputs": [
    {
     "data": {
      "text/plain": [
       "array([1, 2, 3, 4])"
      ]
     },
     "execution_count": 106,
     "metadata": {},
     "output_type": "execute_result"
    }
   ],
   "source": [
    "a"
   ]
  },
  {
   "cell_type": "code",
   "execution_count": 107,
   "id": "798b2e83-ccf3-47db-aad8-bf74535efa64",
   "metadata": {},
   "outputs": [
    {
     "data": {
      "text/plain": [
       "array([2, 3, 4, 5])"
      ]
     },
     "execution_count": 107,
     "metadata": {},
     "output_type": "execute_result"
    }
   ],
   "source": [
    "a+1"
   ]
  },
  {
   "cell_type": "code",
   "execution_count": 108,
   "id": "ea788b01-ed29-4577-b989-cf67cac511b0",
   "metadata": {},
   "outputs": [
    {
     "data": {
      "text/plain": [
       "array([False, False,  True,  True])"
      ]
     },
     "execution_count": 108,
     "metadata": {},
     "output_type": "execute_result"
    }
   ],
   "source": [
    "a>2"
   ]
  },
  {
   "cell_type": "code",
   "execution_count": 109,
   "id": "8d3ebb52-67a5-4518-89fb-051e1e44f25a",
   "metadata": {},
   "outputs": [],
   "source": [
    "c = [1,2,3]"
   ]
  },
  {
   "cell_type": "code",
   "execution_count": 110,
   "id": "a0ad6c1e-10dc-462c-a1c4-d9f6a010309a",
   "metadata": {},
   "outputs": [],
   "source": [
    "d = c"
   ]
  },
  {
   "cell_type": "code",
   "execution_count": 111,
   "id": "98dc0404-f76c-43ee-9487-1bf5ef892fd1",
   "metadata": {},
   "outputs": [],
   "source": [
    "d[0] =100"
   ]
  },
  {
   "cell_type": "code",
   "execution_count": 112,
   "id": "76a8e3e3-0561-4a1f-bf0e-8f3c022f92c2",
   "metadata": {},
   "outputs": [
    {
     "data": {
      "text/plain": [
       "[100, 2, 3]"
      ]
     },
     "execution_count": 112,
     "metadata": {},
     "output_type": "execute_result"
    }
   ],
   "source": [
    "c"
   ]
  },
  {
   "cell_type": "code",
   "execution_count": 113,
   "id": "ca774103-3c2f-4e44-963c-4f639f88c59d",
   "metadata": {},
   "outputs": [
    {
     "data": {
      "text/plain": [
       "1440728096320"
      ]
     },
     "execution_count": 113,
     "metadata": {},
     "output_type": "execute_result"
    }
   ],
   "source": [
    "id(c)"
   ]
  },
  {
   "cell_type": "code",
   "execution_count": 114,
   "id": "c66016d7-25b8-4b3f-9100-3a533ed3afb9",
   "metadata": {},
   "outputs": [
    {
     "data": {
      "text/plain": [
       "1440728096320"
      ]
     },
     "execution_count": 114,
     "metadata": {},
     "output_type": "execute_result"
    }
   ],
   "source": [
    "id(d)"
   ]
  },
  {
   "cell_type": "code",
   "execution_count": 115,
   "id": "958247f7-cb70-41e1-9ad1-d48e41385618",
   "metadata": {},
   "outputs": [],
   "source": [
    "c = [1,2,3]\n",
    "d = c\n",
    "d[0] = 100"
   ]
  },
  {
   "cell_type": "code",
   "execution_count": 116,
   "id": "e6ef394b-10ce-4a24-a9bf-b6f1d9b02ea2",
   "metadata": {},
   "outputs": [],
   "source": [
    "e=[1,2,3]\n",
    "f = e[:]\n",
    "f[0] = 100"
   ]
  },
  {
   "cell_type": "code",
   "execution_count": 117,
   "id": "314a140c-7bf9-477d-83ee-9cb99490dead",
   "metadata": {},
   "outputs": [
    {
     "data": {
      "text/plain": [
       "[1, 2, 3]"
      ]
     },
     "execution_count": 117,
     "metadata": {},
     "output_type": "execute_result"
    }
   ],
   "source": [
    "e"
   ]
  },
  {
   "cell_type": "code",
   "execution_count": 118,
   "id": "8bbbf940-d810-414f-97f2-822dd72071b1",
   "metadata": {},
   "outputs": [
    {
     "data": {
      "text/plain": [
       "1440727331520"
      ]
     },
     "execution_count": 118,
     "metadata": {},
     "output_type": "execute_result"
    }
   ],
   "source": [
    "id(e)"
   ]
  },
  {
   "cell_type": "code",
   "execution_count": 119,
   "id": "2ec5d664-64d5-466e-aff5-5b8d1c757e04",
   "metadata": {},
   "outputs": [
    {
     "data": {
      "text/plain": [
       "1440728341312"
      ]
     },
     "execution_count": 119,
     "metadata": {},
     "output_type": "execute_result"
    }
   ],
   "source": [
    "id(f)"
   ]
  },
  {
   "cell_type": "code",
   "execution_count": 123,
   "id": "d31084d8-9eb1-4ec5-abc5-a4cfc150d894",
   "metadata": {},
   "outputs": [],
   "source": [
    "cc = [[1,2], [3,4]]\n",
    "dd = cc\n",
    "dd[0][0] = 100"
   ]
  },
  {
   "cell_type": "code",
   "execution_count": 124,
   "id": "dce3e78b-1023-4b5b-9b54-f80ce42536ab",
   "metadata": {},
   "outputs": [
    {
     "data": {
      "text/plain": [
       "[[100, 2], [3, 4]]"
      ]
     },
     "execution_count": 124,
     "metadata": {},
     "output_type": "execute_result"
    }
   ],
   "source": [
    "cc"
   ]
  },
  {
   "cell_type": "code",
   "execution_count": 130,
   "id": "8c58a3e0-9af1-41c9-aaec-96845faad1c3",
   "metadata": {},
   "outputs": [],
   "source": [
    "cc = [[1,2], [3,4]]\n",
    "dd = cc[:]\n",
    "dd[0][0] = 100"
   ]
  },
  {
   "cell_type": "code",
   "execution_count": 131,
   "id": "1d9b2a95-28de-428d-8b96-5097ece75681",
   "metadata": {},
   "outputs": [
    {
     "data": {
      "text/plain": [
       "[[100, 2], [3, 4]]"
      ]
     },
     "execution_count": 131,
     "metadata": {},
     "output_type": "execute_result"
    }
   ],
   "source": [
    "cc"
   ]
  },
  {
   "cell_type": "code",
   "execution_count": 133,
   "id": "1f94767f-d0b4-45f9-9aaf-c3190c778d0a",
   "metadata": {},
   "outputs": [],
   "source": [
    "import copy"
   ]
  },
  {
   "cell_type": "code",
   "execution_count": 134,
   "id": "2d8178a6-999e-441c-91af-68a2eeee3946",
   "metadata": {},
   "outputs": [],
   "source": [
    "cc = [[1,2], [3,4]]\n",
    "dd = copy.deepcopy(cc)\n",
    "dd[0][0] = 100"
   ]
  },
  {
   "cell_type": "code",
   "execution_count": 135,
   "id": "5200d0c0-a3b7-40c7-9a64-887a8a7aa74b",
   "metadata": {},
   "outputs": [
    {
     "data": {
      "text/plain": [
       "[[1, 2], [3, 4]]"
      ]
     },
     "execution_count": 135,
     "metadata": {},
     "output_type": "execute_result"
    }
   ],
   "source": [
    "cc"
   ]
  },
  {
   "cell_type": "code",
   "execution_count": 136,
   "id": "b82607b3-4f8a-4659-b562-a4c1d0c3e1a7",
   "metadata": {},
   "outputs": [
    {
     "data": {
      "text/plain": [
       "Ellipsis"
      ]
     },
     "execution_count": 136,
     "metadata": {},
     "output_type": "execute_result"
    }
   ],
   "source": [
    "..."
   ]
  },
  {
   "cell_type": "code",
   "execution_count": 137,
   "id": "3d39fa92-a74e-4a6d-b254-f6ad3730b02e",
   "metadata": {},
   "outputs": [
    {
     "data": {
      "text/plain": [
       "ellipsis"
      ]
     },
     "execution_count": 137,
     "metadata": {},
     "output_type": "execute_result"
    }
   ],
   "source": [
    "type(...)"
   ]
  },
  {
   "cell_type": "code",
   "execution_count": 138,
   "id": "43ff8d95-2f8a-4894-895f-66db776c8087",
   "metadata": {
    "scrolled": true
   },
   "outputs": [
    {
     "data": {
      "text/plain": [
       "['__class__',\n",
       " '__delattr__',\n",
       " '__dir__',\n",
       " '__doc__',\n",
       " '__eq__',\n",
       " '__format__',\n",
       " '__ge__',\n",
       " '__getattribute__',\n",
       " '__gt__',\n",
       " '__hash__',\n",
       " '__init__',\n",
       " '__init_subclass__',\n",
       " '__le__',\n",
       " '__lt__',\n",
       " '__ne__',\n",
       " '__new__',\n",
       " '__reduce__',\n",
       " '__reduce_ex__',\n",
       " '__repr__',\n",
       " '__setattr__',\n",
       " '__sizeof__',\n",
       " '__str__',\n",
       " '__subclasshook__']"
      ]
     },
     "execution_count": 138,
     "metadata": {},
     "output_type": "execute_result"
    }
   ],
   "source": [
    "dir(...)"
   ]
  },
  {
   "cell_type": "code",
   "execution_count": null,
   "id": "ba38bb43-b2d3-4e53-b89c-ed41cf890f91",
   "metadata": {},
   "outputs": [],
   "source": []
  }
 ],
 "metadata": {
  "kernelspec": {
   "display_name": "Python 3 (ipykernel)",
   "language": "python",
   "name": "python3"
  },
  "language_info": {
   "codemirror_mode": {
    "name": "ipython",
    "version": 3
   },
   "file_extension": ".py",
   "mimetype": "text/x-python",
   "name": "python",
   "nbconvert_exporter": "python",
   "pygments_lexer": "ipython3",
   "version": "3.10.1"
  }
 },
 "nbformat": 4,
 "nbformat_minor": 5
}
