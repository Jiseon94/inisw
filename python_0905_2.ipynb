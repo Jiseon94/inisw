{
 "cells": [
  {
   "cell_type": "code",
   "execution_count": 1,
   "id": "72a10675-806e-4a36-b083-a7371794ae55",
   "metadata": {},
   "outputs": [],
   "source": [
    "def z(a,*,b):  # * 다음 키워드 방식 keyword-only\n",
    "    return a+b"
   ]
  },
  {
   "cell_type": "code",
   "execution_count": 2,
   "id": "39885abf-fcbd-4027-80f6-f16cef7735c8",
   "metadata": {},
   "outputs": [],
   "source": [
    "def h(a,/,b):  # / 앞에 포지셔널 방식 positional-only\n",
    "    return a+b"
   ]
  },
  {
   "cell_type": "code",
   "execution_count": 4,
   "id": "413d1f65-e93e-4396-b89a-7784a01ffd7a",
   "metadata": {},
   "outputs": [
    {
     "data": {
      "text/plain": [
       "7"
      ]
     },
     "execution_count": 4,
     "metadata": {},
     "output_type": "execute_result"
    }
   ],
   "source": [
    "h(3, b=4)"
   ]
  },
  {
   "cell_type": "code",
   "execution_count": 5,
   "id": "a2e9a561-9b3f-41c4-a2dd-81b871a91997",
   "metadata": {},
   "outputs": [
    {
     "data": {
      "text/plain": [
       "7"
      ]
     },
     "execution_count": 5,
     "metadata": {},
     "output_type": "execute_result"
    }
   ],
   "source": [
    "h(3,4)"
   ]
  },
  {
   "cell_type": "code",
   "execution_count": 6,
   "id": "39182143-bd51-4db9-a295-e5ec91bf6811",
   "metadata": {},
   "outputs": [],
   "source": [
    "a, *b = 1, 2, 3"
   ]
  },
  {
   "cell_type": "code",
   "execution_count": 7,
   "id": "34db9120-943b-423f-9175-5bde46245745",
   "metadata": {},
   "outputs": [],
   "source": [
    "def k(*a):  # 가변 positional : 개수에 상관없이 사용가능\n",
    "    return a"
   ]
  },
  {
   "cell_type": "code",
   "execution_count": 8,
   "id": "2a4c740e-44bb-4bb4-9afd-50479034b24a",
   "metadata": {},
   "outputs": [
    {
     "data": {
      "text/plain": [
       "()"
      ]
     },
     "execution_count": 8,
     "metadata": {},
     "output_type": "execute_result"
    }
   ],
   "source": [
    "k()"
   ]
  },
  {
   "cell_type": "code",
   "execution_count": 9,
   "id": "41ac5a42-b3e6-4736-a8f0-4419c72038b6",
   "metadata": {},
   "outputs": [
    {
     "data": {
      "text/plain": [
       "(1,)"
      ]
     },
     "execution_count": 9,
     "metadata": {},
     "output_type": "execute_result"
    }
   ],
   "source": [
    "k(1)"
   ]
  },
  {
   "cell_type": "code",
   "execution_count": 10,
   "id": "b10412c5-6724-447e-a02f-79c13d7ad0c1",
   "metadata": {},
   "outputs": [
    {
     "data": {
      "text/plain": [
       "(3, 4)"
      ]
     },
     "execution_count": 10,
     "metadata": {},
     "output_type": "execute_result"
    }
   ],
   "source": [
    "k(3,4)"
   ]
  },
  {
   "cell_type": "code",
   "execution_count": 11,
   "id": "e86891bc-d3ef-4b1b-8654-f381f3f9b568",
   "metadata": {},
   "outputs": [],
   "source": [
    "def j(**a):\n",
    "    return a"
   ]
  },
  {
   "cell_type": "code",
   "execution_count": 12,
   "id": "068c4e29-53fb-48eb-af91-e02f2612c7a0",
   "metadata": {},
   "outputs": [
    {
     "data": {
      "text/plain": [
       "{}"
      ]
     },
     "execution_count": 12,
     "metadata": {},
     "output_type": "execute_result"
    }
   ],
   "source": [
    "j()"
   ]
  },
  {
   "cell_type": "code",
   "execution_count": 13,
   "id": "11e116c9-b915-4738-a726-3f59aea291b2",
   "metadata": {},
   "outputs": [
    {
     "data": {
      "text/plain": [
       "{'a': 1}"
      ]
     },
     "execution_count": 13,
     "metadata": {},
     "output_type": "execute_result"
    }
   ],
   "source": [
    "j(a=1)"
   ]
  },
  {
   "cell_type": "code",
   "execution_count": 14,
   "id": "7a3e9918-d187-4880-8cc3-7225e8630435",
   "metadata": {},
   "outputs": [
    {
     "data": {
      "text/plain": [
       "{'a': 1, 'b': 2}"
      ]
     },
     "execution_count": 14,
     "metadata": {},
     "output_type": "execute_result"
    }
   ],
   "source": [
    "j(a=1, b=2)"
   ]
  },
  {
   "cell_type": "code",
   "execution_count": null,
   "id": "bcf097d2-a8f6-40ee-a3ee-07a2070b3882",
   "metadata": {},
   "outputs": [],
   "source": []
  },
  {
   "cell_type": "code",
   "execution_count": null,
   "id": "a051dee4-a0f1-40b9-945a-3e8c4cea33c7",
   "metadata": {},
   "outputs": [],
   "source": []
  },
  {
   "cell_type": "code",
   "execution_count": null,
   "id": "bb50f970-cfee-46f3-b4c4-5a222d913bb4",
   "metadata": {},
   "outputs": [],
   "source": []
  }
 ],
 "metadata": {
  "kernelspec": {
   "display_name": "Python 3 (ipykernel)",
   "language": "python",
   "name": "python3"
  },
  "language_info": {
   "codemirror_mode": {
    "name": "ipython",
    "version": 3
   },
   "file_extension": ".py",
   "mimetype": "text/x-python",
   "name": "python",
   "nbconvert_exporter": "python",
   "pygments_lexer": "ipython3",
   "version": "3.10.1"
  }
 },
 "nbformat": 4,
 "nbformat_minor": 5
}
