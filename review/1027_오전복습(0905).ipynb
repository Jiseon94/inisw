{
 "cells": [
  {
   "cell_type": "code",
   "execution_count": 1,
   "id": "206a3072",
   "metadata": {},
   "outputs": [],
   "source": [
    "import sqlite3"
   ]
  },
  {
   "cell_type": "code",
   "execution_count": 14,
   "id": "16388b9b",
   "metadata": {},
   "outputs": [],
   "source": [
    "con = sqlite3.connect(':memory:')"
   ]
  },
  {
   "cell_type": "code",
   "execution_count": 15,
   "id": "f346efc8",
   "metadata": {},
   "outputs": [],
   "source": [
    "cur = con.cursor()"
   ]
  },
  {
   "cell_type": "code",
   "execution_count": 16,
   "id": "46304a30",
   "metadata": {},
   "outputs": [
    {
     "data": {
      "text/plain": [
       "sqlite3.Cursor"
      ]
     },
     "execution_count": 16,
     "metadata": {},
     "output_type": "execute_result"
    }
   ],
   "source": [
    "type(cur)"
   ]
  },
  {
   "cell_type": "code",
   "execution_count": 17,
   "id": "29618115",
   "metadata": {},
   "outputs": [
    {
     "data": {
      "text/plain": [
       "['__class__',\n",
       " '__delattr__',\n",
       " '__dir__',\n",
       " '__doc__',\n",
       " '__eq__',\n",
       " '__format__',\n",
       " '__ge__',\n",
       " '__getattribute__',\n",
       " '__getstate__',\n",
       " '__gt__',\n",
       " '__hash__',\n",
       " '__init__',\n",
       " '__init_subclass__',\n",
       " '__iter__',\n",
       " '__le__',\n",
       " '__lt__',\n",
       " '__module__',\n",
       " '__ne__',\n",
       " '__new__',\n",
       " '__next__',\n",
       " '__reduce__',\n",
       " '__reduce_ex__',\n",
       " '__repr__',\n",
       " '__setattr__',\n",
       " '__sizeof__',\n",
       " '__str__',\n",
       " '__subclasshook__',\n",
       " 'arraysize',\n",
       " 'close',\n",
       " 'connection',\n",
       " 'description',\n",
       " 'execute',\n",
       " 'executemany',\n",
       " 'executescript',\n",
       " 'fetchall',\n",
       " 'fetchmany',\n",
       " 'fetchone',\n",
       " 'lastrowid',\n",
       " 'row_factory',\n",
       " 'rowcount',\n",
       " 'setinputsizes',\n",
       " 'setoutputsize']"
      ]
     },
     "execution_count": 17,
     "metadata": {},
     "output_type": "execute_result"
    }
   ],
   "source": [
    "dir(cur)"
   ]
  },
  {
   "cell_type": "code",
   "execution_count": 8,
   "id": "23842e2e",
   "metadata": {},
   "outputs": [],
   "source": [
    "con.close()"
   ]
  },
  {
   "cell_type": "code",
   "execution_count": 9,
   "id": "a39ea697",
   "metadata": {},
   "outputs": [
    {
     "data": {
      "text/plain": [
       "(2, 6, 0)"
      ]
     },
     "execution_count": 9,
     "metadata": {},
     "output_type": "execute_result"
    }
   ],
   "source": [
    "sqlite3.version_info"
   ]
  },
  {
   "cell_type": "code",
   "execution_count": 10,
   "id": "b0bd4a50",
   "metadata": {},
   "outputs": [
    {
     "data": {
      "text/plain": [
       "'2.6.0'"
      ]
     },
     "execution_count": 10,
     "metadata": {},
     "output_type": "execute_result"
    }
   ],
   "source": [
    "sqlite3.version"
   ]
  },
  {
   "cell_type": "code",
   "execution_count": 11,
   "id": "00beda10",
   "metadata": {},
   "outputs": [
    {
     "data": {
      "text/plain": [
       "(3, 41, 2)"
      ]
     },
     "execution_count": 11,
     "metadata": {},
     "output_type": "execute_result"
    }
   ],
   "source": [
    "sqlite3.sqlite_version_info"
   ]
  },
  {
   "cell_type": "code",
   "execution_count": 12,
   "id": "b3356597",
   "metadata": {},
   "outputs": [
    {
     "data": {
      "text/plain": [
       "'3.41.2'"
      ]
     },
     "execution_count": 12,
     "metadata": {},
     "output_type": "execute_result"
    }
   ],
   "source": [
    "sqlite3.sqlite_version"
   ]
  },
  {
   "cell_type": "code",
   "execution_count": 13,
   "id": "a98be00e",
   "metadata": {},
   "outputs": [
    {
     "ename": "AttributeError",
     "evalue": "module 'sqlite3' has no attribute 'sqlite3'",
     "output_type": "error",
     "traceback": [
      "\u001b[1;31m---------------------------------------------------------------------------\u001b[0m",
      "\u001b[1;31mAttributeError\u001b[0m                            Traceback (most recent call last)",
      "Cell \u001b[1;32mIn[13], line 1\u001b[0m\n\u001b[1;32m----> 1\u001b[0m sqlite3\u001b[38;5;241m.\u001b[39msqlite3\n",
      "File \u001b[1;32m~\\anaconda3\\Lib\\sqlite3\\__init__.py:71\u001b[0m, in \u001b[0;36m__getattr__\u001b[1;34m(name)\u001b[0m\n\u001b[0;32m     69\u001b[0m     warnings\u001b[38;5;241m.\u001b[39mwarn(msg, \u001b[38;5;167;01mDeprecationWarning\u001b[39;00m, stacklevel\u001b[38;5;241m=\u001b[39m\u001b[38;5;241m2\u001b[39m)\n\u001b[0;32m     70\u001b[0m     \u001b[38;5;28;01mreturn\u001b[39;00m \u001b[38;5;28mstr\u001b[39m\n\u001b[1;32m---> 71\u001b[0m \u001b[38;5;28;01mraise\u001b[39;00m \u001b[38;5;167;01mAttributeError\u001b[39;00m(\u001b[38;5;124mf\u001b[39m\u001b[38;5;124m\"\u001b[39m\u001b[38;5;124mmodule \u001b[39m\u001b[38;5;124m'\u001b[39m\u001b[38;5;124msqlite3\u001b[39m\u001b[38;5;124m'\u001b[39m\u001b[38;5;124m has no attribute \u001b[39m\u001b[38;5;124m'\u001b[39m\u001b[38;5;132;01m{\u001b[39;00mname\u001b[38;5;132;01m}\u001b[39;00m\u001b[38;5;124m'\u001b[39m\u001b[38;5;124m\"\u001b[39m)\n",
      "\u001b[1;31mAttributeError\u001b[0m: module 'sqlite3' has no attribute 'sqlite3'"
     ]
    }
   ],
   "source": [
    "sqlite3.sqlite3"
   ]
  },
  {
   "cell_type": "code",
   "execution_count": 18,
   "id": "0dcb4def",
   "metadata": {},
   "outputs": [
    {
     "ename": "OperationalError",
     "evalue": "near \"SQL\": syntax error",
     "output_type": "error",
     "traceback": [
      "\u001b[1;31m---------------------------------------------------------------------------\u001b[0m",
      "\u001b[1;31mOperationalError\u001b[0m                          Traceback (most recent call last)",
      "Cell \u001b[1;32mIn[18], line 1\u001b[0m\n\u001b[1;32m----> 1\u001b[0m cur\u001b[38;5;241m.\u001b[39mexecute(\u001b[38;5;124m'\u001b[39m\u001b[38;5;124mSQL\u001b[39m\u001b[38;5;124m'\u001b[39m)\n",
      "\u001b[1;31mOperationalError\u001b[0m: near \"SQL\": syntax error"
     ]
    }
   ],
   "source": [
    "cur.execute('SQL')"
   ]
  },
  {
   "cell_type": "code",
   "execution_count": 19,
   "id": "877c9189",
   "metadata": {},
   "outputs": [
    {
     "data": {
      "text/plain": [
       "<sqlite3.Cursor at 0x16feb501940>"
      ]
     },
     "execution_count": 19,
     "metadata": {},
     "output_type": "execute_result"
    }
   ],
   "source": [
    "cur.execute('''\n",
    "    CREATE TABLE CITY (\n",
    "        CNO INTEGER PRIMARY KEY,\n",
    "        CNAME TEXT\n",
    "    )\n",
    "''')"
   ]
  },
  {
   "cell_type": "code",
   "execution_count": 20,
   "id": "2118467b",
   "metadata": {},
   "outputs": [
    {
     "data": {
      "text/plain": [
       "<sqlite3.Cursor at 0x16feb501940>"
      ]
     },
     "execution_count": 20,
     "metadata": {},
     "output_type": "execute_result"
    }
   ],
   "source": [
    "cur.execute('''\n",
    "    INSERT INTO CITY(CNO, CNAME)\n",
    "    VALUES(1, \"NewYork\");\n",
    "''')"
   ]
  },
  {
   "cell_type": "code",
   "execution_count": 21,
   "id": "9fba2b28",
   "metadata": {},
   "outputs": [
    {
     "data": {
      "text/plain": [
       "<sqlite3.Cursor at 0x16feb501940>"
      ]
     },
     "execution_count": 21,
     "metadata": {},
     "output_type": "execute_result"
    }
   ],
   "source": [
    "cur.execute('''\n",
    "    INSERT INTO CITY\n",
    "    VALUES (2, \"Busan\")\n",
    "''')"
   ]
  },
  {
   "cell_type": "code",
   "execution_count": 39,
   "id": "6e852e87",
   "metadata": {},
   "outputs": [
    {
     "data": {
      "text/plain": [
       "<sqlite3.Cursor at 0x16feb501940>"
      ]
     },
     "execution_count": 39,
     "metadata": {},
     "output_type": "execute_result"
    }
   ],
   "source": [
    "cur.execute('''\n",
    "    INSERT INTO CITY (CNAME)\n",
    "    VALUES (\"Tokyo\")\n",
    "''')"
   ]
  },
  {
   "cell_type": "code",
   "execution_count": 47,
   "id": "151fb28a",
   "metadata": {},
   "outputs": [
    {
     "data": {
      "text/plain": [
       "<sqlite3.Cursor at 0x16feb501940>"
      ]
     },
     "execution_count": 47,
     "metadata": {},
     "output_type": "execute_result"
    }
   ],
   "source": [
    "cur.execute('''\n",
    "    SELECT * FROM CITY\n",
    "''')"
   ]
  },
  {
   "cell_type": "code",
   "execution_count": 50,
   "id": "d214c29a",
   "metadata": {},
   "outputs": [
    {
     "data": {
      "text/plain": [
       "[]"
      ]
     },
     "execution_count": 50,
     "metadata": {},
     "output_type": "execute_result"
    }
   ],
   "source": [
    "cur.fetchall()"
   ]
  },
  {
   "cell_type": "code",
   "execution_count": 32,
   "id": "7c67e197",
   "metadata": {},
   "outputs": [
    {
     "data": {
      "text/plain": [
       "(1, 'NewYork')"
      ]
     },
     "execution_count": 32,
     "metadata": {},
     "output_type": "execute_result"
    }
   ],
   "source": [
    "cur.fetchone()"
   ]
  },
  {
   "cell_type": "code",
   "execution_count": 49,
   "id": "46d37eb8",
   "metadata": {},
   "outputs": [
    {
     "data": {
      "text/plain": [
       "<sqlite3.Cursor at 0x16feb501940>"
      ]
     },
     "execution_count": 49,
     "metadata": {},
     "output_type": "execute_result"
    }
   ],
   "source": [
    "cur.execute('''\n",
    "    INSERT INTO CITY\n",
    "    VALUES(NULL, 'Moscow')\n",
    "''')"
   ]
  },
  {
   "cell_type": "code",
   "execution_count": 46,
   "id": "e2a982ab",
   "metadata": {},
   "outputs": [],
   "source": [
    "cur.fetchone()"
   ]
  },
  {
   "cell_type": "code",
   "execution_count": 55,
   "id": "e5057f6c",
   "metadata": {},
   "outputs": [
    {
     "data": {
      "text/plain": [
       "<sqlite3.Cursor at 0x16feb501940>"
      ]
     },
     "execution_count": 55,
     "metadata": {},
     "output_type": "execute_result"
    }
   ],
   "source": [
    "cur.execute('SELECT * FROM CITY')"
   ]
  },
  {
   "cell_type": "code",
   "execution_count": 56,
   "id": "afbc03e3",
   "metadata": {},
   "outputs": [
    {
     "data": {
      "text/plain": [
       "[(1, 'NewYork'),\n",
       " (2, 'Busan'),\n",
       " (3, 'Tokyo'),\n",
       " (4, 'Moscow'),\n",
       " (5, 'Moscow'),\n",
       " (6, 'Moscow'),\n",
       " (7, 'Tokyo'),\n",
       " (8, 'Moscow'),\n",
       " (9, 'Moscow'),\n",
       " (10, 'Paris')]"
      ]
     },
     "execution_count": 56,
     "metadata": {},
     "output_type": "execute_result"
    }
   ],
   "source": [
    "cur.fetchall()"
   ]
  },
  {
   "cell_type": "code",
   "execution_count": 54,
   "id": "1167a8d9",
   "metadata": {},
   "outputs": [
    {
     "data": {
      "text/plain": [
       "<sqlite3.Cursor at 0x16feb501940>"
      ]
     },
     "execution_count": 54,
     "metadata": {},
     "output_type": "execute_result"
    }
   ],
   "source": [
    "cur.execute('INSERT INTO CITY VALUES(NULL, \"Paris\")')"
   ]
  },
  {
   "cell_type": "code",
   "execution_count": 57,
   "id": "876e7392",
   "metadata": {},
   "outputs": [
    {
     "data": {
      "text/plain": [
       "<sqlite3.Cursor at 0x16feb501940>"
      ]
     },
     "execution_count": 57,
     "metadata": {},
     "output_type": "execute_result"
    }
   ],
   "source": [
    "cur.execute('''\n",
    "    CREATE TABLE TEMP(\n",
    "        PK INTEGER NOT NULL UNIQUE,\n",
    "        NAME CHAR(5) NOT NULL\n",
    "    )\n",
    "''')"
   ]
  },
  {
   "cell_type": "code",
   "execution_count": 59,
   "id": "5546d67b",
   "metadata": {},
   "outputs": [
    {
     "data": {
      "text/plain": [
       "<sqlite3.Cursor at 0x16feb501940>"
      ]
     },
     "execution_count": 59,
     "metadata": {},
     "output_type": "execute_result"
    }
   ],
   "source": [
    "cur.execute('INSERT INTO TEMP VALUES(1, \"ABCDEFG\")')"
   ]
  },
  {
   "cell_type": "code",
   "execution_count": 60,
   "id": "37488d71",
   "metadata": {},
   "outputs": [
    {
     "data": {
      "text/plain": [
       "<sqlite3.Cursor at 0x16feb501940>"
      ]
     },
     "execution_count": 60,
     "metadata": {},
     "output_type": "execute_result"
    }
   ],
   "source": [
    "cur.execute('SELECT * FROM TEMP')"
   ]
  },
  {
   "cell_type": "code",
   "execution_count": 61,
   "id": "cd256663",
   "metadata": {},
   "outputs": [
    {
     "data": {
      "text/plain": [
       "[(1, 'ABCDEFG')]"
      ]
     },
     "execution_count": 61,
     "metadata": {},
     "output_type": "execute_result"
    }
   ],
   "source": [
    "cur.fetchall()"
   ]
  },
  {
   "cell_type": "code",
   "execution_count": 62,
   "id": "7251bb32",
   "metadata": {},
   "outputs": [
    {
     "data": {
      "text/plain": [
       "<sqlite3.Cursor at 0x16feb501940>"
      ]
     },
     "execution_count": 62,
     "metadata": {},
     "output_type": "execute_result"
    }
   ],
   "source": [
    "cur.execute('''\n",
    "    CREATE TABLE SUPPLIER(\n",
    "        SNO INTEGER PRIMARY KEY,\n",
    "        SNAME TEXT NOT NULL DEFAULT \"NONAME\",\n",
    "        CNO INTEGER NOT NULL\n",
    "    )\n",
    "''')"
   ]
  },
  {
   "cell_type": "code",
   "execution_count": 63,
   "id": "fbd6260e",
   "metadata": {},
   "outputs": [
    {
     "data": {
      "text/plain": [
       "<sqlite3.Cursor at 0x16feb501940>"
      ]
     },
     "execution_count": 63,
     "metadata": {},
     "output_type": "execute_result"
    }
   ],
   "source": [
    "sname = 'Smith'\n",
    "cno = 1\n",
    "\n",
    "cur.execute('''\n",
    "    INSERT INTO SUPPLIER VALUES(NULL, ?,?);\n",
    "''', (sname, cno))"
   ]
  },
  {
   "cell_type": "code",
   "execution_count": 64,
   "id": "c241f39d",
   "metadata": {},
   "outputs": [
    {
     "data": {
      "text/plain": [
       "[(1, 'Smith', 1)]"
      ]
     },
     "execution_count": 64,
     "metadata": {},
     "output_type": "execute_result"
    }
   ],
   "source": [
    "cur.execute('SELECT * FROM SUPPLIER')\n",
    "cur.fetchall()"
   ]
  },
  {
   "cell_type": "code",
   "execution_count": 70,
   "id": "0f422306",
   "metadata": {},
   "outputs": [
    {
     "data": {
      "text/plain": [
       "<sqlite3.Cursor at 0x16feb501940>"
      ]
     },
     "execution_count": 70,
     "metadata": {},
     "output_type": "execute_result"
    }
   ],
   "source": [
    "data = (('Jones', 2), ('Adams',1), ('Blake', 3))\n",
    "\n",
    "cur.executemany('''\n",
    "    INSERT INTO SUPPLIER VALUES(NULL, ?,?);\n",
    "''', data)"
   ]
  },
  {
   "cell_type": "code",
   "execution_count": 71,
   "id": "bf4fa01d",
   "metadata": {},
   "outputs": [
    {
     "data": {
      "text/plain": [
       "[(1, 'Smith', 1),\n",
       " (2, 'Smith', 1),\n",
       " (3, 'Jones', 2),\n",
       " (4, 'Adams', 1),\n",
       " (5, 'Blake', 3)]"
      ]
     },
     "execution_count": 71,
     "metadata": {},
     "output_type": "execute_result"
    }
   ],
   "source": [
    "cur.execute('SELECT * FROM SUPPLIER')\n",
    "cur.fetchall()"
   ]
  },
  {
   "cell_type": "code",
   "execution_count": 72,
   "id": "7b79a372",
   "metadata": {},
   "outputs": [
    {
     "data": {
      "text/plain": [
       "3"
      ]
     },
     "execution_count": 72,
     "metadata": {},
     "output_type": "execute_result"
    }
   ],
   "source": [
    "len(data)"
   ]
  },
  {
   "cell_type": "code",
   "execution_count": 73,
   "id": "e5a66744",
   "metadata": {},
   "outputs": [
    {
     "data": {
      "text/plain": [
       "<sqlite3.Cursor at 0x16feb501940>"
      ]
     },
     "execution_count": 73,
     "metadata": {},
     "output_type": "execute_result"
    }
   ],
   "source": [
    "cur.execute('''\n",
    "    CREATE TABLE PART(\n",
    "        PNO INTEGER PRIMARY KEY AUTOINCREMENT,\n",
    "        PNAME TEXT\n",
    "    )\n",
    "''')"
   ]
  },
  {
   "cell_type": "code",
   "execution_count": 74,
   "id": "b9e3d359",
   "metadata": {},
   "outputs": [
    {
     "data": {
      "text/plain": [
       "<sqlite3.Cursor at 0x16feb501940>"
      ]
     },
     "execution_count": 74,
     "metadata": {},
     "output_type": "execute_result"
    }
   ],
   "source": [
    "cur.execute('''\n",
    "    INSERT INTO PART\n",
    "    VALUES(:pno, :pname)\n",
    "''', {'pno':1, 'pname':'Screw', 'asdf':'asdf'})\n",
    "\n",
    "# :pno, : pname 앞에 : 이거 뭐지...."
   ]
  },
  {
   "cell_type": "code",
   "execution_count": 75,
   "id": "ef937b82",
   "metadata": {},
   "outputs": [
    {
     "data": {
      "text/plain": [
       "[(1, 'Screw')]"
      ]
     },
     "execution_count": 75,
     "metadata": {},
     "output_type": "execute_result"
    }
   ],
   "source": [
    "cur.execute('SELECT * FROM PART')\n",
    "cur.fetchall()"
   ]
  },
  {
   "cell_type": "code",
   "execution_count": 77,
   "id": "8ff222ed",
   "metadata": {},
   "outputs": [
    {
     "data": {
      "text/plain": [
       "<sqlite3.Cursor at 0x16feb501940>"
      ]
     },
     "execution_count": 77,
     "metadata": {},
     "output_type": "execute_result"
    }
   ],
   "source": [
    "data = [{'pname': 'Desk'},\n",
    "        {'pname': 'Chair'},\n",
    "        {'pname': 'Bed'}]\n",
    "\n",
    "cur.executemany('''\n",
    "    INSERT INTO PART\n",
    "    VALUES(NULL, :pname)\n",
    "''', data)"
   ]
  },
  {
   "cell_type": "code",
   "execution_count": 78,
   "id": "fed93cfa",
   "metadata": {},
   "outputs": [
    {
     "data": {
      "text/plain": [
       "[(1, 'Screw'),\n",
       " (2, 'Desk'),\n",
       " (3, 'Chair'),\n",
       " (4, 'Desk'),\n",
       " (5, 'Chair'),\n",
       " (6, 'Bed')]"
      ]
     },
     "execution_count": 78,
     "metadata": {},
     "output_type": "execute_result"
    }
   ],
   "source": [
    "cur.execute('SELECT * FROM PART')\n",
    "cur.fetchall()"
   ]
  },
  {
   "cell_type": "code",
   "execution_count": 84,
   "id": "25d0767d",
   "metadata": {},
   "outputs": [
    {
     "data": {
      "text/plain": [
       "<sqlite3.Cursor at 0x16feb501940>"
      ]
     },
     "execution_count": 84,
     "metadata": {},
     "output_type": "execute_result"
    }
   ],
   "source": [
    "data = ('Stool')\n",
    "\n",
    "cur.executemany('''\n",
    "    INSERT INTO PART VALUES(NULL, ?);\n",
    "''', data)"
   ]
  },
  {
   "cell_type": "code",
   "execution_count": 85,
   "id": "8d400c6d",
   "metadata": {},
   "outputs": [
    {
     "data": {
      "text/plain": [
       "[(1, 'Screw'),\n",
       " (2, 'Desk'),\n",
       " (3, 'Chair'),\n",
       " (4, 'Desk'),\n",
       " (5, 'Chair'),\n",
       " (6, 'Bed'),\n",
       " (7, 'S'),\n",
       " (8, 't'),\n",
       " (9, 'o'),\n",
       " (10, 'o'),\n",
       " (11, 'l')]"
      ]
     },
     "execution_count": 85,
     "metadata": {},
     "output_type": "execute_result"
    }
   ],
   "source": [
    "cur.execute('SELECT * FROM PART')\n",
    "cur.fetchall()"
   ]
  },
  {
   "cell_type": "code",
   "execution_count": 90,
   "id": "e82c5892",
   "metadata": {},
   "outputs": [
    {
     "ename": "OperationalError",
     "evalue": "near \"data\": syntax error",
     "output_type": "error",
     "traceback": [
      "\u001b[1;31m---------------------------------------------------------------------------\u001b[0m",
      "\u001b[1;31mOperationalError\u001b[0m                          Traceback (most recent call last)",
      "Cell \u001b[1;32mIn[90], line 3\u001b[0m\n\u001b[0;32m      1\u001b[0m data \u001b[38;5;241m=\u001b[39m ((\u001b[38;5;124m'\u001b[39m\u001b[38;5;124mStool\u001b[39m\u001b[38;5;124m'\u001b[39m))\n\u001b[1;32m----> 3\u001b[0m cur\u001b[38;5;241m.\u001b[39mexecutescript(\u001b[38;5;124m'''\u001b[39m\n\u001b[0;32m      4\u001b[0m \u001b[38;5;124m    INSERT INTO PART VALUES data\u001b[39m\n\u001b[0;32m      5\u001b[0m \u001b[38;5;124m'''\u001b[39m)\n",
      "\u001b[1;31mOperationalError\u001b[0m: near \"data\": syntax error"
     ]
    }
   ],
   "source": [
    "data = (('Stool'))\n",
    "\n",
    "cur.executescript('''\n",
    "    INSERT INTO PART VALUES (data)\n",
    "''')"
   ]
  },
  {
   "cell_type": "code",
   "execution_count": 91,
   "id": "0ae13d79",
   "metadata": {},
   "outputs": [
    {
     "data": {
      "text/plain": [
       "<sqlite3.Cursor at 0x16feb501940>"
      ]
     },
     "execution_count": 91,
     "metadata": {},
     "output_type": "execute_result"
    }
   ],
   "source": [
    "cur.execute('''\n",
    "    CREATE TABLE SELLS(\n",
    "        SNO INTEGER NOT NULL,\n",
    "        PNO INTEGER NOT NULL,\n",
    "        PRICE INTEGER NOT NULL\n",
    "    )\n",
    "''')"
   ]
  },
  {
   "cell_type": "code",
   "execution_count": 92,
   "id": "81c59f41",
   "metadata": {},
   "outputs": [
    {
     "data": {
      "text/plain": [
       "<sqlite3.Cursor at 0x16feb501940>"
      ]
     },
     "execution_count": 92,
     "metadata": {},
     "output_type": "execute_result"
    }
   ],
   "source": [
    "key1 = 'Screw'\n",
    "key2 = 'Smith'\n",
    "sno = 0\n",
    "pno = 0\n",
    "\n",
    "cur.execute('''\n",
    "    SELECT PNO FROM PART\n",
    "    WHERE PNAME=?\n",
    "''', [key1])"
   ]
  },
  {
   "cell_type": "code",
   "execution_count": 93,
   "id": "6850199c",
   "metadata": {},
   "outputs": [],
   "source": [
    "result = cur.fetchone()"
   ]
  },
  {
   "cell_type": "code",
   "execution_count": 95,
   "id": "2699d190",
   "metadata": {},
   "outputs": [
    {
     "data": {
      "text/plain": [
       "(1,)"
      ]
     },
     "execution_count": 95,
     "metadata": {},
     "output_type": "execute_result"
    }
   ],
   "source": [
    "result"
   ]
  },
  {
   "cell_type": "code",
   "execution_count": 96,
   "id": "af933505",
   "metadata": {},
   "outputs": [],
   "source": [
    "if result:\n",
    "    pno = result[0]"
   ]
  },
  {
   "cell_type": "code",
   "execution_count": 97,
   "id": "32920a8f",
   "metadata": {},
   "outputs": [
    {
     "data": {
      "text/plain": [
       "1"
      ]
     },
     "execution_count": 97,
     "metadata": {},
     "output_type": "execute_result"
    }
   ],
   "source": [
    "pno"
   ]
  },
  {
   "cell_type": "code",
   "execution_count": 98,
   "id": "2b253a59",
   "metadata": {},
   "outputs": [
    {
     "data": {
      "text/plain": [
       "<sqlite3.Cursor at 0x16feb501940>"
      ]
     },
     "execution_count": 98,
     "metadata": {},
     "output_type": "execute_result"
    }
   ],
   "source": [
    "cur.execute('''\n",
    "    SELECT SNO FROM SUPPLIER\n",
    "    WHERE SNAME=?\n",
    "''', [key2])"
   ]
  },
  {
   "cell_type": "code",
   "execution_count": 99,
   "id": "63034eac",
   "metadata": {},
   "outputs": [],
   "source": [
    "rst = cur.fetchone()"
   ]
  },
  {
   "cell_type": "code",
   "execution_count": 100,
   "id": "2d6c313d",
   "metadata": {},
   "outputs": [
    {
     "data": {
      "text/plain": [
       "(1,)"
      ]
     },
     "execution_count": 100,
     "metadata": {},
     "output_type": "execute_result"
    }
   ],
   "source": [
    "rst"
   ]
  },
  {
   "cell_type": "code",
   "execution_count": 101,
   "id": "933a678b",
   "metadata": {},
   "outputs": [],
   "source": [
    "if rst:\n",
    "    sno = rst[0]"
   ]
  },
  {
   "cell_type": "code",
   "execution_count": 102,
   "id": "21fe760d",
   "metadata": {},
   "outputs": [
    {
     "data": {
      "text/plain": [
       "1"
      ]
     },
     "execution_count": 102,
     "metadata": {},
     "output_type": "execute_result"
    }
   ],
   "source": [
    "sno"
   ]
  },
  {
   "cell_type": "code",
   "execution_count": 103,
   "id": "80b81a0c",
   "metadata": {},
   "outputs": [
    {
     "data": {
      "text/plain": [
       "(1, 1)"
      ]
     },
     "execution_count": 103,
     "metadata": {},
     "output_type": "execute_result"
    }
   ],
   "source": [
    "pno, sno"
   ]
  },
  {
   "cell_type": "code",
   "execution_count": 109,
   "id": "09abfe3d",
   "metadata": {},
   "outputs": [
    {
     "data": {
      "text/plain": [
       "<sqlite3.Cursor at 0x16feb501940>"
      ]
     },
     "execution_count": 109,
     "metadata": {},
     "output_type": "execute_result"
    }
   ],
   "source": [
    "data = ['Smith', 'Screw', 10]\n",
    "\n",
    "cur.execute('''\n",
    "    INSERT INTO SELLS\n",
    "    VALUES(\n",
    "        (SELECT SNO FROM SUPPLIER WHERE SNAME=? LIMIT 0, 1),\n",
    "        (SELECT PNO FROM PART WHERE PNAME=? LIMIT 0, 1),\n",
    "    ?\n",
    "    )\n",
    "''', data)"
   ]
  },
  {
   "cell_type": "code",
   "execution_count": 110,
   "id": "d674bf83",
   "metadata": {},
   "outputs": [
    {
     "data": {
      "text/plain": [
       "[(1, 1, 10)]"
      ]
     },
     "execution_count": 110,
     "metadata": {},
     "output_type": "execute_result"
    }
   ],
   "source": [
    "cur.execute('''\n",
    "   SELECT * FROM SELLS \n",
    "''')\n",
    "cur.fetchall()"
   ]
  },
  {
   "cell_type": "code",
   "execution_count": 106,
   "id": "c7c9528b",
   "metadata": {},
   "outputs": [
    {
     "data": {
      "text/plain": [
       "<sqlite3.Cursor at 0x16feb501940>"
      ]
     },
     "execution_count": 106,
     "metadata": {},
     "output_type": "execute_result"
    }
   ],
   "source": [
    "cur.execute('''\n",
    "    SELECT PNAME FROM PART\n",
    "''')"
   ]
  },
  {
   "cell_type": "code",
   "execution_count": 107,
   "id": "c657d08c",
   "metadata": {},
   "outputs": [
    {
     "data": {
      "text/plain": [
       "[('Screw',),\n",
       " ('Desk',),\n",
       " ('Chair',),\n",
       " ('Desk',),\n",
       " ('Chair',),\n",
       " ('Bed',),\n",
       " ('S',),\n",
       " ('t',),\n",
       " ('o',),\n",
       " ('o',),\n",
       " ('l',)]"
      ]
     },
     "execution_count": 107,
     "metadata": {},
     "output_type": "execute_result"
    }
   ],
   "source": [
    "cur.fetchall()"
   ]
  },
  {
   "cell_type": "code",
   "execution_count": 111,
   "id": "577bd7bd",
   "metadata": {},
   "outputs": [
    {
     "data": {
      "text/plain": [
       "[(1, 'NewYork'),\n",
       " (2, 'Busan'),\n",
       " (3, 'Tokyo'),\n",
       " (4, 'Moscow'),\n",
       " (5, 'Moscow'),\n",
       " (6, 'Moscow'),\n",
       " (7, 'Tokyo'),\n",
       " (8, 'Moscow'),\n",
       " (9, 'Moscow'),\n",
       " (10, 'Paris')]"
      ]
     },
     "execution_count": 111,
     "metadata": {},
     "output_type": "execute_result"
    }
   ],
   "source": [
    "CITY = dict()\n",
    "\n",
    "cur.execute('SELECT * FROM CITY')\n",
    "cur.fetchall()\n",
    "    "
   ]
  },
  {
   "cell_type": "code",
   "execution_count": 112,
   "id": "cba17432",
   "metadata": {},
   "outputs": [
    {
     "data": {
      "text/plain": [
       "{}"
      ]
     },
     "execution_count": 112,
     "metadata": {},
     "output_type": "execute_result"
    }
   ],
   "source": [
    "CITY"
   ]
  },
  {
   "cell_type": "code",
   "execution_count": 113,
   "id": "211e5c13",
   "metadata": {},
   "outputs": [],
   "source": [
    "cur.execute('SELECT * FROM CITY')\n",
    "for row in cur.fetchall():\n",
    "    CITY[row[1]] = row[0]"
   ]
  },
  {
   "cell_type": "code",
   "execution_count": 114,
   "id": "04e8514a",
   "metadata": {},
   "outputs": [
    {
     "data": {
      "text/plain": [
       "{'NewYork': 1, 'Busan': 2, 'Tokyo': 7, 'Moscow': 9, 'Paris': 10}"
      ]
     },
     "execution_count": 114,
     "metadata": {},
     "output_type": "execute_result"
    }
   ],
   "source": [
    "CITY"
   ]
  },
  {
   "cell_type": "code",
   "execution_count": 115,
   "id": "0c5cb57c",
   "metadata": {},
   "outputs": [
    {
     "data": {
      "text/plain": [
       "7"
      ]
     },
     "execution_count": 115,
     "metadata": {},
     "output_type": "execute_result"
    }
   ],
   "source": [
    "CITY['Tokyo']"
   ]
  },
  {
   "cell_type": "code",
   "execution_count": 116,
   "id": "68478205",
   "metadata": {},
   "outputs": [],
   "source": [
    "data = [(1,2,8),\n",
    "        (2,4,38),\n",
    "        (3,1,11),\n",
    "        (3,3,6),\n",
    "        (4,2,7),\n",
    "        (4,3,4),\n",
    "        (4,4,45)]\n"
   ]
  },
  {
   "cell_type": "code",
   "execution_count": 117,
   "id": "39964496",
   "metadata": {},
   "outputs": [
    {
     "data": {
      "text/plain": [
       "list"
      ]
     },
     "execution_count": 117,
     "metadata": {},
     "output_type": "execute_result"
    }
   ],
   "source": [
    "type(data)"
   ]
  },
  {
   "cell_type": "code",
   "execution_count": 118,
   "id": "b2653522",
   "metadata": {},
   "outputs": [
    {
     "data": {
      "text/plain": [
       "<sqlite3.Cursor at 0x16feb501940>"
      ]
     },
     "execution_count": 118,
     "metadata": {},
     "output_type": "execute_result"
    }
   ],
   "source": [
    "cur.executemany('INSERT INTO SELLS VALUES(?,?,?)', data)"
   ]
  },
  {
   "cell_type": "code",
   "execution_count": 125,
   "id": "a3efae16",
   "metadata": {},
   "outputs": [
    {
     "data": {
      "text/plain": [
       "[('Busan', 1), ('NewYork', 3), ('Tokyo', 1)]"
      ]
     },
     "execution_count": 125,
     "metadata": {},
     "output_type": "execute_result"
    }
   ],
   "source": [
    "cur.execute('''\n",
    "    SELECT C.CNAME, COUNT(*)\n",
    "    FROM SUPPLIER AS S, CITY AS C\n",
    "    WHERE S.CNO = C.CNO\n",
    "    GROUP BY C.CNAME\n",
    "    ORDER BY C.CNAME, S.SNAME ASC\n",
    "''')\n",
    "cur.fetchall()"
   ]
  },
  {
   "cell_type": "code",
   "execution_count": 124,
   "id": "47dbec08",
   "metadata": {},
   "outputs": [
    {
     "data": {
      "text/plain": [
       "[(3, 'Jones', 2, 2, 'Busan'),\n",
       " (1, 'Smith', 1, 1, 'NewYork'),\n",
       " (5, 'Blake', 3, 3, 'Tokyo')]"
      ]
     },
     "execution_count": 124,
     "metadata": {},
     "output_type": "execute_result"
    }
   ],
   "source": [
    "cur.execute('''\n",
    "    SELECT *\n",
    "    FROM SUPPLIER AS S, CITY AS C\n",
    "    WHERE S.CNO = C.CNO\n",
    "    GROUP BY C.CNAME\n",
    "    ORDER BY C.CNAME, S.SNAME ASC\n",
    "''')\n",
    "cur.fetchall()"
   ]
  },
  {
   "cell_type": "code",
   "execution_count": 126,
   "id": "37ac67d9",
   "metadata": {},
   "outputs": [],
   "source": [
    "#컬럼명이 뭔지 테이블 형식으로 보지를 못하니 너무 답답해 미치겠군~~~!!!"
   ]
  },
  {
   "cell_type": "code",
   "execution_count": 127,
   "id": "801cfbfa",
   "metadata": {},
   "outputs": [
    {
     "data": {
      "text/plain": [
       "[('Desk', 1, 38), ('Screw', 2, 17), ('Screw', 2, 18), ('Desk', 3, 56)]"
      ]
     },
     "execution_count": 127,
     "metadata": {},
     "output_type": "execute_result"
    }
   ],
   "source": [
    "cur.execute('''\n",
    "    SELECT PNAME, COUNT(*), SUM(PRICE)\n",
    "    FROM SELLS SE, SUPPLIER SU, PART PA\n",
    "    WHERE SE.SNO = SU.SNO AND SE.PNO = PA.PNO\n",
    "    GROUP BY SU.SNO\n",
    "    ORDER BY PRICE DESC\n",
    "''')\n",
    "cur.fetchall()"
   ]
  },
  {
   "cell_type": "code",
   "execution_count": 128,
   "id": "830d0e5b",
   "metadata": {},
   "outputs": [],
   "source": [
    "# 조인은 언제나 헷갈린다.."
   ]
  },
  {
   "cell_type": "code",
   "execution_count": 129,
   "id": "4376408f",
   "metadata": {},
   "outputs": [
    {
     "data": {
      "text/plain": [
       "[('Smith', 1, 38), ('Jones', 2, 17), ('Smith', 2, 18), ('Adams', 3, 56)]"
      ]
     },
     "execution_count": 129,
     "metadata": {},
     "output_type": "execute_result"
    }
   ],
   "source": [
    "cur.execute('''\n",
    "    SELECT SNAME, COUNT(*), SUM(PRICE)\n",
    "    FROM SELLS, SUPPLIER, PART\n",
    "    WHERE SELLS.SNO = SUPPLIER.SNO AND SELLS.PNO = PART.PNO\n",
    "    GROUP BY SUPPLIER.SNO\n",
    "    ORDER BY PRICE DESC\n",
    "''')\n",
    "cur.fetchall()"
   ]
  },
  {
   "cell_type": "code",
   "execution_count": 130,
   "id": "0e302319",
   "metadata": {},
   "outputs": [],
   "source": [
    "con.close() #닫는 습관~~~"
   ]
  },
  {
   "cell_type": "code",
   "execution_count": 131,
   "id": "572d695b",
   "metadata": {},
   "outputs": [],
   "source": [
    "con = sqlite3.connect('1027.db')\n",
    "cur = con.cursor()"
   ]
  },
  {
   "cell_type": "code",
   "execution_count": 132,
   "id": "2afbcc05",
   "metadata": {},
   "outputs": [
    {
     "data": {
      "text/plain": [
       "<sqlite3.Cursor at 0x16feb67a940>"
      ]
     },
     "execution_count": 132,
     "metadata": {},
     "output_type": "execute_result"
    }
   ],
   "source": [
    "cur"
   ]
  },
  {
   "cell_type": "code",
   "execution_count": 133,
   "id": "8f863453",
   "metadata": {},
   "outputs": [
    {
     "data": {
      "text/plain": [
       "<sqlite3.Connection at 0x16feb65a020>"
      ]
     },
     "execution_count": 133,
     "metadata": {},
     "output_type": "execute_result"
    }
   ],
   "source": [
    "con"
   ]
  },
  {
   "cell_type": "code",
   "execution_count": 134,
   "id": "8180b5b3",
   "metadata": {},
   "outputs": [
    {
     "data": {
      "text/plain": [
       "<sqlite3.Cursor at 0x16feb67a940>"
      ]
     },
     "execution_count": 134,
     "metadata": {},
     "output_type": "execute_result"
    }
   ],
   "source": [
    "cur.execute('''\n",
    "    CREATE TABLE PART(\n",
    "        PNO INTEGER PRIMARY KEY,\n",
    "        PNAME TEXT\n",
    "    )\n",
    "''')"
   ]
  },
  {
   "cell_type": "code",
   "execution_count": 135,
   "id": "2a2eb379",
   "metadata": {},
   "outputs": [
    {
     "data": {
      "text/plain": [
       "<sqlite3.Cursor at 0x16feb67a940>"
      ]
     },
     "execution_count": 135,
     "metadata": {},
     "output_type": "execute_result"
    }
   ],
   "source": [
    "cur.executescript('''\n",
    "    INSERT INTO PART VALUES(1, 'Screw');\n",
    "    INSERT INTO PART (PNAME) VALUES ('Bolt');\n",
    "    INSERT INTO PART VALUES (NULL, 'Nut');\n",
    "    INSERT INTO PART VALUES (4, 'Cam')\n",
    "''')"
   ]
  },
  {
   "cell_type": "code",
   "execution_count": 136,
   "id": "a80b0498",
   "metadata": {},
   "outputs": [
    {
     "data": {
      "text/plain": [
       "[(1, 'Screw'), (2, 'Bolt'), (3, 'Nut'), (4, 'Cam')]"
      ]
     },
     "execution_count": 136,
     "metadata": {},
     "output_type": "execute_result"
    }
   ],
   "source": [
    "cur.execute('SELECT * FROM PART')\n",
    "cur.fetchall()"
   ]
  },
  {
   "cell_type": "code",
   "execution_count": 137,
   "id": "58c8e369",
   "metadata": {},
   "outputs": [
    {
     "data": {
      "text/plain": [
       "<sqlite3.Cursor at 0x16feb67a940>"
      ]
     },
     "execution_count": 137,
     "metadata": {},
     "output_type": "execute_result"
    }
   ],
   "source": [
    "cur.execute('INSERT INTO PART VALUES(NULL, \"Part1\")')"
   ]
  },
  {
   "cell_type": "code",
   "execution_count": 138,
   "id": "2246b86b",
   "metadata": {},
   "outputs": [
    {
     "data": {
      "text/plain": [
       "[(1, 'Screw'), (2, 'Bolt'), (3, 'Nut'), (4, 'Cam'), (5, 'Part1')]"
      ]
     },
     "execution_count": 138,
     "metadata": {},
     "output_type": "execute_result"
    }
   ],
   "source": [
    "cur.execute('SELECT * FROM PART')\n",
    "cur.fetchall()"
   ]
  },
  {
   "cell_type": "code",
   "execution_count": 139,
   "id": "616ce522",
   "metadata": {},
   "outputs": [],
   "source": [
    "con.commit()"
   ]
  },
  {
   "cell_type": "code",
   "execution_count": 140,
   "id": "c8776a27",
   "metadata": {},
   "outputs": [],
   "source": [
    "con.close()"
   ]
  },
  {
   "cell_type": "code",
   "execution_count": 141,
   "id": "21d72ad7",
   "metadata": {},
   "outputs": [],
   "source": [
    "con = sqlite3.connect('1027.db')\n",
    "cur = con.cursor()"
   ]
  },
  {
   "cell_type": "code",
   "execution_count": 142,
   "id": "3d140af8",
   "metadata": {},
   "outputs": [
    {
     "data": {
      "text/plain": [
       "[(1, 'Screw'), (2, 'Bolt'), (3, 'Nut'), (4, 'Cam'), (5, 'Part1')]"
      ]
     },
     "execution_count": 142,
     "metadata": {},
     "output_type": "execute_result"
    }
   ],
   "source": [
    "cur.execute('SELECT * FROM PART')\n",
    "cur.fetchall()"
   ]
  },
  {
   "cell_type": "code",
   "execution_count": 143,
   "id": "dee8e50d",
   "metadata": {},
   "outputs": [
    {
     "data": {
      "text/plain": [
       "<sqlite3.Cursor at 0x16feb67b840>"
      ]
     },
     "execution_count": 143,
     "metadata": {},
     "output_type": "execute_result"
    }
   ],
   "source": [
    "cur.execute('''\n",
    "    UPDATE PART\n",
    "    SET PNAME = '푸바오'\n",
    "''')"
   ]
  },
  {
   "cell_type": "code",
   "execution_count": 144,
   "id": "4f430a51",
   "metadata": {},
   "outputs": [
    {
     "data": {
      "text/plain": [
       "5"
      ]
     },
     "execution_count": 144,
     "metadata": {},
     "output_type": "execute_result"
    }
   ],
   "source": [
    "con.total_changes"
   ]
  },
  {
   "cell_type": "code",
   "execution_count": 145,
   "id": "d4fb98b4",
   "metadata": {},
   "outputs": [
    {
     "data": {
      "text/plain": [
       "[(1, '푸바오'), (2, '푸바오'), (3, '푸바오'), (4, '푸바오'), (5, '푸바오')]"
      ]
     },
     "execution_count": 145,
     "metadata": {},
     "output_type": "execute_result"
    }
   ],
   "source": [
    "cur.execute('SELECT * FROM PART')\n",
    "cur.fetchall()"
   ]
  },
  {
   "cell_type": "code",
   "execution_count": 146,
   "id": "e7e594de",
   "metadata": {},
   "outputs": [],
   "source": [
    "con.close()"
   ]
  },
  {
   "cell_type": "code",
   "execution_count": 147,
   "id": "eb79127d",
   "metadata": {},
   "outputs": [
    {
     "data": {
      "text/plain": [
       "[(1, 'Screw'), (2, 'Bolt'), (3, 'Nut'), (4, 'Cam'), (5, 'Part1')]"
      ]
     },
     "execution_count": 147,
     "metadata": {},
     "output_type": "execute_result"
    }
   ],
   "source": [
    "con = sqlite3.connect('1027.db')\n",
    "cur = con.cursor()\n",
    "cur.execute('SELECT * FROM PART')\n",
    "cur.fetchall()"
   ]
  },
  {
   "cell_type": "code",
   "execution_count": 148,
   "id": "da078414",
   "metadata": {},
   "outputs": [
    {
     "data": {
      "text/plain": [
       "<sqlite3.Cursor at 0x16feb678940>"
      ]
     },
     "execution_count": 148,
     "metadata": {},
     "output_type": "execute_result"
    }
   ],
   "source": [
    "cur.execute('INSERT INTO PART VALUES(NULL, \"메에롱\")')"
   ]
  },
  {
   "cell_type": "code",
   "execution_count": 149,
   "id": "cb74e0e3",
   "metadata": {},
   "outputs": [
    {
     "data": {
      "text/plain": [
       "6"
      ]
     },
     "execution_count": 149,
     "metadata": {},
     "output_type": "execute_result"
    }
   ],
   "source": [
    "cur.lastrowid\n",
    "#이건 뭘까. 맹신금지...?"
   ]
  },
  {
   "cell_type": "code",
   "execution_count": 150,
   "id": "3240bce3",
   "metadata": {},
   "outputs": [
    {
     "data": {
      "text/plain": [
       "[(1, 'Screw'), (2, 'Bolt'), (3, 'Nut'), (4, 'Cam'), (5, 'Part1'), (6, '메에롱')]"
      ]
     },
     "execution_count": 150,
     "metadata": {},
     "output_type": "execute_result"
    }
   ],
   "source": [
    "cur.execute('SELECT * FROM PART')\n",
    "cur.fetchall()"
   ]
  },
  {
   "cell_type": "code",
   "execution_count": 151,
   "id": "9e7416db",
   "metadata": {},
   "outputs": [
    {
     "data": {
      "text/plain": [
       "7"
      ]
     },
     "execution_count": 151,
     "metadata": {},
     "output_type": "execute_result"
    }
   ],
   "source": [
    "cur.execute('INSERT INTO PART VALUES(NULL, \"아이바오\")')\n",
    "cur.lastrowid"
   ]
  },
  {
   "cell_type": "code",
   "execution_count": 155,
   "id": "de1f27ee",
   "metadata": {},
   "outputs": [
    {
     "data": {
      "text/plain": [
       "[(2, 'Bolt'), (3, 'Nut'), (4, 'Cam'), (5, 'Part1')]"
      ]
     },
     "execution_count": 155,
     "metadata": {},
     "output_type": "execute_result"
    }
   ],
   "source": [
    "cur.execute('SELECT * FROM PART')\n",
    "cur.fetchall()[1:5]"
   ]
  },
  {
   "cell_type": "code",
   "execution_count": 156,
   "id": "d5e1af65",
   "metadata": {},
   "outputs": [],
   "source": [
    "con.commit()"
   ]
  },
  {
   "cell_type": "code",
   "execution_count": 157,
   "id": "d27c6abc",
   "metadata": {},
   "outputs": [
    {
     "ename": "OperationalError",
     "evalue": "near \"INSERT\": syntax error",
     "output_type": "error",
     "traceback": [
      "\u001b[1;31m---------------------------------------------------------------------------\u001b[0m",
      "\u001b[1;31mOperationalError\u001b[0m                          Traceback (most recent call last)",
      "Cell \u001b[1;32mIn[157], line 1\u001b[0m\n\u001b[1;32m----> 1\u001b[0m cur\u001b[38;5;241m.\u001b[39mexecutescript(\u001b[38;5;124m'''\u001b[39m\n\u001b[0;32m      2\u001b[0m \u001b[38;5;124m    DROP TABLE IF EXISTS TEMP;\u001b[39m\n\u001b[0;32m      3\u001b[0m \u001b[38;5;124m    CREATE TABLE TEMP(\u001b[39m\n\u001b[0;32m      4\u001b[0m \u001b[38;5;124m        PK INTEGER NOT NULL UNIQUE,\u001b[39m\n\u001b[0;32m      5\u001b[0m \u001b[38;5;124m        NAME TEXT NOT NULL\u001b[39m\n\u001b[0;32m      6\u001b[0m \u001b[38;5;124m    );\u001b[39m\n\u001b[0;32m      7\u001b[0m \u001b[38;5;124m    \u001b[39m\n\u001b[0;32m      8\u001b[0m \u001b[38;5;124m    INSERT INTO TEMP VALUES(1, \u001b[39m\u001b[38;5;124m'\u001b[39m\u001b[38;5;124m테스트1\u001b[39m\u001b[38;5;124m'\u001b[39m\u001b[38;5;124m)\u001b[39m\n\u001b[0;32m      9\u001b[0m \u001b[38;5;124m    INSERT INTO TEMP VALUES(2, \u001b[39m\u001b[38;5;124m'\u001b[39m\u001b[38;5;124m테스트2\u001b[39m\u001b[38;5;124m'\u001b[39m\u001b[38;5;124m)\u001b[39m\n\u001b[0;32m     10\u001b[0m \u001b[38;5;124m    INSERT INTO TEMP VALUES(3, \u001b[39m\u001b[38;5;124m'\u001b[39m\u001b[38;5;124m테스트3\u001b[39m\u001b[38;5;124m'\u001b[39m\u001b[38;5;124m);\u001b[39m\n\u001b[0;32m     11\u001b[0m \u001b[38;5;124m'''\u001b[39m)\n",
      "\u001b[1;31mOperationalError\u001b[0m: near \"INSERT\": syntax error"
     ]
    }
   ],
   "source": [
    "cur.executescript('''\n",
    "    DROP TABLE IF EXISTS TEMP;\n",
    "    CREATE TABLE TEMP(\n",
    "        PK INTEGER NOT NULL UNIQUE,\n",
    "        NAME TEXT NOT NULL\n",
    "    );\n",
    "    \n",
    "    INSERT INTO TEMP VALUES(1, '테스트1')\n",
    "    INSERT INTO TEMP VALUES(2, '테스트2')\n",
    "    INSERT INTO TEMP VALUES(3, '테스트3');\n",
    "''')"
   ]
  },
  {
   "cell_type": "code",
   "execution_count": 158,
   "id": "f3c982d6",
   "metadata": {},
   "outputs": [
    {
     "data": {
      "text/plain": [
       "<sqlite3.Cursor at 0x16feb678940>"
      ]
     },
     "execution_count": 158,
     "metadata": {},
     "output_type": "execute_result"
    }
   ],
   "source": [
    "cur.executescript('''\n",
    "    DROP TABLE IF EXISTS TEMP;\n",
    "    CREATE TABLE TEMP(\n",
    "        PK INTEGER NOT NULL UNIQUE,\n",
    "        NAME TEXT NOT NULL\n",
    "    );\n",
    "    \n",
    "    INSERT INTO TEMP VALUES(1, '테스트1');\n",
    "    INSERT INTO TEMP VALUES(2, '테스트2');\n",
    "    INSERT INTO TEMP VALUES(3, '테스트3')\n",
    "''')"
   ]
  },
  {
   "cell_type": "code",
   "execution_count": 159,
   "id": "71ec4f1e",
   "metadata": {},
   "outputs": [
    {
     "name": "stdout",
     "output_type": "stream",
     "text": [
      "BEGIN TRANSACTION;\n",
      "CREATE TABLE PART(\n",
      "        PNO INTEGER PRIMARY KEY,\n",
      "        PNAME TEXT\n",
      "    );\n",
      "INSERT INTO \"PART\" VALUES(1,'Screw');\n",
      "INSERT INTO \"PART\" VALUES(2,'Bolt');\n",
      "INSERT INTO \"PART\" VALUES(3,'Nut');\n",
      "INSERT INTO \"PART\" VALUES(4,'Cam');\n",
      "INSERT INTO \"PART\" VALUES(5,'Part1');\n",
      "INSERT INTO \"PART\" VALUES(6,'메에롱');\n",
      "INSERT INTO \"PART\" VALUES(7,'아이바오');\n",
      "CREATE TABLE TEMP(\n",
      "        PK INTEGER NOT NULL UNIQUE,\n",
      "        NAME TEXT NOT NULL\n",
      "    );\n",
      "INSERT INTO \"TEMP\" VALUES(1,'테스트1');\n",
      "INSERT INTO \"TEMP\" VALUES(2,'테스트2');\n",
      "INSERT INTO \"TEMP\" VALUES(3,'테스트3');\n",
      "COMMIT;\n"
     ]
    }
   ],
   "source": [
    "for line in con.iterdump():\n",
    "    print(line)"
   ]
  },
  {
   "cell_type": "code",
   "execution_count": 160,
   "id": "2958b75b",
   "metadata": {},
   "outputs": [],
   "source": [
    "con.close()"
   ]
  },
  {
   "cell_type": "code",
   "execution_count": 161,
   "id": "de6d5c7e",
   "metadata": {},
   "outputs": [],
   "source": [
    "#과연 commit 이 어디까지 자동으로 되었을까나"
   ]
  },
  {
   "cell_type": "code",
   "execution_count": 162,
   "id": "94e7cb91",
   "metadata": {},
   "outputs": [
    {
     "data": {
      "text/plain": [
       "[(1, '테스트1'), (2, '테스트2'), (3, '테스트3')]"
      ]
     },
     "execution_count": 162,
     "metadata": {},
     "output_type": "execute_result"
    }
   ],
   "source": [
    "con = sqlite3.connect('1027.db')\n",
    "cur = con.cursor()\n",
    "cur.execute('SELECT * FROM TEMP')\n",
    "cur.fetchall()"
   ]
  },
  {
   "cell_type": "code",
   "execution_count": 163,
   "id": "4a92b217",
   "metadata": {},
   "outputs": [
    {
     "data": {
      "text/plain": [
       "[]"
      ]
     },
     "execution_count": 163,
     "metadata": {},
     "output_type": "execute_result"
    }
   ],
   "source": [
    "cur.execute('''\n",
    "    UPDATE TEMP SET NAME = '소금빵'\n",
    "''')\n"
   ]
  },
  {
   "cell_type": "code",
   "execution_count": 164,
   "id": "6c047fba",
   "metadata": {},
   "outputs": [
    {
     "data": {
      "text/plain": [
       "[(1, '소금빵'), (2, '소금빵'), (3, '소금빵')]"
      ]
     },
     "execution_count": 164,
     "metadata": {},
     "output_type": "execute_result"
    }
   ],
   "source": [
    "cur.execute('SELECT * FROM TEMP')\n",
    "cur.fetchall()"
   ]
  },
  {
   "cell_type": "code",
   "execution_count": 165,
   "id": "8e458d86",
   "metadata": {},
   "outputs": [
    {
     "name": "stdout",
     "output_type": "stream",
     "text": [
      "BEGIN TRANSACTION;\n",
      "CREATE TABLE PART(\n",
      "        PNO INTEGER PRIMARY KEY,\n",
      "        PNAME TEXT\n",
      "    );\n",
      "INSERT INTO \"PART\" VALUES(1,'Screw');\n",
      "INSERT INTO \"PART\" VALUES(2,'Bolt');\n",
      "INSERT INTO \"PART\" VALUES(3,'Nut');\n",
      "INSERT INTO \"PART\" VALUES(4,'Cam');\n",
      "INSERT INTO \"PART\" VALUES(5,'Part1');\n",
      "INSERT INTO \"PART\" VALUES(6,'메에롱');\n",
      "INSERT INTO \"PART\" VALUES(7,'아이바오');\n",
      "CREATE TABLE TEMP(\n",
      "        PK INTEGER NOT NULL UNIQUE,\n",
      "        NAME TEXT NOT NULL\n",
      "    );\n",
      "INSERT INTO \"TEMP\" VALUES(1,'소금빵');\n",
      "INSERT INTO \"TEMP\" VALUES(2,'소금빵');\n",
      "INSERT INTO \"TEMP\" VALUES(3,'소금빵');\n",
      "COMMIT;\n"
     ]
    }
   ],
   "source": [
    "for line in con.iterdump():\n",
    "    print(line)"
   ]
  },
  {
   "cell_type": "code",
   "execution_count": 166,
   "id": "37516cae",
   "metadata": {},
   "outputs": [],
   "source": [
    "con.close()"
   ]
  },
  {
   "cell_type": "code",
   "execution_count": 167,
   "id": "5fc7dac0",
   "metadata": {},
   "outputs": [
    {
     "data": {
      "text/plain": [
       "[(1, '테스트1'), (2, '테스트2'), (3, '테스트3')]"
      ]
     },
     "execution_count": 167,
     "metadata": {},
     "output_type": "execute_result"
    }
   ],
   "source": [
    "con = sqlite3.connect('1027.db')\n",
    "cur = con.cursor()\n",
    "cur.execute('SELECT * FROM TEMP')\n",
    "cur.fetchall()"
   ]
  },
  {
   "cell_type": "code",
   "execution_count": 169,
   "id": "14e82728",
   "metadata": {},
   "outputs": [
    {
     "data": {
      "text/plain": [
       "[(1, '테스트1'), (2, '테스트2'), (3, '테스트3'), (4, '테스트4')]"
      ]
     },
     "execution_count": 169,
     "metadata": {},
     "output_type": "execute_result"
    }
   ],
   "source": [
    "cur.execute('INSERT INTO TEMP VALUES(4, \"테스트4\")')\n",
    "cur.execute('SELECT * FROM TEMP')\n",
    "cur.fetchall()"
   ]
  },
  {
   "cell_type": "code",
   "execution_count": 170,
   "id": "62b9a773",
   "metadata": {},
   "outputs": [],
   "source": [
    "con.close()"
   ]
  },
  {
   "cell_type": "code",
   "execution_count": 171,
   "id": "60be9b0a",
   "metadata": {},
   "outputs": [
    {
     "data": {
      "text/plain": [
       "[(1, '테스트1'), (2, '테스트2'), (3, '테스트3')]"
      ]
     },
     "execution_count": 171,
     "metadata": {},
     "output_type": "execute_result"
    }
   ],
   "source": [
    "con = sqlite3.connect('1027.db')\n",
    "cur = con.cursor()\n",
    "cur.execute('SELECT * FROM TEMP')\n",
    "cur.fetchall()"
   ]
  },
  {
   "cell_type": "code",
   "execution_count": 172,
   "id": "74ee7646",
   "metadata": {},
   "outputs": [
    {
     "name": "stdout",
     "output_type": "stream",
     "text": [
      "BEGIN TRANSACTION;\n",
      "CREATE TABLE PART(\n",
      "        PNO INTEGER PRIMARY KEY,\n",
      "        PNAME TEXT\n",
      "    );\n",
      "INSERT INTO \"PART\" VALUES(1,'Screw');\n",
      "INSERT INTO \"PART\" VALUES(2,'Bolt');\n",
      "INSERT INTO \"PART\" VALUES(3,'Nut');\n",
      "INSERT INTO \"PART\" VALUES(4,'Cam');\n",
      "INSERT INTO \"PART\" VALUES(5,'Part1');\n",
      "INSERT INTO \"PART\" VALUES(6,'메에롱');\n",
      "INSERT INTO \"PART\" VALUES(7,'아이바오');\n",
      "CREATE TABLE TEMP(\n",
      "        PK INTEGER NOT NULL UNIQUE,\n",
      "        NAME TEXT NOT NULL\n",
      "    );\n",
      "INSERT INTO \"TEMP\" VALUES(1,'테스트1');\n",
      "INSERT INTO \"TEMP\" VALUES(2,'테스트2');\n",
      "INSERT INTO \"TEMP\" VALUES(3,'테스트3');\n",
      "INSERT INTO \"TEMP\" VALUES(4,'테스트4');\n",
      "COMMIT;\n"
     ]
    }
   ],
   "source": [
    "cur.execute('INSERT INTO TEMP VALUES(4, \"테스트4\")')\n",
    "\n",
    "for line in con.iterdump():\n",
    "    print(line)"
   ]
  },
  {
   "cell_type": "code",
   "execution_count": 173,
   "id": "04612b8c",
   "metadata": {},
   "outputs": [],
   "source": [
    "con.close()"
   ]
  },
  {
   "cell_type": "code",
   "execution_count": 174,
   "id": "9145406d",
   "metadata": {},
   "outputs": [
    {
     "data": {
      "text/plain": [
       "[(1, '테스트1'), (2, '테스트2'), (3, '테스트3')]"
      ]
     },
     "execution_count": 174,
     "metadata": {},
     "output_type": "execute_result"
    }
   ],
   "source": [
    "con = sqlite3.connect('1027.db')\n",
    "cur = con.cursor()\n",
    "cur.execute('SELECT * FROM TEMP')\n",
    "cur.fetchall()"
   ]
  },
  {
   "cell_type": "code",
   "execution_count": 175,
   "id": "b9de5dee",
   "metadata": {},
   "outputs": [
    {
     "data": {
      "text/plain": [
       "<sqlite3.Cursor at 0x16feb644a40>"
      ]
     },
     "execution_count": 175,
     "metadata": {},
     "output_type": "execute_result"
    }
   ],
   "source": [
    "cur.executescript('''\n",
    "    DROP TABLE IF EXISTS TEST;\n",
    "    CREATE TABLE TEST(\n",
    "        PK INTEGER NOT NULL UNIQUE,\n",
    "        NAME TEXT NOT NULL\n",
    "    );\n",
    "    \n",
    "    UPDATE TEMP SET NAME = '소금빵';\n",
    "''')"
   ]
  },
  {
   "cell_type": "code",
   "execution_count": 176,
   "id": "1de6f8fa",
   "metadata": {},
   "outputs": [
    {
     "name": "stdout",
     "output_type": "stream",
     "text": [
      "BEGIN TRANSACTION;\n",
      "CREATE TABLE PART(\n",
      "        PNO INTEGER PRIMARY KEY,\n",
      "        PNAME TEXT\n",
      "    );\n",
      "INSERT INTO \"PART\" VALUES(1,'Screw');\n",
      "INSERT INTO \"PART\" VALUES(2,'Bolt');\n",
      "INSERT INTO \"PART\" VALUES(3,'Nut');\n",
      "INSERT INTO \"PART\" VALUES(4,'Cam');\n",
      "INSERT INTO \"PART\" VALUES(5,'Part1');\n",
      "INSERT INTO \"PART\" VALUES(6,'메에롱');\n",
      "INSERT INTO \"PART\" VALUES(7,'아이바오');\n",
      "CREATE TABLE TEMP(\n",
      "        PK INTEGER NOT NULL UNIQUE,\n",
      "        NAME TEXT NOT NULL\n",
      "    );\n",
      "INSERT INTO \"TEMP\" VALUES(1,'소금빵');\n",
      "INSERT INTO \"TEMP\" VALUES(2,'소금빵');\n",
      "INSERT INTO \"TEMP\" VALUES(3,'소금빵');\n",
      "CREATE TABLE TEST(\n",
      "        PK INTEGER NOT NULL UNIQUE,\n",
      "        NAME TEXT NOT NULL\n",
      "    );\n",
      "COMMIT;\n"
     ]
    }
   ],
   "source": [
    "for line in con.iterdump():\n",
    "    print(line)"
   ]
  },
  {
   "cell_type": "code",
   "execution_count": 177,
   "id": "69542276",
   "metadata": {},
   "outputs": [],
   "source": [
    "con.close()"
   ]
  },
  {
   "cell_type": "code",
   "execution_count": 178,
   "id": "eca1f49e",
   "metadata": {},
   "outputs": [
    {
     "data": {
      "text/plain": [
       "[(1, '소금빵'), (2, '소금빵'), (3, '소금빵')]"
      ]
     },
     "execution_count": 178,
     "metadata": {},
     "output_type": "execute_result"
    }
   ],
   "source": [
    "con = sqlite3.connect('1027.db')\n",
    "cur = con.cursor()\n",
    "cur.execute('SELECT * FROM TEMP')\n",
    "cur.fetchall()"
   ]
  },
  {
   "cell_type": "code",
   "execution_count": 180,
   "id": "f02d5ef4",
   "metadata": {},
   "outputs": [
    {
     "data": {
      "text/plain": [
       "<sqlite3.Cursor at 0x16feb600740>"
      ]
     },
     "execution_count": 180,
     "metadata": {},
     "output_type": "execute_result"
    }
   ],
   "source": [
    "cur.execute('''\n",
    "    CREATE TABLE TEST2(\n",
    "        PK INTEGER NOT NULL UNIQUE,\n",
    "        NAME TEXT NOT NULL\n",
    "    )\n",
    "''')"
   ]
  },
  {
   "cell_type": "code",
   "execution_count": 181,
   "id": "435ac037",
   "metadata": {},
   "outputs": [],
   "source": [
    "con.close()"
   ]
  },
  {
   "cell_type": "code",
   "execution_count": 182,
   "id": "3451803e",
   "metadata": {},
   "outputs": [
    {
     "data": {
      "text/plain": [
       "[]"
      ]
     },
     "execution_count": 182,
     "metadata": {},
     "output_type": "execute_result"
    }
   ],
   "source": [
    "con = sqlite3.connect('1027.db')\n",
    "cur = con.cursor()\n",
    "cur.execute('SELECT * FROM TEST2')\n",
    "cur.fetchall()"
   ]
  },
  {
   "cell_type": "code",
   "execution_count": 186,
   "id": "61974f52",
   "metadata": {},
   "outputs": [],
   "source": [
    "con.close()"
   ]
  },
  {
   "cell_type": "code",
   "execution_count": 187,
   "id": "505a1fd4",
   "metadata": {},
   "outputs": [],
   "source": [
    "con = sqlite3.connect('sns.db')\n",
    "cur = con.cursor()"
   ]
  },
  {
   "cell_type": "code",
   "execution_count": 188,
   "id": "7d460e33",
   "metadata": {},
   "outputs": [
    {
     "data": {
      "text/plain": [
       "<sqlite3.Cursor at 0x16feb678040>"
      ]
     },
     "execution_count": 188,
     "metadata": {},
     "output_type": "execute_result"
    }
   ],
   "source": [
    "cur.executescript('''\n",
    "    CREATE TABLE POST(\n",
    "        PK INTEGER PRIMARY KEY,\n",
    "        CONTENT TEXT\n",
    "    );\n",
    "    CREATE TABLE HASHTAG(\n",
    "        PK INTEGER PRIMARY KEY,\n",
    "        COUNT INTEGER DEFAULT 0,\n",
    "        NAME TEXT\n",
    "    );\n",
    "    CREATE TABLE POSTTAG(\n",
    "        PPK INTEGER NOT NULL,\n",
    "        HPK INTEGER NOT NULL\n",
    "    );\n",
    "''')"
   ]
  },
  {
   "cell_type": "code",
   "execution_count": 190,
   "id": "59037b7b",
   "metadata": {},
   "outputs": [
    {
     "data": {
      "text/plain": [
       "[(0,)]"
      ]
     },
     "execution_count": 190,
     "metadata": {},
     "output_type": "execute_result"
    }
   ],
   "source": [
    "data = {'tag':'ORM'}\n",
    "\n",
    "cur.execute('''\n",
    "    SELECT COUNT(*) FROM HASHTAG\n",
    "    WHERE NAME =:tag\n",
    "''', data)\n",
    "\n",
    "cur.fetchall()"
   ]
  },
  {
   "cell_type": "code",
   "execution_count": 191,
   "id": "042cee3b",
   "metadata": {},
   "outputs": [
    {
     "data": {
      "text/plain": [
       "[]"
      ]
     },
     "execution_count": 191,
     "metadata": {},
     "output_type": "execute_result"
    }
   ],
   "source": [
    "cur.execute('''\n",
    "    SELECT * FROM HASHTAG\n",
    "    WHERE NAME =:tag\n",
    "''', data)\n",
    "\n",
    "cur.fetchall()"
   ]
  },
  {
   "cell_type": "code",
   "execution_count": 192,
   "id": "915ae01c",
   "metadata": {},
   "outputs": [],
   "source": [
    "#아무것도 없는걸 알 수 있다."
   ]
  },
  {
   "cell_type": "code",
   "execution_count": 194,
   "id": "5ea13891",
   "metadata": {},
   "outputs": [
    {
     "data": {
      "text/plain": [
       "0"
      ]
     },
     "execution_count": 194,
     "metadata": {},
     "output_type": "execute_result"
    }
   ],
   "source": [
    "cur.execute('''\n",
    "    SELECT COUNT(*) FROM HASHTAG\n",
    "    WHERE NAME =:tag\n",
    "''', data)\n",
    "\n",
    "cur.fetchone()[0]"
   ]
  },
  {
   "cell_type": "code",
   "execution_count": 195,
   "id": "1434df04",
   "metadata": {},
   "outputs": [],
   "source": [
    "cur.execute('''\n",
    "    SELECT COUNT(*) FROM HASHTAG\n",
    "    WHERE NAME =:tag\n",
    "''', data)\n",
    "\n",
    "if cur.fetchone()[0] == 0:\n",
    "    cur.execute('''\n",
    "        INSERT INTO HASHTAG(NAME) VALUES (:tag)\n",
    "    ''', data)\n",
    "    con.commit()"
   ]
  },
  {
   "cell_type": "code",
   "execution_count": 196,
   "id": "28e324df",
   "metadata": {},
   "outputs": [
    {
     "data": {
      "text/plain": [
       "(1,)"
      ]
     },
     "execution_count": 196,
     "metadata": {},
     "output_type": "execute_result"
    }
   ],
   "source": [
    "cur.execute('''\n",
    "    SELECT PK\n",
    "    FROM HASHTAG\n",
    "    WHERE NAME =:tag\n",
    "    LIMIT 0,1\n",
    "''', data)\n",
    "\n",
    "cur.fetchone()"
   ]
  },
  {
   "cell_type": "code",
   "execution_count": 197,
   "id": "bd2c2781",
   "metadata": {},
   "outputs": [
    {
     "data": {
      "text/plain": [
       "1"
      ]
     },
     "execution_count": 197,
     "metadata": {},
     "output_type": "execute_result"
    }
   ],
   "source": [
    "cur.execute('''\n",
    "    SELECT PK\n",
    "    FROM HASHTAG\n",
    "    WHERE NAME =:tag\n",
    "    LIMIT 0,1\n",
    "''', data)\n",
    "\n",
    "cur.fetchone()[0]"
   ]
  },
  {
   "cell_type": "code",
   "execution_count": 198,
   "id": "61bc103a",
   "metadata": {
    "scrolled": false
   },
   "outputs": [
    {
     "data": {
      "text/plain": [
       "1"
      ]
     },
     "execution_count": 198,
     "metadata": {},
     "output_type": "execute_result"
    }
   ],
   "source": [
    "cur.execute('''\n",
    "    SELECT PK\n",
    "    FROM HASHTAG\n",
    "    WHERE NAME =:tag\n",
    "    LIMIT 0,1\n",
    "''', data)\n",
    "\n",
    "PK = cur.fetchone()[0]\n",
    "PK"
   ]
  },
  {
   "cell_type": "code",
   "execution_count": 199,
   "id": "1f2f9e8c",
   "metadata": {},
   "outputs": [
    {
     "data": {
      "text/plain": [
       "[(1, '본문1')]"
      ]
     },
     "execution_count": 199,
     "metadata": {},
     "output_type": "execute_result"
    }
   ],
   "source": [
    "data1 = {'content':'본문1', 'tags':['Python']}\n",
    "\n",
    "cur.execute('INSERT INTO POST(CONTENT) VALUES(:content)', data1)\n",
    "con.commit()\n",
    "PPK = cur.lastrowid\n",
    "cur.execute('SELECT * FROM POST')\n",
    "cur.fetchall()"
   ]
  },
  {
   "cell_type": "code",
   "execution_count": 200,
   "id": "91bf8ef1",
   "metadata": {},
   "outputs": [
    {
     "data": {
      "text/plain": [
       "1"
      ]
     },
     "execution_count": 200,
     "metadata": {},
     "output_type": "execute_result"
    }
   ],
   "source": [
    "PPK"
   ]
  },
  {
   "cell_type": "code",
   "execution_count": 201,
   "id": "6e462150",
   "metadata": {},
   "outputs": [],
   "source": [
    "for tag in data1['tags']:\n",
    "    data2 = {'tag':tag}\n",
    "    \n",
    "    cur.execute('''\n",
    "        SELECT COUNT(*) FROM HASHTAG\n",
    "        WHERE NAME =:tag\n",
    "    ''', data2)\n",
    "    \n",
    "    if cur.fetchone()[0] == 0:\n",
    "        cur.execute('''\n",
    "            INSERT INTO HASHTAG(NAME) VALUES(:tag)\n",
    "        ''', data2)\n",
    "        con.commit()\n",
    "        \n",
    "    cur.execute('''\n",
    "        SELECT PK\n",
    "        FROM HASHTAG\n",
    "        WHERE NAME =:tag\n",
    "        LIMIT 0,1\n",
    "    ''', data2)\n",
    "    \n",
    "    TPK = cur.fetchone()[0]\n",
    "    \n",
    "    cur.execute('INSERT INTO POSTTAG VALUES(?,?)', [PPK, TPK])\n",
    "    cur.execute('''\n",
    "        UPDATE HASHTAG SET COUNT = COUNT +1\n",
    "        WHERE PK = ?\n",
    "    ''', [TPK])\n",
    "    con.commit()"
   ]
  },
  {
   "cell_type": "code",
   "execution_count": 202,
   "id": "ae3e50a7",
   "metadata": {},
   "outputs": [
    {
     "data": {
      "text/plain": [
       "[(1, 0, 'ORM'), (2, 1, 'Python')]"
      ]
     },
     "execution_count": 202,
     "metadata": {},
     "output_type": "execute_result"
    }
   ],
   "source": [
    "cur.execute('''\n",
    "    SELECT * FROM HASHTAG\n",
    "''')\n",
    "cur.fetchall()"
   ]
  },
  {
   "cell_type": "code",
   "execution_count": 203,
   "id": "87ca1e99",
   "metadata": {},
   "outputs": [
    {
     "data": {
      "text/plain": [
       "[(1, '본문1')]"
      ]
     },
     "execution_count": 203,
     "metadata": {},
     "output_type": "execute_result"
    }
   ],
   "source": [
    "cur.execute('''\n",
    "    SELECT * FROM POST\n",
    "''')\n",
    "cur.fetchall()"
   ]
  },
  {
   "cell_type": "code",
   "execution_count": 204,
   "id": "defa004c",
   "metadata": {},
   "outputs": [
    {
     "data": {
      "text/plain": [
       "[(1, 2)]"
      ]
     },
     "execution_count": 204,
     "metadata": {},
     "output_type": "execute_result"
    }
   ],
   "source": [
    "cur.execute('''\n",
    "    SELECT * FROM POSTTAG\n",
    "''')\n",
    "cur.fetchall()"
   ]
  },
  {
   "cell_type": "code",
   "execution_count": null,
   "id": "1a191abf",
   "metadata": {},
   "outputs": [],
   "source": []
  }
 ],
 "metadata": {
  "kernelspec": {
   "display_name": "Python 3 (ipykernel)",
   "language": "python",
   "name": "python3"
  },
  "language_info": {
   "codemirror_mode": {
    "name": "ipython",
    "version": 3
   },
   "file_extension": ".py",
   "mimetype": "text/x-python",
   "name": "python",
   "nbconvert_exporter": "python",
   "pygments_lexer": "ipython3",
   "version": "3.11.5"
  }
 },
 "nbformat": 4,
 "nbformat_minor": 5
}
