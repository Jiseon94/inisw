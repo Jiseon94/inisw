{
 "cells": [
  {
   "cell_type": "markdown",
   "id": "5e5488ac",
   "metadata": {},
   "source": [
    "# SQLAlchemy"
   ]
  },
  {
   "cell_type": "code",
   "execution_count": 1,
   "id": "b876646b",
   "metadata": {},
   "outputs": [
    {
     "name": "stdout",
     "output_type": "stream",
     "text": [
      "Defaulting to user installation because normal site-packages is not writeable\n",
      "Requirement already satisfied: SQLAlchemy in c:\\users\\user\\appdata\\roaming\\python\\python310\\site-packages (2.0.20)\n",
      "Requirement already satisfied: typing-extensions>=4.2.0 in c:\\users\\user\\appdata\\roaming\\python\\python310\\site-packages (from SQLAlchemy) (4.8.0)\n",
      "Requirement already satisfied: greenlet!=0.4.17 in c:\\users\\user\\appdata\\roaming\\python\\python310\\site-packages (from SQLAlchemy) (2.0.2)\n"
     ]
    },
    {
     "name": "stderr",
     "output_type": "stream",
     "text": [
      "\n",
      "[notice] A new release of pip is available: 23.2.1 -> 23.3.1\n",
      "[notice] To update, run: python.exe -m pip install --upgrade pip\n"
     ]
    }
   ],
   "source": [
    "!pip install SQLAlchemy"
   ]
  },
  {
   "cell_type": "code",
   "execution_count": 3,
   "id": "21b34e70",
   "metadata": {},
   "outputs": [
    {
     "name": "stdout",
     "output_type": "stream",
     "text": [
      "Defaulting to user installation because normal site-packages is not writeable\n",
      "Requirement already satisfied: pip in c:\\users\\user\\appdata\\roaming\\python\\python310\\site-packages (23.2.1)\n",
      "Collecting pip\n",
      "  Obtaining dependency information for pip from https://files.pythonhosted.org/packages/47/6a/453160888fab7c6a432a6e25f8afe6256d0d9f2cbd25971021da6491d899/pip-23.3.1-py3-none-any.whl.metadata\n",
      "  Downloading pip-23.3.1-py3-none-any.whl.metadata (3.5 kB)\n",
      "Downloading pip-23.3.1-py3-none-any.whl (2.1 MB)\n",
      "   ---------------------------------------- 0.0/2.1 MB ? eta -:--:--\n",
      "   --- ------------------------------------ 0.2/2.1 MB 5.3 MB/s eta 0:00:01\n",
      "   ------ --------------------------------- 0.3/2.1 MB 5.3 MB/s eta 0:00:01\n",
      "   ---------- ----------------------------- 0.6/2.1 MB 6.0 MB/s eta 0:00:01\n",
      "   -------------- ------------------------- 0.7/2.1 MB 5.3 MB/s eta 0:00:01\n",
      "   --------------- ------------------------ 0.8/2.1 MB 5.3 MB/s eta 0:00:01\n",
      "   ------------------ --------------------- 1.0/2.1 MB 4.5 MB/s eta 0:00:01\n",
      "   --------------------- ------------------ 1.1/2.1 MB 4.3 MB/s eta 0:00:01\n",
      "   ----------------------- ---------------- 1.2/2.1 MB 4.1 MB/s eta 0:00:01\n",
      "   ------------------------- -------------- 1.4/2.1 MB 3.9 MB/s eta 0:00:01\n",
      "   --------------------------- ------------ 1.5/2.1 MB 3.9 MB/s eta 0:00:01\n",
      "   ----------------------------- ---------- 1.6/2.1 MB 3.7 MB/s eta 0:00:01\n",
      "   ------------------------------- -------- 1.7/2.1 MB 3.7 MB/s eta 0:00:01\n",
      "   --------------------------------- ------ 1.8/2.1 MB 3.6 MB/s eta 0:00:01\n",
      "   ----------------------------------- ---- 1.9/2.1 MB 3.5 MB/s eta 0:00:01\n",
      "   -------------------------------------- - 2.0/2.1 MB 3.5 MB/s eta 0:00:01\n",
      "   ---------------------------------------- 2.1/2.1 MB 3.4 MB/s eta 0:00:00\n"
     ]
    },
    {
     "name": "stderr",
     "output_type": "stream",
     "text": [
      "ERROR: To modify pip, please run the following command:\n",
      "C:\\Program Files\\Python310\\python.exe -m pip install --upgrade pip\n",
      "\n",
      "[notice] A new release of pip is available: 23.2.1 -> 23.3.1\n",
      "[notice] To update, run: python.exe -m pip install --upgrade pip\n"
     ]
    }
   ],
   "source": [
    "!pip install --upgrade pip"
   ]
  },
  {
   "cell_type": "code",
   "execution_count": 6,
   "id": "52125c6e",
   "metadata": {},
   "outputs": [],
   "source": [
    "from sqlalchemy import create_engine, MetaData\n",
    "from sqlalchemy.schema import Table, Column, ForeignKey\n",
    "from sqlalchemy.types import Integer, Text"
   ]
  },
  {
   "cell_type": "code",
   "execution_count": 8,
   "id": "e30d34fe",
   "metadata": {},
   "outputs": [],
   "source": [
    "engine = create_engine('sqlite:///:memory:', echo=True)"
   ]
  },
  {
   "cell_type": "code",
   "execution_count": 9,
   "id": "a72b52fe",
   "metadata": {},
   "outputs": [],
   "source": [
    "meta = MetaData()"
   ]
  },
  {
   "cell_type": "code",
   "execution_count": 10,
   "id": "9fdc770b",
   "metadata": {},
   "outputs": [],
   "source": [
    "user = Table('USER', meta,\n",
    "            Column('PK', Integer, primary_key=True),\n",
    "            Column('NAME', Text, nullable=True))"
   ]
  },
  {
   "cell_type": "code",
   "execution_count": 11,
   "id": "e397bb82",
   "metadata": {},
   "outputs": [],
   "source": [
    "# meta = MetaData() 의 역할은 바인딩 시켜주는건가?"
   ]
  },
  {
   "cell_type": "code",
   "execution_count": 12,
   "id": "1c10e486",
   "metadata": {},
   "outputs": [
    {
     "name": "stdout",
     "output_type": "stream",
     "text": [
      "2023-10-27 23:37:47,611 INFO sqlalchemy.engine.Engine BEGIN (implicit)\n",
      "2023-10-27 23:37:47,611 INFO sqlalchemy.engine.Engine PRAGMA main.table_info(\"USER\")\n",
      "2023-10-27 23:37:47,613 INFO sqlalchemy.engine.Engine [raw sql] ()\n",
      "2023-10-27 23:37:47,614 INFO sqlalchemy.engine.Engine PRAGMA temp.table_info(\"USER\")\n",
      "2023-10-27 23:37:47,614 INFO sqlalchemy.engine.Engine [raw sql] ()\n",
      "2023-10-27 23:37:47,616 INFO sqlalchemy.engine.Engine \n",
      "CREATE TABLE \"USER\" (\n",
      "\t\"PK\" INTEGER NOT NULL, \n",
      "\t\"NAME\" TEXT, \n",
      "\tPRIMARY KEY (\"PK\")\n",
      ")\n",
      "\n",
      "\n",
      "2023-10-27 23:37:47,616 INFO sqlalchemy.engine.Engine [no key 0.00071s] ()\n",
      "2023-10-27 23:37:47,618 INFO sqlalchemy.engine.Engine COMMIT\n"
     ]
    }
   ],
   "source": [
    "meta.create_all(engine)"
   ]
  },
  {
   "cell_type": "code",
   "execution_count": 13,
   "id": "928524a8",
   "metadata": {},
   "outputs": [
    {
     "data": {
      "text/plain": [
       "MetaData()"
      ]
     },
     "execution_count": 13,
     "metadata": {},
     "output_type": "execute_result"
    }
   ],
   "source": [
    "meta"
   ]
  },
  {
   "cell_type": "code",
   "execution_count": 14,
   "id": "0abf4f77",
   "metadata": {},
   "outputs": [
    {
     "data": {
      "text/plain": [
       "Engine(sqlite:///:memory:)"
      ]
     },
     "execution_count": 14,
     "metadata": {},
     "output_type": "execute_result"
    }
   ],
   "source": [
    "engine"
   ]
  },
  {
   "cell_type": "code",
   "execution_count": 15,
   "id": "cf0d298c",
   "metadata": {},
   "outputs": [
    {
     "data": {
      "text/plain": [
       "Table('USER', MetaData(), Column('PK', Integer(), table=<USER>, primary_key=True, nullable=False), Column('NAME', Text(), table=<USER>), schema=None)"
      ]
     },
     "execution_count": 15,
     "metadata": {},
     "output_type": "execute_result"
    }
   ],
   "source": [
    "user"
   ]
  },
  {
   "cell_type": "code",
   "execution_count": 17,
   "id": "04ed8948",
   "metadata": {},
   "outputs": [
    {
     "data": {
      "text/plain": [
       "MetaData()"
      ]
     },
     "execution_count": 17,
     "metadata": {},
     "output_type": "execute_result"
    }
   ],
   "source": [
    "meta"
   ]
  },
  {
   "cell_type": "code",
   "execution_count": 18,
   "id": "3715ed7a",
   "metadata": {},
   "outputs": [
    {
     "data": {
      "text/plain": [
       "Table('USER', MetaData(), Column('PK', Integer(), table=<USER>, primary_key=True, nullable=False), Column('NAME', Text(), table=<USER>), schema=None)"
      ]
     },
     "execution_count": 18,
     "metadata": {},
     "output_type": "execute_result"
    }
   ],
   "source": [
    "user"
   ]
  },
  {
   "cell_type": "code",
   "execution_count": 19,
   "id": "9b41a5a8",
   "metadata": {},
   "outputs": [
    {
     "data": {
      "text/plain": [
       "Engine(sqlite:///:memory:)"
      ]
     },
     "execution_count": 19,
     "metadata": {},
     "output_type": "execute_result"
    }
   ],
   "source": [
    "engine"
   ]
  },
  {
   "cell_type": "code",
   "execution_count": 21,
   "id": "332d0a54",
   "metadata": {},
   "outputs": [
    {
     "data": {
      "text/plain": [
       "FacadeDict({})"
      ]
     },
     "execution_count": 21,
     "metadata": {},
     "output_type": "execute_result"
    }
   ],
   "source": [
    "meta.tables\n",
    "#이게 뭘까...... tables 가 뭐길래 FacadeDict() 인걸까."
   ]
  },
  {
   "cell_type": "code",
   "execution_count": 16,
   "id": "d12dddc0",
   "metadata": {},
   "outputs": [],
   "source": [
    "meta.clear()"
   ]
  },
  {
   "cell_type": "code",
   "execution_count": 22,
   "id": "77b9ffa9",
   "metadata": {},
   "outputs": [
    {
     "name": "stdout",
     "output_type": "stream",
     "text": [
      "2023-10-27 23:40:50,365 INFO sqlalchemy.engine.Engine BEGIN (implicit)\n",
      "2023-10-27 23:40:50,366 INFO sqlalchemy.engine.Engine COMMIT\n"
     ]
    }
   ],
   "source": [
    "meta.create_all(engine)"
   ]
  },
  {
   "cell_type": "code",
   "execution_count": 23,
   "id": "657c16d6",
   "metadata": {},
   "outputs": [
    {
     "name": "stdout",
     "output_type": "stream",
     "text": [
      "2023-10-27 23:45:49,177 INFO sqlalchemy.engine.Engine SELECT name FROM sqlite_master WHERE type='table' ORDER BY name\n",
      "2023-10-27 23:45:49,177 INFO sqlalchemy.engine.Engine [raw sql] ()\n",
      "2023-10-27 23:45:49,177 INFO sqlalchemy.engine.Engine PRAGMA main.table_xinfo(\"USER\")\n",
      "2023-10-27 23:45:49,177 INFO sqlalchemy.engine.Engine [raw sql] ()\n",
      "2023-10-27 23:45:49,177 INFO sqlalchemy.engine.Engine SELECT sql FROM  (SELECT * FROM sqlite_master UNION ALL   SELECT * FROM sqlite_temp_master) WHERE name = ? AND type = 'table'\n",
      "2023-10-27 23:45:49,177 INFO sqlalchemy.engine.Engine [raw sql] ('USER',)\n",
      "2023-10-27 23:45:49,192 INFO sqlalchemy.engine.Engine PRAGMA main.foreign_key_list(\"USER\")\n",
      "2023-10-27 23:45:49,193 INFO sqlalchemy.engine.Engine [raw sql] ()\n",
      "2023-10-27 23:45:49,193 INFO sqlalchemy.engine.Engine PRAGMA temp.foreign_key_list(\"USER\")\n",
      "2023-10-27 23:45:49,194 INFO sqlalchemy.engine.Engine [raw sql] ()\n",
      "2023-10-27 23:45:49,195 INFO sqlalchemy.engine.Engine SELECT sql FROM  (SELECT * FROM sqlite_master UNION ALL   SELECT * FROM sqlite_temp_master) WHERE name = ? AND type = 'table'\n",
      "2023-10-27 23:45:49,195 INFO sqlalchemy.engine.Engine [raw sql] ('USER',)\n",
      "2023-10-27 23:45:49,197 INFO sqlalchemy.engine.Engine PRAGMA main.index_list(\"USER\")\n",
      "2023-10-27 23:45:49,198 INFO sqlalchemy.engine.Engine [raw sql] ()\n",
      "2023-10-27 23:45:49,198 INFO sqlalchemy.engine.Engine PRAGMA temp.index_list(\"USER\")\n",
      "2023-10-27 23:45:49,199 INFO sqlalchemy.engine.Engine [raw sql] ()\n",
      "2023-10-27 23:45:49,200 INFO sqlalchemy.engine.Engine PRAGMA main.index_list(\"USER\")\n",
      "2023-10-27 23:45:49,201 INFO sqlalchemy.engine.Engine [raw sql] ()\n",
      "2023-10-27 23:45:49,202 INFO sqlalchemy.engine.Engine PRAGMA temp.index_list(\"USER\")\n",
      "2023-10-27 23:45:49,202 INFO sqlalchemy.engine.Engine [raw sql] ()\n",
      "2023-10-27 23:45:49,203 INFO sqlalchemy.engine.Engine SELECT sql FROM  (SELECT * FROM sqlite_master UNION ALL   SELECT * FROM sqlite_temp_master) WHERE name = ? AND type = 'table'\n",
      "2023-10-27 23:45:49,204 INFO sqlalchemy.engine.Engine [raw sql] ('USER',)\n"
     ]
    }
   ],
   "source": [
    "meta.reflect(engine)"
   ]
  },
  {
   "cell_type": "code",
   "execution_count": 24,
   "id": "f6e4dfcf",
   "metadata": {},
   "outputs": [
    {
     "data": {
      "text/plain": [
       "FacadeDict({'USER': Table('USER', MetaData(), Column('PK', INTEGER(), table=<USER>, primary_key=True, nullable=False), Column('NAME', TEXT(), table=<USER>), schema=None)})"
      ]
     },
     "execution_count": 24,
     "metadata": {},
     "output_type": "execute_result"
    }
   ],
   "source": [
    "meta.tables"
   ]
  },
  {
   "cell_type": "code",
   "execution_count": 25,
   "id": "77c2f5c6",
   "metadata": {},
   "outputs": [],
   "source": [
    "meta.clear()"
   ]
  },
  {
   "cell_type": "code",
   "execution_count": 26,
   "id": "75eba3d1",
   "metadata": {},
   "outputs": [
    {
     "data": {
      "text/plain": [
       "FacadeDict({})"
      ]
     },
     "execution_count": 26,
     "metadata": {},
     "output_type": "execute_result"
    }
   ],
   "source": [
    "meta.tables"
   ]
  },
  {
   "cell_type": "code",
   "execution_count": 27,
   "id": "31eccebe",
   "metadata": {},
   "outputs": [],
   "source": [
    "user1 = user.insert().values(NAME='아무개')"
   ]
  },
  {
   "cell_type": "code",
   "execution_count": 28,
   "id": "87780498",
   "metadata": {},
   "outputs": [
    {
     "data": {
      "text/plain": [
       "Table('USER', MetaData(), Column('PK', Integer(), table=<USER>, primary_key=True, nullable=False), Column('NAME', Text(), table=<USER>), schema=None)"
      ]
     },
     "execution_count": 28,
     "metadata": {},
     "output_type": "execute_result"
    }
   ],
   "source": [
    "user"
   ]
  },
  {
   "cell_type": "code",
   "execution_count": 29,
   "id": "084ce778",
   "metadata": {},
   "outputs": [
    {
     "data": {
      "text/plain": [
       "'USER'"
      ]
     },
     "execution_count": 29,
     "metadata": {},
     "output_type": "execute_result"
    }
   ],
   "source": [
    "user.name"
   ]
  },
  {
   "cell_type": "code",
   "execution_count": 30,
   "id": "c67cd7e6",
   "metadata": {},
   "outputs": [
    {
     "data": {
      "text/plain": [
       "<sqlalchemy.sql.dml.Insert object at 0x000001D8B7E12A50>"
      ]
     },
     "execution_count": 30,
     "metadata": {},
     "output_type": "execute_result"
    }
   ],
   "source": [
    "user1\n",
    "#아니 그러면, '아무개' 라고 insert 한 저 데이터는 어디서 볼 수 있는거지..?"
   ]
  },
  {
   "cell_type": "code",
   "execution_count": 31,
   "id": "b55d7516",
   "metadata": {},
   "outputs": [
    {
     "name": "stdout",
     "output_type": "stream",
     "text": [
      "INSERT INTO \"USER\" (\"NAME\") VALUES (:NAME)\n"
     ]
    }
   ],
   "source": [
    "print(user1.compile())"
   ]
  },
  {
   "cell_type": "code",
   "execution_count": 32,
   "id": "082bd203",
   "metadata": {},
   "outputs": [
    {
     "name": "stdout",
     "output_type": "stream",
     "text": [
      "{'NAME': '아무개'}\n"
     ]
    }
   ],
   "source": [
    "print(user1.compile().params)"
   ]
  },
  {
   "cell_type": "code",
   "execution_count": 33,
   "id": "3f68fd44",
   "metadata": {},
   "outputs": [
    {
     "data": {
      "text/plain": [
       "<sqlalchemy.sql.compiler.StrSQLCompiler at 0x1d8b86c3e10>"
      ]
     },
     "execution_count": 33,
     "metadata": {},
     "output_type": "execute_result"
    }
   ],
   "source": [
    "user1.compile()"
   ]
  },
  {
   "cell_type": "code",
   "execution_count": 34,
   "id": "f28b001a",
   "metadata": {},
   "outputs": [
    {
     "data": {
      "text/plain": [
       "<sqlalchemy.sql.dml.Insert object at 0x000001D8B7E12A50>"
      ]
     },
     "execution_count": 34,
     "metadata": {},
     "output_type": "execute_result"
    }
   ],
   "source": [
    "user1"
   ]
  },
  {
   "cell_type": "code",
   "execution_count": 35,
   "id": "a3c457fb",
   "metadata": {},
   "outputs": [
    {
     "name": "stdout",
     "output_type": "stream",
     "text": [
      "INSERT INTO \"USER\" (\"NAME\") VALUES (:NAME)\n"
     ]
    }
   ],
   "source": [
    "print(user1)"
   ]
  },
  {
   "cell_type": "code",
   "execution_count": 36,
   "id": "d281fd63",
   "metadata": {},
   "outputs": [
    {
     "name": "stdout",
     "output_type": "stream",
     "text": [
      "<bound method UpdateBase.params of <sqlalchemy.sql.dml.Insert object at 0x000001D8B7E12A50>>\n"
     ]
    }
   ],
   "source": [
    "print(user1.params)"
   ]
  },
  {
   "cell_type": "code",
   "execution_count": 37,
   "id": "3b13a883",
   "metadata": {},
   "outputs": [
    {
     "name": "stdout",
     "output_type": "stream",
     "text": [
      "Defaulting to user installation because normal site-packages is not writeable\n",
      "Requirement already satisfied: sqlalchemy in c:\\users\\user\\appdata\\roaming\\python\\python310\\site-packages (2.0.20)\n",
      "Collecting sqlalchemy\n",
      "  Obtaining dependency information for sqlalchemy from https://files.pythonhosted.org/packages/99/d5/8293efd969f05cca8281b28d88a53c818903768e4339e1ca78897dbd242d/SQLAlchemy-2.0.22-cp310-cp310-win_amd64.whl.metadata\n",
      "  Downloading SQLAlchemy-2.0.22-cp310-cp310-win_amd64.whl.metadata (9.7 kB)\n",
      "Requirement already satisfied: typing-extensions>=4.2.0 in c:\\users\\user\\appdata\\roaming\\python\\python310\\site-packages (from sqlalchemy) (4.8.0)\n",
      "Requirement already satisfied: greenlet!=0.4.17 in c:\\users\\user\\appdata\\roaming\\python\\python310\\site-packages (from sqlalchemy) (2.0.2)\n",
      "Downloading SQLAlchemy-2.0.22-cp310-cp310-win_amd64.whl (2.1 MB)\n",
      "   ---------------------------------------- 0.0/2.1 MB ? eta -:--:--\n",
      "   -------- ------------------------------- 0.5/2.1 MB 14.2 MB/s eta 0:00:01\n",
      "   ----------------- ---------------------- 0.9/2.1 MB 9.8 MB/s eta 0:00:01\n",
      "   --------------------------- ------------ 1.4/2.1 MB 11.1 MB/s eta 0:00:01\n",
      "   ------------------------------------ --- 1.9/2.1 MB 10.9 MB/s eta 0:00:01\n",
      "   ---------------------------------------- 2.1/2.1 MB 9.4 MB/s eta 0:00:00\n",
      "Installing collected packages: sqlalchemy\n",
      "  Attempting uninstall: sqlalchemy\n",
      "    Found existing installation: SQLAlchemy 2.0.20\n",
      "    Uninstalling SQLAlchemy-2.0.20:\n",
      "      Successfully uninstalled SQLAlchemy-2.0.20\n",
      "Successfully installed sqlalchemy-2.0.22\n"
     ]
    },
    {
     "name": "stderr",
     "output_type": "stream",
     "text": [
      "\n",
      "[notice] A new release of pip is available: 23.2.1 -> 23.3.1\n",
      "[notice] To update, run: python.exe -m pip install --upgrade pip\n"
     ]
    }
   ],
   "source": [
    "!pip install sqlalchemy --upgrade"
   ]
  },
  {
   "cell_type": "code",
   "execution_count": 38,
   "id": "510b7411",
   "metadata": {},
   "outputs": [],
   "source": [
    "from sqlalchemy.sql import select, insert, update, delete, join, func"
   ]
  },
  {
   "cell_type": "code",
   "execution_count": 39,
   "id": "b72a21fa",
   "metadata": {},
   "outputs": [],
   "source": [
    "con = engine.connect()"
   ]
  },
  {
   "cell_type": "code",
   "execution_count": 40,
   "id": "e3dd18c3",
   "metadata": {},
   "outputs": [],
   "source": [
    "meta = MetaData()"
   ]
  },
  {
   "cell_type": "code",
   "execution_count": 41,
   "id": "f4f9795b",
   "metadata": {},
   "outputs": [
    {
     "data": {
      "text/plain": [
       "FacadeDict({})"
      ]
     },
     "execution_count": 41,
     "metadata": {},
     "output_type": "execute_result"
    }
   ],
   "source": [
    "meta.tables"
   ]
  },
  {
   "cell_type": "code",
   "execution_count": 42,
   "id": "aa93fa55",
   "metadata": {},
   "outputs": [
    {
     "data": {
      "text/plain": [
       "Table('User', MetaData(), Column('PK', Integer(), table=<User>, primary_key=True, nullable=False), Column('NAME', Text(), table=<User>), schema=None)"
      ]
     },
     "execution_count": 42,
     "metadata": {},
     "output_type": "execute_result"
    }
   ],
   "source": [
    "Table('User', meta,\n",
    "     Column('PK', Integer, primary_key=True),\n",
    "     Column('NAME', Text, nullable=True))"
   ]
  },
  {
   "cell_type": "code",
   "execution_count": 43,
   "id": "29206e7f",
   "metadata": {},
   "outputs": [
    {
     "data": {
      "text/plain": [
       "FacadeDict({'User': Table('User', MetaData(), Column('PK', Integer(), table=<User>, primary_key=True, nullable=False), Column('NAME', Text(), table=<User>), schema=None)})"
      ]
     },
     "execution_count": 43,
     "metadata": {},
     "output_type": "execute_result"
    }
   ],
   "source": [
    "meta.tables"
   ]
  },
  {
   "cell_type": "code",
   "execution_count": 44,
   "id": "af4578f9",
   "metadata": {},
   "outputs": [
    {
     "ename": "KeyError",
     "evalue": "'USER'",
     "output_type": "error",
     "traceback": [
      "\u001b[1;31m---------------------------------------------------------------------------\u001b[0m",
      "\u001b[1;31mKeyError\u001b[0m                                  Traceback (most recent call last)",
      "Cell \u001b[1;32mIn[44], line 1\u001b[0m\n\u001b[1;32m----> 1\u001b[0m meta\u001b[38;5;241m.\u001b[39mtables[\u001b[38;5;124m'\u001b[39m\u001b[38;5;124mUSER\u001b[39m\u001b[38;5;124m'\u001b[39m]\n",
      "\u001b[1;31mKeyError\u001b[0m: 'USER'"
     ]
    }
   ],
   "source": [
    "meta.tables['USER']"
   ]
  },
  {
   "cell_type": "code",
   "execution_count": 45,
   "id": "45a9121b",
   "metadata": {},
   "outputs": [],
   "source": [
    "meta.clear()"
   ]
  },
  {
   "cell_type": "code",
   "execution_count": 46,
   "id": "b255a345",
   "metadata": {},
   "outputs": [
    {
     "data": {
      "text/plain": [
       "FacadeDict({})"
      ]
     },
     "execution_count": 46,
     "metadata": {},
     "output_type": "execute_result"
    }
   ],
   "source": [
    "meta.tables"
   ]
  },
  {
   "cell_type": "code",
   "execution_count": 47,
   "id": "04c261d3",
   "metadata": {},
   "outputs": [
    {
     "data": {
      "text/plain": [
       "Table('USER', MetaData(), Column('PK', Integer(), table=<USER>, primary_key=True, nullable=False), Column('NAME', Text(), table=<USER>), schema=None)"
      ]
     },
     "execution_count": 47,
     "metadata": {},
     "output_type": "execute_result"
    }
   ],
   "source": [
    "Table('USER', meta,\n",
    "     Column('PK', Integer, primary_key=True),\n",
    "     Column('NAME', Text, nullable=True))"
   ]
  },
  {
   "cell_type": "code",
   "execution_count": 48,
   "id": "203f562a",
   "metadata": {},
   "outputs": [
    {
     "data": {
      "text/plain": [
       "FacadeDict({'USER': Table('USER', MetaData(), Column('PK', Integer(), table=<USER>, primary_key=True, nullable=False), Column('NAME', Text(), table=<USER>), schema=None)})"
      ]
     },
     "execution_count": 48,
     "metadata": {},
     "output_type": "execute_result"
    }
   ],
   "source": [
    "meta.tables"
   ]
  },
  {
   "cell_type": "code",
   "execution_count": 49,
   "id": "78dafc50",
   "metadata": {},
   "outputs": [
    {
     "data": {
      "text/plain": [
       "Table('USER', MetaData(), Column('PK', Integer(), table=<USER>, primary_key=True, nullable=False), Column('NAME', Text(), table=<USER>), schema=None)"
      ]
     },
     "execution_count": 49,
     "metadata": {},
     "output_type": "execute_result"
    }
   ],
   "source": [
    "meta.tables['USER']"
   ]
  },
  {
   "cell_type": "code",
   "execution_count": 50,
   "id": "a7b414da",
   "metadata": {},
   "outputs": [],
   "source": [
    "User=meta.tables['USER']"
   ]
  },
  {
   "cell_type": "code",
   "execution_count": 51,
   "id": "8779dc92",
   "metadata": {},
   "outputs": [
    {
     "data": {
      "text/plain": [
       "Table('USER', MetaData(), Column('PK', Integer(), table=<USER>, primary_key=True, nullable=False), Column('NAME', Text(), table=<USER>), schema=None)"
      ]
     },
     "execution_count": 51,
     "metadata": {},
     "output_type": "execute_result"
    }
   ],
   "source": [
    "User"
   ]
  },
  {
   "cell_type": "code",
   "execution_count": 52,
   "id": "9b252de2",
   "metadata": {},
   "outputs": [
    {
     "name": "stdout",
     "output_type": "stream",
     "text": [
      "INSERT INTO \"USER\" (\"PK\", \"NAME\") VALUES (:PK, :NAME)\n"
     ]
    }
   ],
   "source": [
    "print(User.insert())"
   ]
  },
  {
   "cell_type": "code",
   "execution_count": 53,
   "id": "afc7861b",
   "metadata": {},
   "outputs": [
    {
     "name": "stdout",
     "output_type": "stream",
     "text": [
      "<bound method UpdateBase.params of <sqlalchemy.sql.dml.Insert object at 0x000001D8B6141490>>\n"
     ]
    }
   ],
   "source": [
    "print(User.insert().params)"
   ]
  },
  {
   "cell_type": "code",
   "execution_count": 54,
   "id": "65d33865",
   "metadata": {},
   "outputs": [
    {
     "name": "stdout",
     "output_type": "stream",
     "text": [
      "2023-10-28 03:08:09,667 INFO sqlalchemy.engine.Engine BEGIN (implicit)\n",
      "2023-10-28 03:08:09,668 INFO sqlalchemy.engine.Engine PRAGMA main.table_info(\"USER\")\n",
      "2023-10-28 03:08:09,669 INFO sqlalchemy.engine.Engine [raw sql] ()\n",
      "2023-10-28 03:08:09,669 INFO sqlalchemy.engine.Engine COMMIT\n"
     ]
    }
   ],
   "source": [
    "meta.create_all(engine)"
   ]
  },
  {
   "cell_type": "code",
   "execution_count": 55,
   "id": "928b8c57",
   "metadata": {},
   "outputs": [
    {
     "name": "stdout",
     "output_type": "stream",
     "text": [
      "2023-10-28 03:08:21,706 INFO sqlalchemy.engine.Engine BEGIN (implicit)\n",
      "2023-10-28 03:08:21,707 INFO sqlalchemy.engine.Engine PRAGMA main.table_info(\"USER\")\n",
      "2023-10-28 03:08:21,709 INFO sqlalchemy.engine.Engine [raw sql] ()\n",
      "2023-10-28 03:08:21,709 INFO sqlalchemy.engine.Engine \n",
      "DROP TABLE \"USER\"\n",
      "2023-10-28 03:08:21,710 INFO sqlalchemy.engine.Engine [no key 0.00049s] ()\n",
      "2023-10-28 03:08:21,710 INFO sqlalchemy.engine.Engine COMMIT\n"
     ]
    }
   ],
   "source": [
    "meta.drop_all(engine)"
   ]
  },
  {
   "cell_type": "code",
   "execution_count": 56,
   "id": "71538748",
   "metadata": {},
   "outputs": [
    {
     "data": {
      "text/plain": [
       "FacadeDict({'USER': Table('USER', MetaData(), Column('PK', Integer(), table=<USER>, primary_key=True, nullable=False), Column('NAME', Text(), table=<USER>), schema=None)})"
      ]
     },
     "execution_count": 56,
     "metadata": {},
     "output_type": "execute_result"
    }
   ],
   "source": [
    "meta.tables"
   ]
  },
  {
   "cell_type": "code",
   "execution_count": 57,
   "id": "b2b8c004",
   "metadata": {},
   "outputs": [
    {
     "name": "stdout",
     "output_type": "stream",
     "text": [
      "2023-10-28 03:09:43,081 INFO sqlalchemy.engine.Engine SELECT name FROM sqlite_master WHERE type='table' ORDER BY name\n",
      "2023-10-28 03:09:43,083 INFO sqlalchemy.engine.Engine [raw sql] ()\n"
     ]
    }
   ],
   "source": [
    "meta.reflect(engine)"
   ]
  },
  {
   "cell_type": "code",
   "execution_count": 58,
   "id": "9abb7b43",
   "metadata": {},
   "outputs": [],
   "source": [
    "meta.remove(User)"
   ]
  },
  {
   "cell_type": "code",
   "execution_count": 59,
   "id": "41402256",
   "metadata": {},
   "outputs": [
    {
     "data": {
      "text/plain": [
       "FacadeDict({})"
      ]
     },
     "execution_count": 59,
     "metadata": {},
     "output_type": "execute_result"
    }
   ],
   "source": [
    "meta.tables"
   ]
  },
  {
   "cell_type": "code",
   "execution_count": 60,
   "id": "d481563b",
   "metadata": {},
   "outputs": [
    {
     "name": "stdout",
     "output_type": "stream",
     "text": [
      "2023-10-28 03:11:04,325 INFO sqlalchemy.engine.Engine SELECT name FROM sqlite_master WHERE type='table' ORDER BY name\n",
      "2023-10-28 03:11:04,327 INFO sqlalchemy.engine.Engine [raw sql] ()\n"
     ]
    }
   ],
   "source": [
    "meta.reflect(engine)"
   ]
  },
  {
   "cell_type": "code",
   "execution_count": 61,
   "id": "c1fefaa8",
   "metadata": {},
   "outputs": [
    {
     "data": {
      "text/plain": [
       "FacadeDict({})"
      ]
     },
     "execution_count": 61,
     "metadata": {},
     "output_type": "execute_result"
    }
   ],
   "source": [
    "meta.tables"
   ]
  },
  {
   "cell_type": "code",
   "execution_count": 62,
   "id": "60becdb6",
   "metadata": {},
   "outputs": [
    {
     "name": "stdout",
     "output_type": "stream",
     "text": [
      "INSERT INTO \"USER\" (\"PK\", \"NAME\") VALUES (:PK, :NAME)\n"
     ]
    }
   ],
   "source": [
    "print(User.insert())"
   ]
  },
  {
   "cell_type": "code",
   "execution_count": 63,
   "id": "f3305207",
   "metadata": {},
   "outputs": [
    {
     "name": "stdout",
     "output_type": "stream",
     "text": [
      "INSERT INTO \"USER\" (\"PK\", \"NAME\") VALUES (:PK, :NAME)\n"
     ]
    }
   ],
   "source": [
    "print(User.insert().values(PK=1, NAME='아무개'))"
   ]
  },
  {
   "cell_type": "code",
   "execution_count": 64,
   "id": "d8f7d309",
   "metadata": {},
   "outputs": [
    {
     "data": {
      "text/plain": [
       "Table('USER', MetaData(), Column('PK', Integer(), table=<USER>, primary_key=True, nullable=False), Column('NAME', Text(), table=<USER>), schema=None)"
      ]
     },
     "execution_count": 64,
     "metadata": {},
     "output_type": "execute_result"
    }
   ],
   "source": [
    "User"
   ]
  },
  {
   "cell_type": "code",
   "execution_count": 66,
   "id": "6343f1f3",
   "metadata": {},
   "outputs": [
    {
     "name": "stdout",
     "output_type": "stream",
     "text": [
      "INSERT INTO \"USER\" (\"PK\", \"NAME\") VALUES (:PK, :NAME)\n"
     ]
    }
   ],
   "source": [
    "print(User.insert().compile())"
   ]
  },
  {
   "cell_type": "code",
   "execution_count": 67,
   "id": "78d0d87d",
   "metadata": {},
   "outputs": [
    {
     "name": "stdout",
     "output_type": "stream",
     "text": [
      "{'PK': None, 'NAME': None}\n"
     ]
    }
   ],
   "source": [
    "print(User.insert().compile().params)"
   ]
  },
  {
   "cell_type": "code",
   "execution_count": 68,
   "id": "455dd3ed",
   "metadata": {},
   "outputs": [
    {
     "name": "stdout",
     "output_type": "stream",
     "text": [
      "INSERT INTO \"USER\" (\"PK\", \"NAME\") VALUES (:PK, :NAME)\n"
     ]
    }
   ],
   "source": [
    "print(User.insert().values(PK=1, NAME='푸바옹').compile())"
   ]
  },
  {
   "cell_type": "code",
   "execution_count": 69,
   "id": "a6da2d01",
   "metadata": {},
   "outputs": [
    {
     "name": "stdout",
     "output_type": "stream",
     "text": [
      "INSERT INTO \"USER\" (\"PK\", \"NAME\") VALUES (:PK, :NAME)\n"
     ]
    }
   ],
   "source": [
    "print(User.insert().compile())"
   ]
  },
  {
   "cell_type": "code",
   "execution_count": 70,
   "id": "1e602299",
   "metadata": {},
   "outputs": [
    {
     "name": "stdout",
     "output_type": "stream",
     "text": [
      "{'PK': 1, 'NAME': '푸바옹'}\n"
     ]
    }
   ],
   "source": [
    "print(User.insert().values(PK=1, NAME='푸바옹').compile().params)"
   ]
  },
  {
   "cell_type": "code",
   "execution_count": 71,
   "id": "c34b2a03",
   "metadata": {},
   "outputs": [],
   "source": [
    "#무슨 차이지..... 왜 이제서야 insert 결과가 출력되는거지.."
   ]
  },
  {
   "cell_type": "code",
   "execution_count": 72,
   "id": "eca8304f",
   "metadata": {},
   "outputs": [
    {
     "name": "stdout",
     "output_type": "stream",
     "text": [
      "INSERT INTO \"USER\" (\"PK\", \"NAME\") VALUES (:PK, :NAME)\n"
     ]
    }
   ],
   "source": [
    "print(User.insert().compile())"
   ]
  },
  {
   "cell_type": "code",
   "execution_count": 73,
   "id": "9f6f9406",
   "metadata": {},
   "outputs": [
    {
     "name": "stdout",
     "output_type": "stream",
     "text": [
      "{'PK': None, 'NAME': None}\n"
     ]
    }
   ],
   "source": [
    "print(User.insert().compile().params)"
   ]
  },
  {
   "cell_type": "code",
   "execution_count": 76,
   "id": "4d3b8d57",
   "metadata": {},
   "outputs": [
    {
     "name": "stdout",
     "output_type": "stream",
     "text": [
      "2023-10-28 03:18:20,975 INFO sqlalchemy.engine.Engine INSERT INTO \"USER\" (\"PK\", \"NAME\") VALUES (?, ?)\n",
      "2023-10-28 03:18:20,976 INFO sqlalchemy.engine.Engine [cached since 144.3s ago] (1, '아무개')\n",
      "2023-10-28 03:18:20,978 INFO sqlalchemy.engine.Engine ROLLBACK\n"
     ]
    },
    {
     "ename": "OperationalError",
     "evalue": "(sqlite3.OperationalError) no such table: USER\n[SQL: INSERT INTO \"USER\" (\"PK\", \"NAME\") VALUES (?, ?)]\n[parameters: (1, '아무개')]\n(Background on this error at: https://sqlalche.me/e/14/e3q8)",
     "output_type": "error",
     "traceback": [
      "\u001b[1;31m---------------------------------------------------------------------------\u001b[0m",
      "\u001b[1;31mOperationalError\u001b[0m                          Traceback (most recent call last)",
      "File \u001b[1;32m~\\anaconda3\\Lib\\site-packages\\sqlalchemy\\engine\\base.py:1819\u001b[0m, in \u001b[0;36mConnection._execute_context\u001b[1;34m(self, dialect, constructor, statement, parameters, execution_options, *args, **kw)\u001b[0m\n\u001b[0;32m   1818\u001b[0m     \u001b[38;5;28;01mif\u001b[39;00m \u001b[38;5;129;01mnot\u001b[39;00m evt_handled:\n\u001b[1;32m-> 1819\u001b[0m         \u001b[38;5;28mself\u001b[39m\u001b[38;5;241m.\u001b[39mdialect\u001b[38;5;241m.\u001b[39mdo_execute(\n\u001b[0;32m   1820\u001b[0m             cursor, statement, parameters, context\n\u001b[0;32m   1821\u001b[0m         )\n\u001b[0;32m   1823\u001b[0m \u001b[38;5;28;01mif\u001b[39;00m \u001b[38;5;28mself\u001b[39m\u001b[38;5;241m.\u001b[39m_has_events \u001b[38;5;129;01mor\u001b[39;00m \u001b[38;5;28mself\u001b[39m\u001b[38;5;241m.\u001b[39mengine\u001b[38;5;241m.\u001b[39m_has_events:\n",
      "File \u001b[1;32m~\\anaconda3\\Lib\\site-packages\\sqlalchemy\\engine\\default.py:732\u001b[0m, in \u001b[0;36mDefaultDialect.do_execute\u001b[1;34m(self, cursor, statement, parameters, context)\u001b[0m\n\u001b[0;32m    731\u001b[0m \u001b[38;5;28;01mdef\u001b[39;00m \u001b[38;5;21mdo_execute\u001b[39m(\u001b[38;5;28mself\u001b[39m, cursor, statement, parameters, context\u001b[38;5;241m=\u001b[39m\u001b[38;5;28;01mNone\u001b[39;00m):\n\u001b[1;32m--> 732\u001b[0m     cursor\u001b[38;5;241m.\u001b[39mexecute(statement, parameters)\n",
      "\u001b[1;31mOperationalError\u001b[0m: no such table: USER",
      "\nThe above exception was the direct cause of the following exception:\n",
      "\u001b[1;31mOperationalError\u001b[0m                          Traceback (most recent call last)",
      "Cell \u001b[1;32mIn[76], line 1\u001b[0m\n\u001b[1;32m----> 1\u001b[0m con\u001b[38;5;241m.\u001b[39mexecute(User\u001b[38;5;241m.\u001b[39minsert()\u001b[38;5;241m.\u001b[39mvalues(PK\u001b[38;5;241m=\u001b[39m\u001b[38;5;241m1\u001b[39m, NAME\u001b[38;5;241m=\u001b[39m\u001b[38;5;124m'\u001b[39m\u001b[38;5;124m아무개\u001b[39m\u001b[38;5;124m'\u001b[39m))\n",
      "File \u001b[1;32m~\\anaconda3\\Lib\\site-packages\\sqlalchemy\\engine\\base.py:1306\u001b[0m, in \u001b[0;36mConnection.execute\u001b[1;34m(self, statement, *multiparams, **params)\u001b[0m\n\u001b[0;32m   1302\u001b[0m     util\u001b[38;5;241m.\u001b[39mraise_(\n\u001b[0;32m   1303\u001b[0m         exc\u001b[38;5;241m.\u001b[39mObjectNotExecutableError(statement), replace_context\u001b[38;5;241m=\u001b[39merr\n\u001b[0;32m   1304\u001b[0m     )\n\u001b[0;32m   1305\u001b[0m \u001b[38;5;28;01melse\u001b[39;00m:\n\u001b[1;32m-> 1306\u001b[0m     \u001b[38;5;28;01mreturn\u001b[39;00m meth(\u001b[38;5;28mself\u001b[39m, multiparams, params, _EMPTY_EXECUTION_OPTS)\n",
      "File \u001b[1;32m~\\anaconda3\\Lib\\site-packages\\sqlalchemy\\sql\\elements.py:332\u001b[0m, in \u001b[0;36mClauseElement._execute_on_connection\u001b[1;34m(self, connection, multiparams, params, execution_options, _force)\u001b[0m\n\u001b[0;32m    328\u001b[0m \u001b[38;5;28;01mdef\u001b[39;00m \u001b[38;5;21m_execute_on_connection\u001b[39m(\n\u001b[0;32m    329\u001b[0m     \u001b[38;5;28mself\u001b[39m, connection, multiparams, params, execution_options, _force\u001b[38;5;241m=\u001b[39m\u001b[38;5;28;01mFalse\u001b[39;00m\n\u001b[0;32m    330\u001b[0m ):\n\u001b[0;32m    331\u001b[0m     \u001b[38;5;28;01mif\u001b[39;00m _force \u001b[38;5;129;01mor\u001b[39;00m \u001b[38;5;28mself\u001b[39m\u001b[38;5;241m.\u001b[39msupports_execution:\n\u001b[1;32m--> 332\u001b[0m         \u001b[38;5;28;01mreturn\u001b[39;00m connection\u001b[38;5;241m.\u001b[39m_execute_clauseelement(\n\u001b[0;32m    333\u001b[0m             \u001b[38;5;28mself\u001b[39m, multiparams, params, execution_options\n\u001b[0;32m    334\u001b[0m         )\n\u001b[0;32m    335\u001b[0m     \u001b[38;5;28;01melse\u001b[39;00m:\n\u001b[0;32m    336\u001b[0m         \u001b[38;5;28;01mraise\u001b[39;00m exc\u001b[38;5;241m.\u001b[39mObjectNotExecutableError(\u001b[38;5;28mself\u001b[39m)\n",
      "File \u001b[1;32m~\\anaconda3\\Lib\\site-packages\\sqlalchemy\\engine\\base.py:1498\u001b[0m, in \u001b[0;36mConnection._execute_clauseelement\u001b[1;34m(self, elem, multiparams, params, execution_options)\u001b[0m\n\u001b[0;32m   1486\u001b[0m compiled_cache \u001b[38;5;241m=\u001b[39m execution_options\u001b[38;5;241m.\u001b[39mget(\n\u001b[0;32m   1487\u001b[0m     \u001b[38;5;124m\"\u001b[39m\u001b[38;5;124mcompiled_cache\u001b[39m\u001b[38;5;124m\"\u001b[39m, \u001b[38;5;28mself\u001b[39m\u001b[38;5;241m.\u001b[39mengine\u001b[38;5;241m.\u001b[39m_compiled_cache\n\u001b[0;32m   1488\u001b[0m )\n\u001b[0;32m   1490\u001b[0m compiled_sql, extracted_params, cache_hit \u001b[38;5;241m=\u001b[39m elem\u001b[38;5;241m.\u001b[39m_compile_w_cache(\n\u001b[0;32m   1491\u001b[0m     dialect\u001b[38;5;241m=\u001b[39mdialect,\n\u001b[0;32m   1492\u001b[0m     compiled_cache\u001b[38;5;241m=\u001b[39mcompiled_cache,\n\u001b[1;32m   (...)\u001b[0m\n\u001b[0;32m   1496\u001b[0m     linting\u001b[38;5;241m=\u001b[39m\u001b[38;5;28mself\u001b[39m\u001b[38;5;241m.\u001b[39mdialect\u001b[38;5;241m.\u001b[39mcompiler_linting \u001b[38;5;241m|\u001b[39m compiler\u001b[38;5;241m.\u001b[39mWARN_LINTING,\n\u001b[0;32m   1497\u001b[0m )\n\u001b[1;32m-> 1498\u001b[0m ret \u001b[38;5;241m=\u001b[39m \u001b[38;5;28mself\u001b[39m\u001b[38;5;241m.\u001b[39m_execute_context(\n\u001b[0;32m   1499\u001b[0m     dialect,\n\u001b[0;32m   1500\u001b[0m     dialect\u001b[38;5;241m.\u001b[39mexecution_ctx_cls\u001b[38;5;241m.\u001b[39m_init_compiled,\n\u001b[0;32m   1501\u001b[0m     compiled_sql,\n\u001b[0;32m   1502\u001b[0m     distilled_params,\n\u001b[0;32m   1503\u001b[0m     execution_options,\n\u001b[0;32m   1504\u001b[0m     compiled_sql,\n\u001b[0;32m   1505\u001b[0m     distilled_params,\n\u001b[0;32m   1506\u001b[0m     elem,\n\u001b[0;32m   1507\u001b[0m     extracted_params,\n\u001b[0;32m   1508\u001b[0m     cache_hit\u001b[38;5;241m=\u001b[39mcache_hit,\n\u001b[0;32m   1509\u001b[0m )\n\u001b[0;32m   1510\u001b[0m \u001b[38;5;28;01mif\u001b[39;00m has_events:\n\u001b[0;32m   1511\u001b[0m     \u001b[38;5;28mself\u001b[39m\u001b[38;5;241m.\u001b[39mdispatch\u001b[38;5;241m.\u001b[39mafter_execute(\n\u001b[0;32m   1512\u001b[0m         \u001b[38;5;28mself\u001b[39m,\n\u001b[0;32m   1513\u001b[0m         elem,\n\u001b[1;32m   (...)\u001b[0m\n\u001b[0;32m   1517\u001b[0m         ret,\n\u001b[0;32m   1518\u001b[0m     )\n",
      "File \u001b[1;32m~\\anaconda3\\Lib\\site-packages\\sqlalchemy\\engine\\base.py:1862\u001b[0m, in \u001b[0;36mConnection._execute_context\u001b[1;34m(self, dialect, constructor, statement, parameters, execution_options, *args, **kw)\u001b[0m\n\u001b[0;32m   1859\u001b[0m             branched\u001b[38;5;241m.\u001b[39mclose()\n\u001b[0;32m   1861\u001b[0m \u001b[38;5;28;01mexcept\u001b[39;00m \u001b[38;5;167;01mBaseException\u001b[39;00m \u001b[38;5;28;01mas\u001b[39;00m e:\n\u001b[1;32m-> 1862\u001b[0m     \u001b[38;5;28mself\u001b[39m\u001b[38;5;241m.\u001b[39m_handle_dbapi_exception(\n\u001b[0;32m   1863\u001b[0m         e, statement, parameters, cursor, context\n\u001b[0;32m   1864\u001b[0m     )\n\u001b[0;32m   1866\u001b[0m \u001b[38;5;28;01mreturn\u001b[39;00m result\n",
      "File \u001b[1;32m~\\anaconda3\\Lib\\site-packages\\sqlalchemy\\engine\\base.py:2043\u001b[0m, in \u001b[0;36mConnection._handle_dbapi_exception\u001b[1;34m(self, e, statement, parameters, cursor, context)\u001b[0m\n\u001b[0;32m   2041\u001b[0m     util\u001b[38;5;241m.\u001b[39mraise_(newraise, with_traceback\u001b[38;5;241m=\u001b[39mexc_info[\u001b[38;5;241m2\u001b[39m], from_\u001b[38;5;241m=\u001b[39me)\n\u001b[0;32m   2042\u001b[0m \u001b[38;5;28;01melif\u001b[39;00m should_wrap:\n\u001b[1;32m-> 2043\u001b[0m     util\u001b[38;5;241m.\u001b[39mraise_(\n\u001b[0;32m   2044\u001b[0m         sqlalchemy_exception, with_traceback\u001b[38;5;241m=\u001b[39mexc_info[\u001b[38;5;241m2\u001b[39m], from_\u001b[38;5;241m=\u001b[39me\n\u001b[0;32m   2045\u001b[0m     )\n\u001b[0;32m   2046\u001b[0m \u001b[38;5;28;01melse\u001b[39;00m:\n\u001b[0;32m   2047\u001b[0m     util\u001b[38;5;241m.\u001b[39mraise_(exc_info[\u001b[38;5;241m1\u001b[39m], with_traceback\u001b[38;5;241m=\u001b[39mexc_info[\u001b[38;5;241m2\u001b[39m])\n",
      "File \u001b[1;32m~\\anaconda3\\Lib\\site-packages\\sqlalchemy\\util\\compat.py:208\u001b[0m, in \u001b[0;36mraise_\u001b[1;34m(***failed resolving arguments***)\u001b[0m\n\u001b[0;32m    205\u001b[0m     exception\u001b[38;5;241m.\u001b[39m__cause__ \u001b[38;5;241m=\u001b[39m replace_context\n\u001b[0;32m    207\u001b[0m \u001b[38;5;28;01mtry\u001b[39;00m:\n\u001b[1;32m--> 208\u001b[0m     \u001b[38;5;28;01mraise\u001b[39;00m exception\n\u001b[0;32m    209\u001b[0m \u001b[38;5;28;01mfinally\u001b[39;00m:\n\u001b[0;32m    210\u001b[0m     \u001b[38;5;66;03m# credit to\u001b[39;00m\n\u001b[0;32m    211\u001b[0m     \u001b[38;5;66;03m# https://cosmicpercolator.com/2016/01/13/exception-leaks-in-python-2-and-3/\u001b[39;00m\n\u001b[0;32m    212\u001b[0m     \u001b[38;5;66;03m# as the __traceback__ object creates a cycle\u001b[39;00m\n\u001b[0;32m    213\u001b[0m     \u001b[38;5;28;01mdel\u001b[39;00m exception, replace_context, from_, with_traceback\n",
      "File \u001b[1;32m~\\anaconda3\\Lib\\site-packages\\sqlalchemy\\engine\\base.py:1819\u001b[0m, in \u001b[0;36mConnection._execute_context\u001b[1;34m(self, dialect, constructor, statement, parameters, execution_options, *args, **kw)\u001b[0m\n\u001b[0;32m   1817\u001b[0m                 \u001b[38;5;28;01mbreak\u001b[39;00m\n\u001b[0;32m   1818\u001b[0m     \u001b[38;5;28;01mif\u001b[39;00m \u001b[38;5;129;01mnot\u001b[39;00m evt_handled:\n\u001b[1;32m-> 1819\u001b[0m         \u001b[38;5;28mself\u001b[39m\u001b[38;5;241m.\u001b[39mdialect\u001b[38;5;241m.\u001b[39mdo_execute(\n\u001b[0;32m   1820\u001b[0m             cursor, statement, parameters, context\n\u001b[0;32m   1821\u001b[0m         )\n\u001b[0;32m   1823\u001b[0m \u001b[38;5;28;01mif\u001b[39;00m \u001b[38;5;28mself\u001b[39m\u001b[38;5;241m.\u001b[39m_has_events \u001b[38;5;129;01mor\u001b[39;00m \u001b[38;5;28mself\u001b[39m\u001b[38;5;241m.\u001b[39mengine\u001b[38;5;241m.\u001b[39m_has_events:\n\u001b[0;32m   1824\u001b[0m     \u001b[38;5;28mself\u001b[39m\u001b[38;5;241m.\u001b[39mdispatch\u001b[38;5;241m.\u001b[39mafter_cursor_execute(\n\u001b[0;32m   1825\u001b[0m         \u001b[38;5;28mself\u001b[39m,\n\u001b[0;32m   1826\u001b[0m         cursor,\n\u001b[1;32m   (...)\u001b[0m\n\u001b[0;32m   1830\u001b[0m         context\u001b[38;5;241m.\u001b[39mexecutemany,\n\u001b[0;32m   1831\u001b[0m     )\n",
      "File \u001b[1;32m~\\anaconda3\\Lib\\site-packages\\sqlalchemy\\engine\\default.py:732\u001b[0m, in \u001b[0;36mDefaultDialect.do_execute\u001b[1;34m(self, cursor, statement, parameters, context)\u001b[0m\n\u001b[0;32m    731\u001b[0m \u001b[38;5;28;01mdef\u001b[39;00m \u001b[38;5;21mdo_execute\u001b[39m(\u001b[38;5;28mself\u001b[39m, cursor, statement, parameters, context\u001b[38;5;241m=\u001b[39m\u001b[38;5;28;01mNone\u001b[39;00m):\n\u001b[1;32m--> 732\u001b[0m     cursor\u001b[38;5;241m.\u001b[39mexecute(statement, parameters)\n",
      "\u001b[1;31mOperationalError\u001b[0m: (sqlite3.OperationalError) no such table: USER\n[SQL: INSERT INTO \"USER\" (\"PK\", \"NAME\") VALUES (?, ?)]\n[parameters: (1, '아무개')]\n(Background on this error at: https://sqlalche.me/e/14/e3q8)"
     ]
    }
   ],
   "source": [
    "con.execute(User.insert().values(PK=1, NAME='아무개'))"
   ]
  },
  {
   "cell_type": "code",
   "execution_count": 80,
   "id": "6d66355f",
   "metadata": {},
   "outputs": [
    {
     "data": {
      "text/plain": [
       "Table('USER', MetaData(), Column('PK', Integer(), table=<USER>, primary_key=True, nullable=False), Column('NAME', Text(), table=<USER>), schema=None)"
      ]
     },
     "execution_count": 80,
     "metadata": {},
     "output_type": "execute_result"
    }
   ],
   "source": [
    "User"
   ]
  },
  {
   "cell_type": "code",
   "execution_count": 77,
   "id": "83f1e1e7",
   "metadata": {},
   "outputs": [],
   "source": [
    "#와 난 왜 또 에러파티지???? 수업 들을때도 이랬는데;;;;"
   ]
  },
  {
   "cell_type": "code",
   "execution_count": 79,
   "id": "2d84279a",
   "metadata": {},
   "outputs": [
    {
     "ename": "NameError",
     "evalue": "name 'sqlalchemy' is not defined",
     "output_type": "error",
     "traceback": [
      "\u001b[1;31m---------------------------------------------------------------------------\u001b[0m",
      "\u001b[1;31mNameError\u001b[0m                                 Traceback (most recent call last)",
      "Cell \u001b[1;32mIn[79], line 1\u001b[0m\n\u001b[1;32m----> 1\u001b[0m sqlalchemy\u001b[38;5;241m.\u001b[39m__version__\n",
      "\u001b[1;31mNameError\u001b[0m: name 'sqlalchemy' is not defined"
     ]
    }
   ],
   "source": [
    "sqlalchemy.__version__"
   ]
  },
  {
   "cell_type": "code",
   "execution_count": 81,
   "id": "f734bfd1",
   "metadata": {},
   "outputs": [],
   "source": [
    "import sqlalchemy"
   ]
  },
  {
   "cell_type": "code",
   "execution_count": 82,
   "id": "f5d87433",
   "metadata": {},
   "outputs": [
    {
     "data": {
      "text/plain": [
       "'1.4.39'"
      ]
     },
     "execution_count": 82,
     "metadata": {},
     "output_type": "execute_result"
    }
   ],
   "source": [
    "sqlalchemy.__version__"
   ]
  },
  {
   "cell_type": "code",
   "execution_count": 83,
   "id": "dedcc6a3",
   "metadata": {},
   "outputs": [
    {
     "name": "stdout",
     "output_type": "stream",
     "text": [
      "Defaulting to user installation because normal site-packages is not writeable\n",
      "Requirement already satisfied: sqlalchemy in c:\\users\\user\\appdata\\roaming\\python\\python310\\site-packages (2.0.22)\n",
      "Requirement already satisfied: typing-extensions>=4.2.0 in c:\\users\\user\\appdata\\roaming\\python\\python310\\site-packages (from sqlalchemy) (4.8.0)\n",
      "Requirement already satisfied: greenlet!=0.4.17 in c:\\users\\user\\appdata\\roaming\\python\\python310\\site-packages (from sqlalchemy) (2.0.2)\n"
     ]
    },
    {
     "name": "stderr",
     "output_type": "stream",
     "text": [
      "\n",
      "[notice] A new release of pip is available: 23.2.1 -> 23.3.1\n",
      "[notice] To update, run: python.exe -m pip install --upgrade pip\n"
     ]
    }
   ],
   "source": [
    "!pip install sqlalchemy --upgrade"
   ]
  },
  {
   "cell_type": "code",
   "execution_count": 85,
   "id": "f5e8542b",
   "metadata": {},
   "outputs": [
    {
     "data": {
      "text/plain": [
       "'1.4.39'"
      ]
     },
     "execution_count": 85,
     "metadata": {},
     "output_type": "execute_result"
    }
   ],
   "source": [
    "sqlalchemy.__version__"
   ]
  },
  {
   "cell_type": "code",
   "execution_count": 88,
   "id": "d4cea179",
   "metadata": {},
   "outputs": [
    {
     "name": "stdout",
     "output_type": "stream",
     "text": [
      "Defaulting to user installation because normal site-packages is not writeable\n",
      "Requirement already satisfied: sqlalchemy in c:\\users\\user\\appdata\\roaming\\python\\python310\\site-packages (2.0.22)\n",
      "Requirement already satisfied: typing-extensions>=4.2.0 in c:\\users\\user\\appdata\\roaming\\python\\python310\\site-packages (from sqlalchemy) (4.8.0)\n",
      "Requirement already satisfied: greenlet!=0.4.17 in c:\\users\\user\\appdata\\roaming\\python\\python310\\site-packages (from sqlalchemy) (2.0.2)\n"
     ]
    },
    {
     "name": "stderr",
     "output_type": "stream",
     "text": [
      "\n",
      "[notice] A new release of pip is available: 23.2.1 -> 23.3.1\n",
      "[notice] To update, run: python.exe -m pip install --upgrade pip\n"
     ]
    }
   ],
   "source": [
    "!pip install --upgrade sqlalchemy"
   ]
  },
  {
   "cell_type": "code",
   "execution_count": 89,
   "id": "e048f983",
   "metadata": {},
   "outputs": [
    {
     "name": "stdout",
     "output_type": "stream",
     "text": [
      "Defaulting to user installation because normal site-packages is not writeable\n",
      "Requirement already satisfied: sqlalchemy in c:\\users\\user\\appdata\\roaming\\python\\python310\\site-packages (2.0.22)\n",
      "Requirement already satisfied: typing-extensions>=4.2.0 in c:\\users\\user\\appdata\\roaming\\python\\python310\\site-packages (from sqlalchemy) (4.8.0)\n",
      "Requirement already satisfied: greenlet!=0.4.17 in c:\\users\\user\\appdata\\roaming\\python\\python310\\site-packages (from sqlalchemy) (2.0.2)\n"
     ]
    }
   ],
   "source": [
    "!pip install --upgrade sqlalchemy"
   ]
  },
  {
   "cell_type": "code",
   "execution_count": 90,
   "id": "ecd5ccb2",
   "metadata": {},
   "outputs": [
    {
     "data": {
      "text/plain": [
       "'1.4.39'"
      ]
     },
     "execution_count": 90,
     "metadata": {},
     "output_type": "execute_result"
    }
   ],
   "source": [
    "sqlalchemy.__version__"
   ]
  },
  {
   "cell_type": "code",
   "execution_count": 91,
   "id": "8c891333",
   "metadata": {},
   "outputs": [
    {
     "name": "stdout",
     "output_type": "stream",
     "text": [
      "Name: SQLAlchemy\n",
      "Version: 2.0.22\n",
      "Summary: Database Abstraction Library\n",
      "Home-page: https://www.sqlalchemy.org\n",
      "Author: Mike Bayer\n",
      "Author-email: mike_mp@zzzcomputing.com\n",
      "License: MIT\n",
      "Location: c:\\users\\user\\appdata\\roaming\\python\\python310\\site-packages\n",
      "Requires: greenlet, typing-extensions\n",
      "Required-by: \n"
     ]
    }
   ],
   "source": [
    "!pip show sqlalchemy"
   ]
  },
  {
   "cell_type": "code",
   "execution_count": 92,
   "id": "2e78a2a0",
   "metadata": {},
   "outputs": [],
   "source": [
    "import sqlalchemy"
   ]
  },
  {
   "cell_type": "code",
   "execution_count": 93,
   "id": "48e1f63a",
   "metadata": {},
   "outputs": [
    {
     "data": {
      "text/plain": [
       "'1.4.39'"
      ]
     },
     "execution_count": 93,
     "metadata": {},
     "output_type": "execute_result"
    }
   ],
   "source": [
    "sqlalchemy.__version__"
   ]
  },
  {
   "cell_type": "code",
   "execution_count": 94,
   "id": "484848ea",
   "metadata": {},
   "outputs": [],
   "source": [
    "# 포기.... 일단 포기....ㅠ ....버전 차이로 인해 큰 문제 없을거라고 믿고 킵고잉 할란다."
   ]
  },
  {
   "cell_type": "code",
   "execution_count": 95,
   "id": "feeb7f8f",
   "metadata": {},
   "outputs": [
    {
     "name": "stdout",
     "output_type": "stream",
     "text": [
      "2023-10-28 04:18:11,919 INFO sqlalchemy.engine.Engine INSERT INTO \"USER\" (\"PK\", \"NAME\") VALUES (?, ?)\n",
      "2023-10-28 04:18:11,920 INFO sqlalchemy.engine.Engine [cached since 3735s ago] (1, '아무개')\n",
      "2023-10-28 04:18:11,921 INFO sqlalchemy.engine.Engine ROLLBACK\n"
     ]
    },
    {
     "ename": "OperationalError",
     "evalue": "(sqlite3.OperationalError) no such table: USER\n[SQL: INSERT INTO \"USER\" (\"PK\", \"NAME\") VALUES (?, ?)]\n[parameters: (1, '아무개')]\n(Background on this error at: https://sqlalche.me/e/14/e3q8)",
     "output_type": "error",
     "traceback": [
      "\u001b[1;31m---------------------------------------------------------------------------\u001b[0m",
      "\u001b[1;31mOperationalError\u001b[0m                          Traceback (most recent call last)",
      "File \u001b[1;32m~\\anaconda3\\Lib\\site-packages\\sqlalchemy\\engine\\base.py:1819\u001b[0m, in \u001b[0;36mConnection._execute_context\u001b[1;34m(self, dialect, constructor, statement, parameters, execution_options, *args, **kw)\u001b[0m\n\u001b[0;32m   1818\u001b[0m     \u001b[38;5;28;01mif\u001b[39;00m \u001b[38;5;129;01mnot\u001b[39;00m evt_handled:\n\u001b[1;32m-> 1819\u001b[0m         \u001b[38;5;28mself\u001b[39m\u001b[38;5;241m.\u001b[39mdialect\u001b[38;5;241m.\u001b[39mdo_execute(\n\u001b[0;32m   1820\u001b[0m             cursor, statement, parameters, context\n\u001b[0;32m   1821\u001b[0m         )\n\u001b[0;32m   1823\u001b[0m \u001b[38;5;28;01mif\u001b[39;00m \u001b[38;5;28mself\u001b[39m\u001b[38;5;241m.\u001b[39m_has_events \u001b[38;5;129;01mor\u001b[39;00m \u001b[38;5;28mself\u001b[39m\u001b[38;5;241m.\u001b[39mengine\u001b[38;5;241m.\u001b[39m_has_events:\n",
      "File \u001b[1;32m~\\anaconda3\\Lib\\site-packages\\sqlalchemy\\engine\\default.py:732\u001b[0m, in \u001b[0;36mDefaultDialect.do_execute\u001b[1;34m(self, cursor, statement, parameters, context)\u001b[0m\n\u001b[0;32m    731\u001b[0m \u001b[38;5;28;01mdef\u001b[39;00m \u001b[38;5;21mdo_execute\u001b[39m(\u001b[38;5;28mself\u001b[39m, cursor, statement, parameters, context\u001b[38;5;241m=\u001b[39m\u001b[38;5;28;01mNone\u001b[39;00m):\n\u001b[1;32m--> 732\u001b[0m     cursor\u001b[38;5;241m.\u001b[39mexecute(statement, parameters)\n",
      "\u001b[1;31mOperationalError\u001b[0m: no such table: USER",
      "\nThe above exception was the direct cause of the following exception:\n",
      "\u001b[1;31mOperationalError\u001b[0m                          Traceback (most recent call last)",
      "Cell \u001b[1;32mIn[95], line 1\u001b[0m\n\u001b[1;32m----> 1\u001b[0m con\u001b[38;5;241m.\u001b[39mexecute(User\u001b[38;5;241m.\u001b[39minsert()\u001b[38;5;241m.\u001b[39mvalues(PK\u001b[38;5;241m=\u001b[39m\u001b[38;5;241m1\u001b[39m, NAME\u001b[38;5;241m=\u001b[39m\u001b[38;5;124m'\u001b[39m\u001b[38;5;124m아무개\u001b[39m\u001b[38;5;124m'\u001b[39m))\n",
      "File \u001b[1;32m~\\anaconda3\\Lib\\site-packages\\sqlalchemy\\engine\\base.py:1306\u001b[0m, in \u001b[0;36mConnection.execute\u001b[1;34m(self, statement, *multiparams, **params)\u001b[0m\n\u001b[0;32m   1302\u001b[0m     util\u001b[38;5;241m.\u001b[39mraise_(\n\u001b[0;32m   1303\u001b[0m         exc\u001b[38;5;241m.\u001b[39mObjectNotExecutableError(statement), replace_context\u001b[38;5;241m=\u001b[39merr\n\u001b[0;32m   1304\u001b[0m     )\n\u001b[0;32m   1305\u001b[0m \u001b[38;5;28;01melse\u001b[39;00m:\n\u001b[1;32m-> 1306\u001b[0m     \u001b[38;5;28;01mreturn\u001b[39;00m meth(\u001b[38;5;28mself\u001b[39m, multiparams, params, _EMPTY_EXECUTION_OPTS)\n",
      "File \u001b[1;32m~\\anaconda3\\Lib\\site-packages\\sqlalchemy\\sql\\elements.py:332\u001b[0m, in \u001b[0;36mClauseElement._execute_on_connection\u001b[1;34m(self, connection, multiparams, params, execution_options, _force)\u001b[0m\n\u001b[0;32m    328\u001b[0m \u001b[38;5;28;01mdef\u001b[39;00m \u001b[38;5;21m_execute_on_connection\u001b[39m(\n\u001b[0;32m    329\u001b[0m     \u001b[38;5;28mself\u001b[39m, connection, multiparams, params, execution_options, _force\u001b[38;5;241m=\u001b[39m\u001b[38;5;28;01mFalse\u001b[39;00m\n\u001b[0;32m    330\u001b[0m ):\n\u001b[0;32m    331\u001b[0m     \u001b[38;5;28;01mif\u001b[39;00m _force \u001b[38;5;129;01mor\u001b[39;00m \u001b[38;5;28mself\u001b[39m\u001b[38;5;241m.\u001b[39msupports_execution:\n\u001b[1;32m--> 332\u001b[0m         \u001b[38;5;28;01mreturn\u001b[39;00m connection\u001b[38;5;241m.\u001b[39m_execute_clauseelement(\n\u001b[0;32m    333\u001b[0m             \u001b[38;5;28mself\u001b[39m, multiparams, params, execution_options\n\u001b[0;32m    334\u001b[0m         )\n\u001b[0;32m    335\u001b[0m     \u001b[38;5;28;01melse\u001b[39;00m:\n\u001b[0;32m    336\u001b[0m         \u001b[38;5;28;01mraise\u001b[39;00m exc\u001b[38;5;241m.\u001b[39mObjectNotExecutableError(\u001b[38;5;28mself\u001b[39m)\n",
      "File \u001b[1;32m~\\anaconda3\\Lib\\site-packages\\sqlalchemy\\engine\\base.py:1498\u001b[0m, in \u001b[0;36mConnection._execute_clauseelement\u001b[1;34m(self, elem, multiparams, params, execution_options)\u001b[0m\n\u001b[0;32m   1486\u001b[0m compiled_cache \u001b[38;5;241m=\u001b[39m execution_options\u001b[38;5;241m.\u001b[39mget(\n\u001b[0;32m   1487\u001b[0m     \u001b[38;5;124m\"\u001b[39m\u001b[38;5;124mcompiled_cache\u001b[39m\u001b[38;5;124m\"\u001b[39m, \u001b[38;5;28mself\u001b[39m\u001b[38;5;241m.\u001b[39mengine\u001b[38;5;241m.\u001b[39m_compiled_cache\n\u001b[0;32m   1488\u001b[0m )\n\u001b[0;32m   1490\u001b[0m compiled_sql, extracted_params, cache_hit \u001b[38;5;241m=\u001b[39m elem\u001b[38;5;241m.\u001b[39m_compile_w_cache(\n\u001b[0;32m   1491\u001b[0m     dialect\u001b[38;5;241m=\u001b[39mdialect,\n\u001b[0;32m   1492\u001b[0m     compiled_cache\u001b[38;5;241m=\u001b[39mcompiled_cache,\n\u001b[1;32m   (...)\u001b[0m\n\u001b[0;32m   1496\u001b[0m     linting\u001b[38;5;241m=\u001b[39m\u001b[38;5;28mself\u001b[39m\u001b[38;5;241m.\u001b[39mdialect\u001b[38;5;241m.\u001b[39mcompiler_linting \u001b[38;5;241m|\u001b[39m compiler\u001b[38;5;241m.\u001b[39mWARN_LINTING,\n\u001b[0;32m   1497\u001b[0m )\n\u001b[1;32m-> 1498\u001b[0m ret \u001b[38;5;241m=\u001b[39m \u001b[38;5;28mself\u001b[39m\u001b[38;5;241m.\u001b[39m_execute_context(\n\u001b[0;32m   1499\u001b[0m     dialect,\n\u001b[0;32m   1500\u001b[0m     dialect\u001b[38;5;241m.\u001b[39mexecution_ctx_cls\u001b[38;5;241m.\u001b[39m_init_compiled,\n\u001b[0;32m   1501\u001b[0m     compiled_sql,\n\u001b[0;32m   1502\u001b[0m     distilled_params,\n\u001b[0;32m   1503\u001b[0m     execution_options,\n\u001b[0;32m   1504\u001b[0m     compiled_sql,\n\u001b[0;32m   1505\u001b[0m     distilled_params,\n\u001b[0;32m   1506\u001b[0m     elem,\n\u001b[0;32m   1507\u001b[0m     extracted_params,\n\u001b[0;32m   1508\u001b[0m     cache_hit\u001b[38;5;241m=\u001b[39mcache_hit,\n\u001b[0;32m   1509\u001b[0m )\n\u001b[0;32m   1510\u001b[0m \u001b[38;5;28;01mif\u001b[39;00m has_events:\n\u001b[0;32m   1511\u001b[0m     \u001b[38;5;28mself\u001b[39m\u001b[38;5;241m.\u001b[39mdispatch\u001b[38;5;241m.\u001b[39mafter_execute(\n\u001b[0;32m   1512\u001b[0m         \u001b[38;5;28mself\u001b[39m,\n\u001b[0;32m   1513\u001b[0m         elem,\n\u001b[1;32m   (...)\u001b[0m\n\u001b[0;32m   1517\u001b[0m         ret,\n\u001b[0;32m   1518\u001b[0m     )\n",
      "File \u001b[1;32m~\\anaconda3\\Lib\\site-packages\\sqlalchemy\\engine\\base.py:1862\u001b[0m, in \u001b[0;36mConnection._execute_context\u001b[1;34m(self, dialect, constructor, statement, parameters, execution_options, *args, **kw)\u001b[0m\n\u001b[0;32m   1859\u001b[0m             branched\u001b[38;5;241m.\u001b[39mclose()\n\u001b[0;32m   1861\u001b[0m \u001b[38;5;28;01mexcept\u001b[39;00m \u001b[38;5;167;01mBaseException\u001b[39;00m \u001b[38;5;28;01mas\u001b[39;00m e:\n\u001b[1;32m-> 1862\u001b[0m     \u001b[38;5;28mself\u001b[39m\u001b[38;5;241m.\u001b[39m_handle_dbapi_exception(\n\u001b[0;32m   1863\u001b[0m         e, statement, parameters, cursor, context\n\u001b[0;32m   1864\u001b[0m     )\n\u001b[0;32m   1866\u001b[0m \u001b[38;5;28;01mreturn\u001b[39;00m result\n",
      "File \u001b[1;32m~\\anaconda3\\Lib\\site-packages\\sqlalchemy\\engine\\base.py:2043\u001b[0m, in \u001b[0;36mConnection._handle_dbapi_exception\u001b[1;34m(self, e, statement, parameters, cursor, context)\u001b[0m\n\u001b[0;32m   2041\u001b[0m     util\u001b[38;5;241m.\u001b[39mraise_(newraise, with_traceback\u001b[38;5;241m=\u001b[39mexc_info[\u001b[38;5;241m2\u001b[39m], from_\u001b[38;5;241m=\u001b[39me)\n\u001b[0;32m   2042\u001b[0m \u001b[38;5;28;01melif\u001b[39;00m should_wrap:\n\u001b[1;32m-> 2043\u001b[0m     util\u001b[38;5;241m.\u001b[39mraise_(\n\u001b[0;32m   2044\u001b[0m         sqlalchemy_exception, with_traceback\u001b[38;5;241m=\u001b[39mexc_info[\u001b[38;5;241m2\u001b[39m], from_\u001b[38;5;241m=\u001b[39me\n\u001b[0;32m   2045\u001b[0m     )\n\u001b[0;32m   2046\u001b[0m \u001b[38;5;28;01melse\u001b[39;00m:\n\u001b[0;32m   2047\u001b[0m     util\u001b[38;5;241m.\u001b[39mraise_(exc_info[\u001b[38;5;241m1\u001b[39m], with_traceback\u001b[38;5;241m=\u001b[39mexc_info[\u001b[38;5;241m2\u001b[39m])\n",
      "File \u001b[1;32m~\\anaconda3\\Lib\\site-packages\\sqlalchemy\\util\\compat.py:208\u001b[0m, in \u001b[0;36mraise_\u001b[1;34m(***failed resolving arguments***)\u001b[0m\n\u001b[0;32m    205\u001b[0m     exception\u001b[38;5;241m.\u001b[39m__cause__ \u001b[38;5;241m=\u001b[39m replace_context\n\u001b[0;32m    207\u001b[0m \u001b[38;5;28;01mtry\u001b[39;00m:\n\u001b[1;32m--> 208\u001b[0m     \u001b[38;5;28;01mraise\u001b[39;00m exception\n\u001b[0;32m    209\u001b[0m \u001b[38;5;28;01mfinally\u001b[39;00m:\n\u001b[0;32m    210\u001b[0m     \u001b[38;5;66;03m# credit to\u001b[39;00m\n\u001b[0;32m    211\u001b[0m     \u001b[38;5;66;03m# https://cosmicpercolator.com/2016/01/13/exception-leaks-in-python-2-and-3/\u001b[39;00m\n\u001b[0;32m    212\u001b[0m     \u001b[38;5;66;03m# as the __traceback__ object creates a cycle\u001b[39;00m\n\u001b[0;32m    213\u001b[0m     \u001b[38;5;28;01mdel\u001b[39;00m exception, replace_context, from_, with_traceback\n",
      "File \u001b[1;32m~\\anaconda3\\Lib\\site-packages\\sqlalchemy\\engine\\base.py:1819\u001b[0m, in \u001b[0;36mConnection._execute_context\u001b[1;34m(self, dialect, constructor, statement, parameters, execution_options, *args, **kw)\u001b[0m\n\u001b[0;32m   1817\u001b[0m                 \u001b[38;5;28;01mbreak\u001b[39;00m\n\u001b[0;32m   1818\u001b[0m     \u001b[38;5;28;01mif\u001b[39;00m \u001b[38;5;129;01mnot\u001b[39;00m evt_handled:\n\u001b[1;32m-> 1819\u001b[0m         \u001b[38;5;28mself\u001b[39m\u001b[38;5;241m.\u001b[39mdialect\u001b[38;5;241m.\u001b[39mdo_execute(\n\u001b[0;32m   1820\u001b[0m             cursor, statement, parameters, context\n\u001b[0;32m   1821\u001b[0m         )\n\u001b[0;32m   1823\u001b[0m \u001b[38;5;28;01mif\u001b[39;00m \u001b[38;5;28mself\u001b[39m\u001b[38;5;241m.\u001b[39m_has_events \u001b[38;5;129;01mor\u001b[39;00m \u001b[38;5;28mself\u001b[39m\u001b[38;5;241m.\u001b[39mengine\u001b[38;5;241m.\u001b[39m_has_events:\n\u001b[0;32m   1824\u001b[0m     \u001b[38;5;28mself\u001b[39m\u001b[38;5;241m.\u001b[39mdispatch\u001b[38;5;241m.\u001b[39mafter_cursor_execute(\n\u001b[0;32m   1825\u001b[0m         \u001b[38;5;28mself\u001b[39m,\n\u001b[0;32m   1826\u001b[0m         cursor,\n\u001b[1;32m   (...)\u001b[0m\n\u001b[0;32m   1830\u001b[0m         context\u001b[38;5;241m.\u001b[39mexecutemany,\n\u001b[0;32m   1831\u001b[0m     )\n",
      "File \u001b[1;32m~\\anaconda3\\Lib\\site-packages\\sqlalchemy\\engine\\default.py:732\u001b[0m, in \u001b[0;36mDefaultDialect.do_execute\u001b[1;34m(self, cursor, statement, parameters, context)\u001b[0m\n\u001b[0;32m    731\u001b[0m \u001b[38;5;28;01mdef\u001b[39;00m \u001b[38;5;21mdo_execute\u001b[39m(\u001b[38;5;28mself\u001b[39m, cursor, statement, parameters, context\u001b[38;5;241m=\u001b[39m\u001b[38;5;28;01mNone\u001b[39;00m):\n\u001b[1;32m--> 732\u001b[0m     cursor\u001b[38;5;241m.\u001b[39mexecute(statement, parameters)\n",
      "\u001b[1;31mOperationalError\u001b[0m: (sqlite3.OperationalError) no such table: USER\n[SQL: INSERT INTO \"USER\" (\"PK\", \"NAME\") VALUES (?, ?)]\n[parameters: (1, '아무개')]\n(Background on this error at: https://sqlalche.me/e/14/e3q8)"
     ]
    }
   ],
   "source": [
    "con.execute(User.insert().values(PK=1, NAME='아무개'))"
   ]
  },
  {
   "cell_type": "markdown",
   "id": "83e607cc",
   "metadata": {},
   "source": [
    "# 자꾸 에러파티라서.. 다시 "
   ]
  },
  {
   "cell_type": "code",
   "execution_count": 100,
   "id": "87e262cc",
   "metadata": {},
   "outputs": [
    {
     "name": "stdout",
     "output_type": "stream",
     "text": [
      "Defaulting to user installation because normal site-packages is not writeable\n",
      "Requirement already satisfied: sqlalchemy in c:\\users\\user\\appdata\\roaming\\python\\python310\\site-packages (2.0.22)\n",
      "Requirement already satisfied: typing-extensions>=4.2.0 in c:\\users\\user\\appdata\\roaming\\python\\python310\\site-packages (from sqlalchemy) (4.8.0)\n",
      "Requirement already satisfied: greenlet!=0.4.17 in c:\\users\\user\\appdata\\roaming\\python\\python310\\site-packages (from sqlalchemy) (2.0.2)\n"
     ]
    }
   ],
   "source": [
    "!pip install sqlalchemy --upgrade"
   ]
  },
  {
   "cell_type": "code",
   "execution_count": 101,
   "id": "c92af169",
   "metadata": {},
   "outputs": [
    {
     "data": {
      "text/plain": [
       "'1.4.39'"
      ]
     },
     "execution_count": 101,
     "metadata": {},
     "output_type": "execute_result"
    }
   ],
   "source": [
    "sqlalchemy.__version__"
   ]
  },
  {
   "cell_type": "code",
   "execution_count": 102,
   "id": "c86d4365",
   "metadata": {},
   "outputs": [],
   "source": [
    "from sqlalchemy import create_engine, MetaData\n",
    "from sqlalchemy.schema import Table, Column, ForeignKey\n",
    "from sqlalchemy.types import Integer, Text\n",
    "from sqlalchemy.sql import select, insert, update, delete, join, func"
   ]
  },
  {
   "cell_type": "code",
   "execution_count": 103,
   "id": "965184b5",
   "metadata": {},
   "outputs": [],
   "source": [
    "engine = create_engine('sqlite:///:memory:', echo=True)"
   ]
  },
  {
   "cell_type": "code",
   "execution_count": 104,
   "id": "55ff548a",
   "metadata": {},
   "outputs": [],
   "source": [
    "con = engine.connect()"
   ]
  },
  {
   "cell_type": "code",
   "execution_count": 105,
   "id": "3a2af349",
   "metadata": {},
   "outputs": [],
   "source": [
    "meta = MetaData()"
   ]
  },
  {
   "cell_type": "code",
   "execution_count": 106,
   "id": "8de39422",
   "metadata": {},
   "outputs": [
    {
     "data": {
      "text/plain": [
       "FacadeDict({})"
      ]
     },
     "execution_count": 106,
     "metadata": {},
     "output_type": "execute_result"
    }
   ],
   "source": [
    "meta.tables"
   ]
  },
  {
   "cell_type": "code",
   "execution_count": 107,
   "id": "5a41bef9",
   "metadata": {},
   "outputs": [
    {
     "data": {
      "text/plain": [
       "Table('USER', MetaData(), Column('PK', Integer(), table=<USER>, primary_key=True, nullable=False), Column('NAME', Text(), table=<USER>, nullable=False), schema=None)"
      ]
     },
     "execution_count": 107,
     "metadata": {},
     "output_type": "execute_result"
    }
   ],
   "source": [
    "Table('USER', meta,\n",
    "     Column('PK', Integer, primary_key=True),\n",
    "      Column('NAME', Text, nullable=False))"
   ]
  },
  {
   "cell_type": "code",
   "execution_count": 108,
   "id": "2eb6b802",
   "metadata": {},
   "outputs": [
    {
     "data": {
      "text/plain": [
       "1"
      ]
     },
     "execution_count": 108,
     "metadata": {},
     "output_type": "execute_result"
    }
   ],
   "source": [
    "len(meta.tables)"
   ]
  },
  {
   "cell_type": "code",
   "execution_count": 109,
   "id": "d9227f49",
   "metadata": {},
   "outputs": [],
   "source": [
    "User = meta.tables['USER']"
   ]
  },
  {
   "cell_type": "code",
   "execution_count": 110,
   "id": "d48ddde7",
   "metadata": {},
   "outputs": [
    {
     "name": "stdout",
     "output_type": "stream",
     "text": [
      "INSERT INTO \"USER\" (\"PK\", \"NAME\") VALUES (:PK, :NAME)\n"
     ]
    }
   ],
   "source": [
    "print(User.insert())"
   ]
  },
  {
   "cell_type": "code",
   "execution_count": 111,
   "id": "95af3944",
   "metadata": {},
   "outputs": [
    {
     "name": "stdout",
     "output_type": "stream",
     "text": [
      "2023-10-28 04:20:13,353 INFO sqlalchemy.engine.Engine BEGIN (implicit)\n",
      "2023-10-28 04:20:13,354 INFO sqlalchemy.engine.Engine PRAGMA main.table_info(\"USER\")\n",
      "2023-10-28 04:20:13,355 INFO sqlalchemy.engine.Engine [raw sql] ()\n",
      "2023-10-28 04:20:13,358 INFO sqlalchemy.engine.Engine PRAGMA temp.table_info(\"USER\")\n",
      "2023-10-28 04:20:13,358 INFO sqlalchemy.engine.Engine [raw sql] ()\n",
      "2023-10-28 04:20:13,361 INFO sqlalchemy.engine.Engine \n",
      "CREATE TABLE \"USER\" (\n",
      "\t\"PK\" INTEGER NOT NULL, \n",
      "\t\"NAME\" TEXT NOT NULL, \n",
      "\tPRIMARY KEY (\"PK\")\n",
      ")\n",
      "\n",
      "\n",
      "2023-10-28 04:20:13,362 INFO sqlalchemy.engine.Engine [no key 0.00114s] ()\n",
      "2023-10-28 04:20:13,363 INFO sqlalchemy.engine.Engine COMMIT\n"
     ]
    }
   ],
   "source": [
    "meta.create_all(engine) "
   ]
  },
  {
   "cell_type": "code",
   "execution_count": 112,
   "id": "90368fe1",
   "metadata": {},
   "outputs": [
    {
     "data": {
      "text/plain": [
       "['__bool__',\n",
       " '__class__',\n",
       " '__class_getitem__',\n",
       " '__delattr__',\n",
       " '__dict__',\n",
       " '__dir__',\n",
       " '__doc__',\n",
       " '__eq__',\n",
       " '__format__',\n",
       " '__ge__',\n",
       " '__getattribute__',\n",
       " '__getstate__',\n",
       " '__gt__',\n",
       " '__hash__',\n",
       " '__init__',\n",
       " '__init_subclass__',\n",
       " '__invert__',\n",
       " '__le__',\n",
       " '__lt__',\n",
       " '__module__',\n",
       " '__ne__',\n",
       " '__new__',\n",
       " '__nonzero__',\n",
       " '__reduce__',\n",
       " '__reduce_ex__',\n",
       " '__repr__',\n",
       " '__setattr__',\n",
       " '__sizeof__',\n",
       " '__slots__',\n",
       " '__str__',\n",
       " '__subclasshook__',\n",
       " '__visit_name__',\n",
       " '__weakref__',\n",
       " '_add_context_option',\n",
       " '_all_selected_columns',\n",
       " '_annotate',\n",
       " '_annotations',\n",
       " '_annotations_cache_key',\n",
       " '_assert_no_memoizations',\n",
       " '_attributes',\n",
       " '_auto_correlate',\n",
       " '_bind',\n",
       " '_cache_key_traversal',\n",
       " '_clone',\n",
       " '_clone_annotations_traverse_internals',\n",
       " '_cloned_set',\n",
       " '_compile_options',\n",
       " '_compile_state_factory',\n",
       " '_compile_state_plugin',\n",
       " '_compile_w_cache',\n",
       " '_compiler',\n",
       " '_compiler_dispatch',\n",
       " '_constructor',\n",
       " '_copy_internals',\n",
       " '_correlate',\n",
       " '_correlate_except',\n",
       " '_create',\n",
       " '_create_future_select',\n",
       " '_create_raw_select',\n",
       " '_create_select',\n",
       " '_create_select_from_fromclause',\n",
       " '_deannotate',\n",
       " '_distinct',\n",
       " '_distinct_on',\n",
       " '_effective_plugin_target',\n",
       " '_ensure_disambiguated_names',\n",
       " '_executable_traverse_internals',\n",
       " '_execute_on_connection',\n",
       " '_execution_options',\n",
       " '_fetch_clause',\n",
       " '_fetch_clause_options',\n",
       " '_filter_by_zero',\n",
       " '_for_update_arg',\n",
       " '_from_obj',\n",
       " '_from_objects',\n",
       " '_gen_cache_key',\n",
       " '_generate',\n",
       " '_generate_cache_attrs',\n",
       " '_generate_cache_key',\n",
       " '_generate_cache_key_for_object',\n",
       " '_generate_columns_plus_names',\n",
       " '_generate_fromclause_column_proxies',\n",
       " '_group_by_clause',\n",
       " '_group_by_clauses',\n",
       " '_has_ctes_traverse_internals',\n",
       " '_has_hints_traverse_internals',\n",
       " '_has_prefixes_traverse_internals',\n",
       " '_has_row_limiting_clause',\n",
       " '_has_suffixes_traverse_internals',\n",
       " '_having_criteria',\n",
       " '_hierarchy_supports_caching',\n",
       " '_hints',\n",
       " '_implicit_subquery',\n",
       " '_independent_ctes',\n",
       " '_is_bind_parameter',\n",
       " '_is_clause_list',\n",
       " '_is_clone_of',\n",
       " '_is_from_clause',\n",
       " '_is_from_container',\n",
       " '_is_has_cache_key',\n",
       " '_is_immutable',\n",
       " '_is_lambda_element',\n",
       " '_is_lateral',\n",
       " '_is_returns_rows',\n",
       " '_is_select_container',\n",
       " '_is_select_statement',\n",
       " '_is_singleton_constant',\n",
       " '_is_text_clause',\n",
       " '_is_textual',\n",
       " '_iterate_from_elements',\n",
       " '_label_style',\n",
       " '_legacy_setup_joins',\n",
       " '_limit',\n",
       " '_limit_clause',\n",
       " '_memoized_keys',\n",
       " '_memoized_select_entities',\n",
       " '_needs_parens_for_grouping',\n",
       " '_negate',\n",
       " '_negate_in_binary',\n",
       " '_offset',\n",
       " '_offset_clause',\n",
       " '_offset_or_limit_clause',\n",
       " '_offset_or_limit_clause_asint',\n",
       " '_order_by_clause',\n",
       " '_order_by_clauses',\n",
       " '_order_by_label_element',\n",
       " '_original_compiler_dispatch',\n",
       " '_prefixes',\n",
       " '_propagate_attrs',\n",
       " '_raw_columns',\n",
       " '_refresh_for_new_column',\n",
       " '_replace_params',\n",
       " '_reset_memoizations',\n",
       " '_role_name',\n",
       " '_scalar_type',\n",
       " '_set_compile_options',\n",
       " '_set_entities',\n",
       " '_set_memoized_attribute',\n",
       " '_set_propagate_attrs',\n",
       " '_setup_joins',\n",
       " '_setup_prefixes',\n",
       " '_setup_suffixes',\n",
       " '_simple_int_clause',\n",
       " '_statement_hints',\n",
       " '_suffixes',\n",
       " '_traverse_internals',\n",
       " '_ungroup',\n",
       " '_update_compile_options',\n",
       " '_where_criteria',\n",
       " '_whereclause',\n",
       " '_with_annotations',\n",
       " '_with_binary_element_type',\n",
       " '_with_context_options',\n",
       " '_with_options',\n",
       " 'add_columns',\n",
       " 'add_cte',\n",
       " 'alias',\n",
       " 'allows_lambda',\n",
       " 'append_column',\n",
       " 'append_correlation',\n",
       " 'append_from',\n",
       " 'append_group_by',\n",
       " 'append_having',\n",
       " 'append_order_by',\n",
       " 'append_prefix',\n",
       " 'append_whereclause',\n",
       " 'apply_labels',\n",
       " 'as_scalar',\n",
       " 'bind',\n",
       " 'c',\n",
       " 'column',\n",
       " 'column_descriptions',\n",
       " 'columns',\n",
       " 'columns_clause_froms',\n",
       " 'compare',\n",
       " 'compile',\n",
       " 'correlate',\n",
       " 'correlate_except',\n",
       " 'corresponding_column',\n",
       " 'create_legacy_select',\n",
       " 'cte',\n",
       " 'description',\n",
       " 'distinct',\n",
       " 'entity_namespace',\n",
       " 'except_',\n",
       " 'except_all',\n",
       " 'execute',\n",
       " 'execution_options',\n",
       " 'exists',\n",
       " 'exported_columns',\n",
       " 'fetch',\n",
       " 'filter',\n",
       " 'filter_by',\n",
       " 'from_statement',\n",
       " 'froms',\n",
       " 'get_children',\n",
       " 'get_execution_options',\n",
       " 'get_final_froms',\n",
       " 'get_label_style',\n",
       " 'group_by',\n",
       " 'having',\n",
       " 'inherit_cache',\n",
       " 'inner_columns',\n",
       " 'intersect',\n",
       " 'intersect_all',\n",
       " 'is_clause_element',\n",
       " 'is_delete',\n",
       " 'is_derived_from',\n",
       " 'is_dml',\n",
       " 'is_insert',\n",
       " 'is_select',\n",
       " 'is_selectable',\n",
       " 'is_text',\n",
       " 'is_update',\n",
       " 'join',\n",
       " 'join_from',\n",
       " 'label',\n",
       " 'lateral',\n",
       " 'limit',\n",
       " 'memoized_attribute',\n",
       " 'memoized_instancemethod',\n",
       " 'offset',\n",
       " 'options',\n",
       " 'order_by',\n",
       " 'outerjoin',\n",
       " 'outerjoin_from',\n",
       " 'params',\n",
       " 'prefix_with',\n",
       " 'reduce_columns',\n",
       " 'replace_selectable',\n",
       " 'scalar',\n",
       " 'scalar_subquery',\n",
       " 'select',\n",
       " 'select_from',\n",
       " 'selectable',\n",
       " 'selected_columns',\n",
       " 'self_group',\n",
       " 'set_label_style',\n",
       " 'slice',\n",
       " 'stringify_dialect',\n",
       " 'subquery',\n",
       " 'suffix_with',\n",
       " 'supports_execution',\n",
       " 'union',\n",
       " 'union_all',\n",
       " 'unique_params',\n",
       " 'uses_inspection',\n",
       " 'where',\n",
       " 'whereclause',\n",
       " 'with_for_update',\n",
       " 'with_hint',\n",
       " 'with_only_columns',\n",
       " 'with_statement_hint']"
      ]
     },
     "execution_count": 112,
     "metadata": {},
     "output_type": "execute_result"
    }
   ],
   "source": [
    "dir(User.select())"
   ]
  },
  {
   "cell_type": "code",
   "execution_count": 113,
   "id": "9f4412b0",
   "metadata": {},
   "outputs": [
    {
     "name": "stdout",
     "output_type": "stream",
     "text": [
      "INSERT INTO \"USER\" (\"PK\", \"NAME\") VALUES (:PK, :NAME)\n"
     ]
    }
   ],
   "source": [
    "print(User.insert().values(PK=1, NAME='아무개'))"
   ]
  },
  {
   "cell_type": "code",
   "execution_count": 114,
   "id": "7e185152",
   "metadata": {},
   "outputs": [
    {
     "name": "stdout",
     "output_type": "stream",
     "text": [
      "INSERT INTO \"USER\" (\"PK\", \"NAME\") VALUES (:PK, :NAME)\n"
     ]
    }
   ],
   "source": [
    "print(User.insert())"
   ]
  },
  {
   "cell_type": "code",
   "execution_count": 115,
   "id": "214b3f49",
   "metadata": {},
   "outputs": [
    {
     "name": "stdout",
     "output_type": "stream",
     "text": [
      "{'PK': 1, 'NAME': '아무개'}\n"
     ]
    }
   ],
   "source": [
    "print(User.insert().values(PK=1, NAME='아무개').compile().params)"
   ]
  },
  {
   "cell_type": "code",
   "execution_count": 116,
   "id": "8ef926dd",
   "metadata": {},
   "outputs": [
    {
     "name": "stdout",
     "output_type": "stream",
     "text": [
      "2023-10-28 04:20:43,014 INFO sqlalchemy.engine.Engine INSERT INTO \"USER\" (\"PK\", \"NAME\") VALUES (?, ?)\n",
      "2023-10-28 04:20:43,016 INFO sqlalchemy.engine.Engine [generated in 0.00126s] (1, '아무개')\n",
      "2023-10-28 04:20:43,017 INFO sqlalchemy.engine.Engine COMMIT\n"
     ]
    },
    {
     "data": {
      "text/plain": [
       "<sqlalchemy.engine.cursor.LegacyCursorResult at 0x1d8bb58dc50>"
      ]
     },
     "execution_count": 116,
     "metadata": {},
     "output_type": "execute_result"
    }
   ],
   "source": [
    "con.execute(User.insert().values(PK=1, NAME='아무개'))"
   ]
  },
  {
   "cell_type": "code",
   "execution_count": 117,
   "id": "956db69c",
   "metadata": {},
   "outputs": [
    {
     "name": "stdout",
     "output_type": "stream",
     "text": [
      "2023-10-28 04:20:57,672 INFO sqlalchemy.engine.Engine SELECT \"USER\".\"PK\", \"USER\".\"NAME\" \n",
      "FROM \"USER\"\n",
      "2023-10-28 04:20:57,673 INFO sqlalchemy.engine.Engine [generated in 0.00097s] ()\n"
     ]
    },
    {
     "data": {
      "text/plain": [
       "[(1, '아무개')]"
      ]
     },
     "execution_count": 117,
     "metadata": {},
     "output_type": "execute_result"
    }
   ],
   "source": [
    "con.execute(User.select()).fetchall()"
   ]
  },
  {
   "cell_type": "code",
   "execution_count": 118,
   "id": "be52eb39",
   "metadata": {},
   "outputs": [
    {
     "name": "stdout",
     "output_type": "stream",
     "text": [
      "2023-10-28 04:21:42,789 INFO sqlalchemy.engine.Engine SELECT \"USER\".\"PK\", \"USER\".\"NAME\" \n",
      "FROM \"USER\"\n",
      "2023-10-28 04:21:42,789 INFO sqlalchemy.engine.Engine [cached since 45.12s ago] ()\n"
     ]
    },
    {
     "data": {
      "text/plain": [
       "sqlalchemy.engine.cursor.LegacyCursorResult"
      ]
     },
     "execution_count": 118,
     "metadata": {},
     "output_type": "execute_result"
    }
   ],
   "source": [
    "type(con.execute(User.select()))"
   ]
  },
  {
   "cell_type": "code",
   "execution_count": null,
   "id": "4f9e8d16",
   "metadata": {},
   "outputs": [],
   "source": []
  }
 ],
 "metadata": {
  "kernelspec": {
   "display_name": "Python 3 (ipykernel)",
   "language": "python",
   "name": "python3"
  },
  "language_info": {
   "codemirror_mode": {
    "name": "ipython",
    "version": 3
   },
   "file_extension": ".py",
   "mimetype": "text/x-python",
   "name": "python",
   "nbconvert_exporter": "python",
   "pygments_lexer": "ipython3",
   "version": "3.11.5"
  }
 },
 "nbformat": 4,
 "nbformat_minor": 5
}
