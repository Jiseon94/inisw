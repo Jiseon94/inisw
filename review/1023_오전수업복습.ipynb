{
 "cells": [
  {
   "cell_type": "code",
   "execution_count": 3,
   "id": "c628f8cc",
   "metadata": {},
   "outputs": [],
   "source": [
    "import re\n",
    "from os import listdir\n",
    "\n",
    "def ngrams(s, n=2):\n",
    "    rst = list()\n",
    "    for i in range(len(s)-(n-1)):\n",
    "        rst.append(''.join(s[i:i+n]))\n",
    "    return rst\n",
    "\n",
    "def filedis(path, ext='txt'):\n",
    "    files = list(filter(lambda f:re.search(f'{ext}$', f),\n",
    "                       listdird(path)))\n",
    "    return list(map(lambda f:f'{path}/{f}', files))"
   ]
  },
  {
   "cell_type": "code",
   "execution_count": null,
   "id": "8854df56",
   "metadata": {},
   "outputs": [],
   "source": []
  }
 ],
 "metadata": {
  "kernelspec": {
   "display_name": "Python 3 (ipykernel)",
   "language": "python",
   "name": "python3"
  },
  "language_info": {
   "codemirror_mode": {
    "name": "ipython",
    "version": 3
   },
   "file_extension": ".py",
   "mimetype": "text/x-python",
   "name": "python",
   "nbconvert_exporter": "python",
   "pygments_lexer": "ipython3",
   "version": "3.11.5"
  }
 },
 "nbformat": 4,
 "nbformat_minor": 5
}
