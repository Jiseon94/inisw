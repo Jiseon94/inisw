{
 "cells": [
  {
   "cell_type": "code",
   "execution_count": 1,
   "id": "797366e7-5355-43e9-a4e2-214fb5000e58",
   "metadata": {},
   "outputs": [],
   "source": [
    "#수학함수란?"
   ]
  },
  {
   "cell_type": "code",
   "execution_count": 2,
   "id": "a4f62bfa-1aa5-4df7-880d-1ef65c81bcd0",
   "metadata": {},
   "outputs": [],
   "source": [
    "#iterator"
   ]
  },
  {
   "cell_type": "code",
   "execution_count": 3,
   "id": "b137dc33-5ec7-439d-bbd7-7c1d57635a19",
   "metadata": {},
   "outputs": [
    {
     "ename": "ImportError",
     "evalue": "cannot import name 'iterable' from 'collections.abc' (C:\\Program Files\\Python310\\lib\\collections\\abc.py)",
     "output_type": "error",
     "traceback": [
      "\u001b[1;31m---------------------------------------------------------------------------\u001b[0m",
      "\u001b[1;31mImportError\u001b[0m                               Traceback (most recent call last)",
      "Cell \u001b[1;32mIn[3], line 1\u001b[0m\n\u001b[1;32m----> 1\u001b[0m \u001b[38;5;28;01mfrom\u001b[39;00m \u001b[38;5;21;01mcollections\u001b[39;00m\u001b[38;5;21;01m.\u001b[39;00m\u001b[38;5;21;01mabc\u001b[39;00m \u001b[38;5;28;01mimport\u001b[39;00m iterable\n",
      "\u001b[1;31mImportError\u001b[0m: cannot import name 'iterable' from 'collections.abc' (C:\\Program Files\\Python310\\lib\\collections\\abc.py)"
     ]
    }
   ],
   "source": [
    "from collections.abc import iterable #상속\n"
   ]
  },
  {
   "cell_type": "code",
   "execution_count": 5,
   "id": "f03a6ec9-9c87-4315-90e5-e38a78dc9b0d",
   "metadata": {},
   "outputs": [
    {
     "ename": "ModuleNotFoundError",
     "evalue": "No module named 'tensorflow'",
     "output_type": "error",
     "traceback": [
      "\u001b[1;31m---------------------------------------------------------------------------\u001b[0m",
      "\u001b[1;31mModuleNotFoundError\u001b[0m                       Traceback (most recent call last)",
      "Cell \u001b[1;32mIn[5], line 1\u001b[0m\n\u001b[1;32m----> 1\u001b[0m \u001b[38;5;28;01mimport\u001b[39;00m \u001b[38;5;21;01mtensorflow\u001b[39;00m \u001b[38;5;28;01mas\u001b[39;00m \u001b[38;5;21;01mtf\u001b[39;00m\n",
      "\u001b[1;31mModuleNotFoundError\u001b[0m: No module named 'tensorflow'"
     ]
    }
   ],
   "source": [
    "import tensorflow as tf"
   ]
  },
  {
   "cell_type": "code",
   "execution_count": 6,
   "id": "8253ce59-ed19-46b0-9c9c-40935495e206",
   "metadata": {},
   "outputs": [],
   "source": [
    "import inspect"
   ]
  },
  {
   "cell_type": "code",
   "execution_count": 7,
   "id": "824489b2-2200-4edb-b55a-de5779f70096",
   "metadata": {},
   "outputs": [],
   "source": [
    "a = 'abcd'"
   ]
  },
  {
   "cell_type": "code",
   "execution_count": 8,
   "id": "288fe66e-c338-4e99-a619-d332b79c11c6",
   "metadata": {},
   "outputs": [
    {
     "data": {
      "text/plain": [
       "['a', 'b', 'c', 'd']"
      ]
     },
     "execution_count": 8,
     "metadata": {},
     "output_type": "execute_result"
    }
   ],
   "source": [
    "list('abcd')"
   ]
  },
  {
   "cell_type": "code",
   "execution_count": 11,
   "id": "8b66dcb1-d3dd-42b5-942d-36b0620c1acc",
   "metadata": {},
   "outputs": [],
   "source": [
    "def x():\n",
    "    for i in [2,3,4]:\n",
    "        print(i)"
   ]
  },
  {
   "cell_type": "code",
   "execution_count": 12,
   "id": "8d9c0ad3-0539-40ef-8e04-d234206f6fb8",
   "metadata": {},
   "outputs": [],
   "source": [
    "import dis"
   ]
  },
  {
   "cell_type": "code",
   "execution_count": 13,
   "id": "673cd775-94cc-4b4e-8747-906b72167c82",
   "metadata": {},
   "outputs": [
    {
     "name": "stdout",
     "output_type": "stream",
     "text": [
      "  2           0 LOAD_CONST               1 ((2, 3, 4))\n",
      "              2 GET_ITER\n",
      "        >>    4 FOR_ITER                 6 (to 18)\n",
      "              6 STORE_FAST               0 (i)\n",
      "\n",
      "  3           8 LOAD_GLOBAL              0 (print)\n",
      "             10 LOAD_FAST                0 (i)\n",
      "             12 CALL_FUNCTION            1\n",
      "             14 POP_TOP\n",
      "             16 JUMP_ABSOLUTE            2 (to 4)\n",
      "\n",
      "  2     >>   18 LOAD_CONST               0 (None)\n",
      "             20 RETURN_VALUE\n"
     ]
    }
   ],
   "source": [
    "dis.dis(x)"
   ]
  },
  {
   "cell_type": "code",
   "execution_count": 14,
   "id": "233303c5-e534-4a92-a087-a80bf6d9bd85",
   "metadata": {},
   "outputs": [],
   "source": [
    "def f(n):\n",
    "    if n==1 or n==2:\n",
    "        return 1\n",
    "    return f(n-1) + f(n-2)"
   ]
  },
  {
   "cell_type": "code",
   "execution_count": 15,
   "id": "299fb8f3-e54f-4ef1-9bb9-cacc2c95ee96",
   "metadata": {},
   "outputs": [
    {
     "data": {
      "text/plain": [
       "55"
      ]
     },
     "execution_count": 15,
     "metadata": {},
     "output_type": "execute_result"
    }
   ],
   "source": [
    "f(10)"
   ]
  },
  {
   "cell_type": "code",
   "execution_count": 16,
   "id": "1e82c9dd-6027-406c-a45b-d7cf7963241b",
   "metadata": {},
   "outputs": [],
   "source": [
    "sum_ = 0\n",
    "for i in range(1,11):\n",
    "    sum_ += i"
   ]
  },
  {
   "cell_type": "code",
   "execution_count": 17,
   "id": "7676576f-7d21-483f-9e91-9a101d469342",
   "metadata": {},
   "outputs": [
    {
     "data": {
      "text/plain": [
       "55"
      ]
     },
     "execution_count": 17,
     "metadata": {},
     "output_type": "execute_result"
    }
   ],
   "source": [
    "sum_"
   ]
  },
  {
   "cell_type": "code",
   "execution_count": 18,
   "id": "976850a3-ddec-4a2d-b1fd-4ffa94e5740a",
   "metadata": {},
   "outputs": [],
   "source": [
    "temp = []\n",
    "for i in range(1, 11):\n",
    "    temp.append(i)"
   ]
  },
  {
   "cell_type": "code",
   "execution_count": 19,
   "id": "0b45c1f8-e8ed-4889-a059-fb87788cbc1c",
   "metadata": {},
   "outputs": [
    {
     "data": {
      "text/plain": [
       "[1, 2, 3, 4, 5, 6, 7, 8, 9, 10]"
      ]
     },
     "execution_count": 19,
     "metadata": {},
     "output_type": "execute_result"
    }
   ],
   "source": [
    "temp"
   ]
  },
  {
   "cell_type": "code",
   "execution_count": 20,
   "id": "c46d23f8-4e63-430f-bcff-7e73ca1af4bb",
   "metadata": {},
   "outputs": [],
   "source": [
    "temp = []\n",
    "for i in range(1, 11):\n",
    "    if i%2==0:\n",
    "        temp.append(i)"
   ]
  },
  {
   "cell_type": "code",
   "execution_count": 21,
   "id": "577557d7-f20b-4da8-824e-c517075260d4",
   "metadata": {},
   "outputs": [
    {
     "data": {
      "text/plain": [
       "[2, 4, 6, 8, 10]"
      ]
     },
     "execution_count": 21,
     "metadata": {},
     "output_type": "execute_result"
    }
   ],
   "source": [
    "temp"
   ]
  },
  {
   "cell_type": "code",
   "execution_count": 22,
   "id": "107d5bdd-ea24-44d2-ad15-62e59bcc502a",
   "metadata": {},
   "outputs": [
    {
     "data": {
      "text/plain": [
       "[1, 2, 3, 4, 5, 6, 7, 8, 9, 10]"
      ]
     },
     "execution_count": 22,
     "metadata": {},
     "output_type": "execute_result"
    }
   ],
   "source": [
    "[x for x in range(1,11)]"
   ]
  },
  {
   "cell_type": "code",
   "execution_count": 23,
   "id": "1813d841-1d0a-4590-bd38-e831140c3697",
   "metadata": {},
   "outputs": [
    {
     "data": {
      "text/plain": [
       "[3, 4, 5, 6, 7, 8, 9, 10, 11, 12]"
      ]
     },
     "execution_count": 23,
     "metadata": {},
     "output_type": "execute_result"
    }
   ],
   "source": [
    "[x+2 for x in range(1,11)]"
   ]
  },
  {
   "cell_type": "code",
   "execution_count": 24,
   "id": "dbe578e5-9071-4746-b098-58be69021169",
   "metadata": {},
   "outputs": [
    {
     "data": {
      "text/plain": [
       "[2, 4, 6, 8, 10]"
      ]
     },
     "execution_count": 24,
     "metadata": {},
     "output_type": "execute_result"
    }
   ],
   "source": [
    "[x for x in range(1,11)  if x%2==0]"
   ]
  },
  {
   "cell_type": "code",
   "execution_count": 25,
   "id": "c6f50ebf-50f7-4dba-b5cb-cada25d45880",
   "metadata": {},
   "outputs": [
    {
     "data": {
      "text/plain": [
       "['', 2, '', 4, '', 6, '', 8, '', 10]"
      ]
     },
     "execution_count": 25,
     "metadata": {},
     "output_type": "execute_result"
    }
   ],
   "source": [
    "[x  if x%2==0 else '' for x in range(1,11)]"
   ]
  },
  {
   "cell_type": "code",
   "execution_count": 26,
   "id": "14fc1cbf-cf57-4386-b075-1a08a01816aa",
   "metadata": {},
   "outputs": [
    {
     "data": {
      "text/plain": [
       "[(0, 6),\n",
       " (0, 7),\n",
       " (0, 8),\n",
       " (0, 9),\n",
       " (1, 6),\n",
       " (1, 7),\n",
       " (1, 8),\n",
       " (1, 9),\n",
       " (2, 6),\n",
       " (2, 7),\n",
       " (2, 8),\n",
       " (2, 9),\n",
       " (3, 6),\n",
       " (3, 7),\n",
       " (3, 8),\n",
       " (3, 9),\n",
       " (4, 6),\n",
       " (4, 7),\n",
       " (4, 8),\n",
       " (4, 9)]"
      ]
     },
     "execution_count": 26,
     "metadata": {},
     "output_type": "execute_result"
    }
   ],
   "source": [
    "[(x,y) for x in range(5) for y in range(6, 10)]"
   ]
  },
  {
   "cell_type": "code",
   "execution_count": 28,
   "id": "5ca9c10f-11e2-4977-b79e-94e9a837d1d4",
   "metadata": {},
   "outputs": [
    {
     "name": "stdout",
     "output_type": "stream",
     "text": [
      "185 ms ± 44.4 ms per loop (mean ± std. dev. of 7 runs, 10 loops each)\n"
     ]
    }
   ],
   "source": [
    "%%timeit\n",
    "temp=[]\n",
    "for i in range(1000000):\n",
    "    temp.append(i)\n",
    "temp"
   ]
  },
  {
   "cell_type": "code",
   "execution_count": 33,
   "id": "222532ce-979b-4c21-af8e-892a6f127ee5",
   "metadata": {},
   "outputs": [
    {
     "name": "stdout",
     "output_type": "stream",
     "text": [
      "147 ms ± 2.54 ms per loop (mean ± std. dev. of 7 runs, 10 loops each)\n"
     ]
    }
   ],
   "source": [
    "%timeit [x for x in range(1000000)]"
   ]
  },
  {
   "cell_type": "code",
   "execution_count": 34,
   "id": "f4f4ae72-d638-4dac-b935-1a8e2462e88a",
   "metadata": {},
   "outputs": [
    {
     "name": "stdout",
     "output_type": "stream",
     "text": [
      "109 ms ± 34.5 ms per loop (mean ± std. dev. of 7 runs, 10 loops each)\n"
     ]
    }
   ],
   "source": [
    "%timeit [x for x in range(1000000)]"
   ]
  },
  {
   "cell_type": "code",
   "execution_count": 35,
   "id": "6c88874e-d967-45a6-945b-bfe8b98a74f6",
   "metadata": {},
   "outputs": [],
   "source": [
    "a = [1, 2, 3,4]"
   ]
  },
  {
   "cell_type": "code",
   "execution_count": 38,
   "id": "a294e8de-39de-4059-968a-bb58e9d141ab",
   "metadata": {},
   "outputs": [],
   "source": [
    "b= iter(a)"
   ]
  },
  {
   "cell_type": "code",
   "execution_count": 39,
   "id": "34796ae8-97c4-4e11-bb70-b6e4fa65cd90",
   "metadata": {},
   "outputs": [
    {
     "data": {
      "text/plain": [
       "['__class__',\n",
       " '__delattr__',\n",
       " '__dir__',\n",
       " '__doc__',\n",
       " '__eq__',\n",
       " '__format__',\n",
       " '__ge__',\n",
       " '__getattribute__',\n",
       " '__gt__',\n",
       " '__hash__',\n",
       " '__init__',\n",
       " '__init_subclass__',\n",
       " '__iter__',\n",
       " '__le__',\n",
       " '__length_hint__',\n",
       " '__lt__',\n",
       " '__ne__',\n",
       " '__new__',\n",
       " '__next__',\n",
       " '__reduce__',\n",
       " '__reduce_ex__',\n",
       " '__repr__',\n",
       " '__setattr__',\n",
       " '__setstate__',\n",
       " '__sizeof__',\n",
       " '__str__',\n",
       " '__subclasshook__']"
      ]
     },
     "execution_count": 39,
     "metadata": {},
     "output_type": "execute_result"
    }
   ],
   "source": [
    "dir(b)"
   ]
  },
  {
   "cell_type": "code",
   "execution_count": 40,
   "id": "95c2e2bd-f385-476a-ba62-ee21a45014b6",
   "metadata": {},
   "outputs": [
    {
     "ename": "TypeError",
     "evalue": "'list_iterator' object is not subscriptable",
     "output_type": "error",
     "traceback": [
      "\u001b[1;31m---------------------------------------------------------------------------\u001b[0m",
      "\u001b[1;31mTypeError\u001b[0m                                 Traceback (most recent call last)",
      "Cell \u001b[1;32mIn[40], line 1\u001b[0m\n\u001b[1;32m----> 1\u001b[0m \u001b[43mb\u001b[49m\u001b[43m[\u001b[49m\u001b[38;5;241;43m0\u001b[39;49m\u001b[43m]\u001b[49m\n",
      "\u001b[1;31mTypeError\u001b[0m: 'list_iterator' object is not subscriptable"
     ]
    }
   ],
   "source": [
    "b[0]"
   ]
  },
  {
   "cell_type": "code",
   "execution_count": 41,
   "id": "c58b8a7c-d364-45b9-81d4-89e9ffc53942",
   "metadata": {},
   "outputs": [
    {
     "data": {
      "text/plain": [
       "1"
      ]
     },
     "execution_count": 41,
     "metadata": {},
     "output_type": "execute_result"
    }
   ],
   "source": [
    "next(b)"
   ]
  },
  {
   "cell_type": "code",
   "execution_count": 42,
   "id": "119ba30b-1a1b-48bc-a910-421af691b317",
   "metadata": {},
   "outputs": [
    {
     "data": {
      "text/plain": [
       "[2, 3, 4]"
      ]
     },
     "execution_count": 42,
     "metadata": {},
     "output_type": "execute_result"
    }
   ],
   "source": [
    "list(b)"
   ]
  },
  {
   "cell_type": "code",
   "execution_count": 43,
   "id": "8e392e61-6a14-4339-a280-ce2aed465b8b",
   "metadata": {},
   "outputs": [
    {
     "ename": "StopIteration",
     "evalue": "",
     "output_type": "error",
     "traceback": [
      "\u001b[1;31m---------------------------------------------------------------------------\u001b[0m",
      "\u001b[1;31mStopIteration\u001b[0m                             Traceback (most recent call last)",
      "Cell \u001b[1;32mIn[43], line 1\u001b[0m\n\u001b[1;32m----> 1\u001b[0m \u001b[38;5;28;43mnext\u001b[39;49m\u001b[43m(\u001b[49m\u001b[43mb\u001b[49m\u001b[43m)\u001b[49m\n",
      "\u001b[1;31mStopIteration\u001b[0m: "
     ]
    }
   ],
   "source": [
    "next(b)"
   ]
  },
  {
   "cell_type": "code",
   "execution_count": 44,
   "id": "ef3bb5fc-4499-4489-a566-4a200c50ed22",
   "metadata": {},
   "outputs": [],
   "source": [
    "a = [1,2,3,4]\n",
    "c = next(iter(a))"
   ]
  },
  {
   "cell_type": "code",
   "execution_count": 45,
   "id": "fdb27fbe-3db6-4ba3-9ad1-519a72faa8d7",
   "metadata": {},
   "outputs": [
    {
     "data": {
      "text/plain": [
       "1"
      ]
     },
     "execution_count": 45,
     "metadata": {},
     "output_type": "execute_result"
    }
   ],
   "source": [
    "c"
   ]
  },
  {
   "cell_type": "code",
   "execution_count": 47,
   "id": "5052f6db-1d66-44d5-ad6c-3596b3eaf886",
   "metadata": {},
   "outputs": [
    {
     "data": {
      "text/plain": [
       "1"
      ]
     },
     "execution_count": 47,
     "metadata": {},
     "output_type": "execute_result"
    }
   ],
   "source": [
    "c"
   ]
  },
  {
   "cell_type": "code",
   "execution_count": 48,
   "id": "4b25f70f-e620-44f9-9798-4f31a3a1e4ee",
   "metadata": {},
   "outputs": [
    {
     "ename": "TypeError",
     "evalue": "'int' object is not an iterator",
     "output_type": "error",
     "traceback": [
      "\u001b[1;31m---------------------------------------------------------------------------\u001b[0m",
      "\u001b[1;31mTypeError\u001b[0m                                 Traceback (most recent call last)",
      "Cell \u001b[1;32mIn[48], line 1\u001b[0m\n\u001b[1;32m----> 1\u001b[0m \u001b[38;5;28;43mnext\u001b[39;49m\u001b[43m(\u001b[49m\u001b[43mc\u001b[49m\u001b[43m)\u001b[49m\n",
      "\u001b[1;31mTypeError\u001b[0m: 'int' object is not an iterator"
     ]
    }
   ],
   "source": [
    "next(c)"
   ]
  },
  {
   "cell_type": "code",
   "execution_count": 51,
   "id": "5a4604dd-6c15-42b6-af02-4b9bffce320f",
   "metadata": {},
   "outputs": [],
   "source": [
    "t = (x for x in range(10))"
   ]
  },
  {
   "cell_type": "code",
   "execution_count": 55,
   "id": "9b1b4186-35c5-451b-a9e4-ac9b88a0b935",
   "metadata": {},
   "outputs": [
    {
     "data": {
      "text/plain": [
       "3"
      ]
     },
     "execution_count": 55,
     "metadata": {},
     "output_type": "execute_result"
    }
   ],
   "source": [
    "next(t)"
   ]
  },
  {
   "cell_type": "code",
   "execution_count": 57,
   "id": "94517da7-be1a-42ad-a120-57c8e3f2770a",
   "metadata": {},
   "outputs": [],
   "source": [
    "def y():\n",
    "    yield 1\n",
    "    yield 2"
   ]
  },
  {
   "cell_type": "code",
   "execution_count": 58,
   "id": "1edc54ff-4f0b-43d9-b47d-3bca71bbdff5",
   "metadata": {},
   "outputs": [],
   "source": [
    "z=y()"
   ]
  },
  {
   "cell_type": "code",
   "execution_count": 59,
   "id": "cca61350-3a91-4e08-a7b2-88843b736654",
   "metadata": {},
   "outputs": [
    {
     "data": {
      "text/plain": [
       "<generator object y at 0x00000296B1C6C580>"
      ]
     },
     "execution_count": 59,
     "metadata": {},
     "output_type": "execute_result"
    }
   ],
   "source": [
    "z"
   ]
  },
  {
   "cell_type": "code",
   "execution_count": 62,
   "id": "e864496e-e755-4352-bd92-e9bff0ceb28e",
   "metadata": {},
   "outputs": [
    {
     "ename": "StopIteration",
     "evalue": "",
     "output_type": "error",
     "traceback": [
      "\u001b[1;31m---------------------------------------------------------------------------\u001b[0m",
      "\u001b[1;31mStopIteration\u001b[0m                             Traceback (most recent call last)",
      "Cell \u001b[1;32mIn[62], line 1\u001b[0m\n\u001b[1;32m----> 1\u001b[0m \u001b[38;5;28;43mnext\u001b[39;49m\u001b[43m(\u001b[49m\u001b[43mz\u001b[49m\u001b[43m)\u001b[49m\n",
      "\u001b[1;31mStopIteration\u001b[0m: "
     ]
    }
   ],
   "source": [
    "next(z)"
   ]
  },
  {
   "cell_type": "code",
   "execution_count": 63,
   "id": "8213ecf8-0b3e-4cc8-b4c9-787ccbd11ba0",
   "metadata": {},
   "outputs": [],
   "source": [
    "def yy():\n",
    "    yield from [1,2,3,4,5]"
   ]
  },
  {
   "cell_type": "code",
   "execution_count": 64,
   "id": "994db5d0-6bea-46cd-a754-98fda3b3f937",
   "metadata": {},
   "outputs": [],
   "source": [
    "q=yy()"
   ]
  },
  {
   "cell_type": "code",
   "execution_count": 65,
   "id": "de7f7962-0894-4f22-87fd-64740f469e62",
   "metadata": {},
   "outputs": [
    {
     "data": {
      "text/plain": [
       "1"
      ]
     },
     "execution_count": 65,
     "metadata": {},
     "output_type": "execute_result"
    }
   ],
   "source": [
    "next(q)"
   ]
  },
  {
   "cell_type": "code",
   "execution_count": 66,
   "id": "481ec0b5-7802-4f8b-8e0f-ba7b129f9202",
   "metadata": {},
   "outputs": [
    {
     "name": "stdin",
     "output_type": "stream",
     "text": [
      " difis\n",
      " dsijfis\n",
      " dsfijidsf\n",
      " 102\n"
     ]
    }
   ],
   "source": [
    "while True:\n",
    "    try:\n",
    "        a = input()\n",
    "        b = int(a) + 10\n",
    "    except:\n",
    "        continue\n",
    "    else:\n",
    "        break"
   ]
  },
  {
   "cell_type": "code",
   "execution_count": null,
   "id": "6061cf28-a1a8-49a6-b068-b761ba9f6c6e",
   "metadata": {},
   "outputs": [],
   "source": []
  }
 ],
 "metadata": {
  "kernelspec": {
   "display_name": "Python 3 (ipykernel)",
   "language": "python",
   "name": "python3"
  },
  "language_info": {
   "codemirror_mode": {
    "name": "ipython",
    "version": 3
   },
   "file_extension": ".py",
   "mimetype": "text/x-python",
   "name": "python",
   "nbconvert_exporter": "python",
   "pygments_lexer": "ipython3",
   "version": "3.10.1"
  }
 },
 "nbformat": 4,
 "nbformat_minor": 5
}
