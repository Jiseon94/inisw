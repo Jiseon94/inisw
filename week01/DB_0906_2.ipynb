{
 "cells": [
  {
   "cell_type": "code",
   "execution_count": 1,
   "id": "f5fb262b-c6f0-4954-8b6c-238a3a1ed44a",
   "metadata": {},
   "outputs": [],
   "source": [
    "import sqlalchemy"
   ]
  },
  {
   "cell_type": "code",
   "execution_count": 2,
   "id": "243902e6-74b4-4056-b6e5-ae6333cf8bc4",
   "metadata": {},
   "outputs": [
    {
     "data": {
      "text/plain": [
       "'2.0.20'"
      ]
     },
     "execution_count": 2,
     "metadata": {},
     "output_type": "execute_result"
    }
   ],
   "source": [
    "sqlalchemy.__version__"
   ]
  },
  {
   "cell_type": "code",
   "execution_count": 3,
   "id": "4331c3db-1ac3-401a-b171-4d3f67df563f",
   "metadata": {},
   "outputs": [],
   "source": [
    "from sqlalchemy import create_engine, MetaData\n",
    "from sqlalchemy.schema import Table, Column, ForeignKey\n",
    "from sqlalchemy.types import Integer, Text\n",
    "from sqlalchemy.sql import select, insert, update, delete, join, func"
   ]
  },
  {
   "cell_type": "code",
   "execution_count": 4,
   "id": "154e426b-d7fe-4e28-8c2d-f4872a6b08c3",
   "metadata": {},
   "outputs": [],
   "source": [
    "engine = create_engine('sqlite:///:memory:', echo=True)"
   ]
  },
  {
   "cell_type": "code",
   "execution_count": 42,
   "id": "e38d8cbd-2087-4d47-b875-23eb8156c908",
   "metadata": {},
   "outputs": [
    {
     "name": "stdout",
     "output_type": "stream",
     "text": [
      "Engine(sqlite:///:memory:)\n"
     ]
    }
   ],
   "source": [
    "print(engine)"
   ]
  },
  {
   "cell_type": "code",
   "execution_count": 5,
   "id": "e46ca9b6-d737-4453-921b-8c6dd21729be",
   "metadata": {},
   "outputs": [],
   "source": [
    "# cur.excute/many/script\n",
    "con = engine.connect()"
   ]
  },
  {
   "cell_type": "code",
   "execution_count": 6,
   "id": "42174fdf-558f-4531-93a1-25b9cef345da",
   "metadata": {},
   "outputs": [
    {
     "ename": "ObjectNotExecutableError",
     "evalue": "Not an executable object: 'SELECT 1'",
     "output_type": "error",
     "traceback": [
      "\u001b[1;31m---------------------------------------------------------------------------\u001b[0m",
      "\u001b[1;31mAttributeError\u001b[0m                            Traceback (most recent call last)",
      "File \u001b[1;32m~\\AppData\\Roaming\\Python\\Python310\\site-packages\\sqlalchemy\\engine\\base.py:1408\u001b[0m, in \u001b[0;36mConnection.execute\u001b[1;34m(self, statement, parameters, execution_options)\u001b[0m\n\u001b[0;32m   1407\u001b[0m \u001b[38;5;28;01mtry\u001b[39;00m:\n\u001b[1;32m-> 1408\u001b[0m     meth \u001b[38;5;241m=\u001b[39m \u001b[43mstatement\u001b[49m\u001b[38;5;241;43m.\u001b[39;49m\u001b[43m_execute_on_connection\u001b[49m\n\u001b[0;32m   1409\u001b[0m \u001b[38;5;28;01mexcept\u001b[39;00m \u001b[38;5;167;01mAttributeError\u001b[39;00m \u001b[38;5;28;01mas\u001b[39;00m err:\n",
      "\u001b[1;31mAttributeError\u001b[0m: 'str' object has no attribute '_execute_on_connection'",
      "\nThe above exception was the direct cause of the following exception:\n",
      "\u001b[1;31mObjectNotExecutableError\u001b[0m                  Traceback (most recent call last)",
      "Cell \u001b[1;32mIn[6], line 1\u001b[0m\n\u001b[1;32m----> 1\u001b[0m \u001b[43mcon\u001b[49m\u001b[38;5;241;43m.\u001b[39;49m\u001b[43mexecute\u001b[49m\u001b[43m(\u001b[49m\u001b[38;5;124;43m'\u001b[39;49m\u001b[38;5;124;43mSELECT 1\u001b[39;49m\u001b[38;5;124;43m'\u001b[39;49m\u001b[43m)\u001b[49m\n",
      "File \u001b[1;32m~\\AppData\\Roaming\\Python\\Python310\\site-packages\\sqlalchemy\\engine\\base.py:1410\u001b[0m, in \u001b[0;36mConnection.execute\u001b[1;34m(self, statement, parameters, execution_options)\u001b[0m\n\u001b[0;32m   1408\u001b[0m     meth \u001b[38;5;241m=\u001b[39m statement\u001b[38;5;241m.\u001b[39m_execute_on_connection\n\u001b[0;32m   1409\u001b[0m \u001b[38;5;28;01mexcept\u001b[39;00m \u001b[38;5;167;01mAttributeError\u001b[39;00m \u001b[38;5;28;01mas\u001b[39;00m err:\n\u001b[1;32m-> 1410\u001b[0m     \u001b[38;5;28;01mraise\u001b[39;00m exc\u001b[38;5;241m.\u001b[39mObjectNotExecutableError(statement) \u001b[38;5;28;01mfrom\u001b[39;00m \u001b[38;5;21;01merr\u001b[39;00m\n\u001b[0;32m   1411\u001b[0m \u001b[38;5;28;01melse\u001b[39;00m:\n\u001b[0;32m   1412\u001b[0m     \u001b[38;5;28;01mreturn\u001b[39;00m meth(\n\u001b[0;32m   1413\u001b[0m         \u001b[38;5;28mself\u001b[39m,\n\u001b[0;32m   1414\u001b[0m         distilled_parameters,\n\u001b[0;32m   1415\u001b[0m         execution_options \u001b[38;5;129;01mor\u001b[39;00m NO_OPTIONS,\n\u001b[0;32m   1416\u001b[0m     )\n",
      "\u001b[1;31mObjectNotExecutableError\u001b[0m: Not an executable object: 'SELECT 1'"
     ]
    }
   ],
   "source": [
    "con.execute('SELECT 1')"
   ]
  },
  {
   "cell_type": "code",
   "execution_count": 7,
   "id": "e43149d5-1677-464c-b4f4-f2fa565e3865",
   "metadata": {},
   "outputs": [],
   "source": [
    "meta = MetaData()"
   ]
  },
  {
   "cell_type": "code",
   "execution_count": 8,
   "id": "1424b228-ff9e-4aa2-8ef0-d10aa468ebd4",
   "metadata": {},
   "outputs": [
    {
     "data": {
      "text/plain": [
       "FacadeDict({})"
      ]
     },
     "execution_count": 8,
     "metadata": {},
     "output_type": "execute_result"
    }
   ],
   "source": [
    "meta.tables"
   ]
  },
  {
   "cell_type": "code",
   "execution_count": 9,
   "id": "776aeb65-cb2e-4256-ae52-806805aeb989",
   "metadata": {},
   "outputs": [
    {
     "data": {
      "text/plain": [
       "Table('USER', MetaData(), Column('PK', Integer(), table=<USER>, primary_key=True, nullable=False), Column('NAME', Text(), table=<USER>, nullable=False), schema=None)"
      ]
     },
     "execution_count": 9,
     "metadata": {},
     "output_type": "execute_result"
    }
   ],
   "source": [
    "Table('USER', meta,\n",
    "     Column('PK', Integer, primary_key=True),\n",
    "      Column('NAME', Text, nullable=False))"
   ]
  },
  {
   "cell_type": "code",
   "execution_count": 10,
   "id": "471c9e29-0c0e-4a3a-ac1c-a91c385adaeb",
   "metadata": {},
   "outputs": [
    {
     "data": {
      "text/plain": [
       "1"
      ]
     },
     "execution_count": 10,
     "metadata": {},
     "output_type": "execute_result"
    }
   ],
   "source": [
    "len(meta.tables)"
   ]
  },
  {
   "cell_type": "code",
   "execution_count": 11,
   "id": "dab1d076-87f6-4f2a-b44f-3d8ccecc7428",
   "metadata": {},
   "outputs": [],
   "source": [
    "User = meta.tables['USER']"
   ]
  },
  {
   "cell_type": "code",
   "execution_count": 12,
   "id": "795f8028-b02a-41e8-97db-d1b5fec7bc76",
   "metadata": {},
   "outputs": [
    {
     "name": "stdout",
     "output_type": "stream",
     "text": [
      "INSERT INTO \"USER\" (\"PK\", \"NAME\") VALUES (:PK, :NAME)\n"
     ]
    }
   ],
   "source": [
    "print(User.insert())"
   ]
  },
  {
   "cell_type": "code",
   "execution_count": 13,
   "id": "dab14ecd-60ff-4bfc-bcf1-491d0440ea20",
   "metadata": {},
   "outputs": [
    {
     "name": "stdout",
     "output_type": "stream",
     "text": [
      "2023-09-06 09:45:45,401 INFO sqlalchemy.engine.Engine BEGIN (implicit)\n",
      "2023-09-06 09:45:45,401 INFO sqlalchemy.engine.Engine PRAGMA main.table_info(\"USER\")\n",
      "2023-09-06 09:45:45,401 INFO sqlalchemy.engine.Engine [raw sql] ()\n",
      "2023-09-06 09:45:45,401 INFO sqlalchemy.engine.Engine PRAGMA temp.table_info(\"USER\")\n",
      "2023-09-06 09:45:45,405 INFO sqlalchemy.engine.Engine [raw sql] ()\n",
      "2023-09-06 09:45:45,406 INFO sqlalchemy.engine.Engine \n",
      "CREATE TABLE \"USER\" (\n",
      "\t\"PK\" INTEGER NOT NULL, \n",
      "\t\"NAME\" TEXT NOT NULL, \n",
      "\tPRIMARY KEY (\"PK\")\n",
      ")\n",
      "\n",
      "\n",
      "2023-09-06 09:45:45,406 INFO sqlalchemy.engine.Engine [no key 0.00067s] ()\n",
      "2023-09-06 09:45:45,408 INFO sqlalchemy.engine.Engine COMMIT\n"
     ]
    }
   ],
   "source": [
    "meta.create_all(engine) #engine보고 일해라고 하는거임. "
   ]
  },
  {
   "cell_type": "code",
   "execution_count": 14,
   "id": "b3570be4-5a84-4156-9788-832d47192a16",
   "metadata": {},
   "outputs": [
    {
     "data": {
      "text/plain": [
       "['__annotations__',\n",
       " '__bool__',\n",
       " '__class__',\n",
       " '__class_getitem__',\n",
       " '__delattr__',\n",
       " '__dict__',\n",
       " '__dir__',\n",
       " '__doc__',\n",
       " '__eq__',\n",
       " '__format__',\n",
       " '__ge__',\n",
       " '__getattribute__',\n",
       " '__getstate__',\n",
       " '__gt__',\n",
       " '__hash__',\n",
       " '__init__',\n",
       " '__init_subclass__',\n",
       " '__invert__',\n",
       " '__le__',\n",
       " '__lt__',\n",
       " '__module__',\n",
       " '__ne__',\n",
       " '__new__',\n",
       " '__orig_bases__',\n",
       " '__parameters__',\n",
       " '__reduce__',\n",
       " '__reduce_ex__',\n",
       " '__repr__',\n",
       " '__setattr__',\n",
       " '__sizeof__',\n",
       " '__slots__',\n",
       " '__str__',\n",
       " '__subclasshook__',\n",
       " '__visit_name__',\n",
       " '__weakref__',\n",
       " '_add_context_option',\n",
       " '_all_selected_columns',\n",
       " '_annotate',\n",
       " '_annotations',\n",
       " '_annotations_cache_key',\n",
       " '_assert_no_memoizations',\n",
       " '_attributes',\n",
       " '_auto_correlate',\n",
       " '_cache_key_traversal',\n",
       " '_clone',\n",
       " '_clone_annotations_traverse_internals',\n",
       " '_cloned_set',\n",
       " '_compile_options',\n",
       " '_compile_state_factory',\n",
       " '_compile_state_plugin',\n",
       " '_compile_w_cache',\n",
       " '_compiler',\n",
       " '_compiler_dispatch',\n",
       " '_constructor',\n",
       " '_copy_internals',\n",
       " '_correlate',\n",
       " '_correlate_except',\n",
       " '_create_raw_select',\n",
       " '_de_clone',\n",
       " '_deannotate',\n",
       " '_distinct',\n",
       " '_distinct_on',\n",
       " '_effective_plugin_target',\n",
       " '_ensure_disambiguated_names',\n",
       " '_executable_traverse_internals',\n",
       " '_execute_on_connection',\n",
       " '_execute_on_scalar',\n",
       " '_execution_options',\n",
       " '_fetch_clause',\n",
       " '_fetch_clause_options',\n",
       " '_filter_by_zero',\n",
       " '_for_update_arg',\n",
       " '_from_obj',\n",
       " '_from_objects',\n",
       " '_gen_annotations_cache_key',\n",
       " '_gen_cache_key',\n",
       " '_gen_static_annotations_cache_key',\n",
       " '_generate',\n",
       " '_generate_cache_attrs',\n",
       " '_generate_cache_key',\n",
       " '_generate_cache_key_for_object',\n",
       " '_generate_columns_plus_names',\n",
       " '_generate_compiler_dispatch',\n",
       " '_generate_fromclause_column_proxies',\n",
       " '_get_embedded_bindparams',\n",
       " '_group_by_clause',\n",
       " '_group_by_clauses',\n",
       " '_has_ctes_traverse_internals',\n",
       " '_has_hints_traverse_internals',\n",
       " '_has_prefixes_traverse_internals',\n",
       " '_has_row_limiting_clause',\n",
       " '_has_suffixes_traverse_internals',\n",
       " '_having_criteria',\n",
       " '_hierarchy_supports_caching',\n",
       " '_hints',\n",
       " '_implicit_subquery',\n",
       " '_independent_ctes',\n",
       " '_independent_ctes_opts',\n",
       " '_is_bind_parameter',\n",
       " '_is_clause_list',\n",
       " '_is_clone_of',\n",
       " '_is_column_element',\n",
       " '_is_default_generator',\n",
       " '_is_from_clause',\n",
       " '_is_from_container',\n",
       " '_is_has_cache_key',\n",
       " '_is_immutable',\n",
       " '_is_keyed_column_element',\n",
       " '_is_lambda_element',\n",
       " '_is_lateral',\n",
       " '_is_protocol',\n",
       " '_is_returns_rows',\n",
       " '_is_select_base',\n",
       " '_is_select_container',\n",
       " '_is_select_statement',\n",
       " '_is_singleton_constant',\n",
       " '_is_star',\n",
       " '_is_table',\n",
       " '_is_text_clause',\n",
       " '_is_textual',\n",
       " '_iterate_from_elements',\n",
       " '_label_style',\n",
       " '_limit',\n",
       " '_limit_clause',\n",
       " '_memoized_keys',\n",
       " '_memoized_select_entities',\n",
       " '_needs_parens_for_grouping',\n",
       " '_negate',\n",
       " '_negate_in_binary',\n",
       " '_offset',\n",
       " '_offset_clause',\n",
       " '_offset_or_limit_clause',\n",
       " '_offset_or_limit_clause_asint',\n",
       " '_order_by_clause',\n",
       " '_order_by_clauses',\n",
       " '_order_by_label_element',\n",
       " '_original_compiler_dispatch',\n",
       " '_prefixes',\n",
       " '_propagate_attrs',\n",
       " '_raw_columns',\n",
       " '_refresh_for_new_column',\n",
       " '_replace_params',\n",
       " '_reset_memoizations',\n",
       " '_role_name',\n",
       " '_scalar_type',\n",
       " '_set_compile_options',\n",
       " '_set_entities',\n",
       " '_set_memoized_attribute',\n",
       " '_set_propagate_attrs',\n",
       " '_setup_joins',\n",
       " '_simple_int_clause',\n",
       " '_statement_hints',\n",
       " '_suffixes',\n",
       " '_traverse_internals',\n",
       " '_ungroup',\n",
       " '_update_compile_options',\n",
       " '_where_criteria',\n",
       " '_whereclause',\n",
       " '_with_annotations',\n",
       " '_with_binary_element_type',\n",
       " '_with_context_options',\n",
       " '_with_hint',\n",
       " '_with_options',\n",
       " 'add_columns',\n",
       " 'add_cte',\n",
       " 'alias',\n",
       " 'allows_lambda',\n",
       " 'as_scalar',\n",
       " 'c',\n",
       " 'column',\n",
       " 'column_descriptions',\n",
       " 'columns',\n",
       " 'columns_clause_froms',\n",
       " 'compare',\n",
       " 'compile',\n",
       " 'correlate',\n",
       " 'correlate_except',\n",
       " 'corresponding_column',\n",
       " 'cte',\n",
       " 'description',\n",
       " 'distinct',\n",
       " 'entity_namespace',\n",
       " 'except_',\n",
       " 'except_all',\n",
       " 'execution_options',\n",
       " 'exists',\n",
       " 'exported_columns',\n",
       " 'fetch',\n",
       " 'filter',\n",
       " 'filter_by',\n",
       " 'from_statement',\n",
       " 'froms',\n",
       " 'get_children',\n",
       " 'get_execution_options',\n",
       " 'get_final_froms',\n",
       " 'get_label_style',\n",
       " 'group_by',\n",
       " 'having',\n",
       " 'inherit_cache',\n",
       " 'inner_columns',\n",
       " 'intersect',\n",
       " 'intersect_all',\n",
       " 'is_clause_element',\n",
       " 'is_delete',\n",
       " 'is_derived_from',\n",
       " 'is_dml',\n",
       " 'is_insert',\n",
       " 'is_select',\n",
       " 'is_selectable',\n",
       " 'is_text',\n",
       " 'is_update',\n",
       " 'join',\n",
       " 'join_from',\n",
       " 'label',\n",
       " 'lateral',\n",
       " 'limit',\n",
       " 'memoized_attribute',\n",
       " 'memoized_instancemethod',\n",
       " 'offset',\n",
       " 'options',\n",
       " 'order_by',\n",
       " 'outerjoin',\n",
       " 'outerjoin_from',\n",
       " 'params',\n",
       " 'prefix_with',\n",
       " 'reduce_columns',\n",
       " 'replace_selectable',\n",
       " 'scalar_subquery',\n",
       " 'select',\n",
       " 'select_from',\n",
       " 'selectable',\n",
       " 'selected_columns',\n",
       " 'self_group',\n",
       " 'set_label_style',\n",
       " 'slice',\n",
       " 'stringify_dialect',\n",
       " 'subquery',\n",
       " 'suffix_with',\n",
       " 'supports_execution',\n",
       " 'union',\n",
       " 'union_all',\n",
       " 'unique_params',\n",
       " 'uses_inspection',\n",
       " 'where',\n",
       " 'whereclause',\n",
       " 'with_for_update',\n",
       " 'with_hint',\n",
       " 'with_only_columns',\n",
       " 'with_statement_hint']"
      ]
     },
     "execution_count": 14,
     "metadata": {},
     "output_type": "execute_result"
    }
   ],
   "source": [
    "dir(User.select()) #여기 있는애들이 다 sql문으로 바뀔 수 있는 애들이다. 명령문들"
   ]
  },
  {
   "cell_type": "code",
   "execution_count": 15,
   "id": "8a61ef04-2d66-433e-a32c-ef517f1d2173",
   "metadata": {},
   "outputs": [
    {
     "name": "stdout",
     "output_type": "stream",
     "text": [
      "INSERT INTO \"USER\" (\"PK\", \"NAME\") VALUES (:PK, :NAME)\n"
     ]
    }
   ],
   "source": [
    "print(User.insert().values(PK=1, NAME='아무개'))"
   ]
  },
  {
   "cell_type": "code",
   "execution_count": 16,
   "id": "33ee16bb-3eb8-40de-8dbc-3d93114ab4e0",
   "metadata": {},
   "outputs": [
    {
     "name": "stdout",
     "output_type": "stream",
     "text": [
      "INSERT INTO \"USER\" (\"PK\", \"NAME\") VALUES (:PK, :NAME)\n"
     ]
    }
   ],
   "source": [
    "print(User.insert())"
   ]
  },
  {
   "cell_type": "code",
   "execution_count": 17,
   "id": "8d461536-04fe-4a6b-b33e-72a66b2087d5",
   "metadata": {},
   "outputs": [
    {
     "name": "stdout",
     "output_type": "stream",
     "text": [
      "{'PK': 1, 'NAME': '아무개'}\n"
     ]
    }
   ],
   "source": [
    "print(User.insert().values(PK=1, NAME='아무개').compile().params)"
   ]
  },
  {
   "cell_type": "code",
   "execution_count": 18,
   "id": "d9f22164-8e64-43d3-8fa9-8911f28b8ffb",
   "metadata": {},
   "outputs": [
    {
     "name": "stdout",
     "output_type": "stream",
     "text": [
      "2023-09-06 09:46:17,390 INFO sqlalchemy.engine.Engine BEGIN (implicit)\n",
      "2023-09-06 09:46:17,392 INFO sqlalchemy.engine.Engine INSERT INTO \"USER\" (\"PK\", \"NAME\") VALUES (?, ?)\n",
      "2023-09-06 09:46:17,393 INFO sqlalchemy.engine.Engine [generated in 0.00159s] (1, '아무개')\n"
     ]
    },
    {
     "data": {
      "text/plain": [
       "<sqlalchemy.engine.cursor.CursorResult at 0x1c3db993ac0>"
      ]
     },
     "execution_count": 18,
     "metadata": {},
     "output_type": "execute_result"
    }
   ],
   "source": [
    "con.execute(User.insert().values(PK=1, NAME='아무개'))"
   ]
  },
  {
   "cell_type": "code",
   "execution_count": 19,
   "id": "a79c91d8-e92e-42a6-a4de-1ac393cb5c74",
   "metadata": {},
   "outputs": [
    {
     "name": "stdout",
     "output_type": "stream",
     "text": [
      "2023-09-06 09:46:21,583 INFO sqlalchemy.engine.Engine SELECT \"USER\".\"PK\", \"USER\".\"NAME\" \n",
      "FROM \"USER\"\n",
      "2023-09-06 09:46:21,584 INFO sqlalchemy.engine.Engine [generated in 0.00108s] ()\n"
     ]
    },
    {
     "data": {
      "text/plain": [
       "[(1, '아무개')]"
      ]
     },
     "execution_count": 19,
     "metadata": {},
     "output_type": "execute_result"
    }
   ],
   "source": [
    "con.execute(User.select()).fetchall()"
   ]
  },
  {
   "cell_type": "code",
   "execution_count": 20,
   "id": "6dbcd856-b2cd-4c41-a868-91f2e2e25634",
   "metadata": {},
   "outputs": [
    {
     "name": "stdout",
     "output_type": "stream",
     "text": [
      "2023-09-06 09:46:27,477 INFO sqlalchemy.engine.Engine SELECT \"USER\".\"PK\", \"USER\".\"NAME\" \n",
      "FROM \"USER\"\n",
      "2023-09-06 09:46:27,477 INFO sqlalchemy.engine.Engine [cached since 5.903s ago] ()\n"
     ]
    },
    {
     "data": {
      "text/plain": [
       "sqlalchemy.engine.cursor.CursorResult"
      ]
     },
     "execution_count": 20,
     "metadata": {},
     "output_type": "execute_result"
    }
   ],
   "source": [
    "type(con.execute(User.select()))"
   ]
  },
  {
   "cell_type": "code",
   "execution_count": 21,
   "id": "5edf2b86-fd8b-4fa4-9335-5cdb6c83f7e3",
   "metadata": {},
   "outputs": [
    {
     "data": {
      "text/plain": [
       "Table('ADDRESS', MetaData(), Column('PK', Integer(), table=<ADDRESS>, primary_key=True, nullable=False), Column('NAME', Text(), table=<ADDRESS>), Column('FK', Integer(), ForeignKey('USER.PK'), table=<ADDRESS>), schema=None)"
      ]
     },
     "execution_count": 21,
     "metadata": {},
     "output_type": "execute_result"
    }
   ],
   "source": [
    "Table('ADDRESS',meta,\n",
    "     Column('PK', Integer, primary_key=True),\n",
    "      Column('NAME', Text),\n",
    "      Column('FK', Integer, ForeignKey('USER.PK')))"
   ]
  },
  {
   "cell_type": "code",
   "execution_count": 22,
   "id": "3dc1d29c-0b0c-4b48-9f67-1e7f69c3fee1",
   "metadata": {},
   "outputs": [
    {
     "data": {
      "text/plain": [
       "['PK', 'NAME']"
      ]
     },
     "execution_count": 22,
     "metadata": {},
     "output_type": "execute_result"
    }
   ],
   "source": [
    "User.columns.keys()"
   ]
  },
  {
   "cell_type": "code",
   "execution_count": 23,
   "id": "af03889c-b2d1-414f-a433-a26effcb5988",
   "metadata": {},
   "outputs": [
    {
     "data": {
      "text/plain": [
       "Column('PK', Integer(), table=<USER>, primary_key=True, nullable=False)"
      ]
     },
     "execution_count": 23,
     "metadata": {},
     "output_type": "execute_result"
    }
   ],
   "source": [
    "User.columns['PK']"
   ]
  },
  {
   "cell_type": "code",
   "execution_count": 24,
   "id": "85e5619b-23fd-4c69-8f85-8dd9ae4b7ea3",
   "metadata": {},
   "outputs": [
    {
     "name": "stdout",
     "output_type": "stream",
     "text": [
      "2023-09-06 09:46:47,832 INFO sqlalchemy.engine.Engine BEGIN (implicit)\n",
      "2023-09-06 09:46:47,843 INFO sqlalchemy.engine.Engine PRAGMA main.table_info(\"USER\")\n",
      "2023-09-06 09:46:47,843 INFO sqlalchemy.engine.Engine [raw sql] ()\n",
      "2023-09-06 09:46:47,843 INFO sqlalchemy.engine.Engine PRAGMA main.table_info(\"ADDRESS\")\n",
      "2023-09-06 09:46:47,843 INFO sqlalchemy.engine.Engine [raw sql] ()\n",
      "2023-09-06 09:46:47,843 INFO sqlalchemy.engine.Engine PRAGMA temp.table_info(\"ADDRESS\")\n",
      "2023-09-06 09:46:47,843 INFO sqlalchemy.engine.Engine [raw sql] ()\n",
      "2023-09-06 09:46:47,848 INFO sqlalchemy.engine.Engine \n",
      "CREATE TABLE \"ADDRESS\" (\n",
      "\t\"PK\" INTEGER NOT NULL, \n",
      "\t\"NAME\" TEXT, \n",
      "\t\"FK\" INTEGER, \n",
      "\tPRIMARY KEY (\"PK\"), \n",
      "\tFOREIGN KEY(\"FK\") REFERENCES \"USER\" (\"PK\")\n",
      ")\n",
      "\n",
      "\n",
      "2023-09-06 09:46:47,849 INFO sqlalchemy.engine.Engine [no key 0.00108s] ()\n",
      "2023-09-06 09:46:47,849 INFO sqlalchemy.engine.Engine COMMIT\n"
     ]
    }
   ],
   "source": [
    "meta.create_all(engine)"
   ]
  },
  {
   "cell_type": "code",
   "execution_count": 25,
   "id": "5c895e35-2f73-4993-8c33-ee7d61c9de86",
   "metadata": {},
   "outputs": [
    {
     "data": {
      "text/plain": [
       "Table('TEMP', MetaData(), Column('PK', Integer(), table=<TEMP>, primary_key=True, nullable=False), Column('NAME', Text(), table=<TEMP>), Column('FK', Integer(), table=<TEMP>, nullable=False), schema=None)"
      ]
     },
     "execution_count": 25,
     "metadata": {},
     "output_type": "execute_result"
    }
   ],
   "source": [
    "Table('TEMP',meta,\n",
    "     Column('PK', Integer, primary_key=True),\n",
    "      Column('NAME', Text),\n",
    "      Column('FK', Integer, nullable=False))"
   ]
  },
  {
   "cell_type": "code",
   "execution_count": 26,
   "id": "d151a423-6f26-4d5b-b8ed-c7ee8f289867",
   "metadata": {},
   "outputs": [
    {
     "data": {
      "text/plain": [
       "Column('PK', Integer(), table=<USER>, primary_key=True, nullable=False)"
      ]
     },
     "execution_count": 26,
     "metadata": {},
     "output_type": "execute_result"
    }
   ],
   "source": [
    "User.columns['PK']"
   ]
  },
  {
   "cell_type": "code",
   "execution_count": 27,
   "id": "4507b098-b028-4441-ba9f-af30218942ca",
   "metadata": {},
   "outputs": [
    {
     "name": "stdout",
     "output_type": "stream",
     "text": [
      "2023-09-06 09:47:00,435 INFO sqlalchemy.engine.Engine BEGIN (implicit)\n",
      "2023-09-06 09:47:00,435 INFO sqlalchemy.engine.Engine PRAGMA main.table_info(\"USER\")\n",
      "2023-09-06 09:47:00,439 INFO sqlalchemy.engine.Engine [raw sql] ()\n",
      "2023-09-06 09:47:00,439 INFO sqlalchemy.engine.Engine PRAGMA main.table_info(\"ADDRESS\")\n",
      "2023-09-06 09:47:00,440 INFO sqlalchemy.engine.Engine [raw sql] ()\n",
      "2023-09-06 09:47:00,442 INFO sqlalchemy.engine.Engine PRAGMA main.table_info(\"TEMP\")\n",
      "2023-09-06 09:47:00,442 INFO sqlalchemy.engine.Engine [raw sql] ()\n",
      "2023-09-06 09:47:00,443 INFO sqlalchemy.engine.Engine PRAGMA temp.table_info(\"TEMP\")\n",
      "2023-09-06 09:47:00,444 INFO sqlalchemy.engine.Engine [raw sql] ()\n",
      "2023-09-06 09:47:00,445 INFO sqlalchemy.engine.Engine \n",
      "CREATE TABLE \"TEMP\" (\n",
      "\t\"PK\" INTEGER NOT NULL, \n",
      "\t\"NAME\" TEXT, \n",
      "\t\"FK\" INTEGER NOT NULL, \n",
      "\tPRIMARY KEY (\"PK\")\n",
      ")\n",
      "\n",
      "\n",
      "2023-09-06 09:47:00,446 INFO sqlalchemy.engine.Engine [no key 0.00048s] ()\n",
      "2023-09-06 09:47:00,446 INFO sqlalchemy.engine.Engine COMMIT\n"
     ]
    }
   ],
   "source": [
    "meta.create_all(engine)"
   ]
  },
  {
   "cell_type": "code",
   "execution_count": 28,
   "id": "76a3feb1-5016-4abd-8bdb-144434f761f5",
   "metadata": {},
   "outputs": [
    {
     "name": "stdout",
     "output_type": "stream",
     "text": [
      "2023-09-06 09:47:06,363 INFO sqlalchemy.engine.Engine INSERT INTO \"ADDRESS\" (\"PK\", \"NAME\", \"FK\") VALUES (?, ?, ?)\n",
      "2023-09-06 09:47:06,363 INFO sqlalchemy.engine.Engine [generated in 0.00093s] (1, '주소', 1)\n"
     ]
    },
    {
     "data": {
      "text/plain": [
       "<sqlalchemy.engine.cursor.CursorResult at 0x1c3db9c2080>"
      ]
     },
     "execution_count": 28,
     "metadata": {},
     "output_type": "execute_result"
    }
   ],
   "source": [
    "con.execute(\n",
    "    meta.tables['ADDRESS'].insert().values(PK=1, NAME='주소', FK=1)\n",
    ")"
   ]
  },
  {
   "cell_type": "code",
   "execution_count": 29,
   "id": "347fe96d-7fcd-475e-9818-b65a525229d2",
   "metadata": {},
   "outputs": [
    {
     "name": "stdout",
     "output_type": "stream",
     "text": [
      "2023-09-06 09:47:10,463 INFO sqlalchemy.engine.Engine INSERT INTO \"TEMP\" (\"PK\", \"NAME\", \"FK\") VALUES (?, ?, ?)\n",
      "2023-09-06 09:47:10,463 INFO sqlalchemy.engine.Engine [generated in 0.00089s] (1, '가짜', 1)\n"
     ]
    },
    {
     "data": {
      "text/plain": [
       "<sqlalchemy.engine.cursor.CursorResult at 0x1c3db9c1840>"
      ]
     },
     "execution_count": 29,
     "metadata": {},
     "output_type": "execute_result"
    }
   ],
   "source": [
    "con.execute(\n",
    "    meta.tables['TEMP'].insert().values(PK=1, NAME='가짜', FK=1)\n",
    ")"
   ]
  },
  {
   "cell_type": "code",
   "execution_count": 30,
   "id": "ccd9ffcd-269b-48b4-a820-f6366544697d",
   "metadata": {},
   "outputs": [],
   "source": [
    "#위 둘의 차이는 FK를 줬냐 안줬냐의 차이이다. "
   ]
  },
  {
   "cell_type": "code",
   "execution_count": 31,
   "id": "1de2f6e6-0fc4-48b6-9047-d4ca2ac66e15",
   "metadata": {},
   "outputs": [
    {
     "name": "stdout",
     "output_type": "stream",
     "text": [
      "2023-09-06 09:56:19,573 INFO sqlalchemy.engine.Engine SELECT \"USER\".\"PK\", \"USER\".\"NAME\", \"ADDRESS\".\"PK\" AS \"PK_1\", \"ADDRESS\".\"NAME\" AS \"NAME_1\", \"ADDRESS\".\"FK\", \"TEMP\".\"PK\" AS \"PK_2\", \"TEMP\".\"NAME\" AS \"NAME_2\", \"TEMP\".\"FK\" AS \"FK_1\" \n",
      "FROM \"USER\", \"ADDRESS\", \"TEMP\"\n",
      "2023-09-06 09:56:19,574 INFO sqlalchemy.engine.Engine [generated in 0.00077s] ()\n"
     ]
    },
    {
     "name": "stderr",
     "output_type": "stream",
     "text": [
      "C:\\Users\\user\\AppData\\Local\\Temp\\ipykernel_17832\\552171212.py:1: SAWarning: SELECT statement has a cartesian product between FROM element(s) \"TEMP\", \"ADDRESS\" and FROM element \"USER\".  Apply join condition(s) between each element to resolve.\n",
      "  con.execute(select(meta.tables['USER'],\n"
     ]
    },
    {
     "data": {
      "text/plain": [
       "[(1, '아무개', 1, '주소', 1, 1, '가짜', 1)]"
      ]
     },
     "execution_count": 31,
     "metadata": {},
     "output_type": "execute_result"
    }
   ],
   "source": [
    "con.execute(select(meta.tables['USER'],\n",
    "                  meta.tables['ADDRESS'],\n",
    "                  meta.tables['TEMP'])).fetchall()"
   ]
  },
  {
   "cell_type": "code",
   "execution_count": 41,
   "id": "0fc7c6a4-1650-4bb1-b71b-1a601d71966d",
   "metadata": {},
   "outputs": [
    {
     "name": "stdout",
     "output_type": "stream",
     "text": [
      "2023-09-06 10:05:51,828 INFO sqlalchemy.engine.Engine SELECT \"USER\".\"PK\", \"USER\".\"NAME\" \n",
      "FROM \"USER\"\n",
      "2023-09-06 10:05:51,830 INFO sqlalchemy.engine.Engine [generated in 0.00252s] ()\n"
     ]
    },
    {
     "data": {
      "text/plain": [
       "[(1, '아무개')]"
      ]
     },
     "execution_count": 41,
     "metadata": {},
     "output_type": "execute_result"
    }
   ],
   "source": [
    "con.execute(select(meta.tables['USER'].columns['PK'],\n",
    "                  meta.tables['USER'].c.NAME)).fetchall()"
   ]
  },
  {
   "cell_type": "code",
   "execution_count": 33,
   "id": "c9dbf2b4-1069-473c-b519-ea815ccce3ad",
   "metadata": {},
   "outputs": [],
   "source": [
    "USER = meta.tables['USER']\n",
    "ADDRESS = meta.tables['ADDRESS']\n",
    "TEMP = meta.tables['TEMP']"
   ]
  },
  {
   "cell_type": "code",
   "execution_count": 34,
   "id": "279d4561-4784-4b1d-ab5a-e70a988bf236",
   "metadata": {},
   "outputs": [
    {
     "name": "stdout",
     "output_type": "stream",
     "text": [
      "SELECT \"USER\".\"PK\", \"USER\".\"NAME\" \n",
      "FROM \"USER\" \n",
      "WHERE \"USER\".\"PK\" = :PK_1\n"
     ]
    }
   ],
   "source": [
    "print(USER.select().where(USER.c.PK == 1))"
   ]
  },
  {
   "cell_type": "code",
   "execution_count": 35,
   "id": "19aa6d67-7879-427d-b86c-ef1090741f3d",
   "metadata": {},
   "outputs": [
    {
     "name": "stdout",
     "output_type": "stream",
     "text": [
      "\"USER\".\"PK\" = \"TEMP\".\"FK\"\n"
     ]
    }
   ],
   "source": [
    "print(USER.c.PK == TEMP.c.FK) #조인구문 확인할 때 좀 더 편하게 확인 가능"
   ]
  },
  {
   "cell_type": "code",
   "execution_count": 40,
   "id": "14440634-764a-457b-a360-02c3ed50f8bd",
   "metadata": {},
   "outputs": [
    {
     "name": "stdout",
     "output_type": "stream",
     "text": [
      "\"USER\" JOIN \"ADDRESS\" ON \"USER\".\"PK\" = \"ADDRESS\".\"FK\"\n"
     ]
    }
   ],
   "source": [
    "print(USER.join(ADDRESS))"
   ]
  },
  {
   "cell_type": "code",
   "execution_count": 37,
   "id": "2d08c2e1-95c2-4946-9008-a3f03266ed48",
   "metadata": {},
   "outputs": [
    {
     "name": "stdout",
     "output_type": "stream",
     "text": [
      "\"USER\" JOIN \"TEMP\" ON \"USER\".\"PK\" = \"TEMP\".\"FK\"\n"
     ]
    }
   ],
   "source": [
    "print(USER.join(TEMP, USER.c.PK == TEMP.c.FK))"
   ]
  },
  {
   "cell_type": "code",
   "execution_count": 43,
   "id": "3ee0d288-c3e9-44da-a0f6-536780401a47",
   "metadata": {},
   "outputs": [],
   "source": [
    "#or and 해보기"
   ]
  },
  {
   "cell_type": "code",
   "execution_count": 45,
   "id": "7da1ef74-12d5-43cd-8bf7-6f6a3691ccc5",
   "metadata": {},
   "outputs": [],
   "source": [
    "from sqlalchemy.sql import or_, and_, between"
   ]
  },
  {
   "cell_type": "code",
   "execution_count": 46,
   "id": "53441777-0726-407f-811c-35da73bce8f0",
   "metadata": {},
   "outputs": [
    {
     "name": "stdout",
     "output_type": "stream",
     "text": [
      "\"USER\".\"PK\" = :PK_1 OR \"USER\".\"PK\" = :PK_2\n"
     ]
    }
   ],
   "source": [
    "print(or_(USER.c.PK == 1, USER.c.PK == 2))"
   ]
  },
  {
   "cell_type": "code",
   "execution_count": 47,
   "id": "3dd0f521-a71b-467b-b1d0-83f8b661f2be",
   "metadata": {},
   "outputs": [
    {
     "name": "stdout",
     "output_type": "stream",
     "text": [
      "\"USER\".\"NAME\" LIKE :NAME_1\n"
     ]
    }
   ],
   "source": [
    "print(USER.c.NAME.like('%어쩌고%'))"
   ]
  },
  {
   "cell_type": "code",
   "execution_count": 50,
   "id": "d8b2c3bb-62cc-4484-bbdc-8a385f11fab8",
   "metadata": {},
   "outputs": [
    {
     "name": "stdout",
     "output_type": "stream",
     "text": [
      "SELECT \"USER\".\"PK\", \"USER\".\"NAME\" \n",
      "FROM \"USER\" \n",
      "WHERE \"USER\".\"NAME\" LIKE :NAME_1 GROUP BY \"USER\".\"PK\" ORDER BY \"USER\".\"PK\"\n"
     ]
    }
   ],
   "source": [
    "print(USER.select().where(USER.c.NAME.like('%어쩌고%')).\\\n",
    "     group_by(USER.c.PK).order_by(USER.c.PK))"
   ]
  },
  {
   "cell_type": "code",
   "execution_count": 51,
   "id": "c7d9b27f-e0c7-41f8-b9e6-f65ff72cbb74",
   "metadata": {},
   "outputs": [],
   "source": [
    "#파이썬의 장점이자 단점이기도 한... 함수를 계속 엮어서 하는거..."
   ]
  },
  {
   "cell_type": "code",
   "execution_count": null,
   "id": "fb425136-caac-4c0b-9dd8-c608f1e335f4",
   "metadata": {},
   "outputs": [],
   "source": [
    "#이런 표현도 가능하다. 괄호로 논리연산자를 사용할수 있다. "
   ]
  },
  {
   "cell_type": "code",
   "execution_count": 53,
   "id": "5fe00d07-e077-4363-8812-4e7740556e46",
   "metadata": {},
   "outputs": [
    {
     "name": "stdout",
     "output_type": "stream",
     "text": [
      "\"USER\".\"NAME\" = :NAME_1 AND \"USER\".\"PK\" = :PK_1 OR \"USER\".\"PK\" = :PK_2\n"
     ]
    }
   ],
   "source": [
    "print((USER.c.NAME =='abcd') & (USER.c.PK ==1) | (USER.c.PK==2))"
   ]
  },
  {
   "cell_type": "code",
   "execution_count": 54,
   "id": "00fd03d5-601f-4ead-a452-04ba9af6ebbc",
   "metadata": {},
   "outputs": [],
   "source": [
    "#SELECT FROM"
   ]
  },
  {
   "cell_type": "code",
   "execution_count": 55,
   "id": "ed546d12-0a3c-429c-b393-3028c25b8bf1",
   "metadata": {},
   "outputs": [
    {
     "name": "stdout",
     "output_type": "stream",
     "text": [
      "\"USER\" JOIN \"ADDRESS\" ON \"USER\".\"PK\" = \"ADDRESS\".\"FK\"\n"
     ]
    }
   ],
   "source": [
    "print(USER.join(ADDRESS)) #이게 어디서 나오냐면, select 할때 from 뒤에 나와야한다."
   ]
  },
  {
   "cell_type": "code",
   "execution_count": 56,
   "id": "bc917068-2bd9-49e8-9815-049b2940ea37",
   "metadata": {},
   "outputs": [
    {
     "name": "stdout",
     "output_type": "stream",
     "text": [
      "SELECT \n",
      "FROM \"USER\" JOIN \"ADDRESS\" ON \"USER\".\"PK\" = \"ADDRESS\".\"FK\"\n"
     ]
    }
   ],
   "source": [
    "print(select().select_from(USER.join(ADDRESS)))"
   ]
  },
  {
   "cell_type": "code",
   "execution_count": 57,
   "id": "999c72e5-30c4-4423-a79f-b53dedc72f58",
   "metadata": {},
   "outputs": [
    {
     "name": "stdout",
     "output_type": "stream",
     "text": [
      "SELECT \"USER\".\"PK\", \"USER\".\"NAME\" \n",
      "FROM \"USER\" JOIN \"ADDRESS\" ON \"USER\".\"PK\" = \"ADDRESS\".\"FK\"\n"
     ]
    }
   ],
   "source": [
    "print(select(USER).join(ADDRESS))"
   ]
  },
  {
   "cell_type": "code",
   "execution_count": 58,
   "id": "13fd812a-aeb9-4a07-940c-b64a245aaf1f",
   "metadata": {},
   "outputs": [],
   "source": [
    "#===================================================="
   ]
  },
  {
   "cell_type": "code",
   "execution_count": 66,
   "id": "2870275e-95f6-4f65-b5de-9be441247868",
   "metadata": {},
   "outputs": [],
   "source": [
    "engine.dispose() #날리기"
   ]
  },
  {
   "cell_type": "code",
   "execution_count": 67,
   "id": "feaefc88-2910-4c68-a904-1cb19079bbd4",
   "metadata": {},
   "outputs": [],
   "source": [
    "meta.clear() #날리기"
   ]
  },
  {
   "cell_type": "code",
   "execution_count": 68,
   "id": "00f8b06c-91fb-4bf0-bbbd-5b3206eb35ec",
   "metadata": {},
   "outputs": [],
   "source": [
    "engine = create_engine('sqlite:///:memory:', echo=True) #새로 만들기"
   ]
  },
  {
   "cell_type": "code",
   "execution_count": 62,
   "id": "123269ea-b768-4204-a958-d8b9bbdeae53",
   "metadata": {},
   "outputs": [],
   "source": [
    "#예제 보면서 해볼거임. 피피티 p.105, 144 . 곡추천. 곡정렬하는 시스템..."
   ]
  },
  {
   "cell_type": "code",
   "execution_count": 69,
   "id": "a04c6cb7-a2c3-4073-998b-aa5f5218a271",
   "metadata": {},
   "outputs": [
    {
     "data": {
      "text/plain": [
       "Table('T_D', MetaData(), Column('PK', Integer(), table=<T_D>, primary_key=True, nullable=False), Column('NAME', Text(), table=<T_D>, nullable=False), Column('FK1', Integer(), ForeignKey('T_B.PK'), table=<T_D>, nullable=False), Column('FK2', Integer(), table=<T_D>, nullable=False), schema=None)"
      ]
     },
     "execution_count": 69,
     "metadata": {},
     "output_type": "execute_result"
    }
   ],
   "source": [
    "#총 4개의 테이블 만들거임\n",
    "#테이블 객체를 메타에 바인딩할거임\n",
    "#아티스트\n",
    "Table('T_A', meta, \n",
    "     Column('PK', Integer, primary_key=True),\n",
    "      Column('NAME', Text, nullable=False)\n",
    "     )\n",
    "#앨범\n",
    "Table('T_B', meta, \n",
    "     Column('PK', Integer, primary_key=True),\n",
    "      Column('NAME', Text, nullable=False),\n",
    "      Column('FK', None, ForeignKey('T_A.PK'))\n",
    "     )\n",
    "#장르\n",
    "Table('T_C', meta, \n",
    "     Column('PK', Integer, primary_key=True),\n",
    "      Column('NAME', Text, nullable=False)\n",
    "     )\n",
    "#곡\n",
    "Table('T_D', meta, \n",
    "     Column('PK', Integer, primary_key=True),\n",
    "      Column('NAME', Text, nullable=False),\n",
    "      Column('FK1', Integer, ForeignKey('T_B.PK'), nullable=False),\n",
    "      Column('FK2', Integer, nullable=False)\n",
    "     )"
   ]
  },
  {
   "cell_type": "code",
   "execution_count": 70,
   "id": "24cc4edf-c11a-4d17-8f6a-882299a0708e",
   "metadata": {},
   "outputs": [
    {
     "data": {
      "text/plain": [
       "4"
      ]
     },
     "execution_count": 70,
     "metadata": {},
     "output_type": "execute_result"
    }
   ],
   "source": [
    "len(meta.tables)"
   ]
  },
  {
   "cell_type": "code",
   "execution_count": 71,
   "id": "7355a73e-75f1-42b2-87d1-74ceb1ce21a2",
   "metadata": {},
   "outputs": [
    {
     "name": "stdout",
     "output_type": "stream",
     "text": [
      "2023-09-06 10:45:27,085 INFO sqlalchemy.engine.Engine BEGIN (implicit)\n",
      "2023-09-06 10:45:27,088 INFO sqlalchemy.engine.Engine PRAGMA main.table_info(\"T_A\")\n",
      "2023-09-06 10:45:27,090 INFO sqlalchemy.engine.Engine [raw sql] ()\n",
      "2023-09-06 10:45:27,092 INFO sqlalchemy.engine.Engine PRAGMA temp.table_info(\"T_A\")\n",
      "2023-09-06 10:45:27,093 INFO sqlalchemy.engine.Engine [raw sql] ()\n",
      "2023-09-06 10:45:27,094 INFO sqlalchemy.engine.Engine PRAGMA main.table_info(\"T_B\")\n",
      "2023-09-06 10:45:27,095 INFO sqlalchemy.engine.Engine [raw sql] ()\n",
      "2023-09-06 10:45:27,097 INFO sqlalchemy.engine.Engine PRAGMA temp.table_info(\"T_B\")\n",
      "2023-09-06 10:45:27,100 INFO sqlalchemy.engine.Engine [raw sql] ()\n",
      "2023-09-06 10:45:27,101 INFO sqlalchemy.engine.Engine PRAGMA main.table_info(\"T_C\")\n",
      "2023-09-06 10:45:27,101 INFO sqlalchemy.engine.Engine [raw sql] ()\n",
      "2023-09-06 10:45:27,101 INFO sqlalchemy.engine.Engine PRAGMA temp.table_info(\"T_C\")\n",
      "2023-09-06 10:45:27,105 INFO sqlalchemy.engine.Engine [raw sql] ()\n",
      "2023-09-06 10:45:27,107 INFO sqlalchemy.engine.Engine PRAGMA main.table_info(\"T_D\")\n",
      "2023-09-06 10:45:27,108 INFO sqlalchemy.engine.Engine [raw sql] ()\n",
      "2023-09-06 10:45:27,108 INFO sqlalchemy.engine.Engine PRAGMA temp.table_info(\"T_D\")\n",
      "2023-09-06 10:45:27,108 INFO sqlalchemy.engine.Engine [raw sql] ()\n",
      "2023-09-06 10:45:27,108 INFO sqlalchemy.engine.Engine \n",
      "CREATE TABLE \"T_A\" (\n",
      "\t\"PK\" INTEGER NOT NULL, \n",
      "\t\"NAME\" TEXT NOT NULL, \n",
      "\tPRIMARY KEY (\"PK\")\n",
      ")\n",
      "\n",
      "\n",
      "2023-09-06 10:45:27,116 INFO sqlalchemy.engine.Engine [no key 0.00109s] ()\n",
      "2023-09-06 10:45:27,117 INFO sqlalchemy.engine.Engine \n",
      "CREATE TABLE \"T_C\" (\n",
      "\t\"PK\" INTEGER NOT NULL, \n",
      "\t\"NAME\" TEXT NOT NULL, \n",
      "\tPRIMARY KEY (\"PK\")\n",
      ")\n",
      "\n",
      "\n",
      "2023-09-06 10:45:27,117 INFO sqlalchemy.engine.Engine [no key 0.00115s] ()\n",
      "2023-09-06 10:45:27,117 INFO sqlalchemy.engine.Engine \n",
      "CREATE TABLE \"T_B\" (\n",
      "\t\"PK\" INTEGER NOT NULL, \n",
      "\t\"NAME\" TEXT NOT NULL, \n",
      "\t\"FK\" INTEGER, \n",
      "\tPRIMARY KEY (\"PK\"), \n",
      "\tFOREIGN KEY(\"FK\") REFERENCES \"T_A\" (\"PK\")\n",
      ")\n",
      "\n",
      "\n",
      "2023-09-06 10:45:27,117 INFO sqlalchemy.engine.Engine [no key 0.00180s] ()\n",
      "2023-09-06 10:45:27,124 INFO sqlalchemy.engine.Engine \n",
      "CREATE TABLE \"T_D\" (\n",
      "\t\"PK\" INTEGER NOT NULL, \n",
      "\t\"NAME\" TEXT NOT NULL, \n",
      "\t\"FK1\" INTEGER NOT NULL, \n",
      "\t\"FK2\" INTEGER NOT NULL, \n",
      "\tPRIMARY KEY (\"PK\"), \n",
      "\tFOREIGN KEY(\"FK1\") REFERENCES \"T_B\" (\"PK\")\n",
      ")\n",
      "\n",
      "\n",
      "2023-09-06 10:45:27,124 INFO sqlalchemy.engine.Engine [no key 0.00126s] ()\n",
      "2023-09-06 10:45:27,124 INFO sqlalchemy.engine.Engine COMMIT\n"
     ]
    }
   ],
   "source": [
    "meta.create_all(engine)"
   ]
  },
  {
   "cell_type": "code",
   "execution_count": 72,
   "id": "a60c3611-a574-4641-ba19-482a7d393d00",
   "metadata": {
    "jupyter": {
     "source_hidden": true
    }
   },
   "outputs": [],
   "source": [
    "con = engine.connect()"
   ]
  },
  {
   "cell_type": "code",
   "execution_count": 80,
   "id": "a9eb00ed-af6d-4ac0-be94-45465cb0eb8c",
   "metadata": {},
   "outputs": [
    {
     "name": "stdout",
     "output_type": "stream",
     "text": [
      "2023-09-06 10:55:29,182 INFO sqlalchemy.engine.Engine INSERT INTO \"T_A\" (\"NAME\") VALUES (?)\n",
      "2023-09-06 10:55:29,182 INFO sqlalchemy.engine.Engine [generated in 0.00148s] ('가수1',)\n",
      "2023-09-06 10:55:29,182 INFO sqlalchemy.engine.Engine INSERT INTO \"T_A\" (\"NAME\") VALUES (?)\n",
      "2023-09-06 10:55:29,190 INFO sqlalchemy.engine.Engine [cached since 0.005364s ago] ('가수2',)\n",
      "2023-09-06 10:55:29,191 INFO sqlalchemy.engine.Engine INSERT INTO \"T_A\" (\"NAME\") VALUES (?)\n",
      "2023-09-06 10:55:29,192 INFO sqlalchemy.engine.Engine [cached since 0.008561s ago] ('가수3',)\n",
      "2023-09-06 10:55:29,192 INFO sqlalchemy.engine.Engine INSERT INTO \"T_A\" (\"NAME\") VALUES (?)\n",
      "2023-09-06 10:55:29,192 INFO sqlalchemy.engine.Engine [cached since 0.01231s ago] ('가수4',)\n"
     ]
    }
   ],
   "source": [
    "for name in ['가수1', '가수2', '가수3', '가수4']:\n",
    "    con.execute(meta.tables['T_A'].insert().values(NAME =name))\n",
    "    # INSERT INTO T_A (NAME) VALUES (:name) 이랑 같은 거임"
   ]
  },
  {
   "cell_type": "code",
   "execution_count": 74,
   "id": "f27234d5-cdcd-4040-89c8-3972199527fb",
   "metadata": {},
   "outputs": [],
   "source": [
    "A= meta.tables['T_A']\n",
    "B= meta.tables['T_B']\n",
    "C= meta.tables['T_C']\n",
    "D= meta.tables['T_D']\n"
   ]
  },
  {
   "cell_type": "code",
   "execution_count": 81,
   "id": "80d176e1-d11e-4712-9fd1-37131065a356",
   "metadata": {},
   "outputs": [
    {
     "name": "stdout",
     "output_type": "stream",
     "text": [
      "2023-09-06 10:55:33,336 INFO sqlalchemy.engine.Engine SELECT \"T_A\".\"PK\" \n",
      "FROM \"T_A\" \n",
      "WHERE \"T_A\".\"NAME\" LIKE ?\n",
      "2023-09-06 10:55:33,336 INFO sqlalchemy.engine.Engine [cached since 500s ago] ('%1',)\n",
      "2023-09-06 10:55:33,344 INFO sqlalchemy.engine.Engine INSERT INTO \"T_B\" (\"NAME\", \"FK\") VALUES (?, ?)\n",
      "2023-09-06 10:55:33,346 INFO sqlalchemy.engine.Engine [generated in 0.00136s] ('가수1_앨범1', 1)\n",
      "2023-09-06 10:55:33,349 INFO sqlalchemy.engine.Engine SELECT \"T_A\".\"PK\" \n",
      "FROM \"T_A\" \n",
      "WHERE \"T_A\".\"NAME\" LIKE ?\n",
      "2023-09-06 10:55:33,350 INFO sqlalchemy.engine.Engine [cached since 500s ago] ('%1',)\n",
      "2023-09-06 10:55:33,352 INFO sqlalchemy.engine.Engine INSERT INTO \"T_B\" (\"NAME\", \"FK\") VALUES (?, ?)\n",
      "2023-09-06 10:55:33,353 INFO sqlalchemy.engine.Engine [cached since 0.008005s ago] ('가수1_앨범2', 1)\n",
      "2023-09-06 10:55:33,354 INFO sqlalchemy.engine.Engine SELECT \"T_A\".\"PK\" \n",
      "FROM \"T_A\" \n",
      "WHERE \"T_A\".\"NAME\" LIKE ?\n",
      "2023-09-06 10:55:33,354 INFO sqlalchemy.engine.Engine [cached since 500s ago] ('%2',)\n",
      "2023-09-06 10:55:33,357 INFO sqlalchemy.engine.Engine INSERT INTO \"T_B\" (\"NAME\", \"FK\") VALUES (?, ?)\n",
      "2023-09-06 10:55:33,357 INFO sqlalchemy.engine.Engine [cached since 0.01356s ago] ('가수2_앨범1', 2)\n",
      "2023-09-06 10:55:33,360 INFO sqlalchemy.engine.Engine SELECT \"T_A\".\"PK\" \n",
      "FROM \"T_A\" \n",
      "WHERE \"T_A\".\"NAME\" LIKE ?\n",
      "2023-09-06 10:55:33,361 INFO sqlalchemy.engine.Engine [cached since 500s ago] ('%2',)\n",
      "2023-09-06 10:55:33,363 INFO sqlalchemy.engine.Engine INSERT INTO \"T_B\" (\"NAME\", \"FK\") VALUES (?, ?)\n",
      "2023-09-06 10:55:33,363 INFO sqlalchemy.engine.Engine [cached since 0.01999s ago] ('가수2_앨범2', 2)\n",
      "2023-09-06 10:55:33,363 INFO sqlalchemy.engine.Engine SELECT \"T_A\".\"PK\" \n",
      "FROM \"T_A\" \n",
      "WHERE \"T_A\".\"NAME\" LIKE ?\n",
      "2023-09-06 10:55:33,368 INFO sqlalchemy.engine.Engine [cached since 500s ago] ('%3',)\n",
      "2023-09-06 10:55:33,368 INFO sqlalchemy.engine.Engine INSERT INTO \"T_B\" (\"NAME\", \"FK\") VALUES (?, ?)\n",
      "2023-09-06 10:55:33,368 INFO sqlalchemy.engine.Engine [cached since 0.0274s ago] ('가수3_앨범1', 3)\n",
      "2023-09-06 10:55:33,368 INFO sqlalchemy.engine.Engine SELECT \"T_A\".\"PK\" \n",
      "FROM \"T_A\" \n",
      "WHERE \"T_A\".\"NAME\" LIKE ?\n",
      "2023-09-06 10:55:33,376 INFO sqlalchemy.engine.Engine [cached since 500s ago] ('%3',)\n",
      "2023-09-06 10:55:33,377 INFO sqlalchemy.engine.Engine INSERT INTO \"T_B\" (\"NAME\", \"FK\") VALUES (?, ?)\n",
      "2023-09-06 10:55:33,377 INFO sqlalchemy.engine.Engine [cached since 0.03285s ago] ('가수3_앨범2', 3)\n",
      "2023-09-06 10:55:33,377 INFO sqlalchemy.engine.Engine SELECT \"T_A\".\"PK\" \n",
      "FROM \"T_A\" \n",
      "WHERE \"T_A\".\"NAME\" LIKE ?\n",
      "2023-09-06 10:55:33,377 INFO sqlalchemy.engine.Engine [cached since 500s ago] ('%4',)\n",
      "2023-09-06 10:55:33,377 INFO sqlalchemy.engine.Engine INSERT INTO \"T_B\" (\"NAME\", \"FK\") VALUES (?, ?)\n",
      "2023-09-06 10:55:33,384 INFO sqlalchemy.engine.Engine [cached since 0.03886s ago] ('가수4_앨범1', 4)\n",
      "2023-09-06 10:55:33,384 INFO sqlalchemy.engine.Engine SELECT \"T_A\".\"PK\" \n",
      "FROM \"T_A\" \n",
      "WHERE \"T_A\".\"NAME\" LIKE ?\n",
      "2023-09-06 10:55:33,384 INFO sqlalchemy.engine.Engine [cached since 500s ago] ('%4',)\n",
      "2023-09-06 10:55:33,384 INFO sqlalchemy.engine.Engine INSERT INTO \"T_B\" (\"NAME\", \"FK\") VALUES (?, ?)\n",
      "2023-09-06 10:55:33,384 INFO sqlalchemy.engine.Engine [cached since 0.04528s ago] ('가수4_앨범2', 4)\n"
     ]
    }
   ],
   "source": [
    "# key = '수1'\n",
    "for key in ['1', '2','3','4']:\n",
    "    for name in ['앨범1', '앨범2']:\n",
    "        fk = con.execute(select(A.c.PK).where(\n",
    "            A.c.NAME.like('%'+key))).fetchone()[0]\n",
    "        \n",
    "        \n",
    "        con.execute(B.insert().values(\n",
    "            NAME = f'가수{key}_{name}', FK= fk))\n",
    "        # INSERT INTO T_B(NAEM, FK) VALUES (:name, :fk)"
   ]
  },
  {
   "cell_type": "code",
   "execution_count": 79,
   "id": "bc3e8efc-9552-49df-820e-ee961253a26f",
   "metadata": {},
   "outputs": [
    {
     "name": "stdout",
     "output_type": "stream",
     "text": [
      "2023-09-06 10:54:54,368 INFO sqlalchemy.engine.Engine INSERT INTO \"T_C\" (\"NAME\") VALUES (?)\n",
      "2023-09-06 10:54:54,370 INFO sqlalchemy.engine.Engine [generated in 0.00178s] ('장르1',)\n",
      "2023-09-06 10:54:54,373 INFO sqlalchemy.engine.Engine INSERT INTO \"T_C\" (\"NAME\") VALUES (?)\n",
      "2023-09-06 10:54:54,374 INFO sqlalchemy.engine.Engine [cached since 0.005896s ago] ('장르2',)\n",
      "2023-09-06 10:54:54,375 INFO sqlalchemy.engine.Engine INSERT INTO \"T_C\" (\"NAME\") VALUES (?)\n",
      "2023-09-06 10:54:54,377 INFO sqlalchemy.engine.Engine [cached since 0.008974s ago] ('장르3',)\n",
      "2023-09-06 10:54:54,379 INFO sqlalchemy.engine.Engine INSERT INTO \"T_C\" (\"NAME\") VALUES (?)\n",
      "2023-09-06 10:54:54,380 INFO sqlalchemy.engine.Engine [cached since 0.01131s ago] ('장르4',)\n"
     ]
    }
   ],
   "source": [
    "for name in ['장르1', '장르2', '장르3', '장르4']:\n",
    "    con.execute(meta.tables['T_C'].insert().values(NAME =name))"
   ]
  },
  {
   "cell_type": "code",
   "execution_count": 82,
   "id": "1dabac88-2627-42de-a8fa-c37e6d0ad20b",
   "metadata": {
    "scrolled": true
   },
   "outputs": [
    {
     "name": "stdout",
     "output_type": "stream",
     "text": [
      "2023-09-06 10:56:24,891 INFO sqlalchemy.engine.Engine SELECT \"T_A\".\"NAME\", \"T_B\".\"NAME\" AS \"NAME_1\" \n",
      "FROM \"T_A\" JOIN \"T_B\" ON \"T_A\".\"PK\" = \"T_B\".\"FK\"\n",
      "2023-09-06 10:56:24,891 INFO sqlalchemy.engine.Engine [generated in 0.00189s] ()\n"
     ]
    },
    {
     "data": {
      "text/plain": [
       "[('가수1', '가수1_앨범1'),\n",
       " ('가수1', '가수1_앨범2'),\n",
       " ('가수2', '가수2_앨범1'),\n",
       " ('가수2', '가수2_앨범2'),\n",
       " ('가수3', '가수3_앨범1'),\n",
       " ('가수3', '가수3_앨범2'),\n",
       " ('가수4', '가수4_앨범1'),\n",
       " ('가수4', '가수4_앨범2')]"
      ]
     },
     "execution_count": 82,
     "metadata": {},
     "output_type": "execute_result"
    }
   ],
   "source": [
    "con.execute(select(A.c.NAME, B.c.NAME).join(B)).fetchall() #잘 들어갔는지 확인하는 코드"
   ]
  },
  {
   "cell_type": "code",
   "execution_count": 87,
   "id": "a230e024-739f-4760-8b34-7745f9ab96ac",
   "metadata": {},
   "outputs": [],
   "source": [
    "#function 하나 보고가자"
   ]
  },
  {
   "cell_type": "code",
   "execution_count": 88,
   "id": "26fada91-7976-43d5-be05-c653cfc6df1a",
   "metadata": {},
   "outputs": [
    {
     "data": {
      "text/plain": [
       "<sqlalchemy.sql.functions._FunctionGenerator at 0x1c3daea95a0>"
      ]
     },
     "execution_count": 88,
     "metadata": {},
     "output_type": "execute_result"
    }
   ],
   "source": [
    "func #function generator 이다."
   ]
  },
  {
   "cell_type": "code",
   "execution_count": 86,
   "id": "580bb22a-b2f6-4258-9b0b-cc1904fe78c1",
   "metadata": {
    "scrolled": true
   },
   "outputs": [
    {
     "name": "stdout",
     "output_type": "stream",
     "text": [
      "2023-09-06 11:01:35,732 INFO sqlalchemy.engine.Engine SELECT \"T_B\".\"PK\" \n",
      "FROM \"T_B\"\n",
      "2023-09-06 11:01:35,735 INFO sqlalchemy.engine.Engine [generated in 0.00293s] ()\n",
      "2023-09-06 11:01:35,737 INFO sqlalchemy.engine.Engine SELECT \"T_A\".\"PK\" \n",
      "FROM \"T_A\" \n",
      "WHERE \"T_A\".\"NAME\" LIKE ?\n",
      "2023-09-06 11:01:35,740 INFO sqlalchemy.engine.Engine [cached since 862.4s ago] ('%1',)\n",
      "2023-09-06 11:01:35,743 INFO sqlalchemy.engine.Engine INSERT INTO \"T_D\" (\"NAME\", \"FK1\", \"FK2\") VALUES (?, ?, ?)\n",
      "2023-09-06 11:01:35,745 INFO sqlalchemy.engine.Engine [generated in 0.00173s] ('1앨범_장르1_노래1', 1, 1)\n",
      "2023-09-06 11:01:35,747 INFO sqlalchemy.engine.Engine SELECT \"T_A\".\"PK\" \n",
      "FROM \"T_A\" \n",
      "WHERE \"T_A\".\"NAME\" LIKE ?\n",
      "2023-09-06 11:01:35,747 INFO sqlalchemy.engine.Engine [cached since 862.4s ago] ('%1',)\n",
      "2023-09-06 11:01:35,750 INFO sqlalchemy.engine.Engine INSERT INTO \"T_D\" (\"NAME\", \"FK1\", \"FK2\") VALUES (?, ?, ?)\n",
      "2023-09-06 11:01:35,751 INFO sqlalchemy.engine.Engine [cached since 0.008133s ago] ('1앨범_장르1_노래2', 1, 1)\n",
      "2023-09-06 11:01:35,754 INFO sqlalchemy.engine.Engine SELECT \"T_A\".\"PK\" \n",
      "FROM \"T_A\" \n",
      "WHERE \"T_A\".\"NAME\" LIKE ?\n",
      "2023-09-06 11:01:35,754 INFO sqlalchemy.engine.Engine [cached since 862.4s ago] ('%1',)\n",
      "2023-09-06 11:01:35,754 INFO sqlalchemy.engine.Engine INSERT INTO \"T_D\" (\"NAME\", \"FK1\", \"FK2\") VALUES (?, ?, ?)\n",
      "2023-09-06 11:01:35,754 INFO sqlalchemy.engine.Engine [cached since 0.01725s ago] ('1앨범_장르1_노래3', 1, 1)\n",
      "2023-09-06 11:01:35,762 INFO sqlalchemy.engine.Engine SELECT \"T_A\".\"PK\" \n",
      "FROM \"T_A\" \n",
      "WHERE \"T_A\".\"NAME\" LIKE ?\n",
      "2023-09-06 11:01:35,762 INFO sqlalchemy.engine.Engine [cached since 862.4s ago] ('%1',)\n",
      "2023-09-06 11:01:35,762 INFO sqlalchemy.engine.Engine INSERT INTO \"T_D\" (\"NAME\", \"FK1\", \"FK2\") VALUES (?, ?, ?)\n",
      "2023-09-06 11:01:35,762 INFO sqlalchemy.engine.Engine [cached since 0.02488s ago] ('1앨범_장르1_노래4', 1, 1)\n",
      "2023-09-06 11:01:35,770 INFO sqlalchemy.engine.Engine SELECT \"T_A\".\"PK\" \n",
      "FROM \"T_A\" \n",
      "WHERE \"T_A\".\"NAME\" LIKE ?\n",
      "2023-09-06 11:01:35,770 INFO sqlalchemy.engine.Engine [cached since 862.4s ago] ('%2',)\n",
      "2023-09-06 11:01:35,770 INFO sqlalchemy.engine.Engine INSERT INTO \"T_D\" (\"NAME\", \"FK1\", \"FK2\") VALUES (?, ?, ?)\n",
      "2023-09-06 11:01:35,778 INFO sqlalchemy.engine.Engine [cached since 0.03451s ago] ('1앨범_장르2_노래1', 1, 2)\n",
      "2023-09-06 11:01:35,778 INFO sqlalchemy.engine.Engine SELECT \"T_A\".\"PK\" \n",
      "FROM \"T_A\" \n",
      "WHERE \"T_A\".\"NAME\" LIKE ?\n",
      "2023-09-06 11:01:35,778 INFO sqlalchemy.engine.Engine [cached since 862.4s ago] ('%2',)\n",
      "2023-09-06 11:01:35,778 INFO sqlalchemy.engine.Engine INSERT INTO \"T_D\" (\"NAME\", \"FK1\", \"FK2\") VALUES (?, ?, ?)\n",
      "2023-09-06 11:01:35,786 INFO sqlalchemy.engine.Engine [cached since 0.04337s ago] ('1앨범_장르2_노래2', 1, 2)\n",
      "2023-09-06 11:01:35,789 INFO sqlalchemy.engine.Engine SELECT \"T_A\".\"PK\" \n",
      "FROM \"T_A\" \n",
      "WHERE \"T_A\".\"NAME\" LIKE ?\n",
      "2023-09-06 11:01:35,789 INFO sqlalchemy.engine.Engine [cached since 862.4s ago] ('%2',)\n",
      "2023-09-06 11:01:35,794 INFO sqlalchemy.engine.Engine INSERT INTO \"T_D\" (\"NAME\", \"FK1\", \"FK2\") VALUES (?, ?, ?)\n",
      "2023-09-06 11:01:35,794 INFO sqlalchemy.engine.Engine [cached since 0.05477s ago] ('1앨범_장르2_노래3', 1, 2)\n",
      "2023-09-06 11:01:35,794 INFO sqlalchemy.engine.Engine SELECT \"T_A\".\"PK\" \n",
      "FROM \"T_A\" \n",
      "WHERE \"T_A\".\"NAME\" LIKE ?\n",
      "2023-09-06 11:01:35,802 INFO sqlalchemy.engine.Engine [cached since 862.5s ago] ('%2',)\n",
      "2023-09-06 11:01:35,802 INFO sqlalchemy.engine.Engine INSERT INTO \"T_D\" (\"NAME\", \"FK1\", \"FK2\") VALUES (?, ?, ?)\n",
      "2023-09-06 11:01:35,802 INFO sqlalchemy.engine.Engine [cached since 0.06397s ago] ('1앨범_장르2_노래4', 1, 2)\n",
      "2023-09-06 11:01:35,810 INFO sqlalchemy.engine.Engine SELECT \"T_A\".\"PK\" \n",
      "FROM \"T_A\" \n",
      "WHERE \"T_A\".\"NAME\" LIKE ?\n",
      "2023-09-06 11:01:35,810 INFO sqlalchemy.engine.Engine [cached since 862.5s ago] ('%3',)\n",
      "2023-09-06 11:01:35,810 INFO sqlalchemy.engine.Engine INSERT INTO \"T_D\" (\"NAME\", \"FK1\", \"FK2\") VALUES (?, ?, ?)\n",
      "2023-09-06 11:01:35,810 INFO sqlalchemy.engine.Engine [cached since 0.0729s ago] ('1앨범_장르3_노래1', 1, 3)\n",
      "2023-09-06 11:01:35,818 INFO sqlalchemy.engine.Engine SELECT \"T_A\".\"PK\" \n",
      "FROM \"T_A\" \n",
      "WHERE \"T_A\".\"NAME\" LIKE ?\n",
      "2023-09-06 11:01:35,818 INFO sqlalchemy.engine.Engine [cached since 862.5s ago] ('%3',)\n",
      "2023-09-06 11:01:35,818 INFO sqlalchemy.engine.Engine INSERT INTO \"T_D\" (\"NAME\", \"FK1\", \"FK2\") VALUES (?, ?, ?)\n",
      "2023-09-06 11:01:35,818 INFO sqlalchemy.engine.Engine [cached since 0.08136s ago] ('1앨범_장르3_노래2', 1, 3)\n",
      "2023-09-06 11:01:35,826 INFO sqlalchemy.engine.Engine SELECT \"T_A\".\"PK\" \n",
      "FROM \"T_A\" \n",
      "WHERE \"T_A\".\"NAME\" LIKE ?\n",
      "2023-09-06 11:01:35,826 INFO sqlalchemy.engine.Engine [cached since 862.5s ago] ('%3',)\n",
      "2023-09-06 11:01:35,826 INFO sqlalchemy.engine.Engine INSERT INTO \"T_D\" (\"NAME\", \"FK1\", \"FK2\") VALUES (?, ?, ?)\n",
      "2023-09-06 11:01:35,826 INFO sqlalchemy.engine.Engine [cached since 0.0889s ago] ('1앨범_장르3_노래3', 1, 3)\n",
      "2023-09-06 11:01:35,834 INFO sqlalchemy.engine.Engine SELECT \"T_A\".\"PK\" \n",
      "FROM \"T_A\" \n",
      "WHERE \"T_A\".\"NAME\" LIKE ?\n",
      "2023-09-06 11:01:35,834 INFO sqlalchemy.engine.Engine [cached since 862.5s ago] ('%3',)\n",
      "2023-09-06 11:01:35,834 INFO sqlalchemy.engine.Engine INSERT INTO \"T_D\" (\"NAME\", \"FK1\", \"FK2\") VALUES (?, ?, ?)\n",
      "2023-09-06 11:01:35,834 INFO sqlalchemy.engine.Engine [cached since 0.09625s ago] ('1앨범_장르3_노래4', 1, 3)\n",
      "2023-09-06 11:01:35,834 INFO sqlalchemy.engine.Engine SELECT \"T_A\".\"PK\" \n",
      "FROM \"T_A\" \n",
      "WHERE \"T_A\".\"NAME\" LIKE ?\n",
      "2023-09-06 11:01:35,842 INFO sqlalchemy.engine.Engine [cached since 862.5s ago] ('%4',)\n",
      "2023-09-06 11:01:35,842 INFO sqlalchemy.engine.Engine INSERT INTO \"T_D\" (\"NAME\", \"FK1\", \"FK2\") VALUES (?, ?, ?)\n",
      "2023-09-06 11:01:35,842 INFO sqlalchemy.engine.Engine [cached since 0.104s ago] ('1앨범_장르4_노래1', 1, 4)\n",
      "2023-09-06 11:01:35,842 INFO sqlalchemy.engine.Engine SELECT \"T_A\".\"PK\" \n",
      "FROM \"T_A\" \n",
      "WHERE \"T_A\".\"NAME\" LIKE ?\n",
      "2023-09-06 11:01:35,851 INFO sqlalchemy.engine.Engine [cached since 862.5s ago] ('%4',)\n",
      "2023-09-06 11:01:35,851 INFO sqlalchemy.engine.Engine INSERT INTO \"T_D\" (\"NAME\", \"FK1\", \"FK2\") VALUES (?, ?, ?)\n",
      "2023-09-06 11:01:35,851 INFO sqlalchemy.engine.Engine [cached since 0.1119s ago] ('1앨범_장르4_노래2', 1, 4)\n",
      "2023-09-06 11:01:35,851 INFO sqlalchemy.engine.Engine SELECT \"T_A\".\"PK\" \n",
      "FROM \"T_A\" \n",
      "WHERE \"T_A\".\"NAME\" LIKE ?\n",
      "2023-09-06 11:01:35,859 INFO sqlalchemy.engine.Engine [cached since 862.5s ago] ('%4',)\n",
      "2023-09-06 11:01:35,859 INFO sqlalchemy.engine.Engine INSERT INTO \"T_D\" (\"NAME\", \"FK1\", \"FK2\") VALUES (?, ?, ?)\n",
      "2023-09-06 11:01:35,859 INFO sqlalchemy.engine.Engine [cached since 0.1197s ago] ('1앨범_장르4_노래3', 1, 4)\n",
      "2023-09-06 11:01:35,859 INFO sqlalchemy.engine.Engine SELECT \"T_A\".\"PK\" \n",
      "FROM \"T_A\" \n",
      "WHERE \"T_A\".\"NAME\" LIKE ?\n",
      "2023-09-06 11:01:35,859 INFO sqlalchemy.engine.Engine [cached since 862.5s ago] ('%4',)\n",
      "2023-09-06 11:01:35,867 INFO sqlalchemy.engine.Engine INSERT INTO \"T_D\" (\"NAME\", \"FK1\", \"FK2\") VALUES (?, ?, ?)\n",
      "2023-09-06 11:01:35,867 INFO sqlalchemy.engine.Engine [cached since 0.1272s ago] ('1앨범_장르4_노래4', 1, 4)\n",
      "2023-09-06 11:01:35,872 INFO sqlalchemy.engine.Engine SELECT \"T_A\".\"PK\" \n",
      "FROM \"T_A\" \n",
      "WHERE \"T_A\".\"NAME\" LIKE ?\n",
      "2023-09-06 11:01:35,875 INFO sqlalchemy.engine.Engine [cached since 862.5s ago] ('%1',)\n",
      "2023-09-06 11:01:35,875 INFO sqlalchemy.engine.Engine INSERT INTO \"T_D\" (\"NAME\", \"FK1\", \"FK2\") VALUES (?, ?, ?)\n",
      "2023-09-06 11:01:35,875 INFO sqlalchemy.engine.Engine [cached since 0.1356s ago] ('2앨범_장르1_노래1', 2, 1)\n",
      "2023-09-06 11:01:35,875 INFO sqlalchemy.engine.Engine SELECT \"T_A\".\"PK\" \n",
      "FROM \"T_A\" \n",
      "WHERE \"T_A\".\"NAME\" LIKE ?\n",
      "2023-09-06 11:01:35,883 INFO sqlalchemy.engine.Engine [cached since 862.5s ago] ('%1',)\n",
      "2023-09-06 11:01:35,884 INFO sqlalchemy.engine.Engine INSERT INTO \"T_D\" (\"NAME\", \"FK1\", \"FK2\") VALUES (?, ?, ?)\n",
      "2023-09-06 11:01:35,884 INFO sqlalchemy.engine.Engine [cached since 0.1446s ago] ('2앨범_장르1_노래2', 2, 1)\n",
      "2023-09-06 11:01:35,884 INFO sqlalchemy.engine.Engine SELECT \"T_A\".\"PK\" \n",
      "FROM \"T_A\" \n",
      "WHERE \"T_A\".\"NAME\" LIKE ?\n",
      "2023-09-06 11:01:35,891 INFO sqlalchemy.engine.Engine [cached since 862.5s ago] ('%1',)\n",
      "2023-09-06 11:01:35,894 INFO sqlalchemy.engine.Engine INSERT INTO \"T_D\" (\"NAME\", \"FK1\", \"FK2\") VALUES (?, ?, ?)\n",
      "2023-09-06 11:01:35,894 INFO sqlalchemy.engine.Engine [cached since 0.1533s ago] ('2앨범_장르1_노래3', 2, 1)\n",
      "2023-09-06 11:01:35,894 INFO sqlalchemy.engine.Engine SELECT \"T_A\".\"PK\" \n",
      "FROM \"T_A\" \n",
      "WHERE \"T_A\".\"NAME\" LIKE ?\n",
      "2023-09-06 11:01:35,900 INFO sqlalchemy.engine.Engine [cached since 862.6s ago] ('%1',)\n",
      "2023-09-06 11:01:35,901 INFO sqlalchemy.engine.Engine INSERT INTO \"T_D\" (\"NAME\", \"FK1\", \"FK2\") VALUES (?, ?, ?)\n",
      "2023-09-06 11:01:35,901 INFO sqlalchemy.engine.Engine [cached since 0.1593s ago] ('2앨범_장르1_노래4', 2, 1)\n",
      "2023-09-06 11:01:35,901 INFO sqlalchemy.engine.Engine SELECT \"T_A\".\"PK\" \n",
      "FROM \"T_A\" \n",
      "WHERE \"T_A\".\"NAME\" LIKE ?\n",
      "2023-09-06 11:01:35,901 INFO sqlalchemy.engine.Engine [cached since 862.6s ago] ('%2',)\n",
      "2023-09-06 11:01:35,908 INFO sqlalchemy.engine.Engine INSERT INTO \"T_D\" (\"NAME\", \"FK1\", \"FK2\") VALUES (?, ?, ?)\n",
      "2023-09-06 11:01:35,910 INFO sqlalchemy.engine.Engine [cached since 0.1684s ago] ('2앨범_장르2_노래1', 2, 2)\n",
      "2023-09-06 11:01:35,910 INFO sqlalchemy.engine.Engine SELECT \"T_A\".\"PK\" \n",
      "FROM \"T_A\" \n",
      "WHERE \"T_A\".\"NAME\" LIKE ?\n",
      "2023-09-06 11:01:35,910 INFO sqlalchemy.engine.Engine [cached since 862.6s ago] ('%2',)\n",
      "2023-09-06 11:01:35,916 INFO sqlalchemy.engine.Engine INSERT INTO \"T_D\" (\"NAME\", \"FK1\", \"FK2\") VALUES (?, ?, ?)\n",
      "2023-09-06 11:01:35,916 INFO sqlalchemy.engine.Engine [cached since 0.1747s ago] ('2앨범_장르2_노래2', 2, 2)\n",
      "2023-09-06 11:01:35,916 INFO sqlalchemy.engine.Engine SELECT \"T_A\".\"PK\" \n",
      "FROM \"T_A\" \n",
      "WHERE \"T_A\".\"NAME\" LIKE ?\n",
      "2023-09-06 11:01:35,916 INFO sqlalchemy.engine.Engine [cached since 862.6s ago] ('%2',)\n",
      "2023-09-06 11:01:35,924 INFO sqlalchemy.engine.Engine INSERT INTO \"T_D\" (\"NAME\", \"FK1\", \"FK2\") VALUES (?, ?, ?)\n",
      "2023-09-06 11:01:35,924 INFO sqlalchemy.engine.Engine [cached since 0.1836s ago] ('2앨범_장르2_노래3', 2, 2)\n",
      "2023-09-06 11:01:35,924 INFO sqlalchemy.engine.Engine SELECT \"T_A\".\"PK\" \n",
      "FROM \"T_A\" \n",
      "WHERE \"T_A\".\"NAME\" LIKE ?\n",
      "2023-09-06 11:01:35,924 INFO sqlalchemy.engine.Engine [cached since 862.6s ago] ('%2',)\n",
      "2023-09-06 11:01:35,932 INFO sqlalchemy.engine.Engine INSERT INTO \"T_D\" (\"NAME\", \"FK1\", \"FK2\") VALUES (?, ?, ?)\n",
      "2023-09-06 11:01:35,932 INFO sqlalchemy.engine.Engine [cached since 0.1904s ago] ('2앨범_장르2_노래4', 2, 2)\n",
      "2023-09-06 11:01:35,932 INFO sqlalchemy.engine.Engine SELECT \"T_A\".\"PK\" \n",
      "FROM \"T_A\" \n",
      "WHERE \"T_A\".\"NAME\" LIKE ?\n",
      "2023-09-06 11:01:35,932 INFO sqlalchemy.engine.Engine [cached since 862.6s ago] ('%3',)\n",
      "2023-09-06 11:01:35,932 INFO sqlalchemy.engine.Engine INSERT INTO \"T_D\" (\"NAME\", \"FK1\", \"FK2\") VALUES (?, ?, ?)\n",
      "2023-09-06 11:01:35,940 INFO sqlalchemy.engine.Engine [cached since 0.1979s ago] ('2앨범_장르3_노래1', 2, 3)\n",
      "2023-09-06 11:01:35,940 INFO sqlalchemy.engine.Engine SELECT \"T_A\".\"PK\" \n",
      "FROM \"T_A\" \n",
      "WHERE \"T_A\".\"NAME\" LIKE ?\n",
      "2023-09-06 11:01:35,940 INFO sqlalchemy.engine.Engine [cached since 862.6s ago] ('%3',)\n",
      "2023-09-06 11:01:35,940 INFO sqlalchemy.engine.Engine INSERT INTO \"T_D\" (\"NAME\", \"FK1\", \"FK2\") VALUES (?, ?, ?)\n",
      "2023-09-06 11:01:35,948 INFO sqlalchemy.engine.Engine [cached since 0.2052s ago] ('2앨범_장르3_노래2', 2, 3)\n",
      "2023-09-06 11:01:35,948 INFO sqlalchemy.engine.Engine SELECT \"T_A\".\"PK\" \n",
      "FROM \"T_A\" \n",
      "WHERE \"T_A\".\"NAME\" LIKE ?\n",
      "2023-09-06 11:01:35,948 INFO sqlalchemy.engine.Engine [cached since 862.6s ago] ('%3',)\n",
      "2023-09-06 11:01:35,948 INFO sqlalchemy.engine.Engine INSERT INTO \"T_D\" (\"NAME\", \"FK1\", \"FK2\") VALUES (?, ?, ?)\n",
      "2023-09-06 11:01:35,948 INFO sqlalchemy.engine.Engine [cached since 0.2125s ago] ('2앨범_장르3_노래3', 2, 3)\n",
      "2023-09-06 11:01:35,957 INFO sqlalchemy.engine.Engine SELECT \"T_A\".\"PK\" \n",
      "FROM \"T_A\" \n",
      "WHERE \"T_A\".\"NAME\" LIKE ?\n",
      "2023-09-06 11:01:35,957 INFO sqlalchemy.engine.Engine [cached since 862.6s ago] ('%3',)\n",
      "2023-09-06 11:01:35,957 INFO sqlalchemy.engine.Engine INSERT INTO \"T_D\" (\"NAME\", \"FK1\", \"FK2\") VALUES (?, ?, ?)\n",
      "2023-09-06 11:01:35,957 INFO sqlalchemy.engine.Engine [cached since 0.2184s ago] ('2앨범_장르3_노래4', 2, 3)\n",
      "2023-09-06 11:01:35,957 INFO sqlalchemy.engine.Engine SELECT \"T_A\".\"PK\" \n",
      "FROM \"T_A\" \n",
      "WHERE \"T_A\".\"NAME\" LIKE ?\n",
      "2023-09-06 11:01:35,964 INFO sqlalchemy.engine.Engine [cached since 862.6s ago] ('%4',)\n",
      "2023-09-06 11:01:35,966 INFO sqlalchemy.engine.Engine INSERT INTO \"T_D\" (\"NAME\", \"FK1\", \"FK2\") VALUES (?, ?, ?)\n",
      "2023-09-06 11:01:35,966 INFO sqlalchemy.engine.Engine [cached since 0.2248s ago] ('2앨범_장르4_노래1', 2, 4)\n",
      "2023-09-06 11:01:35,966 INFO sqlalchemy.engine.Engine SELECT \"T_A\".\"PK\" \n",
      "FROM \"T_A\" \n",
      "WHERE \"T_A\".\"NAME\" LIKE ?\n",
      "2023-09-06 11:01:35,966 INFO sqlalchemy.engine.Engine [cached since 862.6s ago] ('%4',)\n",
      "2023-09-06 11:01:35,973 INFO sqlalchemy.engine.Engine INSERT INTO \"T_D\" (\"NAME\", \"FK1\", \"FK2\") VALUES (?, ?, ?)\n",
      "2023-09-06 11:01:35,973 INFO sqlalchemy.engine.Engine [cached since 0.2317s ago] ('2앨범_장르4_노래2', 2, 4)\n",
      "2023-09-06 11:01:35,973 INFO sqlalchemy.engine.Engine SELECT \"T_A\".\"PK\" \n",
      "FROM \"T_A\" \n",
      "WHERE \"T_A\".\"NAME\" LIKE ?\n",
      "2023-09-06 11:01:35,973 INFO sqlalchemy.engine.Engine [cached since 862.6s ago] ('%4',)\n",
      "2023-09-06 11:01:35,981 INFO sqlalchemy.engine.Engine INSERT INTO \"T_D\" (\"NAME\", \"FK1\", \"FK2\") VALUES (?, ?, ?)\n",
      "2023-09-06 11:01:35,981 INFO sqlalchemy.engine.Engine [cached since 0.2402s ago] ('2앨범_장르4_노래3', 2, 4)\n",
      "2023-09-06 11:01:35,981 INFO sqlalchemy.engine.Engine SELECT \"T_A\".\"PK\" \n",
      "FROM \"T_A\" \n",
      "WHERE \"T_A\".\"NAME\" LIKE ?\n",
      "2023-09-06 11:01:35,981 INFO sqlalchemy.engine.Engine [cached since 862.6s ago] ('%4',)\n",
      "2023-09-06 11:01:35,989 INFO sqlalchemy.engine.Engine INSERT INTO \"T_D\" (\"NAME\", \"FK1\", \"FK2\") VALUES (?, ?, ?)\n",
      "2023-09-06 11:01:35,989 INFO sqlalchemy.engine.Engine [cached since 0.2484s ago] ('2앨범_장르4_노래4', 2, 4)\n",
      "2023-09-06 11:01:35,989 INFO sqlalchemy.engine.Engine SELECT \"T_A\".\"PK\" \n",
      "FROM \"T_A\" \n",
      "WHERE \"T_A\".\"NAME\" LIKE ?\n",
      "2023-09-06 11:01:35,989 INFO sqlalchemy.engine.Engine [cached since 862.6s ago] ('%1',)\n",
      "2023-09-06 11:01:35,997 INFO sqlalchemy.engine.Engine INSERT INTO \"T_D\" (\"NAME\", \"FK1\", \"FK2\") VALUES (?, ?, ?)\n",
      "2023-09-06 11:01:35,997 INFO sqlalchemy.engine.Engine [cached since 0.2561s ago] ('3앨범_장르1_노래1', 3, 1)\n",
      "2023-09-06 11:01:35,997 INFO sqlalchemy.engine.Engine SELECT \"T_A\".\"PK\" \n",
      "FROM \"T_A\" \n",
      "WHERE \"T_A\".\"NAME\" LIKE ?\n",
      "2023-09-06 11:01:35,997 INFO sqlalchemy.engine.Engine [cached since 862.7s ago] ('%1',)\n",
      "2023-09-06 11:01:36,005 INFO sqlalchemy.engine.Engine INSERT INTO \"T_D\" (\"NAME\", \"FK1\", \"FK2\") VALUES (?, ?, ?)\n",
      "2023-09-06 11:01:36,005 INFO sqlalchemy.engine.Engine [cached since 0.2635s ago] ('3앨범_장르1_노래2', 3, 1)\n",
      "2023-09-06 11:01:36,005 INFO sqlalchemy.engine.Engine SELECT \"T_A\".\"PK\" \n",
      "FROM \"T_A\" \n",
      "WHERE \"T_A\".\"NAME\" LIKE ?\n",
      "2023-09-06 11:01:36,010 INFO sqlalchemy.engine.Engine [cached since 862.7s ago] ('%1',)\n",
      "2023-09-06 11:01:36,012 INFO sqlalchemy.engine.Engine INSERT INTO \"T_D\" (\"NAME\", \"FK1\", \"FK2\") VALUES (?, ?, ?)\n",
      "2023-09-06 11:01:36,013 INFO sqlalchemy.engine.Engine [cached since 0.2704s ago] ('3앨범_장르1_노래3', 3, 1)\n",
      "2023-09-06 11:01:36,013 INFO sqlalchemy.engine.Engine SELECT \"T_A\".\"PK\" \n",
      "FROM \"T_A\" \n",
      "WHERE \"T_A\".\"NAME\" LIKE ?\n",
      "2023-09-06 11:01:36,013 INFO sqlalchemy.engine.Engine [cached since 862.7s ago] ('%1',)\n",
      "2023-09-06 11:01:36,021 INFO sqlalchemy.engine.Engine INSERT INTO \"T_D\" (\"NAME\", \"FK1\", \"FK2\") VALUES (?, ?, ?)\n",
      "2023-09-06 11:01:36,021 INFO sqlalchemy.engine.Engine [cached since 0.2809s ago] ('3앨범_장르1_노래4', 3, 1)\n",
      "2023-09-06 11:01:36,021 INFO sqlalchemy.engine.Engine SELECT \"T_A\".\"PK\" \n",
      "FROM \"T_A\" \n",
      "WHERE \"T_A\".\"NAME\" LIKE ?\n",
      "2023-09-06 11:01:36,021 INFO sqlalchemy.engine.Engine [cached since 862.7s ago] ('%2',)\n",
      "2023-09-06 11:01:36,029 INFO sqlalchemy.engine.Engine INSERT INTO \"T_D\" (\"NAME\", \"FK1\", \"FK2\") VALUES (?, ?, ?)\n",
      "2023-09-06 11:01:36,029 INFO sqlalchemy.engine.Engine [cached since 0.288s ago] ('3앨범_장르2_노래1', 3, 2)\n",
      "2023-09-06 11:01:36,029 INFO sqlalchemy.engine.Engine SELECT \"T_A\".\"PK\" \n",
      "FROM \"T_A\" \n",
      "WHERE \"T_A\".\"NAME\" LIKE ?\n",
      "2023-09-06 11:01:36,029 INFO sqlalchemy.engine.Engine [cached since 862.7s ago] ('%2',)\n",
      "2023-09-06 11:01:36,037 INFO sqlalchemy.engine.Engine INSERT INTO \"T_D\" (\"NAME\", \"FK1\", \"FK2\") VALUES (?, ?, ?)\n",
      "2023-09-06 11:01:36,037 INFO sqlalchemy.engine.Engine [cached since 0.2962s ago] ('3앨범_장르2_노래2', 3, 2)\n",
      "2023-09-06 11:01:36,037 INFO sqlalchemy.engine.Engine SELECT \"T_A\".\"PK\" \n",
      "FROM \"T_A\" \n",
      "WHERE \"T_A\".\"NAME\" LIKE ?\n",
      "2023-09-06 11:01:36,037 INFO sqlalchemy.engine.Engine [cached since 862.7s ago] ('%2',)\n",
      "2023-09-06 11:01:36,037 INFO sqlalchemy.engine.Engine INSERT INTO \"T_D\" (\"NAME\", \"FK1\", \"FK2\") VALUES (?, ?, ?)\n",
      "2023-09-06 11:01:36,045 INFO sqlalchemy.engine.Engine [cached since 0.3024s ago] ('3앨범_장르2_노래3', 3, 2)\n",
      "2023-09-06 11:01:36,045 INFO sqlalchemy.engine.Engine SELECT \"T_A\".\"PK\" \n",
      "FROM \"T_A\" \n",
      "WHERE \"T_A\".\"NAME\" LIKE ?\n",
      "2023-09-06 11:01:36,045 INFO sqlalchemy.engine.Engine [cached since 862.7s ago] ('%2',)\n",
      "2023-09-06 11:01:36,045 INFO sqlalchemy.engine.Engine INSERT INTO \"T_D\" (\"NAME\", \"FK1\", \"FK2\") VALUES (?, ?, ?)\n",
      "2023-09-06 11:01:36,053 INFO sqlalchemy.engine.Engine [cached since 0.3102s ago] ('3앨범_장르2_노래4', 3, 2)\n",
      "2023-09-06 11:01:36,053 INFO sqlalchemy.engine.Engine SELECT \"T_A\".\"PK\" \n",
      "FROM \"T_A\" \n",
      "WHERE \"T_A\".\"NAME\" LIKE ?\n",
      "2023-09-06 11:01:36,053 INFO sqlalchemy.engine.Engine [cached since 862.7s ago] ('%3',)\n",
      "2023-09-06 11:01:36,053 INFO sqlalchemy.engine.Engine INSERT INTO \"T_D\" (\"NAME\", \"FK1\", \"FK2\") VALUES (?, ?, ?)\n",
      "2023-09-06 11:01:36,053 INFO sqlalchemy.engine.Engine [cached since 0.3172s ago] ('3앨범_장르3_노래1', 3, 3)\n",
      "2023-09-06 11:01:36,063 INFO sqlalchemy.engine.Engine SELECT \"T_A\".\"PK\" \n",
      "FROM \"T_A\" \n",
      "WHERE \"T_A\".\"NAME\" LIKE ?\n",
      "2023-09-06 11:01:36,063 INFO sqlalchemy.engine.Engine [cached since 862.7s ago] ('%3',)\n",
      "2023-09-06 11:01:36,063 INFO sqlalchemy.engine.Engine INSERT INTO \"T_D\" (\"NAME\", \"FK1\", \"FK2\") VALUES (?, ?, ?)\n",
      "2023-09-06 11:01:36,063 INFO sqlalchemy.engine.Engine [cached since 0.3253s ago] ('3앨범_장르3_노래2', 3, 3)\n",
      "2023-09-06 11:01:36,070 INFO sqlalchemy.engine.Engine SELECT \"T_A\".\"PK\" \n",
      "FROM \"T_A\" \n",
      "WHERE \"T_A\".\"NAME\" LIKE ?\n",
      "2023-09-06 11:01:36,070 INFO sqlalchemy.engine.Engine [cached since 862.7s ago] ('%3',)\n",
      "2023-09-06 11:01:36,070 INFO sqlalchemy.engine.Engine INSERT INTO \"T_D\" (\"NAME\", \"FK1\", \"FK2\") VALUES (?, ?, ?)\n",
      "2023-09-06 11:01:36,070 INFO sqlalchemy.engine.Engine [cached since 0.3339s ago] ('3앨범_장르3_노래3', 3, 3)\n",
      "2023-09-06 11:01:36,078 INFO sqlalchemy.engine.Engine SELECT \"T_A\".\"PK\" \n",
      "FROM \"T_A\" \n",
      "WHERE \"T_A\".\"NAME\" LIKE ?\n",
      "2023-09-06 11:01:36,078 INFO sqlalchemy.engine.Engine [cached since 862.7s ago] ('%3',)\n",
      "2023-09-06 11:01:36,086 INFO sqlalchemy.engine.Engine INSERT INTO \"T_D\" (\"NAME\", \"FK1\", \"FK2\") VALUES (?, ?, ?)\n",
      "2023-09-06 11:01:36,086 INFO sqlalchemy.engine.Engine [cached since 0.3435s ago] ('3앨범_장르3_노래4', 3, 3)\n",
      "2023-09-06 11:01:36,086 INFO sqlalchemy.engine.Engine SELECT \"T_A\".\"PK\" \n",
      "FROM \"T_A\" \n",
      "WHERE \"T_A\".\"NAME\" LIKE ?\n",
      "2023-09-06 11:01:36,086 INFO sqlalchemy.engine.Engine [cached since 862.7s ago] ('%4',)\n",
      "2023-09-06 11:01:36,086 INFO sqlalchemy.engine.Engine INSERT INTO \"T_D\" (\"NAME\", \"FK1\", \"FK2\") VALUES (?, ?, ?)\n",
      "2023-09-06 11:01:36,095 INFO sqlalchemy.engine.Engine [cached since 0.3517s ago] ('3앨범_장르4_노래1', 3, 4)\n",
      "2023-09-06 11:01:36,095 INFO sqlalchemy.engine.Engine SELECT \"T_A\".\"PK\" \n",
      "FROM \"T_A\" \n",
      "WHERE \"T_A\".\"NAME\" LIKE ?\n",
      "2023-09-06 11:01:36,095 INFO sqlalchemy.engine.Engine [cached since 862.7s ago] ('%4',)\n",
      "2023-09-06 11:01:36,095 INFO sqlalchemy.engine.Engine INSERT INTO \"T_D\" (\"NAME\", \"FK1\", \"FK2\") VALUES (?, ?, ?)\n",
      "2023-09-06 11:01:36,102 INFO sqlalchemy.engine.Engine [cached since 0.36s ago] ('3앨범_장르4_노래2', 3, 4)\n",
      "2023-09-06 11:01:36,102 INFO sqlalchemy.engine.Engine SELECT \"T_A\".\"PK\" \n",
      "FROM \"T_A\" \n",
      "WHERE \"T_A\".\"NAME\" LIKE ?\n",
      "2023-09-06 11:01:36,102 INFO sqlalchemy.engine.Engine [cached since 862.8s ago] ('%4',)\n",
      "2023-09-06 11:01:36,102 INFO sqlalchemy.engine.Engine INSERT INTO \"T_D\" (\"NAME\", \"FK1\", \"FK2\") VALUES (?, ?, ?)\n",
      "2023-09-06 11:01:36,110 INFO sqlalchemy.engine.Engine [cached since 0.3686s ago] ('3앨범_장르4_노래3', 3, 4)\n",
      "2023-09-06 11:01:36,110 INFO sqlalchemy.engine.Engine SELECT \"T_A\".\"PK\" \n",
      "FROM \"T_A\" \n",
      "WHERE \"T_A\".\"NAME\" LIKE ?\n",
      "2023-09-06 11:01:36,110 INFO sqlalchemy.engine.Engine [cached since 862.8s ago] ('%4',)\n",
      "2023-09-06 11:01:36,110 INFO sqlalchemy.engine.Engine INSERT INTO \"T_D\" (\"NAME\", \"FK1\", \"FK2\") VALUES (?, ?, ?)\n",
      "2023-09-06 11:01:36,118 INFO sqlalchemy.engine.Engine [cached since 0.3759s ago] ('3앨범_장르4_노래4', 3, 4)\n",
      "2023-09-06 11:01:36,118 INFO sqlalchemy.engine.Engine SELECT \"T_A\".\"PK\" \n",
      "FROM \"T_A\" \n",
      "WHERE \"T_A\".\"NAME\" LIKE ?\n",
      "2023-09-06 11:01:36,118 INFO sqlalchemy.engine.Engine [cached since 862.8s ago] ('%1',)\n",
      "2023-09-06 11:01:36,126 INFO sqlalchemy.engine.Engine INSERT INTO \"T_D\" (\"NAME\", \"FK1\", \"FK2\") VALUES (?, ?, ?)\n",
      "2023-09-06 11:01:36,126 INFO sqlalchemy.engine.Engine [cached since 0.385s ago] ('4앨범_장르1_노래1', 4, 1)\n",
      "2023-09-06 11:01:36,126 INFO sqlalchemy.engine.Engine SELECT \"T_A\".\"PK\" \n",
      "FROM \"T_A\" \n",
      "WHERE \"T_A\".\"NAME\" LIKE ?\n",
      "2023-09-06 11:01:36,126 INFO sqlalchemy.engine.Engine [cached since 862.8s ago] ('%1',)\n",
      "2023-09-06 11:01:36,134 INFO sqlalchemy.engine.Engine INSERT INTO \"T_D\" (\"NAME\", \"FK1\", \"FK2\") VALUES (?, ?, ?)\n",
      "2023-09-06 11:01:36,134 INFO sqlalchemy.engine.Engine [cached since 0.3934s ago] ('4앨범_장르1_노래2', 4, 1)\n",
      "2023-09-06 11:01:36,134 INFO sqlalchemy.engine.Engine SELECT \"T_A\".\"PK\" \n",
      "FROM \"T_A\" \n",
      "WHERE \"T_A\".\"NAME\" LIKE ?\n",
      "2023-09-06 11:01:36,134 INFO sqlalchemy.engine.Engine [cached since 862.8s ago] ('%1',)\n",
      "2023-09-06 11:01:36,142 INFO sqlalchemy.engine.Engine INSERT INTO \"T_D\" (\"NAME\", \"FK1\", \"FK2\") VALUES (?, ?, ?)\n",
      "2023-09-06 11:01:36,142 INFO sqlalchemy.engine.Engine [cached since 0.4011s ago] ('4앨범_장르1_노래3', 4, 1)\n",
      "2023-09-06 11:01:36,142 INFO sqlalchemy.engine.Engine SELECT \"T_A\".\"PK\" \n",
      "FROM \"T_A\" \n",
      "WHERE \"T_A\".\"NAME\" LIKE ?\n",
      "2023-09-06 11:01:36,142 INFO sqlalchemy.engine.Engine [cached since 862.8s ago] ('%1',)\n",
      "2023-09-06 11:01:36,150 INFO sqlalchemy.engine.Engine INSERT INTO \"T_D\" (\"NAME\", \"FK1\", \"FK2\") VALUES (?, ?, ?)\n",
      "2023-09-06 11:01:36,150 INFO sqlalchemy.engine.Engine [cached since 0.4087s ago] ('4앨범_장르1_노래4', 4, 1)\n",
      "2023-09-06 11:01:36,150 INFO sqlalchemy.engine.Engine SELECT \"T_A\".\"PK\" \n",
      "FROM \"T_A\" \n",
      "WHERE \"T_A\".\"NAME\" LIKE ?\n",
      "2023-09-06 11:01:36,150 INFO sqlalchemy.engine.Engine [cached since 862.8s ago] ('%2',)\n",
      "2023-09-06 11:01:36,158 INFO sqlalchemy.engine.Engine INSERT INTO \"T_D\" (\"NAME\", \"FK1\", \"FK2\") VALUES (?, ?, ?)\n",
      "2023-09-06 11:01:36,158 INFO sqlalchemy.engine.Engine [cached since 0.4178s ago] ('4앨범_장르2_노래1', 4, 2)\n",
      "2023-09-06 11:01:36,158 INFO sqlalchemy.engine.Engine SELECT \"T_A\".\"PK\" \n",
      "FROM \"T_A\" \n",
      "WHERE \"T_A\".\"NAME\" LIKE ?\n",
      "2023-09-06 11:01:36,158 INFO sqlalchemy.engine.Engine [cached since 862.8s ago] ('%2',)\n",
      "2023-09-06 11:01:36,166 INFO sqlalchemy.engine.Engine INSERT INTO \"T_D\" (\"NAME\", \"FK1\", \"FK2\") VALUES (?, ?, ?)\n",
      "2023-09-06 11:01:36,166 INFO sqlalchemy.engine.Engine [cached since 0.4249s ago] ('4앨범_장르2_노래2', 4, 2)\n",
      "2023-09-06 11:01:36,166 INFO sqlalchemy.engine.Engine SELECT \"T_A\".\"PK\" \n",
      "FROM \"T_A\" \n",
      "WHERE \"T_A\".\"NAME\" LIKE ?\n",
      "2023-09-06 11:01:36,166 INFO sqlalchemy.engine.Engine [cached since 862.8s ago] ('%2',)\n",
      "2023-09-06 11:01:36,174 INFO sqlalchemy.engine.Engine INSERT INTO \"T_D\" (\"NAME\", \"FK1\", \"FK2\") VALUES (?, ?, ?)\n",
      "2023-09-06 11:01:36,176 INFO sqlalchemy.engine.Engine [cached since 0.4319s ago] ('4앨범_장르2_노래3', 4, 2)\n",
      "2023-09-06 11:01:36,176 INFO sqlalchemy.engine.Engine SELECT \"T_A\".\"PK\" \n",
      "FROM \"T_A\" \n",
      "WHERE \"T_A\".\"NAME\" LIKE ?\n",
      "2023-09-06 11:01:36,176 INFO sqlalchemy.engine.Engine [cached since 862.8s ago] ('%2',)\n",
      "2023-09-06 11:01:36,176 INFO sqlalchemy.engine.Engine INSERT INTO \"T_D\" (\"NAME\", \"FK1\", \"FK2\") VALUES (?, ?, ?)\n",
      "2023-09-06 11:01:36,183 INFO sqlalchemy.engine.Engine [cached since 0.44s ago] ('4앨범_장르2_노래4', 4, 2)\n",
      "2023-09-06 11:01:36,183 INFO sqlalchemy.engine.Engine SELECT \"T_A\".\"PK\" \n",
      "FROM \"T_A\" \n",
      "WHERE \"T_A\".\"NAME\" LIKE ?\n",
      "2023-09-06 11:01:36,183 INFO sqlalchemy.engine.Engine [cached since 862.8s ago] ('%3',)\n",
      "2023-09-06 11:01:36,183 INFO sqlalchemy.engine.Engine INSERT INTO \"T_D\" (\"NAME\", \"FK1\", \"FK2\") VALUES (?, ?, ?)\n",
      "2023-09-06 11:01:36,191 INFO sqlalchemy.engine.Engine [cached since 0.4476s ago] ('4앨범_장르3_노래1', 4, 3)\n",
      "2023-09-06 11:01:36,191 INFO sqlalchemy.engine.Engine SELECT \"T_A\".\"PK\" \n",
      "FROM \"T_A\" \n",
      "WHERE \"T_A\".\"NAME\" LIKE ?\n",
      "2023-09-06 11:01:36,191 INFO sqlalchemy.engine.Engine [cached since 862.8s ago] ('%3',)\n",
      "2023-09-06 11:01:36,191 INFO sqlalchemy.engine.Engine INSERT INTO \"T_D\" (\"NAME\", \"FK1\", \"FK2\") VALUES (?, ?, ?)\n",
      "2023-09-06 11:01:36,191 INFO sqlalchemy.engine.Engine [cached since 0.4547s ago] ('4앨범_장르3_노래2', 4, 3)\n",
      "2023-09-06 11:01:36,199 INFO sqlalchemy.engine.Engine SELECT \"T_A\".\"PK\" \n",
      "FROM \"T_A\" \n",
      "WHERE \"T_A\".\"NAME\" LIKE ?\n",
      "2023-09-06 11:01:36,199 INFO sqlalchemy.engine.Engine [cached since 862.9s ago] ('%3',)\n",
      "2023-09-06 11:01:36,199 INFO sqlalchemy.engine.Engine INSERT INTO \"T_D\" (\"NAME\", \"FK1\", \"FK2\") VALUES (?, ?, ?)\n",
      "2023-09-06 11:01:36,199 INFO sqlalchemy.engine.Engine [cached since 0.4629s ago] ('4앨범_장르3_노래3', 4, 3)\n",
      "2023-09-06 11:01:36,208 INFO sqlalchemy.engine.Engine SELECT \"T_A\".\"PK\" \n",
      "FROM \"T_A\" \n",
      "WHERE \"T_A\".\"NAME\" LIKE ?\n",
      "2023-09-06 11:01:36,211 INFO sqlalchemy.engine.Engine [cached since 862.9s ago] ('%3',)\n",
      "2023-09-06 11:01:36,215 INFO sqlalchemy.engine.Engine INSERT INTO \"T_D\" (\"NAME\", \"FK1\", \"FK2\") VALUES (?, ?, ?)\n",
      "2023-09-06 11:01:36,215 INFO sqlalchemy.engine.Engine [cached since 0.4728s ago] ('4앨범_장르3_노래4', 4, 3)\n",
      "2023-09-06 11:01:36,215 INFO sqlalchemy.engine.Engine SELECT \"T_A\".\"PK\" \n",
      "FROM \"T_A\" \n",
      "WHERE \"T_A\".\"NAME\" LIKE ?\n",
      "2023-09-06 11:01:36,215 INFO sqlalchemy.engine.Engine [cached since 862.9s ago] ('%4',)\n",
      "2023-09-06 11:01:36,215 INFO sqlalchemy.engine.Engine INSERT INTO \"T_D\" (\"NAME\", \"FK1\", \"FK2\") VALUES (?, ?, ?)\n",
      "2023-09-06 11:01:36,223 INFO sqlalchemy.engine.Engine [cached since 0.48s ago] ('4앨범_장르4_노래1', 4, 4)\n",
      "2023-09-06 11:01:36,226 INFO sqlalchemy.engine.Engine SELECT \"T_A\".\"PK\" \n",
      "FROM \"T_A\" \n",
      "WHERE \"T_A\".\"NAME\" LIKE ?\n",
      "2023-09-06 11:01:36,226 INFO sqlalchemy.engine.Engine [cached since 862.9s ago] ('%4',)\n",
      "2023-09-06 11:01:36,231 INFO sqlalchemy.engine.Engine INSERT INTO \"T_D\" (\"NAME\", \"FK1\", \"FK2\") VALUES (?, ?, ?)\n",
      "2023-09-06 11:01:36,231 INFO sqlalchemy.engine.Engine [cached since 0.4899s ago] ('4앨범_장르4_노래2', 4, 4)\n",
      "2023-09-06 11:01:36,231 INFO sqlalchemy.engine.Engine SELECT \"T_A\".\"PK\" \n",
      "FROM \"T_A\" \n",
      "WHERE \"T_A\".\"NAME\" LIKE ?\n",
      "2023-09-06 11:01:36,231 INFO sqlalchemy.engine.Engine [cached since 862.9s ago] ('%4',)\n",
      "2023-09-06 11:01:36,255 INFO sqlalchemy.engine.Engine INSERT INTO \"T_D\" (\"NAME\", \"FK1\", \"FK2\") VALUES (?, ?, ?)\n",
      "2023-09-06 11:01:36,263 INFO sqlalchemy.engine.Engine [cached since 0.5198s ago] ('4앨범_장르4_노래3', 4, 4)\n",
      "2023-09-06 11:01:36,263 INFO sqlalchemy.engine.Engine SELECT \"T_A\".\"PK\" \n",
      "FROM \"T_A\" \n",
      "WHERE \"T_A\".\"NAME\" LIKE ?\n",
      "2023-09-06 11:01:36,263 INFO sqlalchemy.engine.Engine [cached since 862.9s ago] ('%4',)\n",
      "2023-09-06 11:01:36,263 INFO sqlalchemy.engine.Engine INSERT INTO \"T_D\" (\"NAME\", \"FK1\", \"FK2\") VALUES (?, ?, ?)\n",
      "2023-09-06 11:01:36,271 INFO sqlalchemy.engine.Engine [cached since 0.528s ago] ('4앨범_장르4_노래4', 4, 4)\n",
      "2023-09-06 11:01:36,271 INFO sqlalchemy.engine.Engine SELECT \"T_A\".\"PK\" \n",
      "FROM \"T_A\" \n",
      "WHERE \"T_A\".\"NAME\" LIKE ?\n",
      "2023-09-06 11:01:36,271 INFO sqlalchemy.engine.Engine [cached since 862.9s ago] ('%1',)\n",
      "2023-09-06 11:01:36,271 INFO sqlalchemy.engine.Engine INSERT INTO \"T_D\" (\"NAME\", \"FK1\", \"FK2\") VALUES (?, ?, ?)\n",
      "2023-09-06 11:01:36,279 INFO sqlalchemy.engine.Engine [cached since 0.5363s ago] ('5앨범_장르1_노래1', 5, 1)\n",
      "2023-09-06 11:01:36,279 INFO sqlalchemy.engine.Engine SELECT \"T_A\".\"PK\" \n",
      "FROM \"T_A\" \n",
      "WHERE \"T_A\".\"NAME\" LIKE ?\n",
      "2023-09-06 11:01:36,279 INFO sqlalchemy.engine.Engine [cached since 862.9s ago] ('%1',)\n",
      "2023-09-06 11:01:36,279 INFO sqlalchemy.engine.Engine INSERT INTO \"T_D\" (\"NAME\", \"FK1\", \"FK2\") VALUES (?, ?, ?)\n",
      "2023-09-06 11:01:36,279 INFO sqlalchemy.engine.Engine [cached since 0.5431s ago] ('5앨범_장르1_노래2', 5, 1)\n",
      "2023-09-06 11:01:36,287 INFO sqlalchemy.engine.Engine SELECT \"T_A\".\"PK\" \n",
      "FROM \"T_A\" \n",
      "WHERE \"T_A\".\"NAME\" LIKE ?\n",
      "2023-09-06 11:01:36,287 INFO sqlalchemy.engine.Engine [cached since 862.9s ago] ('%1',)\n",
      "2023-09-06 11:01:36,287 INFO sqlalchemy.engine.Engine INSERT INTO \"T_D\" (\"NAME\", \"FK1\", \"FK2\") VALUES (?, ?, ?)\n",
      "2023-09-06 11:01:36,287 INFO sqlalchemy.engine.Engine [cached since 0.5502s ago] ('5앨범_장르1_노래3', 5, 1)\n",
      "2023-09-06 11:01:36,296 INFO sqlalchemy.engine.Engine SELECT \"T_A\".\"PK\" \n",
      "FROM \"T_A\" \n",
      "WHERE \"T_A\".\"NAME\" LIKE ?\n",
      "2023-09-06 11:01:36,296 INFO sqlalchemy.engine.Engine [cached since 862.9s ago] ('%1',)\n",
      "2023-09-06 11:01:36,296 INFO sqlalchemy.engine.Engine INSERT INTO \"T_D\" (\"NAME\", \"FK1\", \"FK2\") VALUES (?, ?, ?)\n",
      "2023-09-06 11:01:36,296 INFO sqlalchemy.engine.Engine [cached since 0.5583s ago] ('5앨범_장르1_노래4', 5, 1)\n",
      "2023-09-06 11:01:36,304 INFO sqlalchemy.engine.Engine SELECT \"T_A\".\"PK\" \n",
      "FROM \"T_A\" \n",
      "WHERE \"T_A\".\"NAME\" LIKE ?\n",
      "2023-09-06 11:01:36,304 INFO sqlalchemy.engine.Engine [cached since 863s ago] ('%2',)\n",
      "2023-09-06 11:01:36,304 INFO sqlalchemy.engine.Engine INSERT INTO \"T_D\" (\"NAME\", \"FK1\", \"FK2\") VALUES (?, ?, ?)\n",
      "2023-09-06 11:01:36,304 INFO sqlalchemy.engine.Engine [cached since 0.5655s ago] ('5앨범_장르2_노래1', 5, 2)\n",
      "2023-09-06 11:01:36,311 INFO sqlalchemy.engine.Engine SELECT \"T_A\".\"PK\" \n",
      "FROM \"T_A\" \n",
      "WHERE \"T_A\".\"NAME\" LIKE ?\n",
      "2023-09-06 11:01:36,312 INFO sqlalchemy.engine.Engine [cached since 863s ago] ('%2',)\n",
      "2023-09-06 11:01:36,312 INFO sqlalchemy.engine.Engine INSERT INTO \"T_D\" (\"NAME\", \"FK1\", \"FK2\") VALUES (?, ?, ?)\n",
      "2023-09-06 11:01:36,312 INFO sqlalchemy.engine.Engine [cached since 0.5726s ago] ('5앨범_장르2_노래2', 5, 2)\n",
      "2023-09-06 11:01:36,312 INFO sqlalchemy.engine.Engine SELECT \"T_A\".\"PK\" \n",
      "FROM \"T_A\" \n",
      "WHERE \"T_A\".\"NAME\" LIKE ?\n",
      "2023-09-06 11:01:36,312 INFO sqlalchemy.engine.Engine [cached since 863s ago] ('%2',)\n",
      "2023-09-06 11:01:36,312 INFO sqlalchemy.engine.Engine INSERT INTO \"T_D\" (\"NAME\", \"FK1\", \"FK2\") VALUES (?, ?, ?)\n",
      "2023-09-06 11:01:36,320 INFO sqlalchemy.engine.Engine [cached since 0.5773s ago] ('5앨범_장르2_노래3', 5, 2)\n",
      "2023-09-06 11:01:36,320 INFO sqlalchemy.engine.Engine SELECT \"T_A\".\"PK\" \n",
      "FROM \"T_A\" \n",
      "WHERE \"T_A\".\"NAME\" LIKE ?\n",
      "2023-09-06 11:01:36,320 INFO sqlalchemy.engine.Engine [cached since 863s ago] ('%2',)\n",
      "2023-09-06 11:01:36,320 INFO sqlalchemy.engine.Engine INSERT INTO \"T_D\" (\"NAME\", \"FK1\", \"FK2\") VALUES (?, ?, ?)\n",
      "2023-09-06 11:01:36,329 INFO sqlalchemy.engine.Engine [cached since 0.5855s ago] ('5앨범_장르2_노래4', 5, 2)\n",
      "2023-09-06 11:01:36,329 INFO sqlalchemy.engine.Engine SELECT \"T_A\".\"PK\" \n",
      "FROM \"T_A\" \n",
      "WHERE \"T_A\".\"NAME\" LIKE ?\n",
      "2023-09-06 11:01:36,329 INFO sqlalchemy.engine.Engine [cached since 863s ago] ('%3',)\n",
      "2023-09-06 11:01:36,329 INFO sqlalchemy.engine.Engine INSERT INTO \"T_D\" (\"NAME\", \"FK1\", \"FK2\") VALUES (?, ?, ?)\n",
      "2023-09-06 11:01:36,336 INFO sqlalchemy.engine.Engine [cached since 0.5933s ago] ('5앨범_장르3_노래1', 5, 3)\n",
      "2023-09-06 11:01:36,336 INFO sqlalchemy.engine.Engine SELECT \"T_A\".\"PK\" \n",
      "FROM \"T_A\" \n",
      "WHERE \"T_A\".\"NAME\" LIKE ?\n",
      "2023-09-06 11:01:36,336 INFO sqlalchemy.engine.Engine [cached since 863s ago] ('%3',)\n",
      "2023-09-06 11:01:36,336 INFO sqlalchemy.engine.Engine INSERT INTO \"T_D\" (\"NAME\", \"FK1\", \"FK2\") VALUES (?, ?, ?)\n",
      "2023-09-06 11:01:36,336 INFO sqlalchemy.engine.Engine [cached since 0.6s ago] ('5앨범_장르3_노래2', 5, 3)\n",
      "2023-09-06 11:01:36,345 INFO sqlalchemy.engine.Engine SELECT \"T_A\".\"PK\" \n",
      "FROM \"T_A\" \n",
      "WHERE \"T_A\".\"NAME\" LIKE ?\n",
      "2023-09-06 11:01:36,345 INFO sqlalchemy.engine.Engine [cached since 863s ago] ('%3',)\n",
      "2023-09-06 11:01:36,345 INFO sqlalchemy.engine.Engine INSERT INTO \"T_D\" (\"NAME\", \"FK1\", \"FK2\") VALUES (?, ?, ?)\n",
      "2023-09-06 11:01:36,345 INFO sqlalchemy.engine.Engine [cached since 0.6061s ago] ('5앨범_장르3_노래3', 5, 3)\n",
      "2023-09-06 11:01:36,345 INFO sqlalchemy.engine.Engine SELECT \"T_A\".\"PK\" \n",
      "FROM \"T_A\" \n",
      "WHERE \"T_A\".\"NAME\" LIKE ?\n",
      "2023-09-06 11:01:36,353 INFO sqlalchemy.engine.Engine [cached since 863s ago] ('%3',)\n",
      "2023-09-06 11:01:36,353 INFO sqlalchemy.engine.Engine INSERT INTO \"T_D\" (\"NAME\", \"FK1\", \"FK2\") VALUES (?, ?, ?)\n",
      "2023-09-06 11:01:36,353 INFO sqlalchemy.engine.Engine [cached since 0.6136s ago] ('5앨범_장르3_노래4', 5, 3)\n",
      "2023-09-06 11:01:36,353 INFO sqlalchemy.engine.Engine SELECT \"T_A\".\"PK\" \n",
      "FROM \"T_A\" \n",
      "WHERE \"T_A\".\"NAME\" LIKE ?\n",
      "2023-09-06 11:01:36,353 INFO sqlalchemy.engine.Engine [cached since 863s ago] ('%4',)\n",
      "2023-09-06 11:01:36,361 INFO sqlalchemy.engine.Engine INSERT INTO \"T_D\" (\"NAME\", \"FK1\", \"FK2\") VALUES (?, ?, ?)\n",
      "2023-09-06 11:01:36,361 INFO sqlalchemy.engine.Engine [cached since 0.6203s ago] ('5앨범_장르4_노래1', 5, 4)\n",
      "2023-09-06 11:01:36,361 INFO sqlalchemy.engine.Engine SELECT \"T_A\".\"PK\" \n",
      "FROM \"T_A\" \n",
      "WHERE \"T_A\".\"NAME\" LIKE ?\n",
      "2023-09-06 11:01:36,361 INFO sqlalchemy.engine.Engine [cached since 863s ago] ('%4',)\n",
      "2023-09-06 11:01:36,361 INFO sqlalchemy.engine.Engine INSERT INTO \"T_D\" (\"NAME\", \"FK1\", \"FK2\") VALUES (?, ?, ?)\n",
      "2023-09-06 11:01:36,370 INFO sqlalchemy.engine.Engine [cached since 0.6266s ago] ('5앨범_장르4_노래2', 5, 4)\n",
      "2023-09-06 11:01:36,370 INFO sqlalchemy.engine.Engine SELECT \"T_A\".\"PK\" \n",
      "FROM \"T_A\" \n",
      "WHERE \"T_A\".\"NAME\" LIKE ?\n",
      "2023-09-06 11:01:36,370 INFO sqlalchemy.engine.Engine [cached since 863s ago] ('%4',)\n",
      "2023-09-06 11:01:36,378 INFO sqlalchemy.engine.Engine INSERT INTO \"T_D\" (\"NAME\", \"FK1\", \"FK2\") VALUES (?, ?, ?)\n",
      "2023-09-06 11:01:36,378 INFO sqlalchemy.engine.Engine [cached since 0.6364s ago] ('5앨범_장르4_노래3', 5, 4)\n",
      "2023-09-06 11:01:36,378 INFO sqlalchemy.engine.Engine SELECT \"T_A\".\"PK\" \n",
      "FROM \"T_A\" \n",
      "WHERE \"T_A\".\"NAME\" LIKE ?\n",
      "2023-09-06 11:01:36,378 INFO sqlalchemy.engine.Engine [cached since 863s ago] ('%4',)\n",
      "2023-09-06 11:01:36,386 INFO sqlalchemy.engine.Engine INSERT INTO \"T_D\" (\"NAME\", \"FK1\", \"FK2\") VALUES (?, ?, ?)\n",
      "2023-09-06 11:01:36,386 INFO sqlalchemy.engine.Engine [cached since 0.6434s ago] ('5앨범_장르4_노래4', 5, 4)\n",
      "2023-09-06 11:01:36,386 INFO sqlalchemy.engine.Engine SELECT \"T_A\".\"PK\" \n",
      "FROM \"T_A\" \n",
      "WHERE \"T_A\".\"NAME\" LIKE ?\n",
      "2023-09-06 11:01:36,386 INFO sqlalchemy.engine.Engine [cached since 863s ago] ('%1',)\n",
      "2023-09-06 11:01:36,386 INFO sqlalchemy.engine.Engine INSERT INTO \"T_D\" (\"NAME\", \"FK1\", \"FK2\") VALUES (?, ?, ?)\n",
      "2023-09-06 11:01:36,386 INFO sqlalchemy.engine.Engine [cached since 0.6501s ago] ('6앨범_장르1_노래1', 6, 1)\n",
      "2023-09-06 11:01:36,394 INFO sqlalchemy.engine.Engine SELECT \"T_A\".\"PK\" \n",
      "FROM \"T_A\" \n",
      "WHERE \"T_A\".\"NAME\" LIKE ?\n",
      "2023-09-06 11:01:36,394 INFO sqlalchemy.engine.Engine [cached since 863s ago] ('%1',)\n",
      "2023-09-06 11:01:36,394 INFO sqlalchemy.engine.Engine INSERT INTO \"T_D\" (\"NAME\", \"FK1\", \"FK2\") VALUES (?, ?, ?)\n",
      "2023-09-06 11:01:36,394 INFO sqlalchemy.engine.Engine [cached since 0.657s ago] ('6앨범_장르1_노래2', 6, 1)\n",
      "2023-09-06 11:01:36,402 INFO sqlalchemy.engine.Engine SELECT \"T_A\".\"PK\" \n",
      "FROM \"T_A\" \n",
      "WHERE \"T_A\".\"NAME\" LIKE ?\n",
      "2023-09-06 11:01:36,402 INFO sqlalchemy.engine.Engine [cached since 863.1s ago] ('%1',)\n",
      "2023-09-06 11:01:36,402 INFO sqlalchemy.engine.Engine INSERT INTO \"T_D\" (\"NAME\", \"FK1\", \"FK2\") VALUES (?, ?, ?)\n",
      "2023-09-06 11:01:36,402 INFO sqlalchemy.engine.Engine [cached since 0.6633s ago] ('6앨범_장르1_노래3', 6, 1)\n",
      "2023-09-06 11:01:36,402 INFO sqlalchemy.engine.Engine SELECT \"T_A\".\"PK\" \n",
      "FROM \"T_A\" \n",
      "WHERE \"T_A\".\"NAME\" LIKE ?\n",
      "2023-09-06 11:01:36,402 INFO sqlalchemy.engine.Engine [cached since 863.1s ago] ('%1',)\n",
      "2023-09-06 11:01:36,411 INFO sqlalchemy.engine.Engine INSERT INTO \"T_D\" (\"NAME\", \"FK1\", \"FK2\") VALUES (?, ?, ?)\n",
      "2023-09-06 11:01:36,411 INFO sqlalchemy.engine.Engine [cached since 0.669s ago] ('6앨범_장르1_노래4', 6, 1)\n",
      "2023-09-06 11:01:36,411 INFO sqlalchemy.engine.Engine SELECT \"T_A\".\"PK\" \n",
      "FROM \"T_A\" \n",
      "WHERE \"T_A\".\"NAME\" LIKE ?\n",
      "2023-09-06 11:01:36,411 INFO sqlalchemy.engine.Engine [cached since 863.1s ago] ('%2',)\n",
      "2023-09-06 11:01:36,419 INFO sqlalchemy.engine.Engine INSERT INTO \"T_D\" (\"NAME\", \"FK1\", \"FK2\") VALUES (?, ?, ?)\n",
      "2023-09-06 11:01:36,419 INFO sqlalchemy.engine.Engine [cached since 0.6779s ago] ('6앨범_장르2_노래1', 6, 2)\n",
      "2023-09-06 11:01:36,419 INFO sqlalchemy.engine.Engine SELECT \"T_A\".\"PK\" \n",
      "FROM \"T_A\" \n",
      "WHERE \"T_A\".\"NAME\" LIKE ?\n",
      "2023-09-06 11:01:36,419 INFO sqlalchemy.engine.Engine [cached since 863.1s ago] ('%2',)\n",
      "2023-09-06 11:01:36,427 INFO sqlalchemy.engine.Engine INSERT INTO \"T_D\" (\"NAME\", \"FK1\", \"FK2\") VALUES (?, ?, ?)\n",
      "2023-09-06 11:01:36,427 INFO sqlalchemy.engine.Engine [cached since 0.6853s ago] ('6앨범_장르2_노래2', 6, 2)\n",
      "2023-09-06 11:01:36,427 INFO sqlalchemy.engine.Engine SELECT \"T_A\".\"PK\" \n",
      "FROM \"T_A\" \n",
      "WHERE \"T_A\".\"NAME\" LIKE ?\n",
      "2023-09-06 11:01:36,427 INFO sqlalchemy.engine.Engine [cached since 863.1s ago] ('%2',)\n",
      "2023-09-06 11:01:36,427 INFO sqlalchemy.engine.Engine INSERT INTO \"T_D\" (\"NAME\", \"FK1\", \"FK2\") VALUES (?, ?, ?)\n",
      "2023-09-06 11:01:36,435 INFO sqlalchemy.engine.Engine [cached since 0.6922s ago] ('6앨범_장르2_노래3', 6, 2)\n",
      "2023-09-06 11:01:36,435 INFO sqlalchemy.engine.Engine SELECT \"T_A\".\"PK\" \n",
      "FROM \"T_A\" \n",
      "WHERE \"T_A\".\"NAME\" LIKE ?\n",
      "2023-09-06 11:01:36,435 INFO sqlalchemy.engine.Engine [cached since 863.1s ago] ('%2',)\n",
      "2023-09-06 11:01:36,435 INFO sqlalchemy.engine.Engine INSERT INTO \"T_D\" (\"NAME\", \"FK1\", \"FK2\") VALUES (?, ?, ?)\n",
      "2023-09-06 11:01:36,435 INFO sqlalchemy.engine.Engine [cached since 0.6971s ago] ('6앨범_장르2_노래4', 6, 2)\n",
      "2023-09-06 11:01:36,443 INFO sqlalchemy.engine.Engine SELECT \"T_A\".\"PK\" \n",
      "FROM \"T_A\" \n",
      "WHERE \"T_A\".\"NAME\" LIKE ?\n",
      "2023-09-06 11:01:36,443 INFO sqlalchemy.engine.Engine [cached since 863.1s ago] ('%3',)\n",
      "2023-09-06 11:01:36,443 INFO sqlalchemy.engine.Engine INSERT INTO \"T_D\" (\"NAME\", \"FK1\", \"FK2\") VALUES (?, ?, ?)\n",
      "2023-09-06 11:01:36,443 INFO sqlalchemy.engine.Engine [cached since 0.7067s ago] ('6앨범_장르3_노래1', 6, 3)\n",
      "2023-09-06 11:01:36,451 INFO sqlalchemy.engine.Engine SELECT \"T_A\".\"PK\" \n",
      "FROM \"T_A\" \n",
      "WHERE \"T_A\".\"NAME\" LIKE ?\n",
      "2023-09-06 11:01:36,451 INFO sqlalchemy.engine.Engine [cached since 863.1s ago] ('%3',)\n",
      "2023-09-06 11:01:36,451 INFO sqlalchemy.engine.Engine INSERT INTO \"T_D\" (\"NAME\", \"FK1\", \"FK2\") VALUES (?, ?, ?)\n",
      "2023-09-06 11:01:36,451 INFO sqlalchemy.engine.Engine [cached since 0.7141s ago] ('6앨범_장르3_노래2', 6, 3)\n",
      "2023-09-06 11:01:36,459 INFO sqlalchemy.engine.Engine SELECT \"T_A\".\"PK\" \n",
      "FROM \"T_A\" \n",
      "WHERE \"T_A\".\"NAME\" LIKE ?\n",
      "2023-09-06 11:01:36,459 INFO sqlalchemy.engine.Engine [cached since 863.1s ago] ('%3',)\n",
      "2023-09-06 11:01:36,459 INFO sqlalchemy.engine.Engine INSERT INTO \"T_D\" (\"NAME\", \"FK1\", \"FK2\") VALUES (?, ?, ?)\n",
      "2023-09-06 11:01:36,459 INFO sqlalchemy.engine.Engine [cached since 0.7211s ago] ('6앨범_장르3_노래3', 6, 3)\n",
      "2023-09-06 11:01:36,459 INFO sqlalchemy.engine.Engine SELECT \"T_A\".\"PK\" \n",
      "FROM \"T_A\" \n",
      "WHERE \"T_A\".\"NAME\" LIKE ?\n",
      "2023-09-06 11:01:36,468 INFO sqlalchemy.engine.Engine [cached since 863.1s ago] ('%3',)\n",
      "2023-09-06 11:01:36,468 INFO sqlalchemy.engine.Engine INSERT INTO \"T_D\" (\"NAME\", \"FK1\", \"FK2\") VALUES (?, ?, ?)\n",
      "2023-09-06 11:01:36,468 INFO sqlalchemy.engine.Engine [cached since 0.7279s ago] ('6앨범_장르3_노래4', 6, 3)\n",
      "2023-09-06 11:01:36,468 INFO sqlalchemy.engine.Engine SELECT \"T_A\".\"PK\" \n",
      "FROM \"T_A\" \n",
      "WHERE \"T_A\".\"NAME\" LIKE ?\n",
      "2023-09-06 11:01:36,468 INFO sqlalchemy.engine.Engine [cached since 863.1s ago] ('%4',)\n",
      "2023-09-06 11:01:36,476 INFO sqlalchemy.engine.Engine INSERT INTO \"T_D\" (\"NAME\", \"FK1\", \"FK2\") VALUES (?, ?, ?)\n",
      "2023-09-06 11:01:36,476 INFO sqlalchemy.engine.Engine [cached since 0.7358s ago] ('6앨범_장르4_노래1', 6, 4)\n",
      "2023-09-06 11:01:36,476 INFO sqlalchemy.engine.Engine SELECT \"T_A\".\"PK\" \n",
      "FROM \"T_A\" \n",
      "WHERE \"T_A\".\"NAME\" LIKE ?\n",
      "2023-09-06 11:01:36,476 INFO sqlalchemy.engine.Engine [cached since 863.1s ago] ('%4',)\n",
      "2023-09-06 11:01:36,484 INFO sqlalchemy.engine.Engine INSERT INTO \"T_D\" (\"NAME\", \"FK1\", \"FK2\") VALUES (?, ?, ?)\n",
      "2023-09-06 11:01:36,484 INFO sqlalchemy.engine.Engine [cached since 0.7424s ago] ('6앨범_장르4_노래2', 6, 4)\n",
      "2023-09-06 11:01:36,484 INFO sqlalchemy.engine.Engine SELECT \"T_A\".\"PK\" \n",
      "FROM \"T_A\" \n",
      "WHERE \"T_A\".\"NAME\" LIKE ?\n",
      "2023-09-06 11:01:36,484 INFO sqlalchemy.engine.Engine [cached since 863.1s ago] ('%4',)\n",
      "2023-09-06 11:01:36,492 INFO sqlalchemy.engine.Engine INSERT INTO \"T_D\" (\"NAME\", \"FK1\", \"FK2\") VALUES (?, ?, ?)\n",
      "2023-09-06 11:01:36,492 INFO sqlalchemy.engine.Engine [cached since 0.7498s ago] ('6앨범_장르4_노래3', 6, 4)\n",
      "2023-09-06 11:01:36,492 INFO sqlalchemy.engine.Engine SELECT \"T_A\".\"PK\" \n",
      "FROM \"T_A\" \n",
      "WHERE \"T_A\".\"NAME\" LIKE ?\n",
      "2023-09-06 11:01:36,492 INFO sqlalchemy.engine.Engine [cached since 863.1s ago] ('%4',)\n",
      "2023-09-06 11:01:36,500 INFO sqlalchemy.engine.Engine INSERT INTO \"T_D\" (\"NAME\", \"FK1\", \"FK2\") VALUES (?, ?, ?)\n",
      "2023-09-06 11:01:36,500 INFO sqlalchemy.engine.Engine [cached since 0.7585s ago] ('6앨범_장르4_노래4', 6, 4)\n",
      "2023-09-06 11:01:36,500 INFO sqlalchemy.engine.Engine SELECT \"T_A\".\"PK\" \n",
      "FROM \"T_A\" \n",
      "WHERE \"T_A\".\"NAME\" LIKE ?\n",
      "2023-09-06 11:01:36,500 INFO sqlalchemy.engine.Engine [cached since 863.2s ago] ('%1',)\n",
      "2023-09-06 11:01:36,500 INFO sqlalchemy.engine.Engine INSERT INTO \"T_D\" (\"NAME\", \"FK1\", \"FK2\") VALUES (?, ?, ?)\n",
      "2023-09-06 11:01:36,508 INFO sqlalchemy.engine.Engine [cached since 0.7656s ago] ('7앨범_장르1_노래1', 7, 1)\n",
      "2023-09-06 11:01:36,511 INFO sqlalchemy.engine.Engine SELECT \"T_A\".\"PK\" \n",
      "FROM \"T_A\" \n",
      "WHERE \"T_A\".\"NAME\" LIKE ?\n",
      "2023-09-06 11:01:36,511 INFO sqlalchemy.engine.Engine [cached since 863.2s ago] ('%1',)\n",
      "2023-09-06 11:01:36,516 INFO sqlalchemy.engine.Engine INSERT INTO \"T_D\" (\"NAME\", \"FK1\", \"FK2\") VALUES (?, ?, ?)\n",
      "2023-09-06 11:01:36,516 INFO sqlalchemy.engine.Engine [cached since 0.7741s ago] ('7앨범_장르1_노래2', 7, 1)\n",
      "2023-09-06 11:01:36,516 INFO sqlalchemy.engine.Engine SELECT \"T_A\".\"PK\" \n",
      "FROM \"T_A\" \n",
      "WHERE \"T_A\".\"NAME\" LIKE ?\n",
      "2023-09-06 11:01:36,516 INFO sqlalchemy.engine.Engine [cached since 863.2s ago] ('%1',)\n",
      "2023-09-06 11:01:36,516 INFO sqlalchemy.engine.Engine INSERT INTO \"T_D\" (\"NAME\", \"FK1\", \"FK2\") VALUES (?, ?, ?)\n",
      "2023-09-06 11:01:36,516 INFO sqlalchemy.engine.Engine [cached since 0.7795s ago] ('7앨범_장르1_노래3', 7, 1)\n",
      "2023-09-06 11:01:36,524 INFO sqlalchemy.engine.Engine SELECT \"T_A\".\"PK\" \n",
      "FROM \"T_A\" \n",
      "WHERE \"T_A\".\"NAME\" LIKE ?\n",
      "2023-09-06 11:01:36,524 INFO sqlalchemy.engine.Engine [cached since 863.2s ago] ('%1',)\n",
      "2023-09-06 11:01:36,524 INFO sqlalchemy.engine.Engine INSERT INTO \"T_D\" (\"NAME\", \"FK1\", \"FK2\") VALUES (?, ?, ?)\n",
      "2023-09-06 11:01:36,524 INFO sqlalchemy.engine.Engine [cached since 0.7872s ago] ('7앨범_장르1_노래4', 7, 1)\n",
      "2023-09-06 11:01:36,532 INFO sqlalchemy.engine.Engine SELECT \"T_A\".\"PK\" \n",
      "FROM \"T_A\" \n",
      "WHERE \"T_A\".\"NAME\" LIKE ?\n",
      "2023-09-06 11:01:36,532 INFO sqlalchemy.engine.Engine [cached since 863.2s ago] ('%2',)\n",
      "2023-09-06 11:01:36,532 INFO sqlalchemy.engine.Engine INSERT INTO \"T_D\" (\"NAME\", \"FK1\", \"FK2\") VALUES (?, ?, ?)\n",
      "2023-09-06 11:01:36,532 INFO sqlalchemy.engine.Engine [cached since 0.7943s ago] ('7앨범_장르2_노래1', 7, 2)\n",
      "2023-09-06 11:01:36,540 INFO sqlalchemy.engine.Engine SELECT \"T_A\".\"PK\" \n",
      "FROM \"T_A\" \n",
      "WHERE \"T_A\".\"NAME\" LIKE ?\n",
      "2023-09-06 11:01:36,540 INFO sqlalchemy.engine.Engine [cached since 863.2s ago] ('%2',)\n",
      "2023-09-06 11:01:36,540 INFO sqlalchemy.engine.Engine INSERT INTO \"T_D\" (\"NAME\", \"FK1\", \"FK2\") VALUES (?, ?, ?)\n",
      "2023-09-06 11:01:36,540 INFO sqlalchemy.engine.Engine [cached since 0.801s ago] ('7앨범_장르2_노래2', 7, 2)\n",
      "2023-09-06 11:01:36,540 INFO sqlalchemy.engine.Engine SELECT \"T_A\".\"PK\" \n",
      "FROM \"T_A\" \n",
      "WHERE \"T_A\".\"NAME\" LIKE ?\n",
      "2023-09-06 11:01:36,548 INFO sqlalchemy.engine.Engine [cached since 863.2s ago] ('%2',)\n",
      "2023-09-06 11:01:36,548 INFO sqlalchemy.engine.Engine INSERT INTO \"T_D\" (\"NAME\", \"FK1\", \"FK2\") VALUES (?, ?, ?)\n",
      "2023-09-06 11:01:36,548 INFO sqlalchemy.engine.Engine [cached since 0.809s ago] ('7앨범_장르2_노래3', 7, 2)\n",
      "2023-09-06 11:01:36,548 INFO sqlalchemy.engine.Engine SELECT \"T_A\".\"PK\" \n",
      "FROM \"T_A\" \n",
      "WHERE \"T_A\".\"NAME\" LIKE ?\n",
      "2023-09-06 11:01:36,548 INFO sqlalchemy.engine.Engine [cached since 863.2s ago] ('%2',)\n",
      "2023-09-06 11:01:36,556 INFO sqlalchemy.engine.Engine INSERT INTO \"T_D\" (\"NAME\", \"FK1\", \"FK2\") VALUES (?, ?, ?)\n",
      "2023-09-06 11:01:36,556 INFO sqlalchemy.engine.Engine [cached since 0.8155s ago] ('7앨범_장르2_노래4', 7, 2)\n",
      "2023-09-06 11:01:36,556 INFO sqlalchemy.engine.Engine SELECT \"T_A\".\"PK\" \n",
      "FROM \"T_A\" \n",
      "WHERE \"T_A\".\"NAME\" LIKE ?\n",
      "2023-09-06 11:01:36,556 INFO sqlalchemy.engine.Engine [cached since 863.2s ago] ('%3',)\n",
      "2023-09-06 11:01:36,565 INFO sqlalchemy.engine.Engine INSERT INTO \"T_D\" (\"NAME\", \"FK1\", \"FK2\") VALUES (?, ?, ?)\n",
      "2023-09-06 11:01:36,565 INFO sqlalchemy.engine.Engine [cached since 0.8242s ago] ('7앨범_장르3_노래1', 7, 3)\n",
      "2023-09-06 11:01:36,565 INFO sqlalchemy.engine.Engine SELECT \"T_A\".\"PK\" \n",
      "FROM \"T_A\" \n",
      "WHERE \"T_A\".\"NAME\" LIKE ?\n",
      "2023-09-06 11:01:36,565 INFO sqlalchemy.engine.Engine [cached since 863.2s ago] ('%3',)\n",
      "2023-09-06 11:01:36,573 INFO sqlalchemy.engine.Engine INSERT INTO \"T_D\" (\"NAME\", \"FK1\", \"FK2\") VALUES (?, ?, ?)\n",
      "2023-09-06 11:01:36,573 INFO sqlalchemy.engine.Engine [cached since 0.8308s ago] ('7앨범_장르3_노래2', 7, 3)\n",
      "2023-09-06 11:01:36,575 INFO sqlalchemy.engine.Engine SELECT \"T_A\".\"PK\" \n",
      "FROM \"T_A\" \n",
      "WHERE \"T_A\".\"NAME\" LIKE ?\n",
      "2023-09-06 11:01:36,575 INFO sqlalchemy.engine.Engine [cached since 863.2s ago] ('%3',)\n",
      "2023-09-06 11:01:36,579 INFO sqlalchemy.engine.Engine INSERT INTO \"T_D\" (\"NAME\", \"FK1\", \"FK2\") VALUES (?, ?, ?)\n",
      "2023-09-06 11:01:36,581 INFO sqlalchemy.engine.Engine [cached since 0.8381s ago] ('7앨범_장르3_노래3', 7, 3)\n",
      "2023-09-06 11:01:36,581 INFO sqlalchemy.engine.Engine SELECT \"T_A\".\"PK\" \n",
      "FROM \"T_A\" \n",
      "WHERE \"T_A\".\"NAME\" LIKE ?\n",
      "2023-09-06 11:01:36,581 INFO sqlalchemy.engine.Engine [cached since 863.2s ago] ('%3',)\n",
      "2023-09-06 11:01:36,581 INFO sqlalchemy.engine.Engine INSERT INTO \"T_D\" (\"NAME\", \"FK1\", \"FK2\") VALUES (?, ?, ?)\n",
      "2023-09-06 11:01:36,581 INFO sqlalchemy.engine.Engine [cached since 0.8447s ago] ('7앨범_장르3_노래4', 7, 3)\n",
      "2023-09-06 11:01:36,589 INFO sqlalchemy.engine.Engine SELECT \"T_A\".\"PK\" \n",
      "FROM \"T_A\" \n",
      "WHERE \"T_A\".\"NAME\" LIKE ?\n",
      "2023-09-06 11:01:36,589 INFO sqlalchemy.engine.Engine [cached since 863.2s ago] ('%4',)\n",
      "2023-09-06 11:01:36,589 INFO sqlalchemy.engine.Engine INSERT INTO \"T_D\" (\"NAME\", \"FK1\", \"FK2\") VALUES (?, ?, ?)\n",
      "2023-09-06 11:01:36,600 INFO sqlalchemy.engine.Engine [cached since 0.8561s ago] ('7앨범_장르4_노래1', 7, 4)\n",
      "2023-09-06 11:01:36,602 INFO sqlalchemy.engine.Engine SELECT \"T_A\".\"PK\" \n",
      "FROM \"T_A\" \n",
      "WHERE \"T_A\".\"NAME\" LIKE ?\n",
      "2023-09-06 11:01:36,604 INFO sqlalchemy.engine.Engine [cached since 863.3s ago] ('%4',)\n",
      "2023-09-06 11:01:36,606 INFO sqlalchemy.engine.Engine INSERT INTO \"T_D\" (\"NAME\", \"FK1\", \"FK2\") VALUES (?, ?, ?)\n",
      "2023-09-06 11:01:36,608 INFO sqlalchemy.engine.Engine [cached since 0.8647s ago] ('7앨범_장르4_노래2', 7, 4)\n",
      "2023-09-06 11:01:36,609 INFO sqlalchemy.engine.Engine SELECT \"T_A\".\"PK\" \n",
      "FROM \"T_A\" \n",
      "WHERE \"T_A\".\"NAME\" LIKE ?\n",
      "2023-09-06 11:01:36,611 INFO sqlalchemy.engine.Engine [cached since 863.3s ago] ('%4',)\n",
      "2023-09-06 11:01:36,614 INFO sqlalchemy.engine.Engine INSERT INTO \"T_D\" (\"NAME\", \"FK1\", \"FK2\") VALUES (?, ?, ?)\n",
      "2023-09-06 11:01:36,614 INFO sqlalchemy.engine.Engine [cached since 0.8722s ago] ('7앨범_장르4_노래3', 7, 4)\n",
      "2023-09-06 11:01:36,614 INFO sqlalchemy.engine.Engine SELECT \"T_A\".\"PK\" \n",
      "FROM \"T_A\" \n",
      "WHERE \"T_A\".\"NAME\" LIKE ?\n",
      "2023-09-06 11:01:36,614 INFO sqlalchemy.engine.Engine [cached since 863.3s ago] ('%4',)\n",
      "2023-09-06 11:01:36,622 INFO sqlalchemy.engine.Engine INSERT INTO \"T_D\" (\"NAME\", \"FK1\", \"FK2\") VALUES (?, ?, ?)\n",
      "2023-09-06 11:01:36,622 INFO sqlalchemy.engine.Engine [cached since 0.8804s ago] ('7앨범_장르4_노래4', 7, 4)\n",
      "2023-09-06 11:01:36,622 INFO sqlalchemy.engine.Engine SELECT \"T_A\".\"PK\" \n",
      "FROM \"T_A\" \n",
      "WHERE \"T_A\".\"NAME\" LIKE ?\n",
      "2023-09-06 11:01:36,622 INFO sqlalchemy.engine.Engine [cached since 863.3s ago] ('%1',)\n",
      "2023-09-06 11:01:36,622 INFO sqlalchemy.engine.Engine INSERT INTO \"T_D\" (\"NAME\", \"FK1\", \"FK2\") VALUES (?, ?, ?)\n",
      "2023-09-06 11:01:36,630 INFO sqlalchemy.engine.Engine [cached since 0.8886s ago] ('8앨범_장르1_노래1', 8, 1)\n",
      "2023-09-06 11:01:36,630 INFO sqlalchemy.engine.Engine SELECT \"T_A\".\"PK\" \n",
      "FROM \"T_A\" \n",
      "WHERE \"T_A\".\"NAME\" LIKE ?\n",
      "2023-09-06 11:01:36,630 INFO sqlalchemy.engine.Engine [cached since 863.3s ago] ('%1',)\n",
      "2023-09-06 11:01:36,630 INFO sqlalchemy.engine.Engine INSERT INTO \"T_D\" (\"NAME\", \"FK1\", \"FK2\") VALUES (?, ?, ?)\n",
      "2023-09-06 11:01:36,638 INFO sqlalchemy.engine.Engine [cached since 0.8956s ago] ('8앨범_장르1_노래2', 8, 1)\n",
      "2023-09-06 11:01:36,638 INFO sqlalchemy.engine.Engine SELECT \"T_A\".\"PK\" \n",
      "FROM \"T_A\" \n",
      "WHERE \"T_A\".\"NAME\" LIKE ?\n",
      "2023-09-06 11:01:36,638 INFO sqlalchemy.engine.Engine [cached since 863.3s ago] ('%1',)\n",
      "2023-09-06 11:01:36,638 INFO sqlalchemy.engine.Engine INSERT INTO \"T_D\" (\"NAME\", \"FK1\", \"FK2\") VALUES (?, ?, ?)\n",
      "2023-09-06 11:01:36,638 INFO sqlalchemy.engine.Engine [cached since 0.9011s ago] ('8앨범_장르1_노래3', 8, 1)\n",
      "2023-09-06 11:01:36,646 INFO sqlalchemy.engine.Engine SELECT \"T_A\".\"PK\" \n",
      "FROM \"T_A\" \n",
      "WHERE \"T_A\".\"NAME\" LIKE ?\n",
      "2023-09-06 11:01:36,646 INFO sqlalchemy.engine.Engine [cached since 863.3s ago] ('%1',)\n",
      "2023-09-06 11:01:36,646 INFO sqlalchemy.engine.Engine INSERT INTO \"T_D\" (\"NAME\", \"FK1\", \"FK2\") VALUES (?, ?, ?)\n",
      "2023-09-06 11:01:36,646 INFO sqlalchemy.engine.Engine [cached since 0.9097s ago] ('8앨범_장르1_노래4', 8, 1)\n",
      "2023-09-06 11:01:36,654 INFO sqlalchemy.engine.Engine SELECT \"T_A\".\"PK\" \n",
      "FROM \"T_A\" \n",
      "WHERE \"T_A\".\"NAME\" LIKE ?\n",
      "2023-09-06 11:01:36,654 INFO sqlalchemy.engine.Engine [cached since 863.3s ago] ('%2',)\n",
      "2023-09-06 11:01:36,654 INFO sqlalchemy.engine.Engine INSERT INTO \"T_D\" (\"NAME\", \"FK1\", \"FK2\") VALUES (?, ?, ?)\n",
      "2023-09-06 11:01:36,654 INFO sqlalchemy.engine.Engine [cached since 0.9176s ago] ('8앨범_장르2_노래1', 8, 2)\n",
      "2023-09-06 11:01:36,663 INFO sqlalchemy.engine.Engine SELECT \"T_A\".\"PK\" \n",
      "FROM \"T_A\" \n",
      "WHERE \"T_A\".\"NAME\" LIKE ?\n",
      "2023-09-06 11:01:36,663 INFO sqlalchemy.engine.Engine [cached since 863.3s ago] ('%2',)\n",
      "2023-09-06 11:01:36,667 INFO sqlalchemy.engine.Engine INSERT INTO \"T_D\" (\"NAME\", \"FK1\", \"FK2\") VALUES (?, ?, ?)\n",
      "2023-09-06 11:01:36,670 INFO sqlalchemy.engine.Engine [cached since 0.9268s ago] ('8앨범_장르2_노래2', 8, 2)\n",
      "2023-09-06 11:01:36,670 INFO sqlalchemy.engine.Engine SELECT \"T_A\".\"PK\" \n",
      "FROM \"T_A\" \n",
      "WHERE \"T_A\".\"NAME\" LIKE ?\n",
      "2023-09-06 11:01:36,670 INFO sqlalchemy.engine.Engine [cached since 863.3s ago] ('%2',)\n",
      "2023-09-06 11:01:36,670 INFO sqlalchemy.engine.Engine INSERT INTO \"T_D\" (\"NAME\", \"FK1\", \"FK2\") VALUES (?, ?, ?)\n",
      "2023-09-06 11:01:36,670 INFO sqlalchemy.engine.Engine [cached since 0.934s ago] ('8앨범_장르2_노래3', 8, 2)\n",
      "2023-09-06 11:01:36,678 INFO sqlalchemy.engine.Engine SELECT \"T_A\".\"PK\" \n",
      "FROM \"T_A\" \n",
      "WHERE \"T_A\".\"NAME\" LIKE ?\n",
      "2023-09-06 11:01:36,678 INFO sqlalchemy.engine.Engine [cached since 863.3s ago] ('%2',)\n",
      "2023-09-06 11:01:36,678 INFO sqlalchemy.engine.Engine INSERT INTO \"T_D\" (\"NAME\", \"FK1\", \"FK2\") VALUES (?, ?, ?)\n",
      "2023-09-06 11:01:36,678 INFO sqlalchemy.engine.Engine [cached since 0.9412s ago] ('8앨범_장르2_노래4', 8, 2)\n",
      "2023-09-06 11:01:36,678 INFO sqlalchemy.engine.Engine SELECT \"T_A\".\"PK\" \n",
      "FROM \"T_A\" \n",
      "WHERE \"T_A\".\"NAME\" LIKE ?\n",
      "2023-09-06 11:01:36,687 INFO sqlalchemy.engine.Engine [cached since 863.3s ago] ('%3',)\n",
      "2023-09-06 11:01:36,687 INFO sqlalchemy.engine.Engine INSERT INTO \"T_D\" (\"NAME\", \"FK1\", \"FK2\") VALUES (?, ?, ?)\n",
      "2023-09-06 11:01:36,687 INFO sqlalchemy.engine.Engine [cached since 0.9476s ago] ('8앨범_장르3_노래1', 8, 3)\n",
      "2023-09-06 11:01:36,695 INFO sqlalchemy.engine.Engine SELECT \"T_A\".\"PK\" \n",
      "FROM \"T_A\" \n",
      "WHERE \"T_A\".\"NAME\" LIKE ?\n",
      "2023-09-06 11:01:36,695 INFO sqlalchemy.engine.Engine [cached since 863.3s ago] ('%3',)\n",
      "2023-09-06 11:01:36,695 INFO sqlalchemy.engine.Engine INSERT INTO \"T_D\" (\"NAME\", \"FK1\", \"FK2\") VALUES (?, ?, ?)\n",
      "2023-09-06 11:01:36,695 INFO sqlalchemy.engine.Engine [cached since 0.957s ago] ('8앨범_장르3_노래2', 8, 3)\n",
      "2023-09-06 11:01:36,695 INFO sqlalchemy.engine.Engine SELECT \"T_A\".\"PK\" \n",
      "FROM \"T_A\" \n",
      "WHERE \"T_A\".\"NAME\" LIKE ?\n",
      "2023-09-06 11:01:36,703 INFO sqlalchemy.engine.Engine [cached since 863.4s ago] ('%3',)\n",
      "2023-09-06 11:01:36,703 INFO sqlalchemy.engine.Engine INSERT INTO \"T_D\" (\"NAME\", \"FK1\", \"FK2\") VALUES (?, ?, ?)\n",
      "2023-09-06 11:01:36,703 INFO sqlalchemy.engine.Engine [cached since 0.9631s ago] ('8앨범_장르3_노래3', 8, 3)\n",
      "2023-09-06 11:01:36,703 INFO sqlalchemy.engine.Engine SELECT \"T_A\".\"PK\" \n",
      "FROM \"T_A\" \n",
      "WHERE \"T_A\".\"NAME\" LIKE ?\n",
      "2023-09-06 11:01:36,711 INFO sqlalchemy.engine.Engine [cached since 863.4s ago] ('%3',)\n",
      "2023-09-06 11:01:36,712 INFO sqlalchemy.engine.Engine INSERT INTO \"T_D\" (\"NAME\", \"FK1\", \"FK2\") VALUES (?, ?, ?)\n",
      "2023-09-06 11:01:36,712 INFO sqlalchemy.engine.Engine [cached since 0.9725s ago] ('8앨범_장르3_노래4', 8, 3)\n",
      "2023-09-06 11:01:36,712 INFO sqlalchemy.engine.Engine SELECT \"T_A\".\"PK\" \n",
      "FROM \"T_A\" \n",
      "WHERE \"T_A\".\"NAME\" LIKE ?\n",
      "2023-09-06 11:01:36,719 INFO sqlalchemy.engine.Engine [cached since 863.4s ago] ('%4',)\n",
      "2023-09-06 11:01:36,719 INFO sqlalchemy.engine.Engine INSERT INTO \"T_D\" (\"NAME\", \"FK1\", \"FK2\") VALUES (?, ?, ?)\n",
      "2023-09-06 11:01:36,719 INFO sqlalchemy.engine.Engine [cached since 0.9788s ago] ('8앨범_장르4_노래1', 8, 4)\n",
      "2023-09-06 11:01:36,719 INFO sqlalchemy.engine.Engine SELECT \"T_A\".\"PK\" \n",
      "FROM \"T_A\" \n",
      "WHERE \"T_A\".\"NAME\" LIKE ?\n",
      "2023-09-06 11:01:36,719 INFO sqlalchemy.engine.Engine [cached since 863.4s ago] ('%4',)\n",
      "2023-09-06 11:01:36,727 INFO sqlalchemy.engine.Engine INSERT INTO \"T_D\" (\"NAME\", \"FK1\", \"FK2\") VALUES (?, ?, ?)\n",
      "2023-09-06 11:01:36,728 INFO sqlalchemy.engine.Engine [cached since 0.985s ago] ('8앨범_장르4_노래2', 8, 4)\n",
      "2023-09-06 11:01:36,729 INFO sqlalchemy.engine.Engine SELECT \"T_A\".\"PK\" \n",
      "FROM \"T_A\" \n",
      "WHERE \"T_A\".\"NAME\" LIKE ?\n",
      "2023-09-06 11:01:36,729 INFO sqlalchemy.engine.Engine [cached since 863.4s ago] ('%4',)\n",
      "2023-09-06 11:01:36,736 INFO sqlalchemy.engine.Engine INSERT INTO \"T_D\" (\"NAME\", \"FK1\", \"FK2\") VALUES (?, ?, ?)\n",
      "2023-09-06 11:01:36,736 INFO sqlalchemy.engine.Engine [cached since 0.9942s ago] ('8앨범_장르4_노래3', 8, 4)\n",
      "2023-09-06 11:01:36,736 INFO sqlalchemy.engine.Engine SELECT \"T_A\".\"PK\" \n",
      "FROM \"T_A\" \n",
      "WHERE \"T_A\".\"NAME\" LIKE ?\n",
      "2023-09-06 11:01:36,736 INFO sqlalchemy.engine.Engine [cached since 863.4s ago] ('%4',)\n",
      "2023-09-06 11:01:36,744 INFO sqlalchemy.engine.Engine INSERT INTO \"T_D\" (\"NAME\", \"FK1\", \"FK2\") VALUES (?, ?, ?)\n",
      "2023-09-06 11:01:36,745 INFO sqlalchemy.engine.Engine [cached since 1.002s ago] ('8앨범_장르4_노래4', 8, 4)\n"
     ]
    }
   ],
   "source": [
    "#앨범가져오기 pk값\n",
    "for row in con.execute(select(B.c.PK)).fetchall():\n",
    "    # 1,2,3,4,5,,... 들어있음 \n",
    "    \n",
    "    for key in ['1', '2','3','4']:\n",
    "        for name in ['노래1', '노래2', '노래3', '노래4']:\n",
    "            fk = con.execute(select(A.c.PK).where(\n",
    "                A.c.NAME.like('%'+key))).fetchone()[0]\n",
    "            \n",
    "            \n",
    "            con.execute(D.insert().values(\n",
    "                NAME = f'{row[0]}앨범_장르{key}_{name}',\n",
    "                FK1= row[0], FK2=fk))\n",
    "            # INSERT INTO T_D(NAEM, FK1, FK2) \n",
    "            # VALUES (:name, :row[0], fk)"
   ]
  },
  {
   "cell_type": "code",
   "execution_count": 92,
   "id": "24c1f3c3-cfc8-4989-b3c7-da93b6ed67e1",
   "metadata": {},
   "outputs": [
    {
     "name": "stdout",
     "output_type": "stream",
     "text": [
      "2023-09-06 11:05:08,745 INFO sqlalchemy.engine.Engine SELECT CURRENT_TIMESTAMP AS current_timestamp_1\n",
      "2023-09-06 11:05:08,751 INFO sqlalchemy.engine.Engine [generated in 0.00233s] ()\n"
     ]
    },
    {
     "data": {
      "text/plain": [
       "[(datetime.datetime(2023, 9, 6, 2, 5, 8),)]"
      ]
     },
     "execution_count": 92,
     "metadata": {},
     "output_type": "execute_result"
    }
   ],
   "source": [
    "con.execute(select(func.CURRENT_TIMESTAMP())).fetchall()"
   ]
  },
  {
   "cell_type": "code",
   "execution_count": 93,
   "id": "1c363d0d-dea3-4b2c-83a9-4790af4071e2",
   "metadata": {},
   "outputs": [
    {
     "name": "stdout",
     "output_type": "stream",
     "text": [
      "2023-09-06 11:05:33,987 INFO sqlalchemy.engine.Engine SELECT UPPER(?) AS \"UPPER_1\"\n",
      "2023-09-06 11:05:33,991 INFO sqlalchemy.engine.Engine [generated in 0.00156s] ('abcd',)\n"
     ]
    },
    {
     "data": {
      "text/plain": [
       "[('ABCD',)]"
      ]
     },
     "execution_count": 93,
     "metadata": {},
     "output_type": "execute_result"
    }
   ],
   "source": [
    "con.execute(select(func.UPPER('abcd'))).fetchall()"
   ]
  },
  {
   "cell_type": "code",
   "execution_count": 94,
   "id": "1c81caa3-5433-4e16-b301-3508f287b102",
   "metadata": {},
   "outputs": [],
   "source": [
    "#이렇게 함수를 만들어 쓸 수 있다. \n",
    "#카운트도 할 수 있다."
   ]
  },
  {
   "cell_type": "code",
   "execution_count": 95,
   "id": "23e75aa9-b85c-448a-b399-39c7ffcc0fc4",
   "metadata": {},
   "outputs": [
    {
     "name": "stdout",
     "output_type": "stream",
     "text": [
      "2023-09-06 11:06:02,106 INFO sqlalchemy.engine.Engine SELECT count(\"T_A\".\"PK\") AS count_1 \n",
      "FROM \"T_A\"\n",
      "2023-09-06 11:06:02,107 INFO sqlalchemy.engine.Engine [generated in 0.00228s] ()\n"
     ]
    },
    {
     "data": {
      "text/plain": [
       "[(4,)]"
      ]
     },
     "execution_count": 95,
     "metadata": {},
     "output_type": "execute_result"
    }
   ],
   "source": [
    "con.execute(select(func.count(A.c.PK))).fetchall() #몇개의 로우가 있는지 세어준거다."
   ]
  },
  {
   "cell_type": "code",
   "execution_count": 96,
   "id": "8f2ab7e9-fbef-438c-93b8-c5cec13d98e9",
   "metadata": {},
   "outputs": [
    {
     "name": "stdout",
     "output_type": "stream",
     "text": [
      "2023-09-06 11:06:19,658 INFO sqlalchemy.engine.Engine SELECT sum(\"T_A\".\"PK\") AS sum_1 \n",
      "FROM \"T_A\"\n",
      "2023-09-06 11:06:19,661 INFO sqlalchemy.engine.Engine [generated in 0.00178s] ()\n"
     ]
    },
    {
     "data": {
      "text/plain": [
       "[(10,)]"
      ]
     },
     "execution_count": 96,
     "metadata": {},
     "output_type": "execute_result"
    }
   ],
   "source": [
    "con.execute(select(func.sum(A.c.PK))).fetchall()  #합개를 볼 수 있다.  이렇게 필요한 파라미터가 있으면 함수 형태에 넣으면 된다."
   ]
  },
  {
   "cell_type": "code",
   "execution_count": 97,
   "id": "56ac74a5-c80f-4d36-bd02-e6b0cd53a16d",
   "metadata": {},
   "outputs": [],
   "source": [
    "#각 테이블의 몇개의 로우가 있는지 알 수 있다. "
   ]
  },
  {
   "cell_type": "code",
   "execution_count": 114,
   "id": "a1d36efa-2549-4d0e-8b06-1495c0cc413a",
   "metadata": {},
   "outputs": [
    {
     "name": "stdout",
     "output_type": "stream",
     "text": [
      "2023-09-06 11:24:31,760 INFO sqlalchemy.engine.Engine SELECT count(\"T_A\".\"PK\") AS count_1 \n",
      "FROM \"T_A\"\n",
      "2023-09-06 11:24:31,767 INFO sqlalchemy.engine.Engine [cached since 1110s ago] ()\n",
      "2023-09-06 11:24:31,771 INFO sqlalchemy.engine.Engine SELECT count(\"T_B\".\"PK\") AS count_1 \n",
      "FROM \"T_B\"\n",
      "2023-09-06 11:24:31,772 INFO sqlalchemy.engine.Engine [cached since 1006s ago] ()\n",
      "2023-09-06 11:24:31,774 INFO sqlalchemy.engine.Engine SELECT count(\"T_C\".\"PK\") AS count_1 \n",
      "FROM \"T_C\"\n",
      "2023-09-06 11:24:31,775 INFO sqlalchemy.engine.Engine [cached since 985.6s ago] ()\n",
      "2023-09-06 11:24:31,777 INFO sqlalchemy.engine.Engine SELECT count(\"T_D\".\"PK\") AS count_1 \n",
      "FROM \"T_D\"\n",
      "2023-09-06 11:24:31,779 INFO sqlalchemy.engine.Engine [cached since 985.6s ago] ()\n"
     ]
    },
    {
     "data": {
      "text/plain": [
       "([(4,)], [(8,)], [(4,)], [(128,)])"
      ]
     },
     "execution_count": 114,
     "metadata": {},
     "output_type": "execute_result"
    }
   ],
   "source": [
    "con.execute(select(func.count(A.c.PK))).fetchall(), \\\n",
    "con.execute(select(func.count(B.c.PK))).fetchall(), \\\n",
    "con.execute(select(func.count(C.c.PK))).fetchall(), \\\n",
    "con.execute(select(func.count(D.c.PK))).fetchall() \n",
    "#([(4,)], [(8,)], [(4,)], [(128,)]) 각 문장마다의 결과가 나옴. \n",
    "\n",
    "# con.execute(select(func.count(A.c.PK))).fetchall(),\n",
    "# con.execute(select(func.count(B.c.PK))).fetchall(), \n",
    "# con.execute(select(func.count(C.c.PK))).fetchall(), \n",
    "# con.execute(select(func.count(D.c.PK))).fetchall() \n",
    "#-> [(128,)] 이런 결과가 나옴.."
   ]
  },
  {
   "cell_type": "code",
   "execution_count": 100,
   "id": "3989487b-f5c8-411f-84a3-d5fdcf7830c6",
   "metadata": {},
   "outputs": [],
   "source": [
    "#이제 조인해서 가져오는게 문제임. 이제 조인을 하건데, 우선을 1개만 가져올거임."
   ]
  },
  {
   "cell_type": "code",
   "execution_count": 101,
   "id": "ec8363d4-8ba2-40d7-9232-a3b3a7310556",
   "metadata": {},
   "outputs": [
    {
     "name": "stdout",
     "output_type": "stream",
     "text": [
      "SELECT \"T_A\".\"NAME\", \"T_B\".\"NAME\" AS \"NAME_1\" \n",
      "FROM \"T_A\", \"T_B\" \n",
      "WHERE \"T_A\".\"PK\" = \"T_B\".\"FK\"\n"
     ]
    }
   ],
   "source": [
    "print(select(A.c.NAME, B.c.NAME).where(A.c.PK == B.c.FK)) #어떻게 만들어졌는지 보면 => 크로스 조인임"
   ]
  },
  {
   "cell_type": "code",
   "execution_count": 103,
   "id": "da6a1819-84a5-4cf3-ad03-e532dbb51b4f",
   "metadata": {},
   "outputs": [
    {
     "name": "stdout",
     "output_type": "stream",
     "text": [
      "SELECT \"T_A\".\"NAME\", \"T_B\".\"NAME\" AS \"NAME_1\" \n",
      "FROM \"T_A\" JOIN \"T_B\" ON \"T_A\".\"PK\" = \"T_B\".\"FK\"\n"
     ]
    }
   ],
   "source": [
    "print(select(A.c.NAME, B.c.NAME).select_from(A.join(B)))"
   ]
  },
  {
   "cell_type": "code",
   "execution_count": 116,
   "id": "2c1ffbbc-d713-496d-9e2e-c6ffa79881ef",
   "metadata": {},
   "outputs": [
    {
     "name": "stdout",
     "output_type": "stream",
     "text": [
      "SELECT \"T_A\".\"NAME\", \"T_B\".\"NAME\" AS \"NAME_1\" \n",
      "FROM \"T_A\" JOIN \"T_B\" ON \"T_A\".\"PK\" = \"T_B\".\"FK\"\n",
      "위와 아래의 구문의 결과가 같음.\n",
      "SELECT \"T_A\".\"NAME\", \"T_B\".\"NAME\" AS \"NAME_1\" \n",
      "FROM \"T_A\" JOIN \"T_B\" ON \"T_A\".\"PK\" = \"T_B\".\"FK\"\n"
     ]
    }
   ],
   "source": [
    "#가수-앨범\n",
    "print(select(A.c.NAME, B.c.NAME).join(B))\n",
    "print(\"위와 아래의 구문의 결과가 같음.\")\n",
    "print(select(A.c.NAME, B.c.NAME).join(B, A.c.PK==B.c.FK))"
   ]
  },
  {
   "cell_type": "code",
   "execution_count": 105,
   "id": "070fd27d-f1a1-4925-a4eb-54cbc3d75c7c",
   "metadata": {},
   "outputs": [],
   "source": [
    "#위의 세 구문이 다 같아야 한다. 같은지 보자."
   ]
  },
  {
   "cell_type": "code",
   "execution_count": 106,
   "id": "68d72adc-1110-4819-b9ec-c1b7c8907e65",
   "metadata": {},
   "outputs": [],
   "source": [
    "#낼부터 orm 을 제대로 쓰기 시작할건데, 코어 단에서 어느 부분을 고쳐야하는지를 다 봐야 해서 이러한 과정을 하는거임. "
   ]
  },
  {
   "cell_type": "code",
   "execution_count": 108,
   "id": "5359e72b-a9d0-4abd-a169-547418018f05",
   "metadata": {},
   "outputs": [],
   "source": [
    "#가수를 누르면 몇개의 앨범이 있는지 알 수 있는거임. "
   ]
  },
  {
   "cell_type": "code",
   "execution_count": 110,
   "id": "1bf8b433-e3a1-4feb-9402-d6db2990153a",
   "metadata": {
    "collapsed": true,
    "jupyter": {
     "outputs_hidden": true
    }
   },
   "outputs": [
    {
     "name": "stdout",
     "output_type": "stream",
     "text": [
      "2023-09-06 11:14:32,239 INFO sqlalchemy.engine.Engine SELECT \"T_A\".\"NAME\", count(\"T_B\".\"NAME\") AS count_1 \n",
      "FROM \"T_A\" JOIN \"T_B\" ON \"T_A\".\"PK\" = \"T_B\".\"FK\" GROUP BY \"T_A\".\"NAME\"\n",
      "2023-09-06 11:14:32,239 INFO sqlalchemy.engine.Engine [generated in 0.00187s] ()\n"
     ]
    },
    {
     "data": {
      "text/plain": [
       "[('가수1', 2), ('가수2', 2), ('가수3', 2), ('가수4', 2)]"
      ]
     },
     "execution_count": 110,
     "metadata": {},
     "output_type": "execute_result"
    }
   ],
   "source": [
    "con.execute(select(A.c.NAME, func.count(B.c.NAME)).\\\n",
    "           select_from(A.join(B)).\\\n",
    "           group_by(A.c.NAME)).fetchall()  #group_by를 쓰면 중복사항 제거해서 집계해서 보여준다!"
   ]
  },
  {
   "cell_type": "code",
   "execution_count": null,
   "id": "e37a69ab-6f09-41a0-9cb0-0cfd1c13797f",
   "metadata": {},
   "outputs": [],
   "source": []
  },
  {
   "cell_type": "code",
   "execution_count": 107,
   "id": "a3ebddf8-27ff-46f8-9fd6-0012eb632ca4",
   "metadata": {
    "scrolled": true
   },
   "outputs": [
    {
     "name": "stdout",
     "output_type": "stream",
     "text": [
      "2023-09-06 11:13:08,477 INFO sqlalchemy.engine.Engine SELECT \"T_A\".\"NAME\", \"T_B\".\"NAME\" AS \"NAME_1\" \n",
      "FROM \"T_A\" JOIN \"T_B\" ON \"T_A\".\"PK\" = \"T_B\".\"FK\" ORDER BY \"T_B\".\"PK\"\n",
      "2023-09-06 11:13:08,477 INFO sqlalchemy.engine.Engine [generated in 0.00242s] ()\n"
     ]
    },
    {
     "data": {
      "text/plain": [
       "[('가수1', '가수1_앨범1'),\n",
       " ('가수1', '가수1_앨범2'),\n",
       " ('가수2', '가수2_앨범1'),\n",
       " ('가수2', '가수2_앨범2'),\n",
       " ('가수3', '가수3_앨범1'),\n",
       " ('가수3', '가수3_앨범2'),\n",
       " ('가수4', '가수4_앨범1'),\n",
       " ('가수4', '가수4_앨범2')]"
      ]
     },
     "execution_count": 107,
     "metadata": {},
     "output_type": "execute_result"
    }
   ],
   "source": [
    "\n",
    "con.execute(select(A.c.NAME, B.c.NAME).\\\n",
    "           select_from(A.join(B)).\\\n",
    "           order_by(B.c.PK)).fetchall()"
   ]
  },
  {
   "cell_type": "code",
   "execution_count": 117,
   "id": "e2dd23e5-21f7-4a6a-a5bc-7ba7d7b17f43",
   "metadata": {},
   "outputs": [
    {
     "name": "stdout",
     "output_type": "stream",
     "text": [
      "2023-09-06 11:42:24,872 INFO sqlalchemy.engine.Engine SELECT \"T_A\".\"NAME\", count(\"T_B\".\"NAME\") AS count_1 \n",
      "FROM \"T_A\" JOIN \"T_B\" ON \"T_A\".\"PK\" = \"T_B\".\"FK\" GROUP BY \"T_A\".\"PK\"\n",
      "2023-09-06 11:42:24,872 INFO sqlalchemy.engine.Engine [generated in 0.00167s] ()\n"
     ]
    },
    {
     "data": {
      "text/plain": [
       "[('가수1', 2), ('가수2', 2), ('가수3', 2), ('가수4', 2)]"
      ]
     },
     "execution_count": 117,
     "metadata": {},
     "output_type": "execute_result"
    }
   ],
   "source": [
    "con.execute(select(A.c.NAME, func.count(B.c.NAME)).\\\n",
    "           select_from(A.join(B)).\\\n",
    "           group_by(A.c.PK)).fetchall()"
   ]
  },
  {
   "cell_type": "code",
   "execution_count": 120,
   "id": "a81e9fb0-c1c7-48df-9904-2d5ce266955a",
   "metadata": {},
   "outputs": [
    {
     "name": "stdout",
     "output_type": "stream",
     "text": [
      "SELECT \"T_A\".\"NAME\", \"T_B\".\"NAME\" AS \"NAME_1\", \"T_D\".\"NAME\" AS \"NAME_2\" \n",
      "FROM \"T_A\" JOIN (\"T_B\" JOIN \"T_D\" ON \"T_B\".\"PK\" = \"T_D\".\"FK1\") ON \"T_A\".\"PK\" = \"T_B\".\"FK\"\n",
      "SELECT \"T_A\".\"NAME\", \"T_B\".\"NAME\" AS \"NAME_1\", \"T_D\".\"NAME\" AS \"NAME_2\" \n",
      "FROM \"T_D\" JOIN (\"T_B\" JOIN \"T_A\" ON \"T_A\".\"PK\" = \"T_B\".\"FK\") ON \"T_B\".\"PK\" = \"T_D\".\"FK1\"\n"
     ]
    }
   ],
   "source": [
    "#가수-앨범-노래\n",
    "print(select(A.c.NAME, B.c.NAME, D.c.NAME).\\\n",
    "     select_from(A.join(B.join(D)))\n",
    "     )\n",
    "#위에것은 PK=FK REFERENCE 가정하에\n",
    "#join(T_A, join(T_B, T_D)) 라는 뜻임\n",
    "\n",
    "\n",
    "# print(select(A.c.NAME, B.c.NAME, D.c.NAME).\\\n",
    "#       select_from(D.join(B.join(A)))\n",
    "#      )\n",
    "#근데 이렇게 쓰지 말래. 위에 구문 쓰래."
   ]
  },
  {
   "cell_type": "code",
   "execution_count": 121,
   "id": "f338d119-6c71-429b-9ba2-e04cf9e8c125",
   "metadata": {
    "scrolled": true
   },
   "outputs": [
    {
     "name": "stdout",
     "output_type": "stream",
     "text": [
      "2023-09-06 11:46:09,275 INFO sqlalchemy.engine.Engine SELECT \"T_A\".\"NAME\", \"T_B\".\"NAME\" AS \"NAME_1\", \"T_D\".\"NAME\" AS \"NAME_2\" \n",
      "FROM \"T_A\" JOIN (\"T_B\" JOIN \"T_D\" ON \"T_B\".\"PK\" = \"T_D\".\"FK1\") ON \"T_A\".\"PK\" = \"T_B\".\"FK\"\n",
      "2023-09-06 11:46:09,275 INFO sqlalchemy.engine.Engine [generated in 0.00179s] ()\n"
     ]
    },
    {
     "data": {
      "text/plain": [
       "[('가수1', '가수1_앨범1', '1앨범_장르1_노래1'),\n",
       " ('가수1', '가수1_앨범1', '1앨범_장르1_노래2'),\n",
       " ('가수1', '가수1_앨범1', '1앨범_장르1_노래3'),\n",
       " ('가수1', '가수1_앨범1', '1앨범_장르1_노래4'),\n",
       " ('가수1', '가수1_앨범1', '1앨범_장르2_노래1'),\n",
       " ('가수1', '가수1_앨범1', '1앨범_장르2_노래2'),\n",
       " ('가수1', '가수1_앨범1', '1앨범_장르2_노래3'),\n",
       " ('가수1', '가수1_앨범1', '1앨범_장르2_노래4'),\n",
       " ('가수1', '가수1_앨범1', '1앨범_장르3_노래1'),\n",
       " ('가수1', '가수1_앨범1', '1앨범_장르3_노래2'),\n",
       " ('가수1', '가수1_앨범1', '1앨범_장르3_노래3'),\n",
       " ('가수1', '가수1_앨범1', '1앨범_장르3_노래4'),\n",
       " ('가수1', '가수1_앨범1', '1앨범_장르4_노래1'),\n",
       " ('가수1', '가수1_앨범1', '1앨범_장르4_노래2'),\n",
       " ('가수1', '가수1_앨범1', '1앨범_장르4_노래3'),\n",
       " ('가수1', '가수1_앨범1', '1앨범_장르4_노래4'),\n",
       " ('가수1', '가수1_앨범2', '2앨범_장르1_노래1'),\n",
       " ('가수1', '가수1_앨범2', '2앨범_장르1_노래2'),\n",
       " ('가수1', '가수1_앨범2', '2앨범_장르1_노래3'),\n",
       " ('가수1', '가수1_앨범2', '2앨범_장르1_노래4'),\n",
       " ('가수1', '가수1_앨범2', '2앨범_장르2_노래1'),\n",
       " ('가수1', '가수1_앨범2', '2앨범_장르2_노래2'),\n",
       " ('가수1', '가수1_앨범2', '2앨범_장르2_노래3'),\n",
       " ('가수1', '가수1_앨범2', '2앨범_장르2_노래4'),\n",
       " ('가수1', '가수1_앨범2', '2앨범_장르3_노래1'),\n",
       " ('가수1', '가수1_앨범2', '2앨범_장르3_노래2'),\n",
       " ('가수1', '가수1_앨범2', '2앨범_장르3_노래3'),\n",
       " ('가수1', '가수1_앨범2', '2앨범_장르3_노래4'),\n",
       " ('가수1', '가수1_앨범2', '2앨범_장르4_노래1'),\n",
       " ('가수1', '가수1_앨범2', '2앨범_장르4_노래2'),\n",
       " ('가수1', '가수1_앨범2', '2앨범_장르4_노래3'),\n",
       " ('가수1', '가수1_앨범2', '2앨범_장르4_노래4'),\n",
       " ('가수2', '가수2_앨범1', '3앨범_장르1_노래1'),\n",
       " ('가수2', '가수2_앨범1', '3앨범_장르1_노래2'),\n",
       " ('가수2', '가수2_앨범1', '3앨범_장르1_노래3'),\n",
       " ('가수2', '가수2_앨범1', '3앨범_장르1_노래4'),\n",
       " ('가수2', '가수2_앨범1', '3앨범_장르2_노래1'),\n",
       " ('가수2', '가수2_앨범1', '3앨범_장르2_노래2'),\n",
       " ('가수2', '가수2_앨범1', '3앨범_장르2_노래3'),\n",
       " ('가수2', '가수2_앨범1', '3앨범_장르2_노래4'),\n",
       " ('가수2', '가수2_앨범1', '3앨범_장르3_노래1'),\n",
       " ('가수2', '가수2_앨범1', '3앨범_장르3_노래2'),\n",
       " ('가수2', '가수2_앨범1', '3앨범_장르3_노래3'),\n",
       " ('가수2', '가수2_앨범1', '3앨범_장르3_노래4'),\n",
       " ('가수2', '가수2_앨범1', '3앨범_장르4_노래1'),\n",
       " ('가수2', '가수2_앨범1', '3앨범_장르4_노래2'),\n",
       " ('가수2', '가수2_앨범1', '3앨범_장르4_노래3'),\n",
       " ('가수2', '가수2_앨범1', '3앨범_장르4_노래4'),\n",
       " ('가수2', '가수2_앨범2', '4앨범_장르1_노래1'),\n",
       " ('가수2', '가수2_앨범2', '4앨범_장르1_노래2'),\n",
       " ('가수2', '가수2_앨범2', '4앨범_장르1_노래3'),\n",
       " ('가수2', '가수2_앨범2', '4앨범_장르1_노래4'),\n",
       " ('가수2', '가수2_앨범2', '4앨범_장르2_노래1'),\n",
       " ('가수2', '가수2_앨범2', '4앨범_장르2_노래2'),\n",
       " ('가수2', '가수2_앨범2', '4앨범_장르2_노래3'),\n",
       " ('가수2', '가수2_앨범2', '4앨범_장르2_노래4'),\n",
       " ('가수2', '가수2_앨범2', '4앨범_장르3_노래1'),\n",
       " ('가수2', '가수2_앨범2', '4앨범_장르3_노래2'),\n",
       " ('가수2', '가수2_앨범2', '4앨범_장르3_노래3'),\n",
       " ('가수2', '가수2_앨범2', '4앨범_장르3_노래4'),\n",
       " ('가수2', '가수2_앨범2', '4앨범_장르4_노래1'),\n",
       " ('가수2', '가수2_앨범2', '4앨범_장르4_노래2'),\n",
       " ('가수2', '가수2_앨범2', '4앨범_장르4_노래3'),\n",
       " ('가수2', '가수2_앨범2', '4앨범_장르4_노래4'),\n",
       " ('가수3', '가수3_앨범1', '5앨범_장르1_노래1'),\n",
       " ('가수3', '가수3_앨범1', '5앨범_장르1_노래2'),\n",
       " ('가수3', '가수3_앨범1', '5앨범_장르1_노래3'),\n",
       " ('가수3', '가수3_앨범1', '5앨범_장르1_노래4'),\n",
       " ('가수3', '가수3_앨범1', '5앨범_장르2_노래1'),\n",
       " ('가수3', '가수3_앨범1', '5앨범_장르2_노래2'),\n",
       " ('가수3', '가수3_앨범1', '5앨범_장르2_노래3'),\n",
       " ('가수3', '가수3_앨범1', '5앨범_장르2_노래4'),\n",
       " ('가수3', '가수3_앨범1', '5앨범_장르3_노래1'),\n",
       " ('가수3', '가수3_앨범1', '5앨범_장르3_노래2'),\n",
       " ('가수3', '가수3_앨범1', '5앨범_장르3_노래3'),\n",
       " ('가수3', '가수3_앨범1', '5앨범_장르3_노래4'),\n",
       " ('가수3', '가수3_앨범1', '5앨범_장르4_노래1'),\n",
       " ('가수3', '가수3_앨범1', '5앨범_장르4_노래2'),\n",
       " ('가수3', '가수3_앨범1', '5앨범_장르4_노래3'),\n",
       " ('가수3', '가수3_앨범1', '5앨범_장르4_노래4'),\n",
       " ('가수3', '가수3_앨범2', '6앨범_장르1_노래1'),\n",
       " ('가수3', '가수3_앨범2', '6앨범_장르1_노래2'),\n",
       " ('가수3', '가수3_앨범2', '6앨범_장르1_노래3'),\n",
       " ('가수3', '가수3_앨범2', '6앨범_장르1_노래4'),\n",
       " ('가수3', '가수3_앨범2', '6앨범_장르2_노래1'),\n",
       " ('가수3', '가수3_앨범2', '6앨범_장르2_노래2'),\n",
       " ('가수3', '가수3_앨범2', '6앨범_장르2_노래3'),\n",
       " ('가수3', '가수3_앨범2', '6앨범_장르2_노래4'),\n",
       " ('가수3', '가수3_앨범2', '6앨범_장르3_노래1'),\n",
       " ('가수3', '가수3_앨범2', '6앨범_장르3_노래2'),\n",
       " ('가수3', '가수3_앨범2', '6앨범_장르3_노래3'),\n",
       " ('가수3', '가수3_앨범2', '6앨범_장르3_노래4'),\n",
       " ('가수3', '가수3_앨범2', '6앨범_장르4_노래1'),\n",
       " ('가수3', '가수3_앨범2', '6앨범_장르4_노래2'),\n",
       " ('가수3', '가수3_앨범2', '6앨범_장르4_노래3'),\n",
       " ('가수3', '가수3_앨범2', '6앨범_장르4_노래4'),\n",
       " ('가수4', '가수4_앨범1', '7앨범_장르1_노래1'),\n",
       " ('가수4', '가수4_앨범1', '7앨범_장르1_노래2'),\n",
       " ('가수4', '가수4_앨범1', '7앨범_장르1_노래3'),\n",
       " ('가수4', '가수4_앨범1', '7앨범_장르1_노래4'),\n",
       " ('가수4', '가수4_앨범1', '7앨범_장르2_노래1'),\n",
       " ('가수4', '가수4_앨범1', '7앨범_장르2_노래2'),\n",
       " ('가수4', '가수4_앨범1', '7앨범_장르2_노래3'),\n",
       " ('가수4', '가수4_앨범1', '7앨범_장르2_노래4'),\n",
       " ('가수4', '가수4_앨범1', '7앨범_장르3_노래1'),\n",
       " ('가수4', '가수4_앨범1', '7앨범_장르3_노래2'),\n",
       " ('가수4', '가수4_앨범1', '7앨범_장르3_노래3'),\n",
       " ('가수4', '가수4_앨범1', '7앨범_장르3_노래4'),\n",
       " ('가수4', '가수4_앨범1', '7앨범_장르4_노래1'),\n",
       " ('가수4', '가수4_앨범1', '7앨범_장르4_노래2'),\n",
       " ('가수4', '가수4_앨범1', '7앨범_장르4_노래3'),\n",
       " ('가수4', '가수4_앨범1', '7앨범_장르4_노래4'),\n",
       " ('가수4', '가수4_앨범2', '8앨범_장르1_노래1'),\n",
       " ('가수4', '가수4_앨범2', '8앨범_장르1_노래2'),\n",
       " ('가수4', '가수4_앨범2', '8앨범_장르1_노래3'),\n",
       " ('가수4', '가수4_앨범2', '8앨범_장르1_노래4'),\n",
       " ('가수4', '가수4_앨범2', '8앨범_장르2_노래1'),\n",
       " ('가수4', '가수4_앨범2', '8앨범_장르2_노래2'),\n",
       " ('가수4', '가수4_앨범2', '8앨범_장르2_노래3'),\n",
       " ('가수4', '가수4_앨범2', '8앨범_장르2_노래4'),\n",
       " ('가수4', '가수4_앨범2', '8앨범_장르3_노래1'),\n",
       " ('가수4', '가수4_앨범2', '8앨범_장르3_노래2'),\n",
       " ('가수4', '가수4_앨범2', '8앨범_장르3_노래3'),\n",
       " ('가수4', '가수4_앨범2', '8앨범_장르3_노래4'),\n",
       " ('가수4', '가수4_앨범2', '8앨범_장르4_노래1'),\n",
       " ('가수4', '가수4_앨범2', '8앨범_장르4_노래2'),\n",
       " ('가수4', '가수4_앨범2', '8앨범_장르4_노래3'),\n",
       " ('가수4', '가수4_앨범2', '8앨범_장르4_노래4')]"
      ]
     },
     "execution_count": 121,
     "metadata": {},
     "output_type": "execute_result"
    }
   ],
   "source": [
    "con.execute(select(A.c.NAME, B.c.NAME, D.c.NAME).\\\n",
    "     select_from(A.join(B.join(D)))).fetchall()"
   ]
  },
  {
   "cell_type": "code",
   "execution_count": 122,
   "id": "5d3291fa-cd13-45ac-9f7c-d1b8e6b781e4",
   "metadata": {},
   "outputs": [
    {
     "name": "stdout",
     "output_type": "stream",
     "text": [
      "2023-09-06 11:47:14,869 INFO sqlalchemy.engine.Engine SELECT \"T_A\".\"NAME\", \"T_B\".\"NAME\" AS \"NAME_1\", \"T_D\".\"NAME\" AS \"NAME_2\" \n",
      "FROM \"T_A\" JOIN (\"T_B\" JOIN \"T_D\" ON \"T_B\".\"PK\" = \"T_D\".\"FK1\") ON \"T_A\".\"PK\" = \"T_B\".\"FK\" GROUP BY \"T_B\".\"PK\"\n",
      "2023-09-06 11:47:14,873 INFO sqlalchemy.engine.Engine [generated in 0.00286s] ()\n"
     ]
    },
    {
     "data": {
      "text/plain": [
       "[('가수1', '가수1_앨범1', '1앨범_장르1_노래1'),\n",
       " ('가수1', '가수1_앨범2', '2앨범_장르1_노래1'),\n",
       " ('가수2', '가수2_앨범1', '3앨범_장르1_노래1'),\n",
       " ('가수2', '가수2_앨범2', '4앨범_장르1_노래1'),\n",
       " ('가수3', '가수3_앨범1', '5앨범_장르1_노래1'),\n",
       " ('가수3', '가수3_앨범2', '6앨범_장르1_노래1'),\n",
       " ('가수4', '가수4_앨범1', '7앨범_장르1_노래1'),\n",
       " ('가수4', '가수4_앨범2', '8앨범_장르1_노래1')]"
      ]
     },
     "execution_count": 122,
     "metadata": {},
     "output_type": "execute_result"
    }
   ],
   "source": [
    "con.execute(select(A.c.NAME, B.c.NAME, D.c.NAME).\\\n",
    "     select_from(A.join(B.join(D))).\\\n",
    "    group_by(B.c.PK))\\\n",
    "    .fetchall()"
   ]
  },
  {
   "cell_type": "code",
   "execution_count": 124,
   "id": "41aae198-a1a2-4643-bc95-09d185835cc7",
   "metadata": {},
   "outputs": [
    {
     "name": "stdout",
     "output_type": "stream",
     "text": [
      "2023-09-06 11:48:29,654 INFO sqlalchemy.engine.Engine SELECT \"T_A\".\"NAME\", \"T_B\".\"NAME\" AS \"NAME_1\", \"T_D\".\"NAME\" AS \"NAME_2\" \n",
      "FROM \"T_A\" JOIN (\"T_B\" JOIN \"T_D\" ON \"T_B\".\"PK\" = \"T_D\".\"FK1\") ON \"T_A\".\"PK\" = \"T_B\".\"FK\" \n",
      "WHERE \"T_A\".\"NAME\" LIKE ? GROUP BY \"T_B\".\"PK\"\n",
      "2023-09-06 11:48:29,655 INFO sqlalchemy.engine.Engine [cached since 4.96s ago] ('%3',)\n"
     ]
    },
    {
     "data": {
      "text/plain": [
       "[('가수3', '가수3_앨범1', '5앨범_장르1_노래1'), ('가수3', '가수3_앨범2', '6앨범_장르1_노래1')]"
      ]
     },
     "execution_count": 124,
     "metadata": {},
     "output_type": "execute_result"
    }
   ],
   "source": [
    "con.execute(select(A.c.NAME, B.c.NAME, D.c.NAME).\\\n",
    "        select_from(A.join(B.join(D))).\\\n",
    "        where(A.c.NAME.like('%3')).\\ #조건을 추가해봄... \n",
    "        group_by(B.c.PK))\\\n",
    "    .fetchall()"
   ]
  },
  {
   "cell_type": "code",
   "execution_count": 125,
   "id": "c56fa4f9-1fe5-4083-a3a5-056327ed8fc9",
   "metadata": {},
   "outputs": [],
   "source": [
    "#아이튠즈 같은데서 결과를 다채롭게 정렬하는 방식으로 \n",
    "#이걸 자바스크립트로 만들면 클라의 컴터 메모리 부담이 커지고 \n",
    "#이걸 뒷단에서 하면 서버에서 부담하는거임.\n",
    "\n",
    "#누구에게 일을 시킬지 구별을 할 줄 알아야 한다."
   ]
  },
  {
   "cell_type": "code",
   "execution_count": 126,
   "id": "564bd02c-22b9-42cb-a241-733129750b9b",
   "metadata": {},
   "outputs": [],
   "source": [
    "#extend_existing 은 기존에 객체가 있을때 확장해서 덮어씌워서 수정하는 용도로 쓸 수 있음. 내가 잘못만든거 수정가능\n",
    "#근데 DB에 기록되는 (바인딩)거랑은 별개임. DB 수정은 AlTER 이런걸 써줘야해. \n",
    "#근데 상위개념으로 더 가면 물리적인 개념으로 알아서 자동적으로 수정해주는 기능이 있다고 함. "
   ]
  },
  {
   "cell_type": "code",
   "execution_count": 128,
   "id": "66ca4dd4-9311-454c-b957-4902d94ab551",
   "metadata": {},
   "outputs": [],
   "source": [
    "#execute many 쓰는 개념을 배워볼거임. {} 로 표현"
   ]
  },
  {
   "cell_type": "code",
   "execution_count": 129,
   "id": "5e9dee89-e4f6-440b-9341-d26ac957b71a",
   "metadata": {},
   "outputs": [
    {
     "name": "stdout",
     "output_type": "stream",
     "text": [
      "INSERT INTO \"T_A\" (\"NAME\") VALUES (:NAME_m0), (:NAME_m1)\n"
     ]
    }
   ],
   "source": [
    "#executemany 처럼 동작하는거임\n",
    "print(insert(A).values([{'NAME':'아무개1'}, {'NAME':'아무개2'}]))"
   ]
  },
  {
   "cell_type": "code",
   "execution_count": 130,
   "id": "271e6d18-27c7-4fcc-8b2e-1fe5ce28b7b1",
   "metadata": {},
   "outputs": [
    {
     "name": "stdout",
     "output_type": "stream",
     "text": [
      "2023-09-06 11:54:09,167 INFO sqlalchemy.engine.Engine INSERT INTO \"T_A\" (\"NAME\") VALUES (?), (?)\n",
      "2023-09-06 11:54:09,175 INFO sqlalchemy.engine.Engine [no key 0.00168s] ('아무개1', '아무개2')\n"
     ]
    },
    {
     "data": {
      "text/plain": [
       "<sqlalchemy.engine.cursor.CursorResult at 0x1c3df6d80a0>"
      ]
     },
     "execution_count": 130,
     "metadata": {},
     "output_type": "execute_result"
    }
   ],
   "source": [
    "con.execute(insert(A).values([{'NAME':'아무개1'}, {'NAME':'아무개2'}]))"
   ]
  },
  {
   "cell_type": "code",
   "execution_count": 131,
   "id": "35d94b20-bf99-42a7-8414-a6cff497e1c6",
   "metadata": {},
   "outputs": [
    {
     "name": "stdout",
     "output_type": "stream",
     "text": [
      "2023-09-06 11:54:55,904 INFO sqlalchemy.engine.Engine SELECT \"T_A\".\"PK\", \"T_A\".\"NAME\" \n",
      "FROM \"T_A\"\n",
      "2023-09-06 11:54:55,904 INFO sqlalchemy.engine.Engine [generated in 0.00189s] ()\n"
     ]
    },
    {
     "data": {
      "text/plain": [
       "[(1, '가수1'), (2, '가수2'), (3, '가수3'), (4, '가수4'), (5, '아무개1'), (6, '아무개2')]"
      ]
     },
     "execution_count": 131,
     "metadata": {},
     "output_type": "execute_result"
    }
   ],
   "source": [
    "con.execute(select(A)).fetchall()"
   ]
  },
  {
   "cell_type": "code",
   "execution_count": 134,
   "id": "ba35ee16-837d-4122-b02d-35d80df29b03",
   "metadata": {},
   "outputs": [
    {
     "name": "stdout",
     "output_type": "stream",
     "text": [
      "SELECT \"T_A\".\"NAME\", \"T_B\".\"NAME\" AS \"NAME_1\", \"T_C\".\"NAME\" AS \"NAME_2\", \"T_D\".\"NAME\" AS \"NAME_3\" \n",
      "FROM \"T_A\" JOIN \"T_B\" ON \"T_A\".\"PK\" = \"T_B\".\"FK\" JOIN \"T_D\" ON \"T_B\".\"PK\" = \"T_D\".\"FK1\" JOIN \"T_C\" ON \"T_C\".\"PK\" = \"T_D\".\"FK2\"\n"
     ]
    }
   ],
   "source": [
    "# 가수 - 앨범 - 장르 - 노래\n",
    "print(select(A.c.NAME, B.c.NAME, C.c.NAME, D.c.NAME).\\\n",
    "     select_from(A.join(B).join(D).join(C, C.c.PK==D.c.FK2)))"
   ]
  },
  {
   "cell_type": "code",
   "execution_count": 135,
   "id": "222a0105-1a1d-418f-9956-ebd6a1e7d214",
   "metadata": {},
   "outputs": [
    {
     "name": "stdout",
     "output_type": "stream",
     "text": [
      "2023-09-06 11:58:38,748 INFO sqlalchemy.engine.Engine SELECT \"T_A\".\"NAME\", \"T_B\".\"NAME\" AS \"NAME_1\", \"T_C\".\"NAME\" AS \"NAME_2\", \"T_D\".\"NAME\" AS \"NAME_3\" \n",
      "FROM \"T_A\" JOIN \"T_B\" ON \"T_A\".\"PK\" = \"T_B\".\"FK\" JOIN \"T_D\" ON \"T_B\".\"PK\" = \"T_D\".\"FK1\" JOIN \"T_C\" ON \"T_C\".\"PK\" = \"T_D\".\"FK2\"\n",
      "2023-09-06 11:58:38,749 INFO sqlalchemy.engine.Engine [generated in 0.00181s] ()\n"
     ]
    },
    {
     "data": {
      "text/plain": [
       "[('가수1', '가수1_앨범1', '장르1', '1앨범_장르1_노래1'),\n",
       " ('가수1', '가수1_앨범1', '장르1', '1앨범_장르1_노래2'),\n",
       " ('가수1', '가수1_앨범1', '장르1', '1앨범_장르1_노래3'),\n",
       " ('가수1', '가수1_앨범1', '장르1', '1앨범_장르1_노래4'),\n",
       " ('가수1', '가수1_앨범1', '장르2', '1앨범_장르2_노래1'),\n",
       " ('가수1', '가수1_앨범1', '장르2', '1앨범_장르2_노래2'),\n",
       " ('가수1', '가수1_앨범1', '장르2', '1앨범_장르2_노래3'),\n",
       " ('가수1', '가수1_앨범1', '장르2', '1앨범_장르2_노래4'),\n",
       " ('가수1', '가수1_앨범1', '장르3', '1앨범_장르3_노래1'),\n",
       " ('가수1', '가수1_앨범1', '장르3', '1앨범_장르3_노래2'),\n",
       " ('가수1', '가수1_앨범1', '장르3', '1앨범_장르3_노래3'),\n",
       " ('가수1', '가수1_앨범1', '장르3', '1앨범_장르3_노래4'),\n",
       " ('가수1', '가수1_앨범1', '장르4', '1앨범_장르4_노래1'),\n",
       " ('가수1', '가수1_앨범1', '장르4', '1앨범_장르4_노래2'),\n",
       " ('가수1', '가수1_앨범1', '장르4', '1앨범_장르4_노래3'),\n",
       " ('가수1', '가수1_앨범1', '장르4', '1앨범_장르4_노래4'),\n",
       " ('가수1', '가수1_앨범2', '장르1', '2앨범_장르1_노래1'),\n",
       " ('가수1', '가수1_앨범2', '장르1', '2앨범_장르1_노래2'),\n",
       " ('가수1', '가수1_앨범2', '장르1', '2앨범_장르1_노래3'),\n",
       " ('가수1', '가수1_앨범2', '장르1', '2앨범_장르1_노래4'),\n",
       " ('가수1', '가수1_앨범2', '장르2', '2앨범_장르2_노래1'),\n",
       " ('가수1', '가수1_앨범2', '장르2', '2앨범_장르2_노래2'),\n",
       " ('가수1', '가수1_앨범2', '장르2', '2앨범_장르2_노래3'),\n",
       " ('가수1', '가수1_앨범2', '장르2', '2앨범_장르2_노래4'),\n",
       " ('가수1', '가수1_앨범2', '장르3', '2앨범_장르3_노래1'),\n",
       " ('가수1', '가수1_앨범2', '장르3', '2앨범_장르3_노래2'),\n",
       " ('가수1', '가수1_앨범2', '장르3', '2앨범_장르3_노래3'),\n",
       " ('가수1', '가수1_앨범2', '장르3', '2앨범_장르3_노래4'),\n",
       " ('가수1', '가수1_앨범2', '장르4', '2앨범_장르4_노래1'),\n",
       " ('가수1', '가수1_앨범2', '장르4', '2앨범_장르4_노래2'),\n",
       " ('가수1', '가수1_앨범2', '장르4', '2앨범_장르4_노래3'),\n",
       " ('가수1', '가수1_앨범2', '장르4', '2앨범_장르4_노래4'),\n",
       " ('가수2', '가수2_앨범1', '장르1', '3앨범_장르1_노래1'),\n",
       " ('가수2', '가수2_앨범1', '장르1', '3앨범_장르1_노래2'),\n",
       " ('가수2', '가수2_앨범1', '장르1', '3앨범_장르1_노래3'),\n",
       " ('가수2', '가수2_앨범1', '장르1', '3앨범_장르1_노래4'),\n",
       " ('가수2', '가수2_앨범1', '장르2', '3앨범_장르2_노래1'),\n",
       " ('가수2', '가수2_앨범1', '장르2', '3앨범_장르2_노래2'),\n",
       " ('가수2', '가수2_앨범1', '장르2', '3앨범_장르2_노래3'),\n",
       " ('가수2', '가수2_앨범1', '장르2', '3앨범_장르2_노래4'),\n",
       " ('가수2', '가수2_앨범1', '장르3', '3앨범_장르3_노래1'),\n",
       " ('가수2', '가수2_앨범1', '장르3', '3앨범_장르3_노래2'),\n",
       " ('가수2', '가수2_앨범1', '장르3', '3앨범_장르3_노래3'),\n",
       " ('가수2', '가수2_앨범1', '장르3', '3앨범_장르3_노래4'),\n",
       " ('가수2', '가수2_앨범1', '장르4', '3앨범_장르4_노래1'),\n",
       " ('가수2', '가수2_앨범1', '장르4', '3앨범_장르4_노래2'),\n",
       " ('가수2', '가수2_앨범1', '장르4', '3앨범_장르4_노래3'),\n",
       " ('가수2', '가수2_앨범1', '장르4', '3앨범_장르4_노래4'),\n",
       " ('가수2', '가수2_앨범2', '장르1', '4앨범_장르1_노래1'),\n",
       " ('가수2', '가수2_앨범2', '장르1', '4앨범_장르1_노래2'),\n",
       " ('가수2', '가수2_앨범2', '장르1', '4앨범_장르1_노래3'),\n",
       " ('가수2', '가수2_앨범2', '장르1', '4앨범_장르1_노래4'),\n",
       " ('가수2', '가수2_앨범2', '장르2', '4앨범_장르2_노래1'),\n",
       " ('가수2', '가수2_앨범2', '장르2', '4앨범_장르2_노래2'),\n",
       " ('가수2', '가수2_앨범2', '장르2', '4앨범_장르2_노래3'),\n",
       " ('가수2', '가수2_앨범2', '장르2', '4앨범_장르2_노래4'),\n",
       " ('가수2', '가수2_앨범2', '장르3', '4앨범_장르3_노래1'),\n",
       " ('가수2', '가수2_앨범2', '장르3', '4앨범_장르3_노래2'),\n",
       " ('가수2', '가수2_앨범2', '장르3', '4앨범_장르3_노래3'),\n",
       " ('가수2', '가수2_앨범2', '장르3', '4앨범_장르3_노래4'),\n",
       " ('가수2', '가수2_앨범2', '장르4', '4앨범_장르4_노래1'),\n",
       " ('가수2', '가수2_앨범2', '장르4', '4앨범_장르4_노래2'),\n",
       " ('가수2', '가수2_앨범2', '장르4', '4앨범_장르4_노래3'),\n",
       " ('가수2', '가수2_앨범2', '장르4', '4앨범_장르4_노래4'),\n",
       " ('가수3', '가수3_앨범1', '장르1', '5앨범_장르1_노래1'),\n",
       " ('가수3', '가수3_앨범1', '장르1', '5앨범_장르1_노래2'),\n",
       " ('가수3', '가수3_앨범1', '장르1', '5앨범_장르1_노래3'),\n",
       " ('가수3', '가수3_앨범1', '장르1', '5앨범_장르1_노래4'),\n",
       " ('가수3', '가수3_앨범1', '장르2', '5앨범_장르2_노래1'),\n",
       " ('가수3', '가수3_앨범1', '장르2', '5앨범_장르2_노래2'),\n",
       " ('가수3', '가수3_앨범1', '장르2', '5앨범_장르2_노래3'),\n",
       " ('가수3', '가수3_앨범1', '장르2', '5앨범_장르2_노래4'),\n",
       " ('가수3', '가수3_앨범1', '장르3', '5앨범_장르3_노래1'),\n",
       " ('가수3', '가수3_앨범1', '장르3', '5앨범_장르3_노래2'),\n",
       " ('가수3', '가수3_앨범1', '장르3', '5앨범_장르3_노래3'),\n",
       " ('가수3', '가수3_앨범1', '장르3', '5앨범_장르3_노래4'),\n",
       " ('가수3', '가수3_앨범1', '장르4', '5앨범_장르4_노래1'),\n",
       " ('가수3', '가수3_앨범1', '장르4', '5앨범_장르4_노래2'),\n",
       " ('가수3', '가수3_앨범1', '장르4', '5앨범_장르4_노래3'),\n",
       " ('가수3', '가수3_앨범1', '장르4', '5앨범_장르4_노래4'),\n",
       " ('가수3', '가수3_앨범2', '장르1', '6앨범_장르1_노래1'),\n",
       " ('가수3', '가수3_앨범2', '장르1', '6앨범_장르1_노래2'),\n",
       " ('가수3', '가수3_앨범2', '장르1', '6앨범_장르1_노래3'),\n",
       " ('가수3', '가수3_앨범2', '장르1', '6앨범_장르1_노래4'),\n",
       " ('가수3', '가수3_앨범2', '장르2', '6앨범_장르2_노래1'),\n",
       " ('가수3', '가수3_앨범2', '장르2', '6앨범_장르2_노래2'),\n",
       " ('가수3', '가수3_앨범2', '장르2', '6앨범_장르2_노래3'),\n",
       " ('가수3', '가수3_앨범2', '장르2', '6앨범_장르2_노래4'),\n",
       " ('가수3', '가수3_앨범2', '장르3', '6앨범_장르3_노래1'),\n",
       " ('가수3', '가수3_앨범2', '장르3', '6앨범_장르3_노래2'),\n",
       " ('가수3', '가수3_앨범2', '장르3', '6앨범_장르3_노래3'),\n",
       " ('가수3', '가수3_앨범2', '장르3', '6앨범_장르3_노래4'),\n",
       " ('가수3', '가수3_앨범2', '장르4', '6앨범_장르4_노래1'),\n",
       " ('가수3', '가수3_앨범2', '장르4', '6앨범_장르4_노래2'),\n",
       " ('가수3', '가수3_앨범2', '장르4', '6앨범_장르4_노래3'),\n",
       " ('가수3', '가수3_앨범2', '장르4', '6앨범_장르4_노래4'),\n",
       " ('가수4', '가수4_앨범1', '장르1', '7앨범_장르1_노래1'),\n",
       " ('가수4', '가수4_앨범1', '장르1', '7앨범_장르1_노래2'),\n",
       " ('가수4', '가수4_앨범1', '장르1', '7앨범_장르1_노래3'),\n",
       " ('가수4', '가수4_앨범1', '장르1', '7앨범_장르1_노래4'),\n",
       " ('가수4', '가수4_앨범1', '장르2', '7앨범_장르2_노래1'),\n",
       " ('가수4', '가수4_앨범1', '장르2', '7앨범_장르2_노래2'),\n",
       " ('가수4', '가수4_앨범1', '장르2', '7앨범_장르2_노래3'),\n",
       " ('가수4', '가수4_앨범1', '장르2', '7앨범_장르2_노래4'),\n",
       " ('가수4', '가수4_앨범1', '장르3', '7앨범_장르3_노래1'),\n",
       " ('가수4', '가수4_앨범1', '장르3', '7앨범_장르3_노래2'),\n",
       " ('가수4', '가수4_앨범1', '장르3', '7앨범_장르3_노래3'),\n",
       " ('가수4', '가수4_앨범1', '장르3', '7앨범_장르3_노래4'),\n",
       " ('가수4', '가수4_앨범1', '장르4', '7앨범_장르4_노래1'),\n",
       " ('가수4', '가수4_앨범1', '장르4', '7앨범_장르4_노래2'),\n",
       " ('가수4', '가수4_앨범1', '장르4', '7앨범_장르4_노래3'),\n",
       " ('가수4', '가수4_앨범1', '장르4', '7앨범_장르4_노래4'),\n",
       " ('가수4', '가수4_앨범2', '장르1', '8앨범_장르1_노래1'),\n",
       " ('가수4', '가수4_앨범2', '장르1', '8앨범_장르1_노래2'),\n",
       " ('가수4', '가수4_앨범2', '장르1', '8앨범_장르1_노래3'),\n",
       " ('가수4', '가수4_앨범2', '장르1', '8앨범_장르1_노래4'),\n",
       " ('가수4', '가수4_앨범2', '장르2', '8앨범_장르2_노래1'),\n",
       " ('가수4', '가수4_앨범2', '장르2', '8앨범_장르2_노래2'),\n",
       " ('가수4', '가수4_앨범2', '장르2', '8앨범_장르2_노래3'),\n",
       " ('가수4', '가수4_앨범2', '장르2', '8앨범_장르2_노래4'),\n",
       " ('가수4', '가수4_앨범2', '장르3', '8앨범_장르3_노래1'),\n",
       " ('가수4', '가수4_앨범2', '장르3', '8앨범_장르3_노래2'),\n",
       " ('가수4', '가수4_앨범2', '장르3', '8앨범_장르3_노래3'),\n",
       " ('가수4', '가수4_앨범2', '장르3', '8앨범_장르3_노래4'),\n",
       " ('가수4', '가수4_앨범2', '장르4', '8앨범_장르4_노래1'),\n",
       " ('가수4', '가수4_앨범2', '장르4', '8앨범_장르4_노래2'),\n",
       " ('가수4', '가수4_앨범2', '장르4', '8앨범_장르4_노래3'),\n",
       " ('가수4', '가수4_앨범2', '장르4', '8앨범_장르4_노래4')]"
      ]
     },
     "execution_count": 135,
     "metadata": {},
     "output_type": "execute_result"
    }
   ],
   "source": [
    "con.execute(select(A.c.NAME, B.c.NAME, C.c.NAME, D.c.NAME).\\\n",
    "     select_from(A.join(B).join(D).join(C, C.c.PK==D.c.FK2))).fetchall()"
   ]
  },
  {
   "cell_type": "code",
   "execution_count": 136,
   "id": "fecd0ac7-0f15-4a52-95d6-51e5bc652796",
   "metadata": {},
   "outputs": [
    {
     "name": "stdout",
     "output_type": "stream",
     "text": [
      "2023-09-06 11:59:17,675 INFO sqlalchemy.engine.Engine SELECT \"T_D\".\"PK\", \"T_D\".\"NAME\", \"T_D\".\"FK1\", \"T_D\".\"FK2\" \n",
      "FROM \"T_D\"\n",
      "2023-09-06 11:59:17,675 INFO sqlalchemy.engine.Engine [generated in 0.00163s] ()\n"
     ]
    },
    {
     "data": {
      "text/plain": [
       "[(1, '1앨범_장르1_노래1', 1, 1),\n",
       " (2, '1앨범_장르1_노래2', 1, 1),\n",
       " (3, '1앨범_장르1_노래3', 1, 1),\n",
       " (4, '1앨범_장르1_노래4', 1, 1),\n",
       " (5, '1앨범_장르2_노래1', 1, 2),\n",
       " (6, '1앨범_장르2_노래2', 1, 2),\n",
       " (7, '1앨범_장르2_노래3', 1, 2),\n",
       " (8, '1앨범_장르2_노래4', 1, 2),\n",
       " (9, '1앨범_장르3_노래1', 1, 3),\n",
       " (10, '1앨범_장르3_노래2', 1, 3),\n",
       " (11, '1앨범_장르3_노래3', 1, 3),\n",
       " (12, '1앨범_장르3_노래4', 1, 3),\n",
       " (13, '1앨범_장르4_노래1', 1, 4),\n",
       " (14, '1앨범_장르4_노래2', 1, 4),\n",
       " (15, '1앨범_장르4_노래3', 1, 4),\n",
       " (16, '1앨범_장르4_노래4', 1, 4),\n",
       " (17, '2앨범_장르1_노래1', 2, 1),\n",
       " (18, '2앨범_장르1_노래2', 2, 1),\n",
       " (19, '2앨범_장르1_노래3', 2, 1),\n",
       " (20, '2앨범_장르1_노래4', 2, 1),\n",
       " (21, '2앨범_장르2_노래1', 2, 2),\n",
       " (22, '2앨범_장르2_노래2', 2, 2),\n",
       " (23, '2앨범_장르2_노래3', 2, 2),\n",
       " (24, '2앨범_장르2_노래4', 2, 2),\n",
       " (25, '2앨범_장르3_노래1', 2, 3),\n",
       " (26, '2앨범_장르3_노래2', 2, 3),\n",
       " (27, '2앨범_장르3_노래3', 2, 3),\n",
       " (28, '2앨범_장르3_노래4', 2, 3),\n",
       " (29, '2앨범_장르4_노래1', 2, 4),\n",
       " (30, '2앨범_장르4_노래2', 2, 4),\n",
       " (31, '2앨범_장르4_노래3', 2, 4),\n",
       " (32, '2앨범_장르4_노래4', 2, 4),\n",
       " (33, '3앨범_장르1_노래1', 3, 1),\n",
       " (34, '3앨범_장르1_노래2', 3, 1),\n",
       " (35, '3앨범_장르1_노래3', 3, 1),\n",
       " (36, '3앨범_장르1_노래4', 3, 1),\n",
       " (37, '3앨범_장르2_노래1', 3, 2),\n",
       " (38, '3앨범_장르2_노래2', 3, 2),\n",
       " (39, '3앨범_장르2_노래3', 3, 2),\n",
       " (40, '3앨범_장르2_노래4', 3, 2),\n",
       " (41, '3앨범_장르3_노래1', 3, 3),\n",
       " (42, '3앨범_장르3_노래2', 3, 3),\n",
       " (43, '3앨범_장르3_노래3', 3, 3),\n",
       " (44, '3앨범_장르3_노래4', 3, 3),\n",
       " (45, '3앨범_장르4_노래1', 3, 4),\n",
       " (46, '3앨범_장르4_노래2', 3, 4),\n",
       " (47, '3앨범_장르4_노래3', 3, 4),\n",
       " (48, '3앨범_장르4_노래4', 3, 4),\n",
       " (49, '4앨범_장르1_노래1', 4, 1),\n",
       " (50, '4앨범_장르1_노래2', 4, 1),\n",
       " (51, '4앨범_장르1_노래3', 4, 1),\n",
       " (52, '4앨범_장르1_노래4', 4, 1),\n",
       " (53, '4앨범_장르2_노래1', 4, 2),\n",
       " (54, '4앨범_장르2_노래2', 4, 2),\n",
       " (55, '4앨범_장르2_노래3', 4, 2),\n",
       " (56, '4앨범_장르2_노래4', 4, 2),\n",
       " (57, '4앨범_장르3_노래1', 4, 3),\n",
       " (58, '4앨범_장르3_노래2', 4, 3),\n",
       " (59, '4앨범_장르3_노래3', 4, 3),\n",
       " (60, '4앨범_장르3_노래4', 4, 3),\n",
       " (61, '4앨범_장르4_노래1', 4, 4),\n",
       " (62, '4앨범_장르4_노래2', 4, 4),\n",
       " (63, '4앨범_장르4_노래3', 4, 4),\n",
       " (64, '4앨범_장르4_노래4', 4, 4),\n",
       " (65, '5앨범_장르1_노래1', 5, 1),\n",
       " (66, '5앨범_장르1_노래2', 5, 1),\n",
       " (67, '5앨범_장르1_노래3', 5, 1),\n",
       " (68, '5앨범_장르1_노래4', 5, 1),\n",
       " (69, '5앨범_장르2_노래1', 5, 2),\n",
       " (70, '5앨범_장르2_노래2', 5, 2),\n",
       " (71, '5앨범_장르2_노래3', 5, 2),\n",
       " (72, '5앨범_장르2_노래4', 5, 2),\n",
       " (73, '5앨범_장르3_노래1', 5, 3),\n",
       " (74, '5앨범_장르3_노래2', 5, 3),\n",
       " (75, '5앨범_장르3_노래3', 5, 3),\n",
       " (76, '5앨범_장르3_노래4', 5, 3),\n",
       " (77, '5앨범_장르4_노래1', 5, 4),\n",
       " (78, '5앨범_장르4_노래2', 5, 4),\n",
       " (79, '5앨범_장르4_노래3', 5, 4),\n",
       " (80, '5앨범_장르4_노래4', 5, 4),\n",
       " (81, '6앨범_장르1_노래1', 6, 1),\n",
       " (82, '6앨범_장르1_노래2', 6, 1),\n",
       " (83, '6앨범_장르1_노래3', 6, 1),\n",
       " (84, '6앨범_장르1_노래4', 6, 1),\n",
       " (85, '6앨범_장르2_노래1', 6, 2),\n",
       " (86, '6앨범_장르2_노래2', 6, 2),\n",
       " (87, '6앨범_장르2_노래3', 6, 2),\n",
       " (88, '6앨범_장르2_노래4', 6, 2),\n",
       " (89, '6앨범_장르3_노래1', 6, 3),\n",
       " (90, '6앨범_장르3_노래2', 6, 3),\n",
       " (91, '6앨범_장르3_노래3', 6, 3),\n",
       " (92, '6앨범_장르3_노래4', 6, 3),\n",
       " (93, '6앨범_장르4_노래1', 6, 4),\n",
       " (94, '6앨범_장르4_노래2', 6, 4),\n",
       " (95, '6앨범_장르4_노래3', 6, 4),\n",
       " (96, '6앨범_장르4_노래4', 6, 4),\n",
       " (97, '7앨범_장르1_노래1', 7, 1),\n",
       " (98, '7앨범_장르1_노래2', 7, 1),\n",
       " (99, '7앨범_장르1_노래3', 7, 1),\n",
       " (100, '7앨범_장르1_노래4', 7, 1),\n",
       " (101, '7앨범_장르2_노래1', 7, 2),\n",
       " (102, '7앨범_장르2_노래2', 7, 2),\n",
       " (103, '7앨범_장르2_노래3', 7, 2),\n",
       " (104, '7앨범_장르2_노래4', 7, 2),\n",
       " (105, '7앨범_장르3_노래1', 7, 3),\n",
       " (106, '7앨범_장르3_노래2', 7, 3),\n",
       " (107, '7앨범_장르3_노래3', 7, 3),\n",
       " (108, '7앨범_장르3_노래4', 7, 3),\n",
       " (109, '7앨범_장르4_노래1', 7, 4),\n",
       " (110, '7앨범_장르4_노래2', 7, 4),\n",
       " (111, '7앨범_장르4_노래3', 7, 4),\n",
       " (112, '7앨범_장르4_노래4', 7, 4),\n",
       " (113, '8앨범_장르1_노래1', 8, 1),\n",
       " (114, '8앨범_장르1_노래2', 8, 1),\n",
       " (115, '8앨범_장르1_노래3', 8, 1),\n",
       " (116, '8앨범_장르1_노래4', 8, 1),\n",
       " (117, '8앨범_장르2_노래1', 8, 2),\n",
       " (118, '8앨범_장르2_노래2', 8, 2),\n",
       " (119, '8앨범_장르2_노래3', 8, 2),\n",
       " (120, '8앨범_장르2_노래4', 8, 2),\n",
       " (121, '8앨범_장르3_노래1', 8, 3),\n",
       " (122, '8앨범_장르3_노래2', 8, 3),\n",
       " (123, '8앨범_장르3_노래3', 8, 3),\n",
       " (124, '8앨범_장르3_노래4', 8, 3),\n",
       " (125, '8앨범_장르4_노래1', 8, 4),\n",
       " (126, '8앨범_장르4_노래2', 8, 4),\n",
       " (127, '8앨범_장르4_노래3', 8, 4),\n",
       " (128, '8앨범_장르4_노래4', 8, 4)]"
      ]
     },
     "execution_count": 136,
     "metadata": {},
     "output_type": "execute_result"
    }
   ],
   "source": [
    "con.execute(select(D)).fetchall()"
   ]
  },
  {
   "cell_type": "code",
   "execution_count": 137,
   "id": "a551af37-93c1-4c2a-bd95-5d13deebf33e",
   "metadata": {},
   "outputs": [],
   "source": [
    "#이게 우리가 보는 플레이리스트임... "
   ]
  },
  {
   "cell_type": "code",
   "execution_count": 138,
   "id": "2f199c2b-89ca-4357-9a64-da5aa8850449",
   "metadata": {},
   "outputs": [],
   "source": [
    "#어제 했던 과정 다시 해보면서 뭐가 더 편한지 비교해볼거임."
   ]
  },
  {
   "cell_type": "code",
   "execution_count": 157,
   "id": "d717f044-6ec7-4a9d-982c-c4130386d773",
   "metadata": {},
   "outputs": [
    {
     "name": "stdout",
     "output_type": "stream",
     "text": [
      "2023-09-06 12:19:30,372 INFO sqlalchemy.engine.Engine BEGIN (implicit)\n",
      "2023-09-06 12:19:30,378 INFO sqlalchemy.engine.Engine PRAGMA main.table_info(\"POST\")\n",
      "2023-09-06 12:19:30,379 INFO sqlalchemy.engine.Engine [raw sql] ()\n",
      "2023-09-06 12:19:30,381 INFO sqlalchemy.engine.Engine PRAGMA temp.table_info(\"POST\")\n",
      "2023-09-06 12:19:30,382 INFO sqlalchemy.engine.Engine [raw sql] ()\n",
      "2023-09-06 12:19:30,384 INFO sqlalchemy.engine.Engine PRAGMA main.table_info(\"POSTTAG\")\n",
      "2023-09-06 12:19:30,385 INFO sqlalchemy.engine.Engine [raw sql] ()\n",
      "2023-09-06 12:19:30,387 INFO sqlalchemy.engine.Engine PRAGMA temp.table_info(\"POSTTAG\")\n",
      "2023-09-06 12:19:30,387 INFO sqlalchemy.engine.Engine [raw sql] ()\n",
      "2023-09-06 12:19:30,389 INFO sqlalchemy.engine.Engine PRAGMA main.table_info(\"HASHTAG\")\n",
      "2023-09-06 12:19:30,390 INFO sqlalchemy.engine.Engine [raw sql] ()\n",
      "2023-09-06 12:19:30,390 INFO sqlalchemy.engine.Engine PRAGMA temp.table_info(\"HASHTAG\")\n",
      "2023-09-06 12:19:30,394 INFO sqlalchemy.engine.Engine [raw sql] ()\n",
      "2023-09-06 12:19:30,394 INFO sqlalchemy.engine.Engine COMMIT\n"
     ]
    }
   ],
   "source": [
    "meta.drop_all(engine)\n",
    "meta.clear()"
   ]
  },
  {
   "cell_type": "code",
   "execution_count": 143,
   "id": "e6eba0a2-4be9-4984-b144-b350cca21fa6",
   "metadata": {},
   "outputs": [
    {
     "ename": "TypeError",
     "evalue": "MetaData.remove() missing 1 required positional argument: 'table'",
     "output_type": "error",
     "traceback": [
      "\u001b[1;31m---------------------------------------------------------------------------\u001b[0m",
      "\u001b[1;31mTypeError\u001b[0m                                 Traceback (most recent call last)",
      "Cell \u001b[1;32mIn[143], line 1\u001b[0m\n\u001b[1;32m----> 1\u001b[0m \u001b[43mmeta\u001b[49m\u001b[38;5;241;43m.\u001b[39;49m\u001b[43mremove\u001b[49m\u001b[43m(\u001b[49m\u001b[43m)\u001b[49m\n",
      "\u001b[1;31mTypeError\u001b[0m: MetaData.remove() missing 1 required positional argument: 'table'"
     ]
    }
   ],
   "source": []
  },
  {
   "cell_type": "code",
   "execution_count": 158,
   "id": "0f556857-3e2d-496c-8cc2-16b167c2a2f0",
   "metadata": {},
   "outputs": [],
   "source": [
    "meta.remove(A)\n",
    "meta.remove(B)\n",
    "meta.remove(C)\n",
    "meta.remove(D)"
   ]
  },
  {
   "cell_type": "code",
   "execution_count": 159,
   "id": "b13baf55-9cb0-412a-b082-fe35ba62c91b",
   "metadata": {},
   "outputs": [
    {
     "data": {
      "text/plain": [
       "Table('POST', MetaData(), Column('PK', Integer(), table=<POST>, primary_key=True, nullable=False), Column('CONTENT', Text(), table=<POST>), schema=None)"
      ]
     },
     "execution_count": 159,
     "metadata": {},
     "output_type": "execute_result"
    }
   ],
   "source": [
    "Table('POST', meta,\n",
    "      Column('PK', Integer, primary_key=True),\n",
    "      Column('CONTENT', Text),\n",
    "      extend_existing=True\n",
    "     )\n"
   ]
  },
  {
   "cell_type": "code",
   "execution_count": 160,
   "id": "39668c54-df60-47f2-ba53-9446f83724df",
   "metadata": {},
   "outputs": [
    {
     "data": {
      "text/plain": [
       "Table('HASHTAG', MetaData(), Column('PK', Integer(), table=<HASHTAG>, primary_key=True, nullable=False), Column('NAME', Text(), table=<HASHTAG>, nullable=False), Column('COUNT', Integer(), table=<HASHTAG>, server_default=DefaultClause('0', for_update=False)), schema=None)"
      ]
     },
     "execution_count": 160,
     "metadata": {},
     "output_type": "execute_result"
    }
   ],
   "source": [
    "Table('HASHTAG', meta,\n",
    "      Column('PK', Integer, primary_key=True),\n",
    "      Column('NAME', Text, nullable=False),\n",
    "      Column('COUNT', Integer,server_default='0'), #default 는 어제한것처럼 초기화할 수 있다..? \n",
    "     extend_existing=True\n",
    "    )"
   ]
  },
  {
   "cell_type": "code",
   "execution_count": 161,
   "id": "9375f730-6e35-4057-b25d-3bed9ad647be",
   "metadata": {},
   "outputs": [
    {
     "data": {
      "text/plain": [
       "Table('POSTTAG', MetaData(), Column('PFK', Integer(), table=<POSTTAG>, primary_key=True, nullable=False), Column('HFK', Integer(), ForeignKey('HASHTAG.PK'), table=<POSTTAG>), schema=None)"
      ]
     },
     "execution_count": 161,
     "metadata": {},
     "output_type": "execute_result"
    }
   ],
   "source": [
    "Table('POSTTAG', meta,\n",
    "      Column('PFK', Integer, primary_key=True),\n",
    "      Column('HFK', Integer, ForeignKey('HASHTAG.PK')),\n",
    "     extend_existing=True\n",
    "     )"
   ]
  },
  {
   "cell_type": "code",
   "execution_count": 155,
   "id": "2bbd32ca-ff97-4a93-902b-d9f00ff12b07",
   "metadata": {},
   "outputs": [
    {
     "name": "stdout",
     "output_type": "stream",
     "text": [
      "2023-09-06 12:13:35,673 INFO sqlalchemy.engine.Engine DELETE FROM \"T_B\"\n",
      "2023-09-06 12:13:35,673 INFO sqlalchemy.engine.Engine [cached since 176.2s ago] ()\n"
     ]
    },
    {
     "ename": "OperationalError",
     "evalue": "(sqlite3.OperationalError) no such table: T_B\n[SQL: DELETE FROM \"T_B\"]\n(Background on this error at: https://sqlalche.me/e/20/e3q8)",
     "output_type": "error",
     "traceback": [
      "\u001b[1;31m---------------------------------------------------------------------------\u001b[0m",
      "\u001b[1;31mOperationalError\u001b[0m                          Traceback (most recent call last)",
      "File \u001b[1;32m~\\AppData\\Roaming\\Python\\Python310\\site-packages\\sqlalchemy\\engine\\base.py:1965\u001b[0m, in \u001b[0;36mConnection._exec_single_context\u001b[1;34m(self, dialect, context, statement, parameters)\u001b[0m\n\u001b[0;32m   1964\u001b[0m     \u001b[38;5;28;01mif\u001b[39;00m \u001b[38;5;129;01mnot\u001b[39;00m evt_handled:\n\u001b[1;32m-> 1965\u001b[0m         \u001b[38;5;28;43mself\u001b[39;49m\u001b[38;5;241;43m.\u001b[39;49m\u001b[43mdialect\u001b[49m\u001b[38;5;241;43m.\u001b[39;49m\u001b[43mdo_execute\u001b[49m\u001b[43m(\u001b[49m\n\u001b[0;32m   1966\u001b[0m \u001b[43m            \u001b[49m\u001b[43mcursor\u001b[49m\u001b[43m,\u001b[49m\u001b[43m \u001b[49m\u001b[43mstr_statement\u001b[49m\u001b[43m,\u001b[49m\u001b[43m \u001b[49m\u001b[43meffective_parameters\u001b[49m\u001b[43m,\u001b[49m\u001b[43m \u001b[49m\u001b[43mcontext\u001b[49m\n\u001b[0;32m   1967\u001b[0m \u001b[43m        \u001b[49m\u001b[43m)\u001b[49m\n\u001b[0;32m   1969\u001b[0m \u001b[38;5;28;01mif\u001b[39;00m \u001b[38;5;28mself\u001b[39m\u001b[38;5;241m.\u001b[39m_has_events \u001b[38;5;129;01mor\u001b[39;00m \u001b[38;5;28mself\u001b[39m\u001b[38;5;241m.\u001b[39mengine\u001b[38;5;241m.\u001b[39m_has_events:\n",
      "File \u001b[1;32m~\\AppData\\Roaming\\Python\\Python310\\site-packages\\sqlalchemy\\engine\\default.py:921\u001b[0m, in \u001b[0;36mDefaultDialect.do_execute\u001b[1;34m(self, cursor, statement, parameters, context)\u001b[0m\n\u001b[0;32m    920\u001b[0m \u001b[38;5;28;01mdef\u001b[39;00m \u001b[38;5;21mdo_execute\u001b[39m(\u001b[38;5;28mself\u001b[39m, cursor, statement, parameters, context\u001b[38;5;241m=\u001b[39m\u001b[38;5;28;01mNone\u001b[39;00m):\n\u001b[1;32m--> 921\u001b[0m     \u001b[43mcursor\u001b[49m\u001b[38;5;241;43m.\u001b[39;49m\u001b[43mexecute\u001b[49m\u001b[43m(\u001b[49m\u001b[43mstatement\u001b[49m\u001b[43m,\u001b[49m\u001b[43m \u001b[49m\u001b[43mparameters\u001b[49m\u001b[43m)\u001b[49m\n",
      "\u001b[1;31mOperationalError\u001b[0m: no such table: T_B",
      "\nThe above exception was the direct cause of the following exception:\n",
      "\u001b[1;31mOperationalError\u001b[0m                          Traceback (most recent call last)",
      "Cell \u001b[1;32mIn[155], line 1\u001b[0m\n\u001b[1;32m----> 1\u001b[0m \u001b[43mcon\u001b[49m\u001b[38;5;241;43m.\u001b[39;49m\u001b[43mexecute\u001b[49m\u001b[43m(\u001b[49m\u001b[43mB\u001b[49m\u001b[38;5;241;43m.\u001b[39;49m\u001b[43mdelete\u001b[49m\u001b[43m(\u001b[49m\u001b[43m)\u001b[49m\u001b[43m)\u001b[49m\n",
      "File \u001b[1;32m~\\AppData\\Roaming\\Python\\Python310\\site-packages\\sqlalchemy\\engine\\base.py:1412\u001b[0m, in \u001b[0;36mConnection.execute\u001b[1;34m(self, statement, parameters, execution_options)\u001b[0m\n\u001b[0;32m   1410\u001b[0m     \u001b[38;5;28;01mraise\u001b[39;00m exc\u001b[38;5;241m.\u001b[39mObjectNotExecutableError(statement) \u001b[38;5;28;01mfrom\u001b[39;00m \u001b[38;5;21;01merr\u001b[39;00m\n\u001b[0;32m   1411\u001b[0m \u001b[38;5;28;01melse\u001b[39;00m:\n\u001b[1;32m-> 1412\u001b[0m     \u001b[38;5;28;01mreturn\u001b[39;00m \u001b[43mmeth\u001b[49m\u001b[43m(\u001b[49m\n\u001b[0;32m   1413\u001b[0m \u001b[43m        \u001b[49m\u001b[38;5;28;43mself\u001b[39;49m\u001b[43m,\u001b[49m\n\u001b[0;32m   1414\u001b[0m \u001b[43m        \u001b[49m\u001b[43mdistilled_parameters\u001b[49m\u001b[43m,\u001b[49m\n\u001b[0;32m   1415\u001b[0m \u001b[43m        \u001b[49m\u001b[43mexecution_options\u001b[49m\u001b[43m \u001b[49m\u001b[38;5;129;43;01mor\u001b[39;49;00m\u001b[43m \u001b[49m\u001b[43mNO_OPTIONS\u001b[49m\u001b[43m,\u001b[49m\n\u001b[0;32m   1416\u001b[0m \u001b[43m    \u001b[49m\u001b[43m)\u001b[49m\n",
      "File \u001b[1;32m~\\AppData\\Roaming\\Python\\Python310\\site-packages\\sqlalchemy\\sql\\elements.py:515\u001b[0m, in \u001b[0;36mClauseElement._execute_on_connection\u001b[1;34m(self, connection, distilled_params, execution_options)\u001b[0m\n\u001b[0;32m    513\u001b[0m     \u001b[38;5;28;01mif\u001b[39;00m TYPE_CHECKING:\n\u001b[0;32m    514\u001b[0m         \u001b[38;5;28;01massert\u001b[39;00m \u001b[38;5;28misinstance\u001b[39m(\u001b[38;5;28mself\u001b[39m, Executable)\n\u001b[1;32m--> 515\u001b[0m     \u001b[38;5;28;01mreturn\u001b[39;00m \u001b[43mconnection\u001b[49m\u001b[38;5;241;43m.\u001b[39;49m\u001b[43m_execute_clauseelement\u001b[49m\u001b[43m(\u001b[49m\n\u001b[0;32m    516\u001b[0m \u001b[43m        \u001b[49m\u001b[38;5;28;43mself\u001b[39;49m\u001b[43m,\u001b[49m\u001b[43m \u001b[49m\u001b[43mdistilled_params\u001b[49m\u001b[43m,\u001b[49m\u001b[43m \u001b[49m\u001b[43mexecution_options\u001b[49m\n\u001b[0;32m    517\u001b[0m \u001b[43m    \u001b[49m\u001b[43m)\u001b[49m\n\u001b[0;32m    518\u001b[0m \u001b[38;5;28;01melse\u001b[39;00m:\n\u001b[0;32m    519\u001b[0m     \u001b[38;5;28;01mraise\u001b[39;00m exc\u001b[38;5;241m.\u001b[39mObjectNotExecutableError(\u001b[38;5;28mself\u001b[39m)\n",
      "File \u001b[1;32m~\\AppData\\Roaming\\Python\\Python310\\site-packages\\sqlalchemy\\engine\\base.py:1635\u001b[0m, in \u001b[0;36mConnection._execute_clauseelement\u001b[1;34m(self, elem, distilled_parameters, execution_options)\u001b[0m\n\u001b[0;32m   1623\u001b[0m compiled_cache: Optional[CompiledCacheType] \u001b[38;5;241m=\u001b[39m execution_options\u001b[38;5;241m.\u001b[39mget(\n\u001b[0;32m   1624\u001b[0m     \u001b[38;5;124m\"\u001b[39m\u001b[38;5;124mcompiled_cache\u001b[39m\u001b[38;5;124m\"\u001b[39m, \u001b[38;5;28mself\u001b[39m\u001b[38;5;241m.\u001b[39mengine\u001b[38;5;241m.\u001b[39m_compiled_cache\n\u001b[0;32m   1625\u001b[0m )\n\u001b[0;32m   1627\u001b[0m compiled_sql, extracted_params, cache_hit \u001b[38;5;241m=\u001b[39m elem\u001b[38;5;241m.\u001b[39m_compile_w_cache(\n\u001b[0;32m   1628\u001b[0m     dialect\u001b[38;5;241m=\u001b[39mdialect,\n\u001b[0;32m   1629\u001b[0m     compiled_cache\u001b[38;5;241m=\u001b[39mcompiled_cache,\n\u001b[1;32m   (...)\u001b[0m\n\u001b[0;32m   1633\u001b[0m     linting\u001b[38;5;241m=\u001b[39m\u001b[38;5;28mself\u001b[39m\u001b[38;5;241m.\u001b[39mdialect\u001b[38;5;241m.\u001b[39mcompiler_linting \u001b[38;5;241m|\u001b[39m compiler\u001b[38;5;241m.\u001b[39mWARN_LINTING,\n\u001b[0;32m   1634\u001b[0m )\n\u001b[1;32m-> 1635\u001b[0m ret \u001b[38;5;241m=\u001b[39m \u001b[38;5;28;43mself\u001b[39;49m\u001b[38;5;241;43m.\u001b[39;49m\u001b[43m_execute_context\u001b[49m\u001b[43m(\u001b[49m\n\u001b[0;32m   1636\u001b[0m \u001b[43m    \u001b[49m\u001b[43mdialect\u001b[49m\u001b[43m,\u001b[49m\n\u001b[0;32m   1637\u001b[0m \u001b[43m    \u001b[49m\u001b[43mdialect\u001b[49m\u001b[38;5;241;43m.\u001b[39;49m\u001b[43mexecution_ctx_cls\u001b[49m\u001b[38;5;241;43m.\u001b[39;49m\u001b[43m_init_compiled\u001b[49m\u001b[43m,\u001b[49m\n\u001b[0;32m   1638\u001b[0m \u001b[43m    \u001b[49m\u001b[43mcompiled_sql\u001b[49m\u001b[43m,\u001b[49m\n\u001b[0;32m   1639\u001b[0m \u001b[43m    \u001b[49m\u001b[43mdistilled_parameters\u001b[49m\u001b[43m,\u001b[49m\n\u001b[0;32m   1640\u001b[0m \u001b[43m    \u001b[49m\u001b[43mexecution_options\u001b[49m\u001b[43m,\u001b[49m\n\u001b[0;32m   1641\u001b[0m \u001b[43m    \u001b[49m\u001b[43mcompiled_sql\u001b[49m\u001b[43m,\u001b[49m\n\u001b[0;32m   1642\u001b[0m \u001b[43m    \u001b[49m\u001b[43mdistilled_parameters\u001b[49m\u001b[43m,\u001b[49m\n\u001b[0;32m   1643\u001b[0m \u001b[43m    \u001b[49m\u001b[43melem\u001b[49m\u001b[43m,\u001b[49m\n\u001b[0;32m   1644\u001b[0m \u001b[43m    \u001b[49m\u001b[43mextracted_params\u001b[49m\u001b[43m,\u001b[49m\n\u001b[0;32m   1645\u001b[0m \u001b[43m    \u001b[49m\u001b[43mcache_hit\u001b[49m\u001b[38;5;241;43m=\u001b[39;49m\u001b[43mcache_hit\u001b[49m\u001b[43m,\u001b[49m\n\u001b[0;32m   1646\u001b[0m \u001b[43m\u001b[49m\u001b[43m)\u001b[49m\n\u001b[0;32m   1647\u001b[0m \u001b[38;5;28;01mif\u001b[39;00m has_events:\n\u001b[0;32m   1648\u001b[0m     \u001b[38;5;28mself\u001b[39m\u001b[38;5;241m.\u001b[39mdispatch\u001b[38;5;241m.\u001b[39mafter_execute(\n\u001b[0;32m   1649\u001b[0m         \u001b[38;5;28mself\u001b[39m,\n\u001b[0;32m   1650\u001b[0m         elem,\n\u001b[1;32m   (...)\u001b[0m\n\u001b[0;32m   1654\u001b[0m         ret,\n\u001b[0;32m   1655\u001b[0m     )\n",
      "File \u001b[1;32m~\\AppData\\Roaming\\Python\\Python310\\site-packages\\sqlalchemy\\engine\\base.py:1844\u001b[0m, in \u001b[0;36mConnection._execute_context\u001b[1;34m(self, dialect, constructor, statement, parameters, execution_options, *args, **kw)\u001b[0m\n\u001b[0;32m   1839\u001b[0m     \u001b[38;5;28;01mreturn\u001b[39;00m \u001b[38;5;28mself\u001b[39m\u001b[38;5;241m.\u001b[39m_exec_insertmany_context(\n\u001b[0;32m   1840\u001b[0m         dialect,\n\u001b[0;32m   1841\u001b[0m         context,\n\u001b[0;32m   1842\u001b[0m     )\n\u001b[0;32m   1843\u001b[0m \u001b[38;5;28;01melse\u001b[39;00m:\n\u001b[1;32m-> 1844\u001b[0m     \u001b[38;5;28;01mreturn\u001b[39;00m \u001b[38;5;28;43mself\u001b[39;49m\u001b[38;5;241;43m.\u001b[39;49m\u001b[43m_exec_single_context\u001b[49m\u001b[43m(\u001b[49m\n\u001b[0;32m   1845\u001b[0m \u001b[43m        \u001b[49m\u001b[43mdialect\u001b[49m\u001b[43m,\u001b[49m\u001b[43m \u001b[49m\u001b[43mcontext\u001b[49m\u001b[43m,\u001b[49m\u001b[43m \u001b[49m\u001b[43mstatement\u001b[49m\u001b[43m,\u001b[49m\u001b[43m \u001b[49m\u001b[43mparameters\u001b[49m\n\u001b[0;32m   1846\u001b[0m \u001b[43m    \u001b[49m\u001b[43m)\u001b[49m\n",
      "File \u001b[1;32m~\\AppData\\Roaming\\Python\\Python310\\site-packages\\sqlalchemy\\engine\\base.py:1984\u001b[0m, in \u001b[0;36mConnection._exec_single_context\u001b[1;34m(self, dialect, context, statement, parameters)\u001b[0m\n\u001b[0;32m   1981\u001b[0m     result \u001b[38;5;241m=\u001b[39m context\u001b[38;5;241m.\u001b[39m_setup_result_proxy()\n\u001b[0;32m   1983\u001b[0m \u001b[38;5;28;01mexcept\u001b[39;00m \u001b[38;5;167;01mBaseException\u001b[39;00m \u001b[38;5;28;01mas\u001b[39;00m e:\n\u001b[1;32m-> 1984\u001b[0m     \u001b[38;5;28;43mself\u001b[39;49m\u001b[38;5;241;43m.\u001b[39;49m\u001b[43m_handle_dbapi_exception\u001b[49m\u001b[43m(\u001b[49m\n\u001b[0;32m   1985\u001b[0m \u001b[43m        \u001b[49m\u001b[43me\u001b[49m\u001b[43m,\u001b[49m\u001b[43m \u001b[49m\u001b[43mstr_statement\u001b[49m\u001b[43m,\u001b[49m\u001b[43m \u001b[49m\u001b[43meffective_parameters\u001b[49m\u001b[43m,\u001b[49m\u001b[43m \u001b[49m\u001b[43mcursor\u001b[49m\u001b[43m,\u001b[49m\u001b[43m \u001b[49m\u001b[43mcontext\u001b[49m\n\u001b[0;32m   1986\u001b[0m \u001b[43m    \u001b[49m\u001b[43m)\u001b[49m\n\u001b[0;32m   1988\u001b[0m \u001b[38;5;28;01mreturn\u001b[39;00m result\n",
      "File \u001b[1;32m~\\AppData\\Roaming\\Python\\Python310\\site-packages\\sqlalchemy\\engine\\base.py:2339\u001b[0m, in \u001b[0;36mConnection._handle_dbapi_exception\u001b[1;34m(self, e, statement, parameters, cursor, context, is_sub_exec)\u001b[0m\n\u001b[0;32m   2337\u001b[0m \u001b[38;5;28;01melif\u001b[39;00m should_wrap:\n\u001b[0;32m   2338\u001b[0m     \u001b[38;5;28;01massert\u001b[39;00m sqlalchemy_exception \u001b[38;5;129;01mis\u001b[39;00m \u001b[38;5;129;01mnot\u001b[39;00m \u001b[38;5;28;01mNone\u001b[39;00m\n\u001b[1;32m-> 2339\u001b[0m     \u001b[38;5;28;01mraise\u001b[39;00m sqlalchemy_exception\u001b[38;5;241m.\u001b[39mwith_traceback(exc_info[\u001b[38;5;241m2\u001b[39m]) \u001b[38;5;28;01mfrom\u001b[39;00m \u001b[38;5;21;01me\u001b[39;00m\n\u001b[0;32m   2340\u001b[0m \u001b[38;5;28;01melse\u001b[39;00m:\n\u001b[0;32m   2341\u001b[0m     \u001b[38;5;28;01massert\u001b[39;00m exc_info[\u001b[38;5;241m1\u001b[39m] \u001b[38;5;129;01mis\u001b[39;00m \u001b[38;5;129;01mnot\u001b[39;00m \u001b[38;5;28;01mNone\u001b[39;00m\n",
      "File \u001b[1;32m~\\AppData\\Roaming\\Python\\Python310\\site-packages\\sqlalchemy\\engine\\base.py:1965\u001b[0m, in \u001b[0;36mConnection._exec_single_context\u001b[1;34m(self, dialect, context, statement, parameters)\u001b[0m\n\u001b[0;32m   1963\u001b[0m                 \u001b[38;5;28;01mbreak\u001b[39;00m\n\u001b[0;32m   1964\u001b[0m     \u001b[38;5;28;01mif\u001b[39;00m \u001b[38;5;129;01mnot\u001b[39;00m evt_handled:\n\u001b[1;32m-> 1965\u001b[0m         \u001b[38;5;28;43mself\u001b[39;49m\u001b[38;5;241;43m.\u001b[39;49m\u001b[43mdialect\u001b[49m\u001b[38;5;241;43m.\u001b[39;49m\u001b[43mdo_execute\u001b[49m\u001b[43m(\u001b[49m\n\u001b[0;32m   1966\u001b[0m \u001b[43m            \u001b[49m\u001b[43mcursor\u001b[49m\u001b[43m,\u001b[49m\u001b[43m \u001b[49m\u001b[43mstr_statement\u001b[49m\u001b[43m,\u001b[49m\u001b[43m \u001b[49m\u001b[43meffective_parameters\u001b[49m\u001b[43m,\u001b[49m\u001b[43m \u001b[49m\u001b[43mcontext\u001b[49m\n\u001b[0;32m   1967\u001b[0m \u001b[43m        \u001b[49m\u001b[43m)\u001b[49m\n\u001b[0;32m   1969\u001b[0m \u001b[38;5;28;01mif\u001b[39;00m \u001b[38;5;28mself\u001b[39m\u001b[38;5;241m.\u001b[39m_has_events \u001b[38;5;129;01mor\u001b[39;00m \u001b[38;5;28mself\u001b[39m\u001b[38;5;241m.\u001b[39mengine\u001b[38;5;241m.\u001b[39m_has_events:\n\u001b[0;32m   1970\u001b[0m     \u001b[38;5;28mself\u001b[39m\u001b[38;5;241m.\u001b[39mdispatch\u001b[38;5;241m.\u001b[39mafter_cursor_execute(\n\u001b[0;32m   1971\u001b[0m         \u001b[38;5;28mself\u001b[39m,\n\u001b[0;32m   1972\u001b[0m         cursor,\n\u001b[1;32m   (...)\u001b[0m\n\u001b[0;32m   1976\u001b[0m         context\u001b[38;5;241m.\u001b[39mexecutemany,\n\u001b[0;32m   1977\u001b[0m     )\n",
      "File \u001b[1;32m~\\AppData\\Roaming\\Python\\Python310\\site-packages\\sqlalchemy\\engine\\default.py:921\u001b[0m, in \u001b[0;36mDefaultDialect.do_execute\u001b[1;34m(self, cursor, statement, parameters, context)\u001b[0m\n\u001b[0;32m    920\u001b[0m \u001b[38;5;28;01mdef\u001b[39;00m \u001b[38;5;21mdo_execute\u001b[39m(\u001b[38;5;28mself\u001b[39m, cursor, statement, parameters, context\u001b[38;5;241m=\u001b[39m\u001b[38;5;28;01mNone\u001b[39;00m):\n\u001b[1;32m--> 921\u001b[0m     \u001b[43mcursor\u001b[49m\u001b[38;5;241;43m.\u001b[39;49m\u001b[43mexecute\u001b[49m\u001b[43m(\u001b[49m\u001b[43mstatement\u001b[49m\u001b[43m,\u001b[49m\u001b[43m \u001b[49m\u001b[43mparameters\u001b[49m\u001b[43m)\u001b[49m\n",
      "\u001b[1;31mOperationalError\u001b[0m: (sqlite3.OperationalError) no such table: T_B\n[SQL: DELETE FROM \"T_B\"]\n(Background on this error at: https://sqlalche.me/e/20/e3q8)"
     ]
    }
   ],
   "source": [
    "con.execute(B.delete())"
   ]
  },
  {
   "cell_type": "code",
   "execution_count": 156,
   "id": "2dee560e-cc42-4d25-9a1a-35e00ab4cf8e",
   "metadata": {},
   "outputs": [
    {
     "ename": "SyntaxError",
     "evalue": "expression cannot contain assignment, perhaps you meant \"==\"? (2643434433.py, line 1)",
     "output_type": "error",
     "traceback": [
      "\u001b[1;36m  Cell \u001b[1;32mIn[156], line 1\u001b[1;36m\u001b[0m\n\u001b[1;33m    B.select().where(B.c.NAME='ORM')\u001b[0m\n\u001b[1;37m                     ^\u001b[0m\n\u001b[1;31mSyntaxError\u001b[0m\u001b[1;31m:\u001b[0m expression cannot contain assignment, perhaps you meant \"==\"?\n"
     ]
    }
   ],
   "source": [
    "B.select().where(B.c.NAME='ORM')"
   ]
  },
  {
   "cell_type": "code",
   "execution_count": null,
   "id": "384860cf-c3ad-430d-99f2-d7c6fdff4008",
   "metadata": {},
   "outputs": [],
   "source": [
    "1. POST에 본문 insert\n",
    "2. insert 된 PK\n",
    "3. 위에 코드 이용해서 해시태그마다 PK 값 가져오기\n",
    "4. POSTTAG 테이블에다가 POST.PK, HASHTAG.PK를 inser해야함\n",
    "5. HASHTAG COUNT +1, 단 PK=HASHTAG.PK"
   ]
  }
 ],
 "metadata": {
  "kernelspec": {
   "display_name": "Python 3 (ipykernel)",
   "language": "python",
   "name": "python3"
  },
  "language_info": {
   "codemirror_mode": {
    "name": "ipython",
    "version": 3
   },
   "file_extension": ".py",
   "mimetype": "text/x-python",
   "name": "python",
   "nbconvert_exporter": "python",
   "pygments_lexer": "ipython3",
   "version": "3.10.1"
  }
 },
 "nbformat": 4,
 "nbformat_minor": 5
}
