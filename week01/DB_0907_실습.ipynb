{
 "cells": [
  {
   "cell_type": "code",
   "execution_count": 3,
   "id": "b846e60e-4086-4d50-a728-5b8c5aab8d64",
   "metadata": {},
   "outputs": [],
   "source": [
    "from sqlalchemy.orm import declarative_base\n",
    "base = declarative_base()"
   ]
  },
  {
   "cell_type": "code",
   "execution_count": 4,
   "id": "4b0945b6-9c90-4d47-a890-21f268860562",
   "metadata": {},
   "outputs": [
    {
     "data": {
      "text/plain": [
       "FacadeDict({})"
      ]
     },
     "execution_count": 4,
     "metadata": {},
     "output_type": "execute_result"
    }
   ],
   "source": [
    "base.metadata.tables"
   ]
  },
  {
   "cell_type": "code",
   "execution_count": 5,
   "id": "548c1b0c-34e5-4286-b40b-189c8544a826",
   "metadata": {},
   "outputs": [
    {
     "data": {
      "text/plain": [
       "<sqlalchemy.orm.decl_api.registry at 0x1f607fafe80>"
      ]
     },
     "execution_count": 5,
     "metadata": {},
     "output_type": "execute_result"
    }
   ],
   "source": [
    "base.registry"
   ]
  },
  {
   "cell_type": "code",
   "execution_count": 6,
   "id": "f9432e21-3808-4642-8494-fe9d797ba7e9",
   "metadata": {},
   "outputs": [],
   "source": [
    "from sqlalchemy.schema import Table, Column, ForeignKey\n",
    "from sqlalchemy.types import Integer, Text"
   ]
  },
  {
   "cell_type": "code",
   "execution_count": 7,
   "id": "4e087030-d21e-4dcf-a011-f3beac7c1036",
   "metadata": {},
   "outputs": [],
   "source": [
    "from sqlalchemy import create_engine\n",
    "engine = create_engine('sqlite:///:memory:', echo=True)"
   ]
  },
  {
   "cell_type": "code",
   "execution_count": 8,
   "id": "1d7e5336-8d29-4a81-9ec5-31d4ef1eafda",
   "metadata": {},
   "outputs": [],
   "source": [
    "from sqlalchemy.orm import sessionmaker\n",
    "Session = sessionmaker(engine)\n",
    "sess = Session()"
   ]
  },
  {
   "cell_type": "code",
   "execution_count": null,
   "id": "7fcb5816-8145-436e-a026-500ddb0f34ca",
   "metadata": {},
   "outputs": [],
   "source": [
    "#Post, Hashtag, Tags 만들어보기\n",
    "class Post(base):\n",
    "    __tablename__ : 'POST'\n",
    "    pk = Column('PK', Integer, primary_key=True)\n",
    "    content = Column('CONTENT', Text)\n",
    "    tags = relationship('Tags', \n",
    "    "
   ]
  }
 ],
 "metadata": {
  "kernelspec": {
   "display_name": "Python 3 (ipykernel)",
   "language": "python",
   "name": "python3"
  },
  "language_info": {
   "codemirror_mode": {
    "name": "ipython",
    "version": 3
   },
   "file_extension": ".py",
   "mimetype": "text/x-python",
   "name": "python",
   "nbconvert_exporter": "python",
   "pygments_lexer": "ipython3",
   "version": "3.10.1"
  }
 },
 "nbformat": 4,
 "nbformat_minor": 5
}
