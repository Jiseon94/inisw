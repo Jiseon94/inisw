{
 "cells": [
  {
   "cell_type": "code",
   "execution_count": 1,
   "id": "6b978bc6-7a50-4676-b235-9a04d18c2ff6",
   "metadata": {},
   "outputs": [
    {
     "name": "stdout",
     "output_type": "stream",
     "text": [
      "Membership test operations\n",
      "**************************\n",
      "\n",
      "The operators \"in\" and \"not in\" test for membership.  \"x in s\"\n",
      "evaluates to \"True\" if *x* is a member of *s*, and \"False\" otherwise.\n",
      "\"x not in s\" returns the negation of \"x in s\".  All built-in sequences\n",
      "and set types support this as well as dictionary, for which \"in\" tests\n",
      "whether the dictionary has a given key. For container types such as\n",
      "list, tuple, set, frozenset, dict, or collections.deque, the\n",
      "expression \"x in y\" is equivalent to \"any(x is e or x == e for e in\n",
      "y)\".\n",
      "\n",
      "For the string and bytes types, \"x in y\" is \"True\" if and only if *x*\n",
      "is a substring of *y*.  An equivalent test is \"y.find(x) != -1\".\n",
      "Empty strings are always considered to be a substring of any other\n",
      "string, so \"\"\" in \"abc\"\" will return \"True\".\n",
      "\n",
      "For user-defined classes which define the \"__contains__()\" method, \"x\n",
      "in y\" returns \"True\" if \"y.__contains__(x)\" returns a true value, and\n",
      "\"False\" otherwise.\n",
      "\n",
      "For user-defined classes which do not define \"__contains__()\" but do\n",
      "define \"__iter__()\", \"x in y\" is \"True\" if some value \"z\", for which\n",
      "the expression \"x is z or x == z\" is true, is produced while iterating\n",
      "over \"y\". If an exception is raised during the iteration, it is as if\n",
      "\"in\" raised that exception.\n",
      "\n",
      "Lastly, the old-style iteration protocol is tried: if a class defines\n",
      "\"__getitem__()\", \"x in y\" is \"True\" if and only if there is a non-\n",
      "negative integer index *i* such that \"x is y[i] or x == y[i]\", and no\n",
      "lower integer index raises the \"IndexError\" exception.  (If any other\n",
      "exception is raised, it is as if \"in\" raised that exception).\n",
      "\n",
      "The operator \"not in\" is defined to have the inverse truth value of\n",
      "\"in\".\n",
      "\n",
      "Related help topics: SEQUENCEMETHODS\n",
      "\n"
     ]
    }
   ],
   "source": [
    "help('in')"
   ]
  },
  {
   "cell_type": "code",
   "execution_count": 6,
   "id": "681011bf-c909-48ac-a6ca-5a673b127562",
   "metadata": {},
   "outputs": [
    {
     "data": {
      "text/plain": [
       "False"
      ]
     },
     "execution_count": 6,
     "metadata": {},
     "output_type": "execute_result"
    }
   ],
   "source": [
    "{1,2,3} > {1,2,4}"
   ]
  },
  {
   "cell_type": "code",
   "execution_count": null,
   "id": "d40f67fd-bf98-4b5a-ba4f-68ae035f8d79",
   "metadata": {},
   "outputs": [],
   "source": [
    "#python의 function은 first class function 이다. "
   ]
  },
  {
   "cell_type": "code",
   "execution_count": 15,
   "id": "0f02a2a3-aab4-4f67-8f05-b476473e9b95",
   "metadata": {},
   "outputs": [],
   "source": [
    "def %x(t):\n",
    "    return t"
   ]
  },
  {
   "cell_type": "code",
   "execution_count": 11,
   "id": "6a2946e5-cf23-46fd-9bd8-51b967d1312c",
   "metadata": {},
   "outputs": [
    {
     "data": {
      "text/plain": [
       "<function __main__.x(t)>"
      ]
     },
     "execution_count": 11,
     "metadata": {},
     "output_type": "execute_result"
    }
   ],
   "source": [
    "x"
   ]
  },
  {
   "cell_type": "code",
   "execution_count": 8,
   "id": "463acab8-5acf-4768-b97e-6049093234ce",
   "metadata": {},
   "outputs": [],
   "source": [
    "a=print"
   ]
  },
  {
   "cell_type": "code",
   "execution_count": 9,
   "id": "68911d7c-988d-4f6b-b0ad-2e6a28d57559",
   "metadata": {},
   "outputs": [
    {
     "name": "stdout",
     "output_type": "stream",
     "text": [
      "sun\n"
     ]
    }
   ],
   "source": [
    "a('sun')"
   ]
  },
  {
   "cell_type": "code",
   "execution_count": 12,
   "id": "9a397487-fc4d-43e6-836f-de6730cd1a1a",
   "metadata": {},
   "outputs": [
    {
     "name": "stderr",
     "output_type": "stream",
     "text": [
      "<>:1: SyntaxWarning: 'int' object is not callable; perhaps you missed a comma?\n",
      "<>:1: SyntaxWarning: 'int' object is not callable; perhaps you missed a comma?\n",
      "C:\\Users\\user\\AppData\\Local\\Temp\\ipykernel_8984\\4217450921.py:1: SyntaxWarning: 'int' object is not callable; perhaps you missed a comma?\n",
      "  1()\n",
      "C:\\Users\\user\\AppData\\Local\\Temp\\ipykernel_8984\\4217450921.py:1: SyntaxWarning: 'int' object is not callable; perhaps you missed a comma?\n",
      "  1()\n",
      "C:\\Users\\user\\AppData\\Local\\Temp\\ipykernel_8984\\4217450921.py:1: SyntaxWarning: 'int' object is not callable; perhaps you missed a comma?\n",
      "  1()\n"
     ]
    },
    {
     "ename": "TypeError",
     "evalue": "'int' object is not callable",
     "output_type": "error",
     "traceback": [
      "\u001b[1;31m---------------------------------------------------------------------------\u001b[0m",
      "\u001b[1;31mTypeError\u001b[0m                                 Traceback (most recent call last)",
      "Cell \u001b[1;32mIn[12], line 1\u001b[0m\n\u001b[1;32m----> 1\u001b[0m \u001b[38;5;241;43m1\u001b[39;49m\u001b[43m(\u001b[49m\u001b[43m)\u001b[49m\n",
      "\u001b[1;31mTypeError\u001b[0m: 'int' object is not callable"
     ]
    }
   ],
   "source": [
    "1()"
   ]
  },
  {
   "cell_type": "code",
   "execution_count": 16,
   "id": "2b604ca3-27bc-4d3e-b73a-f1ecdfbf3060",
   "metadata": {},
   "outputs": [
    {
     "data": {
      "text/plain": [
       "3"
      ]
     },
     "execution_count": 16,
     "metadata": {},
     "output_type": "execute_result"
    }
   ],
   "source": [
    "x(3)"
   ]
  },
  {
   "cell_type": "code",
   "execution_count": 17,
   "id": "a2ad177f-f5ec-4086-9ffb-556d0f0a13ba",
   "metadata": {},
   "outputs": [
    {
     "data": {
      "text/plain": [
       "True"
      ]
     },
     "execution_count": 17,
     "metadata": {},
     "output_type": "execute_result"
    }
   ],
   "source": [
    "callable(x)"
   ]
  },
  {
   "cell_type": "code",
   "execution_count": 18,
   "id": "87672603-1fea-47f0-867e-642a54b673f2",
   "metadata": {
    "scrolled": true
   },
   "outputs": [
    {
     "data": {
      "text/plain": [
       "3"
      ]
     },
     "execution_count": 18,
     "metadata": {},
     "output_type": "execute_result"
    }
   ],
   "source": [
    "x(3) #positional 위치기반으로 사용한다는 뜻이다."
   ]
  },
  {
   "cell_type": "code",
   "execution_count": 19,
   "id": "8cfe38af-b48e-4291-8b43-49ea27625075",
   "metadata": {
    "scrolled": true
   },
   "outputs": [
    {
     "data": {
      "text/plain": [
       "3"
      ]
     },
     "execution_count": 19,
     "metadata": {},
     "output_type": "execute_result"
    }
   ],
   "source": [
    "x(t=3)  # keyword 방식으로 사용한다는 뜻이다."
   ]
  },
  {
   "cell_type": "code",
   "execution_count": 20,
   "id": "e2d5d7c0-7752-4ce0-9704-ecf831325a76",
   "metadata": {},
   "outputs": [],
   "source": [
    "def xx(a, b):\n",
    "    return a+2*b"
   ]
  },
  {
   "cell_type": "code",
   "execution_count": 23,
   "id": "9ee4cb14-7ff3-4120-b6a7-8c265b19ad2c",
   "metadata": {},
   "outputs": [
    {
     "data": {
      "text/plain": [
       "13"
      ]
     },
     "execution_count": 23,
     "metadata": {},
     "output_type": "execute_result"
    }
   ],
   "source": [
    "xx(a=3,b=5) #순서와 상관없이 사용 가능\n",
    "xx(b=5,a=3)"
   ]
  },
  {
   "cell_type": "code",
   "execution_count": 26,
   "id": "918a5d61-72a0-4f76-aa36-72b65219677d",
   "metadata": {},
   "outputs": [
    {
     "ename": "TypeError",
     "evalue": "xx() missing 1 required positional argument: 'a'",
     "output_type": "error",
     "traceback": [
      "\u001b[1;31m---------------------------------------------------------------------------\u001b[0m",
      "\u001b[1;31mTypeError\u001b[0m                                 Traceback (most recent call last)",
      "Cell \u001b[1;32mIn[26], line 1\u001b[0m\n\u001b[1;32m----> 1\u001b[0m \u001b[43mxx\u001b[49m\u001b[43m(\u001b[49m\u001b[43mb\u001b[49m\u001b[38;5;241;43m=\u001b[39;49m\u001b[38;5;241;43m3\u001b[39;49m\u001b[43m)\u001b[49m\n",
      "\u001b[1;31mTypeError\u001b[0m: xx() missing 1 required positional argument: 'a'"
     ]
    }
   ],
   "source": [
    "xx(b=3)"
   ]
  },
  {
   "cell_type": "code",
   "execution_count": 27,
   "id": "b19ecb1a-8856-42cb-a707-07c334bdd115",
   "metadata": {},
   "outputs": [],
   "source": [
    "#function overloading을 지원하는 프로그램에서는?"
   ]
  },
  {
   "cell_type": "code",
   "execution_count": 28,
   "id": "8147ac26-d319-4b35-b8e4-968ee0f46e8b",
   "metadata": {},
   "outputs": [],
   "source": [
    "def x(a):\n",
    "    print(a)\n",
    "\n",
    "def x(a,b):\n",
    "    print(a,b)\n"
   ]
  },
  {
   "cell_type": "code",
   "execution_count": 29,
   "id": "547c1650-e052-4bbc-8fcd-51d476c2b54c",
   "metadata": {},
   "outputs": [],
   "source": [
    "#파이썬에서는 함수이름 x가 같으므로, 재할당하는거다."
   ]
  },
  {
   "cell_type": "code",
   "execution_count": 30,
   "id": "836e3e99-d9f9-48be-bf4b-246d301354ef",
   "metadata": {},
   "outputs": [
    {
     "data": {
      "text/plain": [
       "True"
      ]
     },
     "execution_count": 30,
     "metadata": {},
     "output_type": "execute_result"
    }
   ],
   "source": [
    "callable(x)"
   ]
  },
  {
   "cell_type": "code",
   "execution_count": 40,
   "id": "8b2616fe-803b-4085-95b2-5562a18544dc",
   "metadata": {},
   "outputs": [],
   "source": [
    "def x(a,b=3, c=5):  # default 값을 한번이라도 사용하면 계속 사용해야한다. \n",
    "    print(a,b,c)"
   ]
  },
  {
   "cell_type": "code",
   "execution_count": 41,
   "id": "395ca891-ae56-4a2e-b6c2-14bfb4c943ff",
   "metadata": {},
   "outputs": [
    {
     "ename": "SyntaxError",
     "evalue": "positional argument follows keyword argument (682205676.py, line 1)",
     "output_type": "error",
     "traceback": [
      "\u001b[1;36m  Cell \u001b[1;32mIn[41], line 1\u001b[1;36m\u001b[0m\n\u001b[1;33m    x(3, b=3,5)  #keyword 방식으로 사용하면 끝까지 키워드 방식으로 사용해야한다.\u001b[0m\n\u001b[1;37m              ^\u001b[0m\n\u001b[1;31mSyntaxError\u001b[0m\u001b[1;31m:\u001b[0m positional argument follows keyword argument\n"
     ]
    }
   ],
   "source": [
    "x(3, b=3,5)  #keyword 방식으로 사용하면 끝까지 키워드 방식으로 사용해야한다."
   ]
  },
  {
   "cell_type": "code",
   "execution_count": null,
   "id": "065df110-6d70-41fe-b089-3e332fa06bc2",
   "metadata": {},
   "outputs": [],
   "source": [
    "x(3, c=1)"
   ]
  },
  {
   "cell_type": "code",
   "execution_count": 33,
   "id": "e40c0dc6-0060-4bb0-b6ef-b4c9ec2f2585",
   "metadata": {},
   "outputs": [
    {
     "name": "stdout",
     "output_type": "stream",
     "text": [
      "4 3 4\n"
     ]
    }
   ],
   "source": [
    "x(4)"
   ]
  },
  {
   "cell_type": "code",
   "execution_count": 34,
   "id": "8964f921-2057-4839-b199-c3c504a5f8f2",
   "metadata": {},
   "outputs": [
    {
     "name": "stdout",
     "output_type": "stream",
     "text": [
      "4 3 1\n"
     ]
    }
   ],
   "source": [
    "#positional 방식이라면 파라미터, 아규먼트 무조건 다 똑같이 써야한다.\n",
    "#c=1로 바꾸고 싶을때 이렇게 써야함\n",
    "x(4,3,1)"
   ]
  },
  {
   "cell_type": "code",
   "execution_count": 35,
   "id": "c1338184-aae4-4951-b30a-acded65e1390",
   "metadata": {},
   "outputs": [
    {
     "name": "stdout",
     "output_type": "stream",
     "text": [
      "4 3 1\n"
     ]
    }
   ],
   "source": [
    "#keywork 방식이라면, 이렇게 편하게 쓸 수 있다\n",
    "x(4, c=1)"
   ]
  },
  {
   "cell_type": "code",
   "execution_count": 37,
   "id": "cc3d31cd-d4c0-46fe-a909-787d12862108",
   "metadata": {},
   "outputs": [
    {
     "name": "stdout",
     "output_type": "stream",
     "text": [
      "4 3 2\n"
     ]
    }
   ],
   "source": [
    "x(4, c=2)"
   ]
  },
  {
   "cell_type": "code",
   "execution_count": null,
   "id": "e0b203b9-5de9-402c-8325-6d9c654a1cf2",
   "metadata": {},
   "outputs": [],
   "source": []
  }
 ],
 "metadata": {
  "kernelspec": {
   "display_name": "Python 3 (ipykernel)",
   "language": "python",
   "name": "python3"
  },
  "language_info": {
   "codemirror_mode": {
    "name": "ipython",
    "version": 3
   },
   "file_extension": ".py",
   "mimetype": "text/x-python",
   "name": "python",
   "nbconvert_exporter": "python",
   "pygments_lexer": "ipython3",
   "version": "3.10.1"
  }
 },
 "nbformat": 4,
 "nbformat_minor": 5
}
