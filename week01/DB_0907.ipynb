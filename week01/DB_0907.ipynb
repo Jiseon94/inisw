{
 "cells": [
  {
   "cell_type": "code",
   "execution_count": 1,
   "id": "21916e0c-3b1d-45d0-bd5f-713f73f4133c",
   "metadata": {},
   "outputs": [],
   "source": [
    "#declarative-base"
   ]
  },
  {
   "cell_type": "code",
   "execution_count": 2,
   "id": "3f2d0a81-bc2b-472d-9b0b-e139c1cd4156",
   "metadata": {},
   "outputs": [],
   "source": [
    "from sqlalchemy.orm import declarative_base"
   ]
  },
  {
   "cell_type": "code",
   "execution_count": 3,
   "id": "f9a82cd4-26f8-4622-898d-8522c1fc87e8",
   "metadata": {},
   "outputs": [],
   "source": [
    "base = declarative_base()"
   ]
  },
  {
   "cell_type": "code",
   "execution_count": 4,
   "id": "329c23b1-a095-452d-aa1a-7bcb53294fa7",
   "metadata": {},
   "outputs": [
    {
     "data": {
      "text/plain": [
       "FacadeDict({})"
      ]
     },
     "execution_count": 4,
     "metadata": {},
     "output_type": "execute_result"
    }
   ],
   "source": [
    "base.metadata.tables #<-- Core Table 객체-RDBMS"
   ]
  },
  {
   "cell_type": "code",
   "execution_count": 5,
   "id": "91c39c84-90f1-47c0-ba74-d67ff156bcc3",
   "metadata": {},
   "outputs": [
    {
     "data": {
      "text/plain": [
       "<sqlalchemy.orm.decl_api.registry at 0x185ac6f2d40>"
      ]
     },
     "execution_count": 5,
     "metadata": {},
     "output_type": "execute_result"
    }
   ],
   "source": [
    "base.registry #<-- Object 등록"
   ]
  },
  {
   "cell_type": "code",
   "execution_count": 6,
   "id": "7eefc1cf-5c7f-48c2-81b2-d9658b009114",
   "metadata": {},
   "outputs": [],
   "source": [
    "from sqlalchemy.schema import Table, Column, ForeignKey\n",
    "from sqlalchemy.types import Integer, Text"
   ]
  },
  {
   "cell_type": "code",
   "execution_count": 8,
   "id": "72f5ab53-940d-405c-9273-a7ddcf645569",
   "metadata": {},
   "outputs": [],
   "source": [
    "class User(base):\n",
    "    __tablename__ = 'USER' #앞으로 우리가 사용할 테이블 이름이 될거임.\n",
    "    #Obj에서 접근할 테이블 이름이고, DBMS 에서 사용될 테이블 이름이 될거임.\n",
    "    pk = Column('PK', Integer, primary_key=True)\n",
    "    #이건 Obj 에서 pk  => 이게 실제 DBMS에서 해당 테이블에서 사용될 컬럼 정보가 될거임.\n",
    "    name =Column('NAME', Text)\n",
    "\n",
    "    #값들이 나오게 출력해볼거임\n",
    "    def __repr__(self):\n",
    "        return f'PK:{self.pk}, NAME:{self.name}'"
   ]
  },
  {
   "cell_type": "code",
   "execution_count": 9,
   "id": "d8ec4458-5117-47e0-9704-8d86317057c5",
   "metadata": {},
   "outputs": [],
   "source": [
    "user1 = User (name='아무거나')"
   ]
  },
  {
   "cell_type": "code",
   "execution_count": 10,
   "id": "97f5d4ba-2143-48e8-a4e0-136692062a8c",
   "metadata": {},
   "outputs": [
    {
     "data": {
      "text/plain": [
       "PK:None, NAME:아무거나"
      ]
     },
     "execution_count": 10,
     "metadata": {},
     "output_type": "execute_result"
    }
   ],
   "source": [
    "user1"
   ]
  },
  {
   "cell_type": "code",
   "execution_count": 12,
   "id": "7c1ce76b-a8bd-4c27-a792-c28a1cfe05ee",
   "metadata": {},
   "outputs": [
    {
     "data": {
      "text/plain": [
       "(__main__.User, sqlalchemy.sql.schema.Table)"
      ]
     },
     "execution_count": 12,
     "metadata": {},
     "output_type": "execute_result"
    }
   ],
   "source": [
    "type(user1), type(base.metadata.tables['USER'])"
   ]
  },
  {
   "cell_type": "code",
   "execution_count": 13,
   "id": "d22b070d-5466-48d1-b679-43a812983b8c",
   "metadata": {},
   "outputs": [],
   "source": [
    "from sqlalchemy import create_engine"
   ]
  },
  {
   "cell_type": "code",
   "execution_count": 15,
   "id": "97700233-dfe6-491a-a279-508acb212507",
   "metadata": {},
   "outputs": [],
   "source": [
    "engine = create_engine('sqlite:///:memory:', echo = True) #The echo flag is a shortcut to setting up SQLAlchemy logging"
   ]
  },
  {
   "cell_type": "code",
   "execution_count": 16,
   "id": "7db8f420-bfd6-4b08-ae88-0099326e993a",
   "metadata": {},
   "outputs": [
    {
     "name": "stdout",
     "output_type": "stream",
     "text": [
      "2023-09-07 09:24:35,006 INFO sqlalchemy.engine.Engine BEGIN (implicit)\n",
      "2023-09-07 09:24:35,007 INFO sqlalchemy.engine.Engine PRAGMA main.table_info(\"USER\")\n",
      "2023-09-07 09:24:35,008 INFO sqlalchemy.engine.Engine [raw sql] ()\n",
      "2023-09-07 09:24:35,009 INFO sqlalchemy.engine.Engine PRAGMA temp.table_info(\"USER\")\n",
      "2023-09-07 09:24:35,011 INFO sqlalchemy.engine.Engine [raw sql] ()\n",
      "2023-09-07 09:24:35,013 INFO sqlalchemy.engine.Engine \n",
      "CREATE TABLE \"USER\" (\n",
      "\t\"PK\" INTEGER NOT NULL, \n",
      "\t\"NAME\" TEXT, \n",
      "\tPRIMARY KEY (\"PK\")\n",
      ")\n",
      "\n",
      "\n",
      "2023-09-07 09:24:35,015 INFO sqlalchemy.engine.Engine [no key 0.00150s] ()\n",
      "2023-09-07 09:24:35,016 INFO sqlalchemy.engine.Engine COMMIT\n"
     ]
    }
   ],
   "source": [
    "base.metadata.create_all(engine)"
   ]
  },
  {
   "cell_type": "code",
   "execution_count": 17,
   "id": "14bcaf95-6441-44d9-b86d-42156578a063",
   "metadata": {},
   "outputs": [],
   "source": [
    "from sqlalchemy.orm import sessionmaker"
   ]
  },
  {
   "cell_type": "code",
   "execution_count": 18,
   "id": "26ddfef3-f3d5-47bb-b387-44f7f99f41ca",
   "metadata": {},
   "outputs": [],
   "source": [
    "Session = sessionmaker(engine) #엔진 바인딩해줄거임\n",
    "sess = Session()\n",
    "# in-memory에 있는 오브젝트들과 실제 코어를 통해서 RDBMS에 전달하는 창구 역할을 해줌. 커뮤니케이터"
   ]
  },
  {
   "cell_type": "code",
   "execution_count": 20,
   "id": "556f53a3-df76-4dbb-8fcc-648a0fbeb39f",
   "metadata": {},
   "outputs": [],
   "source": [
    "sess.add(user1) #세션에게 user1 이라는 객체를 등록할거임. 아직은 아무일 안 일어남. "
   ]
  },
  {
   "cell_type": "code",
   "execution_count": 23,
   "id": "b66c0ba8-c31a-476c-8c4e-d78c2e83abed",
   "metadata": {},
   "outputs": [
    {
     "name": "stdout",
     "output_type": "stream",
     "text": [
      "2023-09-07 09:30:08,377 INFO sqlalchemy.engine.Engine COMMIT\n"
     ]
    }
   ],
   "source": [
    "sess.commit()\n",
    "#결과는 커밋한거긴 한데\n",
    "#세션이 관찰하고 있는 오브젝트들을 반영 해서 DBMS에 커밋한거임. 그니까 lazy 커넥팅?을 통해서 이제서야 인서트 된거임."
   ]
  },
  {
   "cell_type": "code",
   "execution_count": 22,
   "id": "e1652b40-f622-4f66-8703-2751a3b19f58",
   "metadata": {},
   "outputs": [
    {
     "name": "stdout",
     "output_type": "stream",
     "text": [
      "2023-09-07 09:29:34,793 INFO sqlalchemy.engine.Engine BEGIN (implicit)\n",
      "2023-09-07 09:29:34,806 INFO sqlalchemy.engine.Engine SELECT \"USER\".\"PK\" AS \"USER_PK\", \"USER\".\"NAME\" AS \"USER_NAME\" \n",
      "FROM \"USER\" \n",
      "WHERE \"USER\".\"PK\" = ?\n",
      "2023-09-07 09:29:34,810 INFO sqlalchemy.engine.Engine [generated in 0.00254s] (1,)\n"
     ]
    },
    {
     "data": {
      "text/plain": [
       "PK:1, NAME:아무거나"
      ]
     },
     "execution_count": 22,
     "metadata": {},
     "output_type": "execute_result"
    }
   ],
   "source": [
    "user1\n",
    "#DB에는 이미 등록이 되어 있는데 pk 값이 비어있는걸 알기때문에 user1을 치는순간 셀렉트해줘서 알아서 넣어준거임. "
   ]
  },
  {
   "cell_type": "code",
   "execution_count": 24,
   "id": "c1478578-1d81-4d8e-a1a3-10ffb111f4e6",
   "metadata": {},
   "outputs": [],
   "source": [
    "#이때 커밋했을때 메세지와 user1 찍었을 때 메세지를 봐야함. "
   ]
  },
  {
   "cell_type": "code",
   "execution_count": 25,
   "id": "d0c2b781-5177-499b-a645-4214d03e66b6",
   "metadata": {},
   "outputs": [
    {
     "data": {
      "text/plain": [
       "False"
      ]
     },
     "execution_count": 25,
     "metadata": {},
     "output_type": "execute_result"
    }
   ],
   "source": [
    "sess.is_modified(user1)"
   ]
  },
  {
   "cell_type": "code",
   "execution_count": 26,
   "id": "5603be20-c884-4ebc-a90c-26029e7516d0",
   "metadata": {},
   "outputs": [
    {
     "data": {
      "text/plain": [
       "IdentitySet([])"
      ]
     },
     "execution_count": 26,
     "metadata": {},
     "output_type": "execute_result"
    }
   ],
   "source": [
    "sess.dirty #쌓여있는 작업목록을 볼 수 있음"
   ]
  },
  {
   "cell_type": "code",
   "execution_count": 27,
   "id": "c62d7c14-2ec1-4109-8388-d2a047d0f6ad",
   "metadata": {},
   "outputs": [],
   "source": [
    "user1.name = '다른값'"
   ]
  },
  {
   "cell_type": "code",
   "execution_count": 28,
   "id": "2515fffb-109a-47d0-98a2-6f9181fd5d39",
   "metadata": {},
   "outputs": [
    {
     "data": {
      "text/plain": [
       "PK:1, NAME:다른값"
      ]
     },
     "execution_count": 28,
     "metadata": {},
     "output_type": "execute_result"
    }
   ],
   "source": [
    "user1 #이렇게만 하면 in-memory에 반영된거지 DB에는 반영된거아님."
   ]
  },
  {
   "cell_type": "code",
   "execution_count": 29,
   "id": "6fdedf15-7cd8-41e0-bb47-1336e96cb1cc",
   "metadata": {},
   "outputs": [
    {
     "data": {
      "text/plain": [
       "IdentitySet([PK:1, NAME:다른값])"
      ]
     },
     "execution_count": 29,
     "metadata": {},
     "output_type": "execute_result"
    }
   ],
   "source": [
    "sess.dirty"
   ]
  },
  {
   "cell_type": "code",
   "execution_count": 30,
   "id": "452a87f7-b79a-42f9-bd1e-50807b698837",
   "metadata": {},
   "outputs": [
    {
     "data": {
      "text/plain": [
       "True"
      ]
     },
     "execution_count": 30,
     "metadata": {},
     "output_type": "execute_result"
    }
   ],
   "source": [
    "sess.is_modified(user1)"
   ]
  },
  {
   "cell_type": "code",
   "execution_count": 31,
   "id": "1e9fdfa3-a2a1-44db-b153-bea9c9848fbb",
   "metadata": {},
   "outputs": [
    {
     "name": "stdout",
     "output_type": "stream",
     "text": [
      "2023-09-07 09:33:01,675 INFO sqlalchemy.engine.Engine UPDATE \"USER\" SET \"NAME\"=? WHERE \"USER\".\"PK\" = ?\n",
      "2023-09-07 09:33:01,677 INFO sqlalchemy.engine.Engine [generated in 0.00181s] ('다른값', 1)\n",
      "2023-09-07 09:33:01,679 INFO sqlalchemy.engine.Engine COMMIT\n"
     ]
    }
   ],
   "source": [
    "sess.commit()"
   ]
  },
  {
   "cell_type": "code",
   "execution_count": 32,
   "id": "831a8127-4d37-4353-b5dc-314e6abe439e",
   "metadata": {},
   "outputs": [
    {
     "name": "stdout",
     "output_type": "stream",
     "text": [
      "2023-09-07 09:33:03,697 INFO sqlalchemy.engine.Engine BEGIN (implicit)\n",
      "2023-09-07 09:33:03,697 INFO sqlalchemy.engine.Engine SELECT \"USER\".\"PK\" AS \"USER_PK\", \"USER\".\"NAME\" AS \"USER_NAME\" \n",
      "FROM \"USER\" \n",
      "WHERE \"USER\".\"PK\" = ?\n",
      "2023-09-07 09:33:03,713 INFO sqlalchemy.engine.Engine [cached since 208.9s ago] (1,)\n"
     ]
    },
    {
     "data": {
      "text/plain": [
       "PK:1, NAME:다른값"
      ]
     },
     "execution_count": 32,
     "metadata": {},
     "output_type": "execute_result"
    }
   ],
   "source": [
    "user1"
   ]
  },
  {
   "cell_type": "code",
   "execution_count": 33,
   "id": "f70476ce-a4a9-4983-b275-00a0d90183a1",
   "metadata": {},
   "outputs": [],
   "source": [
    "#당장의 값을 수정하는건 DB에 반영되지 않기 때문에 상관없는데, 언제 세션을 통해서 반영을 하느냐가 포인트임!!!"
   ]
  },
  {
   "cell_type": "code",
   "execution_count": 34,
   "id": "59ccec95-028e-464b-8f6e-6c54bd3e05c3",
   "metadata": {},
   "outputs": [],
   "source": [
    "sess.add_all([User(name='2'), User(name='3')])"
   ]
  },
  {
   "cell_type": "code",
   "execution_count": 35,
   "id": "9fd4e1fe-15fe-41ff-bf02-50d5ea033b72",
   "metadata": {},
   "outputs": [
    {
     "name": "stdout",
     "output_type": "stream",
     "text": [
      "2023-09-07 09:34:27,447 INFO sqlalchemy.engine.Engine INSERT INTO \"USER\" (\"NAME\") VALUES (?) RETURNING \"PK\"\n",
      "2023-09-07 09:34:27,449 INFO sqlalchemy.engine.Engine [generated in 0.00017s (insertmanyvalues) 1/2 (ordered; batch not supported)] ('2',)\n",
      "2023-09-07 09:34:27,451 INFO sqlalchemy.engine.Engine INSERT INTO \"USER\" (\"NAME\") VALUES (?) RETURNING \"PK\"\n",
      "2023-09-07 09:34:27,452 INFO sqlalchemy.engine.Engine [insertmanyvalues 2/2 (ordered; batch not supported)] ('3',)\n",
      "2023-09-07 09:34:27,456 INFO sqlalchemy.engine.Engine COMMIT\n"
     ]
    }
   ],
   "source": [
    "sess.commit()"
   ]
  },
  {
   "cell_type": "code",
   "execution_count": 36,
   "id": "e025942f-3c29-4cba-bbbd-a3b4bbb97383",
   "metadata": {},
   "outputs": [
    {
     "name": "stdout",
     "output_type": "stream",
     "text": [
      "2023-09-07 09:34:42,215 INFO sqlalchemy.engine.Engine BEGIN (implicit)\n",
      "2023-09-07 09:34:42,217 INFO sqlalchemy.engine.Engine SELECT \"USER\".\"PK\" AS \"USER_PK\", \"USER\".\"NAME\" AS \"USER_NAME\" \n",
      "FROM \"USER\"\n",
      "2023-09-07 09:34:42,218 INFO sqlalchemy.engine.Engine [generated in 0.00113s] ()\n"
     ]
    }
   ],
   "source": [
    "userList = sess.query(User).all()"
   ]
  },
  {
   "cell_type": "code",
   "execution_count": 37,
   "id": "f33870a5-eef5-4fcd-9067-678ead0d6f00",
   "metadata": {},
   "outputs": [
    {
     "data": {
      "text/plain": [
       "3"
      ]
     },
     "execution_count": 37,
     "metadata": {},
     "output_type": "execute_result"
    }
   ],
   "source": [
    "len(userList)"
   ]
  },
  {
   "cell_type": "code",
   "execution_count": 38,
   "id": "d6207f21-ea3a-4917-aaa7-beb634dacbb2",
   "metadata": {},
   "outputs": [
    {
     "data": {
      "text/plain": [
       "True"
      ]
     },
     "execution_count": 38,
     "metadata": {},
     "output_type": "execute_result"
    }
   ],
   "source": [
    "user1 is userList[0]"
   ]
  },
  {
   "cell_type": "code",
   "execution_count": 39,
   "id": "64403631-c7a5-4546-be72-7b29180ce3df",
   "metadata": {},
   "outputs": [
    {
     "data": {
      "text/plain": [
       "PK:2, NAME:2"
      ]
     },
     "execution_count": 39,
     "metadata": {},
     "output_type": "execute_result"
    }
   ],
   "source": [
    "userList[1]"
   ]
  },
  {
   "cell_type": "code",
   "execution_count": 40,
   "id": "341ef0e5-a38a-4d12-ace8-ba8722484a0a",
   "metadata": {},
   "outputs": [
    {
     "data": {
      "text/plain": [
       "PK:3, NAME:3"
      ]
     },
     "execution_count": 40,
     "metadata": {},
     "output_type": "execute_result"
    }
   ],
   "source": [
    "userList[2]"
   ]
  },
  {
   "cell_type": "code",
   "execution_count": 41,
   "id": "7b8ef78f-03a5-471e-bd3b-1a830ce3ecc2",
   "metadata": {},
   "outputs": [],
   "source": [
    "userList[1].name = '다른값2'"
   ]
  },
  {
   "cell_type": "code",
   "execution_count": 42,
   "id": "3be15ad1-14ac-417d-aee5-21d118261b0a",
   "metadata": {},
   "outputs": [
    {
     "data": {
      "text/plain": [
       "IdentitySet([PK:2, NAME:다른값2])"
      ]
     },
     "execution_count": 42,
     "metadata": {},
     "output_type": "execute_result"
    }
   ],
   "source": [
    "sess.dirty"
   ]
  },
  {
   "cell_type": "code",
   "execution_count": 43,
   "id": "d81d02e8-b91f-450e-a7e1-ca683bfca73d",
   "metadata": {},
   "outputs": [
    {
     "name": "stdout",
     "output_type": "stream",
     "text": [
      "2023-09-07 09:35:40,971 INFO sqlalchemy.engine.Engine UPDATE \"USER\" SET \"NAME\"=? WHERE \"USER\".\"PK\" = ?\n",
      "2023-09-07 09:35:40,972 INFO sqlalchemy.engine.Engine [cached since 159.3s ago] ('다른값2', 2)\n",
      "2023-09-07 09:35:40,973 INFO sqlalchemy.engine.Engine COMMIT\n"
     ]
    }
   ],
   "source": [
    "sess.commit()"
   ]
  },
  {
   "cell_type": "code",
   "execution_count": 44,
   "id": "abd99466-fef7-4bf9-bb8a-f4ba3a748e34",
   "metadata": {},
   "outputs": [
    {
     "name": "stdout",
     "output_type": "stream",
     "text": [
      "2023-09-07 09:35:47,069 INFO sqlalchemy.engine.Engine BEGIN (implicit)\n",
      "2023-09-07 09:35:47,070 INFO sqlalchemy.engine.Engine SELECT \"USER\".\"PK\" AS \"USER_PK\", \"USER\".\"NAME\" AS \"USER_NAME\" \n",
      "FROM \"USER\" \n",
      "WHERE \"USER\".\"PK\" = ?\n",
      "2023-09-07 09:35:47,071 INFO sqlalchemy.engine.Engine [cached since 372.3s ago] (2,)\n"
     ]
    },
    {
     "data": {
      "text/plain": [
       "PK:2, NAME:다른값2"
      ]
     },
     "execution_count": 44,
     "metadata": {},
     "output_type": "execute_result"
    }
   ],
   "source": [
    "userList[1]"
   ]
  },
  {
   "cell_type": "code",
   "execution_count": 45,
   "id": "581d67ac-6b88-4da3-a356-293ae5b0d493",
   "metadata": {},
   "outputs": [],
   "source": [
    "#새로운 값으로 계속 덮어씌우고 있다는거다. "
   ]
  },
  {
   "cell_type": "code",
   "execution_count": 46,
   "id": "e61806f6-2fbd-42d3-924c-0352384f7303",
   "metadata": {},
   "outputs": [],
   "source": [
    "#그래서 중요한건 sess.dirty 했을때 무언가 값이 남아있다면 DB랑 싱크가 안맞다는것이므로 커밋을 해줘야하는거임. "
   ]
  },
  {
   "cell_type": "code",
   "execution_count": 48,
   "id": "5b88c078-1cf6-4285-8250-6ddc4ce53897",
   "metadata": {},
   "outputs": [
    {
     "data": {
      "text/plain": [
       "True"
      ]
     },
     "execution_count": 48,
     "metadata": {},
     "output_type": "execute_result"
    }
   ],
   "source": [
    "#값을 검색하려고 할때\n",
    "[user for user in userList if user.name == '3'][0] is userList[2]"
   ]
  },
  {
   "cell_type": "code",
   "execution_count": 49,
   "id": "a24065d7-b92f-4fca-95c3-2b77618eed70",
   "metadata": {},
   "outputs": [
    {
     "name": "stdout",
     "output_type": "stream",
     "text": [
      "2023-09-07 09:39:17,948 INFO sqlalchemy.engine.Engine SELECT \"USER\".\"PK\" AS \"USER_PK\", \"USER\".\"NAME\" AS \"USER_NAME\" \n",
      "FROM \"USER\" \n",
      "WHERE \"USER\".\"NAME\" = ?\n",
      "2023-09-07 09:39:17,950 INFO sqlalchemy.engine.Engine [generated in 0.00158s] ('3',)\n"
     ]
    },
    {
     "data": {
      "text/plain": [
       "True"
      ]
     },
     "execution_count": 49,
     "metadata": {},
     "output_type": "execute_result"
    }
   ],
   "source": [
    "sess.query(User).where(User.name == '3').one() is userList[2]"
   ]
  },
  {
   "cell_type": "code",
   "execution_count": 50,
   "id": "f650a13a-dc2f-4754-ae7d-cd97cf1a98bb",
   "metadata": {},
   "outputs": [],
   "source": [
    "#OOP 관점에서 코드 치는 사람은 굉장히 편한 과정이다."
   ]
  },
  {
   "cell_type": "code",
   "execution_count": 51,
   "id": "b9a64857-c971-42f9-8cce-7a06acf42828",
   "metadata": {},
   "outputs": [],
   "source": [
    "class Address(base):\n",
    "    __tablename__ = 'ADDRESS'\n",
    "\n",
    "    pk = Column('PK', Integer, primary_key=True)\n",
    "    name = Column('NAME', Text)\n",
    "    fk = Column('FK', None, ForeignKey('USER.PK'))\n",
    "\n",
    "    def __repr__(self):\n",
    "        return f'PK:{self.pk}, NAME:{self.name}, FK:{self.fk}'\n",
    "        "
   ]
  },
  {
   "cell_type": "code",
   "execution_count": 52,
   "id": "9ecfda5e-eada-4493-9b91-5e004021869f",
   "metadata": {},
   "outputs": [
    {
     "name": "stdout",
     "output_type": "stream",
     "text": [
      "2023-09-07 09:45:11,742 INFO sqlalchemy.engine.Engine BEGIN (implicit)\n",
      "2023-09-07 09:45:11,742 INFO sqlalchemy.engine.Engine PRAGMA main.table_info(\"USER\")\n",
      "2023-09-07 09:45:11,742 INFO sqlalchemy.engine.Engine [raw sql] ()\n",
      "2023-09-07 09:45:11,754 INFO sqlalchemy.engine.Engine PRAGMA main.table_info(\"ADDRESS\")\n",
      "2023-09-07 09:45:11,755 INFO sqlalchemy.engine.Engine [raw sql] ()\n",
      "2023-09-07 09:45:11,756 INFO sqlalchemy.engine.Engine PRAGMA temp.table_info(\"ADDRESS\")\n",
      "2023-09-07 09:45:11,758 INFO sqlalchemy.engine.Engine [raw sql] ()\n",
      "2023-09-07 09:45:11,759 INFO sqlalchemy.engine.Engine \n",
      "CREATE TABLE \"ADDRESS\" (\n",
      "\t\"PK\" INTEGER NOT NULL, \n",
      "\t\"NAME\" TEXT, \n",
      "\t\"FK\" INTEGER, \n",
      "\tPRIMARY KEY (\"PK\"), \n",
      "\tFOREIGN KEY(\"FK\") REFERENCES \"USER\" (\"PK\")\n",
      ")\n",
      "\n",
      "\n",
      "2023-09-07 09:45:11,760 INFO sqlalchemy.engine.Engine [no key 0.00095s] ()\n",
      "2023-09-07 09:45:11,761 INFO sqlalchemy.engine.Engine COMMIT\n"
     ]
    }
   ],
   "source": [
    "#등록하기\n",
    "base.metadata.create_all(engine)"
   ]
  },
  {
   "cell_type": "code",
   "execution_count": 53,
   "id": "c5419c72-d891-41c6-8bf0-c3d7444d6831",
   "metadata": {},
   "outputs": [],
   "source": [
    "sess.add(Address(name='주소1', fk=user1.pk))"
   ]
  },
  {
   "cell_type": "code",
   "execution_count": 54,
   "id": "2801206c-5c73-48fc-a3f1-44e9ec1501f4",
   "metadata": {},
   "outputs": [
    {
     "data": {
      "text/plain": [
       "IdentitySet([])"
      ]
     },
     "execution_count": 54,
     "metadata": {},
     "output_type": "execute_result"
    }
   ],
   "source": [
    "sess.dirty"
   ]
  },
  {
   "cell_type": "code",
   "execution_count": 55,
   "id": "2bd7f2d4-f529-4b05-88b7-1f0ca5993558",
   "metadata": {},
   "outputs": [
    {
     "name": "stdout",
     "output_type": "stream",
     "text": [
      "2023-09-07 09:46:12,177 INFO sqlalchemy.engine.Engine INSERT INTO \"ADDRESS\" (\"NAME\", \"FK\") VALUES (?, ?)\n",
      "2023-09-07 09:46:12,179 INFO sqlalchemy.engine.Engine [generated in 0.00124s] ('주소1', 1)\n",
      "2023-09-07 09:46:12,181 INFO sqlalchemy.engine.Engine COMMIT\n"
     ]
    }
   ],
   "source": [
    "sess.commit()"
   ]
  },
  {
   "cell_type": "code",
   "execution_count": 56,
   "id": "6686024c-3a84-47b4-b131-bac267f6aa45",
   "metadata": {},
   "outputs": [
    {
     "name": "stdout",
     "output_type": "stream",
     "text": [
      "2023-09-07 09:46:31,042 INFO sqlalchemy.engine.Engine BEGIN (implicit)\n",
      "2023-09-07 09:46:31,044 INFO sqlalchemy.engine.Engine SELECT \"ADDRESS\".\"PK\" AS \"ADDRESS_PK\", \"ADDRESS\".\"NAME\" AS \"ADDRESS_NAME\", \"ADDRESS\".\"FK\" AS \"ADDRESS_FK\" \n",
      "FROM \"ADDRESS\"\n",
      "2023-09-07 09:46:31,046 INFO sqlalchemy.engine.Engine [generated in 0.00148s] ()\n"
     ]
    }
   ],
   "source": [
    "address1 = sess.query(Address).one()"
   ]
  },
  {
   "cell_type": "code",
   "execution_count": 57,
   "id": "56aaa1fe-f9ec-406f-96cb-e0ed1ce48270",
   "metadata": {},
   "outputs": [
    {
     "name": "stdout",
     "output_type": "stream",
     "text": [
      "PK:1, NAME:다른값 PK:1, NAME:주소1, FK:1\n",
      "2023-09-07 09:47:00,454 INFO sqlalchemy.engine.Engine SELECT \"USER\".\"PK\" AS \"USER_PK\", \"USER\".\"NAME\" AS \"USER_NAME\" \n",
      "FROM \"USER\" \n",
      "WHERE \"USER\".\"PK\" = ?\n",
      "2023-09-07 09:47:00,455 INFO sqlalchemy.engine.Engine [cached since 1046s ago] (2,)\n",
      "2023-09-07 09:47:00,458 INFO sqlalchemy.engine.Engine SELECT \"USER\".\"PK\" AS \"USER_PK\", \"USER\".\"NAME\" AS \"USER_NAME\" \n",
      "FROM \"USER\" \n",
      "WHERE \"USER\".\"PK\" = ?\n",
      "2023-09-07 09:47:00,458 INFO sqlalchemy.engine.Engine [cached since 1046s ago] (3,)\n"
     ]
    }
   ],
   "source": [
    "for user in userList:\n",
    "    if user.pk == address1.fk:\n",
    "        print(user, address1)"
   ]
  },
  {
   "cell_type": "code",
   "execution_count": 58,
   "id": "73df5551-e547-4495-b799-a5281be2fc2e",
   "metadata": {},
   "outputs": [],
   "source": [
    "#다 날리고 "
   ]
  },
  {
   "cell_type": "code",
   "execution_count": 59,
   "id": "96d76a5d-fa46-4205-89ae-06b119103c2d",
   "metadata": {},
   "outputs": [],
   "source": [
    "engine.dispose()"
   ]
  },
  {
   "cell_type": "code",
   "execution_count": 60,
   "id": "85b5dda4-cfbb-455b-9b56-122d17aa1f36",
   "metadata": {},
   "outputs": [],
   "source": [
    "base.metadata.clear()"
   ]
  },
  {
   "cell_type": "code",
   "execution_count": 61,
   "id": "9163ffa7-91d2-485b-aa34-bc82406483f3",
   "metadata": {},
   "outputs": [],
   "source": [
    "base.registry.dispose()"
   ]
  },
  {
   "cell_type": "code",
   "execution_count": 63,
   "id": "d281a006-9b1b-4fe5-9488-f5799f40d205",
   "metadata": {},
   "outputs": [],
   "source": [
    "#이제 아무것도 없이 비어있는 상태이다. \n",
    "#이 상태에서, 깨끗한 상태에서 작업할 수 있다. 엔진도 sqlite에 연결되어있고"
   ]
  },
  {
   "cell_type": "code",
   "execution_count": 64,
   "id": "0fd61b2d-37cf-4ac6-832e-24c83eab663d",
   "metadata": {},
   "outputs": [],
   "source": [
    "#CITY, SUPPLIER, PART, SELLS 를 ORM 으로 만들기 "
   ]
  },
  {
   "cell_type": "code",
   "execution_count": 65,
   "id": "f4d99cb6-05f8-4da2-ab88-d598ee237665",
   "metadata": {},
   "outputs": [
    {
     "data": {
      "text/plain": [
       "FacadeDict({})"
      ]
     },
     "execution_count": 65,
     "metadata": {},
     "output_type": "execute_result"
    }
   ],
   "source": [
    "base.metadata.tables"
   ]
  },
  {
   "cell_type": "code",
   "execution_count": 66,
   "id": "4ee1c230-80d3-4a60-9506-aa74f9c97d4e",
   "metadata": {},
   "outputs": [
    {
     "data": {
      "text/plain": [
       "<sqlalchemy.orm.decl_api.registry at 0x185ac6f2d40>"
      ]
     },
     "execution_count": 66,
     "metadata": {},
     "output_type": "execute_result"
    }
   ],
   "source": [
    "base.registry"
   ]
  },
  {
   "cell_type": "code",
   "execution_count": 67,
   "id": "56ebd938-3ea3-4bd3-8aea-23829e12f812",
   "metadata": {},
   "outputs": [],
   "source": [
    "class City(base):\n",
    "    __tablename__ = 'CITY'\n",
    "    pk = Column('PK', Integer, primary_key=True)\n",
    "    name =Column('NAME', Text)\n",
    "\n",
    "    def __repr__(self):\n",
    "        return f'PK:{self.pk}, NAME:{self.name}'"
   ]
  },
  {
   "cell_type": "code",
   "execution_count": 68,
   "id": "ad2577e7-5343-4c74-b121-1d2bd4e33aeb",
   "metadata": {},
   "outputs": [],
   "source": [
    "city1 = City(name='Paris')"
   ]
  },
  {
   "cell_type": "code",
   "execution_count": 69,
   "id": "7b7981b6-6e3f-432b-a453-ffa2d3cb01a0",
   "metadata": {},
   "outputs": [
    {
     "data": {
      "text/plain": [
       "PK:None, NAME:Paris"
      ]
     },
     "execution_count": 69,
     "metadata": {},
     "output_type": "execute_result"
    }
   ],
   "source": [
    "city1"
   ]
  },
  {
   "cell_type": "code",
   "execution_count": 70,
   "id": "c06b9e7b-e52b-4d68-8bdf-dbf3828a92df",
   "metadata": {},
   "outputs": [
    {
     "data": {
      "text/plain": [
       "(__main__.City, sqlalchemy.sql.schema.Table)"
      ]
     },
     "execution_count": 70,
     "metadata": {},
     "output_type": "execute_result"
    }
   ],
   "source": [
    "type(city1), type(base.metadata.tables['CITY'])"
   ]
  },
  {
   "cell_type": "code",
   "execution_count": 71,
   "id": "dbcf8421-5245-4207-8998-d1d6c3fc171a",
   "metadata": {},
   "outputs": [],
   "source": [
    "from sqlalchemy import create_engine"
   ]
  },
  {
   "cell_type": "code",
   "execution_count": 72,
   "id": "f180c3f6-0944-4d4a-940b-7ca61ddb1055",
   "metadata": {},
   "outputs": [],
   "source": [
    "engine = create_engine('sqlite:///:memory:', echo=True)"
   ]
  },
  {
   "cell_type": "code",
   "execution_count": 73,
   "id": "9856ef1d-1672-4389-8fca-908b87b2c785",
   "metadata": {},
   "outputs": [
    {
     "name": "stdout",
     "output_type": "stream",
     "text": [
      "2023-09-07 09:57:32,557 INFO sqlalchemy.engine.Engine BEGIN (implicit)\n",
      "2023-09-07 09:57:32,558 INFO sqlalchemy.engine.Engine PRAGMA main.table_info(\"CITY\")\n",
      "2023-09-07 09:57:32,559 INFO sqlalchemy.engine.Engine [raw sql] ()\n",
      "2023-09-07 09:57:32,560 INFO sqlalchemy.engine.Engine PRAGMA temp.table_info(\"CITY\")\n",
      "2023-09-07 09:57:32,561 INFO sqlalchemy.engine.Engine [raw sql] ()\n",
      "2023-09-07 09:57:32,565 INFO sqlalchemy.engine.Engine \n",
      "CREATE TABLE \"CITY\" (\n",
      "\t\"PK\" INTEGER NOT NULL, \n",
      "\t\"NAME\" TEXT, \n",
      "\tPRIMARY KEY (\"PK\")\n",
      ")\n",
      "\n",
      "\n",
      "2023-09-07 09:57:32,566 INFO sqlalchemy.engine.Engine [no key 0.00080s] ()\n",
      "2023-09-07 09:57:32,567 INFO sqlalchemy.engine.Engine COMMIT\n"
     ]
    }
   ],
   "source": [
    "base.metadata.create_all(engine)"
   ]
  },
  {
   "cell_type": "code",
   "execution_count": 74,
   "id": "a2859aa6-f2e6-44c7-8a7a-61ce34239ae2",
   "metadata": {},
   "outputs": [],
   "source": [
    "#CITY, SUPPLIER, PART, SELLS\n",
    "class Supplier(base):\n",
    "    __tablename__ = 'SUPPLIER'\n",
    "    pk = Column('PK', Integer, primary_key=True)\n",
    "    name =Column('NAME', Text)\n",
    "\n",
    "    def __repr__(self):\n",
    "        return f'PK:{self.pk}, NAME:{self.name}'\n",
    "\n",
    "class Part(base):\n",
    "    __tablename__ = 'PART'\n",
    "    pk = Column('PK', Integer, primary_key=True)\n",
    "    name =Column('NAME', Text)\n",
    "\n",
    "    def __repr__(self):\n",
    "        return f'PK:{self.pk}, NAME:{self.name}'\n",
    "\n",
    "class Sells(base):\n",
    "    __tablename__ = 'SELLS'\n",
    "    pk = Column('PK', Integer, primary_key=True)\n",
    "    name =Column('NAME', Text)\n",
    "\n",
    "    def __repr__(self):\n",
    "        return f'PK:{self.pk}, NAME:{self.name}'"
   ]
  },
  {
   "cell_type": "code",
   "execution_count": 75,
   "id": "c79a7d0e-f1e5-43d0-adb6-31203cb91dd9",
   "metadata": {},
   "outputs": [],
   "source": [
    "supplier1 = Supplier(name='Jane')"
   ]
  },
  {
   "cell_type": "code",
   "execution_count": 76,
   "id": "47621a6f-f579-431d-8b2c-6fc49f36ea5f",
   "metadata": {},
   "outputs": [
    {
     "data": {
      "text/plain": [
       "PK:None, NAME:Jane"
      ]
     },
     "execution_count": 76,
     "metadata": {},
     "output_type": "execute_result"
    }
   ],
   "source": [
    "supplier1"
   ]
  },
  {
   "cell_type": "code",
   "execution_count": 77,
   "id": "dbb04ca9-c03b-4239-805a-e60439c72148",
   "metadata": {},
   "outputs": [
    {
     "data": {
      "text/plain": [
       "PK:None, NAME:Screw"
      ]
     },
     "execution_count": 77,
     "metadata": {},
     "output_type": "execute_result"
    }
   ],
   "source": [
    "part1 = Part(name='Screw')\n",
    "part1"
   ]
  },
  {
   "cell_type": "code",
   "execution_count": 78,
   "id": "20ffd17d-c0ba-4493-b0a8-7812af1880e0",
   "metadata": {},
   "outputs": [
    {
     "ename": "NameError",
     "evalue": "name 'meta' is not defined",
     "output_type": "error",
     "traceback": [
      "\u001b[1;31m---------------------------------------------------------------------------\u001b[0m",
      "\u001b[1;31mNameError\u001b[0m                                 Traceback (most recent call last)",
      "Cell \u001b[1;32mIn[78], line 1\u001b[0m\n\u001b[1;32m----> 1\u001b[0m \u001b[43mmeta\u001b[49m\u001b[38;5;241m.\u001b[39mremove(Sells)\n",
      "\u001b[1;31mNameError\u001b[0m: name 'meta' is not defined"
     ]
    }
   ],
   "source": [
    "meta.remove(Sells)"
   ]
  },
  {
   "cell_type": "code",
   "execution_count": 79,
   "id": "1044ce94-5ea1-4c5f-9949-ec96004e3b49",
   "metadata": {},
   "outputs": [
    {
     "ename": "AttributeError",
     "evalue": "type object 'Base' has no attribute 'meta'",
     "output_type": "error",
     "traceback": [
      "\u001b[1;31m---------------------------------------------------------------------------\u001b[0m",
      "\u001b[1;31mAttributeError\u001b[0m                            Traceback (most recent call last)",
      "Cell \u001b[1;32mIn[79], line 1\u001b[0m\n\u001b[1;32m----> 1\u001b[0m \u001b[43mbase\u001b[49m\u001b[38;5;241;43m.\u001b[39;49m\u001b[43mmeta\u001b[49m\u001b[38;5;241m.\u001b[39mremove(Sells)\n",
      "\u001b[1;31mAttributeError\u001b[0m: type object 'Base' has no attribute 'meta'"
     ]
    }
   ],
   "source": [
    "base.meta.remove(Sells)"
   ]
  },
  {
   "cell_type": "code",
   "execution_count": 80,
   "id": "fe4ce6b0-4253-4846-a40b-146bc29a9cbd",
   "metadata": {},
   "outputs": [
    {
     "ename": "NameError",
     "evalue": "name 'metadata' is not defined",
     "output_type": "error",
     "traceback": [
      "\u001b[1;31m---------------------------------------------------------------------------\u001b[0m",
      "\u001b[1;31mNameError\u001b[0m                                 Traceback (most recent call last)",
      "Cell \u001b[1;32mIn[80], line 1\u001b[0m\n\u001b[1;32m----> 1\u001b[0m \u001b[43mmetadata\u001b[49m\u001b[38;5;241m.\u001b[39mremove(Sells)\n",
      "\u001b[1;31mNameError\u001b[0m: name 'metadata' is not defined"
     ]
    }
   ],
   "source": [
    "metadata.remove(Sells)"
   ]
  },
  {
   "cell_type": "code",
   "execution_count": 81,
   "id": "4bbad59e-2081-4d6c-89f6-eaca78c566fb",
   "metadata": {},
   "outputs": [
    {
     "ename": "AttributeError",
     "evalue": "type object 'Sells' has no attribute 'schema'",
     "output_type": "error",
     "traceback": [
      "\u001b[1;31m---------------------------------------------------------------------------\u001b[0m",
      "\u001b[1;31mAttributeError\u001b[0m                            Traceback (most recent call last)",
      "Cell \u001b[1;32mIn[81], line 1\u001b[0m\n\u001b[1;32m----> 1\u001b[0m \u001b[43mbase\u001b[49m\u001b[38;5;241;43m.\u001b[39;49m\u001b[43mmetadata\u001b[49m\u001b[38;5;241;43m.\u001b[39;49m\u001b[43mremove\u001b[49m\u001b[43m(\u001b[49m\u001b[43mSells\u001b[49m\u001b[43m)\u001b[49m\n",
      "File \u001b[1;32m~\\AppData\\Roaming\\Python\\Python310\\site-packages\\sqlalchemy\\sql\\schema.py:5562\u001b[0m, in \u001b[0;36mMetaData.remove\u001b[1;34m(self, table)\u001b[0m\n\u001b[0;32m   5559\u001b[0m \u001b[38;5;28;01mdef\u001b[39;00m \u001b[38;5;21mremove\u001b[39m(\u001b[38;5;28mself\u001b[39m, table: Table) \u001b[38;5;241m-\u001b[39m\u001b[38;5;241m>\u001b[39m \u001b[38;5;28;01mNone\u001b[39;00m:\n\u001b[0;32m   5560\u001b[0m \u001b[38;5;250m    \u001b[39m\u001b[38;5;124;03m\"\"\"Remove the given Table object from this MetaData.\"\"\"\u001b[39;00m\n\u001b[1;32m-> 5562\u001b[0m     \u001b[38;5;28mself\u001b[39m\u001b[38;5;241m.\u001b[39m_remove_table(table\u001b[38;5;241m.\u001b[39mname, \u001b[43mtable\u001b[49m\u001b[38;5;241;43m.\u001b[39;49m\u001b[43mschema\u001b[49m)\n",
      "\u001b[1;31mAttributeError\u001b[0m: type object 'Sells' has no attribute 'schema'"
     ]
    }
   ],
   "source": [
    "base.metadata.remove(Sells)"
   ]
  },
  {
   "cell_type": "code",
   "execution_count": 82,
   "id": "b8bb4308-e29a-4c45-b72f-86d21b243e1d",
   "metadata": {},
   "outputs": [
    {
     "ename": "AttributeError",
     "evalue": "type object 'Sells' has no attribute '_run_ddl_visitor'",
     "output_type": "error",
     "traceback": [
      "\u001b[1;31m---------------------------------------------------------------------------\u001b[0m",
      "\u001b[1;31mAttributeError\u001b[0m                            Traceback (most recent call last)",
      "Cell \u001b[1;32mIn[82], line 1\u001b[0m\n\u001b[1;32m----> 1\u001b[0m \u001b[43mbase\u001b[49m\u001b[38;5;241;43m.\u001b[39;49m\u001b[43mmetadata\u001b[49m\u001b[38;5;241;43m.\u001b[39;49m\u001b[43mdrop_all\u001b[49m\u001b[43m(\u001b[49m\u001b[43mSells\u001b[49m\u001b[43m)\u001b[49m\n",
      "File \u001b[1;32m~\\AppData\\Roaming\\Python\\Python310\\site-packages\\sqlalchemy\\sql\\schema.py:5850\u001b[0m, in \u001b[0;36mMetaData.drop_all\u001b[1;34m(self, bind, tables, checkfirst)\u001b[0m\n\u001b[0;32m   5826\u001b[0m \u001b[38;5;28;01mdef\u001b[39;00m \u001b[38;5;21mdrop_all\u001b[39m(\n\u001b[0;32m   5827\u001b[0m     \u001b[38;5;28mself\u001b[39m,\n\u001b[0;32m   5828\u001b[0m     bind: _CreateDropBind,\n\u001b[0;32m   5829\u001b[0m     tables: Optional[_typing_Sequence[Table]] \u001b[38;5;241m=\u001b[39m \u001b[38;5;28;01mNone\u001b[39;00m,\n\u001b[0;32m   5830\u001b[0m     checkfirst: \u001b[38;5;28mbool\u001b[39m \u001b[38;5;241m=\u001b[39m \u001b[38;5;28;01mTrue\u001b[39;00m,\n\u001b[0;32m   5831\u001b[0m ) \u001b[38;5;241m-\u001b[39m\u001b[38;5;241m>\u001b[39m \u001b[38;5;28;01mNone\u001b[39;00m:\n\u001b[0;32m   5832\u001b[0m \u001b[38;5;250m    \u001b[39m\u001b[38;5;124;03m\"\"\"Drop all tables stored in this metadata.\u001b[39;00m\n\u001b[0;32m   5833\u001b[0m \n\u001b[0;32m   5834\u001b[0m \u001b[38;5;124;03m    Conditional by default, will not attempt to drop tables not present in\u001b[39;00m\n\u001b[1;32m   (...)\u001b[0m\n\u001b[0;32m   5848\u001b[0m \n\u001b[0;32m   5849\u001b[0m \u001b[38;5;124;03m    \"\"\"\u001b[39;00m\n\u001b[1;32m-> 5850\u001b[0m     \u001b[43mbind\u001b[49m\u001b[38;5;241;43m.\u001b[39;49m\u001b[43m_run_ddl_visitor\u001b[49m(\n\u001b[0;32m   5851\u001b[0m         ddl\u001b[38;5;241m.\u001b[39mSchemaDropper, \u001b[38;5;28mself\u001b[39m, checkfirst\u001b[38;5;241m=\u001b[39mcheckfirst, tables\u001b[38;5;241m=\u001b[39mtables\n\u001b[0;32m   5852\u001b[0m     )\n",
      "\u001b[1;31mAttributeError\u001b[0m: type object 'Sells' has no attribute '_run_ddl_visitor'"
     ]
    }
   ],
   "source": [
    "base.metadata.drop_all(Sells)"
   ]
  },
  {
   "cell_type": "code",
   "execution_count": 83,
   "id": "4e6fdeec-4e81-4093-82c0-b6634876ea2c",
   "metadata": {},
   "outputs": [],
   "source": [
    "#선생님과 같이 해보기."
   ]
  },
  {
   "cell_type": "code",
   "execution_count": 144,
   "id": "8ddf8446-fcb6-4e28-8445-99afe240381a",
   "metadata": {},
   "outputs": [],
   "source": [
    "engine.dispose()"
   ]
  },
  {
   "cell_type": "code",
   "execution_count": 145,
   "id": "238e181f-36a5-4664-ad15-87721330cfeb",
   "metadata": {},
   "outputs": [],
   "source": [
    "base.metadata.clear()"
   ]
  },
  {
   "cell_type": "code",
   "execution_count": 147,
   "id": "2276453c-5b9b-41b2-9f8e-d0b4b9b768ba",
   "metadata": {},
   "outputs": [],
   "source": [
    "base.registry.dispose()"
   ]
  },
  {
   "cell_type": "code",
   "execution_count": 148,
   "id": "fb7dfefa-0fb0-4bfb-bfa1-b8a5ca5852fa",
   "metadata": {},
   "outputs": [],
   "source": [
    "#CITY, SUPPLIER, PART, SELLS\n",
    "class City(base):\n",
    "    __tablename__ = 'CITY'\n",
    "    pk = Column('PK', Integer, primary_key=True)\n",
    "    name =Column('NAME', Text)\n",
    "\n",
    "        \n",
    "class Supplier(base):\n",
    "    __tablename__ = 'SUPPLIER'\n",
    "    pk = Column('PK', Integer, primary_key=True)\n",
    "    name =Column('NAME', Text)\n",
    "    fk = Column('FK', Integer, ForeignKey('CITY.PK'))\n",
    "\n",
    "\n",
    "class Part(base):\n",
    "    __tablename__ = 'PART'\n",
    "    pk = Column('PK', Integer, primary_key=True)\n",
    "    name =Column('NAME', Text)\n",
    "\n",
    "\n",
    "class Sells(base):\n",
    "    __tablename__ = 'SELLS'\n",
    "    pk = Column('PK', Integer, primary_key=True)\n",
    "    name =Column('NAME', Text)\n",
    "    fk1 = Column('FK1', Integer, ForeignKey('SUPPLIER.PK'))\n",
    "    fk2 = Column('FK2', Integer, ForeignKey('PART.PK'))\n",
    "\n",
    "#ORM 에서는 PK가 꼭 필요하다. "
   ]
  },
  {
   "cell_type": "code",
   "execution_count": 149,
   "id": "9215ce1d-b8e7-4e79-b44d-cc77503aac8f",
   "metadata": {
    "scrolled": true
   },
   "outputs": [
    {
     "name": "stdout",
     "output_type": "stream",
     "text": [
      "2023-09-07 10:44:18,143 INFO sqlalchemy.engine.Engine BEGIN (implicit)\n",
      "2023-09-07 10:44:18,143 INFO sqlalchemy.engine.Engine PRAGMA main.table_info(\"CITY\")\n",
      "2023-09-07 10:44:18,156 INFO sqlalchemy.engine.Engine [raw sql] ()\n",
      "2023-09-07 10:44:18,159 INFO sqlalchemy.engine.Engine PRAGMA temp.table_info(\"CITY\")\n",
      "2023-09-07 10:44:18,159 INFO sqlalchemy.engine.Engine [raw sql] ()\n",
      "2023-09-07 10:44:18,161 INFO sqlalchemy.engine.Engine PRAGMA main.table_info(\"SUPPLIER\")\n",
      "2023-09-07 10:44:18,161 INFO sqlalchemy.engine.Engine [raw sql] ()\n",
      "2023-09-07 10:44:18,164 INFO sqlalchemy.engine.Engine PRAGMA temp.table_info(\"SUPPLIER\")\n",
      "2023-09-07 10:44:18,166 INFO sqlalchemy.engine.Engine [raw sql] ()\n",
      "2023-09-07 10:44:18,168 INFO sqlalchemy.engine.Engine PRAGMA main.table_info(\"PART\")\n",
      "2023-09-07 10:44:18,168 INFO sqlalchemy.engine.Engine [raw sql] ()\n",
      "2023-09-07 10:44:18,168 INFO sqlalchemy.engine.Engine PRAGMA temp.table_info(\"PART\")\n",
      "2023-09-07 10:44:18,168 INFO sqlalchemy.engine.Engine [raw sql] ()\n",
      "2023-09-07 10:44:18,168 INFO sqlalchemy.engine.Engine PRAGMA main.table_info(\"SELLS\")\n",
      "2023-09-07 10:44:18,168 INFO sqlalchemy.engine.Engine [raw sql] ()\n",
      "2023-09-07 10:44:18,176 INFO sqlalchemy.engine.Engine PRAGMA temp.table_info(\"SELLS\")\n",
      "2023-09-07 10:44:18,178 INFO sqlalchemy.engine.Engine [raw sql] ()\n",
      "2023-09-07 10:44:18,180 INFO sqlalchemy.engine.Engine \n",
      "CREATE TABLE \"CITY\" (\n",
      "\t\"PK\" INTEGER NOT NULL, \n",
      "\t\"NAME\" TEXT, \n",
      "\tPRIMARY KEY (\"PK\")\n",
      ")\n",
      "\n",
      "\n",
      "2023-09-07 10:44:18,182 INFO sqlalchemy.engine.Engine [no key 0.00171s] ()\n",
      "2023-09-07 10:44:18,184 INFO sqlalchemy.engine.Engine \n",
      "CREATE TABLE \"PART\" (\n",
      "\t\"PK\" INTEGER NOT NULL, \n",
      "\t\"NAME\" TEXT, \n",
      "\tPRIMARY KEY (\"PK\")\n",
      ")\n",
      "\n",
      "\n",
      "2023-09-07 10:44:18,186 INFO sqlalchemy.engine.Engine [no key 0.00101s] ()\n",
      "2023-09-07 10:44:18,186 INFO sqlalchemy.engine.Engine \n",
      "CREATE TABLE \"SUPPLIER\" (\n",
      "\t\"PK\" INTEGER NOT NULL, \n",
      "\t\"NAME\" TEXT, \n",
      "\t\"FK\" INTEGER, \n",
      "\tPRIMARY KEY (\"PK\"), \n",
      "\tFOREIGN KEY(\"FK\") REFERENCES \"CITY\" (\"PK\")\n",
      ")\n",
      "\n",
      "\n",
      "2023-09-07 10:44:18,186 INFO sqlalchemy.engine.Engine [no key 0.00167s] ()\n",
      "2023-09-07 10:44:18,192 INFO sqlalchemy.engine.Engine \n",
      "CREATE TABLE \"SELLS\" (\n",
      "\t\"PK\" INTEGER NOT NULL, \n",
      "\t\"NAME\" TEXT, \n",
      "\t\"FK1\" INTEGER, \n",
      "\t\"FK2\" INTEGER, \n",
      "\tPRIMARY KEY (\"PK\"), \n",
      "\tFOREIGN KEY(\"FK1\") REFERENCES \"SUPPLIER\" (\"PK\"), \n",
      "\tFOREIGN KEY(\"FK2\") REFERENCES \"PART\" (\"PK\")\n",
      ")\n",
      "\n",
      "\n",
      "2023-09-07 10:44:18,193 INFO sqlalchemy.engine.Engine [no key 0.00070s] ()\n",
      "2023-09-07 10:44:18,194 INFO sqlalchemy.engine.Engine COMMIT\n"
     ]
    }
   ],
   "source": [
    "base.metadata.create_all(engine)"
   ]
  },
  {
   "cell_type": "code",
   "execution_count": 150,
   "id": "d428f5fd-0002-43ec-9993-87b572a8f0ab",
   "metadata": {},
   "outputs": [
    {
     "data": {
      "text/plain": [
       "(__main__.City, __main__.Supplier, __main__.Part, __main__.Sells)"
      ]
     },
     "execution_count": 150,
     "metadata": {},
     "output_type": "execute_result"
    }
   ],
   "source": [
    "City, Supplier, Part, Sells"
   ]
  },
  {
   "cell_type": "code",
   "execution_count": 98,
   "id": "00364cf2-3728-41be-b709-bafa9961c330",
   "metadata": {},
   "outputs": [],
   "source": [
    "# engine = create_engine('sqlite:///:memory:', echo=True)\n",
    "# Session = sessionmaker(engine)\n",
    "# sess = Session()"
   ]
  },
  {
   "cell_type": "code",
   "execution_count": 151,
   "id": "f05392a7-7f8c-451c-975d-9f8ade54f24a",
   "metadata": {},
   "outputs": [],
   "source": [
    "sess.add_all([City(name='도시1'), City(name='도시2'),\n",
    "            Part(name='부품1'), Part(name='부품2'),\n",
    "            Supplier(name='지점1'),Supplier(name='지점2')])"
   ]
  },
  {
   "cell_type": "code",
   "execution_count": 152,
   "id": "841b7280-cb11-4f6a-bed7-b963d543020c",
   "metadata": {},
   "outputs": [
    {
     "name": "stdout",
     "output_type": "stream",
     "text": [
      "2023-09-07 10:44:24,070 INFO sqlalchemy.engine.Engine BEGIN (implicit)\n",
      "2023-09-07 10:44:24,086 INFO sqlalchemy.engine.Engine INSERT INTO \"CITY\" (\"NAME\") VALUES (?) RETURNING \"PK\"\n",
      "2023-09-07 10:44:24,089 INFO sqlalchemy.engine.Engine [generated in 0.00017s (insertmanyvalues) 1/2 (ordered; batch not supported)] ('도시1',)\n",
      "2023-09-07 10:44:24,090 INFO sqlalchemy.engine.Engine INSERT INTO \"CITY\" (\"NAME\") VALUES (?) RETURNING \"PK\"\n",
      "2023-09-07 10:44:24,092 INFO sqlalchemy.engine.Engine [insertmanyvalues 2/2 (ordered; batch not supported)] ('도시2',)\n",
      "2023-09-07 10:44:24,097 INFO sqlalchemy.engine.Engine INSERT INTO \"PART\" (\"NAME\") VALUES (?) RETURNING \"PK\"\n",
      "2023-09-07 10:44:24,097 INFO sqlalchemy.engine.Engine [generated in 0.00016s (insertmanyvalues) 1/2 (ordered; batch not supported)] ('부품1',)\n",
      "2023-09-07 10:44:24,097 INFO sqlalchemy.engine.Engine INSERT INTO \"PART\" (\"NAME\") VALUES (?) RETURNING \"PK\"\n",
      "2023-09-07 10:44:24,097 INFO sqlalchemy.engine.Engine [insertmanyvalues 2/2 (ordered; batch not supported)] ('부품2',)\n",
      "2023-09-07 10:44:24,105 INFO sqlalchemy.engine.Engine INSERT INTO \"SUPPLIER\" (\"NAME\", \"FK\") VALUES (?, ?) RETURNING \"PK\"\n",
      "2023-09-07 10:44:24,109 INFO sqlalchemy.engine.Engine [generated in 0.00024s (insertmanyvalues) 1/2 (ordered; batch not supported)] ('지점1', None)\n",
      "2023-09-07 10:44:24,110 INFO sqlalchemy.engine.Engine INSERT INTO \"SUPPLIER\" (\"NAME\", \"FK\") VALUES (?, ?) RETURNING \"PK\"\n",
      "2023-09-07 10:44:24,112 INFO sqlalchemy.engine.Engine [insertmanyvalues 2/2 (ordered; batch not supported)] ('지점2', None)\n",
      "2023-09-07 10:44:24,115 INFO sqlalchemy.engine.Engine COMMIT\n"
     ]
    }
   ],
   "source": [
    "sess.commit()"
   ]
  },
  {
   "cell_type": "code",
   "execution_count": 101,
   "id": "7211e04f-2488-46d6-bf99-5a109ae018e6",
   "metadata": {},
   "outputs": [],
   "source": [
    "sess.rollback()"
   ]
  },
  {
   "cell_type": "code",
   "execution_count": 135,
   "id": "d8d4c703-3f59-4228-800c-8d6939a79df4",
   "metadata": {},
   "outputs": [
    {
     "data": {
      "text/plain": [
       "IdentitySet([])"
      ]
     },
     "execution_count": 135,
     "metadata": {},
     "output_type": "execute_result"
    }
   ],
   "source": [
    "sess.dirty"
   ]
  },
  {
   "cell_type": "code",
   "execution_count": 112,
   "id": "97a40c3c-4b73-43ef-931b-56790f5cd90e",
   "metadata": {},
   "outputs": [],
   "source": [
    "#이제 수정을 해볼거임 Relationship 을 이용해서"
   ]
  },
  {
   "cell_type": "code",
   "execution_count": 113,
   "id": "3bb3157e-6a85-4bcb-86fd-48cdcec2f7ba",
   "metadata": {},
   "outputs": [],
   "source": [
    "#일단 인스턴스들이 다 등록되어있을테니 날릴거임"
   ]
  },
  {
   "cell_type": "code",
   "execution_count": 137,
   "id": "f2eb5f79-bfbd-4516-8e12-cb7a5c34d45c",
   "metadata": {},
   "outputs": [],
   "source": [
    "base.registry.dispose()"
   ]
  },
  {
   "cell_type": "code",
   "execution_count": 136,
   "id": "b2925536-9f5e-4e85-b896-b84a5ac3aa36",
   "metadata": {},
   "outputs": [],
   "source": [
    "from sqlalchemy.orm import relationship"
   ]
  },
  {
   "cell_type": "code",
   "execution_count": 115,
   "id": "7901b5a9-6870-49e3-bf92-bd321585056c",
   "metadata": {},
   "outputs": [],
   "source": [
    "#DB에는 남아있고, 메타에도 있는데 단지 클래스만 날아간거임. "
   ]
  },
  {
   "cell_type": "code",
   "execution_count": 138,
   "id": "82060496-1fd7-49ee-921a-0351e9e2baee",
   "metadata": {},
   "outputs": [],
   "source": [
    "#CITY, SUPPLIER, PART, SELLS\n",
    "class City(base):\n",
    "    __tablename__ = 'CITY'\n",
    "    __table_args__ = {'extend_existing' : True}\n",
    "    pk = Column('PK', Integer, primary_key=True)\n",
    "    name =Column('NAME', Text)\n",
    "    supplier = relationship('Supplier', back_populates='city', uselist=True)\n",
    "\n",
    "        \n",
    "class Supplier(base):\n",
    "    __tablename__ = 'SUPPLIER'\n",
    "    __table_args__ = {'extend_existing' : True}\n",
    "    pk = Column('PK', Integer, primary_key=True)\n",
    "    name =Column('NAME', Text)\n",
    "    fk = Column('FK', Integer, ForeignKey('CITY.PK'))\n",
    "    city = relationship('City', back_populates='supplier')\n",
    "\n",
    "\n",
    "class Part(base):\n",
    "    __tablename__ = 'PART'\n",
    "    __table_args__ = {'extend_existing' : True}\n",
    "    pk = Column('PK', Integer, primary_key=True)\n",
    "    name =Column('NAME', Text)\n",
    "\n",
    "\n",
    "class Sells(base):\n",
    "    __tablename__ = 'SELLS'\n",
    "    __table_args__ = {'extend_existing' : True}\n",
    "    pk = Column('PK', Integer, primary_key=True)\n",
    "    fk1 = Column('FK1', Integer, ForeignKey('SUPPLIER.PK'))\n",
    "    fk2 = Column('FK2', Integer, ForeignKey('PART.PK'))"
   ]
  },
  {
   "cell_type": "code",
   "execution_count": 143,
   "id": "bc54d9d8-3b44-496b-a9c5-970b9a842777",
   "metadata": {},
   "outputs": [
    {
     "ename": "NameError",
     "evalue": "name 'city' is not defined",
     "output_type": "error",
     "traceback": [
      "\u001b[1;31m---------------------------------------------------------------------------\u001b[0m",
      "\u001b[1;31mNameError\u001b[0m                                 Traceback (most recent call last)",
      "Cell \u001b[1;32mIn[143], line 1\u001b[0m\n\u001b[1;32m----> 1\u001b[0m \u001b[43mcity\u001b[49m\u001b[38;5;241m.\u001b[39msupplier\n",
      "\u001b[1;31mNameError\u001b[0m: name 'city' is not defined"
     ]
    }
   ],
   "source": [
    "city.supplier"
   ]
  },
  {
   "cell_type": "code",
   "execution_count": 140,
   "id": "56880981-cfc7-4684-b1a7-6e5669b7574f",
   "metadata": {},
   "outputs": [
    {
     "ename": "NameError",
     "evalue": "name 'city' is not defined",
     "output_type": "error",
     "traceback": [
      "\u001b[1;31m---------------------------------------------------------------------------\u001b[0m",
      "\u001b[1;31mNameError\u001b[0m                                 Traceback (most recent call last)",
      "Cell \u001b[1;32mIn[140], line 1\u001b[0m\n\u001b[1;32m----> 1\u001b[0m \u001b[43mcity\u001b[49m\n",
      "\u001b[1;31mNameError\u001b[0m: name 'city' is not defined"
     ]
    }
   ],
   "source": [
    "city"
   ]
  },
  {
   "cell_type": "code",
   "execution_count": 141,
   "id": "febce1c1-9e70-49bc-8080-16dbf8ccf2c4",
   "metadata": {},
   "outputs": [
    {
     "data": {
      "text/plain": [
       "__main__.City"
      ]
     },
     "execution_count": 141,
     "metadata": {},
     "output_type": "execute_result"
    }
   ],
   "source": [
    "City"
   ]
  },
  {
   "cell_type": "code",
   "execution_count": 142,
   "id": "fe5b5376-8797-4f00-89aa-0b8db269797e",
   "metadata": {},
   "outputs": [
    {
     "ename": "AttributeError",
     "evalue": "type object 'City' has no attribute 'nodes'",
     "output_type": "error",
     "traceback": [
      "\u001b[1;31m---------------------------------------------------------------------------\u001b[0m",
      "\u001b[1;31mAttributeError\u001b[0m                            Traceback (most recent call last)",
      "Cell \u001b[1;32mIn[142], line 1\u001b[0m\n\u001b[1;32m----> 1\u001b[0m \u001b[43mCity\u001b[49m\u001b[38;5;241;43m.\u001b[39;49m\u001b[43mnodes\u001b[49m\n",
      "\u001b[1;31mAttributeError\u001b[0m: type object 'City' has no attribute 'nodes'"
     ]
    }
   ],
   "source": [
    "City.nodes"
   ]
  },
  {
   "cell_type": "code",
   "execution_count": 123,
   "id": "ef4cc384-4d1f-484c-814d-6c0b9d79c9ee",
   "metadata": {},
   "outputs": [
    {
     "ename": "TypeError",
     "evalue": "object of type 'InstrumentedAttribute' has no len()",
     "output_type": "error",
     "traceback": [
      "\u001b[1;31m---------------------------------------------------------------------------\u001b[0m",
      "\u001b[1;31mTypeError\u001b[0m                                 Traceback (most recent call last)",
      "Cell \u001b[1;32mIn[123], line 1\u001b[0m\n\u001b[1;32m----> 1\u001b[0m \u001b[38;5;28;43mlen\u001b[39;49m\u001b[43m(\u001b[49m\u001b[43mCity\u001b[49m\u001b[38;5;241;43m.\u001b[39;49m\u001b[43mnodes\u001b[49m\u001b[43m)\u001b[49m\n",
      "\u001b[1;31mTypeError\u001b[0m: object of type 'InstrumentedAttribute' has no len()"
     ]
    }
   ],
   "source": [
    "len(City.nodes)"
   ]
  },
  {
   "cell_type": "code",
   "execution_count": 124,
   "id": "a17ee32e-a488-4829-842b-4f4a0f4e492a",
   "metadata": {},
   "outputs": [
    {
     "ename": "NameError",
     "evalue": "name 'city' is not defined",
     "output_type": "error",
     "traceback": [
      "\u001b[1;31m---------------------------------------------------------------------------\u001b[0m",
      "\u001b[1;31mNameError\u001b[0m                                 Traceback (most recent call last)",
      "Cell \u001b[1;32mIn[124], line 1\u001b[0m\n\u001b[1;32m----> 1\u001b[0m \u001b[38;5;28mlen\u001b[39m(\u001b[43mcity\u001b[49m\u001b[38;5;241m.\u001b[39mnodes)\n",
      "\u001b[1;31mNameError\u001b[0m: name 'city' is not defined"
     ]
    }
   ],
   "source": [
    "len(city.nodes)"
   ]
  },
  {
   "cell_type": "code",
   "execution_count": 125,
   "id": "a289a75d-5857-4855-a60d-5f4292d41b75",
   "metadata": {},
   "outputs": [
    {
     "data": {
      "text/plain": [
       "IdentitySet([])"
      ]
     },
     "execution_count": 125,
     "metadata": {},
     "output_type": "execute_result"
    }
   ],
   "source": [
    "sess.dirty"
   ]
  },
  {
   "cell_type": "code",
   "execution_count": 126,
   "id": "fb696f3a-6be2-4b4a-acfb-e09f3f4425c0",
   "metadata": {},
   "outputs": [],
   "source": [
    "sess.commit()"
   ]
  },
  {
   "cell_type": "code",
   "execution_count": null,
   "id": "43fcbd4e-f4b4-40be-bd4b-11c157b6e5df",
   "metadata": {},
   "outputs": [],
   "source": [
    "sess.query(Supplier).all()"
   ]
  },
  {
   "cell_type": "code",
   "execution_count": 153,
   "id": "245d8b0e-10a8-48f5-8589-3aa2db6e6c65",
   "metadata": {},
   "outputs": [],
   "source": [
    "#세션 포함 다 없앨거임...... 하........."
   ]
  },
  {
   "cell_type": "code",
   "execution_count": 206,
   "id": "6e12923d-fb75-444d-82d6-3ee642cb62d0",
   "metadata": {},
   "outputs": [],
   "source": [
    "engine.dispose()\n",
    "sess.close()\n",
    "base.registry.dispose()\n",
    "base.metadata.clear()"
   ]
  },
  {
   "cell_type": "code",
   "execution_count": 155,
   "id": "e2c52034-cf9e-4699-b1a4-b0bd2c3af3e1",
   "metadata": {},
   "outputs": [],
   "source": [
    "#노래 예제 해보기"
   ]
  },
  {
   "cell_type": "code",
   "execution_count": 207,
   "id": "9ba87dfe-3656-4527-a7c6-d3f75c4db455",
   "metadata": {},
   "outputs": [],
   "source": [
    "engine = create_engine('sqlite:///:memory:', echo=True)\n",
    "base = declarative_base()\n",
    "Session = sessionmaker(engine)\n",
    "sess = Session()"
   ]
  },
  {
   "cell_type": "code",
   "execution_count": 157,
   "id": "86576e6a-4f51-4ff8-a02e-3fba22ede93f",
   "metadata": {},
   "outputs": [],
   "source": [
    "#Lazy Connecting"
   ]
  },
  {
   "cell_type": "code",
   "execution_count": 209,
   "id": "5ab3e034-ff90-4a24-8d6f-d3f603a93a64",
   "metadata": {},
   "outputs": [],
   "source": [
    "class Artist(base):\n",
    "    __tablename__ = 'ARTIST'\n",
    "    pk = Column('PK', Integer, primary_key=True)\n",
    "    name= Column('NAME', Text)\n",
    "    albums = relationship('Album', back_populates='artist', uselist=True)\n",
    "\n",
    "    def addAlbum(self, name):\n",
    "        album = Album(name=name)\n",
    "        sess.add(album)\n",
    "        sess.commit()\n",
    "        self.albums.append(album)\n",
    "\n",
    "    # def delAlbum(self, name):\n",
    "\n",
    "    #     album = Album(name=name)\n",
    "    #     sess.delete(album)\n",
    "    #     sess.commit()\n",
    "    #     self.albums.remove(album)\n",
    "\n",
    "    def delAlbum(self, name):\n",
    "    # 데이터베이스에서 해당 앨범을 조회\n",
    "        album_to_delete = sess.query(Album).filter_by(name=name).first()\n",
    "\n",
    "        if album_to_delete:\n",
    "            # 데이터베이스에서 삭제\n",
    "            sess.delete(album_to_delete)\n",
    "            sess.commit()\n",
    "            # 클래스의 albums 리스트에서도 제거\n",
    "            self.albums.remove(album_to_delete)\n",
    "        else:\n",
    "            print(f\"Album with name '{name}' not found.\")\n",
    "        \n",
    "    def __repr__(self):\n",
    "        return f'{self.name}, {len(self.albums)}'\n",
    "\n",
    "class Album(base):\n",
    "    __tablename__ = 'ALBUM'\n",
    "    pk = Column('PK', Integer, primary_key=True)\n",
    "    name= Column('NAME', Text)\n",
    "    fk = Column('FK', ForeignKey('ARTIST.PK'))\n",
    "    artist = relationship('Artist', back_populates='albums')\n",
    "\n",
    "    def __repr__(self):\n",
    "        return f'{self.name}, {self.artist.name}'"
   ]
  },
  {
   "cell_type": "code",
   "execution_count": 210,
   "id": "56d73fed-1099-4d6e-9ed4-fef55d3d20a9",
   "metadata": {
    "scrolled": true
   },
   "outputs": [
    {
     "name": "stdout",
     "output_type": "stream",
     "text": [
      "2023-09-07 11:19:49,387 INFO sqlalchemy.engine.Engine BEGIN (implicit)\n",
      "2023-09-07 11:19:49,387 INFO sqlalchemy.engine.Engine PRAGMA main.table_info(\"ARTIST\")\n",
      "2023-09-07 11:19:49,388 INFO sqlalchemy.engine.Engine [raw sql] ()\n",
      "2023-09-07 11:19:49,390 INFO sqlalchemy.engine.Engine PRAGMA temp.table_info(\"ARTIST\")\n",
      "2023-09-07 11:19:49,391 INFO sqlalchemy.engine.Engine [raw sql] ()\n",
      "2023-09-07 11:19:49,394 INFO sqlalchemy.engine.Engine PRAGMA main.table_info(\"ALBUM\")\n",
      "2023-09-07 11:19:49,395 INFO sqlalchemy.engine.Engine [raw sql] ()\n",
      "2023-09-07 11:19:49,397 INFO sqlalchemy.engine.Engine PRAGMA temp.table_info(\"ALBUM\")\n",
      "2023-09-07 11:19:49,398 INFO sqlalchemy.engine.Engine [raw sql] ()\n",
      "2023-09-07 11:19:49,400 INFO sqlalchemy.engine.Engine \n",
      "CREATE TABLE \"ARTIST\" (\n",
      "\t\"PK\" INTEGER NOT NULL, \n",
      "\t\"NAME\" TEXT, \n",
      "\tPRIMARY KEY (\"PK\")\n",
      ")\n",
      "\n",
      "\n",
      "2023-09-07 11:19:49,401 INFO sqlalchemy.engine.Engine [no key 0.00089s] ()\n",
      "2023-09-07 11:19:49,402 INFO sqlalchemy.engine.Engine \n",
      "CREATE TABLE \"ALBUM\" (\n",
      "\t\"PK\" INTEGER NOT NULL, \n",
      "\t\"NAME\" TEXT, \n",
      "\t\"FK\" INTEGER, \n",
      "\tPRIMARY KEY (\"PK\"), \n",
      "\tFOREIGN KEY(\"FK\") REFERENCES \"ARTIST\" (\"PK\")\n",
      ")\n",
      "\n",
      "\n",
      "2023-09-07 11:19:49,404 INFO sqlalchemy.engine.Engine [no key 0.00110s] ()\n",
      "2023-09-07 11:19:49,407 INFO sqlalchemy.engine.Engine COMMIT\n"
     ]
    }
   ],
   "source": [
    "base.metadata.create_all(engine)"
   ]
  },
  {
   "cell_type": "code",
   "execution_count": 211,
   "id": "24051600-50ec-4a23-b118-d75277f21528",
   "metadata": {},
   "outputs": [
    {
     "data": {
      "text/plain": [
       "<bound method Session.commit of <sqlalchemy.orm.session.Session object at 0x00000185B43C3790>>"
      ]
     },
     "execution_count": 211,
     "metadata": {},
     "output_type": "execute_result"
    }
   ],
   "source": [
    "artist1 = Artist(name='가수1')\n",
    "sess.add(artist1)\n",
    "sess.commit"
   ]
  },
  {
   "cell_type": "code",
   "execution_count": 212,
   "id": "407253d2-fd7d-4612-a29b-db58254411a7",
   "metadata": {},
   "outputs": [
    {
     "name": "stdout",
     "output_type": "stream",
     "text": [
      "2023-09-07 11:19:53,423 INFO sqlalchemy.engine.Engine BEGIN (implicit)\n",
      "2023-09-07 11:19:53,426 INFO sqlalchemy.engine.Engine INSERT INTO \"ARTIST\" (\"NAME\") VALUES (?)\n",
      "2023-09-07 11:19:53,427 INFO sqlalchemy.engine.Engine [generated in 0.00132s] ('가수1',)\n",
      "2023-09-07 11:19:53,430 INFO sqlalchemy.engine.Engine INSERT INTO \"ALBUM\" (\"NAME\", \"FK\") VALUES (?, ?)\n",
      "2023-09-07 11:19:53,432 INFO sqlalchemy.engine.Engine [generated in 0.00157s] ('앨범1', None)\n",
      "2023-09-07 11:19:53,434 INFO sqlalchemy.engine.Engine COMMIT\n",
      "2023-09-07 11:19:53,437 INFO sqlalchemy.engine.Engine BEGIN (implicit)\n",
      "2023-09-07 11:19:53,437 INFO sqlalchemy.engine.Engine SELECT \"ARTIST\".\"PK\" AS \"ARTIST_PK\", \"ARTIST\".\"NAME\" AS \"ARTIST_NAME\" \n",
      "FROM \"ARTIST\" \n",
      "WHERE \"ARTIST\".\"PK\" = ?\n",
      "2023-09-07 11:19:53,437 INFO sqlalchemy.engine.Engine [generated in 0.00143s] (1,)\n",
      "2023-09-07 11:19:53,437 INFO sqlalchemy.engine.Engine SELECT \"ALBUM\".\"PK\" AS \"ALBUM_PK\", \"ALBUM\".\"NAME\" AS \"ALBUM_NAME\", \"ALBUM\".\"FK\" AS \"ALBUM_FK\" \n",
      "FROM \"ALBUM\" \n",
      "WHERE ? = \"ALBUM\".\"FK\"\n",
      "2023-09-07 11:19:53,437 INFO sqlalchemy.engine.Engine [generated in 0.00240s] (1,)\n"
     ]
    }
   ],
   "source": [
    "artist1.addAlbum('앨범1')"
   ]
  },
  {
   "cell_type": "code",
   "execution_count": 213,
   "id": "888d2325-7e6d-4f31-83d1-0a708524f5c7",
   "metadata": {},
   "outputs": [
    {
     "name": "stdout",
     "output_type": "stream",
     "text": [
      "2023-09-07 11:19:55,952 INFO sqlalchemy.engine.Engine SELECT \"ALBUM\".\"PK\" AS \"ALBUM_PK\", \"ALBUM\".\"NAME\" AS \"ALBUM_NAME\" \n",
      "FROM \"ALBUM\" \n",
      "WHERE \"ALBUM\".\"PK\" = ?\n",
      "2023-09-07 11:19:55,953 INFO sqlalchemy.engine.Engine [generated in 0.00175s] (1,)\n",
      "2023-09-07 11:19:55,956 INFO sqlalchemy.engine.Engine UPDATE \"ALBUM\" SET \"FK\"=? WHERE \"ALBUM\".\"PK\" = ?\n",
      "2023-09-07 11:19:55,959 INFO sqlalchemy.engine.Engine [generated in 0.00156s] (1, 1)\n",
      "2023-09-07 11:19:55,961 INFO sqlalchemy.engine.Engine SELECT \"ALBUM\".\"PK\" AS \"ALBUM_PK\", \"ALBUM\".\"NAME\" AS \"ALBUM_NAME\", \"ALBUM\".\"FK\" AS \"ALBUM_FK\" \n",
      "FROM \"ALBUM\" \n",
      "WHERE \"ALBUM\".\"PK\" = ?\n",
      "2023-09-07 11:19:55,962 INFO sqlalchemy.engine.Engine [generated in 0.00121s] (1,)\n"
     ]
    },
    {
     "data": {
      "text/plain": [
       "앨범1, 가수1"
      ]
     },
     "execution_count": 213,
     "metadata": {},
     "output_type": "execute_result"
    }
   ],
   "source": [
    "artist1.albums[0]"
   ]
  },
  {
   "cell_type": "code",
   "execution_count": 175,
   "id": "c04c3612-f429-434f-ba0b-0fde29acff7e",
   "metadata": {},
   "outputs": [],
   "source": [
    "#앨범을 삭제하는 코드를 만들기 "
   ]
  },
  {
   "cell_type": "code",
   "execution_count": 214,
   "id": "f5229189-378c-413c-ba29-afabd0b6e991",
   "metadata": {},
   "outputs": [
    {
     "data": {
      "text/plain": [
       "가수1, 1"
      ]
     },
     "execution_count": 214,
     "metadata": {},
     "output_type": "execute_result"
    }
   ],
   "source": [
    "artist1"
   ]
  },
  {
   "cell_type": "code",
   "execution_count": 188,
   "id": "0cb305ea-a136-4ca4-b246-0b0d302bc01e",
   "metadata": {},
   "outputs": [],
   "source": [
    "#존재하는지부터 확인 후 지워야하지 않을까?"
   ]
  },
  {
   "cell_type": "code",
   "execution_count": 215,
   "id": "7c2b6be1-16f0-4bd5-baaa-02a3c53fda5b",
   "metadata": {},
   "outputs": [
    {
     "data": {
      "text/plain": [
       "<bound method Session.commit of <sqlalchemy.orm.session.Session object at 0x00000185B43C3790>>"
      ]
     },
     "execution_count": 215,
     "metadata": {},
     "output_type": "execute_result"
    }
   ],
   "source": [
    "sess.commit"
   ]
  },
  {
   "cell_type": "code",
   "execution_count": 217,
   "id": "82a8bce9-413a-4257-8d24-4f4388a552f1",
   "metadata": {},
   "outputs": [
    {
     "name": "stdout",
     "output_type": "stream",
     "text": [
      "2023-09-07 11:20:14,964 INFO sqlalchemy.engine.Engine SELECT \"ALBUM\".\"PK\" AS \"ALBUM_PK\", \"ALBUM\".\"NAME\" AS \"ALBUM_NAME\", \"ALBUM\".\"FK\" AS \"ALBUM_FK\" \n",
      "FROM \"ALBUM\" \n",
      "WHERE \"ALBUM\".\"NAME\" = ?\n",
      " LIMIT ? OFFSET ?\n",
      "2023-09-07 11:20:14,966 INFO sqlalchemy.engine.Engine [cached since 11.46s ago] ('1', 1, 0)\n",
      "Album with name '1' not found.\n"
     ]
    }
   ],
   "source": [
    "artist1.delAlbum('1')"
   ]
  },
  {
   "cell_type": "code",
   "execution_count": 218,
   "id": "e818c684-f921-4945-bb61-81ab0c511232",
   "metadata": {},
   "outputs": [
    {
     "data": {
      "text/plain": [
       "가수1, 0"
      ]
     },
     "execution_count": 218,
     "metadata": {},
     "output_type": "execute_result"
    }
   ],
   "source": [
    "artist1"
   ]
  },
  {
   "cell_type": "code",
   "execution_count": 220,
   "id": "6f01fe34-a45b-4f02-866d-66dedd5acfaf",
   "metadata": {},
   "outputs": [
    {
     "data": {
      "text/plain": [
       "<sqlalchemy.orm.query.Query at 0x185b4616980>"
      ]
     },
     "execution_count": 220,
     "metadata": {},
     "output_type": "execute_result"
    }
   ],
   "source": [
    "sess.query(Artist)"
   ]
  },
  {
   "cell_type": "code",
   "execution_count": 221,
   "id": "3dbe8cff-10d2-4cd8-8eaa-a23c9cfbeda9",
   "metadata": {},
   "outputs": [
    {
     "data": {
      "text/plain": [
       "<sqlalchemy.orm.query.Query at 0x185b4616800>"
      ]
     },
     "execution_count": 221,
     "metadata": {},
     "output_type": "execute_result"
    }
   ],
   "source": [
    "sess.query(Album)"
   ]
  },
  {
   "cell_type": "code",
   "execution_count": 205,
   "id": "a65c31b1-14e9-47e2-9f79-c641d7f4e440",
   "metadata": {},
   "outputs": [
    {
     "name": "stdout",
     "output_type": "stream",
     "text": [
      "2023-09-07 11:19:03,184 INFO sqlalchemy.engine.Engine COMMIT\n"
     ]
    }
   ],
   "source": [
    "sess.commit()"
   ]
  },
  {
   "cell_type": "code",
   "execution_count": null,
   "id": "80cb6731-8a40-42ca-abfd-bff2c022ccee",
   "metadata": {},
   "outputs": [],
   "source": [
    "# #### 선생님 풀이 #####\n",
    "# class Artist(base):\n",
    "#     __tablename__ = 'ARTIST'\n",
    "#     pk = Column('PK', Integer, primary_key=True)\n",
    "#     name= Column('NAME', Text)\n",
    "#     albums = relationship('Album', back_populates='artist', uselist=True)\n",
    "\n",
    "#     def addAlbum(self, name):\n",
    "#         album = Album(name=name)\n",
    "#         sess.add(album)\n",
    "#         sess.commit()\n",
    "#         self.albums.append(album)\n",
    "\n",
    "\n",
    "#     def delAlbum(self, name):\n",
    "#         album = sess.query(Album).filter(Album.name=name).one()\n",
    "        \n",
    "\n",
    "        \n",
    "#     def __repr__(self):\n",
    "#         return f'{self.name}, {len(self.albums)}'\n",
    "\n",
    "# class Album(base):\n",
    "#     __tablename__ = 'ALBUM'\n",
    "#     pk = Column('PK', Integer, primary_key=True)\n",
    "#     name= Column('NAME', Text)\n",
    "#     fk = Column('FK', ForeignKey('ARTIST.PK'))\n",
    "#     artist = relationship('Artist', back_populates='albums')\n",
    "\n",
    "#     def __repr__(self):\n",
    "#         return f'{self.name}, {self.artist.name}'"
   ]
  },
  {
   "cell_type": "code",
   "execution_count": 222,
   "id": "04c6f3f4-24e1-4a13-865b-9377cd5b41c7",
   "metadata": {},
   "outputs": [],
   "source": [
    "#다시 다 삭제하고 다시..."
   ]
  },
  {
   "cell_type": "code",
   "execution_count": 225,
   "id": "8978f12b-f86f-4c31-9316-af270609bfb0",
   "metadata": {},
   "outputs": [
    {
     "data": {
      "text/plain": [
       "<bound method Session.commit of <sqlalchemy.orm.session.Session object at 0x00000185B43C3790>>"
      ]
     },
     "execution_count": 225,
     "metadata": {},
     "output_type": "execute_result"
    }
   ],
   "source": [
    "sess.commit"
   ]
  },
  {
   "cell_type": "code",
   "execution_count": 236,
   "id": "6c666326-cf06-4dad-8c73-b472ca286c28",
   "metadata": {},
   "outputs": [],
   "source": [
    "engine.dispose()\n",
    "sess.close()\n",
    "base.registry.dispose()\n",
    "base.metadata.clear()"
   ]
  },
  {
   "cell_type": "code",
   "execution_count": 237,
   "id": "b901449d-3deb-4eae-b77a-bab659d58c6d",
   "metadata": {},
   "outputs": [],
   "source": [
    "engine = create_engine('sqlite:///:memory:', echo=True)\n",
    "base = declarative_base()\n",
    "Session = sessionmaker(engine)\n",
    "sess = Session()"
   ]
  },
  {
   "cell_type": "code",
   "execution_count": null,
   "id": "207ea188-ceec-4725-9937-c9b706ff4e42",
   "metadata": {},
   "outputs": [],
   "source": [
    "#기존에서 가져오기\n",
    "# base.metadata.reflect(engine)\n",
    "# base.metadata.tables['테이블이름']\n",
    "# class 어쩌고(base):\n",
    "#     __table__ = base.metadata.tables['테이블이름']\n",
    "#     pk = \n",
    "#     relationship\n",
    "    "
   ]
  },
  {
   "cell_type": "code",
   "execution_count": 228,
   "id": "3c6ebce4-7144-40dc-9345-b4c889211b32",
   "metadata": {},
   "outputs": [],
   "source": [
    "#HashTag 해보기..."
   ]
  },
  {
   "cell_type": "code",
   "execution_count": null,
   "id": "6173be2a-d4f0-483f-a09f-59f639c08313",
   "metadata": {},
   "outputs": [],
   "source": [
    "# base.registry.dispose()"
   ]
  },
  {
   "cell_type": "code",
   "execution_count": 239,
   "id": "1ca7d6a8-9af3-4e19-965d-0d6db0655a4f",
   "metadata": {},
   "outputs": [
    {
     "ename": "ArgumentError",
     "evalue": "Argument 'arg' is expected to be one of type '<class 'str'>' or '<class 'sqlalchemy.sql.elements.ClauseElement'>' or '<class 'sqlalchemy.sql.elements.TextClause'>', got '<class 'int'>'",
     "output_type": "error",
     "traceback": [
      "\u001b[1;31m---------------------------------------------------------------------------\u001b[0m",
      "\u001b[1;31mArgumentError\u001b[0m                             Traceback (most recent call last)",
      "Cell \u001b[1;32mIn[239], line 34\u001b[0m\n\u001b[0;32m     30\u001b[0m     \u001b[38;5;28;01mdef\u001b[39;00m \u001b[38;5;21m__repr__\u001b[39m(\u001b[38;5;28mself\u001b[39m):\n\u001b[0;32m     31\u001b[0m         \u001b[38;5;28;01mreturn\u001b[39;00m \u001b[38;5;124mf\u001b[39m\u001b[38;5;124m'\u001b[39m\u001b[38;5;132;01m{\u001b[39;00m\u001b[38;5;28mself\u001b[39m\u001b[38;5;241m.\u001b[39mpk\u001b[38;5;132;01m}\u001b[39;00m\u001b[38;5;124m, \u001b[39m\u001b[38;5;132;01m{\u001b[39;00m\u001b[38;5;28mlen\u001b[39m(\u001b[38;5;28mself\u001b[39m\u001b[38;5;241m.\u001b[39mtags)\u001b[38;5;132;01m}\u001b[39;00m\u001b[38;5;124m'\u001b[39m\n\u001b[1;32m---> 34\u001b[0m \u001b[38;5;28;01mclass\u001b[39;00m \u001b[38;5;21;01mHashtag\u001b[39;00m(base):\n\u001b[0;32m     35\u001b[0m     __tablename__ \u001b[38;5;241m=\u001b[39m \u001b[38;5;124m'\u001b[39m\u001b[38;5;124mHASHTAG\u001b[39m\u001b[38;5;124m'\u001b[39m\n\u001b[0;32m     36\u001b[0m     pk \u001b[38;5;241m=\u001b[39m Column(\u001b[38;5;124m'\u001b[39m\u001b[38;5;124mPK\u001b[39m\u001b[38;5;124m'\u001b[39m, Integer, primary_key\u001b[38;5;241m=\u001b[39m\u001b[38;5;28;01mTrue\u001b[39;00m)\n",
      "Cell \u001b[1;32mIn[239], line 38\u001b[0m, in \u001b[0;36mHashtag\u001b[1;34m()\u001b[0m\n\u001b[0;32m     36\u001b[0m pk \u001b[38;5;241m=\u001b[39m Column(\u001b[38;5;124m'\u001b[39m\u001b[38;5;124mPK\u001b[39m\u001b[38;5;124m'\u001b[39m, Integer, primary_key\u001b[38;5;241m=\u001b[39m\u001b[38;5;28;01mTrue\u001b[39;00m)\n\u001b[0;32m     37\u001b[0m name \u001b[38;5;241m=\u001b[39m Column(\u001b[38;5;124m'\u001b[39m\u001b[38;5;124mNAME\u001b[39m\u001b[38;5;124m'\u001b[39m, Text)\n\u001b[1;32m---> 38\u001b[0m cnt \u001b[38;5;241m=\u001b[39m \u001b[43mColumn\u001b[49m\u001b[43m(\u001b[49m\u001b[38;5;124;43m'\u001b[39;49m\u001b[38;5;124;43mCNT\u001b[39;49m\u001b[38;5;124;43m'\u001b[39;49m\u001b[43m,\u001b[49m\u001b[43m \u001b[49m\u001b[43mInteger\u001b[49m\u001b[43m,\u001b[49m\u001b[43m \u001b[49m\u001b[43mserver_default\u001b[49m\u001b[38;5;241;43m=\u001b[39;49m\u001b[38;5;241;43m0\u001b[39;49m\u001b[43m)\u001b[49m\n\u001b[0;32m     39\u001b[0m posts \u001b[38;5;241m=\u001b[39m relationship(\u001b[38;5;124m'\u001b[39m\u001b[38;5;124mTags\u001b[39m\u001b[38;5;124m'\u001b[39m, back_populates\u001b[38;5;241m=\u001b[39m\u001b[38;5;124m'\u001b[39m\u001b[38;5;124mhashtag\u001b[39m\u001b[38;5;124m'\u001b[39m, uselist\u001b[38;5;241m=\u001b[39m\u001b[38;5;28;01mTrue\u001b[39;00m)\n\u001b[0;32m     41\u001b[0m \u001b[38;5;28;01mdef\u001b[39;00m \u001b[38;5;21m__repr__\u001b[39m(\u001b[38;5;28mself\u001b[39m):\n",
      "File \u001b[1;32m~\\AppData\\Roaming\\Python\\Python310\\site-packages\\sqlalchemy\\sql\\schema.py:2136\u001b[0m, in \u001b[0;36mColumn.__init__\u001b[1;34m(***failed resolving arguments***)\u001b[0m\n\u001b[0;32m   2134\u001b[0m         l_args\u001b[38;5;241m.\u001b[39mappend(server_default)\n\u001b[0;32m   2135\u001b[0m     \u001b[38;5;28;01melse\u001b[39;00m:\n\u001b[1;32m-> 2136\u001b[0m         server_default \u001b[38;5;241m=\u001b[39m \u001b[43mDefaultClause\u001b[49m\u001b[43m(\u001b[49m\u001b[43mserver_default\u001b[49m\u001b[43m)\u001b[49m\n\u001b[0;32m   2137\u001b[0m         l_args\u001b[38;5;241m.\u001b[39mappend(server_default)\n\u001b[0;32m   2138\u001b[0m \u001b[38;5;28mself\u001b[39m\u001b[38;5;241m.\u001b[39mserver_default \u001b[38;5;241m=\u001b[39m server_default\n",
      "File \u001b[1;32m~\\AppData\\Roaming\\Python\\Python310\\site-packages\\sqlalchemy\\sql\\schema.py:4031\u001b[0m, in \u001b[0;36mDefaultClause.__init__\u001b[1;34m(self, arg, for_update, _reflected)\u001b[0m\n\u001b[0;32m   4025\u001b[0m \u001b[38;5;28;01mdef\u001b[39;00m \u001b[38;5;21m__init__\u001b[39m(\n\u001b[0;32m   4026\u001b[0m     \u001b[38;5;28mself\u001b[39m,\n\u001b[0;32m   4027\u001b[0m     arg: Union[\u001b[38;5;28mstr\u001b[39m, ClauseElement, TextClause],\n\u001b[0;32m   4028\u001b[0m     for_update: \u001b[38;5;28mbool\u001b[39m \u001b[38;5;241m=\u001b[39m \u001b[38;5;28;01mFalse\u001b[39;00m,\n\u001b[0;32m   4029\u001b[0m     _reflected: \u001b[38;5;28mbool\u001b[39m \u001b[38;5;241m=\u001b[39m \u001b[38;5;28;01mFalse\u001b[39;00m,\n\u001b[0;32m   4030\u001b[0m ) \u001b[38;5;241m-\u001b[39m\u001b[38;5;241m>\u001b[39m \u001b[38;5;28;01mNone\u001b[39;00m:\n\u001b[1;32m-> 4031\u001b[0m     \u001b[43mutil\u001b[49m\u001b[38;5;241;43m.\u001b[39;49m\u001b[43massert_arg_type\u001b[49m\u001b[43m(\u001b[49m\u001b[43marg\u001b[49m\u001b[43m,\u001b[49m\u001b[43m \u001b[49m\u001b[43m(\u001b[49m\u001b[38;5;28;43mstr\u001b[39;49m\u001b[43m,\u001b[49m\u001b[43m \u001b[49m\u001b[43mClauseElement\u001b[49m\u001b[43m,\u001b[49m\u001b[43m \u001b[49m\u001b[43mTextClause\u001b[49m\u001b[43m)\u001b[49m\u001b[43m,\u001b[49m\u001b[43m \u001b[49m\u001b[38;5;124;43m\"\u001b[39;49m\u001b[38;5;124;43marg\u001b[39;49m\u001b[38;5;124;43m\"\u001b[39;49m\u001b[43m)\u001b[49m\n\u001b[0;32m   4032\u001b[0m     \u001b[38;5;28msuper\u001b[39m()\u001b[38;5;241m.\u001b[39m\u001b[38;5;21m__init__\u001b[39m(for_update)\n\u001b[0;32m   4033\u001b[0m     \u001b[38;5;28mself\u001b[39m\u001b[38;5;241m.\u001b[39marg \u001b[38;5;241m=\u001b[39m arg\n",
      "File \u001b[1;32m~\\AppData\\Roaming\\Python\\Python310\\site-packages\\sqlalchemy\\util\\langhelpers.py:1477\u001b[0m, in \u001b[0;36massert_arg_type\u001b[1;34m(arg, argtype, name)\u001b[0m\n\u001b[0;32m   1475\u001b[0m \u001b[38;5;28;01melse\u001b[39;00m:\n\u001b[0;32m   1476\u001b[0m     \u001b[38;5;28;01mif\u001b[39;00m \u001b[38;5;28misinstance\u001b[39m(argtype, \u001b[38;5;28mtuple\u001b[39m):\n\u001b[1;32m-> 1477\u001b[0m         \u001b[38;5;28;01mraise\u001b[39;00m exc\u001b[38;5;241m.\u001b[39mArgumentError(\n\u001b[0;32m   1478\u001b[0m             \u001b[38;5;124m\"\u001b[39m\u001b[38;5;124mArgument \u001b[39m\u001b[38;5;124m'\u001b[39m\u001b[38;5;132;01m%s\u001b[39;00m\u001b[38;5;124m'\u001b[39m\u001b[38;5;124m is expected to be one of type \u001b[39m\u001b[38;5;132;01m%s\u001b[39;00m\u001b[38;5;124m, got \u001b[39m\u001b[38;5;124m'\u001b[39m\u001b[38;5;132;01m%s\u001b[39;00m\u001b[38;5;124m'\u001b[39m\u001b[38;5;124m\"\u001b[39m\n\u001b[0;32m   1479\u001b[0m             \u001b[38;5;241m%\u001b[39m (name, \u001b[38;5;124m\"\u001b[39m\u001b[38;5;124m or \u001b[39m\u001b[38;5;124m\"\u001b[39m\u001b[38;5;241m.\u001b[39mjoin(\u001b[38;5;124m\"\u001b[39m\u001b[38;5;124m'\u001b[39m\u001b[38;5;132;01m%s\u001b[39;00m\u001b[38;5;124m'\u001b[39m\u001b[38;5;124m\"\u001b[39m \u001b[38;5;241m%\u001b[39m a \u001b[38;5;28;01mfor\u001b[39;00m a \u001b[38;5;129;01min\u001b[39;00m argtype), \u001b[38;5;28mtype\u001b[39m(arg))  \u001b[38;5;66;03m# type: ignore  # noqa: E501\u001b[39;00m\n\u001b[0;32m   1480\u001b[0m         )\n\u001b[0;32m   1481\u001b[0m     \u001b[38;5;28;01melse\u001b[39;00m:\n\u001b[0;32m   1482\u001b[0m         \u001b[38;5;28;01mraise\u001b[39;00m exc\u001b[38;5;241m.\u001b[39mArgumentError(\n\u001b[0;32m   1483\u001b[0m             \u001b[38;5;124m\"\u001b[39m\u001b[38;5;124mArgument \u001b[39m\u001b[38;5;124m'\u001b[39m\u001b[38;5;132;01m%s\u001b[39;00m\u001b[38;5;124m'\u001b[39m\u001b[38;5;124m is expected to be of type \u001b[39m\u001b[38;5;124m'\u001b[39m\u001b[38;5;132;01m%s\u001b[39;00m\u001b[38;5;124m'\u001b[39m\u001b[38;5;124m, got \u001b[39m\u001b[38;5;124m'\u001b[39m\u001b[38;5;132;01m%s\u001b[39;00m\u001b[38;5;124m'\u001b[39m\u001b[38;5;124m\"\u001b[39m\n\u001b[0;32m   1484\u001b[0m             \u001b[38;5;241m%\u001b[39m (name, argtype, \u001b[38;5;28mtype\u001b[39m(arg))\n\u001b[0;32m   1485\u001b[0m         )\n",
      "\u001b[1;31mArgumentError\u001b[0m: Argument 'arg' is expected to be one of type '<class 'str'>' or '<class 'sqlalchemy.sql.elements.ClauseElement'>' or '<class 'sqlalchemy.sql.elements.TextClause'>', got '<class 'int'>'"
     ]
    }
   ],
   "source": [
    "#Artist 1:N Albums\n",
    "#Post N:M Hashtag <-- N:M의 관계를 만들기 위해서는 관계를 정의하고 있는 별도의 테이블을 하나 써야한다\n",
    "\n",
    "class Post(base):\n",
    "    __tablename__ = 'POST'\n",
    "    pk = Column('PK', Integer, primary_key=True)\n",
    "    content = Column('CONTENT', Text)\n",
    "    \n",
    "    tags = relationship('Tags', back_populates='post', uselist=True)\n",
    "\n",
    "    def addTags(self, tags): #이건 무조건 리스트라고 가정할게\n",
    "        tagList = list()\n",
    "        #태그에 있는것들 하나씩 불러오기\n",
    "        for tag in tags:\n",
    "            result = sess.query(Hashtag).filter(Hashtag.name == tags)\n",
    "            if result.count() >0:\n",
    "                tagList.append(result.one())\n",
    "            else:\n",
    "                newTag = Hashtag(name=tag)\n",
    "                sess.add(newTag)\n",
    "                sess.commit()\n",
    "                tagList.append(newTag)\n",
    "        #태그 리스트를 돌려고 한다.\n",
    "        for tag in tagList:\n",
    "            sess.add(Tags(fk1=self.pk, fk2=tag.pk))\n",
    "            sess.commit()\n",
    "            tag.count += 1\n",
    "\n",
    "                \n",
    "    def __repr__(self):\n",
    "        return f'{self.pk}, {len(self.tags)}'\n",
    "\n",
    "\n",
    "class Hashtag(base):\n",
    "    __tablename__ = 'HASHTAG'\n",
    "    pk = Column('PK', Integer, primary_key=True)\n",
    "    name = Column('NAME', Text)\n",
    "    cnt = Column('CNT', Integer, server_default=0)\n",
    "    posts = relationship('Tags', back_populates='hashtag', uselist=True)\n",
    "\n",
    "    def __repr__(self):\n",
    "        return f'{self.pk}, {self.name}, {len(self.posts)}'\n",
    "\n",
    "\n",
    "class Tags(base):\n",
    "    __tablename__ = 'TAGS'\n",
    "    pk = Column('PK', Integer, primary_key=True)\n",
    "    #이제 Posts 와 Hashtag 와의 관계를 FK로 엮어줄거임\n",
    "    fk1 = Column('FK1', None, ForeignKey('POST.PK'))\n",
    "    fk2 = Column('FK2', None, ForeignKey('HASHTAG.PK'))\n",
    "\n",
    "    post = relationship('Post', back_populates='tags')\n",
    "    hashtag = relationship('Hashtag', back_populates='posts')"
   ]
  },
  {
   "cell_type": "code",
   "execution_count": null,
   "id": "e1e6cd88-185c-4b6c-992b-4b1a4a2f4ada",
   "metadata": {},
   "outputs": [],
   "source": [
    "# Object/Class\n",
    "# Post            Tags           Hashtag\n",
    "# tags----       post/hashtag  -----posts\n",
    "# Posts.tags[0/1/2/3/...]"
   ]
  },
  {
   "cell_type": "code",
   "execution_count": 230,
   "id": "e46703e3-6920-4351-a108-d239bf303ae1",
   "metadata": {
    "scrolled": true
   },
   "outputs": [
    {
     "name": "stdout",
     "output_type": "stream",
     "text": [
      "2023-09-07 11:38:54,716 INFO sqlalchemy.engine.Engine BEGIN (implicit)\n",
      "2023-09-07 11:38:54,724 INFO sqlalchemy.engine.Engine PRAGMA main.table_info(\"POST\")\n",
      "2023-09-07 11:38:54,725 INFO sqlalchemy.engine.Engine [raw sql] ()\n",
      "2023-09-07 11:38:54,727 INFO sqlalchemy.engine.Engine PRAGMA temp.table_info(\"POST\")\n",
      "2023-09-07 11:38:54,729 INFO sqlalchemy.engine.Engine [raw sql] ()\n",
      "2023-09-07 11:38:54,730 INFO sqlalchemy.engine.Engine PRAGMA main.table_info(\"HASHTAG\")\n",
      "2023-09-07 11:38:54,733 INFO sqlalchemy.engine.Engine [raw sql] ()\n",
      "2023-09-07 11:38:54,734 INFO sqlalchemy.engine.Engine PRAGMA temp.table_info(\"HASHTAG\")\n",
      "2023-09-07 11:38:54,735 INFO sqlalchemy.engine.Engine [raw sql] ()\n",
      "2023-09-07 11:38:54,737 INFO sqlalchemy.engine.Engine PRAGMA main.table_info(\"TAGS\")\n",
      "2023-09-07 11:38:54,739 INFO sqlalchemy.engine.Engine [raw sql] ()\n",
      "2023-09-07 11:38:54,741 INFO sqlalchemy.engine.Engine PRAGMA temp.table_info(\"TAGS\")\n",
      "2023-09-07 11:38:54,743 INFO sqlalchemy.engine.Engine [raw sql] ()\n",
      "2023-09-07 11:38:54,746 INFO sqlalchemy.engine.Engine \n",
      "CREATE TABLE \"POST\" (\n",
      "\t\"PK\" INTEGER NOT NULL, \n",
      "\t\"CONTENT\" TEXT, \n",
      "\tPRIMARY KEY (\"PK\")\n",
      ")\n",
      "\n",
      "\n",
      "2023-09-07 11:38:54,747 INFO sqlalchemy.engine.Engine [no key 0.00080s] ()\n",
      "2023-09-07 11:38:54,749 INFO sqlalchemy.engine.Engine \n",
      "CREATE TABLE \"HASHTAG\" (\n",
      "\t\"PK\" INTEGER NOT NULL, \n",
      "\t\"NAME\" TEXT, \n",
      "\tPRIMARY KEY (\"PK\")\n",
      ")\n",
      "\n",
      "\n",
      "2023-09-07 11:38:54,749 INFO sqlalchemy.engine.Engine [no key 0.00074s] ()\n",
      "2023-09-07 11:38:54,752 INFO sqlalchemy.engine.Engine \n",
      "CREATE TABLE \"TAGS\" (\n",
      "\t\"PK\" INTEGER NOT NULL, \n",
      "\t\"FK1\" INTEGER, \n",
      "\t\"FK2\" INTEGER, \n",
      "\tPRIMARY KEY (\"PK\"), \n",
      "\tFOREIGN KEY(\"FK1\") REFERENCES \"POST\" (\"PK\"), \n",
      "\tFOREIGN KEY(\"FK2\") REFERENCES \"HASHTAG\" (\"PK\")\n",
      ")\n",
      "\n",
      "\n",
      "2023-09-07 11:38:54,753 INFO sqlalchemy.engine.Engine [no key 0.00104s] ()\n",
      "2023-09-07 11:38:54,754 INFO sqlalchemy.engine.Engine COMMIT\n"
     ]
    }
   ],
   "source": [
    "base.metadata.create_all(engine)"
   ]
  },
  {
   "cell_type": "code",
   "execution_count": 231,
   "id": "a9f126bb-b217-4481-9cdc-86e4417de0c9",
   "metadata": {},
   "outputs": [
    {
     "ename": "InvalidRequestError",
     "evalue": "Mapper 'Mapper[Tags(TAGS)]' has no property 'posts'.  If this property was indicated from other mappers or configure events, ensure registry.configure() has been called.",
     "output_type": "error",
     "traceback": [
      "\u001b[1;31m---------------------------------------------------------------------------\u001b[0m",
      "\u001b[1;31mKeyError\u001b[0m                                  Traceback (most recent call last)",
      "File \u001b[1;32m~\\AppData\\Roaming\\Python\\Python310\\site-packages\\sqlalchemy\\orm\\mapper.py:2505\u001b[0m, in \u001b[0;36mMapper.get_property\u001b[1;34m(self, key, _configure_mappers)\u001b[0m\n\u001b[0;32m   2504\u001b[0m \u001b[38;5;28;01mtry\u001b[39;00m:\n\u001b[1;32m-> 2505\u001b[0m     \u001b[38;5;28;01mreturn\u001b[39;00m \u001b[38;5;28;43mself\u001b[39;49m\u001b[38;5;241;43m.\u001b[39;49m\u001b[43m_props\u001b[49m\u001b[43m[\u001b[49m\u001b[43mkey\u001b[49m\u001b[43m]\u001b[49m\n\u001b[0;32m   2506\u001b[0m \u001b[38;5;28;01mexcept\u001b[39;00m \u001b[38;5;167;01mKeyError\u001b[39;00m \u001b[38;5;28;01mas\u001b[39;00m err:\n",
      "\u001b[1;31mKeyError\u001b[0m: 'posts'",
      "\nThe above exception was the direct cause of the following exception:\n",
      "\u001b[1;31mInvalidRequestError\u001b[0m                       Traceback (most recent call last)",
      "Cell \u001b[1;32mIn[231], line 2\u001b[0m\n\u001b[0;32m      1\u001b[0m \u001b[38;5;66;03m#되는지 확인해보기.\u001b[39;00m\n\u001b[1;32m----> 2\u001b[0m post1 \u001b[38;5;241m=\u001b[39m \u001b[43mPost\u001b[49m\u001b[43m(\u001b[49m\u001b[43mcontent\u001b[49m\u001b[43m \u001b[49m\u001b[38;5;241;43m=\u001b[39;49m\u001b[43m \u001b[49m\u001b[38;5;124;43m'\u001b[39;49m\u001b[38;5;124;43m내용1\u001b[39;49m\u001b[38;5;124;43m'\u001b[39;49m\u001b[43m)\u001b[49m\n\u001b[0;32m      3\u001b[0m sess\u001b[38;5;241m.\u001b[39madd(post1)\n\u001b[0;32m      4\u001b[0m sess\u001b[38;5;241m.\u001b[39mcommit()\n",
      "File \u001b[1;32m<string>:4\u001b[0m, in \u001b[0;36m__init__\u001b[1;34m(self, **kwargs)\u001b[0m\n",
      "File \u001b[1;32m~\\AppData\\Roaming\\Python\\Python310\\site-packages\\sqlalchemy\\orm\\state.py:561\u001b[0m, in \u001b[0;36mInstanceState._initialize_instance\u001b[1;34m(*mixed, **kwargs)\u001b[0m\n\u001b[0;32m    558\u001b[0m \u001b[38;5;28mself\u001b[39m, instance, args \u001b[38;5;241m=\u001b[39m mixed[\u001b[38;5;241m0\u001b[39m], mixed[\u001b[38;5;241m1\u001b[39m], mixed[\u001b[38;5;241m2\u001b[39m:]  \u001b[38;5;66;03m# noqa\u001b[39;00m\n\u001b[0;32m    559\u001b[0m manager \u001b[38;5;241m=\u001b[39m \u001b[38;5;28mself\u001b[39m\u001b[38;5;241m.\u001b[39mmanager\n\u001b[1;32m--> 561\u001b[0m \u001b[43mmanager\u001b[49m\u001b[38;5;241;43m.\u001b[39;49m\u001b[43mdispatch\u001b[49m\u001b[38;5;241;43m.\u001b[39;49m\u001b[43minit\u001b[49m\u001b[43m(\u001b[49m\u001b[38;5;28;43mself\u001b[39;49m\u001b[43m,\u001b[49m\u001b[43m \u001b[49m\u001b[43margs\u001b[49m\u001b[43m,\u001b[49m\u001b[43m \u001b[49m\u001b[43mkwargs\u001b[49m\u001b[43m)\u001b[49m\n\u001b[0;32m    563\u001b[0m \u001b[38;5;28;01mtry\u001b[39;00m:\n\u001b[0;32m    564\u001b[0m     manager\u001b[38;5;241m.\u001b[39moriginal_init(\u001b[38;5;241m*\u001b[39mmixed[\u001b[38;5;241m1\u001b[39m:], \u001b[38;5;241m*\u001b[39m\u001b[38;5;241m*\u001b[39mkwargs)\n",
      "File \u001b[1;32m~\\AppData\\Roaming\\Python\\Python310\\site-packages\\sqlalchemy\\event\\attr.py:487\u001b[0m, in \u001b[0;36m_CompoundListener.__call__\u001b[1;34m(self, *args, **kw)\u001b[0m\n\u001b[0;32m    485\u001b[0m     fn(\u001b[38;5;241m*\u001b[39margs, \u001b[38;5;241m*\u001b[39m\u001b[38;5;241m*\u001b[39mkw)\n\u001b[0;32m    486\u001b[0m \u001b[38;5;28;01mfor\u001b[39;00m fn \u001b[38;5;129;01min\u001b[39;00m \u001b[38;5;28mself\u001b[39m\u001b[38;5;241m.\u001b[39mlisteners:\n\u001b[1;32m--> 487\u001b[0m     fn(\u001b[38;5;241m*\u001b[39margs, \u001b[38;5;241m*\u001b[39m\u001b[38;5;241m*\u001b[39mkw)\n",
      "File \u001b[1;32m~\\AppData\\Roaming\\Python\\Python310\\site-packages\\sqlalchemy\\orm\\mapper.py:4391\u001b[0m, in \u001b[0;36m_event_on_init\u001b[1;34m(state, args, kwargs)\u001b[0m\n\u001b[0;32m   4389\u001b[0m instrumenting_mapper \u001b[38;5;241m=\u001b[39m state\u001b[38;5;241m.\u001b[39mmanager\u001b[38;5;241m.\u001b[39mmapper\n\u001b[0;32m   4390\u001b[0m \u001b[38;5;28;01mif\u001b[39;00m instrumenting_mapper:\n\u001b[1;32m-> 4391\u001b[0m     \u001b[43minstrumenting_mapper\u001b[49m\u001b[38;5;241;43m.\u001b[39;49m\u001b[43m_check_configure\u001b[49m\u001b[43m(\u001b[49m\u001b[43m)\u001b[49m\n\u001b[0;32m   4392\u001b[0m     \u001b[38;5;28;01mif\u001b[39;00m instrumenting_mapper\u001b[38;5;241m.\u001b[39m_set_polymorphic_identity:\n\u001b[0;32m   4393\u001b[0m         instrumenting_mapper\u001b[38;5;241m.\u001b[39m_set_polymorphic_identity(state)\n",
      "File \u001b[1;32m~\\AppData\\Roaming\\Python\\Python310\\site-packages\\sqlalchemy\\orm\\mapper.py:2386\u001b[0m, in \u001b[0;36mMapper._check_configure\u001b[1;34m(self)\u001b[0m\n\u001b[0;32m   2378\u001b[0m \u001b[38;5;129m@util\u001b[39m\u001b[38;5;241m.\u001b[39mlanghelpers\u001b[38;5;241m.\u001b[39mtag_method_for_warnings(\n\u001b[0;32m   2379\u001b[0m     \u001b[38;5;124m\"\u001b[39m\u001b[38;5;124mThis warning originated from the `configure_mappers()` process, \u001b[39m\u001b[38;5;124m\"\u001b[39m\n\u001b[0;32m   2380\u001b[0m     \u001b[38;5;124m\"\u001b[39m\u001b[38;5;124mwhich was invoked automatically in response to a user-initiated \u001b[39m\u001b[38;5;124m\"\u001b[39m\n\u001b[1;32m   (...)\u001b[0m\n\u001b[0;32m   2383\u001b[0m )\n\u001b[0;32m   2384\u001b[0m \u001b[38;5;28;01mdef\u001b[39;00m \u001b[38;5;21m_check_configure\u001b[39m(\u001b[38;5;28mself\u001b[39m) \u001b[38;5;241m-\u001b[39m\u001b[38;5;241m>\u001b[39m \u001b[38;5;28;01mNone\u001b[39;00m:\n\u001b[0;32m   2385\u001b[0m     \u001b[38;5;28;01mif\u001b[39;00m \u001b[38;5;28mself\u001b[39m\u001b[38;5;241m.\u001b[39mregistry\u001b[38;5;241m.\u001b[39m_new_mappers:\n\u001b[1;32m-> 2386\u001b[0m         \u001b[43m_configure_registries\u001b[49m\u001b[43m(\u001b[49m\u001b[43m{\u001b[49m\u001b[38;5;28;43mself\u001b[39;49m\u001b[38;5;241;43m.\u001b[39;49m\u001b[43mregistry\u001b[49m\u001b[43m}\u001b[49m\u001b[43m,\u001b[49m\u001b[43m \u001b[49m\u001b[43mcascade\u001b[49m\u001b[38;5;241;43m=\u001b[39;49m\u001b[38;5;28;43;01mTrue\u001b[39;49;00m\u001b[43m)\u001b[49m\n",
      "File \u001b[1;32m~\\AppData\\Roaming\\Python\\Python310\\site-packages\\sqlalchemy\\orm\\mapper.py:4199\u001b[0m, in \u001b[0;36m_configure_registries\u001b[1;34m(registries, cascade)\u001b[0m\n\u001b[0;32m   4193\u001b[0m     Mapper\u001b[38;5;241m.\u001b[39mdispatch\u001b[38;5;241m.\u001b[39m_for_class(Mapper)\u001b[38;5;241m.\u001b[39mbefore_configured()  \u001b[38;5;66;03m# type: ignore # noqa: E501\u001b[39;00m\n\u001b[0;32m   4194\u001b[0m     \u001b[38;5;66;03m# initialize properties on all mappers\u001b[39;00m\n\u001b[0;32m   4195\u001b[0m     \u001b[38;5;66;03m# note that _mapper_registry is unordered, which\u001b[39;00m\n\u001b[0;32m   4196\u001b[0m     \u001b[38;5;66;03m# may randomly conceal/reveal issues related to\u001b[39;00m\n\u001b[0;32m   4197\u001b[0m     \u001b[38;5;66;03m# the order of mapper compilation\u001b[39;00m\n\u001b[1;32m-> 4199\u001b[0m     \u001b[43m_do_configure_registries\u001b[49m\u001b[43m(\u001b[49m\u001b[43mregistries\u001b[49m\u001b[43m,\u001b[49m\u001b[43m \u001b[49m\u001b[43mcascade\u001b[49m\u001b[43m)\u001b[49m\n\u001b[0;32m   4200\u001b[0m \u001b[38;5;28;01mfinally\u001b[39;00m:\n\u001b[0;32m   4201\u001b[0m     _already_compiling \u001b[38;5;241m=\u001b[39m \u001b[38;5;28;01mFalse\u001b[39;00m\n",
      "File \u001b[1;32m~\\AppData\\Roaming\\Python\\Python310\\site-packages\\sqlalchemy\\orm\\mapper.py:4240\u001b[0m, in \u001b[0;36m_do_configure_registries\u001b[1;34m(registries, cascade)\u001b[0m\n\u001b[0;32m   4238\u001b[0m \u001b[38;5;28;01mif\u001b[39;00m \u001b[38;5;129;01mnot\u001b[39;00m mapper\u001b[38;5;241m.\u001b[39mconfigured:\n\u001b[0;32m   4239\u001b[0m     \u001b[38;5;28;01mtry\u001b[39;00m:\n\u001b[1;32m-> 4240\u001b[0m         \u001b[43mmapper\u001b[49m\u001b[38;5;241;43m.\u001b[39;49m\u001b[43m_post_configure_properties\u001b[49m\u001b[43m(\u001b[49m\u001b[43m)\u001b[49m\n\u001b[0;32m   4241\u001b[0m         mapper\u001b[38;5;241m.\u001b[39m_expire_memoizations()\n\u001b[0;32m   4242\u001b[0m         mapper\u001b[38;5;241m.\u001b[39mdispatch\u001b[38;5;241m.\u001b[39mmapper_configured(mapper, mapper\u001b[38;5;241m.\u001b[39mclass_)\n",
      "File \u001b[1;32m~\\AppData\\Roaming\\Python\\Python310\\site-packages\\sqlalchemy\\orm\\mapper.py:2403\u001b[0m, in \u001b[0;36mMapper._post_configure_properties\u001b[1;34m(self)\u001b[0m\n\u001b[0;32m   2400\u001b[0m \u001b[38;5;28mself\u001b[39m\u001b[38;5;241m.\u001b[39m_log(\u001b[38;5;124m\"\u001b[39m\u001b[38;5;124minitialize prop \u001b[39m\u001b[38;5;132;01m%s\u001b[39;00m\u001b[38;5;124m\"\u001b[39m, key)\n\u001b[0;32m   2402\u001b[0m \u001b[38;5;28;01mif\u001b[39;00m prop\u001b[38;5;241m.\u001b[39mparent \u001b[38;5;129;01mis\u001b[39;00m \u001b[38;5;28mself\u001b[39m \u001b[38;5;129;01mand\u001b[39;00m \u001b[38;5;129;01mnot\u001b[39;00m prop\u001b[38;5;241m.\u001b[39m_configure_started:\n\u001b[1;32m-> 2403\u001b[0m     \u001b[43mprop\u001b[49m\u001b[38;5;241;43m.\u001b[39;49m\u001b[43minit\u001b[49m\u001b[43m(\u001b[49m\u001b[43m)\u001b[49m\n\u001b[0;32m   2405\u001b[0m \u001b[38;5;28;01mif\u001b[39;00m prop\u001b[38;5;241m.\u001b[39m_configure_finished:\n\u001b[0;32m   2406\u001b[0m     prop\u001b[38;5;241m.\u001b[39mpost_instrument_class(\u001b[38;5;28mself\u001b[39m)\n",
      "File \u001b[1;32m~\\AppData\\Roaming\\Python\\Python310\\site-packages\\sqlalchemy\\orm\\interfaces.py:578\u001b[0m, in \u001b[0;36mMapperProperty.init\u001b[1;34m(self)\u001b[0m\n\u001b[0;32m    571\u001b[0m \u001b[38;5;250m\u001b[39m\u001b[38;5;124;03m\"\"\"Called after all mappers are created to assemble\u001b[39;00m\n\u001b[0;32m    572\u001b[0m \u001b[38;5;124;03mrelationships between mappers and perform other post-mapper-creation\u001b[39;00m\n\u001b[0;32m    573\u001b[0m \u001b[38;5;124;03minitialization steps.\u001b[39;00m\n\u001b[0;32m    574\u001b[0m \n\u001b[0;32m    575\u001b[0m \n\u001b[0;32m    576\u001b[0m \u001b[38;5;124;03m\"\"\"\u001b[39;00m\n\u001b[0;32m    577\u001b[0m \u001b[38;5;28mself\u001b[39m\u001b[38;5;241m.\u001b[39m_configure_started \u001b[38;5;241m=\u001b[39m \u001b[38;5;28;01mTrue\u001b[39;00m\n\u001b[1;32m--> 578\u001b[0m \u001b[38;5;28;43mself\u001b[39;49m\u001b[38;5;241;43m.\u001b[39;49m\u001b[43mdo_init\u001b[49m\u001b[43m(\u001b[49m\u001b[43m)\u001b[49m\n\u001b[0;32m    579\u001b[0m \u001b[38;5;28mself\u001b[39m\u001b[38;5;241m.\u001b[39m_configure_finished \u001b[38;5;241m=\u001b[39m \u001b[38;5;28;01mTrue\u001b[39;00m\n",
      "File \u001b[1;32m~\\AppData\\Roaming\\Python\\Python310\\site-packages\\sqlalchemy\\orm\\relationships.py:1639\u001b[0m, in \u001b[0;36mRelationshipProperty.do_init\u001b[1;34m(self)\u001b[0m\n\u001b[0;32m   1637\u001b[0m \u001b[38;5;28mself\u001b[39m\u001b[38;5;241m.\u001b[39m_check_cascade_settings(\u001b[38;5;28mself\u001b[39m\u001b[38;5;241m.\u001b[39m_cascade)\n\u001b[0;32m   1638\u001b[0m \u001b[38;5;28mself\u001b[39m\u001b[38;5;241m.\u001b[39m_post_init()\n\u001b[1;32m-> 1639\u001b[0m \u001b[38;5;28;43mself\u001b[39;49m\u001b[38;5;241;43m.\u001b[39;49m\u001b[43m_generate_backref\u001b[49m\u001b[43m(\u001b[49m\u001b[43m)\u001b[49m\n\u001b[0;32m   1640\u001b[0m \u001b[38;5;28mself\u001b[39m\u001b[38;5;241m.\u001b[39m_join_condition\u001b[38;5;241m.\u001b[39m_warn_for_conflicting_sync_targets()\n\u001b[0;32m   1641\u001b[0m \u001b[38;5;28msuper\u001b[39m()\u001b[38;5;241m.\u001b[39mdo_init()\n",
      "File \u001b[1;32m~\\AppData\\Roaming\\Python\\Python310\\site-packages\\sqlalchemy\\orm\\relationships.py:2128\u001b[0m, in \u001b[0;36mRelationshipProperty._generate_backref\u001b[1;34m(self)\u001b[0m\n\u001b[0;32m   2123\u001b[0m     mapper\u001b[38;5;241m.\u001b[39m_configure_property(\n\u001b[0;32m   2124\u001b[0m         backref_key, relationship, warn_for_existing\u001b[38;5;241m=\u001b[39m\u001b[38;5;28;01mTrue\u001b[39;00m\n\u001b[0;32m   2125\u001b[0m     )\n\u001b[0;32m   2127\u001b[0m \u001b[38;5;28;01mif\u001b[39;00m \u001b[38;5;28mself\u001b[39m\u001b[38;5;241m.\u001b[39mback_populates:\n\u001b[1;32m-> 2128\u001b[0m     \u001b[38;5;28;43mself\u001b[39;49m\u001b[38;5;241;43m.\u001b[39;49m\u001b[43m_add_reverse_property\u001b[49m\u001b[43m(\u001b[49m\u001b[38;5;28;43mself\u001b[39;49m\u001b[38;5;241;43m.\u001b[39;49m\u001b[43mback_populates\u001b[49m\u001b[43m)\u001b[49m\n",
      "File \u001b[1;32m~\\AppData\\Roaming\\Python\\Python310\\site-packages\\sqlalchemy\\orm\\relationships.py:1571\u001b[0m, in \u001b[0;36mRelationshipProperty._add_reverse_property\u001b[1;34m(self, key)\u001b[0m\n\u001b[0;32m   1570\u001b[0m \u001b[38;5;28;01mdef\u001b[39;00m \u001b[38;5;21m_add_reverse_property\u001b[39m(\u001b[38;5;28mself\u001b[39m, key: \u001b[38;5;28mstr\u001b[39m) \u001b[38;5;241m-\u001b[39m\u001b[38;5;241m>\u001b[39m \u001b[38;5;28;01mNone\u001b[39;00m:\n\u001b[1;32m-> 1571\u001b[0m     other \u001b[38;5;241m=\u001b[39m \u001b[38;5;28;43mself\u001b[39;49m\u001b[38;5;241;43m.\u001b[39;49m\u001b[43mmapper\u001b[49m\u001b[38;5;241;43m.\u001b[39;49m\u001b[43mget_property\u001b[49m\u001b[43m(\u001b[49m\u001b[43mkey\u001b[49m\u001b[43m,\u001b[49m\u001b[43m \u001b[49m\u001b[43m_configure_mappers\u001b[49m\u001b[38;5;241;43m=\u001b[39;49m\u001b[38;5;28;43;01mFalse\u001b[39;49;00m\u001b[43m)\u001b[49m\n\u001b[0;32m   1572\u001b[0m     \u001b[38;5;28;01mif\u001b[39;00m \u001b[38;5;129;01mnot\u001b[39;00m \u001b[38;5;28misinstance\u001b[39m(other, RelationshipProperty):\n\u001b[0;32m   1573\u001b[0m         \u001b[38;5;28;01mraise\u001b[39;00m sa_exc\u001b[38;5;241m.\u001b[39mInvalidRequestError(\n\u001b[0;32m   1574\u001b[0m             \u001b[38;5;124m\"\u001b[39m\u001b[38;5;124mback_populates on relationship \u001b[39m\u001b[38;5;124m'\u001b[39m\u001b[38;5;132;01m%s\u001b[39;00m\u001b[38;5;124m'\u001b[39m\u001b[38;5;124m refers to attribute \u001b[39m\u001b[38;5;124m'\u001b[39m\u001b[38;5;132;01m%s\u001b[39;00m\u001b[38;5;124m'\u001b[39m\u001b[38;5;124m \u001b[39m\u001b[38;5;124m\"\u001b[39m\n\u001b[0;32m   1575\u001b[0m             \u001b[38;5;124m\"\u001b[39m\u001b[38;5;124mthat is not a relationship.  The back_populates parameter \u001b[39m\u001b[38;5;124m\"\u001b[39m\n\u001b[0;32m   1576\u001b[0m             \u001b[38;5;124m\"\u001b[39m\u001b[38;5;124mshould refer to the name of a relationship on the target \u001b[39m\u001b[38;5;124m\"\u001b[39m\n\u001b[0;32m   1577\u001b[0m             \u001b[38;5;124m\"\u001b[39m\u001b[38;5;124mclass.\u001b[39m\u001b[38;5;124m\"\u001b[39m \u001b[38;5;241m%\u001b[39m (\u001b[38;5;28mself\u001b[39m, other)\n\u001b[0;32m   1578\u001b[0m         )\n",
      "File \u001b[1;32m~\\AppData\\Roaming\\Python\\Python310\\site-packages\\sqlalchemy\\orm\\mapper.py:2507\u001b[0m, in \u001b[0;36mMapper.get_property\u001b[1;34m(self, key, _configure_mappers)\u001b[0m\n\u001b[0;32m   2505\u001b[0m     \u001b[38;5;28;01mreturn\u001b[39;00m \u001b[38;5;28mself\u001b[39m\u001b[38;5;241m.\u001b[39m_props[key]\n\u001b[0;32m   2506\u001b[0m \u001b[38;5;28;01mexcept\u001b[39;00m \u001b[38;5;167;01mKeyError\u001b[39;00m \u001b[38;5;28;01mas\u001b[39;00m err:\n\u001b[1;32m-> 2507\u001b[0m     \u001b[38;5;28;01mraise\u001b[39;00m sa_exc\u001b[38;5;241m.\u001b[39mInvalidRequestError(\n\u001b[0;32m   2508\u001b[0m         \u001b[38;5;124mf\u001b[39m\u001b[38;5;124m\"\u001b[39m\u001b[38;5;124mMapper \u001b[39m\u001b[38;5;124m'\u001b[39m\u001b[38;5;132;01m{\u001b[39;00m\u001b[38;5;28mself\u001b[39m\u001b[38;5;132;01m}\u001b[39;00m\u001b[38;5;124m'\u001b[39m\u001b[38;5;124m has no property \u001b[39m\u001b[38;5;124m'\u001b[39m\u001b[38;5;132;01m{\u001b[39;00mkey\u001b[38;5;132;01m}\u001b[39;00m\u001b[38;5;124m'\u001b[39m\u001b[38;5;124m.  If this property \u001b[39m\u001b[38;5;124m\"\u001b[39m\n\u001b[0;32m   2509\u001b[0m         \u001b[38;5;124m\"\u001b[39m\u001b[38;5;124mwas indicated from other mappers or configure events, ensure \u001b[39m\u001b[38;5;124m\"\u001b[39m\n\u001b[0;32m   2510\u001b[0m         \u001b[38;5;124m\"\u001b[39m\u001b[38;5;124mregistry.configure() has been called.\u001b[39m\u001b[38;5;124m\"\u001b[39m\n\u001b[0;32m   2511\u001b[0m     ) \u001b[38;5;28;01mfrom\u001b[39;00m \u001b[38;5;21;01merr\u001b[39;00m\n",
      "\u001b[1;31mInvalidRequestError\u001b[0m: Mapper 'Mapper[Tags(TAGS)]' has no property 'posts'.  If this property was indicated from other mappers or configure events, ensure registry.configure() has been called."
     ]
    }
   ],
   "source": [
    "#되는지 확인해보기.\n",
    "post1 = Post(content = '내용1')\n",
    "sess.add(post1)\n",
    "sess.commit()"
   ]
  },
  {
   "cell_type": "code",
   "execution_count": 232,
   "id": "0373ef6d-b164-4d84-915c-2596a547bf5d",
   "metadata": {},
   "outputs": [
    {
     "ename": "InvalidRequestError",
     "evalue": "One or more mappers failed to initialize - can't proceed with initialization of other mappers. Triggering mapper: 'Mapper[Post(POST)]'. Original exception was: Mapper 'Mapper[Tags(TAGS)]' has no property 'posts'.  If this property was indicated from other mappers or configure events, ensure registry.configure() has been called.",
     "output_type": "error",
     "traceback": [
      "\u001b[1;31m---------------------------------------------------------------------------\u001b[0m",
      "\u001b[1;31mInvalidRequestError\u001b[0m                       Traceback (most recent call last)",
      "Cell \u001b[1;32mIn[232], line 1\u001b[0m\n\u001b[1;32m----> 1\u001b[0m tag1 \u001b[38;5;241m=\u001b[39m \u001b[43mHashtag\u001b[49m\u001b[43m(\u001b[49m\u001b[43mname\u001b[49m\u001b[38;5;241;43m=\u001b[39;49m\u001b[38;5;124;43m'\u001b[39;49m\u001b[38;5;124;43m해시태그1\u001b[39;49m\u001b[38;5;124;43m'\u001b[39;49m\u001b[43m)\u001b[49m\n\u001b[0;32m      2\u001b[0m sess\u001b[38;5;241m.\u001b[39madd(tag1)\n\u001b[0;32m      3\u001b[0m sess\u001b[38;5;241m.\u001b[39mcommit()\n",
      "File \u001b[1;32m<string>:4\u001b[0m, in \u001b[0;36m__init__\u001b[1;34m(self, **kwargs)\u001b[0m\n",
      "File \u001b[1;32m~\\AppData\\Roaming\\Python\\Python310\\site-packages\\sqlalchemy\\orm\\state.py:561\u001b[0m, in \u001b[0;36mInstanceState._initialize_instance\u001b[1;34m(*mixed, **kwargs)\u001b[0m\n\u001b[0;32m    558\u001b[0m \u001b[38;5;28mself\u001b[39m, instance, args \u001b[38;5;241m=\u001b[39m mixed[\u001b[38;5;241m0\u001b[39m], mixed[\u001b[38;5;241m1\u001b[39m], mixed[\u001b[38;5;241m2\u001b[39m:]  \u001b[38;5;66;03m# noqa\u001b[39;00m\n\u001b[0;32m    559\u001b[0m manager \u001b[38;5;241m=\u001b[39m \u001b[38;5;28mself\u001b[39m\u001b[38;5;241m.\u001b[39mmanager\n\u001b[1;32m--> 561\u001b[0m \u001b[43mmanager\u001b[49m\u001b[38;5;241;43m.\u001b[39;49m\u001b[43mdispatch\u001b[49m\u001b[38;5;241;43m.\u001b[39;49m\u001b[43minit\u001b[49m\u001b[43m(\u001b[49m\u001b[38;5;28;43mself\u001b[39;49m\u001b[43m,\u001b[49m\u001b[43m \u001b[49m\u001b[43margs\u001b[49m\u001b[43m,\u001b[49m\u001b[43m \u001b[49m\u001b[43mkwargs\u001b[49m\u001b[43m)\u001b[49m\n\u001b[0;32m    563\u001b[0m \u001b[38;5;28;01mtry\u001b[39;00m:\n\u001b[0;32m    564\u001b[0m     manager\u001b[38;5;241m.\u001b[39moriginal_init(\u001b[38;5;241m*\u001b[39mmixed[\u001b[38;5;241m1\u001b[39m:], \u001b[38;5;241m*\u001b[39m\u001b[38;5;241m*\u001b[39mkwargs)\n",
      "File \u001b[1;32m~\\AppData\\Roaming\\Python\\Python310\\site-packages\\sqlalchemy\\event\\attr.py:487\u001b[0m, in \u001b[0;36m_CompoundListener.__call__\u001b[1;34m(self, *args, **kw)\u001b[0m\n\u001b[0;32m    485\u001b[0m     fn(\u001b[38;5;241m*\u001b[39margs, \u001b[38;5;241m*\u001b[39m\u001b[38;5;241m*\u001b[39mkw)\n\u001b[0;32m    486\u001b[0m \u001b[38;5;28;01mfor\u001b[39;00m fn \u001b[38;5;129;01min\u001b[39;00m \u001b[38;5;28mself\u001b[39m\u001b[38;5;241m.\u001b[39mlisteners:\n\u001b[1;32m--> 487\u001b[0m     fn(\u001b[38;5;241m*\u001b[39margs, \u001b[38;5;241m*\u001b[39m\u001b[38;5;241m*\u001b[39mkw)\n",
      "File \u001b[1;32m~\\AppData\\Roaming\\Python\\Python310\\site-packages\\sqlalchemy\\orm\\mapper.py:4391\u001b[0m, in \u001b[0;36m_event_on_init\u001b[1;34m(state, args, kwargs)\u001b[0m\n\u001b[0;32m   4389\u001b[0m instrumenting_mapper \u001b[38;5;241m=\u001b[39m state\u001b[38;5;241m.\u001b[39mmanager\u001b[38;5;241m.\u001b[39mmapper\n\u001b[0;32m   4390\u001b[0m \u001b[38;5;28;01mif\u001b[39;00m instrumenting_mapper:\n\u001b[1;32m-> 4391\u001b[0m     \u001b[43minstrumenting_mapper\u001b[49m\u001b[38;5;241;43m.\u001b[39;49m\u001b[43m_check_configure\u001b[49m\u001b[43m(\u001b[49m\u001b[43m)\u001b[49m\n\u001b[0;32m   4392\u001b[0m     \u001b[38;5;28;01mif\u001b[39;00m instrumenting_mapper\u001b[38;5;241m.\u001b[39m_set_polymorphic_identity:\n\u001b[0;32m   4393\u001b[0m         instrumenting_mapper\u001b[38;5;241m.\u001b[39m_set_polymorphic_identity(state)\n",
      "File \u001b[1;32m~\\AppData\\Roaming\\Python\\Python310\\site-packages\\sqlalchemy\\orm\\mapper.py:2386\u001b[0m, in \u001b[0;36mMapper._check_configure\u001b[1;34m(self)\u001b[0m\n\u001b[0;32m   2378\u001b[0m \u001b[38;5;129m@util\u001b[39m\u001b[38;5;241m.\u001b[39mlanghelpers\u001b[38;5;241m.\u001b[39mtag_method_for_warnings(\n\u001b[0;32m   2379\u001b[0m     \u001b[38;5;124m\"\u001b[39m\u001b[38;5;124mThis warning originated from the `configure_mappers()` process, \u001b[39m\u001b[38;5;124m\"\u001b[39m\n\u001b[0;32m   2380\u001b[0m     \u001b[38;5;124m\"\u001b[39m\u001b[38;5;124mwhich was invoked automatically in response to a user-initiated \u001b[39m\u001b[38;5;124m\"\u001b[39m\n\u001b[1;32m   (...)\u001b[0m\n\u001b[0;32m   2383\u001b[0m )\n\u001b[0;32m   2384\u001b[0m \u001b[38;5;28;01mdef\u001b[39;00m \u001b[38;5;21m_check_configure\u001b[39m(\u001b[38;5;28mself\u001b[39m) \u001b[38;5;241m-\u001b[39m\u001b[38;5;241m>\u001b[39m \u001b[38;5;28;01mNone\u001b[39;00m:\n\u001b[0;32m   2385\u001b[0m     \u001b[38;5;28;01mif\u001b[39;00m \u001b[38;5;28mself\u001b[39m\u001b[38;5;241m.\u001b[39mregistry\u001b[38;5;241m.\u001b[39m_new_mappers:\n\u001b[1;32m-> 2386\u001b[0m         \u001b[43m_configure_registries\u001b[49m\u001b[43m(\u001b[49m\u001b[43m{\u001b[49m\u001b[38;5;28;43mself\u001b[39;49m\u001b[38;5;241;43m.\u001b[39;49m\u001b[43mregistry\u001b[49m\u001b[43m}\u001b[49m\u001b[43m,\u001b[49m\u001b[43m \u001b[49m\u001b[43mcascade\u001b[49m\u001b[38;5;241;43m=\u001b[39;49m\u001b[38;5;28;43;01mTrue\u001b[39;49;00m\u001b[43m)\u001b[49m\n",
      "File \u001b[1;32m~\\AppData\\Roaming\\Python\\Python310\\site-packages\\sqlalchemy\\orm\\mapper.py:4199\u001b[0m, in \u001b[0;36m_configure_registries\u001b[1;34m(registries, cascade)\u001b[0m\n\u001b[0;32m   4193\u001b[0m     Mapper\u001b[38;5;241m.\u001b[39mdispatch\u001b[38;5;241m.\u001b[39m_for_class(Mapper)\u001b[38;5;241m.\u001b[39mbefore_configured()  \u001b[38;5;66;03m# type: ignore # noqa: E501\u001b[39;00m\n\u001b[0;32m   4194\u001b[0m     \u001b[38;5;66;03m# initialize properties on all mappers\u001b[39;00m\n\u001b[0;32m   4195\u001b[0m     \u001b[38;5;66;03m# note that _mapper_registry is unordered, which\u001b[39;00m\n\u001b[0;32m   4196\u001b[0m     \u001b[38;5;66;03m# may randomly conceal/reveal issues related to\u001b[39;00m\n\u001b[0;32m   4197\u001b[0m     \u001b[38;5;66;03m# the order of mapper compilation\u001b[39;00m\n\u001b[1;32m-> 4199\u001b[0m     \u001b[43m_do_configure_registries\u001b[49m\u001b[43m(\u001b[49m\u001b[43mregistries\u001b[49m\u001b[43m,\u001b[49m\u001b[43m \u001b[49m\u001b[43mcascade\u001b[49m\u001b[43m)\u001b[49m\n\u001b[0;32m   4200\u001b[0m \u001b[38;5;28;01mfinally\u001b[39;00m:\n\u001b[0;32m   4201\u001b[0m     _already_compiling \u001b[38;5;241m=\u001b[39m \u001b[38;5;28;01mFalse\u001b[39;00m\n",
      "File \u001b[1;32m~\\AppData\\Roaming\\Python\\Python310\\site-packages\\sqlalchemy\\orm\\mapper.py:4236\u001b[0m, in \u001b[0;36m_do_configure_registries\u001b[1;34m(registries, cascade)\u001b[0m\n\u001b[0;32m   4228\u001b[0m     e \u001b[38;5;241m=\u001b[39m sa_exc\u001b[38;5;241m.\u001b[39mInvalidRequestError(\n\u001b[0;32m   4229\u001b[0m         \u001b[38;5;124m\"\u001b[39m\u001b[38;5;124mOne or more mappers failed to initialize - \u001b[39m\u001b[38;5;124m\"\u001b[39m\n\u001b[0;32m   4230\u001b[0m         \u001b[38;5;124m\"\u001b[39m\u001b[38;5;124mcan\u001b[39m\u001b[38;5;124m'\u001b[39m\u001b[38;5;124mt proceed with initialization of other \u001b[39m\u001b[38;5;124m\"\u001b[39m\n\u001b[1;32m   (...)\u001b[0m\n\u001b[0;32m   4233\u001b[0m         \u001b[38;5;241m%\u001b[39m (mapper, mapper\u001b[38;5;241m.\u001b[39m_configure_failed)\n\u001b[0;32m   4234\u001b[0m     )\n\u001b[0;32m   4235\u001b[0m     e\u001b[38;5;241m.\u001b[39m_configure_failed \u001b[38;5;241m=\u001b[39m mapper\u001b[38;5;241m.\u001b[39m_configure_failed  \u001b[38;5;66;03m# type: ignore\u001b[39;00m\n\u001b[1;32m-> 4236\u001b[0m     \u001b[38;5;28;01mraise\u001b[39;00m e\n\u001b[0;32m   4238\u001b[0m \u001b[38;5;28;01mif\u001b[39;00m \u001b[38;5;129;01mnot\u001b[39;00m mapper\u001b[38;5;241m.\u001b[39mconfigured:\n\u001b[0;32m   4239\u001b[0m     \u001b[38;5;28;01mtry\u001b[39;00m:\n",
      "\u001b[1;31mInvalidRequestError\u001b[0m: One or more mappers failed to initialize - can't proceed with initialization of other mappers. Triggering mapper: 'Mapper[Post(POST)]'. Original exception was: Mapper 'Mapper[Tags(TAGS)]' has no property 'posts'.  If this property was indicated from other mappers or configure events, ensure registry.configure() has been called."
     ]
    }
   ],
   "source": [
    "tag1 = Hashtag(name='해시태그1')\n",
    "sess.add(tag1)\n",
    "sess.commit()"
   ]
  },
  {
   "cell_type": "code",
   "execution_count": 233,
   "id": "f9aba01d-6847-4fee-9a82-ee648f7875f7",
   "metadata": {},
   "outputs": [],
   "source": [
    "sess.commit()"
   ]
  },
  {
   "cell_type": "code",
   "execution_count": null,
   "id": "365b0810-45a4-46b3-90ed-1191f1bbe52f",
   "metadata": {},
   "outputs": [],
   "source": []
  }
 ],
 "metadata": {
  "kernelspec": {
   "display_name": "Python 3 (ipykernel)",
   "language": "python",
   "name": "python3"
  },
  "language_info": {
   "codemirror_mode": {
    "name": "ipython",
    "version": 3
   },
   "file_extension": ".py",
   "mimetype": "text/x-python",
   "name": "python",
   "nbconvert_exporter": "python",
   "pygments_lexer": "ipython3",
   "version": "3.10.1"
  }
 },
 "nbformat": 4,
 "nbformat_minor": 5
}
