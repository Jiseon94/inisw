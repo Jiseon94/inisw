{
 "cells": [
  {
   "cell_type": "code",
   "execution_count": 1,
   "id": "f0968f85-343a-4a2a-811f-ee086cc5220c",
   "metadata": {},
   "outputs": [],
   "source": [
    "adders = []\n",
    "for n in range(5):\n",
    "    adders.append(lambda m: m+n)"
   ]
  },
  {
   "cell_type": "code",
   "execution_count": 2,
   "id": "41d1fbfc-8346-488c-b60a-8e88646b9add",
   "metadata": {},
   "outputs": [
    {
     "data": {
      "text/plain": [
       "[<function __main__.<lambda>(m)>,\n",
       " <function __main__.<lambda>(m)>,\n",
       " <function __main__.<lambda>(m)>,\n",
       " <function __main__.<lambda>(m)>,\n",
       " <function __main__.<lambda>(m)>]"
      ]
     },
     "execution_count": 2,
     "metadata": {},
     "output_type": "execute_result"
    }
   ],
   "source": [
    "adders"
   ]
  },
  {
   "cell_type": "code",
   "execution_count": 3,
   "id": "8241ae75-b814-4084-95e2-7336eaf50b94",
   "metadata": {},
   "outputs": [
    {
     "data": {
      "text/plain": [
       "<function __main__.<lambda>(m)>"
      ]
     },
     "execution_count": 3,
     "metadata": {},
     "output_type": "execute_result"
    }
   ],
   "source": [
    "adders[0]"
   ]
  },
  {
   "cell_type": "code",
   "execution_count": 4,
   "id": "8eced6cf-3efc-4bfa-8886-14cf8e656b52",
   "metadata": {},
   "outputs": [
    {
     "data": {
      "text/plain": [
       "9"
      ]
     },
     "execution_count": 4,
     "metadata": {},
     "output_type": "execute_result"
    }
   ],
   "source": [
    "adders[1](5)"
   ]
  },
  {
   "cell_type": "code",
   "execution_count": 5,
   "id": "511ca204-b7c7-459e-ba1d-5a261ce53388",
   "metadata": {},
   "outputs": [
    {
     "data": {
      "text/plain": [
       "9"
      ]
     },
     "execution_count": 5,
     "metadata": {},
     "output_type": "execute_result"
    }
   ],
   "source": [
    "adders[2](5)"
   ]
  },
  {
   "cell_type": "code",
   "execution_count": 6,
   "id": "653b2fb4-a491-4a39-9fbb-4f5a8ca7ef89",
   "metadata": {},
   "outputs": [],
   "source": [
    "a=1"
   ]
  },
  {
   "cell_type": "code",
   "execution_count": 7,
   "id": "9b61ebd5-95f5-459a-904f-688e9ab7ab52",
   "metadata": {},
   "outputs": [
    {
     "data": {
      "text/plain": [
       "1"
      ]
     },
     "execution_count": 7,
     "metadata": {},
     "output_type": "execute_result"
    }
   ],
   "source": [
    "a"
   ]
  },
  {
   "cell_type": "code",
   "execution_count": 8,
   "id": "15c5f757-8571-4490-9216-1ba0972ac348",
   "metadata": {},
   "outputs": [],
   "source": [
    "a=2"
   ]
  },
  {
   "cell_type": "code",
   "execution_count": 9,
   "id": "5122bf10-c714-4a2e-9849-3bb99259f296",
   "metadata": {},
   "outputs": [
    {
     "data": {
      "text/plain": [
       "2"
      ]
     },
     "execution_count": 9,
     "metadata": {},
     "output_type": "execute_result"
    }
   ],
   "source": [
    "a"
   ]
  },
  {
   "cell_type": "code",
   "execution_count": 10,
   "id": "121bc885-48ce-4ab6-b89d-d4a8bd086fd4",
   "metadata": {},
   "outputs": [],
   "source": [
    "def a():\n",
    "    return 4"
   ]
  },
  {
   "cell_type": "code",
   "execution_count": 11,
   "id": "9e05b547-fb92-4b68-bcac-6d23ce587855",
   "metadata": {},
   "outputs": [
    {
     "data": {
      "text/plain": [
       "4"
      ]
     },
     "execution_count": 11,
     "metadata": {},
     "output_type": "execute_result"
    }
   ],
   "source": [
    "a()"
   ]
  },
  {
   "cell_type": "code",
   "execution_count": 12,
   "id": "3a4fd4b7-b6ba-42da-bedf-c0ee5e23d86d",
   "metadata": {},
   "outputs": [
    {
     "data": {
      "text/plain": [
       "<function __main__.a()>"
      ]
     },
     "execution_count": 12,
     "metadata": {},
     "output_type": "execute_result"
    }
   ],
   "source": [
    "a"
   ]
  },
  {
   "cell_type": "code",
   "execution_count": 13,
   "id": "91c423c9-f29b-4733-9142-245aed43f7b5",
   "metadata": {},
   "outputs": [],
   "source": [
    "from numpy import add"
   ]
  },
  {
   "cell_type": "code",
   "execution_count": 14,
   "id": "b3660676-630f-4191-87fd-4fba23a9c04c",
   "metadata": {},
   "outputs": [
    {
     "data": {
      "text/plain": [
       "<ufunc 'add'>"
      ]
     },
     "execution_count": 14,
     "metadata": {},
     "output_type": "execute_result"
    }
   ],
   "source": [
    "add"
   ]
  },
  {
   "cell_type": "code",
   "execution_count": null,
   "id": "6949b8b6-b12d-4d9a-9587-6d0bd357be96",
   "metadata": {},
   "outputs": [],
   "source": [
    "####========================================="
   ]
  },
  {
   "cell_type": "code",
   "execution_count": 17,
   "id": "4bb693fa-214c-4e99-8e23-6b47f3358b56",
   "metadata": {},
   "outputs": [],
   "source": [
    "import sys"
   ]
  },
  {
   "cell_type": "code",
   "execution_count": 18,
   "id": "1b09bbdb-b690-4b8c-951d-966592e97475",
   "metadata": {},
   "outputs": [
    {
     "data": {
      "text/plain": [
       "['C:\\\\Users\\\\user',\n",
       " 'C:\\\\Program Files\\\\Python310\\\\python310.zip',\n",
       " 'C:\\\\Program Files\\\\Python310\\\\DLLs',\n",
       " 'C:\\\\Program Files\\\\Python310\\\\lib',\n",
       " 'C:\\\\Program Files\\\\Python310',\n",
       " '',\n",
       " 'C:\\\\Users\\\\user\\\\AppData\\\\Roaming\\\\Python\\\\Python310\\\\site-packages',\n",
       " 'C:\\\\Users\\\\user\\\\AppData\\\\Roaming\\\\Python\\\\Python310\\\\site-packages\\\\win32',\n",
       " 'C:\\\\Users\\\\user\\\\AppData\\\\Roaming\\\\Python\\\\Python310\\\\site-packages\\\\win32\\\\lib',\n",
       " 'C:\\\\Users\\\\user\\\\AppData\\\\Roaming\\\\Python\\\\Python310\\\\site-packages\\\\Pythonwin',\n",
       " 'C:\\\\Program Files\\\\Python310\\\\lib\\\\site-packages']"
      ]
     },
     "execution_count": 18,
     "metadata": {},
     "output_type": "execute_result"
    }
   ],
   "source": [
    "sys.path"
   ]
  },
  {
   "cell_type": "code",
   "execution_count": 19,
   "id": "1e360898-de19-4e1e-9677-a06431d38645",
   "metadata": {},
   "outputs": [
    {
     "ename": "ModuleNotFoundError",
     "evalue": "No module named 'sys33'",
     "output_type": "error",
     "traceback": [
      "\u001b[1;31m---------------------------------------------------------------------------\u001b[0m",
      "\u001b[1;31mModuleNotFoundError\u001b[0m                       Traceback (most recent call last)",
      "Cell \u001b[1;32mIn[19], line 1\u001b[0m\n\u001b[1;32m----> 1\u001b[0m \u001b[38;5;28;01mimport\u001b[39;00m \u001b[38;5;21;01msys33\u001b[39;00m\n",
      "\u001b[1;31mModuleNotFoundError\u001b[0m: No module named 'sys33'"
     ]
    }
   ],
   "source": [
    "import sys33"
   ]
  },
  {
   "cell_type": "code",
   "execution_count": 20,
   "id": "972f2d87-8c51-4e2a-a592-b60831b22ecc",
   "metadata": {},
   "outputs": [
    {
     "name": "stdout",
     "output_type": "stream",
     "text": [
      "Variable   Type        Data/Info\n",
      "--------------------------------\n",
      "a          function    <function a at 0x000001D08C85BF40>\n",
      "add        ufunc       <ufunc 'add'>\n",
      "adders     list        n=5\n",
      "n          int         4\n",
      "sys        module      <module 'sys' (built-in)>\n"
     ]
    }
   ],
   "source": [
    "%whos"
   ]
  },
  {
   "cell_type": "code",
   "execution_count": 21,
   "id": "c1408467-0c7c-4b4d-b98b-567a09a95676",
   "metadata": {},
   "outputs": [],
   "source": [
    "a = 1\n",
    "_a = 2\n",
    "def x():\n",
    "    print(1)\n",
    "def _x():\n",
    "    print(1)"
   ]
  },
  {
   "cell_type": "code",
   "execution_count": 22,
   "id": "78faa02d-3c7c-484d-bb5d-edc8d8f60ae4",
   "metadata": {},
   "outputs": [
    {
     "name": "stdout",
     "output_type": "stream",
     "text": [
      "Variable   Type        Data/Info\n",
      "--------------------------------\n",
      "a          int         1\n",
      "add        ufunc       <ufunc 'add'>\n",
      "adders     list        n=5\n",
      "n          int         4\n",
      "sys        module      <module 'sys' (built-in)>\n",
      "x          function    <function x at 0x000001D0AAA72440>\n"
     ]
    }
   ],
   "source": [
    "%whos"
   ]
  },
  {
   "cell_type": "code",
   "execution_count": 23,
   "id": "cd418f16-879b-4355-8976-01f5037b8b8c",
   "metadata": {},
   "outputs": [],
   "source": [
    "class A:\n",
    "    def xx(self):\n",
    "        print('A')"
   ]
  },
  {
   "cell_type": "code",
   "execution_count": 24,
   "id": "6e68039a-0b16-40e3-a2cc-e193dfe4db1b",
   "metadata": {},
   "outputs": [],
   "source": [
    "a=A()"
   ]
  },
  {
   "cell_type": "code",
   "execution_count": 25,
   "id": "51528a27-a2f2-475c-90d8-7b15315c55f8",
   "metadata": {},
   "outputs": [
    {
     "name": "stdout",
     "output_type": "stream",
     "text": [
      "A\n"
     ]
    }
   ],
   "source": [
    "a.xx() #인스턴스변수이다. 인스턴스가 사용하는애."
   ]
  },
  {
   "cell_type": "code",
   "execution_count": 28,
   "id": "e2a850a0-85b8-4764-a44e-6e3baca49c61",
   "metadata": {},
   "outputs": [],
   "source": [
    "class A:\n",
    "    def xx(self):\n",
    "        print('A')\n",
    "\n",
    "    @staticmethod\n",
    "    def yy(self):\n",
    "        print('static')"
   ]
  },
  {
   "cell_type": "code",
   "execution_count": 30,
   "id": "de505db1-7d01-4203-921f-cfb5496240dd",
   "metadata": {},
   "outputs": [],
   "source": [
    "a= A()"
   ]
  },
  {
   "cell_type": "code",
   "execution_count": 31,
   "id": "5fa1d642-09c9-4ca2-b27d-285ab6a27247",
   "metadata": {},
   "outputs": [
    {
     "ename": "TypeError",
     "evalue": "A.yy() missing 1 required positional argument: 'self'",
     "output_type": "error",
     "traceback": [
      "\u001b[1;31m---------------------------------------------------------------------------\u001b[0m",
      "\u001b[1;31mTypeError\u001b[0m                                 Traceback (most recent call last)",
      "Cell \u001b[1;32mIn[31], line 1\u001b[0m\n\u001b[1;32m----> 1\u001b[0m \u001b[43ma\u001b[49m\u001b[38;5;241;43m.\u001b[39;49m\u001b[43myy\u001b[49m\u001b[43m(\u001b[49m\u001b[43m)\u001b[49m\n",
      "\u001b[1;31mTypeError\u001b[0m: A.yy() missing 1 required positional argument: 'self'"
     ]
    }
   ],
   "source": [
    "a.yy()"
   ]
  },
  {
   "cell_type": "code",
   "execution_count": 32,
   "id": "bf61b41b-47c1-4c17-bda0-8dfeb07b8565",
   "metadata": {},
   "outputs": [
    {
     "name": "stdout",
     "output_type": "stream",
     "text": [
      "static\n"
     ]
    }
   ],
   "source": [
    "a.yy(3)"
   ]
  },
  {
   "cell_type": "code",
   "execution_count": 33,
   "id": "db80c94f-4ff3-4557-a068-28104bb3d025",
   "metadata": {},
   "outputs": [
    {
     "name": "stdout",
     "output_type": "stream",
     "text": [
      "static\n"
     ]
    }
   ],
   "source": [
    "A.yy(3)"
   ]
  },
  {
   "cell_type": "code",
   "execution_count": 34,
   "id": "93d1e40b-bb85-46d1-a3a3-9ce71d718b66",
   "metadata": {},
   "outputs": [],
   "source": [
    "#인스턴스에 없으면 클래스에서 찾는다. "
   ]
  },
  {
   "cell_type": "code",
   "execution_count": 35,
   "id": "8b7a1642-1cde-4cf5-84d1-e2f81ef8feb3",
   "metadata": {},
   "outputs": [],
   "source": [
    "a = 1"
   ]
  },
  {
   "cell_type": "code",
   "execution_count": 36,
   "id": "045c6b8e-9ccf-4035-874d-3368d7491b5a",
   "metadata": {},
   "outputs": [
    {
     "data": {
      "text/plain": [
       "1"
      ]
     },
     "execution_count": 36,
     "metadata": {},
     "output_type": "execute_result"
    }
   ],
   "source": [
    "a"
   ]
  },
  {
   "cell_type": "code",
   "execution_count": 37,
   "id": "499e8298-4e2d-4536-a966-36d56e3d7c9d",
   "metadata": {},
   "outputs": [
    {
     "data": {
      "text/plain": [
       "1"
      ]
     },
     "execution_count": 37,
     "metadata": {},
     "output_type": "execute_result"
    }
   ],
   "source": [
    "_"
   ]
  },
  {
   "cell_type": "code",
   "execution_count": 38,
   "id": "5b524f7b-a4d7-4129-aa78-5c88536c1a4f",
   "metadata": {},
   "outputs": [
    {
     "data": {
      "text/plain": [
       "59"
      ]
     },
     "execution_count": 38,
     "metadata": {},
     "output_type": "execute_result"
    }
   ],
   "source": [
    "59"
   ]
  },
  {
   "cell_type": "code",
   "execution_count": 39,
   "id": "97840e52-8843-4299-af40-d9f5851e7406",
   "metadata": {},
   "outputs": [
    {
     "data": {
      "text/plain": [
       "59"
      ]
     },
     "execution_count": 39,
     "metadata": {},
     "output_type": "execute_result"
    }
   ],
   "source": [
    "_"
   ]
  },
  {
   "cell_type": "code",
   "execution_count": 44,
   "id": "1a1619b1-81fd-4e4f-ab55-dfe739c8fc0d",
   "metadata": {},
   "outputs": [],
   "source": [
    "class A():\n",
    "    def __x():\n",
    "        return 1"
   ]
  },
  {
   "cell_type": "code",
   "execution_count": 41,
   "id": "4f991620-d6fd-4dce-88a3-ed1230ff0262",
   "metadata": {},
   "outputs": [
    {
     "ename": "AttributeError",
     "evalue": "type object 'A' has no attribute '__x'",
     "output_type": "error",
     "traceback": [
      "\u001b[1;31m---------------------------------------------------------------------------\u001b[0m",
      "\u001b[1;31mAttributeError\u001b[0m                            Traceback (most recent call last)",
      "Cell \u001b[1;32mIn[41], line 1\u001b[0m\n\u001b[1;32m----> 1\u001b[0m \u001b[43mA\u001b[49m\u001b[38;5;241;43m.\u001b[39;49m\u001b[43m__x\u001b[49m\n",
      "\u001b[1;31mAttributeError\u001b[0m: type object 'A' has no attribute '__x'"
     ]
    }
   ],
   "source": [
    "A.__x"
   ]
  },
  {
   "cell_type": "code",
   "execution_count": 42,
   "id": "45ac57f5-685e-44e9-9545-dccc3a9a87ac",
   "metadata": {},
   "outputs": [
    {
     "data": {
      "text/plain": [
       "['_A__x',\n",
       " '__class__',\n",
       " '__delattr__',\n",
       " '__dict__',\n",
       " '__dir__',\n",
       " '__doc__',\n",
       " '__eq__',\n",
       " '__format__',\n",
       " '__ge__',\n",
       " '__getattribute__',\n",
       " '__gt__',\n",
       " '__hash__',\n",
       " '__init__',\n",
       " '__init_subclass__',\n",
       " '__le__',\n",
       " '__lt__',\n",
       " '__module__',\n",
       " '__ne__',\n",
       " '__new__',\n",
       " '__reduce__',\n",
       " '__reduce_ex__',\n",
       " '__repr__',\n",
       " '__setattr__',\n",
       " '__sizeof__',\n",
       " '__str__',\n",
       " '__subclasshook__',\n",
       " '__weakref__']"
      ]
     },
     "execution_count": 42,
     "metadata": {},
     "output_type": "execute_result"
    }
   ],
   "source": [
    "dir(A)"
   ]
  },
  {
   "cell_type": "code",
   "execution_count": 45,
   "id": "cffc52ba-6e4a-4fb1-835c-9296019d7f30",
   "metadata": {},
   "outputs": [
    {
     "data": {
      "text/plain": [
       "<function __main__.A.__x()>"
      ]
     },
     "execution_count": 45,
     "metadata": {},
     "output_type": "execute_result"
    }
   ],
   "source": [
    "A._A__x"
   ]
  },
  {
   "cell_type": "code",
   "execution_count": 46,
   "id": "e628a9dc-ed28-423e-b82c-b226d43d474d",
   "metadata": {},
   "outputs": [
    {
     "data": {
      "text/plain": [
       "3"
      ]
     },
     "execution_count": 46,
     "metadata": {},
     "output_type": "execute_result"
    }
   ],
   "source": [
    "len('abc')"
   ]
  },
  {
   "cell_type": "code",
   "execution_count": 47,
   "id": "85b3a4a4-bd82-4743-b977-6771da5c01d3",
   "metadata": {},
   "outputs": [
    {
     "data": {
      "text/plain": [
       "1"
      ]
     },
     "execution_count": 47,
     "metadata": {},
     "output_type": "execute_result"
    }
   ],
   "source": [
    "len({'a':[1,2,3]})"
   ]
  },
  {
   "cell_type": "code",
   "execution_count": 49,
   "id": "83a432dd-eddb-46a9-9da0-315d50177e42",
   "metadata": {},
   "outputs": [],
   "source": [
    "from functools import singledispatch"
   ]
  },
  {
   "cell_type": "code",
   "execution_count": 51,
   "id": "79deae65-1923-476a-8706-0f0c532eac62",
   "metadata": {},
   "outputs": [],
   "source": [
    "@singledispatch\n",
    "def x(t):\n",
    "    print(t)\n",
    "\n",
    "@x.register(int)\n",
    "def _(t):\n",
    "    print('int')\n",
    "\n",
    "@x.register(str)\n",
    "def _(t):\n",
    "    print('str')"
   ]
  },
  {
   "cell_type": "code",
   "execution_count": 53,
   "id": "545c9630-211b-4deb-81d4-73c8c4b2140a",
   "metadata": {},
   "outputs": [
    {
     "name": "stdout",
     "output_type": "stream",
     "text": [
      "[1, 2, 3]\n",
      "int\n",
      "str\n"
     ]
    },
    {
     "data": {
      "text/plain": [
       "(None, None, None)"
      ]
     },
     "execution_count": 53,
     "metadata": {},
     "output_type": "execute_result"
    }
   ],
   "source": [
    "x([1,2,3]), x(3), x('hi')"
   ]
  },
  {
   "cell_type": "code",
   "execution_count": 55,
   "id": "50d6ace0-307d-4bc7-a212-22838a5dc995",
   "metadata": {},
   "outputs": [],
   "source": [
    "class A:\n",
    "    pass"
   ]
  },
  {
   "cell_type": "code",
   "execution_count": 56,
   "id": "90cf91d7-9595-481f-8e90-8ee4bee0de24",
   "metadata": {},
   "outputs": [
    {
     "data": {
      "text/plain": [
       "<__main__.A at 0x1d08b206230>"
      ]
     },
     "execution_count": 56,
     "metadata": {},
     "output_type": "execute_result"
    }
   ],
   "source": [
    "A() #인스턴스화"
   ]
  },
  {
   "cell_type": "code",
   "execution_count": 67,
   "id": "fcccb55f-07c6-48de-9066-233157281a7b",
   "metadata": {},
   "outputs": [],
   "source": [
    "class C:\n",
    "    def __init__(self):\n",
    "        print('C')\n",
    "        return 1"
   ]
  },
  {
   "cell_type": "code",
   "execution_count": 68,
   "id": "35a48d6b-4122-4965-93e7-ab82dcecfdea",
   "metadata": {},
   "outputs": [
    {
     "name": "stdout",
     "output_type": "stream",
     "text": [
      "C\n"
     ]
    },
    {
     "ename": "TypeError",
     "evalue": "__init__() should return None, not 'int'",
     "output_type": "error",
     "traceback": [
      "\u001b[1;31m---------------------------------------------------------------------------\u001b[0m",
      "\u001b[1;31mTypeError\u001b[0m                                 Traceback (most recent call last)",
      "Cell \u001b[1;32mIn[68], line 1\u001b[0m\n\u001b[1;32m----> 1\u001b[0m \u001b[43mC\u001b[49m\u001b[43m(\u001b[49m\u001b[43m)\u001b[49m\n",
      "\u001b[1;31mTypeError\u001b[0m: __init__() should return None, not 'int'"
     ]
    }
   ],
   "source": [
    "C()"
   ]
  },
  {
   "cell_type": "code",
   "execution_count": 73,
   "id": "09e597c3-5fad-4f56-af3e-3acb83ccb676",
   "metadata": {},
   "outputs": [],
   "source": [
    "class C:\n",
    "    def __new__(cls):\n",
    "        print('new')\n",
    "        return super().__new__(cls)\n",
    "        \n",
    "    def __init__(self):\n",
    "        print('init')"
   ]
  },
  {
   "cell_type": "code",
   "execution_count": 70,
   "id": "00af55e3-f08b-4293-afa6-7ffd03acef80",
   "metadata": {},
   "outputs": [
    {
     "name": "stdout",
     "output_type": "stream",
     "text": [
      "new\n"
     ]
    }
   ],
   "source": [
    "C()"
   ]
  },
  {
   "cell_type": "code",
   "execution_count": 74,
   "id": "f1ab1b53-f678-4569-9619-f4d215cd4c5c",
   "metadata": {},
   "outputs": [
    {
     "name": "stdout",
     "output_type": "stream",
     "text": [
      "new\n",
      "init\n"
     ]
    },
    {
     "data": {
      "text/plain": [
       "<__main__.C at 0x1d0aaaeab60>"
      ]
     },
     "execution_count": 74,
     "metadata": {},
     "output_type": "execute_result"
    }
   ],
   "source": [
    "C()"
   ]
  },
  {
   "cell_type": "code",
   "execution_count": 75,
   "id": "a6a2f0d3-866f-4f89-899f-17349910c468",
   "metadata": {},
   "outputs": [],
   "source": [
    "#상속================================================"
   ]
  },
  {
   "cell_type": "code",
   "execution_count": 76,
   "id": "64c690d1-cfe6-4c94-85af-687ac3c567c3",
   "metadata": {},
   "outputs": [],
   "source": [
    "class A(object, metaclass=type):\n",
    "    x = 1"
   ]
  },
  {
   "cell_type": "code",
   "execution_count": 77,
   "id": "4000187d-fa5f-4838-91d9-c0191c9d5210",
   "metadata": {},
   "outputs": [],
   "source": [
    "#A를 상속받는다는 거다.\n",
    "class B(A):\n",
    "    pass"
   ]
  },
  {
   "cell_type": "code",
   "execution_count": 78,
   "id": "65d8bc60-76d0-4c07-9579-38fd2d732f57",
   "metadata": {},
   "outputs": [
    {
     "ename": "TypeError",
     "evalue": "Cannot create a consistent method resolution\norder (MRO) for bases A, B",
     "output_type": "error",
     "traceback": [
      "\u001b[1;31m---------------------------------------------------------------------------\u001b[0m",
      "\u001b[1;31mTypeError\u001b[0m                                 Traceback (most recent call last)",
      "Cell \u001b[1;32mIn[78], line 7\u001b[0m\n\u001b[0;32m      4\u001b[0m \u001b[38;5;28;01mclass\u001b[39;00m \u001b[38;5;21;01mB\u001b[39;00m(A):\n\u001b[0;32m      5\u001b[0m     \u001b[38;5;28;01mpass\u001b[39;00m\n\u001b[1;32m----> 7\u001b[0m \u001b[38;5;28;01mclass\u001b[39;00m \u001b[38;5;21;01mC\u001b[39;00m(A,B):\n\u001b[0;32m      8\u001b[0m     \u001b[38;5;28;01mpass\u001b[39;00m\n",
      "\u001b[1;31mTypeError\u001b[0m: Cannot create a consistent method resolution\norder (MRO) for bases A, B"
     ]
    }
   ],
   "source": [
    "class A():\n",
    "    x = 1\n",
    "\n",
    "class B(A):\n",
    "    pass\n",
    "\n",
    "class C(A,B):\n",
    "    pass"
   ]
  },
  {
   "cell_type": "code",
   "execution_count": 79,
   "id": "1966c03b-ea54-41e0-8b01-e699fd2aafca",
   "metadata": {},
   "outputs": [],
   "source": [
    "class A():\n",
    "    x = 1\n",
    "\n",
    "class B(A):\n",
    "    pass\n",
    "\n",
    "class C(B, A):\n",
    "    pass"
   ]
  },
  {
   "cell_type": "code",
   "execution_count": 80,
   "id": "354b3fad-84ff-4477-8348-7ff818c25a2a",
   "metadata": {},
   "outputs": [
    {
     "data": {
      "text/plain": [
       "[__main__.C, __main__.B, __main__.A, object]"
      ]
     },
     "execution_count": 80,
     "metadata": {},
     "output_type": "execute_result"
    }
   ],
   "source": [
    "C.mro()"
   ]
  },
  {
   "cell_type": "code",
   "execution_count": 81,
   "id": "c9f1f2d0-b52d-4ad4-b0bd-667d87ea1ef0",
   "metadata": {
    "scrolled": true
   },
   "outputs": [
    {
     "data": {
      "text/plain": [
       "['__annotations__',\n",
       " '__class__',\n",
       " '__delattr__',\n",
       " '__dict__',\n",
       " '__dir__',\n",
       " '__doc__',\n",
       " '__eq__',\n",
       " '__format__',\n",
       " '__ge__',\n",
       " '__getattribute__',\n",
       " '__gt__',\n",
       " '__hash__',\n",
       " '__init__',\n",
       " '__init_subclass__',\n",
       " '__le__',\n",
       " '__lt__',\n",
       " '__module__',\n",
       " '__ne__',\n",
       " '__new__',\n",
       " '__reduce__',\n",
       " '__reduce_ex__',\n",
       " '__repr__',\n",
       " '__setattr__',\n",
       " '__sizeof__',\n",
       " '__str__',\n",
       " '__subclasshook__',\n",
       " '__weakref__',\n",
       " 'x']"
      ]
     },
     "execution_count": 81,
     "metadata": {},
     "output_type": "execute_result"
    }
   ],
   "source": [
    "dir(C)"
   ]
  },
  {
   "cell_type": "code",
   "execution_count": 84,
   "id": "f43647cf-e088-4dae-839b-c5e7499992c1",
   "metadata": {},
   "outputs": [],
   "source": [
    "c=C()"
   ]
  },
  {
   "cell_type": "code",
   "execution_count": 85,
   "id": "183f9b18-e130-4ae7-ab28-026172add6dc",
   "metadata": {},
   "outputs": [
    {
     "data": {
      "text/plain": [
       "__main__.C"
      ]
     },
     "execution_count": 85,
     "metadata": {},
     "output_type": "execute_result"
    }
   ],
   "source": [
    "type(c)"
   ]
  },
  {
   "cell_type": "code",
   "execution_count": 86,
   "id": "691598b6-4831-40a3-85be-22b8d69eae21",
   "metadata": {},
   "outputs": [
    {
     "data": {
      "text/plain": [
       "__main__.C"
      ]
     },
     "execution_count": 86,
     "metadata": {},
     "output_type": "execute_result"
    }
   ],
   "source": [
    "c.__class__"
   ]
  },
  {
   "cell_type": "code",
   "execution_count": 87,
   "id": "dab2049e-a313-4396-9f3d-405589bc6ee9",
   "metadata": {},
   "outputs": [
    {
     "data": {
      "text/plain": [
       "(__main__.B, __main__.A)"
      ]
     },
     "execution_count": 87,
     "metadata": {},
     "output_type": "execute_result"
    }
   ],
   "source": [
    "C.__bases__"
   ]
  },
  {
   "cell_type": "code",
   "execution_count": 88,
   "id": "7e47ebd5-8267-4a04-a232-36011f1f9e7a",
   "metadata": {},
   "outputs": [
    {
     "data": {
      "text/plain": [
       "__main__.B"
      ]
     },
     "execution_count": 88,
     "metadata": {},
     "output_type": "execute_result"
    }
   ],
   "source": [
    "C.__base__"
   ]
  },
  {
   "cell_type": "code",
   "execution_count": 89,
   "id": "271f05fe-a71e-4077-ae79-5a9de8dc98ed",
   "metadata": {},
   "outputs": [
    {
     "data": {
      "text/plain": [
       "True"
      ]
     },
     "execution_count": 89,
     "metadata": {},
     "output_type": "execute_result"
    }
   ],
   "source": [
    "isinstance(c, C)"
   ]
  },
  {
   "cell_type": "code",
   "execution_count": 91,
   "id": "cf2b35f0-35a3-4da5-8605-30f78c4171b3",
   "metadata": {},
   "outputs": [
    {
     "data": {
      "text/plain": [
       "True"
      ]
     },
     "execution_count": 91,
     "metadata": {},
     "output_type": "execute_result"
    }
   ],
   "source": [
    "issubclass(C, A)"
   ]
  },
  {
   "cell_type": "code",
   "execution_count": 92,
   "id": "284ea45a-380c-4b0e-a84a-cdf8e44c86fe",
   "metadata": {},
   "outputs": [
    {
     "data": {
      "text/plain": [
       "True"
      ]
     },
     "execution_count": 92,
     "metadata": {},
     "output_type": "execute_result"
    }
   ],
   "source": [
    "issubclass(bool, int)"
   ]
  },
  {
   "cell_type": "code",
   "execution_count": 93,
   "id": "4e348b35-3b7e-4148-9e13-f448df7ff997",
   "metadata": {},
   "outputs": [],
   "source": [
    "class A():\n",
    "    x =1\n",
    "\n",
    "class B(A):\n",
    "    pass"
   ]
  },
  {
   "cell_type": "code",
   "execution_count": 94,
   "id": "61ff011d-6b2d-48fe-aa4f-5287ca171e02",
   "metadata": {},
   "outputs": [
    {
     "data": {
      "text/plain": [
       "1"
      ]
     },
     "execution_count": 94,
     "metadata": {},
     "output_type": "execute_result"
    }
   ],
   "source": [
    "B.x"
   ]
  },
  {
   "cell_type": "code",
   "execution_count": 96,
   "id": "6dcf6569-bd81-49ca-b2e3-09f3e7a1cf7a",
   "metadata": {},
   "outputs": [
    {
     "data": {
      "text/plain": [
       "1995109368048"
      ]
     },
     "execution_count": 96,
     "metadata": {},
     "output_type": "execute_result"
    }
   ],
   "source": [
    "id(B.x)"
   ]
  },
  {
   "cell_type": "code",
   "execution_count": 97,
   "id": "a5d6945c-bebb-45de-9a07-f13a576a9763",
   "metadata": {},
   "outputs": [
    {
     "data": {
      "text/plain": [
       "1995109368048"
      ]
     },
     "execution_count": 97,
     "metadata": {},
     "output_type": "execute_result"
    }
   ],
   "source": [
    "id(A.x)"
   ]
  },
  {
   "cell_type": "code",
   "execution_count": 98,
   "id": "bcb5b196-c2d1-44b9-9614-e54555a41b38",
   "metadata": {},
   "outputs": [],
   "source": [
    "class A():\n",
    "    x =1\n",
    "\n",
    "class B(A):  #overriding\n",
    "    x = 2"
   ]
  },
  {
   "cell_type": "code",
   "execution_count": 99,
   "id": "9e0b56c8-5e8a-4eea-9f6a-c6dbfcda4991",
   "metadata": {},
   "outputs": [
    {
     "data": {
      "text/plain": [
       "2"
      ]
     },
     "execution_count": 99,
     "metadata": {},
     "output_type": "execute_result"
    }
   ],
   "source": [
    "B.x"
   ]
  },
  {
   "cell_type": "code",
   "execution_count": 100,
   "id": "73b2bbe9-2b12-4214-adf1-9a2aaca761d1",
   "metadata": {},
   "outputs": [],
   "source": [
    "#일부변경 과 완전변경"
   ]
  },
  {
   "cell_type": "code",
   "execution_count": 102,
   "id": "8b22db40-9045-432e-a7cc-93b6095311be",
   "metadata": {},
   "outputs": [],
   "source": [
    "class A:\n",
    "    def xx(self):\n",
    "           print('xx')"
   ]
  },
  {
   "cell_type": "code",
   "execution_count": 103,
   "id": "bf7c691b-421b-41a1-9664-a59d1634831b",
   "metadata": {},
   "outputs": [],
   "source": [
    "class B(A):\n",
    "    def xx(self):\n",
    "        # print('xx')\n",
    "        A.xx(self) #부모의 내용이 바뀌면 자동으로 바뀌게 된다. \n",
    "        print('yy')"
   ]
  },
  {
   "cell_type": "code",
   "execution_count": 1,
   "id": "4b7f9b3c-84e3-4fa3-81f4-d0aff02177ca",
   "metadata": {},
   "outputs": [],
   "source": [
    "class A:\n",
    "    def __init__(self): #5\n",
    "        print('A')\n",
    "\n",
    "class B(A):\n",
    "    def __init__(self):   #3\n",
    "        # A. __init__(self) #4\n",
    "        super(B, self).__init__()\n",
    "        print('B')\n",
    "\n",
    "class C(A):\n",
    "    def __init__(self):\n",
    "        # A. __init__(self)\n",
    "        super(C, self).__init__()\n",
    "        print('C')\n",
    "\n",
    "class D(B,C):\n",
    "    def __init__(self):  #1\n",
    "        # B. __init__(self)  #2\n",
    "        # C. __init__(self)\n",
    "        super(D, self).__init__()\n",
    "        print('D')"
   ]
  },
  {
   "cell_type": "code",
   "execution_count": 2,
   "id": "d95972b9-b5e2-45f7-98d5-a8ea112ac6f4",
   "metadata": {},
   "outputs": [
    {
     "name": "stdout",
     "output_type": "stream",
     "text": [
      "A\n",
      "C\n",
      "B\n",
      "D\n"
     ]
    }
   ],
   "source": [
    "d = D()"
   ]
  },
  {
   "cell_type": "code",
   "execution_count": 3,
   "id": "fab7b040-0c5e-4cdd-997d-396a1dc6d9ba",
   "metadata": {},
   "outputs": [
    {
     "data": {
      "text/plain": [
       "[__main__.D, __main__.B, __main__.C, __main__.A, object]"
      ]
     },
     "execution_count": 3,
     "metadata": {},
     "output_type": "execute_result"
    }
   ],
   "source": [
    "D.mro()"
   ]
  },
  {
   "cell_type": "code",
   "execution_count": null,
   "id": "33268926-6178-4687-8140-f13f8d29c04a",
   "metadata": {},
   "outputs": [],
   "source": []
  }
 ],
 "metadata": {
  "kernelspec": {
   "display_name": "Python 3 (ipykernel)",
   "language": "python",
   "name": "python3"
  },
  "language_info": {
   "codemirror_mode": {
    "name": "ipython",
    "version": 3
   },
   "file_extension": ".py",
   "mimetype": "text/x-python",
   "name": "python",
   "nbconvert_exporter": "python",
   "pygments_lexer": "ipython3",
   "version": "3.10.1"
  }
 },
 "nbformat": 4,
 "nbformat_minor": 5
}
