{
 "cells": [
  {
   "cell_type": "code",
   "execution_count": null,
   "id": "5c149584-2f3c-4f74-b2af-af19122420e4",
   "metadata": {},
   "outputs": [],
   "source": [
    "local enclosing global builtins"
   ]
  },
  {
   "cell_type": "code",
   "execution_count": 1,
   "id": "4a89d422-5046-4b59-8063-7d19a01f554d",
   "metadata": {},
   "outputs": [],
   "source": [
    "a=1\n",
    "a, b= 1,2\n",
    "a = b = 1\n",
    "a, *b = 1,2,3\n",
    "a +=1"
   ]
  },
  {
   "cell_type": "code",
   "execution_count": 2,
   "id": "31bce30c-f55c-4690-ae74-55f29725ee83",
   "metadata": {},
   "outputs": [],
   "source": [
    "def x():\n",
    "    a=2\n",
    "    return a"
   ]
  },
  {
   "cell_type": "code",
   "execution_count": 3,
   "id": "75500992-bcf7-47d8-b520-5da248899e64",
   "metadata": {},
   "outputs": [
    {
     "data": {
      "text/plain": [
       "2"
      ]
     },
     "execution_count": 3,
     "metadata": {},
     "output_type": "execute_result"
    }
   ],
   "source": [
    "x()"
   ]
  },
  {
   "cell_type": "code",
   "execution_count": 4,
   "id": "a041198a-aa26-4b11-91e8-fd020e12bd8d",
   "metadata": {},
   "outputs": [
    {
     "ename": "NameError",
     "evalue": "name 'print' is not defined",
     "output_type": "error",
     "traceback": [
      "\u001b[1;31m---------------------------------------------------------------------------\u001b[0m",
      "\u001b[1;31mNameError\u001b[0m                                 Traceback (most recent call last)",
      "Cell \u001b[1;32mIn[4], line 1\u001b[0m\n\u001b[1;32m----> 1\u001b[0m \u001b[38;5;28;01mdel\u001b[39;00m \u001b[38;5;28mprint\u001b[39m \u001b[38;5;66;03m#global 영역에서 print 를 없애겠다는 뜻.\u001b[39;00m\n",
      "\u001b[1;31mNameError\u001b[0m: name 'print' is not defined"
     ]
    }
   ],
   "source": [
    "del print #global 영역에서 print 를 없애겠다는 뜻."
   ]
  },
  {
   "cell_type": "code",
   "execution_count": 6,
   "id": "be736d44-30a2-490e-aafb-ab99ab28a56f",
   "metadata": {},
   "outputs": [
    {
     "ename": "NameError",
     "evalue": "name 'print' is not defined",
     "output_type": "error",
     "traceback": [
      "\u001b[1;31m---------------------------------------------------------------------------\u001b[0m",
      "\u001b[1;31mNameError\u001b[0m                                 Traceback (most recent call last)",
      "Cell \u001b[1;32mIn[6], line 1\u001b[0m\n\u001b[1;32m----> 1\u001b[0m \u001b[38;5;28;01mdel\u001b[39;00m (\u001b[38;5;28mprint\u001b[39m)\n",
      "\u001b[1;31mNameError\u001b[0m: name 'print' is not defined"
     ]
    }
   ],
   "source": [
    "del (print) #이렇게도 쓸수 있다. "
   ]
  },
  {
   "cell_type": "code",
   "execution_count": 5,
   "id": "8a8f79cd-d893-4eb8-a1f4-4c575ab67ad9",
   "metadata": {},
   "outputs": [
    {
     "name": "stdout",
     "output_type": "stream",
     "text": [
      "sun\n"
     ]
    }
   ],
   "source": [
    "print('sun')"
   ]
  },
  {
   "cell_type": "code",
   "execution_count": null,
   "id": "00fa0035-793a-4df7-b358-6ea8c9bb2f38",
   "metadata": {},
   "outputs": [],
   "source": [
    "a = 1\n",
    "def xx():\n",
    "    "
   ]
  },
  {
   "cell_type": "code",
   "execution_count": null,
   "id": "6765759e-cf50-4112-9210-02ba39e383ed",
   "metadata": {},
   "outputs": [],
   "source": [
    "consenting adult"
   ]
  },
  {
   "cell_type": "code",
   "execution_count": null,
   "id": "908c53c5-f993-4512-b866-9f3ecf023400",
   "metadata": {},
   "outputs": [],
   "source": [
    "# binding\n",
    "a=1\n",
    "a, b= 1,2\n",
    "a = b = 1\n",
    "a, *b = 1,2,3\n",
    "a +=1\n",
    "global, nonlocal\n"
   ]
  },
  {
   "cell_type": "code",
   "execution_count": null,
   "id": "65a5b8b5-8564-4ce4-b155-17bfc85afa9f",
   "metadata": {},
   "outputs": [],
   "source": [
    "#closure"
   ]
  },
  {
   "cell_type": "code",
   "execution_count": null,
   "id": "1b38c298-63df-44b4-98a9-861b573f995d",
   "metadata": {},
   "outputs": [],
   "source": [
    "a = 1 #global\n",
    "def y():\n",
    "    a = 2 #inclosing 변수 : 겸친 함수를 쓸 때의 중간것. \n",
    "    def x():\n",
    "        a = 3  #local  \n",
    "    print(a)\n",
    "    return x()"
   ]
  },
  {
   "cell_type": "code",
   "execution_count": null,
   "id": "3c2301fd-c9a2-41b5-9a7c-aca464b943f8",
   "metadata": {},
   "outputs": [],
   "source": [
    "a = 1 #global\n",
    "def y():\n",
    "    a = 2 #inclosing 변수 : 겸친 함수를 쓸 때의 중간것. \n",
    "    def x():\n",
    "        global a\n",
    "        a = a+1  #unbound 에러가 나온다. 그래서 위에 global 을 붙여줘야한다.\n",
    "        return a\n",
    "    return x()"
   ]
  },
  {
   "cell_type": "code",
   "execution_count": null,
   "id": "6bfbd9a5-a831-4c7a-82fd-dee089836b3c",
   "metadata": {},
   "outputs": [],
   "source": [
    "#위의 inclosing 변수랑 싱크를 맞춰주고 싶다면? nonlocal 을 써야한다.\n",
    "a = 1 #global\n",
    "def y():\n",
    "    a = 2 #inclosing 변수 : 겸친 함수를 쓸 때의 중간것. \n",
    "    def x():\n",
    "        nonlocal a\n",
    "        a = a+1  #unbound 에러가 나온다. 그래서 위에 global 을 붙여줘야한다.\n",
    "        return a\n",
    "    return x()"
   ]
  },
  {
   "cell_type": "code",
   "execution_count": 7,
   "id": "209cdad8-2f73-4574-8a04-a46100a07870",
   "metadata": {},
   "outputs": [],
   "source": [
    "#closure (higher order function : 함수를 인자로 바꿔 함수로 리턴해주는거)"
   ]
  },
  {
   "cell_type": "code",
   "execution_count": 8,
   "id": "6db0d98f-e923-4c49-9515-d08de37367b2",
   "metadata": {},
   "outputs": [],
   "source": [
    "def x(m):\n",
    "    def y(n):\n",
    "        return m+n\n",
    "    return y\n",
    "#이 구문은 무조건 외우고 있자. \n",
    "#x를 실행하면 return 이 y의 값이 아니라, y 함수가 나온다"
   ]
  },
  {
   "cell_type": "code",
   "execution_count": 9,
   "id": "162c9c69-1ffc-4fd2-a93d-e44e36fc4872",
   "metadata": {},
   "outputs": [
    {
     "data": {
      "text/plain": [
       "<function __main__.x.<locals>.y(n)>"
      ]
     },
     "execution_count": 9,
     "metadata": {},
     "output_type": "execute_result"
    }
   ],
   "source": [
    "x(3)"
   ]
  },
  {
   "cell_type": "code",
   "execution_count": 10,
   "id": "f53a0fb5-26fe-4c65-9b4b-58a2541b142b",
   "metadata": {},
   "outputs": [
    {
     "data": {
      "text/plain": [
       "7"
      ]
     },
     "execution_count": 10,
     "metadata": {},
     "output_type": "execute_result"
    }
   ],
   "source": [
    "x(3)(4)"
   ]
  },
  {
   "cell_type": "code",
   "execution_count": 11,
   "id": "035f1c35-7ab8-422d-8a07-07e249b1bb9e",
   "metadata": {},
   "outputs": [
    {
     "data": {
      "text/plain": [
       "6"
      ]
     },
     "execution_count": 11,
     "metadata": {},
     "output_type": "execute_result"
    }
   ],
   "source": [
    "x(1)(5)"
   ]
  },
  {
   "cell_type": "code",
   "execution_count": 12,
   "id": "6c8988bb-bb54-4333-89cb-a703e011a650",
   "metadata": {},
   "outputs": [],
   "source": [
    "#첫번째 1 인자값이 내부함수에 계속 살아남아서 두가지 조합으로 다양한 함수를 만들 수 있다. "
   ]
  },
  {
   "cell_type": "code",
   "execution_count": 13,
   "id": "caf711fe-143c-4df7-966d-6d391d6381e3",
   "metadata": {},
   "outputs": [],
   "source": [
    "m = x(3)"
   ]
  },
  {
   "cell_type": "code",
   "execution_count": 14,
   "id": "30fbc2bc-2ac3-4efc-b041-becc81eda884",
   "metadata": {},
   "outputs": [
    {
     "data": {
      "text/plain": [
       "7"
      ]
     },
     "execution_count": 14,
     "metadata": {},
     "output_type": "execute_result"
    }
   ],
   "source": [
    "m(4)"
   ]
  },
  {
   "cell_type": "code",
   "execution_count": 15,
   "id": "4baa6dc2-35e3-4112-b133-5c9fbdc74232",
   "metadata": {},
   "outputs": [],
   "source": [
    "# m이 3을 더하는 함수가되므로 m(4)가 될 수 있다. \n",
    "# 두가지의 조합으로 더 유연하게 바꿀 수 있다."
   ]
  },
  {
   "cell_type": "code",
   "execution_count": 16,
   "id": "3b2f3d05-dcff-4ead-b580-f6529b4bd003",
   "metadata": {},
   "outputs": [],
   "source": [
    "# 이걸 객체지향으로 바꾸면 똑같은 코드가 아래와같이 된다.\n",
    "class A : \n",
    "    def __init__(self, m):\n",
    "        self.m = m\n",
    "    def __call__(self, n):\n",
    "        return self.m + n"
   ]
  },
  {
   "cell_type": "code",
   "execution_count": 17,
   "id": "94078f32-5ae3-4b2a-850b-2dfce082126d",
   "metadata": {},
   "outputs": [
    {
     "data": {
      "text/plain": [
       "5"
      ]
     },
     "execution_count": 17,
     "metadata": {},
     "output_type": "execute_result"
    }
   ],
   "source": [
    "A(1)(4)"
   ]
  },
  {
   "cell_type": "code",
   "execution_count": 18,
   "id": "7b308b63-5a93-40a9-83cb-50588e56987a",
   "metadata": {},
   "outputs": [],
   "source": [
    "#이게 바로 Closure 의 강점이다. "
   ]
  },
  {
   "cell_type": "code",
   "execution_count": 19,
   "id": "eb87a67e-7559-47a0-8aea-029cb87b5f15",
   "metadata": {},
   "outputs": [],
   "source": [
    "model = A(1)"
   ]
  },
  {
   "cell_type": "code",
   "execution_count": 20,
   "id": "faaf56d8-dbec-4007-bf85-3857684a5bbc",
   "metadata": {},
   "outputs": [
    {
     "data": {
      "text/plain": [
       "5"
      ]
     },
     "execution_count": 20,
     "metadata": {},
     "output_type": "execute_result"
    }
   ],
   "source": [
    "model (4)"
   ]
  },
  {
   "cell_type": "code",
   "execution_count": 21,
   "id": "2f8ad7cb-c7b7-4927-b154-a35b722bc38a",
   "metadata": {},
   "outputs": [],
   "source": [
    "# 이런 테크닉을 closure 라고 한다. 이 모든게 함수형 패러다임에 있는 개념이다. closure 는 외워라. "
   ]
  },
  {
   "cell_type": "code",
   "execution_count": 22,
   "id": "5267aa6c-81a2-44d9-a205-cd97e271f66d",
   "metadata": {},
   "outputs": [],
   "source": [
    "# tensorflow 할 때 자세히 배울 예정이다. "
   ]
  },
  {
   "cell_type": "code",
   "execution_count": 23,
   "id": "106894e6-6458-4a65-8e50-0db077ef243d",
   "metadata": {},
   "outputs": [],
   "source": [
    "# definition = declaration (정의 또는 선언)\n",
    "# 왜 하는걸까? -> 여러번 사용하기 위해서 정의하고 선언하는거다. = 재사용성!!! reuse\n",
    "# 여러 개의 동작을 재사용하기 위해서. 여러 개를 묶어야하는데, 그걸 이름으로 encapsulation 한다고 한다. \n",
    "# reuse > name encapsulation "
   ]
  },
  {
   "cell_type": "code",
   "execution_count": 24,
   "id": "643e2648-3507-47aa-95aa-066ee276f7a7",
   "metadata": {},
   "outputs": [],
   "source": [
    "# Map"
   ]
  },
  {
   "cell_type": "code",
   "execution_count": 25,
   "id": "4b271c8d-b9db-46c6-8a8a-d9ae3be7cbfe",
   "metadata": {},
   "outputs": [
    {
     "data": {
      "text/plain": [
       "<map at 0x193fe6964d0>"
      ]
     },
     "execution_count": 25,
     "metadata": {},
     "output_type": "execute_result"
    }
   ],
   "source": [
    "map(lambda x:x+1, [1,2,3,4]) #한번쓰고 버릴 애들은 lambda 를 쓸거다. "
   ]
  },
  {
   "cell_type": "code",
   "execution_count": 26,
   "id": "db4b8a70-584e-40cb-8c7c-577842c08c67",
   "metadata": {},
   "outputs": [],
   "source": [
    "# 파이썬은 대부분 iterator 기법을 배경으로 만들었기에 map 이지만 iterator , generator 처럼 쓸 수 있다."
   ]
  },
  {
   "cell_type": "code",
   "execution_count": 27,
   "id": "e67e3b8c-da7c-4c5a-88f0-125f102a04ec",
   "metadata": {},
   "outputs": [],
   "source": [
    "a = lambda x:x+1"
   ]
  },
  {
   "cell_type": "code",
   "execution_count": 28,
   "id": "f1d67318-fc61-45e0-a420-8b262ac1ef0e",
   "metadata": {},
   "outputs": [
    {
     "data": {
      "text/plain": [
       "'<lambda>'"
      ]
     },
     "execution_count": 28,
     "metadata": {},
     "output_type": "execute_result"
    }
   ],
   "source": [
    "a.__name__"
   ]
  },
  {
   "cell_type": "code",
   "execution_count": 29,
   "id": "c434fe83-3681-4fba-8372-0019ba6e80a8",
   "metadata": {},
   "outputs": [
    {
     "data": {
      "text/plain": [
       "'<lambda>'"
      ]
     },
     "execution_count": 29,
     "metadata": {},
     "output_type": "execute_result"
    }
   ],
   "source": [
    "a.__qualname__"
   ]
  },
  {
   "cell_type": "code",
   "execution_count": 30,
   "id": "38df964b-c842-4c0b-a508-308bcfbc51dc",
   "metadata": {},
   "outputs": [],
   "source": [
    "#class"
   ]
  },
  {
   "cell_type": "code",
   "execution_count": 38,
   "id": "adc69276-f744-461c-a5df-99b9a97f177d",
   "metadata": {},
   "outputs": [],
   "source": [
    "class A:\n",
    "    x=1   #class variable or class attribute 라고 한다. \n",
    "    def x(self):  # instance method : 클래스 안에 정의된 함수를 말함. \n",
    "        print('x')\n",
    "    def y(self, m):\n",
    "        self.m = m   # self.m 에서 m 을 instance 변수. \n",
    "        # instance 변수는 instance 메소드가 실행될 때 동적으로 생성된다. \n",
    "    @classmethod\n",
    "    def zz(cls):\n",
    "        print('cls')"
   ]
  },
  {
   "cell_type": "code",
   "execution_count": 40,
   "id": "e6f91464-e359-40a4-99e2-fa0a2a0ade20",
   "metadata": {},
   "outputs": [
    {
     "data": {
      "text/plain": [
       "<__main__.A at 0x193fe53f7f0>"
      ]
     },
     "execution_count": 40,
     "metadata": {},
     "output_type": "execute_result"
    }
   ],
   "source": [
    "A()"
   ]
  },
  {
   "cell_type": "code",
   "execution_count": 39,
   "id": "d5e43f02-29b8-4f18-8d8f-c2447626ad29",
   "metadata": {},
   "outputs": [
    {
     "name": "stdout",
     "output_type": "stream",
     "text": [
      "cls\n"
     ]
    }
   ],
   "source": [
    "A.zz()"
   ]
  },
  {
   "cell_type": "code",
   "execution_count": 32,
   "id": "4ed46135-5030-45aa-bf7a-831c14a24a4c",
   "metadata": {},
   "outputs": [],
   "source": [
    "#class 안에 정의된 x는 "
   ]
  },
  {
   "cell_type": "code",
   "execution_count": 37,
   "id": "071e5d57-7002-4e9d-bb28-178aa8bfcde9",
   "metadata": {},
   "outputs": [
    {
     "data": {
      "text/plain": [
       "<function __main__.A.x(self)>"
      ]
     },
     "execution_count": 37,
     "metadata": {},
     "output_type": "execute_result"
    }
   ],
   "source": [
    "A.x"
   ]
  },
  {
   "cell_type": "code",
   "execution_count": 41,
   "id": "efcee93d-8726-4c43-bd7d-41b0b204ab3c",
   "metadata": {},
   "outputs": [
    {
     "data": {
      "text/plain": [
       "set()"
      ]
     },
     "execution_count": 41,
     "metadata": {},
     "output_type": "execute_result"
    }
   ],
   "source": [
    "a = { }\n",
    "a = set()\n",
    "a"
   ]
  },
  {
   "cell_type": "code",
   "execution_count": 42,
   "id": "a9d159a9-952c-45eb-8657-15c52e0eb288",
   "metadata": {},
   "outputs": [],
   "source": [
    "a= int"
   ]
  },
  {
   "cell_type": "code",
   "execution_count": 43,
   "id": "f69f8b9f-3f28-4c45-9ff8-04d33e2e68e6",
   "metadata": {},
   "outputs": [
    {
     "data": {
      "text/plain": [
       "3"
      ]
     },
     "execution_count": 43,
     "metadata": {},
     "output_type": "execute_result"
    }
   ],
   "source": [
    "a(3)"
   ]
  },
  {
   "cell_type": "code",
   "execution_count": 44,
   "id": "2accc73c-3989-466d-b304-2baecc75f197",
   "metadata": {},
   "outputs": [
    {
     "data": {
      "text/plain": [
       "'int'"
      ]
     },
     "execution_count": 44,
     "metadata": {},
     "output_type": "execute_result"
    }
   ],
   "source": [
    "a.__name__"
   ]
  },
  {
   "cell_type": "code",
   "execution_count": 45,
   "id": "eab601c2-2d31-437b-9706-f0eca25d2f72",
   "metadata": {},
   "outputs": [],
   "source": [
    "class B(object):\n",
    "    pass"
   ]
  },
  {
   "cell_type": "code",
   "execution_count": 46,
   "id": "58d39009-d339-4612-9520-fc7e7a112253",
   "metadata": {},
   "outputs": [],
   "source": [
    "bb = B()"
   ]
  },
  {
   "cell_type": "code",
   "execution_count": 47,
   "id": "a48aad23-49a1-4218-9a4f-5c7dcd40433c",
   "metadata": {},
   "outputs": [
    {
     "data": {
      "text/plain": [
       "<__main__.B at 0x193fe53de70>"
      ]
     },
     "execution_count": 47,
     "metadata": {},
     "output_type": "execute_result"
    }
   ],
   "source": [
    "bb"
   ]
  },
  {
   "cell_type": "code",
   "execution_count": 48,
   "id": "65d46865-4da5-412d-9061-e606ae997536",
   "metadata": {},
   "outputs": [
    {
     "data": {
      "text/plain": [
       "['__class__',\n",
       " '__delattr__',\n",
       " '__dict__',\n",
       " '__dir__',\n",
       " '__doc__',\n",
       " '__eq__',\n",
       " '__format__',\n",
       " '__ge__',\n",
       " '__getattribute__',\n",
       " '__gt__',\n",
       " '__hash__',\n",
       " '__init__',\n",
       " '__init_subclass__',\n",
       " '__le__',\n",
       " '__lt__',\n",
       " '__module__',\n",
       " '__ne__',\n",
       " '__new__',\n",
       " '__reduce__',\n",
       " '__reduce_ex__',\n",
       " '__repr__',\n",
       " '__setattr__',\n",
       " '__sizeof__',\n",
       " '__str__',\n",
       " '__subclasshook__',\n",
       " '__weakref__']"
      ]
     },
     "execution_count": 48,
     "metadata": {},
     "output_type": "execute_result"
    }
   ],
   "source": [
    "dir(bb)"
   ]
  },
  {
   "cell_type": "code",
   "execution_count": 49,
   "id": "b3ff9e24-64f3-4c0e-919e-3907e7b632e6",
   "metadata": {},
   "outputs": [],
   "source": [
    "class C(object, metaclass = type):\n",
    "    pass"
   ]
  },
  {
   "cell_type": "code",
   "execution_count": 50,
   "id": "73d24d83-3aef-40d1-b019-cd59251423d6",
   "metadata": {},
   "outputs": [],
   "source": [
    "cc = C()"
   ]
  },
  {
   "cell_type": "code",
   "execution_count": 51,
   "id": "99114c66-d1a8-4595-8ce9-2cbc45e5afaa",
   "metadata": {},
   "outputs": [
    {
     "data": {
      "text/plain": [
       "['__class__',\n",
       " '__delattr__',\n",
       " '__dict__',\n",
       " '__dir__',\n",
       " '__doc__',\n",
       " '__eq__',\n",
       " '__format__',\n",
       " '__ge__',\n",
       " '__getattribute__',\n",
       " '__gt__',\n",
       " '__hash__',\n",
       " '__init__',\n",
       " '__init_subclass__',\n",
       " '__le__',\n",
       " '__lt__',\n",
       " '__module__',\n",
       " '__ne__',\n",
       " '__new__',\n",
       " '__reduce__',\n",
       " '__reduce_ex__',\n",
       " '__repr__',\n",
       " '__setattr__',\n",
       " '__sizeof__',\n",
       " '__str__',\n",
       " '__subclasshook__',\n",
       " '__weakref__']"
      ]
     },
     "execution_count": 51,
     "metadata": {},
     "output_type": "execute_result"
    }
   ],
   "source": [
    "dir(cc)"
   ]
  },
  {
   "cell_type": "code",
   "execution_count": 52,
   "id": "cf10c0a0-b9f3-48ff-84d3-3e1db765a8d5",
   "metadata": {},
   "outputs": [
    {
     "data": {
      "text/plain": [
       "[__main__.C, object]"
      ]
     },
     "execution_count": 52,
     "metadata": {},
     "output_type": "execute_result"
    }
   ],
   "source": [
    "C.mro()"
   ]
  },
  {
   "cell_type": "code",
   "execution_count": 53,
   "id": "7aa0350f-0e02-433e-8990-c19062864848",
   "metadata": {
    "scrolled": true
   },
   "outputs": [
    {
     "data": {
      "text/plain": [
       "['__abstractmethods__',\n",
       " '__annotations__',\n",
       " '__base__',\n",
       " '__bases__',\n",
       " '__basicsize__',\n",
       " '__call__',\n",
       " '__class__',\n",
       " '__delattr__',\n",
       " '__dict__',\n",
       " '__dictoffset__',\n",
       " '__dir__',\n",
       " '__doc__',\n",
       " '__eq__',\n",
       " '__flags__',\n",
       " '__format__',\n",
       " '__ge__',\n",
       " '__getattribute__',\n",
       " '__gt__',\n",
       " '__hash__',\n",
       " '__init__',\n",
       " '__init_subclass__',\n",
       " '__instancecheck__',\n",
       " '__itemsize__',\n",
       " '__le__',\n",
       " '__lt__',\n",
       " '__module__',\n",
       " '__mro__',\n",
       " '__name__',\n",
       " '__ne__',\n",
       " '__new__',\n",
       " '__or__',\n",
       " '__prepare__',\n",
       " '__qualname__',\n",
       " '__reduce__',\n",
       " '__reduce_ex__',\n",
       " '__repr__',\n",
       " '__ror__',\n",
       " '__setattr__',\n",
       " '__sizeof__',\n",
       " '__str__',\n",
       " '__subclasscheck__',\n",
       " '__subclasses__',\n",
       " '__subclasshook__',\n",
       " '__text_signature__',\n",
       " '__weakrefoffset__',\n",
       " 'mro']"
      ]
     },
     "execution_count": 53,
     "metadata": {},
     "output_type": "execute_result"
    }
   ],
   "source": [
    "dir(type)"
   ]
  },
  {
   "cell_type": "code",
   "execution_count": 54,
   "id": "65e24134-9bed-45dc-b3d3-cc0f55256e3c",
   "metadata": {},
   "outputs": [
    {
     "data": {
      "text/plain": [
       "type"
      ]
     },
     "execution_count": 54,
     "metadata": {},
     "output_type": "execute_result"
    }
   ],
   "source": [
    "type(int)"
   ]
  },
  {
   "cell_type": "code",
   "execution_count": 55,
   "id": "e116bc90-6f5c-433a-81f5-e599baabad32",
   "metadata": {},
   "outputs": [
    {
     "data": {
      "text/plain": [
       "type"
      ]
     },
     "execution_count": 55,
     "metadata": {},
     "output_type": "execute_result"
    }
   ],
   "source": [
    "type(type)"
   ]
  },
  {
   "cell_type": "code",
   "execution_count": 57,
   "id": "7db499e6-aed7-40a5-89e9-7428a366e09e",
   "metadata": {},
   "outputs": [],
   "source": [
    "class B:\n",
    "    def t(self):\n",
    "        self.a = 3\n",
    "    def s(self, b):\n",
    "        self.b = b"
   ]
  },
  {
   "cell_type": "code",
   "execution_count": 58,
   "id": "1f31d923-0014-49d0-86ee-4ed172bd61c8",
   "metadata": {},
   "outputs": [],
   "source": [
    "b1 = B()"
   ]
  },
  {
   "cell_type": "code",
   "execution_count": 59,
   "id": "089b0b98-239d-446b-9850-bf468a5ee024",
   "metadata": {
    "scrolled": true
   },
   "outputs": [
    {
     "data": {
      "text/plain": [
       "['__class__',\n",
       " '__delattr__',\n",
       " '__dict__',\n",
       " '__dir__',\n",
       " '__doc__',\n",
       " '__eq__',\n",
       " '__format__',\n",
       " '__ge__',\n",
       " '__getattribute__',\n",
       " '__gt__',\n",
       " '__hash__',\n",
       " '__init__',\n",
       " '__init_subclass__',\n",
       " '__le__',\n",
       " '__lt__',\n",
       " '__module__',\n",
       " '__ne__',\n",
       " '__new__',\n",
       " '__reduce__',\n",
       " '__reduce_ex__',\n",
       " '__repr__',\n",
       " '__setattr__',\n",
       " '__sizeof__',\n",
       " '__str__',\n",
       " '__subclasshook__',\n",
       " '__weakref__',\n",
       " 's',\n",
       " 't']"
      ]
     },
     "execution_count": 59,
     "metadata": {},
     "output_type": "execute_result"
    }
   ],
   "source": [
    "dir(b1)"
   ]
  },
  {
   "cell_type": "code",
   "execution_count": 60,
   "id": "6bbff784-68e4-4fec-beb7-3b892b6e4afa",
   "metadata": {},
   "outputs": [],
   "source": [
    "b1.t()"
   ]
  },
  {
   "cell_type": "code",
   "execution_count": 61,
   "id": "b4ecafc5-c894-489f-8eb9-4285ed80f2b6",
   "metadata": {
    "scrolled": true
   },
   "outputs": [
    {
     "data": {
      "text/plain": [
       "['__class__',\n",
       " '__delattr__',\n",
       " '__dict__',\n",
       " '__dir__',\n",
       " '__doc__',\n",
       " '__eq__',\n",
       " '__format__',\n",
       " '__ge__',\n",
       " '__getattribute__',\n",
       " '__gt__',\n",
       " '__hash__',\n",
       " '__init__',\n",
       " '__init_subclass__',\n",
       " '__le__',\n",
       " '__lt__',\n",
       " '__module__',\n",
       " '__ne__',\n",
       " '__new__',\n",
       " '__reduce__',\n",
       " '__reduce_ex__',\n",
       " '__repr__',\n",
       " '__setattr__',\n",
       " '__sizeof__',\n",
       " '__str__',\n",
       " '__subclasshook__',\n",
       " '__weakref__',\n",
       " 'a',\n",
       " 's',\n",
       " 't']"
      ]
     },
     "execution_count": 61,
     "metadata": {},
     "output_type": "execute_result"
    }
   ],
   "source": [
    "dir(b1)"
   ]
  },
  {
   "cell_type": "code",
   "execution_count": 62,
   "id": "b5e8fd1e-b637-4151-ab69-000082792460",
   "metadata": {},
   "outputs": [],
   "source": [
    "b1.s(5)"
   ]
  },
  {
   "cell_type": "code",
   "execution_count": 63,
   "id": "b9f38140-dbdb-4bc2-af6e-587c369577fe",
   "metadata": {
    "scrolled": true
   },
   "outputs": [
    {
     "data": {
      "text/plain": [
       "['__class__',\n",
       " '__delattr__',\n",
       " '__dict__',\n",
       " '__dir__',\n",
       " '__doc__',\n",
       " '__eq__',\n",
       " '__format__',\n",
       " '__ge__',\n",
       " '__getattribute__',\n",
       " '__gt__',\n",
       " '__hash__',\n",
       " '__init__',\n",
       " '__init_subclass__',\n",
       " '__le__',\n",
       " '__lt__',\n",
       " '__module__',\n",
       " '__ne__',\n",
       " '__new__',\n",
       " '__reduce__',\n",
       " '__reduce_ex__',\n",
       " '__repr__',\n",
       " '__setattr__',\n",
       " '__sizeof__',\n",
       " '__str__',\n",
       " '__subclasshook__',\n",
       " '__weakref__',\n",
       " 'a',\n",
       " 'b',\n",
       " 's',\n",
       " 't']"
      ]
     },
     "execution_count": 63,
     "metadata": {},
     "output_type": "execute_result"
    }
   ],
   "source": [
    "dir(b1)"
   ]
  },
  {
   "cell_type": "code",
   "execution_count": 64,
   "id": "e3209743-199c-4122-9289-48326f66299d",
   "metadata": {},
   "outputs": [],
   "source": [
    "b2 = B()"
   ]
  },
  {
   "cell_type": "code",
   "execution_count": 65,
   "id": "1ac566de-2d88-4fa9-9240-a2d0a40d12fd",
   "metadata": {},
   "outputs": [],
   "source": [
    "b2.t()"
   ]
  },
  {
   "cell_type": "code",
   "execution_count": 66,
   "id": "3867277a-4a32-4d49-8c59-551be1e7cda4",
   "metadata": {},
   "outputs": [],
   "source": [
    "b2.s('a')"
   ]
  },
  {
   "cell_type": "code",
   "execution_count": 67,
   "id": "4324c162-5fa6-4c70-8e09-d9847d89adac",
   "metadata": {},
   "outputs": [
    {
     "data": {
      "text/plain": [
       "{'a': 3, 'b': 'a'}"
      ]
     },
     "execution_count": 67,
     "metadata": {},
     "output_type": "execute_result"
    }
   ],
   "source": [
    "vars(b2)"
   ]
  },
  {
   "cell_type": "code",
   "execution_count": 68,
   "id": "366b8290-e41a-47f3-ac87-949c69ed4834",
   "metadata": {},
   "outputs": [],
   "source": [
    "class C:\n",
    "    xx = 1  #class 변수\n",
    "    def cc(self, t):\n",
    "        self.t = t"
   ]
  },
  {
   "cell_type": "code",
   "execution_count": 69,
   "id": "bfe2bbcc-9ae9-40bb-824f-b33ef396357a",
   "metadata": {},
   "outputs": [],
   "source": [
    "c1 = C()"
   ]
  },
  {
   "cell_type": "code",
   "execution_count": 70,
   "id": "d2d8a143-ff34-4cf1-92ea-cce10dfa654c",
   "metadata": {},
   "outputs": [
    {
     "data": {
      "text/plain": [
       "{}"
      ]
     },
     "execution_count": 70,
     "metadata": {},
     "output_type": "execute_result"
    }
   ],
   "source": [
    "vars(c1)"
   ]
  },
  {
   "cell_type": "code",
   "execution_count": 71,
   "id": "1dbb52cf-a07c-4313-8442-96cd033bf206",
   "metadata": {},
   "outputs": [
    {
     "data": {
      "text/plain": [
       "1"
      ]
     },
     "execution_count": 71,
     "metadata": {},
     "output_type": "execute_result"
    }
   ],
   "source": [
    "c1.xx"
   ]
  },
  {
   "cell_type": "code",
   "execution_count": 72,
   "id": "4c2ab545-818d-445c-9aa7-c8407d7161c8",
   "metadata": {},
   "outputs": [
    {
     "data": {
      "text/plain": [
       "{}"
      ]
     },
     "execution_count": 72,
     "metadata": {},
     "output_type": "execute_result"
    }
   ],
   "source": [
    "vars(c1)"
   ]
  },
  {
   "cell_type": "code",
   "execution_count": 73,
   "id": "3587ef2b-366d-461f-892a-0e8ca234f4ef",
   "metadata": {},
   "outputs": [],
   "source": [
    "# 인스턴스 변수에 없으면 클래스 변수를 체크한다. "
   ]
  },
  {
   "cell_type": "code",
   "execution_count": 74,
   "id": "8f759185-a9d3-4db4-8f23-b02846b802c1",
   "metadata": {},
   "outputs": [],
   "source": [
    "c1.tt = 3  #내부적으로 __set__ 실행이 된다. 이게 property descriptor 이다. "
   ]
  },
  {
   "cell_type": "code",
   "execution_count": 75,
   "id": "9e408e01-df0c-4cbe-81f2-079bb2f9b263",
   "metadata": {},
   "outputs": [
    {
     "data": {
      "text/plain": [
       "{'tt': 3}"
      ]
     },
     "execution_count": 75,
     "metadata": {},
     "output_type": "execute_result"
    }
   ],
   "source": [
    "vars(c1)"
   ]
  },
  {
   "cell_type": "code",
   "execution_count": 76,
   "id": "9b995401-48eb-46fd-93b4-d9aa9ea37c91",
   "metadata": {},
   "outputs": [],
   "source": [
    "c1.xx = 't'"
   ]
  },
  {
   "cell_type": "code",
   "execution_count": 77,
   "id": "b9a20cf8-d1ee-4fd6-b833-2dd2ec68cc2c",
   "metadata": {},
   "outputs": [
    {
     "data": {
      "text/plain": [
       "{'tt': 3, 'xx': 't'}"
      ]
     },
     "execution_count": 77,
     "metadata": {},
     "output_type": "execute_result"
    }
   ],
   "source": [
    "vars(c1)"
   ]
  },
  {
   "cell_type": "code",
   "execution_count": 83,
   "id": "d3f08d70-d4b5-46f4-a1a9-b153e61a1a16",
   "metadata": {},
   "outputs": [
    {
     "data": {
      "text/plain": [
       "'t'"
      ]
     },
     "execution_count": 83,
     "metadata": {},
     "output_type": "execute_result"
    }
   ],
   "source": [
    "c1.xx"
   ]
  },
  {
   "cell_type": "code",
   "execution_count": null,
   "id": "d758df2e-fc4d-46c9-ae82-a8b0b7f370f1",
   "metadata": {},
   "outputs": [],
   "source": [
    "# 인스턴스 변수가 있으므로 c1.xx 를 치면 1 이 아니라 't'가 나오는거다."
   ]
  },
  {
   "cell_type": "code",
   "execution_count": null,
   "id": "5ad4c5af-e8e0-450b-9508-1647d0e2452c",
   "metadata": {},
   "outputs": [],
   "source": [
    "# 그래서 클래스 변수는 뭐가 좋은걸까?"
   ]
  },
  {
   "cell_type": "code",
   "execution_count": 81,
   "id": "695cac23-62fe-4d2f-9c65-a3aa9ade8388",
   "metadata": {},
   "outputs": [],
   "source": [
    "c2 = C()"
   ]
  },
  {
   "cell_type": "code",
   "execution_count": 82,
   "id": "5f475ef5-0693-43f9-8f2c-754b57eca31e",
   "metadata": {},
   "outputs": [
    {
     "data": {
      "text/plain": [
       "1"
      ]
     },
     "execution_count": 82,
     "metadata": {},
     "output_type": "execute_result"
    }
   ],
   "source": [
    "c2.xx"
   ]
  },
  {
   "cell_type": "code",
   "execution_count": 84,
   "id": "b2ac4f93-e0b5-4fda-9b29-ab425eb3d9d7",
   "metadata": {},
   "outputs": [],
   "source": [
    "C.xx = 'sun'"
   ]
  },
  {
   "cell_type": "code",
   "execution_count": 85,
   "id": "0fbadb90-e39b-4599-9677-d0b3c5b06c9f",
   "metadata": {},
   "outputs": [
    {
     "data": {
      "text/plain": [
       "'sun'"
      ]
     },
     "execution_count": 85,
     "metadata": {},
     "output_type": "execute_result"
    }
   ],
   "source": [
    "c2.xx"
   ]
  },
  {
   "cell_type": "code",
   "execution_count": 86,
   "id": "dcc05869-4629-4d6e-a18a-ab86c9bb2a9b",
   "metadata": {},
   "outputs": [],
   "source": [
    "#위의 과정을 이해했으면, function 과 method 의 관계를 알아야 한다."
   ]
  },
  {
   "cell_type": "code",
   "execution_count": 87,
   "id": "d5976aba-0375-4b8a-bc4d-1470b73167b2",
   "metadata": {},
   "outputs": [],
   "source": [
    "class D:\n",
    "    def tt(self):\n",
    "        print('tt')"
   ]
  },
  {
   "cell_type": "code",
   "execution_count": 88,
   "id": "aad1ce68-0ea8-41b5-90ad-c5f26a64d7f3",
   "metadata": {},
   "outputs": [],
   "source": [
    "d = D()"
   ]
  },
  {
   "cell_type": "code",
   "execution_count": 89,
   "id": "72d27993-647a-4b1f-a50d-a438367fe534",
   "metadata": {},
   "outputs": [
    {
     "data": {
      "text/plain": [
       "<bound method D.tt of <__main__.D object at 0x00000193FFEDCF40>>"
      ]
     },
     "execution_count": 89,
     "metadata": {},
     "output_type": "execute_result"
    }
   ],
   "source": [
    "d.tt"
   ]
  },
  {
   "cell_type": "code",
   "execution_count": 90,
   "id": "2c90bdfa-5c30-480c-b55b-750618e82518",
   "metadata": {},
   "outputs": [],
   "source": [
    "#method 로 bound 됐다고 나온다."
   ]
  },
  {
   "cell_type": "code",
   "execution_count": 91,
   "id": "1d6df3bd-75b0-4ffc-a071-98e74e3fabed",
   "metadata": {},
   "outputs": [
    {
     "data": {
      "text/plain": [
       "<function __main__.D.tt(self)>"
      ]
     },
     "execution_count": 91,
     "metadata": {},
     "output_type": "execute_result"
    }
   ],
   "source": [
    "D.tt"
   ]
  },
  {
   "cell_type": "code",
   "execution_count": null,
   "id": "341a56f8-22c7-43af-9165-d516917fa075",
   "metadata": {},
   "outputs": [],
   "source": [
    "# tt 는 method 또는 function 으로 사용 할수 있다는 거다.."
   ]
  },
  {
   "cell_type": "code",
   "execution_count": 92,
   "id": "7036561a-3c9c-4458-b8a2-16c84a201757",
   "metadata": {},
   "outputs": [
    {
     "ename": "TypeError",
     "evalue": "D.tt() missing 1 required positional argument: 'self'",
     "output_type": "error",
     "traceback": [
      "\u001b[1;31m---------------------------------------------------------------------------\u001b[0m",
      "\u001b[1;31mTypeError\u001b[0m                                 Traceback (most recent call last)",
      "Cell \u001b[1;32mIn[92], line 1\u001b[0m\n\u001b[1;32m----> 1\u001b[0m \u001b[43mD\u001b[49m\u001b[38;5;241;43m.\u001b[39;49m\u001b[43mtt\u001b[49m\u001b[43m(\u001b[49m\u001b[43m)\u001b[49m\n",
      "\u001b[1;31mTypeError\u001b[0m: D.tt() missing 1 required positional argument: 'self'"
     ]
    }
   ],
   "source": [
    "D.tt()"
   ]
  },
  {
   "cell_type": "code",
   "execution_count": 93,
   "id": "f9a83e6d-7a98-4b2b-9f4f-bee00f822aeb",
   "metadata": {},
   "outputs": [
    {
     "name": "stdout",
     "output_type": "stream",
     "text": [
      "tt\n"
     ]
    }
   ],
   "source": [
    "D.tt(d)"
   ]
  },
  {
   "cell_type": "code",
   "execution_count": 94,
   "id": "10ea225f-3745-4e79-8772-7444514b2d37",
   "metadata": {},
   "outputs": [
    {
     "ename": "TypeError",
     "evalue": "D.tt() takes 1 positional argument but 2 were given",
     "output_type": "error",
     "traceback": [
      "\u001b[1;31m---------------------------------------------------------------------------\u001b[0m",
      "\u001b[1;31mTypeError\u001b[0m                                 Traceback (most recent call last)",
      "Cell \u001b[1;32mIn[94], line 1\u001b[0m\n\u001b[1;32m----> 1\u001b[0m \u001b[43md\u001b[49m\u001b[38;5;241;43m.\u001b[39;49m\u001b[43mtt\u001b[49m\u001b[43m(\u001b[49m\u001b[43md\u001b[49m\u001b[43m)\u001b[49m\n",
      "\u001b[1;31mTypeError\u001b[0m: D.tt() takes 1 positional argument but 2 were given"
     ]
    }
   ],
   "source": [
    "d.tt(d)"
   ]
  },
  {
   "cell_type": "code",
   "execution_count": 95,
   "id": "7e7c3bdf-1eac-4559-9a33-6213cbe567b5",
   "metadata": {},
   "outputs": [
    {
     "name": "stdout",
     "output_type": "stream",
     "text": [
      "tt\n"
     ]
    }
   ],
   "source": [
    "d.tt()"
   ]
  },
  {
   "cell_type": "code",
   "execution_count": null,
   "id": "118b5459-df09-457e-80b6-d6a21cd8bc05",
   "metadata": {},
   "outputs": [],
   "source": []
  },
  {
   "cell_type": "code",
   "execution_count": null,
   "id": "658f1ce2-2bd3-487e-9a22-fc6398b6a557",
   "metadata": {},
   "outputs": [],
   "source": []
  }
 ],
 "metadata": {
  "kernelspec": {
   "display_name": "Python 3 (ipykernel)",
   "language": "python",
   "name": "python3"
  },
  "language_info": {
   "codemirror_mode": {
    "name": "ipython",
    "version": 3
   },
   "file_extension": ".py",
   "mimetype": "text/x-python",
   "name": "python",
   "nbconvert_exporter": "python",
   "pygments_lexer": "ipython3",
   "version": "3.10.1"
  }
 },
 "nbformat": 4,
 "nbformat_minor": 5
}
