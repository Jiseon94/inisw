{
 "cells": [
  {
   "cell_type": "code",
   "execution_count": 1,
   "id": "4afaf13d-94a4-4ba9-900e-35f38860c73e",
   "metadata": {},
   "outputs": [],
   "source": [
    "from requests import request\n",
    "from requests.exceptions import HTTPError\n",
    "from time import sleep\n",
    "\n",
    "def download(url, params={}, method='GET', retries=3):\n",
    "    resp = None\n",
    "    \n",
    "    try:\n",
    "        resp = request(method, url,\n",
    "                       params=params if method=='GET' else {},\n",
    "                       data=params if method=='POST' else {},\n",
    "                       headers={'user-agent':'Mozilla/5.0 (Windows NT 10.0; Win64; x64) AppleWebKit/537.36 (KHTML, like Gecko) Chrome/116.0.0.0 Safari/537.366'}\n",
    "                      )\n",
    "        resp.raise_for_status()\n",
    "    except HTTPError as e:\n",
    "        if 500 <= e.response.status_code:\n",
    "            if retries > 0:\n",
    "                sleep(3)\n",
    "                resp = download(url, params=params,\n",
    "                                method=method,\n",
    "                                retries=retries-1)\n",
    "            else:\n",
    "                print('재방문 횟수 초과')\n",
    "        else:\n",
    "            print('Request', resp.request.headers)\n",
    "            print('Response', e.response.headers)\n",
    "        \n",
    "    return resp"
   ]
  },
  {
   "cell_type": "code",
   "execution_count": 2,
   "id": "d1f05538-0b1b-4134-bbbd-9562c9f7b768",
   "metadata": {},
   "outputs": [],
   "source": [
    "# https://pythonscraping.com/pages/javascript/ajaxDemo.html"
   ]
  },
  {
   "cell_type": "code",
   "execution_count": 3,
   "id": "3df83a5b-0421-4584-808e-9f0d217cb713",
   "metadata": {},
   "outputs": [],
   "source": [
    "url = 'https://pythonscraping.com/pages/javascript/ajaxDemo.html'\n",
    "resp = download(url)"
   ]
  },
  {
   "cell_type": "code",
   "execution_count": 4,
   "id": "a0ace095-7e24-43ab-9c7f-49d792845132",
   "metadata": {},
   "outputs": [
    {
     "data": {
      "text/plain": [
       "'text/html'"
      ]
     },
     "execution_count": 4,
     "metadata": {},
     "output_type": "execute_result"
    }
   ],
   "source": [
    "resp.headers['content-type']"
   ]
  },
  {
   "cell_type": "code",
   "execution_count": 5,
   "id": "651746f1-9fb4-4d66-84a7-0a1655b32ff5",
   "metadata": {},
   "outputs": [],
   "source": [
    "from bs4 import BeautifulSoup\n",
    "dom = BeautifulSoup(resp.text, 'lxml')"
   ]
  },
  {
   "cell_type": "code",
   "execution_count": 6,
   "id": "ab761296-a9ed-4034-90c3-f2fc400d49d8",
   "metadata": {},
   "outputs": [
    {
     "data": {
      "text/plain": [
       "\"This is some content that will appear on the page while it's loading. You don't care about scraping this.\""
      ]
     },
     "execution_count": 6,
     "metadata": {},
     "output_type": "execute_result"
    }
   ],
   "source": [
    "dom.select_one('#content').text.strip()"
   ]
  },
  {
   "cell_type": "code",
   "execution_count": 7,
   "id": "a2cfdb35-26d8-47b6-ba98-7d7242b3a7ee",
   "metadata": {},
   "outputs": [
    {
     "data": {
      "text/plain": [
       "<script src=\"../js/jquery-2.1.1.min.js\"></script>"
      ]
     },
     "execution_count": 7,
     "metadata": {},
     "output_type": "execute_result"
    }
   ],
   "source": [
    "dom.select_one('script')"
   ]
  },
  {
   "cell_type": "code",
   "execution_count": 8,
   "id": "368a457b-3799-4d94-86db-e5240fbebaa0",
   "metadata": {},
   "outputs": [
    {
     "data": {
      "text/plain": [
       "<html>\n",
       "<head>\n",
       "<title>Some JavaScript-loaded content</title>\n",
       "<script src=\"../js/jquery-2.1.1.min.js\"></script>\n",
       "</head>\n",
       "<body>\n",
       "<div id=\"content\">\n",
       "This is some content that will appear on the page while it's loading. You don't care about scraping this.\n",
       "</div>\n",
       "<script>\n",
       "$.ajax({\n",
       "    type: \"GET\",\n",
       "    url: \"loadedContent.php\",\n",
       "    success: function(response){\n",
       "\n",
       "\tsetTimeout(function() {\n",
       "\t    $('#content').html(response);\n",
       "\t}, 2000);\n",
       "    }\n",
       "  });\n",
       "\n",
       "function ajax_delay(str){\n",
       " setTimeout(\"str\",2000);\n",
       "}\n",
       "</script>\n",
       "</body>\n",
       "</html>"
      ]
     },
     "execution_count": 8,
     "metadata": {},
     "output_type": "execute_result"
    }
   ],
   "source": [
    "dom"
   ]
  },
  {
   "cell_type": "code",
   "execution_count": 9,
   "id": "263143b7-fd3e-4f66-8c11-bc9bd077e3e8",
   "metadata": {},
   "outputs": [
    {
     "data": {
      "text/plain": [
       "'https://pythonscraping.com/pages/javascript/loadedContent.php'"
      ]
     },
     "execution_count": 9,
     "metadata": {},
     "output_type": "execute_result"
    }
   ],
   "source": [
    "from requests.compat import urljoin\n",
    "\n",
    "urljoin(resp.request.url, 'loadedContent.php')"
   ]
  },
  {
   "cell_type": "code",
   "execution_count": 10,
   "id": "efe94738-750b-4cb5-b6f4-f81480f127c5",
   "metadata": {},
   "outputs": [],
   "source": [
    "newurl = urljoin(resp.request.url, 'loadedContent.php')\n",
    "resp = download(newurl)"
   ]
  },
  {
   "cell_type": "code",
   "execution_count": 11,
   "id": "5d3d1daf-a021-42b9-a445-cd3ce8905306",
   "metadata": {},
   "outputs": [
    {
     "data": {
      "text/plain": [
       "'text/html; charset=UTF-8'"
      ]
     },
     "execution_count": 11,
     "metadata": {},
     "output_type": "execute_result"
    }
   ],
   "source": [
    "resp.headers['content-type']"
   ]
  },
  {
   "cell_type": "code",
   "execution_count": 12,
   "id": "9f571670-f661-42bd-a261-66df07f0fb73",
   "metadata": {},
   "outputs": [
    {
     "data": {
      "text/plain": [
       "{'Server': 'nginx', 'Date': 'Mon, 25 Sep 2023 01:06:06 GMT', 'Content-Type': 'text/html; charset=UTF-8', 'Content-Length': '106', 'Connection': 'keep-alive', 'X-Powered-By': 'PHP/7.4.33, PleskLin', 'Vary': 'Accept-Encoding', 'Content-Encoding': 'gzip'}"
      ]
     },
     "execution_count": 12,
     "metadata": {},
     "output_type": "execute_result"
    }
   ],
   "source": [
    "resp.headers"
   ]
  },
  {
   "cell_type": "code",
   "execution_count": 13,
   "id": "23e682db-a202-440f-a6aa-759a81680d87",
   "metadata": {},
   "outputs": [
    {
     "data": {
      "text/plain": [
       "'Here is some important text you want to retrieve! <p/><button id=\"loadedButton\">A button to click!</button>'"
      ]
     },
     "execution_count": 13,
     "metadata": {},
     "output_type": "execute_result"
    }
   ],
   "source": [
    "# XHR 객체를 이용하여 AJAX를 통해 DHTML 한 결과\n",
    "resp.text"
   ]
  },
  {
   "cell_type": "code",
   "execution_count": 14,
   "id": "28f20b1b-07b0-417c-b134-b357578907f8",
   "metadata": {},
   "outputs": [
    {
     "data": {
      "text/plain": [
       "'application/json;charset=UTF-8'"
      ]
     },
     "execution_count": 14,
     "metadata": {},
     "output_type": "execute_result"
    }
   ],
   "source": [
    "url = 'https://vsuggest.search.daum.net/v2/sushi/pc/get'\n",
    "params = {'q': '카'}\n",
    "resp = download(url, params)\n",
    "resp.headers['content-type']"
   ]
  },
  {
   "cell_type": "code",
   "execution_count": 15,
   "id": "acbbc0bb-8c53-4a61-b149-9c938ba7069c",
   "metadata": {},
   "outputs": [
    {
     "name": "stdout",
     "output_type": "stream",
     "text": [
      "카카오맵\n",
      "카카오톡\n",
      "카카오 페이지\n",
      "카카오\n",
      "카카오톡 pc버전 다운로드\n",
      "카카오뱅크\n",
      "칸투칸\n",
      "카눈\n",
      "카카오 메일\n",
      "카르텔 뜻\n",
      "신한카드\n",
      "카나리아 바이오\n",
      "카카오 주가\n",
      "카니발\n",
      "카니발 하이브리드\n"
     ]
    }
   ],
   "source": [
    "for subkey in resp.json()['subkeys']:\n",
    "    print(subkey['keyword'])"
   ]
  },
  {
   "cell_type": "code",
   "execution_count": 16,
   "id": "0bfd726b-b96f-4da3-ada9-d217860fbdc6",
   "metadata": {},
   "outputs": [
    {
     "data": {
      "text/plain": [
       "{'Date': 'Mon, 25 Sep 2023 01:06:10 GMT', 'Server': 'Apache', 'X-Content-Type-Options': 'nosniff', 'X-XSS-Protection': '1; mode=block', 'Cache-Control': 'no-cache, no-store, max-age=0, must-revalidate', 'Pragma': 'no-cache', 'Expires': '0', 'X-Frame-Options': 'DENY', 'Content-Type': 'application/json;charset=UTF-8', 'Vary': 'Accept-Encoding,User-Agent', 'Content-Encoding': 'gzip', 'Keep-Alive': 'timeout=1, max=3800', 'Connection': 'Keep-Alive', 'Transfer-Encoding': 'chunked'}"
      ]
     },
     "execution_count": 16,
     "metadata": {},
     "output_type": "execute_result"
    }
   ],
   "source": [
    "resp.headers"
   ]
  },
  {
   "cell_type": "code",
   "execution_count": 17,
   "id": "c5dbd56b-ecc7-4b5d-9bb6-021610d184de",
   "metadata": {},
   "outputs": [],
   "source": [
    "# del params['callback']"
   ]
  },
  {
   "cell_type": "code",
   "execution_count": 18,
   "id": "75c3e970-c16b-4ba0-9fa2-cd8ea938848d",
   "metadata": {},
   "outputs": [
    {
     "name": "stdin",
     "output_type": "stream",
     "text": [
      " 카리나\n"
     ]
    },
    {
     "name": "stdout",
     "output_type": "stream",
     "text": [
      "카리나, 카리나 언니, 카리나 키, 카리나 고향, 에스파 카리나, 카리나 미드, 카리나 인스타, 카리나 사주, 카리나 윈터, 카리나 나이, 카리나 고등학교, 카리나 영어, 카리나 뜻, 카리나 프로필, 카리나 생일\n"
     ]
    },
    {
     "ename": "KeyboardInterrupt",
     "evalue": "Interrupted by user",
     "output_type": "error",
     "traceback": [
      "\u001b[1;31m---------------------------------------------------------------------------\u001b[0m",
      "\u001b[1;31mKeyboardInterrupt\u001b[0m                         Traceback (most recent call last)",
      "Cell \u001b[1;32mIn[18], line 2\u001b[0m\n\u001b[0;32m      1\u001b[0m \u001b[38;5;28;01mwhile\u001b[39;00m \u001b[38;5;28;01mTrue\u001b[39;00m:\n\u001b[1;32m----> 2\u001b[0m     q \u001b[38;5;241m=\u001b[39m \u001b[38;5;28;43minput\u001b[39;49m\u001b[43m(\u001b[49m\u001b[43m)\u001b[49m\n\u001b[0;32m      4\u001b[0m     \u001b[38;5;28;01mif\u001b[39;00m q\u001b[38;5;241m==\u001b[39m\u001b[38;5;124m'\u001b[39m\u001b[38;5;124m종료\u001b[39m\u001b[38;5;124m'\u001b[39m:\n\u001b[0;32m      5\u001b[0m         \u001b[38;5;28;01mbreak\u001b[39;00m\n",
      "File \u001b[1;32m~\\AppData\\Roaming\\Python\\Python310\\site-packages\\ipykernel\\kernelbase.py:1202\u001b[0m, in \u001b[0;36mKernel.raw_input\u001b[1;34m(self, prompt)\u001b[0m\n\u001b[0;32m   1200\u001b[0m     msg \u001b[38;5;241m=\u001b[39m \u001b[38;5;124m\"\u001b[39m\u001b[38;5;124mraw_input was called, but this frontend does not support input requests.\u001b[39m\u001b[38;5;124m\"\u001b[39m\n\u001b[0;32m   1201\u001b[0m     \u001b[38;5;28;01mraise\u001b[39;00m StdinNotImplementedError(msg)\n\u001b[1;32m-> 1202\u001b[0m \u001b[38;5;28;01mreturn\u001b[39;00m \u001b[38;5;28;43mself\u001b[39;49m\u001b[38;5;241;43m.\u001b[39;49m\u001b[43m_input_request\u001b[49m\u001b[43m(\u001b[49m\n\u001b[0;32m   1203\u001b[0m \u001b[43m    \u001b[49m\u001b[38;5;28;43mstr\u001b[39;49m\u001b[43m(\u001b[49m\u001b[43mprompt\u001b[49m\u001b[43m)\u001b[49m\u001b[43m,\u001b[49m\n\u001b[0;32m   1204\u001b[0m \u001b[43m    \u001b[49m\u001b[38;5;28;43mself\u001b[39;49m\u001b[38;5;241;43m.\u001b[39;49m\u001b[43m_parent_ident\u001b[49m\u001b[43m[\u001b[49m\u001b[38;5;124;43m\"\u001b[39;49m\u001b[38;5;124;43mshell\u001b[39;49m\u001b[38;5;124;43m\"\u001b[39;49m\u001b[43m]\u001b[49m\u001b[43m,\u001b[49m\n\u001b[0;32m   1205\u001b[0m \u001b[43m    \u001b[49m\u001b[38;5;28;43mself\u001b[39;49m\u001b[38;5;241;43m.\u001b[39;49m\u001b[43mget_parent\u001b[49m\u001b[43m(\u001b[49m\u001b[38;5;124;43m\"\u001b[39;49m\u001b[38;5;124;43mshell\u001b[39;49m\u001b[38;5;124;43m\"\u001b[39;49m\u001b[43m)\u001b[49m\u001b[43m,\u001b[49m\n\u001b[0;32m   1206\u001b[0m \u001b[43m    \u001b[49m\u001b[43mpassword\u001b[49m\u001b[38;5;241;43m=\u001b[39;49m\u001b[38;5;28;43;01mFalse\u001b[39;49;00m\u001b[43m,\u001b[49m\n\u001b[0;32m   1207\u001b[0m \u001b[43m\u001b[49m\u001b[43m)\u001b[49m\n",
      "File \u001b[1;32m~\\AppData\\Roaming\\Python\\Python310\\site-packages\\ipykernel\\kernelbase.py:1245\u001b[0m, in \u001b[0;36mKernel._input_request\u001b[1;34m(self, prompt, ident, parent, password)\u001b[0m\n\u001b[0;32m   1242\u001b[0m \u001b[38;5;28;01mexcept\u001b[39;00m \u001b[38;5;167;01mKeyboardInterrupt\u001b[39;00m:\n\u001b[0;32m   1243\u001b[0m     \u001b[38;5;66;03m# re-raise KeyboardInterrupt, to truncate traceback\u001b[39;00m\n\u001b[0;32m   1244\u001b[0m     msg \u001b[38;5;241m=\u001b[39m \u001b[38;5;124m\"\u001b[39m\u001b[38;5;124mInterrupted by user\u001b[39m\u001b[38;5;124m\"\u001b[39m\n\u001b[1;32m-> 1245\u001b[0m     \u001b[38;5;28;01mraise\u001b[39;00m \u001b[38;5;167;01mKeyboardInterrupt\u001b[39;00m(msg) \u001b[38;5;28;01mfrom\u001b[39;00m \u001b[38;5;28;01mNone\u001b[39;00m\n\u001b[0;32m   1246\u001b[0m \u001b[38;5;28;01mexcept\u001b[39;00m \u001b[38;5;167;01mException\u001b[39;00m:\n\u001b[0;32m   1247\u001b[0m     \u001b[38;5;28mself\u001b[39m\u001b[38;5;241m.\u001b[39mlog\u001b[38;5;241m.\u001b[39mwarning(\u001b[38;5;124m\"\u001b[39m\u001b[38;5;124mInvalid Message:\u001b[39m\u001b[38;5;124m\"\u001b[39m, exc_info\u001b[38;5;241m=\u001b[39m\u001b[38;5;28;01mTrue\u001b[39;00m)\n",
      "\u001b[1;31mKeyboardInterrupt\u001b[0m: Interrupted by user"
     ]
    }
   ],
   "source": [
    "while True:\n",
    "    q = input()\n",
    "\n",
    "    if q=='종료':\n",
    "        break\n",
    "    params['q'] = q\n",
    "    resp = download(url, params)\n",
    "    print(', '.join([subkey['keyword']\n",
    "                    for subkey in resp.json()['subkeys']]))"
   ]
  },
  {
   "cell_type": "code",
   "execution_count": 23,
   "id": "da2f6c1f-db2d-4374-bc50-16cc6ae6251b",
   "metadata": {},
   "outputs": [
    {
     "data": {
      "text/plain": [
       "'application/javascript; charset=UTF-8'"
      ]
     },
     "execution_count": 23,
     "metadata": {},
     "output_type": "execute_result"
    }
   ],
   "source": [
    "# 네이버 예제\n",
    "\n",
    "naverurl = 'https://ac.search.naver.com/nx/ac?con=1&frm=nv&ans=2&r_format=json&r_enc=UTF-8&r_unicode=0&t_koreng=1&run=2&rev=4&q_enc=UTF-8&st=100&_callback=_jsonp_2'\n",
    "params = {'q':'카'}\n",
    "resp = download(naverurl, params)\n",
    "resp.headers['content-type']"
   ]
  },
  {
   "cell_type": "code",
   "execution_count": 25,
   "id": "aa4f32c4-c8d0-4c9d-b6cf-45ebf52ce6a6",
   "metadata": {},
   "outputs": [
    {
     "data": {
      "text/plain": [
       "'_jsonp_2({\\n\"query\" : [\"카\"],\\n\"answer\" : [],\\n\"intend\" : [{\"query\":\"카카오\",\"intend\":\"기업\",\"transQuery\":\"(주)카카오\"}],\\n\"items\" : [\\n[[\"카카오페이지\", \"0\"],[\"카카오\", \"2\"],[\"카카오웹툰\", \"0\"],[\"카페\", \"0\"],[\"카카오뱅크\", \"0\"],[\"카카오톡\", \"0\"],[\"카리나\", \"0\"],[\"카니발\", \"0\"],[\"카카오맵\", \"0\"],[\"칼국수\", \"0\"]]\\n]\\n})'"
      ]
     },
     "execution_count": 25,
     "metadata": {},
     "output_type": "execute_result"
    }
   ],
   "source": [
    "resp.text"
   ]
  },
  {
   "cell_type": "code",
   "execution_count": 20,
   "id": "b3f2a832-7f9b-4aae-b49e-27ba22af8481",
   "metadata": {},
   "outputs": [],
   "source": [
    "#브런치 예제\n",
    "# https://brunch.co.kr/search?q=%EC%B9%B4%EB%A6%AC%EB%82%98&type=article\n",
    "url = 'https://brunch.co.kr/search'\n",
    "params = {\n",
    "    'q': '카리나'\n",
    "    , 'type' : 'article'\n",
    "}\n",
    "\n",
    "resp = download(url, params)\n",
    "dom = BeautifulSoup(resp.text, 'lxml')\n"
   ]
  },
  {
   "cell_type": "code",
   "execution_count": 26,
   "id": "38905720-70ef-4eee-b934-c74d56dddd2f",
   "metadata": {},
   "outputs": [
    {
     "name": "stderr",
     "output_type": "stream",
     "text": [
      "C:\\Users\\user\\AppData\\Local\\Temp\\ipykernel_19568\\1964331914.py:3: DeprecationWarning: The 'text' argument to find()-type methods is deprecated. Use 'string' instead.\n",
      "  dom.find_all(text=re.compile('카리나'))\n"
     ]
    },
    {
     "data": {
      "text/plain": [
       "[]"
      ]
     },
     "execution_count": 26,
     "metadata": {},
     "output_type": "execute_result"
    }
   ],
   "source": [
    "# 이 방법은 잘못된거라 함.\n",
    "import re\n",
    "dom.find_all(text=re.compile('카리나'))"
   ]
  },
  {
   "cell_type": "code",
   "execution_count": 33,
   "id": "c11ee52e-a214-442a-9591-8b83c31cb8d4",
   "metadata": {},
   "outputs": [
    {
     "data": {
      "text/plain": [
       "<div class=\"search_result\" id=\"resultArticle\"></div>"
      ]
     },
     "execution_count": 33,
     "metadata": {},
     "output_type": "execute_result"
    }
   ],
   "source": [
    "dom.select_one('#resultArticle')"
   ]
  },
  {
   "cell_type": "code",
   "execution_count": 34,
   "id": "2dfb0301-aa79-4ff9-94ff-796701825078",
   "metadata": {},
   "outputs": [
    {
     "data": {
      "text/plain": [
       "[]"
      ]
     },
     "execution_count": 34,
     "metadata": {},
     "output_type": "execute_result"
    }
   ],
   "source": [
    "dom.select_one('#resultArticle').contents"
   ]
  },
  {
   "cell_type": "code",
   "execution_count": 35,
   "id": "aab13a2b-0987-41bb-b1fc-f92841d1f5d2",
   "metadata": {},
   "outputs": [],
   "source": [
    "#이게 바로 DHTML 이라는 증거다. contents 가 비어있지만, 화면에서는 보이니까. "
   ]
  },
  {
   "cell_type": "code",
   "execution_count": 36,
   "id": "014254c4-1de7-4c93-ab08-a7d78d880dc2",
   "metadata": {},
   "outputs": [
    {
     "data": {
      "text/plain": [
       "'application/json;charset=UTF-8'"
      ]
     },
     "execution_count": 36,
     "metadata": {},
     "output_type": "execute_result"
    }
   ],
   "source": [
    "url = 'https://api.brunch.co.kr/v1/search/article'\n",
    "params ={\n",
    "    'q': '카리나'\n",
    "    , 'page' : '1'\n",
    "    , 'pageSize' : '20'\n",
    "    , 'highlighter' : 'n'\n",
    "    , 'escape' : 'y'\n",
    "    , 'sortBy' : 'accu'\n",
    "}\n",
    "resp = download(url, params)\n",
    "resp.headers['content-type']"
   ]
  },
  {
   "cell_type": "code",
   "execution_count": 37,
   "id": "d83eca0d-6ff9-4900-a156-f4486fb7c5f8",
   "metadata": {},
   "outputs": [
    {
     "name": "stdout",
     "output_type": "stream",
     "text": [
      "시에나를 제대로 즐기는 방법 - 만지아의 탑, 캄포광장,시에나 대성당, 카타리나 그리고 카리나\n",
      "카리나가 선택한 공항패션 - Weekly Celeb\n",
      "카리나 3행시 할게요 #에스파 #aespa\n",
      "카리나 3행시 할게요 #에스파 #aespa\n",
      "카리나와 차은우로 태교를 하고 있어요. - 21. 엄마가 기분 좋으면 그게 태교라는 아내\n",
      "화제에 오르고 있는 육상계 카리나 ○○○ 선수는? - 에스파 카리나 닮은 꼴 육상 선수\n",
      "의결권을 위임하면 카리나 사인을 준다고요? - SM 엔터테인먼트의 주주총회, 어떤 법적 구설수가 있었나\n",
      "트리스탄이며 파르지팔인 그는 누구인가? - 단눈치오와 토스티의 &lt;아마란타의 네 개의 노래&gt;\n",
      "짐승이 되어가고 있는 것 같다 - D+14 포르투갈길 14일 차\n",
      "[고다르 시네마][2022] - 제 79회 베니스 국제 영화제 비경쟁부문\n",
      "24. 외모의 중요성과 활개치는 외모지상주의\n",
      "&#39;차쥐뿔&#39; 이영지가 주는 특별한 위로 - [문제적 여자들] &lt;차린건 쥐뿔도 없지만&gt; 호스트 이영지의 진정성\n",
      "제법 뚠뚠한 일상. 4화 - 4. 짜증 난다의 의미\n",
      "[트렌드 언박싱] 여름에도 내추럴한 멋을 포기 못한다면 - 2023년 5월의 패션, 뷰티, 라이프 트렌드\n",
      "솔직함, 치부를 드러내는 강함에 대하여 - 고집쟁이의 영화추천 (10) : 미치광이 삐에로 리뷰\n",
      "성형수술과 아이덴티티 - 시뮬레이션으로 알아본 원본 상실 순간\n",
      "영화: 캐러비언의 해적 5-죽은 자는 말이 없다 - 저주받은 아버지 윌 터너를 찾아 나선 아들 헨리 터너\n",
      "[IP 비즈니스] ③ &#39;광야&#39;로 향하는 엔터테인먼트\n",
      "광기; 미쳐 가는 세상의 한 가운데 - 미친 세상에서 미치지 않는 법\n"
     ]
    }
   ],
   "source": [
    "for item in resp.json()['data']['list']:\n",
    "    print(item['title'])"
   ]
  },
  {
   "cell_type": "code",
   "execution_count": null,
   "id": "cde69d36-f712-4295-9b89-cb20ad3251ba",
   "metadata": {},
   "outputs": [],
   "source": [
    "#왜이렇게 하냐고? Dom 에는 안나오고, DHTML 이므로, 데이터를 뒷단에서 받아오려고 이렇게 하는거다. "
   ]
  },
  {
   "cell_type": "code",
   "execution_count": 27,
   "id": "9d88d68b-942b-41c1-a5d4-75db68071744",
   "metadata": {},
   "outputs": [],
   "source": [
    "# 네이버 웹툰 예제"
   ]
  },
  {
   "cell_type": "code",
   "execution_count": 28,
   "id": "e31c41c1-05f2-46d0-a066-d6eafb9e3b26",
   "metadata": {},
   "outputs": [],
   "source": [
    "#comic.naver.com 부터 뒤져보겠다.\n",
    "url = 'https://comic.naver.com'\n",
    "resp = download(url)"
   ]
  },
  {
   "cell_type": "code",
   "execution_count": 30,
   "id": "1fd72942-f7a8-4200-98ea-253c86234ade",
   "metadata": {},
   "outputs": [
    {
     "data": {
      "text/plain": [
       "'text/html;charset=UTF-8'"
      ]
     },
     "execution_count": 30,
     "metadata": {},
     "output_type": "execute_result"
    }
   ],
   "source": [
    "resp.headers['content-type']"
   ]
  },
  {
   "cell_type": "code",
   "execution_count": 31,
   "id": "d0bbee93-4563-41c9-8451-3c82e4a17679",
   "metadata": {},
   "outputs": [],
   "source": [
    "dom = BeautifulSoup(resp.text, 'lxml')"
   ]
  },
  {
   "cell_type": "code",
   "execution_count": 34,
   "id": "72536b60-aa69-4997-92e1-c405bd1fad41",
   "metadata": {},
   "outputs": [
    {
     "data": {
      "text/plain": [
       "<body>\n",
       "<div id=\"root\"></div>\n",
       "</body>"
      ]
     },
     "execution_count": 34,
     "metadata": {},
     "output_type": "execute_result"
    }
   ],
   "source": [
    "dom.body\n",
    "#네이버에 body 에는 아무것도 없다. .. 다 뒷단에서 돈다는 뜻이다. "
   ]
  },
  {
   "cell_type": "code",
   "execution_count": 35,
   "id": "1b474f80-f2d1-47e5-94dd-5f4ec1bae58f",
   "metadata": {},
   "outputs": [],
   "source": [
    "# dom"
   ]
  },
  {
   "cell_type": "code",
   "execution_count": 36,
   "id": "b7ee5ae0-bc81-4e8b-b35b-b380cdd9066a",
   "metadata": {},
   "outputs": [
    {
     "data": {
      "text/plain": [
       "{'Content-Type': 'application/json', 'x-content-type-options': 'nosniff', 'x-xss-protection': '1; mode=block', 'Cache-Control': 'no-cache, no-store, max-age=0, must-revalidate', 'Pragma': 'no-cache', 'Expires': '0', 'x-frame-options': 'SAMEORIGIN', 'Content-Encoding': 'gzip', 'referrer-policy': 'unsafe-url', 'Server': 'nfront', 'Date': 'Mon, 25 Sep 2023 01:30:04 GMT', 'Content-Length': '8372', 'Connection': 'keep-alive', 'Vary': 'Accept-Encoding', 'Set-Cookie': 'XSRF-TOKEN=5b7851ca-91e5-47cb-a130-b14cb50d6c60; Path=/'}"
      ]
     },
     "execution_count": 36,
     "metadata": {},
     "output_type": "execute_result"
    }
   ],
   "source": [
    "#1. 웹툰 목록 페이지\n",
    "url = 'https://comic.naver.com/api/home/component?type=DAILY_WEBTOON'\n",
    "#이번에는 크롤러 할거라서 파라미터 쪼개지 않을거다.\n",
    "resp = download(url)\n",
    "resp.headers"
   ]
  },
  {
   "cell_type": "code",
   "execution_count": 39,
   "id": "b60c58f4-118b-48d2-b87d-8eb93334e9e7",
   "metadata": {
    "scrolled": true
   },
   "outputs": [
    {
     "data": {
      "text/plain": [
       "{'titleId': 817019,\n",
       " 'titleName': '날 먹는 건 금지양!',\n",
       " 'thumbnailUrl': 'https://image-comic.pstatic.net/webtoon/817019/thumbnail/thumbnail_IMAG21_6845792d-40db-4cd9-ab7a-9b86995f3383.jpg',\n",
       " 'thumbnailBadgeList': ['NEW'],\n",
       " 'author': {'writers': [{'id': 346353, 'name': '조9'}],\n",
       "  'painters': [{'id': 346353, 'name': '조9'}],\n",
       "  'originAuthors': []},\n",
       " 'displayAuthor': '조9',\n",
       " 'up': True,\n",
       " 'rest': False,\n",
       " 'openToday': True}"
      ]
     },
     "execution_count": 39,
     "metadata": {},
     "output_type": "execute_result"
    }
   ],
   "source": [
    "resp.json()['titleList'][0]\n",
    "#이게 첫번째 목록 페이지 이다."
   ]
  },
  {
   "cell_type": "code",
   "execution_count": 40,
   "id": "d86a86c7-41ae-4d5f-bd58-94c82a660b6e",
   "metadata": {},
   "outputs": [
    {
     "data": {
      "text/plain": [
       "<body>\n",
       "<div id=\"root\"></div>\n",
       "</body>"
      ]
     },
     "execution_count": 40,
     "metadata": {},
     "output_type": "execute_result"
    }
   ],
   "source": [
    "url = 'https://comic.naver.com/webtoon/list?titleId=796152'\n",
    "resp = download(url)\n",
    "dom = BeautifulSoup(resp.text, 'lxml')\n",
    "dom.body"
   ]
  },
  {
   "cell_type": "code",
   "execution_count": 41,
   "id": "6cd85d83-f4ea-4c8e-8411-3cbdb9dc45c6",
   "metadata": {},
   "outputs": [],
   "source": [
    "#특정 웹툰에 들어갔을때 없는걸 보니, 또 뒷단에서 돈다는 뜻이다. "
   ]
  },
  {
   "cell_type": "code",
   "execution_count": 42,
   "id": "38517308-d0e1-42ca-8565-1939fe898a86",
   "metadata": {},
   "outputs": [
    {
     "data": {
      "text/plain": [
       "'application/json'"
      ]
     },
     "execution_count": 42,
     "metadata": {},
     "output_type": "execute_result"
    }
   ],
   "source": [
    "#2. 특정 웹툰의 회차목록\n",
    "url = 'https://comic.naver.com/api/article/list?titleId=796152&page=1'\n",
    "resp = download(url)\n",
    "resp.headers['content-type']"
   ]
  },
  {
   "cell_type": "code",
   "execution_count": 45,
   "id": "8cb24506-d565-45db-b5d1-727edd0bb0b7",
   "metadata": {
    "scrolled": true
   },
   "outputs": [
    {
     "data": {
      "text/plain": [
       "{'titleId': 796152,\n",
       " 'webtoonLevelCode': 'WEBTOON',\n",
       " 'totalCount': 70,\n",
       " 'contentsNo': 472613,\n",
       " 'finished': False,\n",
       " 'dailyPass': False,\n",
       " 'chargeBestChallenge': False,\n",
       " 'articleList': [{'no': 67,\n",
       "   'thumbnailUrl': 'https://image-comic.pstatic.net/webtoon/796152/67/thumbnail_202x120_c826820e-5517-47ee-b298-e38e336aea98.jpg',\n",
       "   'subtitle': '67화. 마루의 선택은?!',\n",
       "   'starScore': 9.98982,\n",
       "   'bgm': False,\n",
       "   'up': False,\n",
       "   'charge': False,\n",
       "   'serviceDateDescription': '23.09.18',\n",
       "   'volumeNo': 67,\n",
       "   'hasReadLog': False,\n",
       "   'recentlyReadLog': False,\n",
       "   'thumbnailClock': False,\n",
       "   'thumbnailLock': False},\n",
       "  {'no': 66,\n",
       "   'thumbnailUrl': 'https://image-comic.pstatic.net/webtoon/796152/66/thumbnail_202x120_381a0b67-83f4-42bb-9df8-280daf8d9bc0.jpg',\n",
       "   'subtitle': '66화. 마루, 고백받다',\n",
       "   'starScore': 9.98965,\n",
       "   'bgm': False,\n",
       "   'up': False,\n",
       "   'charge': False,\n",
       "   'serviceDateDescription': '23.09.11',\n",
       "   'volumeNo': 66,\n",
       "   'hasReadLog': False,\n",
       "   'recentlyReadLog': False,\n",
       "   'thumbnailClock': False,\n",
       "   'thumbnailLock': False},\n",
       "  {'no': 65,\n",
       "   'thumbnailUrl': 'https://image-comic.pstatic.net/webtoon/796152/65/thumbnail_202x120_06ea22a8-af09-4ba2-bc26-78bfa908d76e.jpg',\n",
       "   'subtitle': '65화. 저 땐 별거 안 해도 재밌잖아',\n",
       "   'starScore': 9.98752,\n",
       "   'bgm': False,\n",
       "   'up': False,\n",
       "   'charge': False,\n",
       "   'serviceDateDescription': '23.09.04',\n",
       "   'volumeNo': 65,\n",
       "   'hasReadLog': False,\n",
       "   'recentlyReadLog': False,\n",
       "   'thumbnailClock': False,\n",
       "   'thumbnailLock': False},\n",
       "  {'no': 64,\n",
       "   'thumbnailUrl': 'https://image-comic.pstatic.net/webtoon/796152/64/thumbnail_202x120_a75bd327-b3d6-4da4-b636-704064a79957.jpg',\n",
       "   'subtitle': '64화. 용암의 세계',\n",
       "   'starScore': 9.98481,\n",
       "   'bgm': False,\n",
       "   'up': False,\n",
       "   'charge': False,\n",
       "   'serviceDateDescription': '23.08.28',\n",
       "   'volumeNo': 64,\n",
       "   'hasReadLog': False,\n",
       "   'recentlyReadLog': False,\n",
       "   'thumbnailClock': False,\n",
       "   'thumbnailLock': False},\n",
       "  {'no': 63,\n",
       "   'thumbnailUrl': 'https://image-comic.pstatic.net/webtoon/796152/63/thumbnail_202x120_02ae971d-deac-4f49-8830-1bbd97cfbb68.jpg',\n",
       "   'subtitle': '63화. 즐거운 여름나기',\n",
       "   'starScore': 9.98669,\n",
       "   'bgm': False,\n",
       "   'up': False,\n",
       "   'charge': False,\n",
       "   'serviceDateDescription': '23.08.21',\n",
       "   'volumeNo': 63,\n",
       "   'hasReadLog': False,\n",
       "   'recentlyReadLog': False,\n",
       "   'thumbnailClock': False,\n",
       "   'thumbnailLock': False},\n",
       "  {'no': 62,\n",
       "   'thumbnailUrl': 'https://image-comic.pstatic.net/webtoon/796152/62/thumbnail_202x120_2e622bd6-c981-4c0a-814d-48733aef9c6d.jpg',\n",
       "   'subtitle': '62화. 워터파크에 가자!',\n",
       "   'starScore': 9.98634,\n",
       "   'bgm': False,\n",
       "   'up': False,\n",
       "   'charge': False,\n",
       "   'serviceDateDescription': '23.08.14',\n",
       "   'volumeNo': 62,\n",
       "   'hasReadLog': False,\n",
       "   'recentlyReadLog': False,\n",
       "   'thumbnailClock': False,\n",
       "   'thumbnailLock': False},\n",
       "  {'no': 61,\n",
       "   'thumbnailUrl': 'https://image-comic.pstatic.net/webtoon/796152/61/thumbnail_202x120_e7a5a3b4-089d-4d4b-a3e9-2a96996f459f.jpg',\n",
       "   'subtitle': '61화. 차 안은 지루해',\n",
       "   'starScore': 9.98625,\n",
       "   'bgm': False,\n",
       "   'up': False,\n",
       "   'charge': False,\n",
       "   'serviceDateDescription': '23.08.07',\n",
       "   'volumeNo': 61,\n",
       "   'hasReadLog': False,\n",
       "   'recentlyReadLog': False,\n",
       "   'thumbnailClock': False,\n",
       "   'thumbnailLock': False},\n",
       "  {'no': 60,\n",
       "   'thumbnailUrl': 'https://image-comic.pstatic.net/webtoon/796152/60/thumbnail_202x120_1651092a-07bb-4d67-8b54-33a5feb03936.jpg',\n",
       "   'subtitle': '60화. 동생을 원해',\n",
       "   'starScore': 9.98946,\n",
       "   'bgm': False,\n",
       "   'up': False,\n",
       "   'charge': False,\n",
       "   'serviceDateDescription': '23.07.31',\n",
       "   'volumeNo': 60,\n",
       "   'hasReadLog': False,\n",
       "   'recentlyReadLog': False,\n",
       "   'thumbnailClock': False,\n",
       "   'thumbnailLock': False},\n",
       "  {'no': 59,\n",
       "   'thumbnailUrl': 'https://image-comic.pstatic.net/webtoon/796152/59/thumbnail_202x120_952c9d87-ea42-41bc-8cbe-9c279cd3aef7.jpg',\n",
       "   'subtitle': '59화. 꿈동산랜드',\n",
       "   'starScore': 9.99003,\n",
       "   'bgm': False,\n",
       "   'up': False,\n",
       "   'charge': False,\n",
       "   'serviceDateDescription': '23.07.24',\n",
       "   'volumeNo': 59,\n",
       "   'hasReadLog': False,\n",
       "   'recentlyReadLog': False,\n",
       "   'thumbnailClock': False,\n",
       "   'thumbnailLock': False},\n",
       "  {'no': 58,\n",
       "   'thumbnailUrl': 'https://image-comic.pstatic.net/webtoon/796152/58/thumbnail_202x120_215a7b6f-b9e8-4809-b64b-6f81c21c2a4b.jpg',\n",
       "   'subtitle': '58화. 오늘은 어린이날',\n",
       "   'starScore': 9.98983,\n",
       "   'bgm': False,\n",
       "   'up': False,\n",
       "   'charge': False,\n",
       "   'serviceDateDescription': '23.07.17',\n",
       "   'volumeNo': 58,\n",
       "   'hasReadLog': False,\n",
       "   'recentlyReadLog': False,\n",
       "   'thumbnailClock': False,\n",
       "   'thumbnailLock': False},\n",
       "  {'no': 57,\n",
       "   'thumbnailUrl': 'https://image-comic.pstatic.net/webtoon/796152/57/thumbnail_202x120_f321f032-d015-4231-b855-6d8b80a29eb4.jpg',\n",
       "   'subtitle': '57화. 놀이공원에 가자!',\n",
       "   'starScore': 9.9902,\n",
       "   'bgm': False,\n",
       "   'up': False,\n",
       "   'charge': False,\n",
       "   'serviceDateDescription': '23.07.10',\n",
       "   'volumeNo': 57,\n",
       "   'hasReadLog': False,\n",
       "   'recentlyReadLog': False,\n",
       "   'thumbnailClock': False,\n",
       "   'thumbnailLock': False},\n",
       "  {'no': 56,\n",
       "   'thumbnailUrl': 'https://image-comic.pstatic.net/webtoon/796152/56/thumbnail_202x120_87fcfd59-edb2-4452-a16f-c505eefae291.jpg',\n",
       "   'subtitle': '56화. 그럼 탄이는',\n",
       "   'starScore': 9.98777,\n",
       "   'bgm': False,\n",
       "   'up': False,\n",
       "   'charge': False,\n",
       "   'serviceDateDescription': '23.07.03',\n",
       "   'volumeNo': 56,\n",
       "   'hasReadLog': False,\n",
       "   'recentlyReadLog': False,\n",
       "   'thumbnailClock': False,\n",
       "   'thumbnailLock': False},\n",
       "  {'no': 55,\n",
       "   'thumbnailUrl': 'https://image-comic.pstatic.net/webtoon/796152/55/thumbnail_202x120_8d1cde91-2d02-4eaa-a491-cfeb698170ca.jpg',\n",
       "   'subtitle': '55화. 냥이와 강쥐',\n",
       "   'starScore': 9.98449,\n",
       "   'bgm': False,\n",
       "   'up': False,\n",
       "   'charge': False,\n",
       "   'serviceDateDescription': '23.06.26',\n",
       "   'volumeNo': 55,\n",
       "   'hasReadLog': False,\n",
       "   'recentlyReadLog': False,\n",
       "   'thumbnailClock': False,\n",
       "   'thumbnailLock': False},\n",
       "  {'no': 54,\n",
       "   'thumbnailUrl': 'https://image-comic.pstatic.net/webtoon/796152/54/thumbnail_202x120_96c6440a-49e2-4fbc-b5b6-e500f1f715fb.jpg',\n",
       "   'subtitle': '54화. 탄이는 냥이',\n",
       "   'starScore': 9.98746,\n",
       "   'bgm': False,\n",
       "   'up': False,\n",
       "   'charge': False,\n",
       "   'serviceDateDescription': '23.06.19',\n",
       "   'volumeNo': 54,\n",
       "   'hasReadLog': False,\n",
       "   'recentlyReadLog': False,\n",
       "   'thumbnailClock': False,\n",
       "   'thumbnailLock': False},\n",
       "  {'no': 53,\n",
       "   'thumbnailUrl': 'https://image-comic.pstatic.net/webtoon/796152/53/thumbnail_202x120_6247f72d-9d8c-4705-8a1a-6a2d80f9e18b.jpg',\n",
       "   'subtitle': '53화. 얼굴은 몰라도',\n",
       "   'starScore': 9.99133,\n",
       "   'bgm': False,\n",
       "   'up': False,\n",
       "   'charge': False,\n",
       "   'serviceDateDescription': '23.06.12',\n",
       "   'volumeNo': 53,\n",
       "   'hasReadLog': False,\n",
       "   'recentlyReadLog': False,\n",
       "   'thumbnailClock': False,\n",
       "   'thumbnailLock': False},\n",
       "  {'no': 52,\n",
       "   'thumbnailUrl': 'https://image-comic.pstatic.net/webtoon/796152/52/thumbnail_202x120_2bae422c-1a39-4b62-8698-3bc137a85b7f.jpg',\n",
       "   'subtitle': '52화. 펜팔 친구?',\n",
       "   'starScore': 9.98993,\n",
       "   'bgm': False,\n",
       "   'up': False,\n",
       "   'charge': False,\n",
       "   'serviceDateDescription': '23.06.05',\n",
       "   'volumeNo': 52,\n",
       "   'hasReadLog': False,\n",
       "   'recentlyReadLog': False,\n",
       "   'thumbnailClock': False,\n",
       "   'thumbnailLock': False},\n",
       "  {'no': 51,\n",
       "   'thumbnailUrl': 'https://image-comic.pstatic.net/webtoon/796152/51/thumbnail_202x120_7e24f5f8-ce55-42b0-b3df-b2535319c17c.jpg',\n",
       "   'subtitle': '51화. 잘 가, 안녕 ',\n",
       "   'starScore': 9.99033,\n",
       "   'bgm': False,\n",
       "   'up': False,\n",
       "   'charge': False,\n",
       "   'serviceDateDescription': '23.05.29',\n",
       "   'volumeNo': 51,\n",
       "   'hasReadLog': False,\n",
       "   'recentlyReadLog': False,\n",
       "   'thumbnailClock': False,\n",
       "   'thumbnailLock': False},\n",
       "  {'no': 50,\n",
       "   'thumbnailUrl': 'https://image-comic.pstatic.net/webtoon/796152/50/thumbnail_202x120_69d27c6a-85ad-4d17-8615-3ecfd6e6883a.jpg',\n",
       "   'subtitle': '50화. 어서오세요, 손님!',\n",
       "   'starScore': 9.98756,\n",
       "   'bgm': False,\n",
       "   'up': False,\n",
       "   'charge': False,\n",
       "   'serviceDateDescription': '23.05.22',\n",
       "   'volumeNo': 50,\n",
       "   'hasReadLog': False,\n",
       "   'recentlyReadLog': False,\n",
       "   'thumbnailClock': False,\n",
       "   'thumbnailLock': False},\n",
       "  {'no': 49,\n",
       "   'thumbnailUrl': 'https://image-comic.pstatic.net/webtoon/796152/49/thumbnail_202x120_5ec78038-8525-43c3-a340-084d51984acc.jpg',\n",
       "   'subtitle': '49화. 벼룩 시장에 가자!',\n",
       "   'starScore': 9.98984,\n",
       "   'bgm': False,\n",
       "   'up': False,\n",
       "   'charge': False,\n",
       "   'serviceDateDescription': '23.05.15',\n",
       "   'volumeNo': 49,\n",
       "   'hasReadLog': False,\n",
       "   'recentlyReadLog': False,\n",
       "   'thumbnailClock': False,\n",
       "   'thumbnailLock': False},\n",
       "  {'no': 48,\n",
       "   'thumbnailUrl': 'https://image-comic.pstatic.net/webtoon/796152/48/thumbnail_202x120_3a165656-8dee-4605-a242-52719e04ca3b.jpg',\n",
       "   'subtitle': '48화. 마루, 사건 해결!',\n",
       "   'starScore': 9.98993,\n",
       "   'bgm': False,\n",
       "   'up': False,\n",
       "   'charge': False,\n",
       "   'serviceDateDescription': '23.05.08',\n",
       "   'volumeNo': 48,\n",
       "   'hasReadLog': False,\n",
       "   'recentlyReadLog': False,\n",
       "   'thumbnailClock': False,\n",
       "   'thumbnailLock': False}],\n",
       " 'chargeFolderArticleList': [{'no': 70,\n",
       "   'thumbnailUrl': 'https://image-comic.pstatic.net/webtoon/796152/70/thumbnail_202x120_1ad4c834-7806-4919-b2f0-7321a76cefb3.jpg',\n",
       "   'subtitle': '70화. 언니 금방 올게',\n",
       "   'starScore': 9.98031,\n",
       "   'bgm': False,\n",
       "   'up': False,\n",
       "   'charge': True,\n",
       "   'serviceDateDescription': '14일 후 무료',\n",
       "   'volumeNo': 70,\n",
       "   'hasReadLog': False,\n",
       "   'recentlyReadLog': False,\n",
       "   'thumbnailClock': True,\n",
       "   'thumbnailLock': False},\n",
       "  {'no': 69,\n",
       "   'thumbnailUrl': 'https://image-comic.pstatic.net/webtoon/796152/69/thumbnail_202x120_9b984042-4d5f-442a-afc8-d68ff6f32929.jpg',\n",
       "   'subtitle': '69화. 마루야!!!!!!!!!!',\n",
       "   'starScore': 9.98627,\n",
       "   'bgm': False,\n",
       "   'up': False,\n",
       "   'charge': True,\n",
       "   'serviceDateDescription': '7일 후 무료',\n",
       "   'volumeNo': 69,\n",
       "   'hasReadLog': False,\n",
       "   'recentlyReadLog': False,\n",
       "   'thumbnailClock': True,\n",
       "   'thumbnailLock': False},\n",
       "  {'no': 68,\n",
       "   'thumbnailUrl': 'https://image-comic.pstatic.net/webtoon/796152/68/thumbnail_202x120_fad89437-0022-4d77-ae92-2a5ed328e510.jpg',\n",
       "   'subtitle': '68화. 몸이 바뀌었다?!',\n",
       "   'starScore': 9.99295,\n",
       "   'bgm': False,\n",
       "   'up': False,\n",
       "   'charge': True,\n",
       "   'serviceDateDescription': '오늘밤 무료',\n",
       "   'volumeNo': 68,\n",
       "   'hasReadLog': False,\n",
       "   'recentlyReadLog': False,\n",
       "   'thumbnailClock': True,\n",
       "   'thumbnailLock': False}],\n",
       " 'chargeFolderUp': False,\n",
       " 'pageInfo': {'totalRows': 67,\n",
       "  'pageSize': 20,\n",
       "  'indexSize': 10,\n",
       "  'page': 1,\n",
       "  'firstPage': 1,\n",
       "  'prevPage': 0,\n",
       "  'nextPage': 2,\n",
       "  'rawPage': 1,\n",
       "  'endRowNum': 20,\n",
       "  'startRowNum': 1,\n",
       "  'totalPages': 4,\n",
       "  'lastPage': 4},\n",
       " 'sort': 'DESC'}"
      ]
     },
     "execution_count": 45,
     "metadata": {},
     "output_type": "execute_result"
    }
   ],
   "source": [
    "resp.json()"
   ]
  },
  {
   "cell_type": "code",
   "execution_count": 46,
   "id": "cba277d8-e6da-44dd-89a3-3b51dca17f1f",
   "metadata": {},
   "outputs": [
    {
     "data": {
      "text/plain": [
       "{'no': 67,\n",
       " 'thumbnailUrl': 'https://image-comic.pstatic.net/webtoon/796152/67/thumbnail_202x120_c826820e-5517-47ee-b298-e38e336aea98.jpg',\n",
       " 'subtitle': '67화. 마루의 선택은?!',\n",
       " 'starScore': 9.98982,\n",
       " 'bgm': False,\n",
       " 'up': False,\n",
       " 'charge': False,\n",
       " 'serviceDateDescription': '23.09.18',\n",
       " 'volumeNo': 67,\n",
       " 'hasReadLog': False,\n",
       " 'recentlyReadLog': False,\n",
       " 'thumbnailClock': False,\n",
       " 'thumbnailLock': False}"
      ]
     },
     "execution_count": 46,
     "metadata": {},
     "output_type": "execute_result"
    }
   ],
   "source": [
    "resp.json()['articleList'][0]"
   ]
  },
  {
   "cell_type": "code",
   "execution_count": 47,
   "id": "7ab6ef96-76e2-4294-aeea-b6b892ae9ff8",
   "metadata": {},
   "outputs": [
    {
     "data": {
      "text/plain": [
       "'text/html;charset=UTF-8'"
      ]
     },
     "execution_count": 47,
     "metadata": {},
     "output_type": "execute_result"
    }
   ],
   "source": [
    "# 3. 특정회차 살펴보기\n",
    "# 주소 일단 눌러서 확인 . 뭘 가져왔는지\n",
    "url = 'https://comic.naver.com/webtoon/detail?titleId=796152&no=67&week=tue'\n",
    "resp = download(url)\n",
    "resp.headers['content-type']"
   ]
  },
  {
   "cell_type": "code",
   "execution_count": 48,
   "id": "1329d510-16ec-4acc-832f-b4496644a882",
   "metadata": {
    "scrolled": true
   },
   "outputs": [
    {
     "data": {
      "text/plain": [
       "[<img alt=\"1\" src=\"https://image-comic.pstatic.net/webtoon/796152/1/thumbnail_202x120_58ae8d34-812f-4cfb-9170-28b6dcf74c2b.jpg\"/>,\n",
       " <img alt=\"2\" src=\"https://image-comic.pstatic.net/webtoon/796152/2/thumbnail_202x120_0853c92e-b281-40fc-b1b9-b121b1f18022.jpg\"/>,\n",
       " <img alt=\"3\" src=\"https://image-comic.pstatic.net/webtoon/796152/3/thumbnail_202x120_f2e4e4db-0861-444f-b5fc-7133bc10e6e4.jpg\"/>,\n",
       " <img alt=\"4\" src=\"https://image-comic.pstatic.net/webtoon/796152/4/thumbnail_202x120_e1840bbc-2152-498b-9c1c-f970f4f1e8b4.jpg\"/>,\n",
       " <img alt=\"5\" src=\"https://image-comic.pstatic.net/webtoon/796152/5/thumbnail_202x120_8373ceb0-9117-49ce-82f0-a6ff6355dd67.jpg\"/>,\n",
       " <img alt=\"6\" src=\"https://image-comic.pstatic.net/webtoon/796152/6/thumbnail_202x120_cee13154-5393-4717-952f-cadab4deb515.jpg\"/>,\n",
       " <img alt=\"7\" src=\"https://image-comic.pstatic.net/webtoon/796152/7/thumbnail_202x120_79e6e826-8fd2-4f57-920d-51ac67bdbe2b.jpg\"/>,\n",
       " <img alt=\"8\" src=\"https://image-comic.pstatic.net/webtoon/796152/8/thumbnail_202x120_a30dd002-3189-44e7-9acf-ff735cb10109.jpg\"/>,\n",
       " <img alt=\"9\" src=\"https://image-comic.pstatic.net/webtoon/796152/9/thumbnail_202x120_eaa01465-39f9-4dab-b2c6-99c5afba7434.jpg\"/>,\n",
       " <img alt=\"10\" src=\"https://image-comic.pstatic.net/webtoon/796152/10/thumbnail_202x120_26c2a3c6-5abf-4b63-b3c1-9de6bef2f2b8.jpg\"/>,\n",
       " <img alt=\"11\" src=\"https://image-comic.pstatic.net/webtoon/796152/11/thumbnail_202x120_fa1fde9a-d51a-4c66-b694-819f20ee541a.jpg\"/>,\n",
       " <img alt=\"12\" src=\"https://image-comic.pstatic.net/webtoon/796152/12/thumbnail_202x120_9fda5775-22ee-49ea-8369-63656f7c9e32.jpg\"/>,\n",
       " <img alt=\"13\" src=\"https://image-comic.pstatic.net/webtoon/796152/13/thumbnail_202x120_225c9147-a0b0-4ff9-8838-6a4e35917d68.jpg\"/>,\n",
       " <img alt=\"14\" src=\"https://image-comic.pstatic.net/webtoon/796152/14/thumbnail_202x120_dc7dfbd6-0613-4a2c-81dd-ec95df33f3a7.jpg\"/>,\n",
       " <img alt=\"15\" src=\"https://image-comic.pstatic.net/webtoon/796152/15/thumbnail_202x120_5a7c1732-d6bb-4c11-84a2-5ebcbeeb77f8.jpg\"/>,\n",
       " <img alt=\"16\" src=\"https://image-comic.pstatic.net/webtoon/796152/16/thumbnail_202x120_b74f4c66-39a8-4a2f-9f05-b9058134c024.jpg\"/>,\n",
       " <img alt=\"17\" src=\"https://image-comic.pstatic.net/webtoon/796152/17/thumbnail_202x120_40882b3a-ca43-4eb4-8dc9-b8b32738e7cc.jpg\"/>,\n",
       " <img alt=\"18\" src=\"https://image-comic.pstatic.net/webtoon/796152/18/thumbnail_202x120_0ec8a8c2-7203-48f5-95e5-d43e15bf4594.jpg\"/>,\n",
       " <img alt=\"19\" src=\"https://image-comic.pstatic.net/webtoon/796152/19/thumbnail_202x120_1a597141-3c06-4316-a41d-48db827a56b1.jpg\"/>,\n",
       " <img alt=\"20\" src=\"https://image-comic.pstatic.net/webtoon/796152/20/thumbnail_202x120_aeec7efd-c2a4-4f20-b10a-e4e4a3eea057.jpg\"/>,\n",
       " <img alt=\"21\" src=\"https://image-comic.pstatic.net/webtoon/796152/21/thumbnail_202x120_18d19a38-4a62-43ca-843c-4758b00139d7.jpg\"/>,\n",
       " <img alt=\"22\" src=\"https://image-comic.pstatic.net/webtoon/796152/22/thumbnail_202x120_efd64329-4dfc-46ac-82fa-049d4d22be03.jpg\"/>,\n",
       " <img alt=\"23\" src=\"https://image-comic.pstatic.net/webtoon/796152/23/thumbnail_202x120_b9f83cb2-5309-4c39-afa4-9e045d4df03e.jpg\"/>,\n",
       " <img alt=\"24\" src=\"https://image-comic.pstatic.net/webtoon/796152/24/thumbnail_202x120_0e622a97-ba90-4d6b-910a-c5eb4aaf6894.jpg\"/>,\n",
       " <img alt=\"25\" src=\"https://image-comic.pstatic.net/webtoon/796152/25/thumbnail_202x120_870d1164-3b78-42a9-93df-96f1e428a588.jpg\"/>,\n",
       " <img alt=\"26\" src=\"https://image-comic.pstatic.net/webtoon/796152/26/thumbnail_202x120_4bf0e23b-8828-488b-a6f6-297fb7e51f59.jpg\"/>,\n",
       " <img alt=\"27\" src=\"https://image-comic.pstatic.net/webtoon/796152/27/thumbnail_202x120_abbd90ba-76d7-42d4-98bd-d95c10446ccd.jpg\"/>,\n",
       " <img alt=\"28\" src=\"https://image-comic.pstatic.net/webtoon/796152/28/thumbnail_202x120_378d8077-12b3-470c-822b-f18b20050ea1.jpg\"/>,\n",
       " <img alt=\"29\" src=\"https://image-comic.pstatic.net/webtoon/796152/29/thumbnail_202x120_a14c30b0-4a9e-4bcb-8a0a-bb0ed94c23f1.jpg\"/>,\n",
       " <img alt=\"30\" src=\"https://image-comic.pstatic.net/webtoon/796152/30/thumbnail_202x120_3663b130-3f95-4307-a571-522b103e80c6.jpg\"/>,\n",
       " <img alt=\"31\" src=\"https://image-comic.pstatic.net/webtoon/796152/31/thumbnail_202x120_88a26003-157e-4584-95a1-ae715d7320ca.jpg\"/>,\n",
       " <img alt=\"32\" src=\"https://image-comic.pstatic.net/webtoon/796152/32/thumbnail_202x120_9aa2d2ec-af58-4acb-870b-0f18f08e6f56.jpg\"/>,\n",
       " <img alt=\"33\" src=\"https://image-comic.pstatic.net/webtoon/796152/33/thumbnail_202x120_d2832779-c437-4034-a183-2043e39553d7.jpg\"/>,\n",
       " <img alt=\"34\" src=\"https://image-comic.pstatic.net/webtoon/796152/34/thumbnail_202x120_a0b68d04-7dfb-47f4-84ed-9bdac022add9.jpg\"/>,\n",
       " <img alt=\"35\" src=\"https://image-comic.pstatic.net/webtoon/796152/35/thumbnail_202x120_abd4f4b9-2c2a-4d36-8c33-6045daf59d58.jpg\"/>,\n",
       " <img alt=\"36\" src=\"https://image-comic.pstatic.net/webtoon/796152/36/thumbnail_202x120_73cea469-dfed-4e7d-9669-7c6587105495.jpg\"/>,\n",
       " <img alt=\"37\" src=\"https://image-comic.pstatic.net/webtoon/796152/37/thumbnail_202x120_1ac4139b-c460-4cac-8f55-b1752e2fd854.jpg\"/>,\n",
       " <img alt=\"38\" src=\"https://image-comic.pstatic.net/webtoon/796152/38/thumbnail_202x120_6be86059-2bb3-4606-a27e-2b82a076b7ed.jpg\"/>,\n",
       " <img alt=\"39\" src=\"https://image-comic.pstatic.net/webtoon/796152/39/thumbnail_202x120_f3fef283-e1cb-4b46-a0bb-2862910a2301.jpg\"/>,\n",
       " <img alt=\"40\" src=\"https://image-comic.pstatic.net/webtoon/796152/40/thumbnail_202x120_4cac69ed-bb78-4797-8168-e87e6902612f.jpg\"/>,\n",
       " <img alt=\"41\" src=\"https://image-comic.pstatic.net/webtoon/796152/41/thumbnail_202x120_7c48179f-c65b-4467-9457-adaa1a5a82fb.jpg\"/>,\n",
       " <img alt=\"42\" src=\"https://image-comic.pstatic.net/webtoon/796152/42/thumbnail_202x120_4ebf8830-9bcc-4277-893b-48d60213d06f.jpg\"/>,\n",
       " <img alt=\"43\" src=\"https://image-comic.pstatic.net/webtoon/796152/43/thumbnail_202x120_6cfa1632-a071-4ba4-8a7a-2b059339b543.jpg\"/>,\n",
       " <img alt=\"44\" src=\"https://image-comic.pstatic.net/webtoon/796152/44/thumbnail_202x120_62e81202-499c-4b7a-8858-f23b9818fbd6.jpg\"/>,\n",
       " <img alt=\"45\" src=\"https://image-comic.pstatic.net/webtoon/796152/45/thumbnail_202x120_16b633c9-41b8-4239-bf14-b7549c2f31dc.jpg\"/>,\n",
       " <img alt=\"46\" src=\"https://image-comic.pstatic.net/webtoon/796152/46/thumbnail_202x120_1478c944-3172-4637-8fb7-e398d552bba1.jpg\"/>,\n",
       " <img alt=\"47\" src=\"https://image-comic.pstatic.net/webtoon/796152/47/thumbnail_202x120_170d4cce-d181-44a2-a4e3-d1f200314a99.jpg\"/>,\n",
       " <img alt=\"48\" src=\"https://image-comic.pstatic.net/webtoon/796152/48/thumbnail_202x120_3a165656-8dee-4605-a242-52719e04ca3b.jpg\"/>,\n",
       " <img alt=\"49\" src=\"https://image-comic.pstatic.net/webtoon/796152/49/thumbnail_202x120_5ec78038-8525-43c3-a340-084d51984acc.jpg\"/>,\n",
       " <img alt=\"50\" src=\"https://image-comic.pstatic.net/webtoon/796152/50/thumbnail_202x120_69d27c6a-85ad-4d17-8615-3ecfd6e6883a.jpg\"/>,\n",
       " <img alt=\"51\" src=\"https://image-comic.pstatic.net/webtoon/796152/51/thumbnail_202x120_7e24f5f8-ce55-42b0-b3df-b2535319c17c.jpg\"/>,\n",
       " <img alt=\"52\" src=\"https://image-comic.pstatic.net/webtoon/796152/52/thumbnail_202x120_2bae422c-1a39-4b62-8698-3bc137a85b7f.jpg\"/>,\n",
       " <img alt=\"53\" src=\"https://image-comic.pstatic.net/webtoon/796152/53/thumbnail_202x120_6247f72d-9d8c-4705-8a1a-6a2d80f9e18b.jpg\"/>,\n",
       " <img alt=\"54\" src=\"https://image-comic.pstatic.net/webtoon/796152/54/thumbnail_202x120_96c6440a-49e2-4fbc-b5b6-e500f1f715fb.jpg\"/>,\n",
       " <img alt=\"55\" src=\"https://image-comic.pstatic.net/webtoon/796152/55/thumbnail_202x120_8d1cde91-2d02-4eaa-a491-cfeb698170ca.jpg\"/>,\n",
       " <img alt=\"56\" src=\"https://image-comic.pstatic.net/webtoon/796152/56/thumbnail_202x120_87fcfd59-edb2-4452-a16f-c505eefae291.jpg\"/>,\n",
       " <img alt=\"57\" src=\"https://image-comic.pstatic.net/webtoon/796152/57/thumbnail_202x120_f321f032-d015-4231-b855-6d8b80a29eb4.jpg\"/>,\n",
       " <img alt=\"58\" src=\"https://image-comic.pstatic.net/webtoon/796152/58/thumbnail_202x120_215a7b6f-b9e8-4809-b64b-6f81c21c2a4b.jpg\"/>,\n",
       " <img alt=\"59\" src=\"https://image-comic.pstatic.net/webtoon/796152/59/thumbnail_202x120_952c9d87-ea42-41bc-8cbe-9c279cd3aef7.jpg\"/>,\n",
       " <img alt=\"60\" src=\"https://image-comic.pstatic.net/webtoon/796152/60/thumbnail_202x120_1651092a-07bb-4d67-8b54-33a5feb03936.jpg\"/>,\n",
       " <img alt=\"61\" src=\"https://image-comic.pstatic.net/webtoon/796152/61/thumbnail_202x120_e7a5a3b4-089d-4d4b-a3e9-2a96996f459f.jpg\"/>,\n",
       " <img alt=\"62\" src=\"https://image-comic.pstatic.net/webtoon/796152/62/thumbnail_202x120_2e622bd6-c981-4c0a-814d-48733aef9c6d.jpg\"/>,\n",
       " <img alt=\"63\" src=\"https://image-comic.pstatic.net/webtoon/796152/63/thumbnail_202x120_02ae971d-deac-4f49-8830-1bbd97cfbb68.jpg\"/>,\n",
       " <img alt=\"64\" src=\"https://image-comic.pstatic.net/webtoon/796152/64/thumbnail_202x120_a75bd327-b3d6-4da4-b636-704064a79957.jpg\"/>,\n",
       " <img alt=\"65\" src=\"https://image-comic.pstatic.net/webtoon/796152/65/thumbnail_202x120_06ea22a8-af09-4ba2-bc26-78bfa908d76e.jpg\"/>,\n",
       " <img alt=\"66\" src=\"https://image-comic.pstatic.net/webtoon/796152/66/thumbnail_202x120_381a0b67-83f4-42bb-9df8-280daf8d9bc0.jpg\"/>,\n",
       " <img alt=\"67\" src=\"https://image-comic.pstatic.net/webtoon/796152/67/thumbnail_202x120_c826820e-5517-47ee-b298-e38e336aea98.jpg\"/>,\n",
       " <img alt=\"68\" src=\"https://image-comic.pstatic.net/webtoon/796152/68/thumbnail_202x120_fad89437-0022-4d77-ae92-2a5ed328e510.jpg\"/>,\n",
       " <img alt=\"comic content\" id=\"content_image_0\" src=\"https://image-comic.pstatic.net/webtoon/796152/67/20230801234032_6fce3a213b76ab616fab9510640d3f29_IMAG01_1.jpg\"/>,\n",
       " <img alt=\"comic content\" id=\"content_image_1\" src=\"https://image-comic.pstatic.net/webtoon/796152/67/20230801234032_6fce3a213b76ab616fab9510640d3f29_IMAG01_2.jpg\"/>,\n",
       " <img alt=\"comic content\" id=\"content_image_2\" src=\"https://image-comic.pstatic.net/webtoon/796152/67/20230801234032_6fce3a213b76ab616fab9510640d3f29_IMAG01_3.jpg\"/>,\n",
       " <img alt=\"comic content\" id=\"content_image_3\" src=\"https://image-comic.pstatic.net/webtoon/796152/67/20230801234032_6fce3a213b76ab616fab9510640d3f29_IMAG01_4.jpg\"/>,\n",
       " <img alt=\"comic content\" id=\"content_image_4\" src=\"https://image-comic.pstatic.net/webtoon/796152/67/20230801234032_6fce3a213b76ab616fab9510640d3f29_IMAG01_5.jpg\"/>,\n",
       " <img alt=\"comic content\" id=\"content_image_5\" src=\"https://image-comic.pstatic.net/webtoon/796152/67/20230801234032_6fce3a213b76ab616fab9510640d3f29_IMAG01_6.jpg\"/>,\n",
       " <img alt=\"comic content\" id=\"content_image_6\" src=\"https://image-comic.pstatic.net/webtoon/796152/67/20230801234032_6fce3a213b76ab616fab9510640d3f29_IMAG01_7.jpg\"/>,\n",
       " <img alt=\"comic content\" id=\"content_image_7\" src=\"https://image-comic.pstatic.net/webtoon/796152/67/20230801234032_6fce3a213b76ab616fab9510640d3f29_IMAG01_8.jpg\"/>,\n",
       " <img alt=\"comic content\" id=\"content_image_8\" src=\"https://image-comic.pstatic.net/webtoon/796152/67/20230801234032_6fce3a213b76ab616fab9510640d3f29_IMAG01_9.jpg\"/>,\n",
       " <img alt=\"comic content\" id=\"content_image_9\" src=\"https://image-comic.pstatic.net/webtoon/796152/67/20230801234032_6fce3a213b76ab616fab9510640d3f29_IMAG01_10.jpg\"/>,\n",
       " <img alt=\"comic content\" id=\"content_image_10\" src=\"https://image-comic.pstatic.net/webtoon/796152/67/20230801234032_6fce3a213b76ab616fab9510640d3f29_IMAG01_11.jpg\"/>,\n",
       " <img alt=\"comic content\" id=\"content_image_11\" src=\"https://image-comic.pstatic.net/webtoon/796152/67/20230801234032_6fce3a213b76ab616fab9510640d3f29_IMAG01_12.jpg\"/>,\n",
       " <img alt=\"comic content\" id=\"content_image_12\" src=\"https://image-comic.pstatic.net/webtoon/796152/67/20230801234032_6fce3a213b76ab616fab9510640d3f29_IMAG01_13.jpg\"/>,\n",
       " <img alt=\"comic content\" id=\"content_image_13\" src=\"https://image-comic.pstatic.net/webtoon/796152/67/20230801234032_6fce3a213b76ab616fab9510640d3f29_IMAG01_14.jpg\"/>,\n",
       " <img alt=\"comic content\" id=\"content_image_14\" src=\"https://image-comic.pstatic.net/webtoon/796152/67/20230801234032_6fce3a213b76ab616fab9510640d3f29_IMAG01_15.jpg\"/>,\n",
       " <img alt=\"comic content\" id=\"content_image_15\" src=\"https://image-comic.pstatic.net/webtoon/796152/67/20230801234032_6fce3a213b76ab616fab9510640d3f29_IMAG01_16.jpg\"/>,\n",
       " <img alt=\"comic content\" id=\"content_image_16\" src=\"https://image-comic.pstatic.net/webtoon/796152/67/20230801234032_6fce3a213b76ab616fab9510640d3f29_IMAG01_17.jpg\"/>,\n",
       " <img alt=\"comic content\" id=\"content_image_17\" src=\"https://image-comic.pstatic.net/webtoon/796152/67/20230801234032_6fce3a213b76ab616fab9510640d3f29_IMAG01_18.jpg\"/>,\n",
       " <img alt=\"comic content\" id=\"content_image_18\" src=\"https://image-comic.pstatic.net/webtoon/796152/67/20230801234032_6fce3a213b76ab616fab9510640d3f29_IMAG01_19.jpg\"/>,\n",
       " <img alt=\"comic content\" id=\"content_image_19\" src=\"https://image-comic.pstatic.net/webtoon/796152/67/20230801234032_6fce3a213b76ab616fab9510640d3f29_IMAG01_20.jpg\"/>,\n",
       " <img alt=\"comic content\" id=\"content_image_20\" src=\"https://image-comic.pstatic.net/webtoon/796152/67/20230801234032_6fce3a213b76ab616fab9510640d3f29_IMAG01_21.jpg\"/>,\n",
       " <img alt=\"comic content\" id=\"content_image_21\" src=\"https://image-comic.pstatic.net/webtoon/796152/67/20230801234032_6fce3a213b76ab616fab9510640d3f29_IMAG01_22.jpg\"/>,\n",
       " <img alt=\"comic content\" id=\"content_image_22\" src=\"https://image-comic.pstatic.net/webtoon/796152/67/20230801234032_6fce3a213b76ab616fab9510640d3f29_IMAG01_23.jpg\"/>,\n",
       " <img alt=\"comic content\" id=\"content_image_23\" src=\"https://image-comic.pstatic.net/webtoon/796152/67/20230801234032_6fce3a213b76ab616fab9510640d3f29_IMAG01_24.jpg\"/>,\n",
       " <img alt=\"comic content\" id=\"content_image_24\" src=\"https://image-comic.pstatic.net/webtoon/796152/67/20230801234032_6fce3a213b76ab616fab9510640d3f29_IMAG01_25.jpg\"/>,\n",
       " <img alt=\"comic content\" id=\"content_image_25\" src=\"https://image-comic.pstatic.net/webtoon/796152/67/20230801234032_6fce3a213b76ab616fab9510640d3f29_IMAG01_26.jpg\"/>,\n",
       " <img alt=\"comic content\" id=\"content_image_26\" src=\"https://image-comic.pstatic.net/webtoon/796152/67/20230801234032_6fce3a213b76ab616fab9510640d3f29_IMAG01_27.jpg\"/>,\n",
       " <img alt=\"comic content\" id=\"content_image_27\" src=\"https://image-comic.pstatic.net/webtoon/796152/67/20230801234032_6fce3a213b76ab616fab9510640d3f29_IMAG01_28.jpg\"/>,\n",
       " <img alt=\"comic content\" id=\"content_image_28\" src=\"https://image-comic.pstatic.net/webtoon/796152/67/20230801234032_6fce3a213b76ab616fab9510640d3f29_IMAG01_29.jpg\"/>,\n",
       " <img alt=\"comic content\" id=\"content_image_29\" src=\"https://image-comic.pstatic.net/webtoon/796152/67/20230801234032_6fce3a213b76ab616fab9510640d3f29_IMAG01_30.jpg\"/>,\n",
       " <img alt=\"comic content\" id=\"content_image_30\" src=\"https://image-comic.pstatic.net/webtoon/796152/67/20230801234032_6fce3a213b76ab616fab9510640d3f29_IMAG01_31.jpg\"/>,\n",
       " <img alt=\"comic content\" id=\"content_image_31\" src=\"https://image-comic.pstatic.net/webtoon/796152/67/20230801234032_6fce3a213b76ab616fab9510640d3f29_IMAG01_32.jpg\"/>,\n",
       " <img alt=\"comic content\" id=\"content_image_32\" src=\"https://image-comic.pstatic.net/webtoon/796152/67/20230801234032_6fce3a213b76ab616fab9510640d3f29_IMAG01_33.jpg\"/>,\n",
       " <img alt=\"comic content\" id=\"content_image_33\" src=\"https://image-comic.pstatic.net/webtoon/796152/67/20230801234032_6fce3a213b76ab616fab9510640d3f29_IMAG01_34.jpg\"/>,\n",
       " <img alt=\"comic content\" id=\"content_image_34\" src=\"https://image-comic.pstatic.net/webtoon/796152/67/20230801234032_6fce3a213b76ab616fab9510640d3f29_IMAG01_35.jpg\"/>,\n",
       " <img alt=\"comic content\" id=\"content_image_35\" src=\"https://image-comic.pstatic.net/webtoon/796152/67/20230801234032_6fce3a213b76ab616fab9510640d3f29_IMAG01_36.jpg\"/>,\n",
       " <img alt=\"comic content\" id=\"content_image_36\" src=\"https://image-comic.pstatic.net/webtoon/796152/67/20230801234032_6fce3a213b76ab616fab9510640d3f29_IMAG01_37.jpg\"/>,\n",
       " <img alt=\"comic content\" id=\"content_image_37\" src=\"https://image-comic.pstatic.net/webtoon/796152/67/20230801234032_6fce3a213b76ab616fab9510640d3f29_IMAG01_38.jpg\"/>,\n",
       " <img alt=\"comic content\" id=\"content_image_38\" src=\"https://image-comic.pstatic.net/webtoon/796152/67/20230801234032_6fce3a213b76ab616fab9510640d3f29_IMAG01_39.jpg\"/>,\n",
       " <img alt=\"comic content\" id=\"content_image_39\" src=\"https://image-comic.pstatic.net/webtoon/796152/67/20230801234032_6fce3a213b76ab616fab9510640d3f29_IMAG01_40.jpg\"/>,\n",
       " <img alt=\"comic content\" id=\"content_image_40\" src=\"https://image-comic.pstatic.net/webtoon/796152/67/20230801234032_6fce3a213b76ab616fab9510640d3f29_IMAG01_41.jpg\"/>,\n",
       " <img alt=\"comic content\" id=\"content_image_41\" src=\"https://image-comic.pstatic.net/webtoon/796152/67/20230801234032_6fce3a213b76ab616fab9510640d3f29_IMAG01_42.jpg\"/>,\n",
       " <img alt=\"comic content\" id=\"content_image_42\" src=\"https://image-comic.pstatic.net/webtoon/796152/67/20230801234032_6fce3a213b76ab616fab9510640d3f29_IMAG01_43.jpg\"/>,\n",
       " <img alt=\"comic content\" id=\"content_image_43\" src=\"https://image-comic.pstatic.net/webtoon/796152/67/20230801234032_6fce3a213b76ab616fab9510640d3f29_IMAG01_44.jpg\"/>,\n",
       " <img alt=\"comic content\" id=\"content_image_44\" src=\"https://image-comic.pstatic.net/webtoon/796152/67/20230801234032_6fce3a213b76ab616fab9510640d3f29_IMAG01_45.jpg\"/>,\n",
       " <img alt=\"comic content\" id=\"content_image_45\" src=\"https://image-comic.pstatic.net/webtoon/796152/67/20230801234032_6fce3a213b76ab616fab9510640d3f29_IMAG01_46.jpg\"/>,\n",
       " <img alt=\"comic content\" id=\"content_image_46\" src=\"https://image-comic.pstatic.net/webtoon/796152/67/20230801234032_6fce3a213b76ab616fab9510640d3f29_IMAG01_47.jpg\"/>,\n",
       " <img alt=\"comic content\" id=\"content_image_47\" src=\"https://image-comic.pstatic.net/webtoon/796152/67/20230801234032_6fce3a213b76ab616fab9510640d3f29_IMAG01_48.jpg\"/>,\n",
       " <img alt=\"comic content\" id=\"content_image_48\" src=\"https://image-comic.pstatic.net/webtoon/796152/67/20230801234032_6fce3a213b76ab616fab9510640d3f29_IMAG01_49.jpg\"/>,\n",
       " <img alt=\"comic content\" id=\"content_image_49\" src=\"https://image-comic.pstatic.net/webtoon/796152/67/20230801234032_6fce3a213b76ab616fab9510640d3f29_IMAG01_50.jpg\"/>,\n",
       " <img alt=\"comic content\" id=\"content_image_50\" src=\"https://image-comic.pstatic.net/webtoon/796152/67/20230801234032_6fce3a213b76ab616fab9510640d3f29_IMAG01_51.jpg\"/>,\n",
       " <img alt=\"comic content\" id=\"content_image_51\" src=\"https://image-comic.pstatic.net/webtoon/796152/67/20230801234032_6fce3a213b76ab616fab9510640d3f29_IMAG01_52.jpg\"/>,\n",
       " <img alt=\"comic content\" id=\"content_image_52\" src=\"https://image-comic.pstatic.net/webtoon/796152/67/20230801234032_6fce3a213b76ab616fab9510640d3f29_IMAG01_53.jpg\"/>,\n",
       " <img alt=\"comic content\" id=\"content_image_53\" src=\"https://image-comic.pstatic.net/webtoon/796152/67/20230801234032_6fce3a213b76ab616fab9510640d3f29_IMAG01_54.jpg\"/>,\n",
       " <img alt=\"comic content\" id=\"content_image_54\" src=\"https://image-comic.pstatic.net/webtoon/796152/67/20230801234032_6fce3a213b76ab616fab9510640d3f29_IMAG01_55.jpg\"/>,\n",
       " <img alt=\"comic content\" id=\"content_image_55\" src=\"https://image-comic.pstatic.net/webtoon/796152/67/20230801234032_6fce3a213b76ab616fab9510640d3f29_IMAG01_56.jpg\"/>,\n",
       " <img alt=\"comic content\" id=\"content_image_56\" src=\"https://image-comic.pstatic.net/webtoon/796152/67/20230801234032_6fce3a213b76ab616fab9510640d3f29_IMAG01_57.jpg\"/>,\n",
       " <img alt=\"comic content\" id=\"content_image_57\" src=\"https://image-comic.pstatic.net/webtoon/796152/67/20230801234032_6fce3a213b76ab616fab9510640d3f29_IMAG01_58.jpg\"/>,\n",
       " <img alt=\"comic content\" id=\"content_image_58\" src=\"https://image-comic.pstatic.net/webtoon/796152/67/20230801234032_6fce3a213b76ab616fab9510640d3f29_IMAG01_59.jpg\"/>,\n",
       " <img alt=\"comic content\" id=\"content_image_59\" src=\"https://image-comic.pstatic.net/webtoon/796152/67/20230801234032_6fce3a213b76ab616fab9510640d3f29_IMAG01_60.jpg\"/>,\n",
       " <img alt=\"comic content\" id=\"content_image_60\" src=\"https://image-comic.pstatic.net/webtoon/796152/67/20230801234032_6fce3a213b76ab616fab9510640d3f29_IMAG01_61.jpg\"/>,\n",
       " <img alt=\"comic content\" id=\"content_image_61\" src=\"https://image-comic.pstatic.net/webtoon/796152/67/20230801234032_6fce3a213b76ab616fab9510640d3f29_IMAG01_62.jpg\"/>,\n",
       " <img alt=\"comic content\" id=\"content_image_62\" src=\"https://image-comic.pstatic.net/webtoon/796152/67/20230801234032_6fce3a213b76ab616fab9510640d3f29_IMAG01_63.jpg\"/>,\n",
       " <img alt=\"comic content\" id=\"content_image_63\" src=\"https://image-comic.pstatic.net/webtoon/796152/67/20230801234032_6fce3a213b76ab616fab9510640d3f29_IMAG01_64.jpg\"/>,\n",
       " <img alt=\"comic content\" id=\"content_image_64\" src=\"https://image-comic.pstatic.net/webtoon/796152/67/20230801234032_6fce3a213b76ab616fab9510640d3f29_IMAG01_65.jpg\"/>,\n",
       " <img alt=\"comic content\" id=\"content_image_65\" src=\"https://image-comic.pstatic.net/webtoon/796152/67/20230801234032_6fce3a213b76ab616fab9510640d3f29_IMAG01_66.jpg\"/>,\n",
       " <img alt=\"comic content\" id=\"content_image_66\" src=\"https://image-comic.pstatic.net/webtoon/796152/67/20230801234032_6fce3a213b76ab616fab9510640d3f29_IMAG01_67.jpg\"/>,\n",
       " <img alt=\"comic content\" id=\"content_image_67\" src=\"https://image-comic.pstatic.net/webtoon/796152/67/20230801234032_6fce3a213b76ab616fab9510640d3f29_IMAG01_68.jpg\"/>,\n",
       " <img alt=\"comic content\" id=\"content_image_68\" src=\"https://image-comic.pstatic.net/webtoon/796152/67/20230801234032_6fce3a213b76ab616fab9510640d3f29_IMAG01_69.jpg\"/>,\n",
       " <img alt=\"comic content\" id=\"content_image_69\" src=\"https://image-comic.pstatic.net/webtoon/796152/67/20230801234032_6fce3a213b76ab616fab9510640d3f29_IMAG01_70.jpg\"/>,\n",
       " <img alt=\"comic content\" id=\"content_image_70\" src=\"https://image-comic.pstatic.net/webtoon/796152/67/20230801234032_6fce3a213b76ab616fab9510640d3f29_IMAG01_71.jpg\"/>,\n",
       " <img alt=\"comic content\" id=\"content_image_71\" src=\"https://image-comic.pstatic.net/webtoon/796152/67/20230801234032_6fce3a213b76ab616fab9510640d3f29_IMAG01_72.jpg\"/>,\n",
       " <img alt=\"comic content\" id=\"content_image_72\" src=\"https://image-comic.pstatic.net/webtoon/796152/67/20230801234032_6fce3a213b76ab616fab9510640d3f29_IMAG01_73.jpg\"/>,\n",
       " <img alt=\"comic content\" id=\"content_image_73\" src=\"https://image-comic.pstatic.net/webtoon/796152/67/20230801234032_6fce3a213b76ab616fab9510640d3f29_IMAG01_74.jpg\"/>]"
      ]
     },
     "execution_count": 48,
     "metadata": {},
     "output_type": "execute_result"
    }
   ],
   "source": [
    "dom = BeautifulSoup(resp.text, 'lxml')\n",
    "dom.body.select('img')"
   ]
  },
  {
   "cell_type": "code",
   "execution_count": 49,
   "id": "51a5a2cc-29b0-4c02-a6ec-7d6fd4761f2a",
   "metadata": {},
   "outputs": [],
   "source": [
    "#크롤러의 구조를 따오는 방법을 배우려고 한다. "
   ]
  },
  {
   "cell_type": "code",
   "execution_count": 60,
   "id": "98fc8275-4e30-4ae2-843c-db467d5e3dea",
   "metadata": {},
   "outputs": [],
   "source": [
    "from requests.compat import urljoin, urlparse, urlunparse, urlencode\n",
    "\n",
    "#방문할 목록\n",
    "url = 'https://comic.naver.com/api/home/component'\n",
    "params = {'type':'DAILY_WEBTOON'}\n",
    "\n",
    "URLs = []\n",
    "URLs.append((url, params))\n",
    "\n",
    "seens = []\n",
    "domain = []\n",
    "\n",
    "while URLs:\n",
    "    seed = URLs.pop(0)\n",
    "\n",
    "    resp = download(*seed) #항상 url 과 파라미터로 되어있을거다. \n",
    "    seens.append(resp.request.url)\n",
    "    \n",
    "    if resp.status_code !=200:\n",
    "        continue\n",
    "\n",
    "    # 3. 웹툰 해당 회차의 이미지 목록\n",
    "    \n",
    "    if re.search('text/html', resp.headers['content-type']):\n",
    "        dom = BeautifulSoup(resp.text, 'html5lib')\n",
    "        for link in dom.select('#sectionContWide img[src]'):\n",
    "            href = link.attrs['src']\n",
    "            newurl = urljoin(resp.request.url, href)\n",
    "\n",
    "            urlc = tuple(newurl.split('?'))\n",
    "            \n",
    "            if newurl not in seens and\\\n",
    "                urlc not in URLs:\n",
    "                URLs.append(urlc)\n",
    "\n",
    "    elif re.search('image/(?:(?:jpeg)|(?:gif)|(?:png))',\n",
    "                   resp.headers['content-type']):\n",
    "        fname = re.sub('[?]', '', resp. request.url.split('/')[-1])\n",
    "        with open(f'./webtoon/{fname}', 'wb') as fp:\n",
    "            fp.write(resp.content)\n",
    "    \n",
    "    elif re.search('application/json', resp.headers['content-type']):\n",
    "        result = resp.json()\n",
    "        \n",
    "        # 1번\n",
    "        if 'titleList' in result.keys():\n",
    "            #2번\n",
    "            baseurl = 'https://comic.naver.com/api/article/list?titleId='\n",
    "            for newurl in [baseurl +str(r['titleId'] )\n",
    "                           for r in result['titleList']][:1]:\n",
    "                urlc = tuple(newurl.split('?'))\n",
    "\n",
    "                if newurl not in seens and\\\n",
    "                    urlc not in URLs:\n",
    "                     URLs.append(urlc)\n",
    "\n",
    "        #3번\n",
    "        elif 'articleList' in result.keys():\n",
    "            baseurl = 'https://comic.naver.com/webtoon/detail?'\n",
    "            for newurl in [baseurl+seed[-1]+'&no='+str(r['no'])\n",
    "                          for r in result['articleList']][:1]:\n",
    "                urlc = tuple(newurl.split('?'))\n",
    "\n",
    "                if newurl not in seens and\\\n",
    "                    urlc not in URLs:\n",
    "                     URLs.append(urlc)"
   ]
  },
  {
   "cell_type": "code",
   "execution_count": 61,
   "id": "994c257d-004b-4333-a041-59b954b1b8a6",
   "metadata": {
    "scrolled": true
   },
   "outputs": [
    {
     "data": {
      "text/plain": [
       "(108,\n",
       " 0,\n",
       " ['https://comic.naver.com/webtoon/detail?titleId=817019&no=1',\n",
       "  'https://image-comic.pstatic.net/static/agerate/age_all_white.jpg',\n",
       "  'https://image-comic.pstatic.net/webtoon/817019/1/20230920115114_abb08c3ed917b664f91e72efbeed7875_IMAG01_1.jpg',\n",
       "  'https://image-comic.pstatic.net/webtoon/817019/1/20230920115114_abb08c3ed917b664f91e72efbeed7875_IMAG01_2.jpg',\n",
       "  'https://image-comic.pstatic.net/webtoon/817019/1/20230920115114_abb08c3ed917b664f91e72efbeed7875_IMAG01_3.jpg',\n",
       "  'https://image-comic.pstatic.net/webtoon/817019/1/20230920115114_abb08c3ed917b664f91e72efbeed7875_IMAG01_4.jpg',\n",
       "  'https://image-comic.pstatic.net/webtoon/817019/1/20230920115114_abb08c3ed917b664f91e72efbeed7875_IMAG01_5.jpg',\n",
       "  'https://image-comic.pstatic.net/webtoon/817019/1/20230920115114_abb08c3ed917b664f91e72efbeed7875_IMAG01_6.jpg',\n",
       "  'https://image-comic.pstatic.net/webtoon/817019/1/20230920115114_abb08c3ed917b664f91e72efbeed7875_IMAG01_7.jpg',\n",
       "  'https://image-comic.pstatic.net/webtoon/817019/1/20230920115114_abb08c3ed917b664f91e72efbeed7875_IMAG01_8.jpg',\n",
       "  'https://image-comic.pstatic.net/webtoon/817019/1/20230920115114_abb08c3ed917b664f91e72efbeed7875_IMAG01_9.jpg',\n",
       "  'https://image-comic.pstatic.net/webtoon/817019/1/20230920115114_abb08c3ed917b664f91e72efbeed7875_IMAG01_10.jpg',\n",
       "  'https://image-comic.pstatic.net/webtoon/817019/1/20230920115114_abb08c3ed917b664f91e72efbeed7875_IMAG01_11.jpg',\n",
       "  'https://image-comic.pstatic.net/webtoon/817019/1/20230920115114_abb08c3ed917b664f91e72efbeed7875_IMAG01_12.jpg',\n",
       "  'https://image-comic.pstatic.net/webtoon/817019/1/20230920115114_abb08c3ed917b664f91e72efbeed7875_IMAG01_13.jpg',\n",
       "  'https://image-comic.pstatic.net/webtoon/817019/1/20230920115114_abb08c3ed917b664f91e72efbeed7875_IMAG01_14.jpg',\n",
       "  'https://image-comic.pstatic.net/webtoon/817019/1/20230920115114_abb08c3ed917b664f91e72efbeed7875_IMAG01_15.jpg',\n",
       "  'https://image-comic.pstatic.net/webtoon/817019/1/20230920115114_abb08c3ed917b664f91e72efbeed7875_IMAG01_16.jpg',\n",
       "  'https://image-comic.pstatic.net/webtoon/817019/1/20230920115114_abb08c3ed917b664f91e72efbeed7875_IMAG01_17.jpg',\n",
       "  'https://image-comic.pstatic.net/webtoon/817019/1/20230920115114_abb08c3ed917b664f91e72efbeed7875_IMAG01_18.jpg',\n",
       "  'https://image-comic.pstatic.net/webtoon/817019/1/20230920115114_abb08c3ed917b664f91e72efbeed7875_IMAG01_19.jpg',\n",
       "  'https://image-comic.pstatic.net/webtoon/817019/1/20230920115114_abb08c3ed917b664f91e72efbeed7875_IMAG01_20.jpg',\n",
       "  'https://image-comic.pstatic.net/webtoon/817019/1/20230920115114_abb08c3ed917b664f91e72efbeed7875_IMAG01_21.jpg',\n",
       "  'https://image-comic.pstatic.net/webtoon/817019/1/20230920115114_abb08c3ed917b664f91e72efbeed7875_IMAG01_22.jpg',\n",
       "  'https://image-comic.pstatic.net/webtoon/817019/1/20230920115114_abb08c3ed917b664f91e72efbeed7875_IMAG01_23.jpg',\n",
       "  'https://image-comic.pstatic.net/webtoon/817019/1/20230920115114_abb08c3ed917b664f91e72efbeed7875_IMAG01_24.jpg',\n",
       "  'https://image-comic.pstatic.net/webtoon/817019/1/20230920115114_abb08c3ed917b664f91e72efbeed7875_IMAG01_25.jpg',\n",
       "  'https://image-comic.pstatic.net/webtoon/817019/1/20230920115114_abb08c3ed917b664f91e72efbeed7875_IMAG01_26.jpg',\n",
       "  'https://image-comic.pstatic.net/webtoon/817019/1/20230920115114_abb08c3ed917b664f91e72efbeed7875_IMAG01_27.jpg',\n",
       "  'https://image-comic.pstatic.net/webtoon/817019/1/20230920115114_abb08c3ed917b664f91e72efbeed7875_IMAG01_28.jpg',\n",
       "  'https://image-comic.pstatic.net/webtoon/817019/1/20230920115114_abb08c3ed917b664f91e72efbeed7875_IMAG01_29.jpg',\n",
       "  'https://image-comic.pstatic.net/webtoon/817019/1/20230920115114_abb08c3ed917b664f91e72efbeed7875_IMAG01_30.jpg',\n",
       "  'https://image-comic.pstatic.net/webtoon/817019/1/20230920115114_abb08c3ed917b664f91e72efbeed7875_IMAG01_31.jpg',\n",
       "  'https://image-comic.pstatic.net/webtoon/817019/1/20230920115114_abb08c3ed917b664f91e72efbeed7875_IMAG01_32.jpg',\n",
       "  'https://image-comic.pstatic.net/webtoon/817019/1/20230920115114_abb08c3ed917b664f91e72efbeed7875_IMAG01_33.jpg',\n",
       "  'https://image-comic.pstatic.net/webtoon/817019/1/20230920115114_abb08c3ed917b664f91e72efbeed7875_IMAG01_34.jpg',\n",
       "  'https://image-comic.pstatic.net/webtoon/817019/1/20230920115114_abb08c3ed917b664f91e72efbeed7875_IMAG01_35.jpg',\n",
       "  'https://image-comic.pstatic.net/webtoon/817019/1/20230920115114_abb08c3ed917b664f91e72efbeed7875_IMAG01_36.jpg',\n",
       "  'https://image-comic.pstatic.net/webtoon/817019/1/20230920115114_abb08c3ed917b664f91e72efbeed7875_IMAG01_37.jpg',\n",
       "  'https://image-comic.pstatic.net/webtoon/817019/1/20230920115114_abb08c3ed917b664f91e72efbeed7875_IMAG01_38.jpg',\n",
       "  'https://image-comic.pstatic.net/webtoon/817019/1/20230920115114_abb08c3ed917b664f91e72efbeed7875_IMAG01_39.jpg',\n",
       "  'https://image-comic.pstatic.net/webtoon/817019/1/20230920115114_abb08c3ed917b664f91e72efbeed7875_IMAG01_40.jpg',\n",
       "  'https://image-comic.pstatic.net/webtoon/817019/1/20230920115114_abb08c3ed917b664f91e72efbeed7875_IMAG01_41.jpg',\n",
       "  'https://image-comic.pstatic.net/webtoon/817019/1/20230920115114_abb08c3ed917b664f91e72efbeed7875_IMAG01_42.jpg',\n",
       "  'https://image-comic.pstatic.net/webtoon/817019/1/20230920115114_abb08c3ed917b664f91e72efbeed7875_IMAG01_43.jpg',\n",
       "  'https://image-comic.pstatic.net/webtoon/817019/1/20230920115114_abb08c3ed917b664f91e72efbeed7875_IMAG01_44.jpg',\n",
       "  'https://image-comic.pstatic.net/webtoon/817019/1/20230920115114_abb08c3ed917b664f91e72efbeed7875_IMAG01_45.jpg',\n",
       "  'https://image-comic.pstatic.net/webtoon/817019/1/20230920115114_abb08c3ed917b664f91e72efbeed7875_IMAG01_46.jpg',\n",
       "  'https://image-comic.pstatic.net/webtoon/817019/1/20230920115114_abb08c3ed917b664f91e72efbeed7875_IMAG01_47.jpg',\n",
       "  'https://image-comic.pstatic.net/webtoon/817019/1/20230920115114_abb08c3ed917b664f91e72efbeed7875_IMAG01_48.jpg',\n",
       "  'https://image-comic.pstatic.net/webtoon/817019/1/20230920115114_abb08c3ed917b664f91e72efbeed7875_IMAG01_49.jpg',\n",
       "  'https://image-comic.pstatic.net/webtoon/817019/1/20230920115114_abb08c3ed917b664f91e72efbeed7875_IMAG01_50.jpg',\n",
       "  'https://image-comic.pstatic.net/webtoon/817019/1/20230920115114_abb08c3ed917b664f91e72efbeed7875_IMAG01_51.jpg',\n",
       "  'https://image-comic.pstatic.net/webtoon/817019/1/20230920115114_abb08c3ed917b664f91e72efbeed7875_IMAG01_52.jpg',\n",
       "  'https://image-comic.pstatic.net/webtoon/817019/1/20230920115114_abb08c3ed917b664f91e72efbeed7875_IMAG01_53.jpg',\n",
       "  'https://image-comic.pstatic.net/webtoon/817019/1/20230920115114_abb08c3ed917b664f91e72efbeed7875_IMAG01_54.jpg',\n",
       "  'https://image-comic.pstatic.net/webtoon/817019/1/20230920115114_abb08c3ed917b664f91e72efbeed7875_IMAG01_55.jpg',\n",
       "  'https://image-comic.pstatic.net/webtoon/817019/1/20230920115114_abb08c3ed917b664f91e72efbeed7875_IMAG01_56.jpg',\n",
       "  'https://image-comic.pstatic.net/webtoon/817019/1/20230920115114_abb08c3ed917b664f91e72efbeed7875_IMAG01_57.jpg',\n",
       "  'https://image-comic.pstatic.net/webtoon/817019/1/20230920115114_abb08c3ed917b664f91e72efbeed7875_IMAG01_58.jpg',\n",
       "  'https://image-comic.pstatic.net/webtoon/817019/1/20230920115114_abb08c3ed917b664f91e72efbeed7875_IMAG01_59.jpg',\n",
       "  'https://image-comic.pstatic.net/webtoon/817019/1/20230920115114_abb08c3ed917b664f91e72efbeed7875_IMAG01_60.jpg',\n",
       "  'https://image-comic.pstatic.net/webtoon/817019/1/20230920115114_abb08c3ed917b664f91e72efbeed7875_IMAG01_61.jpg',\n",
       "  'https://image-comic.pstatic.net/webtoon/817019/1/20230920115114_abb08c3ed917b664f91e72efbeed7875_IMAG01_62.jpg',\n",
       "  'https://image-comic.pstatic.net/webtoon/817019/1/20230920115114_abb08c3ed917b664f91e72efbeed7875_IMAG01_63.jpg',\n",
       "  'https://image-comic.pstatic.net/webtoon/817019/1/20230920115114_abb08c3ed917b664f91e72efbeed7875_IMAG01_64.jpg',\n",
       "  'https://image-comic.pstatic.net/webtoon/817019/1/20230920115114_abb08c3ed917b664f91e72efbeed7875_IMAG01_65.jpg',\n",
       "  'https://image-comic.pstatic.net/webtoon/817019/1/20230920115114_abb08c3ed917b664f91e72efbeed7875_IMAG01_66.jpg',\n",
       "  'https://image-comic.pstatic.net/webtoon/817019/1/20230920115114_abb08c3ed917b664f91e72efbeed7875_IMAG01_67.jpg',\n",
       "  'https://image-comic.pstatic.net/webtoon/817019/1/20230920115114_abb08c3ed917b664f91e72efbeed7875_IMAG01_68.jpg',\n",
       "  'https://image-comic.pstatic.net/webtoon/817019/1/20230920115114_abb08c3ed917b664f91e72efbeed7875_IMAG01_69.jpg',\n",
       "  'https://image-comic.pstatic.net/webtoon/817019/1/20230920115114_abb08c3ed917b664f91e72efbeed7875_IMAG01_70.jpg',\n",
       "  'https://image-comic.pstatic.net/webtoon/817019/1/20230920115114_abb08c3ed917b664f91e72efbeed7875_IMAG01_71.jpg',\n",
       "  'https://image-comic.pstatic.net/webtoon/817019/1/20230920115114_abb08c3ed917b664f91e72efbeed7875_IMAG01_72.jpg',\n",
       "  'https://image-comic.pstatic.net/webtoon/817019/1/20230920115114_abb08c3ed917b664f91e72efbeed7875_IMAG01_73.jpg',\n",
       "  'https://image-comic.pstatic.net/webtoon/817019/1/20230920115114_abb08c3ed917b664f91e72efbeed7875_IMAG01_74.jpg',\n",
       "  'https://image-comic.pstatic.net/webtoon/817019/1/20230920115114_abb08c3ed917b664f91e72efbeed7875_IMAG01_75.jpg',\n",
       "  'https://image-comic.pstatic.net/webtoon/817019/1/20230920115114_abb08c3ed917b664f91e72efbeed7875_IMAG01_76.jpg',\n",
       "  'https://image-comic.pstatic.net/webtoon/817019/1/20230920115114_abb08c3ed917b664f91e72efbeed7875_IMAG01_77.jpg',\n",
       "  'https://image-comic.pstatic.net/webtoon/817019/1/20230920115114_abb08c3ed917b664f91e72efbeed7875_IMAG01_78.jpg',\n",
       "  'https://image-comic.pstatic.net/webtoon/817019/1/20230920115114_abb08c3ed917b664f91e72efbeed7875_IMAG01_79.jpg',\n",
       "  'https://image-comic.pstatic.net/webtoon/817019/1/20230920115114_abb08c3ed917b664f91e72efbeed7875_IMAG01_80.jpg',\n",
       "  'https://image-comic.pstatic.net/webtoon/817019/1/20230920115114_abb08c3ed917b664f91e72efbeed7875_IMAG01_81.jpg',\n",
       "  'https://image-comic.pstatic.net/webtoon/817019/1/20230920115114_abb08c3ed917b664f91e72efbeed7875_IMAG01_82.jpg',\n",
       "  'https://image-comic.pstatic.net/webtoon/817019/1/20230920115114_abb08c3ed917b664f91e72efbeed7875_IMAG01_83.jpg',\n",
       "  'https://image-comic.pstatic.net/webtoon/817019/1/20230920115114_abb08c3ed917b664f91e72efbeed7875_IMAG01_84.jpg',\n",
       "  'https://image-comic.pstatic.net/webtoon/817019/1/20230920115114_abb08c3ed917b664f91e72efbeed7875_IMAG01_85.jpg',\n",
       "  'https://image-comic.pstatic.net/webtoon/817019/1/20230920115114_abb08c3ed917b664f91e72efbeed7875_IMAG01_86.jpg',\n",
       "  'https://image-comic.pstatic.net/webtoon/817019/1/20230920115114_abb08c3ed917b664f91e72efbeed7875_IMAG01_87.jpg',\n",
       "  'https://image-comic.pstatic.net/webtoon/817019/1/20230920115114_abb08c3ed917b664f91e72efbeed7875_IMAG01_88.jpg',\n",
       "  'https://image-comic.pstatic.net/webtoon/817019/1/20230920115114_abb08c3ed917b664f91e72efbeed7875_IMAG01_89.jpg',\n",
       "  'https://image-comic.pstatic.net/webtoon/817019/1/20230920115114_abb08c3ed917b664f91e72efbeed7875_IMAG01_90.jpg',\n",
       "  'https://image-comic.pstatic.net/webtoon/817019/1/20230920115114_abb08c3ed917b664f91e72efbeed7875_IMAG01_91.jpg',\n",
       "  'https://image-comic.pstatic.net/webtoon/817019/1/20230920115114_abb08c3ed917b664f91e72efbeed7875_IMAG01_92.jpg',\n",
       "  'https://image-comic.pstatic.net/webtoon/817019/1/20230920115114_abb08c3ed917b664f91e72efbeed7875_IMAG01_93.jpg',\n",
       "  'https://image-comic.pstatic.net/webtoon/817019/1/20230920115114_abb08c3ed917b664f91e72efbeed7875_IMAG01_94.jpg',\n",
       "  'https://image-comic.pstatic.net/webtoon/817019/1/20230920115114_abb08c3ed917b664f91e72efbeed7875_IMAG01_95.jpg',\n",
       "  'https://image-comic.pstatic.net/webtoon/817019/1/20230920115114_abb08c3ed917b664f91e72efbeed7875_IMAG01_96.jpg',\n",
       "  'https://image-comic.pstatic.net/webtoon/817019/1/20230920115114_abb08c3ed917b664f91e72efbeed7875_IMAG01_97.jpg',\n",
       "  'https://image-comic.pstatic.net/webtoon/817019/1/20230920115114_abb08c3ed917b664f91e72efbeed7875_IMAG01_98.jpg',\n",
       "  'https://image-comic.pstatic.net/webtoon/817019/1/20230920115114_abb08c3ed917b664f91e72efbeed7875_IMAG01_99.jpg',\n",
       "  'https://image-comic.pstatic.net/webtoon/817019/1/20230920115114_abb08c3ed917b664f91e72efbeed7875_IMAG01_100.jpg',\n",
       "  'https://image-comic.pstatic.net/webtoon/817019/1/20230920115114_abb08c3ed917b664f91e72efbeed7875_IMAG01_101.jpg',\n",
       "  'https://image-comic.pstatic.net/webtoon/817019/1/20230920115114_abb08c3ed917b664f91e72efbeed7875_IMAG01_102.jpg',\n",
       "  'https://image-comic.pstatic.net/webtoon/817019/1/20230920115114_abb08c3ed917b664f91e72efbeed7875_IMAG01_103.jpg',\n",
       "  'https://image-comic.pstatic.net/webtoon/817019/1/20230920115114_abb08c3ed917b664f91e72efbeed7875_IMAG01_104.jpg'])"
      ]
     },
     "execution_count": 61,
     "metadata": {},
     "output_type": "execute_result"
    }
   ],
   "source": [
    "len(seens), len(URLs), seens[2:]"
   ]
  },
  {
   "cell_type": "code",
   "execution_count": 51,
   "id": "a7f333b9-c774-499e-9d8f-a40dd57a98e9",
   "metadata": {},
   "outputs": [],
   "source": [
    "import os"
   ]
  },
  {
   "cell_type": "code",
   "execution_count": 52,
   "id": "caabaed8-e34d-4517-8db5-5ec35d6c791b",
   "metadata": {},
   "outputs": [],
   "source": [
    "os.mkdir('./webtoon')"
   ]
  },
  {
   "cell_type": "code",
   "execution_count": 53,
   "id": "ac1ead33-d8e5-4074-adfd-fc14f080afe7",
   "metadata": {
    "scrolled": true
   },
   "outputs": [
    {
     "data": {
      "text/plain": [
       "['.cache',\n",
       " '.config',\n",
       " '.eclipse',\n",
       " '.gitconfig',\n",
       " '.idlerc',\n",
       " '.ipynb_checkpoints',\n",
       " '.ipython',\n",
       " '.jupyter',\n",
       " '.keras',\n",
       " '.lemminx',\n",
       " '.m2',\n",
       " '.matplotlib',\n",
       " '.ms-ad',\n",
       " '.p2',\n",
       " '.vscode',\n",
       " '0610_환전페이지.sql',\n",
       " '0905.db',\n",
       " '0905.ipynb',\n",
       " '100_Numpy_exercises.ipynb',\n",
       " 'a.txt',\n",
       " 'AppData',\n",
       " 'Application Data',\n",
       " 'Contacts',\n",
       " 'Cookies',\n",
       " 'db_0906.ipynb',\n",
       " 'DB_0906_2.ipynb',\n",
       " 'DB_0907.ipynb',\n",
       " 'DB_0907_실습.ipynb',\n",
       " 'DB_0908.ipynb',\n",
       " 'DB_0911.ipynb',\n",
       " 'DB_0911_ex.ipynb',\n",
       " 'DB_0912_cls.ipynb',\n",
       " 'DB_0912_ex.ipynb',\n",
       " 'DB_0913_cls.ipynb',\n",
       " 'DB_0913_ex.ipynb',\n",
       " 'DB_0915_cls.ipynb',\n",
       " 'DB_0917_ex.ipynb',\n",
       " 'DB_0918_cls.ipynb',\n",
       " 'Desktop',\n",
       " 'Documents',\n",
       " 'Downloads',\n",
       " 'Favorites',\n",
       " 'function_0905.ipynb',\n",
       " 'git',\n",
       " 'hsperfdata_user',\n",
       " 'jupyter0905.ipynb',\n",
       " 'Links',\n",
       " 'Local Settings',\n",
       " 'Music',\n",
       " 'My Documents',\n",
       " 'NetHood',\n",
       " 'NTUSER.DAT',\n",
       " 'ntuser.dat.LOG1',\n",
       " 'ntuser.dat.LOG2',\n",
       " 'NTUSER.DAT{a2332f18-cdbf-11ec-8680-002248483d79}.TM.blf',\n",
       " 'NTUSER.DAT{a2332f18-cdbf-11ec-8680-002248483d79}.TMContainer00000000000000000001.regtrans-ms',\n",
       " 'NTUSER.DAT{a2332f18-cdbf-11ec-8680-002248483d79}.TMContainer00000000000000000002.regtrans-ms',\n",
       " 'ntuser.ini',\n",
       " 'OneDrive',\n",
       " 'Oracle',\n",
       " 'Pictures',\n",
       " 'PrintHood',\n",
       " 'PycharmProjects',\n",
       " 'python_0905.ipynb',\n",
       " 'python_0905_2.ipynb',\n",
       " 'python_0906.ipynb',\n",
       " 'python_0907.ipynb',\n",
       " 'python_0908.ipynb',\n",
       " 'python_0911_cls.ipynb',\n",
       " 'python_0911_ex.ipynb',\n",
       " 'python_0912_ex.ipynb',\n",
       " 'python_0913_cls.ipynb',\n",
       " 'python_0914_cls.ipynb',\n",
       " 'python_0915_cls.ipynb',\n",
       " 'python_0916_ex.ipynb',\n",
       " 'Recent',\n",
       " 'Saved Games',\n",
       " 'Searches',\n",
       " 'SendTo',\n",
       " 'sns.db',\n",
       " 'Templates',\n",
       " 'test.db',\n",
       " 'ticketing.ipynb',\n",
       " 'Untitled.ipynb',\n",
       " 'Untitled1.ipynb',\n",
       " 'Untitled2.ipynb',\n",
       " 'Untitled3.ipynb',\n",
       " 'Untitled4.ipynb',\n",
       " 'Untitled5.ipynb',\n",
       " 'Untitled6.ipynb',\n",
       " 'Untitled7.ipynb',\n",
       " 'Untitled8.ipynb',\n",
       " 'Videos',\n",
       " 'webtoon',\n",
       " '시작 메뉴']"
      ]
     },
     "execution_count": 53,
     "metadata": {},
     "output_type": "execute_result"
    }
   ],
   "source": [
    "os.listdir('.')"
   ]
  },
  {
   "cell_type": "code",
   "execution_count": 62,
   "id": "b0412d51-d965-45e2-8bba-39bfebffe816",
   "metadata": {},
   "outputs": [],
   "source": [
    "######\n",
    "# Cookies / Sessions"
   ]
  },
  {
   "cell_type": "code",
   "execution_count": 63,
   "id": "d296291d-ec2c-4e6b-9573-1ece7b47ade8",
   "metadata": {},
   "outputs": [],
   "source": [
    "url ='https://pythonscraping.com/pages/cookies/login.html'\n",
    "resp = download(url)\n",
    "dom = BeautifulSoup(resp.text, 'lxml')"
   ]
  },
  {
   "cell_type": "code",
   "execution_count": 64,
   "id": "e7ceaeb9-3892-401a-afb6-f45f05513986",
   "metadata": {},
   "outputs": [
    {
     "data": {
      "text/plain": [
       "<html><body><h2>Log In Here!</h2>\n",
       "Warning: Your browser must be able to use cookies in order to view our site!\n",
       "<form action=\"welcome.php\" method=\"post\">\n",
       "Username (use anything!): <input name=\"username\" type=\"text\"/><br/>\n",
       "Password (try \"password\"): <input name=\"password\" type=\"password\"/><br/>\n",
       "<input type=\"submit\" value=\"Login\"/>\n",
       "</form></body></html>"
      ]
     },
     "execution_count": 64,
     "metadata": {},
     "output_type": "execute_result"
    }
   ],
   "source": [
    "dom"
   ]
  },
  {
   "cell_type": "code",
   "execution_count": 65,
   "id": "92b184a0-cedb-4125-92a0-6c3c6ebced2d",
   "metadata": {},
   "outputs": [
    {
     "data": {
      "text/plain": [
       "[<form action=\"welcome.php\" method=\"post\">\n",
       " Username (use anything!): <input name=\"username\" type=\"text\"/><br/>\n",
       " Password (try \"password\"): <input name=\"password\" type=\"password\"/><br/>\n",
       " <input type=\"submit\" value=\"Login\"/>\n",
       " </form>]"
      ]
     },
     "execution_count": 65,
     "metadata": {},
     "output_type": "execute_result"
    }
   ],
   "source": [
    "dom.select('form')"
   ]
  },
  {
   "cell_type": "code",
   "execution_count": 66,
   "id": "91da3671-f84c-491f-85a2-ee2854a08a32",
   "metadata": {},
   "outputs": [
    {
     "data": {
      "text/plain": [
       "[<input name=\"username\" type=\"text\"/>,\n",
       " <input name=\"password\" type=\"password\"/>,\n",
       " <input type=\"submit\" value=\"Login\"/>]"
      ]
     },
     "execution_count": 66,
     "metadata": {},
     "output_type": "execute_result"
    }
   ],
   "source": [
    "dom.select('form > input')"
   ]
  },
  {
   "cell_type": "code",
   "execution_count": 67,
   "id": "0ac7cdf6-8b05-44e6-a15b-8c435419ff9d",
   "metadata": {},
   "outputs": [
    {
     "data": {
      "text/plain": [
       "{'method': 'post', 'action': 'welcome.php'}"
      ]
     },
     "execution_count": 67,
     "metadata": {},
     "output_type": "execute_result"
    }
   ],
   "source": [
    "dom.select_one('form').attrs #이게 없을 수도 있다. 일부러 못알아보라고"
   ]
  },
  {
   "cell_type": "code",
   "execution_count": 69,
   "id": "41c7add2-dd9d-4f24-b080-b10cc5a9cf2a",
   "metadata": {},
   "outputs": [
    {
     "name": "stdout",
     "output_type": "stream",
     "text": [
      "{'type': 'text', 'name': 'username'}\n",
      "{'type': 'password', 'name': 'password'}\n"
     ]
    }
   ],
   "source": [
    "for tag in dom.select('form > input[name]'):\n",
    "    print(tag.attrs)"
   ]
  },
  {
   "cell_type": "code",
   "execution_count": 83,
   "id": "30b9cb69-47bb-4066-a1a1-7dc3343b4bfc",
   "metadata": {},
   "outputs": [],
   "source": [
    "#상대방 서버는 아마도 아파치일거다.\n",
    "newurl = urljoin(resp.request.url, dom.select_one('form').attrs['action'])"
   ]
  },
  {
   "cell_type": "code",
   "execution_count": 71,
   "id": "80d14168-2361-4aff-ab42-8dada8aa22e5",
   "metadata": {},
   "outputs": [
    {
     "data": {
      "text/plain": [
       "'username=&password='"
      ]
     },
     "execution_count": 71,
     "metadata": {},
     "output_type": "execute_result"
    }
   ],
   "source": [
    "params = list()\n",
    "for tag in dom.select('form > input[name]'):\n",
    "    params.append(tag.attrs['name']+'='+'')\n",
    "'&'.join(params)"
   ]
  },
  {
   "cell_type": "code",
   "execution_count": 72,
   "id": "4bacbb09-3fe7-4aac-a08f-36ab40c33ab0",
   "metadata": {},
   "outputs": [
    {
     "data": {
      "text/plain": [
       "'post'"
      ]
     },
     "execution_count": 72,
     "metadata": {},
     "output_type": "execute_result"
    }
   ],
   "source": [
    "dom.select_one('form').attrs['method']"
   ]
  },
  {
   "cell_type": "code",
   "execution_count": 73,
   "id": "dd1a3d01-b7c8-4c5f-bf97-9a90f82649f2",
   "metadata": {},
   "outputs": [
    {
     "data": {
      "text/plain": [
       "<html><body><h2>Log In Here!</h2>\n",
       "Warning: Your browser must be able to use cookies in order to view our site!\n",
       "<form action=\"welcome.php\" method=\"post\">\n",
       "Username (use anything!): <input name=\"username\" type=\"text\"/><br/>\n",
       "Password (try \"password\"): <input name=\"password\" type=\"password\"/><br/>\n",
       "<input type=\"submit\" value=\"Login\"/>\n",
       "</form></body></html>"
      ]
     },
     "execution_count": 73,
     "metadata": {},
     "output_type": "execute_result"
    }
   ],
   "source": [
    "dom"
   ]
  },
  {
   "cell_type": "code",
   "execution_count": 97,
   "id": "0136d35f-659c-44ac-8e0e-5ea3b527a9d8",
   "metadata": {},
   "outputs": [
    {
     "data": {
      "text/plain": [
       "<Response [200]>"
      ]
     },
     "execution_count": 97,
     "metadata": {},
     "output_type": "execute_result"
    }
   ],
   "source": [
    "download(newurl, {'username':'111', 'password':'password'}, 'POST')"
   ]
  },
  {
   "cell_type": "code",
   "execution_count": 98,
   "id": "44b2f5d2-7943-4271-98cc-64a1eb168fbe",
   "metadata": {},
   "outputs": [
    {
     "data": {
      "text/plain": [
       "200"
      ]
     },
     "execution_count": 98,
     "metadata": {},
     "output_type": "execute_result"
    }
   ],
   "source": [
    "resp.status_code"
   ]
  },
  {
   "cell_type": "code",
   "execution_count": 99,
   "id": "8e39fe8c-edbe-41b1-937d-01495309f99c",
   "metadata": {},
   "outputs": [
    {
     "data": {
      "text/plain": [
       "{'Server': 'nginx', 'Date': 'Mon, 25 Sep 2023 02:47:53 GMT', 'Content-Type': 'text/html; charset=UTF-8', 'Content-Length': '73', 'Connection': 'keep-alive', 'X-Powered-By': 'PHP/7.4.33, PleskLin', 'Vary': 'Accept-Encoding', 'Content-Encoding': 'gzip'}"
      ]
     },
     "execution_count": 99,
     "metadata": {},
     "output_type": "execute_result"
    }
   ],
   "source": [
    "resp.headers\n",
    "# header에서 set-cookies 부분 잘 봐줘야해!"
   ]
  },
  {
   "cell_type": "code",
   "execution_count": 100,
   "id": "cd714831-2ee3-4f12-958d-27a6a0123bdb",
   "metadata": {},
   "outputs": [
    {
     "data": {
      "text/plain": [
       "\"Hey 111! Looks like you're still logged into the site!\""
      ]
     },
     "execution_count": 100,
     "metadata": {},
     "output_type": "execute_result"
    }
   ],
   "source": [
    "resp.text"
   ]
  },
  {
   "cell_type": "code",
   "execution_count": 101,
   "id": "85aacc3c-a9fa-4720-8e80-f13476c2d781",
   "metadata": {},
   "outputs": [
    {
     "data": {
      "text/plain": [
       "({'User-Agent': 'python-requests/2.31.0', 'Accept-Encoding': 'gzip, deflate', 'Accept': '*/*', 'Connection': 'keep-alive', 'Cookie': 'loggedin=1; username=111'},\n",
       " 'GET',\n",
       " 'https://pythonscraping.com/pages/cookies/profile.php',\n",
       " None)"
      ]
     },
     "execution_count": 101,
     "metadata": {},
     "output_type": "execute_result"
    }
   ],
   "source": [
    "resp.request.headers, resp.request.method, resp.request.url, \\\n",
    "resp.request.body"
   ]
  },
  {
   "cell_type": "code",
   "execution_count": 102,
   "id": "9bd102ad-6f0b-4b26-aafd-6131b5f82693",
   "metadata": {},
   "outputs": [
    {
     "data": {
      "text/plain": [
       "'You\\'re not logged into the site!<br>Visit <a href=\"login.html\">the login page</a> to log in'"
      ]
     },
     "execution_count": 102,
     "metadata": {},
     "output_type": "execute_result"
    }
   ],
   "source": [
    "resp = download(urljoin(newurl, 'profile.php'))\n",
    "resp.text"
   ]
  },
  {
   "cell_type": "code",
   "execution_count": 103,
   "id": "5816331e-ce9d-449b-a6fe-207075c2f03f",
   "metadata": {},
   "outputs": [],
   "source": [
    "from requests.cookies import cookiejar_from_dict"
   ]
  },
  {
   "cell_type": "code",
   "execution_count": 104,
   "id": "3769b775-5b4f-4fec-be05-f84e23e353f4",
   "metadata": {},
   "outputs": [
    {
     "data": {
      "text/plain": [
       "<RequestsCookieJar[Cookie(version=0, name='username', value='어쩌고', port=None, port_specified=False, domain='', domain_specified=False, domain_initial_dot=False, path='/', path_specified=True, secure=False, expires=None, discard=True, comment=None, comment_url=None, rest={'HttpOnly': None}, rfc2109=False)]>"
      ]
     },
     "execution_count": 104,
     "metadata": {},
     "output_type": "execute_result"
    }
   ],
   "source": [
    "cookiejar_from_dict({'username':'어쩌고'})"
   ]
  },
  {
   "cell_type": "code",
   "execution_count": 105,
   "id": "cfeb6c52-1e46-45e4-a8f3-6383b8e92a50",
   "metadata": {},
   "outputs": [],
   "source": [
    "# loggedin=1; username=111\n",
    "cookie = {\n",
    "    'loggedin' : '1'\n",
    "    , 'username' : '111'\n",
    "}"
   ]
  },
  {
   "cell_type": "code",
   "execution_count": 106,
   "id": "b2c76120-e2b5-46a9-a814-3b250866c566",
   "metadata": {},
   "outputs": [
    {
     "data": {
      "text/plain": [
       "\"Hey 111! Looks like you're still logged into the site!\""
      ]
     },
     "execution_count": 106,
     "metadata": {},
     "output_type": "execute_result"
    }
   ],
   "source": [
    "resp = request('GET', urljoin(newurl, 'profile.php'), cookies=cookie)\n",
    "resp.text"
   ]
  },
  {
   "cell_type": "code",
   "execution_count": 107,
   "id": "6b7ae5ce-21b7-4150-8dcb-577019f89c05",
   "metadata": {},
   "outputs": [
    {
     "data": {
      "text/plain": [
       "\"Hey 111! Looks like you're still logged into the site!\""
      ]
     },
     "execution_count": 107,
     "metadata": {},
     "output_type": "execute_result"
    }
   ],
   "source": [
    "cookie['loggedin'] = '111'\n",
    "resp = request('GET', urljoin(newurl, 'profile.php'), cookies=cookie)\n",
    "resp.text"
   ]
  },
  {
   "cell_type": "code",
   "execution_count": 108,
   "id": "05d0ed1d-5952-432b-945e-63d36d9ed268",
   "metadata": {},
   "outputs": [],
   "source": [
    "#이렇게 하면, 쿠키를 내가 매번 관리해줘야한다고 한다. "
   ]
  },
  {
   "cell_type": "code",
   "execution_count": 114,
   "id": "a62abd73-d0f7-4e68-8261-7d64dcaa52b4",
   "metadata": {},
   "outputs": [
    {
     "data": {
      "text/plain": [
       "Cookie(version=0, name='loggedin', value='1', port=None, port_specified=False, domain='', domain_specified=False, domain_initial_dot=False, path='/', path_specified=True, secure=False, expires=None, discard=True, comment=None, comment_url=None, rest={'HttpOnly': None}, rfc2109=False)"
      ]
     },
     "execution_count": 114,
     "metadata": {},
     "output_type": "execute_result"
    }
   ],
   "source": [
    "#이번에는 세션으로 해보려고 한다.\n",
    "from requests.sessions import Session\n",
    "sess = Session()\n",
    "sess.cookies.set('loggedin', '1')"
   ]
  },
  {
   "cell_type": "code",
   "execution_count": null,
   "id": "62e0b58b-7346-45a5-87bb-b796ca68b095",
   "metadata": {},
   "outputs": [],
   "source": [
    "sess.cookies.set"
   ]
  },
  {
   "cell_type": "code",
   "execution_count": 115,
   "id": "59f98b28-9789-46da-a31a-d6b7ca2f8fc9",
   "metadata": {},
   "outputs": [],
   "source": [
    "from requests.compat import quote"
   ]
  },
  {
   "cell_type": "code",
   "execution_count": 116,
   "id": "4785b566-b777-42f1-8b62-921b749d217d",
   "metadata": {},
   "outputs": [
    {
     "data": {
      "text/plain": [
       "Cookie(version=0, name='username', value='%ED%95%9C%EA%B8%80', port=None, port_specified=False, domain='', domain_specified=False, domain_initial_dot=False, path='/', path_specified=True, secure=False, expires=None, discard=True, comment=None, comment_url=None, rest={'HttpOnly': None}, rfc2109=False)"
      ]
     },
     "execution_count": 116,
     "metadata": {},
     "output_type": "execute_result"
    }
   ],
   "source": [
    "from requests.compat import urlencode\n",
    "sess.cookies.set('username', quote('한글'))"
   ]
  },
  {
   "cell_type": "code",
   "execution_count": 117,
   "id": "72e60db1-0ed4-4345-9059-5c5a72545fe3",
   "metadata": {},
   "outputs": [
    {
     "data": {
      "text/plain": [
       "\"Hey 한글! Looks like you're still logged into the site!\""
      ]
     },
     "execution_count": 117,
     "metadata": {},
     "output_type": "execute_result"
    }
   ],
   "source": [
    "sess.get(urljoin(newurl, 'profile.php')).text"
   ]
  },
  {
   "cell_type": "code",
   "execution_count": 120,
   "id": "80306ad8-005f-4027-9973-4ef79ecee58a",
   "metadata": {},
   "outputs": [],
   "source": [
    "resp = sess.get(urljoin(newurl, 'profile.php'))"
   ]
  },
  {
   "cell_type": "code",
   "execution_count": 121,
   "id": "3bf74250-a769-43cf-a5fb-c9bf8d27ca82",
   "metadata": {},
   "outputs": [
    {
     "data": {
      "text/plain": [
       "{'User-Agent': 'python-requests/2.31.0', 'Accept-Encoding': 'gzip, deflate', 'Accept': '*/*', 'Connection': 'keep-alive', 'Cookie': 'loggedin=1; username=%ED%95%9C%EA%B8%80'}"
      ]
     },
     "execution_count": 121,
     "metadata": {},
     "output_type": "execute_result"
    }
   ],
   "source": [
    "resp.request.headers"
   ]
  },
  {
   "cell_type": "code",
   "execution_count": 122,
   "id": "accd95de-db6c-427e-ace4-b8d935ccec2f",
   "metadata": {},
   "outputs": [
    {
     "data": {
      "text/plain": [
       "<RequestsCookieJar[Cookie(version=0, name='loggedin', value='1', port=None, port_specified=False, domain='', domain_specified=False, domain_initial_dot=False, path='/', path_specified=True, secure=False, expires=None, discard=True, comment=None, comment_url=None, rest={'HttpOnly': None}, rfc2109=False), Cookie(version=0, name='username', value='%ED%95%9C%EA%B8%80', port=None, port_specified=False, domain='', domain_specified=False, domain_initial_dot=False, path='/', path_specified=True, secure=False, expires=None, discard=True, comment=None, comment_url=None, rest={'HttpOnly': None}, rfc2109=False)]>"
      ]
     },
     "execution_count": 122,
     "metadata": {},
     "output_type": "execute_result"
    }
   ],
   "source": [
    "sess.cookies"
   ]
  },
  {
   "cell_type": "code",
   "execution_count": 123,
   "id": "79ed79f4-df15-4044-ae55-247a817da494",
   "metadata": {},
   "outputs": [
    {
     "data": {
      "text/plain": [
       "{'Server': 'nginx', 'Date': 'Mon, 25 Sep 2023 02:58:06 GMT', 'Content-Type': 'text/html; charset=UTF-8', 'Content-Length': '123', 'Connection': 'keep-alive', 'X-Powered-By': 'PHP/7.4.33, PleskLin', 'Set-Cookie': 'loggedin=1, username=111', 'Vary': 'Accept-Encoding', 'Content-Encoding': 'gzip'}"
      ]
     },
     "execution_count": 123,
     "metadata": {},
     "output_type": "execute_result"
    }
   ],
   "source": [
    "newurl = 'https://pythonscraping.com/pages/cookies/welcome.php'\n",
    "resp = sess.post(newurl, {'username':'111', 'password':'password'})\n",
    "resp.headers"
   ]
  },
  {
   "cell_type": "code",
   "execution_count": 125,
   "id": "b4e10d3b-9040-4e90-8c21-ad4219b8cc4c",
   "metadata": {},
   "outputs": [
    {
     "data": {
      "text/plain": [
       "(\"Hey 111! Looks like you're still logged into the site!\",\n",
       " {'User-Agent': 'python-requests/2.31.0', 'Accept-Encoding': 'gzip, deflate', 'Accept': '*/*', 'Connection': 'keep-alive', 'Cookie': 'loggedin=1; username=111; loggedin=1; username=%ED%95%9C%EA%B8%80'})"
      ]
     },
     "execution_count": 125,
     "metadata": {},
     "output_type": "execute_result"
    }
   ],
   "source": [
    "resp = sess.get(urljoin(newurl, 'profile.php'))\n",
    "resp.text, resp.request.headers"
   ]
  },
  {
   "cell_type": "code",
   "execution_count": 126,
   "id": "c046531e-1271-413f-8e35-019b75f84a86",
   "metadata": {},
   "outputs": [],
   "source": [
    "#쿠키 지우기\n",
    "sess.cookies.clear()"
   ]
  },
  {
   "cell_type": "code",
   "execution_count": 166,
   "id": "3c2d7117-d732-4157-89e6-8458cb0eb75b",
   "metadata": {},
   "outputs": [],
   "source": [
    "#lms 예제\n",
    "\n",
    "c = '''\n",
    "\n",
    "'''\n",
    "\n",
    "cookies = dict()\n",
    "\n",
    "for l in c.splitlines():\n",
    "    if len(l) > 0:\n",
    "        cookies[l.split('\\t')[0]] = l.split('\\t')[1]"
   ]
  },
  {
   "cell_type": "code",
   "execution_count": 167,
   "id": "a865c953-c3ad-4501-9425-d6137fc0df39",
   "metadata": {},
   "outputs": [],
   "source": [
    "for k, v in cookies.items():\n",
    "    sess.cookies.set(k,v)"
   ]
  },
  {
   "cell_type": "code",
   "execution_count": 168,
   "id": "27c67d9a-b42b-4e4e-aae4-7de7ccfd3e08",
   "metadata": {
    "scrolled": true
   },
   "outputs": [
    {
     "data": {
      "text/plain": [
       "'<!DOCTYPE html>\\n<html lang=\"ko\">\\n<head>\\n    <meta charset=\"UTF-8\">\\n    <meta http-equiv=\"X-UA-Compatible\" content=\"IE=edge,chrome=1\">\\n    <meta name=\"viewport\" content=\"width=device-width, initial-scale=1, maximum-scale=1, shrink-to-fit=no\">\\n    <meta name=\"description\" content=\"\">\\n    <meta name=\"author\" content=\"\">\\n    <title> 로그인 : 고려대학교 지능정보SW아카데미</title>\\n    <link href=\"/static/vendors/login.css\" rel=\"stylesheet\">\\n    <link href=\"/static/vendors/bootstrap.css\" rel=\"stylesheet\">\\n    <link href=\"/static/vendors/style.css?v=1.7\" rel=\"stylesheet\">\\n    <link rel=\"shortcut icon\" href=\"/static/favicon/favicon.ico\" type=\"image/x-icon\">\\n    <link rel=\"icon\" href=\"/static/favicon/favicon.ico\" type=\"image/x-icon\">\\n    <style>\\n        .m-form .m-form__group {\\n        padding-top: 0;\\n        padding-bottom: 0;\\n        }\\n    </style>\\n</head>\\n<body>\\n    <div class=\"form-body without-side\">\\n        <div class=\"row\">\\n            <div class=\"img-holder\">\\n                <div class=\"bg\"></div>\\n            </div>\\n<div class=\"form-holder\">\\n    <div class=\"form-content\">\\n        <div class=\"form-items\">\\n            <h3><i class=\"fa fa-sign-in\"></i>Login</h3>\\n            <form action=\"/auth/login\" method=\"POST\" name=\"login_user_form\" class=\"m-form\">\\n                <input id=\"next\" name=\"next\" type=\"hidden\" value=\"/\">\\n                <div class=\"form-group m-form__group\">\\n                    <div class=\"m-input-icon m-input-icon--left\">\\n                        <div class=\"form-group m-form__group\">\\n    <div class=\"m-input-icon m-input-icon--left\">\\n        <input autocomplete=\"email\" class=\"form-control m-input\" id=\"email\" name=\"email\" placeholder=\"이메일을 입력하세요\" type=\"email\" value=\"\">\\n        <span class=\"m-input-icon__icon m-input-icon__icon--left\"><span><i\\n                class=\"flaticon-multimedia-2\"></i></span></span>\\n    </div>\\n</div>\\n\\n                        <span class=\"m-input-icon__icon m-input-icon__icon--left\"><span><i\\n                                class=\"flaticon-multimedia-2\"></i></span></span>\\n                    </div>\\n                </div>\\n                <div class=\"form-group m-form__group\">\\n                    <div class=\"m-input-icon m-input-icon--left\">\\n                        <div class=\"form-group m-form__group\">\\n    <div class=\"m-input-icon m-input-icon--left\">\\n        <input autocomplete=\"current-password\" class=\"form-control m-input\" id=\"password\" name=\"password\" placeholder=\"비밀번호를 입력하세요\" required type=\"password\" value=\"\">\\n        <span class=\"m-input-icon__icon m-input-icon__icon--left\"><span><i\\n                class=\"flaticon-multimedia-2\"></i></span></span>\\n    </div>\\n</div>\\n\\n                        <span class=\"m-input-icon__icon m-input-icon__icon--left\"><span><i\\n                                class=\"flaticon-lock\"></i></span></span>\\n                    </div>\\n                </div>\\n                <label class=\"m-checkbox m-checkbox--solid m-checkbox--state-brand\">\\n                    <input checked=\"\" class=\"form-control\" id=\"remember\" name=\"remember\" type=\"checkbox\"> 로그인 유지\\n                    <span></span>\\n                </label>\\n                <input id=\"button\" class=\"disbtn\", value=\"로그인\" onclick=\"this.disabled=true;this.parentNode.submit();\">                   <a href=\"/user/reset\">비밀번호를 잃어버리셨습니까?</a>\\n            </form>\\n        </div>\\n    </div>\\n</div>\\n        </div>\\n    </div>\\n    <script src=\"https://ajax.googleapis.com/ajax/libs/jquery/3.3.1/jquery.min.js\"></script>\\n    <script>\\n        if (!window.jQuery) {\\n            document.write(\\'<script src=/static/vendors/jquery.js><\\\\/script>\\');\\n        }\\n    </script>\\n    <script src=\"https://cdnjs.cloudflare.com/ajax/libs/popper.js/1.14.6/umd/popper.min.js\" integrity=\"sha384-wHAiFfRlMFy6i5SRaxvfOCifBUQy1xHdJ/yoi7FRNXMRBu5WHdZYu1hA6ZOblgut\" crossorigin=\"anonymous\"></script>\\n    <script src=\"https://stackpath.bootstrapcdn.com/bootstrap/4.2.1/js/bootstrap.min.js\" integrity=\"sha384-B0UglyR+jN6CkvvICOB2joaf5I4l3gm9GU6Hc1og6Ls7i6U/mkkaduKaBhlAXv9k\" crossorigin=\"anonymous\"></script>\\n    <script src=\"/static/vendors/basic.js\" ></script>\\n</body>\\n</html>'"
      ]
     },
     "execution_count": 168,
     "metadata": {},
     "output_type": "execute_result"
    }
   ],
   "source": [
    "resp = download('https://lms.sunde41.net')\n",
    "resp.text"
   ]
  },
  {
   "cell_type": "code",
   "execution_count": 169,
   "id": "7aba0b6f-5066-477c-9e0d-408b441ccd40",
   "metadata": {
    "scrolled": true
   },
   "outputs": [
    {
     "data": {
      "text/plain": [
       "{'User-Agent': 'python-requests/2.31.0', 'Accept-Encoding': 'gzip, deflate', 'Accept': '*/*', 'Connection': 'keep-alive'}"
      ]
     },
     "execution_count": 169,
     "metadata": {},
     "output_type": "execute_result"
    }
   ],
   "source": [
    "from requests import get\n",
    "resp = get('https://lms.sunde41.net')\n",
    "resp.request.headers"
   ]
  },
  {
   "cell_type": "code",
   "execution_count": 170,
   "id": "bf1e37f3-5b13-4696-bccf-d7cf8a063cf5",
   "metadata": {},
   "outputs": [
    {
     "data": {
      "text/plain": [
       "{'User-Agent': 'python-requests/2.31.0', 'Accept-Encoding': 'gzip, deflate', 'Accept': '*/*', 'Connection': 'keep-alive'}"
      ]
     },
     "execution_count": 170,
     "metadata": {},
     "output_type": "execute_result"
    }
   ],
   "source": [
    "resp = sess.get('https://lms.sunde41.net')\n",
    "resp.request.headers"
   ]
  },
  {
   "cell_type": "code",
   "execution_count": 138,
   "id": "e7a6ffda-2f60-4768-a3c5-92130007e446",
   "metadata": {
    "scrolled": true
   },
   "outputs": [
    {
     "data": {
      "text/plain": [
       "'<!DOCTYPE html>\\n<html lang=\"ko\">\\n<head>\\n    <meta charset=\"UTF-8\">\\n    <meta http-equiv=\"X-UA-Compatible\" content=\"IE=edge,chrome=1\">\\n    <meta name=\"viewport\" content=\"width=device-width, initial-scale=1, maximum-scale=1, shrink-to-fit=no\">\\n    <meta name=\"description\" content=\"\">\\n    <meta name=\"author\" content=\"\">\\n    <title> 로그인 : 고려대학교 지능정보SW아카데미</title>\\n    <link href=\"/static/vendors/login.css\" rel=\"stylesheet\">\\n    <link href=\"/static/vendors/bootstrap.css\" rel=\"stylesheet\">\\n    <link href=\"/static/vendors/style.css?v=1.7\" rel=\"stylesheet\">\\n    <link rel=\"shortcut icon\" href=\"/static/favicon/favicon.ico\" type=\"image/x-icon\">\\n    <link rel=\"icon\" href=\"/static/favicon/favicon.ico\" type=\"image/x-icon\">\\n    <style>\\n        .m-form .m-form__group {\\n        padding-top: 0;\\n        padding-bottom: 0;\\n        }\\n    </style>\\n</head>\\n<body>\\n    <div class=\"form-body without-side\">\\n        <div class=\"row\">\\n            <div class=\"img-holder\">\\n                <div class=\"bg\"></div>\\n            </div>\\n<div class=\"form-holder\">\\n    <div class=\"form-content\">\\n        <div class=\"form-items\">\\n            <h3><i class=\"fa fa-sign-in\"></i>Login</h3>\\n            <form action=\"/auth/login\" method=\"POST\" name=\"login_user_form\" class=\"m-form\">\\n                <input id=\"next\" name=\"next\" type=\"hidden\" value=\"/\">\\n                <div class=\"form-group m-form__group\">\\n                    <div class=\"m-input-icon m-input-icon--left\">\\n                        <div class=\"form-group m-form__group\">\\n    <div class=\"m-input-icon m-input-icon--left\">\\n        <input autocomplete=\"email\" class=\"form-control m-input\" id=\"email\" name=\"email\" placeholder=\"이메일을 입력하세요\" type=\"email\" value=\"\">\\n        <span class=\"m-input-icon__icon m-input-icon__icon--left\"><span><i\\n                class=\"flaticon-multimedia-2\"></i></span></span>\\n    </div>\\n</div>\\n\\n                        <span class=\"m-input-icon__icon m-input-icon__icon--left\"><span><i\\n                                class=\"flaticon-multimedia-2\"></i></span></span>\\n                    </div>\\n                </div>\\n                <div class=\"form-group m-form__group\">\\n                    <div class=\"m-input-icon m-input-icon--left\">\\n                        <div class=\"form-group m-form__group\">\\n    <div class=\"m-input-icon m-input-icon--left\">\\n        <input autocomplete=\"current-password\" class=\"form-control m-input\" id=\"password\" name=\"password\" placeholder=\"비밀번호를 입력하세요\" required type=\"password\" value=\"\">\\n        <span class=\"m-input-icon__icon m-input-icon__icon--left\"><span><i\\n                class=\"flaticon-multimedia-2\"></i></span></span>\\n    </div>\\n</div>\\n\\n                        <span class=\"m-input-icon__icon m-input-icon__icon--left\"><span><i\\n                                class=\"flaticon-lock\"></i></span></span>\\n                    </div>\\n                </div>\\n                <label class=\"m-checkbox m-checkbox--solid m-checkbox--state-brand\">\\n                    <input checked=\"\" class=\"form-control\" id=\"remember\" name=\"remember\" type=\"checkbox\"> 로그인 유지\\n                    <span></span>\\n                </label>\\n                <input id=\"button\" class=\"disbtn\", value=\"로그인\" onclick=\"this.disabled=true;this.parentNode.submit();\">                   <a href=\"/user/reset\">비밀번호를 잃어버리셨습니까?</a>\\n            </form>\\n        </div>\\n    </div>\\n</div>\\n        </div>\\n    </div>\\n    <script src=\"https://ajax.googleapis.com/ajax/libs/jquery/3.3.1/jquery.min.js\"></script>\\n    <script>\\n        if (!window.jQuery) {\\n            document.write(\\'<script src=/static/vendors/jquery.js><\\\\/script>\\');\\n        }\\n    </script>\\n    <script src=\"https://cdnjs.cloudflare.com/ajax/libs/popper.js/1.14.6/umd/popper.min.js\" integrity=\"sha384-wHAiFfRlMFy6i5SRaxvfOCifBUQy1xHdJ/yoi7FRNXMRBu5WHdZYu1hA6ZOblgut\" crossorigin=\"anonymous\"></script>\\n    <script src=\"https://stackpath.bootstrapcdn.com/bootstrap/4.2.1/js/bootstrap.min.js\" integrity=\"sha384-B0UglyR+jN6CkvvICOB2joaf5I4l3gm9GU6Hc1og6Ls7i6U/mkkaduKaBhlAXv9k\" crossorigin=\"anonymous\"></script>\\n    <script src=\"/static/vendors/basic.js\" ></script>\\n</body>\\n</html>'"
      ]
     },
     "execution_count": 138,
     "metadata": {},
     "output_type": "execute_result"
    }
   ],
   "source": [
    "resp = get('https://lms.sunde41.net', cookies=sess.cookies)\n",
    "resp.text"
   ]
  },
  {
   "cell_type": "code",
   "execution_count": 171,
   "id": "6dfcfbfc-db4a-49e9-825e-5af2cdb8cc98",
   "metadata": {},
   "outputs": [],
   "source": [
    "# 원래 로그인 절차\n",
    "resp = get('https://lms.sunde41.net')\n",
    "dom = BeautifulSoup(resp.text, 'lxml')"
   ]
  },
  {
   "cell_type": "code",
   "execution_count": 180,
   "id": "a8be57bf-9a26-44a7-8fc7-9821e4418a6b",
   "metadata": {},
   "outputs": [],
   "source": [
    "form = dom.select_one('form')"
   ]
  },
  {
   "cell_type": "code",
   "execution_count": 181,
   "id": "372f8ef0-6b7d-4004-a4fa-84c4ffe1cd40",
   "metadata": {},
   "outputs": [
    {
     "data": {
      "text/plain": [
       "[<input id=\"next\" name=\"next\" type=\"hidden\" value=\"/\"/>,\n",
       " <input autocomplete=\"email\" class=\"form-control m-input\" id=\"email\" name=\"email\" placeholder=\"이메일을 입력하세요\" type=\"email\" value=\"\"/>,\n",
       " <input autocomplete=\"current-password\" class=\"form-control m-input\" id=\"password\" name=\"password\" placeholder=\"비밀번호를 입력하세요\" required=\"\" type=\"password\" value=\"\"/>,\n",
       " <input checked=\"\" class=\"form-control\" id=\"remember\" name=\"remember\" type=\"checkbox\"/>]"
      ]
     },
     "execution_count": 181,
     "metadata": {},
     "output_type": "execute_result"
    }
   ],
   "source": [
    "#### 하 이거 뭐야!!!!!\n",
    "inputs = dom.select('form input[name]')\n",
    "inputs"
   ]
  },
  {
   "cell_type": "code",
   "execution_count": 182,
   "id": "f8da3031-95e4-4930-acea-4839c8c7d177",
   "metadata": {},
   "outputs": [
    {
     "data": {
      "text/plain": [
       "({'action': '/auth/login',\n",
       "  'method': 'POST',\n",
       "  'name': 'login_user_form',\n",
       "  'class': ['m-form']},\n",
       " 'https://lms.sunde41.net/auth/login')"
      ]
     },
     "execution_count": 182,
     "metadata": {},
     "output_type": "execute_result"
    }
   ],
   "source": [
    "form.attrs, urljoin(resp.request.url, form.attrs['action'])"
   ]
  },
  {
   "cell_type": "code",
   "execution_count": 183,
   "id": "0fb41f14-2081-4606-be46-59bc5cd1da4b",
   "metadata": {},
   "outputs": [
    {
     "name": "stdout",
     "output_type": "stream",
     "text": [
      "next=/\n",
      "email=\n",
      "password=\n",
      "remember=\n"
     ]
    }
   ],
   "source": [
    "for tag in inputs:\n",
    "    print(tag.attrs['name']+'='+(tag.attrs['value']\n",
    "                                 if tag.has_attr('value')\n",
    "                                 else ''))"
   ]
  },
  {
   "cell_type": "code",
   "execution_count": 165,
   "id": "53a6282e-1b68-41cc-9ea0-f28605fc9d46",
   "metadata": {},
   "outputs": [],
   "source": [
    "# LMS 로그인 -> 쿠키 활용\n",
    "# 수업게시판\n",
    "# 첨부자료가 있는 수업 목록만 추출\n",
    "# 첨부자료 링크로 추출"
   ]
  },
  {
   "cell_type": "code",
   "execution_count": null,
   "id": "04def87b-5def-42f9-8876-d97cc23b2bbf",
   "metadata": {},
   "outputs": [],
   "source": []
  }
 ],
 "metadata": {
  "kernelspec": {
   "display_name": "Python 3 (ipykernel)",
   "language": "python",
   "name": "python3"
  },
  "language_info": {
   "codemirror_mode": {
    "name": "ipython",
    "version": 3
   },
   "file_extension": ".py",
   "mimetype": "text/x-python",
   "name": "python",
   "nbconvert_exporter": "python",
   "pygments_lexer": "ipython3",
   "version": "3.10.1"
  }
 },
 "nbformat": 4,
 "nbformat_minor": 5
}
