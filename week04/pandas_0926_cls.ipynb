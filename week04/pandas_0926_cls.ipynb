{
 "cells": [
  {
   "cell_type": "code",
   "execution_count": 1,
   "id": "8fe6534c-c96d-4d83-a4da-00ce3b7c94cf",
   "metadata": {},
   "outputs": [],
   "source": [
    "import pandas as pd"
   ]
  },
  {
   "cell_type": "code",
   "execution_count": 2,
   "id": "87e4a52c-6636-40f3-a4ad-d2c751c32c84",
   "metadata": {},
   "outputs": [],
   "source": [
    "import seaborn as sns"
   ]
  },
  {
   "cell_type": "code",
   "execution_count": 3,
   "id": "b2c73684-c910-4f2f-a43a-06e7016394b0",
   "metadata": {},
   "outputs": [],
   "source": [
    "tips = sns.load_dataset('tips')"
   ]
  },
  {
   "cell_type": "code",
   "execution_count": 4,
   "id": "3a133431-c7a6-43d9-8db3-0bfc4286e40c",
   "metadata": {},
   "outputs": [
    {
     "data": {
      "text/plain": [
       "1708"
      ]
     },
     "execution_count": 4,
     "metadata": {},
     "output_type": "execute_result"
    }
   ],
   "source": [
    "#pandas에서 부족한 부분은 query(SQL)로 보완할 수 있다 => 결국, 판다스로 다 해결할 수있다. \n",
    "tips.size"
   ]
  },
  {
   "cell_type": "code",
   "execution_count": 5,
   "id": "9398f14d-0ccc-44b6-8b5c-8ba2592717a0",
   "metadata": {},
   "outputs": [
    {
     "data": {
      "text/plain": [
       "total_bill     float64\n",
       "tip            float64\n",
       "sex           category\n",
       "smoker        category\n",
       "day           category\n",
       "time          category\n",
       "size             int64\n",
       "dtype: object"
      ]
     },
     "execution_count": 5,
     "metadata": {},
     "output_type": "execute_result"
    }
   ],
   "source": [
    "#컬럼명을 패턴을 이용해서 잘 정해놓으면, 정규식을 쓸 수 있다.  \n",
    "#결국, 컬럼명을 잘 정하는게 첫번째 중요한 스텝이다. \n",
    "#두번째, 타입을 바꾸는게 중요하다. 타입에 따라서 기능이 다르기에.\n",
    "tips.dtypes"
   ]
  },
  {
   "cell_type": "code",
   "execution_count": 6,
   "id": "0894cb38-6c9a-4c1f-8f81-97c957b4049e",
   "metadata": {},
   "outputs": [],
   "source": [
    "#연습용 데이터 하나 더 가져올거임\n",
    "mpg = sns.load_dataset('mpg')"
   ]
  },
  {
   "cell_type": "code",
   "execution_count": 7,
   "id": "c6e281e0-fce3-41e7-b71d-2979714a0fdd",
   "metadata": {},
   "outputs": [
    {
     "data": {
      "text/plain": [
       "mpg             float64\n",
       "cylinders         int64\n",
       "displacement    float64\n",
       "horsepower      float64\n",
       "weight            int64\n",
       "acceleration    float64\n",
       "model_year        int64\n",
       "origin           object\n",
       "name             object\n",
       "dtype: object"
      ]
     },
     "execution_count": 7,
     "metadata": {},
     "output_type": "execute_result"
    }
   ],
   "source": [
    "mpg.dtypes"
   ]
  },
  {
   "cell_type": "code",
   "execution_count": 8,
   "id": "0ae7b579-50a3-4811-8f58-7f0e0440eb08",
   "metadata": {},
   "outputs": [],
   "source": [
    "#기본적으로 데이터 타입이 64이다. int64, float64, 문자열은 object 라고 한다. \n",
    "#category 라는 데이터 셋은 눈에보이기는 문자로 관리하지만, 내부적으로는 문자열도 숫자열도 아니라고 한다. \n",
    "#카테고리는 스키마의 기능을 일부 가지고 있는거다. \n",
    "#기본적으로, 판다스 데이터 타입은 int64, float64, object, category 이렇게 4가지 쓴다.\n",
    "#물론, 시계열 제외한거다. int64, float64는 넘파이에서 가져온거고, 오브젝트, 카테고리는 판다스에서 재정의한 데이터타입이다. \n"
   ]
  },
  {
   "cell_type": "code",
   "execution_count": 10,
   "id": "1eaf444e-9cf2-4667-a6c6-1a353f4e633f",
   "metadata": {},
   "outputs": [
    {
     "name": "stdout",
     "output_type": "stream",
     "text": [
      "<class 'pandas.core.frame.DataFrame'>\n",
      "RangeIndex: 244 entries, 0 to 243\n",
      "Data columns (total 7 columns):\n",
      " #   Column      Non-Null Count  Dtype   \n",
      "---  ------      --------------  -----   \n",
      " 0   total_bill  244 non-null    float64 \n",
      " 1   tip         244 non-null    float64 \n",
      " 2   sex         244 non-null    category\n",
      " 3   smoker      244 non-null    category\n",
      " 4   day         244 non-null    category\n",
      " 5   time        244 non-null    category\n",
      " 6   size        244 non-null    int64   \n",
      "dtypes: category(4), float64(2), int64(1)\n",
      "memory usage: 7.4 KB\n"
     ]
    }
   ],
   "source": [
    "# info 가 정말정말 중요하다. 처음시작하자마자 무조건 info를 쓸거다. 여기에 정말 많은 정보가 담겨있다. \n",
    "tips.info()"
   ]
  },
  {
   "cell_type": "code",
   "execution_count": 11,
   "id": "c8276f3e-c48f-4a12-ba49-16a9cd269af3",
   "metadata": {},
   "outputs": [],
   "source": [
    "#데이터 바꾸는 법 as / from / 파이썬에서는 문법자체가 없어서 메소드로 바꿔야한다고 한다.\n",
    "# pandas 에서는 as 형이 있는데, 넘파이에서 갖고 온거다. "
   ]
  },
  {
   "cell_type": "code",
   "execution_count": 12,
   "id": "e5ad9e9a-4f1c-496d-ba02-7e33d0609d9c",
   "metadata": {},
   "outputs": [],
   "source": [
    "import numpy as np"
   ]
  },
  {
   "cell_type": "code",
   "execution_count": 13,
   "id": "a5c50c12-2cf4-4630-8306-77e99afbf113",
   "metadata": {},
   "outputs": [],
   "source": [
    "a = np.array([1,2,3,4])"
   ]
  },
  {
   "cell_type": "code",
   "execution_count": 14,
   "id": "f5d09fa4-a106-4f43-b33e-8bc7ac795e50",
   "metadata": {},
   "outputs": [],
   "source": [
    "b = np.asfarray(a)"
   ]
  },
  {
   "cell_type": "code",
   "execution_count": 15,
   "id": "1a86ca03-d07d-4690-ad11-823df8b049df",
   "metadata": {},
   "outputs": [
    {
     "data": {
      "text/plain": [
       "array([1., 2., 3., 4.])"
      ]
     },
     "execution_count": 15,
     "metadata": {},
     "output_type": "execute_result"
    }
   ],
   "source": [
    "b"
   ]
  },
  {
   "cell_type": "code",
   "execution_count": 16,
   "id": "da98456a-bc94-4f0b-8547-3dd6f2ef0d5d",
   "metadata": {},
   "outputs": [
    {
     "data": {
      "text/plain": [
       "array([1., 2., 3., 4.])"
      ]
     },
     "execution_count": 16,
     "metadata": {},
     "output_type": "execute_result"
    }
   ],
   "source": [
    "a.astype('float64')"
   ]
  },
  {
   "cell_type": "code",
   "execution_count": 18,
   "id": "a8f040e2-950e-495b-9dcb-6cfa9b7f0ab7",
   "metadata": {},
   "outputs": [
    {
     "data": {
      "text/plain": [
       "0      2\n",
       "1      3\n",
       "2      3\n",
       "3      2\n",
       "4      4\n",
       "      ..\n",
       "239    3\n",
       "240    2\n",
       "241    2\n",
       "242    2\n",
       "243    2\n",
       "Name: size, Length: 244, dtype: int64"
      ]
     },
     "execution_count": 18,
     "metadata": {},
     "output_type": "execute_result"
    }
   ],
   "source": [
    "tips['size'].astype('int64') #numpy 문법에서 유래된거다. "
   ]
  },
  {
   "cell_type": "code",
   "execution_count": 19,
   "id": "6e4b5fdd-a2e9-4877-85fe-bcc3aad9132f",
   "metadata": {},
   "outputs": [],
   "source": [
    "#특히 판다스에서는 데이터타입을 바꿀 경우가 많다. "
   ]
  },
  {
   "cell_type": "code",
   "execution_count": 20,
   "id": "c8fe9b2b-06ae-4613-9cbe-7d9ad456a68c",
   "metadata": {},
   "outputs": [],
   "source": [
    "import inspect"
   ]
  },
  {
   "cell_type": "code",
   "execution_count": 21,
   "id": "814c55c6-fcb6-48e9-af4b-c6d5e618e45a",
   "metadata": {},
   "outputs": [
    {
     "name": "stdout",
     "output_type": "stream",
     "text": [
      "def load_dataset(name, cache=True, data_home=None, **kws):\n",
      "    \"\"\"Load an example dataset from the online repository (requires internet).\n",
      "\n",
      "    This function provides quick access to a small number of example datasets\n",
      "    that are useful for documenting seaborn or generating reproducible examples\n",
      "    for bug reports. It is not necessary for normal usage.\n",
      "\n",
      "    Note that some of the datasets have a small amount of preprocessing applied\n",
      "    to define a proper ordering for categorical variables.\n",
      "\n",
      "    Use :func:`get_dataset_names` to see a list of available datasets.\n",
      "\n",
      "    Parameters\n",
      "    ----------\n",
      "    name : str\n",
      "        Name of the dataset (``{name}.csv`` on\n",
      "        https://github.com/mwaskom/seaborn-data).\n",
      "    cache : boolean, optional\n",
      "        If True, try to load from the local cache first, and save to the cache\n",
      "        if a download is required.\n",
      "    data_home : string, optional\n",
      "        The directory in which to cache data; see :func:`get_data_home`.\n",
      "    kws : keys and values, optional\n",
      "        Additional keyword arguments are passed to passed through to\n",
      "        :func:`pandas.read_csv`.\n",
      "\n",
      "    Returns\n",
      "    -------\n",
      "    df : :class:`pandas.DataFrame`\n",
      "        Tabular data, possibly with some preprocessing applied.\n",
      "\n",
      "    \"\"\"\n",
      "    # A common beginner mistake is to assume that one's personal data needs\n",
      "    # to be passed through this function to be usable with seaborn.\n",
      "    # Let's provide a more helpful error than you would otherwise get.\n",
      "    if isinstance(name, pd.DataFrame):\n",
      "        err = (\n",
      "            \"This function accepts only strings (the name of an example dataset). \"\n",
      "            \"You passed a pandas DataFrame. If you have your own dataset, \"\n",
      "            \"it is not necessary to use this function before plotting.\"\n",
      "        )\n",
      "        raise TypeError(err)\n",
      "\n",
      "    url = f\"https://raw.githubusercontent.com/mwaskom/seaborn-data/master/{name}.csv\"\n",
      "\n",
      "    if cache:\n",
      "        cache_path = os.path.join(get_data_home(data_home), os.path.basename(url))\n",
      "        if not os.path.exists(cache_path):\n",
      "            if name not in get_dataset_names():\n",
      "                raise ValueError(f\"'{name}' is not one of the example datasets.\")\n",
      "            urlretrieve(url, cache_path)\n",
      "        full_path = cache_path\n",
      "    else:\n",
      "        full_path = url\n",
      "\n",
      "    df = pd.read_csv(full_path, **kws)\n",
      "\n",
      "    if df.iloc[-1].isnull().all():\n",
      "        df = df.iloc[:-1]\n",
      "\n",
      "    # Set some columns as a categorical type with ordered levels\n",
      "\n",
      "    if name == \"tips\":\n",
      "        df[\"day\"] = pd.Categorical(df[\"day\"], [\"Thur\", \"Fri\", \"Sat\", \"Sun\"])\n",
      "        df[\"sex\"] = pd.Categorical(df[\"sex\"], [\"Male\", \"Female\"])\n",
      "        df[\"time\"] = pd.Categorical(df[\"time\"], [\"Lunch\", \"Dinner\"])\n",
      "        df[\"smoker\"] = pd.Categorical(df[\"smoker\"], [\"Yes\", \"No\"])\n",
      "\n",
      "    elif name == \"flights\":\n",
      "        months = df[\"month\"].str[:3]\n",
      "        df[\"month\"] = pd.Categorical(months, months.unique())\n",
      "\n",
      "    elif name == \"exercise\":\n",
      "        df[\"time\"] = pd.Categorical(df[\"time\"], [\"1 min\", \"15 min\", \"30 min\"])\n",
      "        df[\"kind\"] = pd.Categorical(df[\"kind\"], [\"rest\", \"walking\", \"running\"])\n",
      "        df[\"diet\"] = pd.Categorical(df[\"diet\"], [\"no fat\", \"low fat\"])\n",
      "\n",
      "    elif name == \"titanic\":\n",
      "        df[\"class\"] = pd.Categorical(df[\"class\"], [\"First\", \"Second\", \"Third\"])\n",
      "        df[\"deck\"] = pd.Categorical(df[\"deck\"], list(\"ABCDEFG\"))\n",
      "\n",
      "    elif name == \"penguins\":\n",
      "        df[\"sex\"] = df[\"sex\"].str.title()\n",
      "\n",
      "    elif name == \"diamonds\":\n",
      "        df[\"color\"] = pd.Categorical(\n",
      "            df[\"color\"], [\"D\", \"E\", \"F\", \"G\", \"H\", \"I\", \"J\"],\n",
      "        )\n",
      "        df[\"clarity\"] = pd.Categorical(\n",
      "            df[\"clarity\"], [\"IF\", \"VVS1\", \"VVS2\", \"VS1\", \"VS2\", \"SI1\", \"SI2\", \"I1\"],\n",
      "        )\n",
      "        df[\"cut\"] = pd.Categorical(\n",
      "            df[\"cut\"], [\"Ideal\", \"Premium\", \"Very Good\", \"Good\", \"Fair\"],\n",
      "        )\n",
      "\n",
      "    elif name == \"taxis\":\n",
      "        df[\"pickup\"] = pd.to_datetime(df[\"pickup\"])\n",
      "        df[\"dropoff\"] = pd.to_datetime(df[\"dropoff\"])\n",
      "\n",
      "    elif name == \"seaice\":\n",
      "        df[\"Date\"] = pd.to_datetime(df[\"Date\"])\n",
      "\n",
      "    elif name == \"dowjones\":\n",
      "        df[\"Date\"] = pd.to_datetime(df[\"Date\"])\n",
      "\n",
      "    return df\n",
      "\n"
     ]
    }
   ],
   "source": [
    "print(inspect.getsource(sns.load_dataset))"
   ]
  },
  {
   "cell_type": "code",
   "execution_count": 22,
   "id": "58b77f3f-3ed3-4bb2-b18c-8620fe8898ad",
   "metadata": {},
   "outputs": [],
   "source": [
    "#형변환을 해야지만, 형에 따른 기능변화를 할 수 있다. "
   ]
  },
  {
   "cell_type": "code",
   "execution_count": 24,
   "id": "d37d0819-c069-4350-9dda-7dd5ec68c5f9",
   "metadata": {},
   "outputs": [
    {
     "data": {
      "text/plain": [
       "0      Chevrolet Chevelle Malibu\n",
       "1              Buick Skylark 320\n",
       "2             Plymouth Satellite\n",
       "3                  Amc Rebel Sst\n",
       "4                    Ford Torino\n",
       "                 ...            \n",
       "393              Ford Mustang Gl\n",
       "394                    Vw Pickup\n",
       "395                Dodge Rampage\n",
       "396                  Ford Ranger\n",
       "397                   Chevy S-10\n",
       "Name: name, Length: 398, dtype: object"
      ]
     },
     "execution_count": 24,
     "metadata": {},
     "output_type": "execute_result"
    }
   ],
   "source": [
    "mpg.name.str.title() #추가되는 문자열 메소드를 .str 로 쓸 수 있다. "
   ]
  },
  {
   "cell_type": "code",
   "execution_count": 25,
   "id": "6b31ad4d-2fe2-4102-8b0c-d75a58db7f78",
   "metadata": {},
   "outputs": [],
   "source": [
    "#극단적으로 최적화하는 도구는 넘파이. 판다스는 쉽게쉽게 쓸 수있다."
   ]
  },
  {
   "cell_type": "code",
   "execution_count": 26,
   "id": "2bb8e854-eccc-45e8-a485-d409eb793b07",
   "metadata": {},
   "outputs": [],
   "source": [
    "#tidy data는 관계형 DB를 통계적으로 해석한것이다."
   ]
  },
  {
   "cell_type": "code",
   "execution_count": 27,
   "id": "7679f06b-8d25-4b29-bc23-3bc4683e0b24",
   "metadata": {},
   "outputs": [],
   "source": [
    "#Deleting Bad Data"
   ]
  },
  {
   "cell_type": "code",
   "execution_count": 28,
   "id": "5be01cf4-2eee-4461-a934-7b5f5a14cad2",
   "metadata": {},
   "outputs": [],
   "source": [
    "#나쁜 데이터인지 어떻게 아는걸까?"
   ]
  },
  {
   "cell_type": "code",
   "execution_count": 30,
   "id": "05a90eb7-590c-44e0-a36d-36b7632d6578",
   "metadata": {},
   "outputs": [
    {
     "data": {
      "text/plain": [
       "sex\n",
       "Male      157\n",
       "Female     87\n",
       "Name: count, dtype: int64"
      ]
     },
     "execution_count": 30,
     "metadata": {},
     "output_type": "execute_result"
    }
   ],
   "source": [
    "tips.sex.value_counts()"
   ]
  },
  {
   "cell_type": "code",
   "execution_count": 31,
   "id": "7005bbda-de41-469b-8424-573230b88b88",
   "metadata": {},
   "outputs": [],
   "source": [
    "#남자 여자말고 가능한 모든 경우를 다 보고 싶다면? \n",
    "#잘못된 데이터 여부를 아는 첫번째 테그닉은 : 히스토그램 을 그리는건데(각 데이터마다 몇개인지 알수있다), \n",
    "#value_counts 를 먼저 하고 히스토그램을 할 수 있다. \n",
    "#value_counts 를 모르면"
   ]
  },
  {
   "cell_type": "code",
   "execution_count": 33,
   "id": "1b15df53-d8e0-4ac2-a560-318dfa6b8d3b",
   "metadata": {},
   "outputs": [],
   "source": [
    "# np.histogram(tips.sex) #TypeError 나옴"
   ]
  },
  {
   "cell_type": "code",
   "execution_count": 34,
   "id": "f17fb3e9-1561-4d9c-bebd-42c419dab630",
   "metadata": {},
   "outputs": [
    {
     "data": {
      "text/plain": [
       "array(['Female', 'Male'], dtype=object)"
      ]
     },
     "execution_count": 34,
     "metadata": {},
     "output_type": "execute_result"
    }
   ],
   "source": [
    "np.unique(tips.sex)"
   ]
  },
  {
   "cell_type": "code",
   "execution_count": 35,
   "id": "1315cecd-b1e8-4522-8b63-786d1e97f67e",
   "metadata": {},
   "outputs": [
    {
     "data": {
      "text/plain": [
       "(array(['Female', 'Male'], dtype=object), array([ 87, 157], dtype=int64))"
      ]
     },
     "execution_count": 35,
     "metadata": {},
     "output_type": "execute_result"
    }
   ],
   "source": [
    "#unique 를 확장시키면?\n",
    "np.unique(tips.sex, return_counts=True)"
   ]
  },
  {
   "cell_type": "code",
   "execution_count": 36,
   "id": "c86d5773-f0fe-4d4d-89a3-55b07adfdde6",
   "metadata": {},
   "outputs": [],
   "source": [
    "#결국, 카테고리 or 문자열 데이터일때 value_counts 로 잘못된 데이터 여부를 알 수 있는 첫번째 방법이다. "
   ]
  },
  {
   "cell_type": "code",
   "execution_count": 37,
   "id": "ecb19ffd-2f6e-44bf-bf6a-8bed96ec89fc",
   "metadata": {},
   "outputs": [
    {
     "data": {
      "text/plain": [
       "10.0"
      ]
     },
     "execution_count": 37,
     "metadata": {},
     "output_type": "execute_result"
    }
   ],
   "source": [
    "#숫자형이 잘못됐는지는 범위를 보면 된다. \n",
    "tips.tip.max()"
   ]
  },
  {
   "cell_type": "code",
   "execution_count": 38,
   "id": "f8eda6e5-943b-4e55-bc17-e417fd566507",
   "metadata": {},
   "outputs": [
    {
     "data": {
      "text/plain": [
       "1.0"
      ]
     },
     "execution_count": 38,
     "metadata": {},
     "output_type": "execute_result"
    }
   ],
   "source": [
    "tips.tip.min()"
   ]
  },
  {
   "cell_type": "code",
   "execution_count": 39,
   "id": "f78a7050-1182-4709-bb32-f84b8537d53e",
   "metadata": {},
   "outputs": [
    {
     "data": {
      "text/plain": [
       "tip\n",
       "2.00    33\n",
       "3.00    23\n",
       "4.00    12\n",
       "5.00    10\n",
       "2.50    10\n",
       "        ..\n",
       "4.34     1\n",
       "1.56     1\n",
       "5.20     1\n",
       "2.60     1\n",
       "1.75     1\n",
       "Name: count, Length: 123, dtype: int64"
      ]
     },
     "execution_count": 39,
     "metadata": {},
     "output_type": "execute_result"
    }
   ],
   "source": [
    "#이걸 value_counts 하면 효용성이 떨어짐. 연속된 숫자라서 ... \n",
    "tips.tip.value_counts()\n",
    "#다형성 개념이 여기에 있다...?"
   ]
  },
  {
   "cell_type": "code",
   "execution_count": 40,
   "id": "9391b21d-157b-462f-b85c-465793a33ac2",
   "metadata": {},
   "outputs": [
    {
     "data": {
      "text/plain": [
       "count    244.000000\n",
       "mean       2.998279\n",
       "std        1.383638\n",
       "min        1.000000\n",
       "25%        2.000000\n",
       "50%        2.900000\n",
       "75%        3.562500\n",
       "max       10.000000\n",
       "Name: tip, dtype: float64"
      ]
     },
     "execution_count": 40,
     "metadata": {},
     "output_type": "execute_result"
    }
   ],
   "source": [
    "tips.tip.describe() #숫자일때"
   ]
  },
  {
   "cell_type": "code",
   "execution_count": 41,
   "id": "579cea4c-1907-46e9-a1c6-4e35d46143ae",
   "metadata": {},
   "outputs": [
    {
     "data": {
      "text/plain": [
       "count      244\n",
       "unique       2\n",
       "top       Male\n",
       "freq       157\n",
       "Name: sex, dtype: object"
      ]
     },
     "execution_count": 41,
     "metadata": {},
     "output_type": "execute_result"
    }
   ],
   "source": [
    "tips.sex.describe() #문자일때"
   ]
  },
  {
   "cell_type": "code",
   "execution_count": null,
   "id": "b880bf7e-636a-4149-affd-760d98e767ae",
   "metadata": {},
   "outputs": [],
   "source": [
    "#데이터 타입에 따라서 결과가 다르다는걸 알 수 있다. "
   ]
  },
  {
   "cell_type": "code",
   "execution_count": 42,
   "id": "94af3e10-76fd-428c-aa1a-7c4897bb37bf",
   "metadata": {},
   "outputs": [],
   "source": [
    "#선생님은 info 부터 -> Top ->Down 으로 보는걸 선호한다고 한다. "
   ]
  },
  {
   "cell_type": "code",
   "execution_count": 43,
   "id": "231f2a16-9740-4b68-914f-673cdd9d5306",
   "metadata": {},
   "outputs": [],
   "source": [
    "#Object 형은 제약조건이 없다. \n",
    "#카테고리 형은 이 카테고리에만 지정된 형태로만 들어갈 수 있다. (스키마 개념이 있다는거임)"
   ]
  },
  {
   "cell_type": "code",
   "execution_count": 44,
   "id": "2e310308-e179-41ee-9d0c-69810421b698",
   "metadata": {},
   "outputs": [
    {
     "data": {
      "text/plain": [
       "0      1.699\n",
       "1      1.034\n",
       "2      2.101\n",
       "3      2.368\n",
       "4      2.459\n",
       "       ...  \n",
       "239    2.903\n",
       "240    2.718\n",
       "241    2.267\n",
       "242    1.782\n",
       "243    1.878\n",
       "Name: total_bill, Length: 244, dtype: float64"
      ]
     },
     "execution_count": 44,
     "metadata": {},
     "output_type": "execute_result"
    }
   ],
   "source": [
    "tips.total_bill.map(lambda x:x/10) #for 문 돌리는거말고 이렇게 해라. 한방에 처리할 수 있는...."
   ]
  },
  {
   "cell_type": "code",
   "execution_count": 45,
   "id": "9ce3ec55-bde7-4e77-8326-cde80b829c59",
   "metadata": {},
   "outputs": [],
   "source": [
    "#map 은 전체값을 한번에 변화시킬때 쓰고, reduce 는 전체 값을 하나의 값으로 축약. filter 는 조건으로 보는거. "
   ]
  },
  {
   "cell_type": "code",
   "execution_count": null,
   "id": "7255b288-0d16-4d62-a866-ea6b0e0f6bcc",
   "metadata": {},
   "outputs": [],
   "source": []
  }
 ],
 "metadata": {
  "kernelspec": {
   "display_name": "Python 3 (ipykernel)",
   "language": "python",
   "name": "python3"
  },
  "language_info": {
   "codemirror_mode": {
    "name": "ipython",
    "version": 3
   },
   "file_extension": ".py",
   "mimetype": "text/x-python",
   "name": "python",
   "nbconvert_exporter": "python",
   "pygments_lexer": "ipython3",
   "version": "3.10.1"
  },
  "widgets": {
   "application/vnd.jupyter.widget-state+json": {
    "state": {},
    "version_major": 2,
    "version_minor": 0
   }
  }
 },
 "nbformat": 4,
 "nbformat_minor": 5
}
