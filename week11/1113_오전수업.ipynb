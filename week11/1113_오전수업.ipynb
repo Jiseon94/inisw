{
 "cells": [
  {
   "cell_type": "code",
   "execution_count": 4,
   "metadata": {},
   "outputs": [],
   "source": [
    "import numpy as np\n",
    "import matplotlib.pyplot as plt"
   ]
  },
  {
   "cell_type": "code",
   "execution_count": 5,
   "metadata": {},
   "outputs": [],
   "source": [
    "X = np.array([[0,0],\n",
    "              [0,1],\n",
    "              [1,0],\n",
    "              [1,1]])\n",
    "# Category = {0:Fals, 1:True}\n",
    "Y = np.array([[1,0],\n",
    "              [0,1],\n",
    "              [0,1],\n",
    "              [0,1]])"
   ]
  },
  {
   "cell_type": "code",
   "execution_count": 6,
   "metadata": {},
   "outputs": [],
   "source": [
    "# activate function 필요해서 함수 하나 만들거임\n",
    "# 하지말자고 하심...."
   ]
  },
  {
   "cell_type": "code",
   "execution_count": 36,
   "metadata": {},
   "outputs": [
    {
     "data": {
      "text/plain": [
       "array([[3],\n",
       "       [4]])"
      ]
     },
     "execution_count": 36,
     "metadata": {},
     "output_type": "execute_result"
    }
   ],
   "source": [
    "np.max(np.array([[1,2,3],[2,3,4]]), axis=1, keepdims=True)"
   ]
  },
  {
   "cell_type": "code",
   "execution_count": 43,
   "metadata": {},
   "outputs": [],
   "source": [
    "# softmax 하나 만들어줄거임.\n",
    "def softmax(A):\n",
    "    A - np.max(A, axis=1, keepdims=True)\n",
    "    return np.exp(A)/np.sum(np.exp(A), axis=1, keepdims=True)\n"
   ]
  },
  {
   "cell_type": "code",
   "execution_count": 44,
   "metadata": {},
   "outputs": [],
   "source": [
    "#logistic 도 하나 만들어줄거임.\n",
    "def logistic(A):\n",
    "    return 1/(1+np.exp(-A))"
   ]
  },
  {
   "cell_type": "code",
   "execution_count": 50,
   "metadata": {},
   "outputs": [],
   "source": [
    "W = np.random.rand(2,2) # X를 2개 받아서 Y를 2개 만들어야함.\n",
    "B = np.random.rand(1,2) # Bias\n",
    "\n",
    "lr = 1e-3\n",
    "epoch = 500000\n",
    "\n",
    "history = list()\n",
    "\n",
    "for i in range(epoch):\n",
    "    Z = logistic(X.dot(W)+B)\n",
    "    # Z = X.dot(W) + B\n",
    "    Yhat = softmax(Z)\n",
    "\n",
    "    # if i%100 == 0:\n",
    "    history.append(-np.sum(Y*np.log(Yhat+1e-100)))\n",
    "\n",
    "    dY = -(Y-Yhat)\n",
    "    dZ = logistic(dY*(1-dY))\n",
    "    W = W - lr*X.T.dot(dZ*dY)\n",
    "    B = B - lr*np.sum(dZ*dY, axis=0)\n"
   ]
  },
  {
   "cell_type": "code",
   "execution_count": 51,
   "metadata": {},
   "outputs": [
    {
     "data": {
      "text/plain": [
       "array([[0.40111634, 0.59888366],\n",
       "       [0.26894142, 0.73105858],\n",
       "       [0.26894142, 0.73105858],\n",
       "       [0.26894142, 0.73105858]])"
      ]
     },
     "execution_count": 51,
     "metadata": {},
     "output_type": "execute_result"
    }
   ],
   "source": [
    "Yhat"
   ]
  },
  {
   "cell_type": "code",
   "execution_count": 52,
   "metadata": {},
   "outputs": [
    {
     "data": {
      "text/plain": [
       "array([[False,  True],\n",
       "       [False,  True],\n",
       "       [False,  True],\n",
       "       [False,  True]])"
      ]
     },
     "execution_count": 52,
     "metadata": {},
     "output_type": "execute_result"
    }
   ],
   "source": [
    "softmax(X.dot(W)+B) > .5"
   ]
  },
  {
   "cell_type": "code",
   "execution_count": 53,
   "metadata": {},
   "outputs": [
    {
     "data": {
      "text/plain": [
       "[<matplotlib.lines.Line2D at 0x1b61242fe80>]"
      ]
     },
     "execution_count": 53,
     "metadata": {},
     "output_type": "execute_result"
    },
    {
     "data": {
      "image/png": "[encoded data removed]",
      "text/plain": [
       "<Figure size 640x480 with 1 Axes>"
      ]
     },
     "metadata": {},
     "output_type": "display_data"
    }
   ],
   "source": [
    "plt.plot(range(len(history)), history)"
   ]
  },
  {
   "cell_type": "code",
   "execution_count": null,
   "metadata": {},
   "outputs": [],
   "source": []
  }
 ],
 "metadata": {
  "kernelspec": {
   "display_name": "Python 3",
   "language": "python",
   "name": "python3"
  },
  "language_info": {
   "codemirror_mode": {
    "name": "ipython",
    "version": 3
   },
   "file_extension": ".py",
   "mimetype": "text/x-python",
   "name": "python",
   "nbconvert_exporter": "python",
   "pygments_lexer": "ipython3",
   "version": "3.10.1"
  }
 },
 "nbformat": 4,
 "nbformat_minor": 2
}
