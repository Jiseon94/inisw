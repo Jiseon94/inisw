{
 "cells": [
  {
   "cell_type": "code",
   "execution_count": 5,
   "id": "4a93bb2b-e1cc-484d-90d2-aee7b178eb0c",
   "metadata": {},
   "outputs": [],
   "source": [
    "import re\n",
    "from os import listdir\n",
    "\n",
    "path = 'naver'\n",
    "\n",
    "def ngram(s, n=2):\n",
    "    rst = list()\n",
    "    for i in range(len(s)-(n-1)):\n",
    "        rst.append(''.join(s[i:i+n]))\n",
    "    return rst\n",
    "\n",
    "def fileids(path, ext='txt'):\n",
    "    files = list(filter(lambda f:re.search(f'{ext}$', f),\n",
    "                       listdir(path)))\n",
    "    return list(map(lambda f:f'{path}/{f}', files))"
   ]
  },
  {
   "cell_type": "code",
   "execution_count": 6,
   "id": "573a3b4e-f1e3-447e-a7c7-7ff4659ffa34",
   "metadata": {},
   "outputs": [],
   "source": [
    "from collections import Counter\n",
    "\n",
    "gram1 = list()\n",
    "gram2 = list()\n",
    "gram3 = list()\n",
    "gram4 = list()\n",
    "\n",
    "for f in fileids('naver'):\n",
    "    with open(f, 'r', encoding='utf8') as fp:\n",
    "        doc = re.sub(r'\\s+', ' ', fp.read())\n",
    "        gram1.extend(ngram(doc, 1))\n",
    "        gram2.extend(ngram(doc, 2))\n",
    "        gram3.extend(ngram(doc, 3))\n",
    "        gram4.extend(ngram(doc, 4))\n",
    "        \n",
    "gram1 = Counter(gram1)\n",
    "gram2 = Counter(gram2)\n",
    "gram3 = Counter(gram3)\n",
    "gram4 = Counter(gram4)"
   ]
  },
  {
   "cell_type": "code",
   "execution_count": 7,
   "id": "1bf689b7-a7d6-4f61-87e3-959044b77e19",
   "metadata": {},
   "outputs": [
    {
     "data": {
      "text/plain": [
       "(1546, 35495, 126100, 256476)"
      ]
     },
     "execution_count": 7,
     "metadata": {},
     "output_type": "execute_result"
    }
   ],
   "source": [
    "len(gram1), len(gram2), len(gram3), len(gram4)"
   ]
  },
  {
   "cell_type": "code",
   "execution_count": 8,
   "id": "cb0c5feb-bd2d-4ee9-973b-4a4c84666d3d",
   "metadata": {},
   "outputs": [],
   "source": [
    "'코스피가 이스라엘-팔레스타인 전쟁에 따른 국제정세 불안 속에서도 장초반 1% 넘게 오르고 있다.'\n",
    "data = re.sub(r'\\s', '', '코스피가 이스라엘-팔레스타인 전쟁에 따른 국제정세 불안 속에서도 장초반 1% 넘게 오르고 있다.')"
   ]
  },
  {
   "cell_type": "code",
   "execution_count": 11,
   "id": "f8eaec9d-b2ec-418f-a150-06ce4dacf2db",
   "metadata": {},
   "outputs": [
    {
     "data": {
      "text/plain": [
       "' '"
      ]
     },
     "execution_count": 11,
     "metadata": {},
     "output_type": "execute_result"
    }
   ],
   "source": [
    "#다음글자가 ' '인지 보는 함수\n",
    "#     => 확률적으로 가장 큰 다음글자를 return\n",
    "# N-gram(bigram;(A,B*)/(A*), trigram;(A,B,C*)/(A,B*))\n",
    "def spacing(s):\n",
    "    gram = {1:gram1, 2:gram2, 3:gram3, 4:gram4}\n",
    "    given = gram[len(s)]\n",
    "    candi = gram[len(s)+1]\n",
    "\n",
    "    c = dict(filter(lambda r:re.match(s, r[0]), candi.items()))\n",
    "\n",
    "    maxkey = ' '\n",
    "    if len(c) > 0:\n",
    "        maxkey = max(c, key=c.get)\n",
    "        # print(c)\n",
    "        # print(maxkey, c[maxkey])\n",
    "\n",
    "    return maxkey\n",
    "spacing('학교')[-1]"
   ]
  },
  {
   "cell_type": "code",
   "execution_count": 13,
   "id": "be7f296c-21a2-452c-99d1-b2a3886e2493",
   "metadata": {},
   "outputs": [
    {
     "data": {
      "text/plain": [
       "' 한번 저지른일 은되 돌릴 수 없다며 강하게 방류 중 단을 요구하고 있습니다.'"
      ]
     },
     "execution_count": 13,
     "metadata": {},
     "output_type": "execute_result"
    }
   ],
   "source": [
    "N = 2\n",
    "rst = ''\n",
    "data = '한 번 저지른 일은 되돌릴 수 없다며 강하게 방류 중단을 요구하고 있습니다.'.replace(' ', '')\n",
    "for i in range(len(data)):\n",
    "    if i < N:\n",
    "        if N > 1:\n",
    "            key = rst[-N:] if len(rst)>1 else data[:i+1]\n",
    "            if spacing(key)[-1] == ' ':\n",
    "                rst += ' '\n",
    "        rst += data[i]\n",
    "    else:\n",
    "        if spacing(rst[-N:])[-1] == ' ':\n",
    "            rst += ' '\n",
    "        rst += data[i]\n",
    "rst"
   ]
  },
  {
   "cell_type": "code",
   "execution_count": 14,
   "id": "2a2b8d8b-06ff-473f-ae2b-6fed6436c402",
   "metadata": {},
   "outputs": [],
   "source": [
    "# 형태소+형태소+형태소 => 어절\n",
    "# 고려대는, 고려대에서는, 고려대와, 고려대로, ...\n",
    "# Perplexity(고려대에서는) = P(려|고)*P(대|고려)*P(에|고려대)*...\n",
    "#                      => (P(고려)/P(고))*(P(고려대)/P(고려))*...\n",
    "#                      => P(고려대에서는)/P(고) > P(고려대)/P(고)"
   ]
  },
  {
   "cell_type": "code",
   "execution_count": 16,
   "id": "c70b6034-b1ac-4fb7-985c-2b22139ab513",
   "metadata": {},
   "outputs": [],
   "source": [
    "from nltk.tokenize import word_tokenize, regexp_tokenize\n",
    "\n",
    "word = list()\n",
    "for f in fileids('naver'):\n",
    "    with open(f, 'r', encoding='utf8') as fp:\n",
    "        word.extend(regexp_tokenize(re.sub(r'\\s+', ' ', fp.read()),\n",
    "                                   r'\\b\\w+\\b'))\n",
    "word = Counter(word)        "
   ]
  },
  {
   "cell_type": "code",
   "execution_count": 17,
   "id": "d35987aa-50e9-41f3-8d0c-83ae29514181",
   "metadata": {},
   "outputs": [],
   "source": [
    "#word로부터 s로 시작하는 모든 빈도의 합 return\n",
    "def find(s):\n",
    "    return sum(dict(filter(lambda r:r[0].startswith(s),\n",
    "                          word.items())\n",
    "                   ).values())"
   ]
  },
  {
   "cell_type": "code",
   "execution_count": 18,
   "id": "50006498-5a16-4098-a83f-b742031bcc64",
   "metadata": {},
   "outputs": [
    {
     "name": "stdout",
     "output_type": "stream",
     "text": [
      "말했 0.5450236966824644\n",
      "놔둠\n",
      "말했다 0.48578199052132703\n",
      "자름\n"
     ]
    }
   ],
   "source": [
    "key = '말했다'\n",
    "before = 0.0\n",
    "for i in range(1, len(key)):\n",
    "    p = find(key[0:i+1])/find(key[0])\n",
    "    print(key[:i+1], find(key[0:i+1])/find(key[0]))\n",
    "    print('자름' if before > p else '놔둠')\n",
    "    before = p"
   ]
  },
  {
   "cell_type": "markdown",
   "id": "2c91d06f-1b18-4c19-97bb-d1917e8c7871",
   "metadata": {},
   "source": [
    "# Branching Entropy"
   ]
  },
  {
   "cell_type": "code",
   "execution_count": 25,
   "id": "c042cbda-af2c-419b-a613-cbcecf544300",
   "metadata": {},
   "outputs": [],
   "source": [
    "def findkey(s):\n",
    "    return list(\n",
    "                set(\n",
    "                    list(\n",
    "                    map(lambda k:k[:len(s)+1],\n",
    "                        list(dict(filter(lambda r:r[0].startswith(s),\n",
    "                                     word.items())\n",
    "                             ).keys()\n",
    "                        )))\n",
    "                )\n",
    "           )"
   ]
  },
  {
   "cell_type": "code",
   "execution_count": 26,
   "id": "19385a1a-4eae-432d-bee5-ed5d9128770c",
   "metadata": {},
   "outputs": [
    {
     "name": "stdout",
     "output_type": "stream",
     "text": [
      "아 3.109258778586353 자름\n",
      "아르 1.5498260458782016 냅둠\n",
      "아르헨 0.0 냅둠\n",
      "아르헨티 0.0 냅둠\n",
      "아르헨티나 0.0 냅둠\n"
     ]
    }
   ],
   "source": [
    "from math import log\n",
    "\n",
    "key = '아르헨티나'\n",
    "before = 0.0\n",
    "for i in range(len(key)):\n",
    "    total = 0.0\n",
    "    for k in findkey(key[:i+1]):\n",
    "        p = find(k)/find(key[:i+1])\n",
    "    #     print(k, -p*log(p))\n",
    "        total += -p*log(p)\n",
    "    print(key[:i+1], total, '자름' if before < total else '냅둠')\n",
    "    before = total"
   ]
  },
  {
   "cell_type": "code",
   "execution_count": 27,
   "id": "be23564f-721c-469d-964b-b0b6b10a1c12",
   "metadata": {},
   "outputs": [
    {
     "data": {
      "text/plain": [
       "[]"
      ]
     },
     "execution_count": 27,
     "metadata": {},
     "output_type": "execute_result"
    }
   ],
   "source": [
    "findkey('아르헨티나')"
   ]
  },
  {
   "cell_type": "code",
   "execution_count": 28,
   "id": "e07edd88-27ba-4950-8ce9-400d678238e4",
   "metadata": {},
   "outputs": [
    {
     "data": {
      "text/plain": [
       "{'l o w </w>': 5,\n",
       " 'l o w e s t </w>': 2,\n",
       " 'n e w e r </w>': 6,\n",
       " 'w i d e r </w>': 3}"
      ]
     },
     "execution_count": 28,
     "metadata": {},
     "output_type": "execute_result"
    }
   ],
   "source": [
    "raw = '''\n",
    "low low low low low lowest lowest newer newer\n",
    "newer newer newer newer wider wider wider\n",
    "'''\n",
    "\n",
    "# 단어 = 어절\n",
    "data = dict()\n",
    "for k, v in Counter(raw.split()).items():\n",
    "    data[' '.join(tuple(k))+' </w>'] = v\n",
    "data"
   ]
  },
  {
   "cell_type": "code",
   "execution_count": 30,
   "id": "98056fe8-d575-4658-be83-d1006680c54e",
   "metadata": {},
   "outputs": [],
   "source": [
    "def findpair(d, n=2):\n",
    "    rst = dict()\n",
    "\n",
    "    for k, v in d.items():\n",
    "        # 'l o w </w>' => ['l', 'o', 'w', '</w>']\n",
    "        k = k.split()\n",
    "        for i in range(len(k)-(n-1)):\n",
    "            key = ' '.join(k[i:i+n])\n",
    "            if key in rst:\n",
    "                rst[key] += v\n",
    "            else:\n",
    "                rst[key] = v\n",
    "    return rst"
   ]
  },
  {
   "cell_type": "code",
   "execution_count": 31,
   "id": "90bba503-0682-4562-a952-ee5118250ccf",
   "metadata": {},
   "outputs": [],
   "source": [
    "keys = findpair(data)\n",
    "best = max(keys, key=keys.get)"
   ]
  },
  {
   "cell_type": "code",
   "execution_count": 32,
   "id": "0cc5100b-7a72-49ab-ac95-bac8c58dceb3",
   "metadata": {},
   "outputs": [],
   "source": [
    "rst = dict()\n",
    "for k, v in data.items():\n",
    "    rst[re.sub(best, best.replace(' ',''), k)] = v"
   ]
  },
  {
   "cell_type": "code",
   "execution_count": 33,
   "id": "c3847d04-1fd9-4be8-8984-749eb6b2b317",
   "metadata": {},
   "outputs": [
    {
     "name": "stdout",
     "output_type": "stream",
     "text": [
      "e r {'l o w </w>': 5, 'l o w e s t </w>': 2, 'n e w er </w>': 6, 'w i d er </w>': 3}\n",
      "er </w> {'l o w </w>': 5, 'l o w e s t </w>': 2, 'n e w er</w>': 6, 'w i d er</w>': 3}\n",
      "l o {'lo w </w>': 5, 'lo w e s t </w>': 2, 'n e w er</w>': 6, 'w i d er</w>': 3}\n",
      "lo w {'low </w>': 5, 'low e s t </w>': 2, 'n e w er</w>': 6, 'w i d er</w>': 3}\n",
      "n e {'low </w>': 5, 'low e s t </w>': 2, 'ne w er</w>': 6, 'w i d er</w>': 3}\n"
     ]
    }
   ],
   "source": [
    "for _ in range(5):\n",
    "    keys = findpair(data)\n",
    "    best = max(keys, key=keys.get)\n",
    "\n",
    "    rst = dict()\n",
    "    for k, v in data.items():\n",
    "        rst[re.sub(best, best.replace(' ', ''), k)] = v\n",
    "\n",
    "    data = rst\n",
    "    print(best, rst)"
   ]
  },
  {
   "cell_type": "code",
   "execution_count": 34,
   "id": "fe4f8e69-163f-48a8-a0c5-6ac0551fe566",
   "metadata": {},
   "outputs": [
    {
     "data": {
      "text/plain": [
       "[['low', '</w>'],\n",
       " ['low', 'e', 's', 't', '</w>'],\n",
       " ['ne', 'w', 'er</w>'],\n",
       " ['w', 'i', 'd', 'er</w>']]"
      ]
     },
     "execution_count": 34,
     "metadata": {},
     "output_type": "execute_result"
    }
   ],
   "source": [
    "[k.split() for k in data]"
   ]
  },
  {
   "cell_type": "code",
   "execution_count": 35,
   "id": "de19cff7-8c8f-4fda-9af6-66df6d1d5b75",
   "metadata": {},
   "outputs": [
    {
     "name": "stdout",
     "output_type": "stream",
     "text": [
      "으로\n",
      "에서\n",
      "했다\n",
      "니다\n",
      "하는\n",
      "있다\n",
      "하고\n",
      "20\n",
      "이다\n",
      "습니다\n",
      "한다\n",
      "00\n",
      "지난\n",
      "있는\n",
      "이라\n",
      "까지\n",
      "지만\n",
      "면서\n",
      "서울\n",
      "10\n",
      "후보\n",
      "한국\n",
      "부터\n",
      "연구\n",
      "정부\n",
      "대한\n",
      "들이\n",
      "대표\n",
      "었다\n",
      "하기\n",
      "5일\n",
      "에는\n",
      "뉴스\n",
      "202\n",
      "기술\n",
      "통령\n",
      "기자\n",
      "됐다\n",
      "된다\n",
      "대통령\n",
      "적인\n",
      "통해\n",
      "제공\n",
      "적으로\n",
      "위해\n",
      "것으로\n",
      "개발\n",
      "후보자\n",
      "보다\n",
      "하게\n",
      "에게\n",
      "기업\n",
      "미국\n",
      "입니다\n",
      "위원\n",
      "AI\n",
      "이라고\n",
      "시장\n",
      "지원\n",
      "국내\n",
      "했습니다\n",
      "하다\n",
      "국민\n",
      "밝혔\n",
      "이번\n",
      "시간\n",
      "가능\n",
      "사진\n",
      "의원\n",
      "겠다\n",
      "인사\n",
      "이어\n",
      "전기\n",
      "19\n",
      "이용\n",
      "이나\n",
      "세계\n",
      "하지\n",
      "전자\n",
      "민주\n",
      "등을\n",
      "사업\n",
      "관련\n",
      "50\n",
      "말했다\n",
      "았다\n",
      "밝혔다\n",
      "억원\n",
      "진행\n",
      "스트\n",
      "6일\n",
      "되는\n",
      "장관\n",
      "도록\n",
      "30\n",
      "우리\n",
      "아이\n",
      "올해\n",
      "만원\n",
      "사용\n"
     ]
    }
   ],
   "source": [
    "data = dict()\n",
    "for k, v in word.items():\n",
    "    data[' '.join(tuple(k))] = v\n",
    "\n",
    "for _ in range(100):\n",
    "    keys = findpair(data)\n",
    "    best = max(keys, key=keys.get)\n",
    "\n",
    "    rst = dict()\n",
    "    for k, v in data.items():\n",
    "        rst[re.sub(best, best.replace(' ', ''), k)] = v\n",
    "\n",
    "    data = rst\n",
    "    print(best.replace(' ', ''))"
   ]
  },
  {
   "cell_type": "markdown",
   "id": "70f74dc2-d4fd-4421-917f-d35144bb0f51",
   "metadata": {},
   "source": [
    "# Tokenizing "
   ]
  },
  {
   "cell_type": "code",
   "execution_count": 36,
   "id": "9405784f-943c-4d54-bfa5-6a6a2053b30f",
   "metadata": {},
   "outputs": [],
   "source": [
    "from nltk.corpus import stopwords"
   ]
  },
  {
   "cell_type": "code",
   "execution_count": 37,
   "id": "42a7e061-39d0-4671-b68c-6ebba7a56290",
   "metadata": {},
   "outputs": [],
   "source": [
    "stop = stopwords.open(\n",
    "    stopwords.fileids()[stopwords.fileids().index('english')]).read()"
   ]
  },
  {
   "cell_type": "code",
   "execution_count": 38,
   "id": "f814047a-2361-4da9-a338-9b940e4e452d",
   "metadata": {},
   "outputs": [
    {
     "name": "stdout",
     "output_type": "stream",
     "text": [
      "skipped:to\n",
      "skipped:be\n",
      "skipped:or\n",
      "skipped:not\n",
      "skipped:to\n",
      "skipped:be\n"
     ]
    },
    {
     "data": {
      "text/plain": [
       "''"
      ]
     },
     "execution_count": 38,
     "metadata": {},
     "output_type": "execute_result"
    }
   ],
   "source": [
    "from string import punctuation\n",
    "\n",
    "s = 'To be or not to be.'\n",
    "rst = []\n",
    "for w in re.sub(f'[{re.escape(punctuation)}]', '', s.lower()).split():\n",
    "    if w not in stop:\n",
    "        rst.append(w)\n",
    "    else:\n",
    "        print(f'skipped:{w}')\n",
    "' '.join(rst)"
   ]
  },
  {
   "cell_type": "code",
   "execution_count": null,
   "id": "7e273fda-8d07-43c9-8660-29e68c520f4b",
   "metadata": {},
   "outputs": [],
   "source": []
  }
 ],
 "metadata": {
  "kernelspec": {
   "display_name": "Python 3 (ipykernel)",
   "language": "python",
   "name": "python3"
  },
  "language_info": {
   "codemirror_mode": {
    "name": "ipython",
    "version": 3
   },
   "file_extension": ".py",
   "mimetype": "text/x-python",
   "name": "python",
   "nbconvert_exporter": "python",
   "pygments_lexer": "ipython3",
   "version": "3.10.1"
  },
  "widgets": {
   "application/vnd.jupyter.widget-state+json": {
    "state": {},
    "version_major": 2,
    "version_minor": 0
   }
  }
 },
 "nbformat": 4,
 "nbformat_minor": 5
}
