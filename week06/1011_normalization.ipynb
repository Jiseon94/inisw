{
 "cells": [
  {
   "cell_type": "code",
   "execution_count": 10,
   "id": "a1efc240-5871-4bce-a9df-a3da74ebe1dc",
   "metadata": {},
   "outputs": [
    {
     "name": "stdout",
     "output_type": "stream",
     "text": [
      "['어머니', '는', '자장면', '이', '싫', '다고', '하', '시', '었', '어', '.']\n",
      "['엄마', '는', '짜장면', '이', '넘', '나', '싫', '다고', '하', '았', '어', '.']\n",
      "['우리', '엄마', '는', '짜', '장이', '극', '혀', 'ㅁ', '이', '라', '하', '았었', '어', '.']\n"
     ]
    }
   ],
   "source": [
    "#어제에 이어서...\n",
    "from nltk.corpus import stopwords\n",
    "from nltk.tokenize import sent_tokenize\n",
    "from konlpy.tag import Komoran\n",
    "\n",
    "ma = Komoran()\n",
    "\n",
    "stopwords == '은 는 이 가 을 을 에게 께서'.split()\n",
    "#한국어는 우리가 직접 만들어줘야한다. \n",
    "\n",
    "data = '''\n",
    "어머니는 자장면이 싫다고 하셨어.\n",
    "엄마는 짜장면이 넘나 싫다고 했어.\n",
    "우리 엄마는 짜장이 극혐이라 했었어.\n",
    "'''\n",
    "#여기서 실질적 표혀으는 <어머니 짜장 싫다> 임\n",
    "\n",
    "#문장 분리해볼거임.\n",
    "for s in sent_tokenize(data):\n",
    "    #형태소 분리를 해볼거임.\n",
    "    print(ma.morphs(s))"
   ]
  },
  {
   "cell_type": "code",
   "execution_count": 11,
   "id": "a7913a02-85f2-45af-9104-4717c3d230e6",
   "metadata": {},
   "outputs": [
    {
     "data": {
      "text/plain": [
       "24"
      ]
     },
     "execution_count": 11,
     "metadata": {},
     "output_type": "execute_result"
    }
   ],
   "source": [
    "#근데 유니크한 단어들만 모아볼거임.\n",
    "unique = list()\n",
    "for s in sent_tokenize(data):\n",
    "    unique.extend(ma.morphs(s))\n",
    "len(list(set(unique)))\n",
    "#필요없는 애들 넘 많아서 "
   ]
  },
  {
   "cell_type": "code",
   "execution_count": 12,
   "id": "f773a933-3138-4c86-92b1-cf42764c73b0",
   "metadata": {},
   "outputs": [
    {
     "name": "stdout",
     "output_type": "stream",
     "text": [
      "['어머니', '는', '자장면', '이', '싫', '다고', '하', '시', '었', '어', '.']\n",
      "['엄마', '는', '짜장면', '이', '넘', '나', '싫', '다고', '하', '았', '어', '.']\n",
      "['우리', '엄마', '는', '짜', '장이', '극', '혀', 'ㅁ', '이', '라', '하', '았었', '어', '.']\n"
     ]
    }
   ],
   "source": [
    "unique = list()\n",
    "for s in sent_tokenize(data):\n",
    "    unique.extend(ma.morphs(s))\n",
    "    print(ma.morphs(s))"
   ]
  },
  {
   "cell_type": "code",
   "execution_count": 13,
   "id": "d6cec807-d7df-4fb1-ac51-4ce95eb90db0",
   "metadata": {},
   "outputs": [
    {
     "data": {
      "text/plain": [
       "('보조사', '주격 조사', '연결 어미', '선어말어미')"
      ]
     },
     "execution_count": 13,
     "metadata": {},
     "output_type": "execute_result"
    }
   ],
   "source": [
    "#특징들이 있으니, 코모란 기준으로 보는거임. 모아볼거임. 태그 달아서\n",
    "ma.tagset['JX'], ma.tagset['JKS'], ma.tagset['EC'], ma.tagset['EP']\n",
    "#이런 애들이 많이 붙어있는걸 볼 수 있다. "
   ]
  },
  {
   "cell_type": "code",
   "execution_count": 17,
   "id": "e82cff93-dd03-4607-a97c-2c9cca07e46b",
   "metadata": {},
   "outputs": [],
   "source": [
    "#무슨 얘기를 하고 싶은거냐면, \n",
    "unique = list()\n",
    "pos = list()\n",
    "for s in sent_tokenize(data):\n",
    "    unique.extend(ma.morphs(s))\n",
    "    pos.extend([t[1][0]for t in ma.pos(s)])"
   ]
  },
  {
   "cell_type": "code",
   "execution_count": 18,
   "id": "57925a81-0175-4642-8da8-45a3909f6213",
   "metadata": {},
   "outputs": [
    {
     "data": {
      "text/plain": [
       "(37, Counter({'E': 12, 'N': 9, 'V': 8, 'J': 5, 'S': 3}))"
      ]
     },
     "execution_count": 18,
     "metadata": {},
     "output_type": "execute_result"
    }
   ],
   "source": [
    "from collections import Counter\n",
    "sum(Counter(pos).values()), Counter(pos)"
   ]
  },
  {
   "cell_type": "code",
   "execution_count": 21,
   "id": "dd48a50a-d292-4829-9d21-184659cf2d8e",
   "metadata": {},
   "outputs": [
    {
     "name": "stdout",
     "output_type": "stream",
     "text": [
      "어머니 자장면 싫 하 .\n",
      "엄마 짜장면 넘 싫 하 .\n",
      "우리 엄마 짜 장이 극 혀 이 하 .\n"
     ]
    }
   ],
   "source": [
    "unique = list()\n",
    "pos = list()\n",
    "for s in sent_tokenize(data):\n",
    "    unique.extend(ma.morphs(s))\n",
    "    pos.extend([t[1][0]for t in ma.pos(s)])\n",
    "    #의미가 전달할때 전달되는지 보는거임...\n",
    "    print(' '.join([t[0] for t in ma.pos(s) \n",
    "                    if t[1][0] not in ['J', 'E']]))\n",
    "#형식형태소를 제거해도 원래 표현하려는 의미에서 크게 달라지지 않았다. "
   ]
  },
  {
   "cell_type": "code",
   "execution_count": 26,
   "id": "c760d995-33ea-450b-b5a9-a2b4c761dcee",
   "metadata": {},
   "outputs": [
    {
     "ename": "TypeError",
     "evalue": "argument of type 'WordListCorpusReader' is not iterable",
     "output_type": "error",
     "traceback": [
      "\u001b[1;31m---------------------------------------------------------------------------\u001b[0m",
      "\u001b[1;31mTypeError\u001b[0m                                 Traceback (most recent call last)",
      "Cell \u001b[1;32mIn[26], line 7\u001b[0m\n\u001b[0;32m      5\u001b[0m pos \u001b[38;5;241m=\u001b[39m \u001b[38;5;28mlist\u001b[39m()\n\u001b[0;32m      6\u001b[0m \u001b[38;5;28;01mfor\u001b[39;00m s \u001b[38;5;129;01min\u001b[39;00m sent_tokenize(data):\n\u001b[1;32m----> 7\u001b[0m     \u001b[38;5;28mprint\u001b[39m(\u001b[38;5;124m'\u001b[39m\u001b[38;5;124m \u001b[39m\u001b[38;5;124m'\u001b[39m\u001b[38;5;241m.\u001b[39mjoin([t \u001b[38;5;28;01mfor\u001b[39;00m t \u001b[38;5;129;01min\u001b[39;00m ma\u001b[38;5;241m.\u001b[39mmorphs(s) \n\u001b[0;32m      8\u001b[0m                     \u001b[38;5;28;01mif\u001b[39;00m t \u001b[38;5;129;01mnot\u001b[39;00m \u001b[38;5;129;01min\u001b[39;00m stopwords \u001b[38;5;129;01mand\u001b[39;00m \\\n\u001b[0;32m      9\u001b[0m                     \u001b[38;5;28mlen\u001b[39m(t) \u001b[38;5;241m>\u001b[39m \u001b[38;5;241m1\u001b[39m]))\n",
      "Cell \u001b[1;32mIn[26], line 8\u001b[0m, in \u001b[0;36m<listcomp>\u001b[1;34m(.0)\u001b[0m\n\u001b[0;32m      5\u001b[0m pos \u001b[38;5;241m=\u001b[39m \u001b[38;5;28mlist\u001b[39m()\n\u001b[0;32m      6\u001b[0m \u001b[38;5;28;01mfor\u001b[39;00m s \u001b[38;5;129;01min\u001b[39;00m sent_tokenize(data):\n\u001b[0;32m      7\u001b[0m     \u001b[38;5;28mprint\u001b[39m(\u001b[38;5;124m'\u001b[39m\u001b[38;5;124m \u001b[39m\u001b[38;5;124m'\u001b[39m\u001b[38;5;241m.\u001b[39mjoin([t \u001b[38;5;28;01mfor\u001b[39;00m t \u001b[38;5;129;01min\u001b[39;00m ma\u001b[38;5;241m.\u001b[39mmorphs(s) \n\u001b[1;32m----> 8\u001b[0m                     \u001b[38;5;28;01mif\u001b[39;00m \u001b[43mt\u001b[49m\u001b[43m \u001b[49m\u001b[38;5;129;43;01mnot\u001b[39;49;00m\u001b[43m \u001b[49m\u001b[38;5;129;43;01min\u001b[39;49;00m\u001b[43m \u001b[49m\u001b[43mstopwords\u001b[49m \u001b[38;5;129;01mand\u001b[39;00m \\\n\u001b[0;32m      9\u001b[0m                     \u001b[38;5;28mlen\u001b[39m(t) \u001b[38;5;241m>\u001b[39m \u001b[38;5;241m1\u001b[39m]))\n",
      "\u001b[1;31mTypeError\u001b[0m: argument of type 'WordListCorpusReader' is not iterable"
     ]
    }
   ],
   "source": [
    "#형태소 이용한다고 했을때,\n",
    "unique = list()\n",
    "pos = list()\n",
    "for s in sent_tokenize(data):\n",
    "    print(' '.join([t for t in ma.morphs(s) \n",
    "                    if t not in stopwords and \\\n",
    "                    len(t) > 1]))\n",
    "\n",
    "#왜 에러나지...."
   ]
  },
  {
   "cell_type": "markdown",
   "id": "a8027ea7-982c-4470-88a6-98304bc7b698",
   "metadata": {},
   "source": [
    "##### 1음절짜리들이 의미가 있다면?\n",
    "한 사람\n",
    "1   2\n",
    "수사에 해당하는 애들은 필요한 애일거다. 이런애들은 N-gram 을 섞어서 쓰면 된다. \n",
    "\n",
    "N-gram 쓰면 \n",
    "\n",
    "    '한 ', ' 한'\n",
    "    \n",
    "    이렇게 나온다함.... 1음절짜리를 피할수있다고 함.."
   ]
  },
  {
   "cell_type": "markdown",
   "id": "f117c78c-81c3-4a6d-a788-5d255fc53492",
   "metadata": {},
   "source": [
    "## 욕설제거"
   ]
  },
  {
   "cell_type": "code",
   "execution_count": 27,
   "id": "24e61593-c61a-4742-a611-e50eb7fba77b",
   "metadata": {},
   "outputs": [
    {
     "name": "stdin",
     "output_type": "stream",
     "text": [
      " 어쩌고 저쩌고 시발\n"
     ]
    },
    {
     "data": {
      "text/plain": [
       "'어쩌고 저쩌고 **'"
      ]
     },
     "execution_count": 27,
     "metadata": {},
     "output_type": "execute_result"
    }
   ],
   "source": [
    "from nltk.tokenize import word_tokenize\n",
    "\n",
    "stopwords = ['시발']\n",
    "#누군가 input 창에 친다.\n",
    "s = input()\n",
    "#input 내용을 토크나이징을 할거다.  word _tokenize 할거임.\n",
    "' '.join([t if t not in stopwords else '*'*len(t)\n",
    "          for t in word_tokenize(s)])\n"
   ]
  },
  {
   "cell_type": "code",
   "execution_count": 28,
   "id": "47cf8e31-7deb-4f5b-9e8d-f90d7edca765",
   "metadata": {},
   "outputs": [
    {
     "name": "stdin",
     "output_type": "stream",
     "text": [
      " 씨발\n"
     ]
    },
    {
     "data": {
      "text/plain": [
       "'씨발'"
      ]
     },
     "execution_count": 28,
     "metadata": {},
     "output_type": "execute_result"
    }
   ],
   "source": [
    "#시발이 막히면, 다른 형태로 욕을 할거임.\n",
    "s = input()\n",
    "' '.join([t if t not in stopwords else '*'*len(t)\n",
    "          for t in word_tokenize(s)])"
   ]
  },
  {
   "cell_type": "code",
   "execution_count": 30,
   "id": "36b8db31-40c1-41d5-a38d-3be4c5888904",
   "metadata": {},
   "outputs": [
    {
     "name": "stdin",
     "output_type": "stream",
     "text": [
      " 씨!!발!!\n"
     ]
    },
    {
     "data": {
      "text/plain": [
       "'**'"
      ]
     },
     "execution_count": 30,
     "metadata": {},
     "output_type": "execute_result"
    }
   ],
   "source": [
    "#그러면, 욕에 대한 경우를 좀 더 추가해준다. \n",
    "#그러면, 또 막아줘야 한다.\n",
    "import re\n",
    "from nltk.tokenize import word_tokenize\n",
    "from string import punctuation\n",
    "\n",
    "stopwords = ['시발', '씨발']\n",
    "#욕설을 제거하는 정규식 패턴\n",
    "pl = re.compile(f'[{re.escape(punctuation)}]')\n",
    "\n",
    "s = input()\n",
    "' '.join([t if t not in stopwords else '*'*len(t)\n",
    "          for t in word_tokenize(pl.sub('', s))])"
   ]
  },
  {
   "cell_type": "code",
   "execution_count": 31,
   "id": "dbf5b9bd-f352-4919-a83b-02a3218ff658",
   "metadata": {},
   "outputs": [],
   "source": [
    "#욕설이 막아졌다! "
   ]
  },
  {
   "cell_type": "code",
   "execution_count": 37,
   "id": "a145069d-4d89-4134-8267-6b1576a00cd9",
   "metadata": {},
   "outputs": [
    {
     "name": "stdin",
     "output_type": "stream",
     "text": [
      " 시 발\n"
     ]
    },
    {
     "data": {
      "text/plain": [
       "'시 발'"
      ]
     },
     "execution_count": 37,
     "metadata": {},
     "output_type": "execute_result"
    }
   ],
   "source": [
    "#근데 이런 주먹구구식으로 해결해야할까?\n",
    "import re\n",
    "from nltk.tokenize import word_tokenize\n",
    "from string import punctuation\n",
    "\n",
    "stopwords = ['시발', '씨발']\n",
    "pl = re.compile(f'[{re.escape(punctuation)}]')\n",
    "#패턴을 하나더 만들어줬다.\n",
    "# p2 = re.compile(r'(?:\\s|\\b)\\W(?:\\s|\\b)')\n",
    "p2 = re.compile(r'\\B\\W\\B') #위와 같은 의미임\n",
    "\n",
    "s = input()\n",
    "' '.join([t if t not in stopwords else '*'*len(t)\n",
    "          for t in word_tokenize(p2.sub(' ', pl.sub('', s)))])"
   ]
  },
  {
   "cell_type": "code",
   "execution_count": 38,
   "id": "75308019-4856-4ad3-b306-1258d4d44994",
   "metadata": {},
   "outputs": [],
   "source": [
    "#그래도 시이발이라고 쓰면.. 안걸러진다..ㅠ\n",
    "# 사람이 직접 입력하는게 아니라 시|씨|ㅆ(.*)발\\b 이렇게 데이터로부터 자동으로 확인해서 올 수 있을까?\n",
    "# 가능하다고 한다. ... 우리가 지금까지 배운 방식 중에서.. "
   ]
  },
  {
   "cell_type": "code",
   "execution_count": 83,
   "id": "5be48936-c821-492a-bcea-20baf4f169c3",
   "metadata": {},
   "outputs": [
    {
     "data": {
      "text/plain": [
       "{('<w>', '시', '발', '<w>'): 2,\n",
       " ('<w>', '씨', '발', '<w>'): 1,\n",
       " ('<w>', '시', '이', '발', '<w>'): 1,\n",
       " ('<w>', '시', '~', '@', '#', '@', '%', '발', '<w>'): 1,\n",
       " ('<w>', '시', '부', '렁', '<w>'): 1}"
      ]
     },
     "execution_count": 83,
     "metadata": {},
     "output_type": "execute_result"
    }
   ],
   "source": [
    "#BPE =>\n",
    "data = '''\n",
    "시발 시발 씨발 시이발 시~@#@%발 시부렁\n",
    "'''\n",
    "\n",
    "data = Counter(data.split())\n",
    "\n",
    "stopwords = dict()\n",
    "for k, v in data.items():\n",
    "    stopwords[('<w>',) + tuple(k)+('<w>',)] = v #['</w>'] 이걸 쪼개는 이유는..? 낱개의 스필릿으로 조개지 않기 위해..?\n",
    "\n",
    "stopwords"
   ]
  },
  {
   "cell_type": "code",
   "execution_count": 84,
   "id": "2585ce27-ac61-4d0d-b1bc-bb0e0f3ac53c",
   "metadata": {},
   "outputs": [
    {
     "data": {
      "text/plain": [
       "Counter({'시발': 2, '씨발': 1, '시이발': 1, '시~@#@%발': 1, '시부렁': 1})"
      ]
     },
     "execution_count": 84,
     "metadata": {},
     "output_type": "execute_result"
    }
   ],
   "source": [
    "data"
   ]
  },
  {
   "cell_type": "code",
   "execution_count": 85,
   "id": "f7c3e45b-3a50-4f4a-a61a-35c63a561526",
   "metadata": {},
   "outputs": [
    {
     "data": {
      "text/plain": [
       "0"
      ]
     },
     "execution_count": 85,
     "metadata": {},
     "output_type": "execute_result"
    }
   ],
   "source": [
    "from collections import defaultdict\n",
    "#defaultdict란?\n",
    "# default 값이 있는거다. 원래 key에 value 값이 없거나 하면, 에러가 나는데, \n",
    "defaultdict(int)['key']\n",
    "#없으면, insert 하면서 default 값으로 보여주기 때문에. "
   ]
  },
  {
   "cell_type": "code",
   "execution_count": 86,
   "id": "bea0e620-36ea-4a64-b09b-301cc6cd772a",
   "metadata": {},
   "outputs": [],
   "source": [
    "from collections import defaultdict\n",
    "\n",
    "def findPair(kv):\n",
    "    pairs = defaultdict(lambda:0)\n",
    "\n",
    "    for k, v in kv.items():\n",
    "        for i in range(len(k)-1):\n",
    "            #이 구문을 그냥 쓰면 에러가 나는데 defaultdict 때메 안나는거임\n",
    "            pairs[' '.join(k[i:i+2])] += v"
   ]
  },
  {
   "cell_type": "code",
   "execution_count": 87,
   "id": "6aa91475-749a-407d-9b9c-a28df5398165",
   "metadata": {},
   "outputs": [
    {
     "ename": "AttributeError",
     "evalue": "'NoneType' object has no attribute 'get'",
     "output_type": "error",
     "traceback": [
      "\u001b[1;31m---------------------------------------------------------------------------\u001b[0m",
      "\u001b[1;31mAttributeError\u001b[0m                            Traceback (most recent call last)",
      "Cell \u001b[1;32mIn[87], line 2\u001b[0m\n\u001b[0;32m      1\u001b[0m p \u001b[38;5;241m=\u001b[39m findPair(stopwords)\n\u001b[1;32m----> 2\u001b[0m \u001b[38;5;28mmax\u001b[39m(p, key\u001b[38;5;241m=\u001b[39m\u001b[43mp\u001b[49m\u001b[38;5;241;43m.\u001b[39;49m\u001b[43mget\u001b[49m)\n",
      "\u001b[1;31mAttributeError\u001b[0m: 'NoneType' object has no attribute 'get'"
     ]
    }
   ],
   "source": [
    "p = findPair(stopwords)\n",
    "max(p, key=p.get)"
   ]
  },
  {
   "cell_type": "code",
   "execution_count": 88,
   "id": "eea7dee5-e637-470a-8873-ec43edb8b9d0",
   "metadata": {},
   "outputs": [
    {
     "ename": "AttributeError",
     "evalue": "'NoneType' object has no attribute 'get'",
     "output_type": "error",
     "traceback": [
      "\u001b[1;31m---------------------------------------------------------------------------\u001b[0m",
      "\u001b[1;31mAttributeError\u001b[0m                            Traceback (most recent call last)",
      "Cell \u001b[1;32mIn[88], line 4\u001b[0m\n\u001b[0;32m      2\u001b[0m \u001b[38;5;28;01mfor\u001b[39;00m _ \u001b[38;5;129;01min\u001b[39;00m \u001b[38;5;28mrange\u001b[39m(\u001b[38;5;241m3\u001b[39m):\n\u001b[0;32m      3\u001b[0m     pairs \u001b[38;5;241m=\u001b[39m findPair(stopwords)\n\u001b[1;32m----> 4\u001b[0m     maxkey \u001b[38;5;241m=\u001b[39m \u001b[38;5;28mmax\u001b[39m(pairs, key\u001b[38;5;241m=\u001b[39m\u001b[43mpairs\u001b[49m\u001b[38;5;241;43m.\u001b[39;49m\u001b[43mget\u001b[49m)\n\u001b[0;32m      5\u001b[0m     keys\u001b[38;5;241m.\u001b[39mappend(maxkey)\n\u001b[0;32m      6\u001b[0m     temp \u001b[38;5;241m=\u001b[39m \u001b[38;5;28mdict\u001b[39m()\n",
      "\u001b[1;31mAttributeError\u001b[0m: 'NoneType' object has no attribute 'get'"
     ]
    }
   ],
   "source": [
    "keys = list()\n",
    "for _ in range(3):\n",
    "    pairs = findPair(stopwords)\n",
    "    maxkey = max(pairs, key=pairs.get)\n",
    "    keys.append(maxkey)\n",
    "    temp = dict()\n",
    "    \n",
    "    #합치는 부분이다.\n",
    "    for k,v in stopwords.items():\n",
    "        newkey = tuple(re.sub(maxkey, maxkey.replace(' ',''),\n",
    "                              ' '.join(k)).split())\n",
    "        temp[nk] = v\n",
    "    stopwords = temp"
   ]
  },
  {
   "cell_type": "code",
   "execution_count": 89,
   "id": "4a3c95e6-8484-4b32-b0c2-f8cefabe610f",
   "metadata": {},
   "outputs": [
    {
     "data": {
      "text/plain": [
       "{('<w>', '시', '발', '<w>'): 2,\n",
       " ('<w>', '씨', '발', '<w>'): 1,\n",
       " ('<w>', '시', '이', '발', '<w>'): 1,\n",
       " ('<w>', '시', '~', '@', '#', '@', '%', '발', '<w>'): 1,\n",
       " ('<w>', '시', '부', '렁', '<w>'): 1}"
      ]
     },
     "execution_count": 89,
     "metadata": {},
     "output_type": "execute_result"
    }
   ],
   "source": [
    "stopwords"
   ]
  },
  {
   "cell_type": "code",
   "execution_count": 90,
   "id": "b889718f-e772-4ad8-a8f3-04d5f7cfa36e",
   "metadata": {},
   "outputs": [
    {
     "data": {
      "text/plain": [
       "[]"
      ]
     },
     "execution_count": 90,
     "metadata": {},
     "output_type": "execute_result"
    }
   ],
   "source": [
    "keys"
   ]
  },
  {
   "cell_type": "code",
   "execution_count": 91,
   "id": "e9d31135-40c3-44a2-8bb6-17c16a69dcd7",
   "metadata": {},
   "outputs": [
    {
     "data": {
      "text/plain": [
       "[]"
      ]
     },
     "execution_count": 91,
     "metadata": {},
     "output_type": "execute_result"
    }
   ],
   "source": [
    "#단어를 뒤질거다.. 찾은 키들에 대해서.. map 할 거임..<w>를 만나면, word boundary 로 바꿔라는거. \n",
    "# list(map(lambda k:re.sub(r'</?w>', r'\\b', k), keys))\n",
    "# 이 코드 그냥 안씀 .. ... "
   ]
  },
  {
   "cell_type": "code",
   "execution_count": 97,
   "id": "f724272d-9b34-4efb-af32-56156c5ca937",
   "metadata": {},
   "outputs": [
    {
     "data": {
      "text/plain": [
       "[]"
      ]
     },
     "execution_count": 97,
     "metadata": {},
     "output_type": "execute_result"
    }
   ],
   "source": [
    "#다시 쓰기\n",
    "list(map(lambda k:re.sub('</?w>', r'\\b', k), keys))"
   ]
  },
  {
   "cell_type": "markdown",
   "id": "f13529af-238a-4586-9263-7c5da5d650d9",
   "metadata": {},
   "source": [
    "#### 1케이스: <w>글자, 2케이스: 글자</w>, 3케이스: <w>글 자</w> 를 만나면\n",
    "앞뒤 어느 한쪽이 \\b 아니면, 1 or 2, 1+2 이것들의 조합으로 마치\n",
    "<w>시발</w>, <w>씨발</w>\n",
    "이걸 알아서 조합해서 하는거다. "
   ]
  },
  {
   "cell_type": "code",
   "execution_count": 99,
   "id": "86bf7255-1a49-4a07-a1f1-68fa487042ff",
   "metadata": {},
   "outputs": [],
   "source": [
    "#슈도 코드의 의도는 저러한데, 자꾸안되서 쌤이 집가서 찾아보고 알아오겠다함."
   ]
  },
  {
   "cell_type": "markdown",
   "id": "f95cd97f-dabe-4231-a1f6-54e995a5c470",
   "metadata": {},
   "source": [
    "## 우리말"
   ]
  },
  {
   "cell_type": "code",
   "execution_count": 100,
   "id": "f2a767b0-a7d7-4523-b080-5e5e18cf51f6",
   "metadata": {},
   "outputs": [
    {
     "data": {
      "text/plain": [
       "(44032, 45208)"
      ]
     },
     "execution_count": 100,
     "metadata": {},
     "output_type": "execute_result"
    }
   ],
   "source": [
    "ord('가'), ord('나')"
   ]
  },
  {
   "cell_type": "code",
   "execution_count": 101,
   "id": "4fe56eb7-bea0-40f8-bfce-c2762409249a",
   "metadata": {},
   "outputs": [
    {
     "data": {
      "text/plain": [
       "1176"
      ]
     },
     "execution_count": 101,
     "metadata": {},
     "output_type": "execute_result"
    }
   ],
   "source": [
    "ord('나') - ord('가') \n",
    "#이 만큼의 차이가 있다."
   ]
  },
  {
   "cell_type": "code",
   "execution_count": 102,
   "id": "72b4fed1-2be7-453e-8805-f49d2f4681a0",
   "metadata": {},
   "outputs": [
    {
     "data": {
      "text/plain": [
       "56"
      ]
     },
     "execution_count": 102,
     "metadata": {},
     "output_type": "execute_result"
    }
   ],
   "source": [
    "ord('갸') - ord('가') "
   ]
  },
  {
   "cell_type": "code",
   "execution_count": 103,
   "id": "9077772c-f18e-4f80-9573-9f2837bde6f5",
   "metadata": {},
   "outputs": [
    {
     "data": {
      "text/plain": [
       "1"
      ]
     },
     "execution_count": 103,
     "metadata": {},
     "output_type": "execute_result"
    }
   ],
   "source": [
    "ord('각') - ord('가') "
   ]
  },
  {
   "cell_type": "code",
   "execution_count": 104,
   "id": "50d24003-79cf-438f-b90a-8afddb4a8e9b",
   "metadata": {},
   "outputs": [],
   "source": [
    "#종성이 붙어있는 형태라는 걸 알 수 있다."
   ]
  },
  {
   "cell_type": "code",
   "execution_count": 111,
   "id": "1a91fe10-1d0e-4cdd-9a9d-576353d1e639",
   "metadata": {},
   "outputs": [
    {
     "name": "stdout",
     "output_type": "stream",
     "text": [
      "['가', '각', '갂', '갃', '간', '갅', '갆', '갇', '갈', '갉', '갊', '갋', '갌', '갍', '갎', '갏', '감', '갑', '값', '갓', '갔', '강', '갖', '갗', '갘', '같', '갚', '갛', '개', '객', '갞', '갟', '갠', '갡', '갢', '갣', '갤', '갥', '갦', '갧', '갨', '갩', '갪', '갫', '갬', '갭', '갮', '갯', '갰', '갱']\n"
     ]
    }
   ],
   "source": [
    "#가 의 형태로 50글자를 뽑아내보면?\n",
    "print([chr(ord('가')+i) for i in range(50)])"
   ]
  },
  {
   "cell_type": "code",
   "execution_count": 110,
   "id": "b9fd9fbd-91e0-4662-87eb-d8dc6aeee0d8",
   "metadata": {},
   "outputs": [
    {
     "name": "stdout",
     "output_type": "stream",
     "text": [
      "['가', '각', '갂', '갃', '간', '갅', '갆', '갇', '갈', '갉', '갊', '갋', '갌', '갍', '갎', '갏', '감', '갑', '값', '갓', '갔', '강', '갖', '갗', '갘', '같', '갚', '갛']\n"
     ]
    }
   ],
   "source": [
    "#중성 종성 28\n",
    "print([chr(ord('가')+i) for i in range(28)])"
   ]
  },
  {
   "cell_type": "code",
   "execution_count": 109,
   "id": "81ef4e88-44cf-483c-ab70-25c6064507c8",
   "metadata": {},
   "outputs": [
    {
     "name": "stdout",
     "output_type": "stream",
     "text": [
      "['ㄱ', 'ㄲ', 'ㄳ', 'ㄴ', 'ㄵ', 'ㄶ', 'ㄷ', 'ㄸ', 'ㄹ', 'ㄺ', 'ㄻ', 'ㄼ', 'ㄽ', 'ㄾ', 'ㄿ', 'ㅀ', 'ㅁ', 'ㅂ', 'ㅃ', 'ㅄ', 'ㅅ', 'ㅆ', 'ㅇ', 'ㅈ', 'ㅉ', 'ㅊ', 'ㅋ', 'ㅌ', 'ㅍ', 'ㅎ']\n"
     ]
    }
   ],
   "source": [
    "print([chr(ord('ㄱ')+i) for i in range(30)])"
   ]
  },
  {
   "cell_type": "code",
   "execution_count": 112,
   "id": "d3a84944-28f3-4a0c-bd45-49bd02edbffb",
   "metadata": {},
   "outputs": [],
   "source": [
    "#종성에 안들어가는것 부터 걸러내자. 격자어 ㅃ ㄸ 이런거 안들어감. "
   ]
  },
  {
   "cell_type": "code",
   "execution_count": 115,
   "id": "b33a7d16-f51f-427d-b3e7-29d2358bb295",
   "metadata": {},
   "outputs": [],
   "source": [
    "#종성 만들어보기. 종성에 해당되는 애들은 ㄲ, ㄸ, ㅉ 빼고 받침 없는 28자.\n",
    "jong = [' ', 'ㄱ', 'ㄳ', 'ㄴ', 'ㄵ', 'ㄶ', 'ㄷ',  'ㄹ', 'ㄺ', 'ㄻ', 'ㄼ', 'ㄽ', 'ㄾ', 'ㄿ', 'ㅀ', 'ㅁ', 'ㅂ',  'ㅄ', 'ㅅ', 'ㅆ', 'ㅇ', 'ㅈ', 'ㅉ', 'ㅊ', 'ㅋ', 'ㅌ', 'ㅍ', 'ㅎ']"
   ]
  },
  {
   "cell_type": "code",
   "execution_count": 116,
   "id": "538fda51-0dec-4f04-a873-af877f2dcf2b",
   "metadata": {},
   "outputs": [
    {
     "data": {
      "text/plain": [
       "28"
      ]
     },
     "execution_count": 116,
     "metadata": {},
     "output_type": "execute_result"
    }
   ],
   "source": [
    "len(jong)"
   ]
  },
  {
   "cell_type": "code",
   "execution_count": 117,
   "id": "1fd6ab20-a0b2-49cf-a012-d615b20a04b0",
   "metadata": {},
   "outputs": [
    {
     "name": "stdout",
     "output_type": "stream",
     "text": [
      "['가', '개', '갸', '걔', '거', '게', '겨', '계', '고', '과', '괘', '괴', '교', '구', '궈', '궤', '귀', '규', '그', '긔', '기']\n"
     ]
    }
   ],
   "source": [
    "print([chr(ord('가')+(28*i)) for i in range(21)])\n",
    "#중성에 해당하는 모음이 21자다. "
   ]
  },
  {
   "cell_type": "code",
   "execution_count": 118,
   "id": "99544bee-a9f5-483f-994b-c727639c733a",
   "metadata": {},
   "outputs": [],
   "source": [
    "#하나의 초성으로 시작하는게 588 반복? 아 모르겠다..."
   ]
  },
  {
   "cell_type": "code",
   "execution_count": 119,
   "id": "0bd1e862-12e2-4b12-9e5e-fdb6dc4f8553",
   "metadata": {},
   "outputs": [],
   "source": [
    "# jung = ['가', '개', '갸', '걔', '거', '게', '겨', '계', '고', '과', '괘', '괴', '교', '구', '궈', '궤', '귀', '규', '그', '긔', '기']\n",
    "jung = ['ㅏ', 'ㅐ', 'ㅑ', 'ㅒ', 'ㅓ', 'ㅔ', 'ㅕ', 'ㅖ', 'ㅗ', 'ㅘ', 'ㅙ', '괴', '교', '구', '궈', '궤', '귀', '규', '그', '긔', '기']"
   ]
  },
  {
   "cell_type": "code",
   "execution_count": 126,
   "id": "bcda4ca0-fbbe-4db7-87c5-605a2a7d3cef",
   "metadata": {},
   "outputs": [
    {
     "name": "stdout",
     "output_type": "stream",
     "text": [
      "['가', '까', '나', '다', '따', '라', '마', '바', '빠', '사', '싸', '아', '자', '짜', '차', '카', '타', '파', '하']\n"
     ]
    }
   ],
   "source": [
    "#이제 초성만 찾으면 된다. 588자마다..\n",
    "print([chr(ord('가')+(588*i)) for i in range(19)])"
   ]
  },
  {
   "cell_type": "code",
   "execution_count": 127,
   "id": "5467d6da-a3b9-4334-8180-b33d8c719406",
   "metadata": {},
   "outputs": [
    {
     "data": {
      "text/plain": [
       "19"
      ]
     },
     "execution_count": 127,
     "metadata": {},
     "output_type": "execute_result"
    }
   ],
   "source": [
    "cho = ['ㄱ', 'ㄲ', 'ㄴ',  'ㄷ', 'ㄸ', 'ㄹ', 'ㅁ', 'ㅂ', 'ㅃ',  'ㅅ', 'ㅆ', 'ㅇ', 'ㅈ', 'ㅉ', 'ㅊ', 'ㅋ', 'ㅌ', 'ㅍ', 'ㅎ']\n",
    "len(cho)"
   ]
  },
  {
   "cell_type": "code",
   "execution_count": 134,
   "id": "db7628d2-cf71-4d68-a314-9a9d1047c20a",
   "metadata": {},
   "outputs": [
    {
     "data": {
      "text/plain": [
       "(19, 21, 28, 11172)"
      ]
     },
     "execution_count": 134,
     "metadata": {},
     "output_type": "execute_result"
    }
   ],
   "source": [
    "len(cho), len(jung), len(jong), 19*21*28"
   ]
  },
  {
   "cell_type": "code",
   "execution_count": 157,
   "id": "89495cd7-6115-4cfd-9bb7-58f7be882400",
   "metadata": {},
   "outputs": [
    {
     "ename": "ValueError",
     "evalue": "'ㅏ' is not in list",
     "output_type": "error",
     "traceback": [
      "\u001b[1;31m---------------------------------------------------------------------------\u001b[0m",
      "\u001b[1;31mValueError\u001b[0m                                Traceback (most recent call last)",
      "Cell \u001b[1;32mIn[157], line 23\u001b[0m\n\u001b[0;32m     21\u001b[0m     \u001b[38;5;28;01melse\u001b[39;00m:\n\u001b[0;32m     22\u001b[0m         \u001b[38;5;28;01mreturn\u001b[39;00m c\n\u001b[1;32m---> 23\u001b[0m result \u001b[38;5;241m=\u001b[39m \u001b[43mtri2char\u001b[49m\u001b[43m(\u001b[49m\u001b[38;5;124;43m'\u001b[39;49m\u001b[38;5;124;43mㄱㅏ \u001b[39;49m\u001b[38;5;124;43m'\u001b[39;49m\u001b[43m)\u001b[49m, tri2char(chr2tri(\u001b[38;5;124m'\u001b[39m\u001b[38;5;124m걁\u001b[39m\u001b[38;5;124m'\u001b[39m))\n\u001b[0;32m     24\u001b[0m \u001b[38;5;28mprint\u001b[39m(result)\n",
      "Cell \u001b[1;32mIn[157], line 18\u001b[0m, in \u001b[0;36mtri2char\u001b[1;34m(c)\u001b[0m\n\u001b[0;32m     16\u001b[0m \u001b[38;5;28;01mif\u001b[39;00m re\u001b[38;5;241m.\u001b[39mmatch(\u001b[38;5;124mr\u001b[39m\u001b[38;5;124m'\u001b[39m\u001b[38;5;124m^[ ㄱ-ㅎㅏ-ㅣ]\u001b[39m\u001b[38;5;132;01m{3}\u001b[39;00m\u001b[38;5;124m$\u001b[39m\u001b[38;5;124m'\u001b[39m, c):\n\u001b[0;32m     17\u001b[0m     r \u001b[38;5;241m=\u001b[39m \u001b[38;5;28mord\u001b[39m(\u001b[38;5;124m'\u001b[39m\u001b[38;5;124m가\u001b[39m\u001b[38;5;124m'\u001b[39m) \u001b[38;5;241m+\u001b[39m cho\u001b[38;5;241m.\u001b[39mindex(c[\u001b[38;5;241m0\u001b[39m])\u001b[38;5;241m*\u001b[39m\u001b[38;5;241m21\u001b[39m\u001b[38;5;241m*\u001b[39m\u001b[38;5;241m28\u001b[39m\n\u001b[1;32m---> 18\u001b[0m     r \u001b[38;5;241m+\u001b[39m\u001b[38;5;241m=\u001b[39m \u001b[43mjung\u001b[49m\u001b[38;5;241;43m.\u001b[39;49m\u001b[43mindex\u001b[49m\u001b[43m(\u001b[49m\u001b[43mc\u001b[49m\u001b[43m[\u001b[49m\u001b[38;5;241;43m1\u001b[39;49m\u001b[43m]\u001b[49m\u001b[43m)\u001b[49m\u001b[38;5;241m*\u001b[39m\u001b[38;5;241m28\u001b[39m\n\u001b[0;32m     19\u001b[0m     r \u001b[38;5;241m+\u001b[39m\u001b[38;5;241m=\u001b[39m jong\u001b[38;5;241m.\u001b[39mindex(c[\u001b[38;5;241m2\u001b[39m])\n\u001b[0;32m     20\u001b[0m     \u001b[38;5;28;01mreturn\u001b[39;00m \u001b[38;5;28mchr\u001b[39m(r)\n",
      "\u001b[1;31mValueError\u001b[0m: 'ㅏ' is not in list"
     ]
    }
   ],
   "source": [
    "#음절을 바꾸는 함수\n",
    "def chr2tri(c):\n",
    "    if re.match('[가-힣]', c):\n",
    "        #가 를 계속 써야하니 , \n",
    "        base = divmod(ord(c)-ord('가'), (21*28))\n",
    "        #처음에 초성 쪼개기 (중성과종성의 모든 조합으로 나누기)\n",
    "        c1 = base[0]\n",
    "        c2 = divmod(base[-1], 28)[0]\n",
    "        c3 = divmod(base[-1], 28)[-1]\n",
    "        return cho[c1]+jung[c2]+jong[c3]\n",
    "    else:\n",
    "        return c\n",
    "        \n",
    "def tri2char(c):\n",
    "    #3음절 가정\n",
    "    if re.match(r'^[ ㄱ-ㅎㅏ-ㅣ]{3}$', c):\n",
    "        r = ord('가') + cho.index(c[0])*21*28\n",
    "        r += jung.index(c[1])*28\n",
    "        r += jong.index(c[2])\n",
    "        return chr(r)\n",
    "    else:\n",
    "        return c\n",
    "result = tri2char('ㄱㅏ '), tri2char(chr2tri('걁'))\n",
    "print(result)"
   ]
  },
  {
   "cell_type": "code",
   "execution_count": 143,
   "id": "20c50343-c074-4be9-b753-9600fb2f00d7",
   "metadata": {},
   "outputs": [
    {
     "data": {
      "text/plain": [
       "10.0"
      ]
     },
     "execution_count": 143,
     "metadata": {},
     "output_type": "execute_result"
    }
   ],
   "source": [
    "divmod(40,2)[0] /2"
   ]
  },
  {
   "cell_type": "markdown",
   "id": "a749940c-1e24-4c48-ae22-ee7536cadc8e",
   "metadata": {},
   "source": [
    "### 형태소 => 1음절 단어 => 초중종"
   ]
  },
  {
   "cell_type": "code",
   "execution_count": 158,
   "id": "5d09df7f-96c6-45da-91bc-c843a2a0f4a5",
   "metadata": {},
   "outputs": [
    {
     "data": {
      "text/plain": [
       "([('안녕하세요', 'NNP')], [('아녕하세요', 'NA')])"
      ]
     },
     "execution_count": 158,
     "metadata": {},
     "output_type": "execute_result"
    }
   ],
   "source": [
    "ma.pos('안녕하세요'), ma.pos('아녕하세요')"
   ]
  },
  {
   "cell_type": "code",
   "execution_count": 159,
   "id": "de8ab577-1305-4495-8037-e75a0116825a",
   "metadata": {},
   "outputs": [
    {
     "data": {
      "text/plain": [
       "'분석불능범주'"
      ]
     },
     "execution_count": 159,
     "metadata": {},
     "output_type": "execute_result"
    }
   ],
   "source": [
    "ma.tagset['NA']"
   ]
  },
  {
   "cell_type": "markdown",
   "id": "ea61ea89-87d5-404c-9041-45adfda40ad7",
   "metadata": {},
   "source": [
    "## Edit Distance\n",
    "Hamming Distance"
   ]
  },
  {
   "cell_type": "code",
   "execution_count": 160,
   "id": "4ede4c3c-510e-4389-b534-6d8ee8f230f2",
   "metadata": {},
   "outputs": [
    {
     "data": {
      "text/plain": [
       "4"
      ]
     },
     "execution_count": 160,
     "metadata": {},
     "output_type": "execute_result"
    }
   ],
   "source": [
    "def hamming(s1, s2):\n",
    "    if len(s1) != len(s2) :\n",
    "        return '분석불가'\n",
    "        \n",
    "    return sum([c1 != c2 for c1, c2 in zip(s1, s2)])\n",
    "hamming('안녕하세요', '안ㄴ녕하세')        "
   ]
  },
  {
   "cell_type": "code",
   "execution_count": 161,
   "id": "cbe66454-7af9-4a27-a084-ac9f187fa198",
   "metadata": {},
   "outputs": [
    {
     "data": {
      "text/plain": [
       "(3, 3)"
      ]
     },
     "execution_count": 161,
     "metadata": {},
     "output_type": "execute_result"
    }
   ],
   "source": [
    "#그래서 나오는게 Levenshtein Distance\n",
    "def leven(s1, s2):\n",
    "    if len(s1) == 0:\n",
    "        return len(s2)\n",
    "    if len(s2) == 0:\n",
    "        return len(s1)\n",
    "    if s1[0] == s2[0]:\n",
    "        return leven(s1[1:], s2[1:])\n",
    "    else:\n",
    "        #가중치를 매기자.\n",
    "        v1 = 1 + leven(s1[1:], s2[1:]) #교체\n",
    "        v2 = 1 + leven(s1, s2[1:]) #추가\n",
    "        v3 = 1 + leven(s1[1:], s2) #삭제\n",
    "        return min((v1, v2, v3))\n",
    "        \n",
    "leven('', 'abd'), leven('abc', '')"
   ]
  },
  {
   "cell_type": "code",
   "execution_count": 164,
   "id": "9448d55b-f43c-4ca3-a52b-d558b8f8dd86",
   "metadata": {},
   "outputs": [
    {
     "data": {
      "text/plain": [
       "(1, 1)"
      ]
     },
     "execution_count": 164,
     "metadata": {},
     "output_type": "execute_result"
    }
   ],
   "source": [
    "leven('안녕하세요', '아녕하세요'),leven('고려대', '고구려대')"
   ]
  },
  {
   "cell_type": "code",
   "execution_count": 167,
   "id": "e5f437dd-c979-432b-9c78-901bfe206428",
   "metadata": {},
   "outputs": [
    {
     "data": {
      "text/plain": [
       "(0.1, 1.2000000000000002)"
      ]
     },
     "execution_count": 167,
     "metadata": {},
     "output_type": "execute_result"
    }
   ],
   "source": [
    "#불공평해서 더 패널티를 주겠다.\n",
    "def leven(s1, s2):\n",
    "    if len(s1) == 0:\n",
    "        return len(s2)\n",
    "    if len(s2) == 0:\n",
    "        return len(s1)\n",
    "    if s1[0] == s2[0]:\n",
    "        return leven(s1[1:], s2[1:])\n",
    "    else:\n",
    "        \n",
    "        v1 = .1 + leven(s1[1:], s2[1:]) # 오타난 경우는 불쌍하니까, 패널티를 적게 주자. \n",
    "        v2 = 3 + leven(s1, s2[1:]) #추가된 글자는 패널티 많이\n",
    "        v3 = 2 + leven(s1[1:], s2) #삭제된 글자의 패널티\n",
    "        return min((v1, v2, v3))\n",
    "\n",
    "leven('안녕하세요', '아녕하세요'),leven('고려대', '고구려대')\n",
    "\n",
    "#이걸로 검색창에 오타 쳐도 알아서 '~~~'로 검색했지 않냐고, 알아서 수정해서 검색해주는데 쓰일 수 있다. "
   ]
  },
  {
   "cell_type": "code",
   "execution_count": 168,
   "id": "99510b86-2eab-465a-aecf-33aea63ddedf",
   "metadata": {},
   "outputs": [
    {
     "data": {
      "text/plain": [
       "(0.1, 0.1)"
      ]
     },
     "execution_count": 168,
     "metadata": {},
     "output_type": "execute_result"
    }
   ],
   "source": [
    "leven('안녕하세요', '아녕하세요'),leven('고려대', '고신대')\n",
    "#근데 이것도 억울하다.\n",
    "#그래서 초성중성을 쪼개는거다."
   ]
  },
  {
   "cell_type": "code",
   "execution_count": 169,
   "id": "210bd882-0a06-4b19-ab4e-b587d63247fc",
   "metadata": {},
   "outputs": [
    {
     "data": {
      "text/plain": [
       "0.1"
      ]
     },
     "execution_count": 169,
     "metadata": {},
     "output_type": "execute_result"
    }
   ],
   "source": [
    "#초성, 중성을 쪼개보자\n",
    "s1 = ''.join(list(map(lambda c:chr2tri(c), '안녕하세요')))\n",
    "s2 = ''.join(list(map(lambda c:chr2tri(c), '아녕하세요')))\n",
    "leven(s1, s2)"
   ]
  },
  {
   "cell_type": "code",
   "execution_count": 170,
   "id": "6f22006d-c722-4255-932b-1f8cb250723a",
   "metadata": {},
   "outputs": [
    {
     "data": {
      "text/plain": [
       "0.2"
      ]
     },
     "execution_count": 170,
     "metadata": {},
     "output_type": "execute_result"
    }
   ],
   "source": [
    "s1 = ''.join(list(map(lambda c:chr2tri(c), '한성대')))\n",
    "s2 = ''.join(list(map(lambda c:chr2tri(c), '한세대')))\n",
    "leven(s1, s2)\n",
    "#차이를 더 벌리고 싶으면 종성에 대한 처리를 해주면 된다. "
   ]
  },
  {
   "cell_type": "code",
   "execution_count": null,
   "id": "953ac1f3-c67d-43be-aaf3-c156116c0298",
   "metadata": {},
   "outputs": [],
   "source": []
  }
 ],
 "metadata": {
  "kernelspec": {
   "display_name": "Python 3 (ipykernel)",
   "language": "python",
   "name": "python3"
  },
  "language_info": {
   "codemirror_mode": {
    "name": "ipython",
    "version": 3
   },
   "file_extension": ".py",
   "mimetype": "text/x-python",
   "name": "python",
   "nbconvert_exporter": "python",
   "pygments_lexer": "ipython3",
   "version": "3.10.1"
  },
  "widgets": {
   "application/vnd.jupyter.widget-state+json": {
    "state": {},
    "version_major": 2,
    "version_minor": 0
   }
  }
 },
 "nbformat": 4,
 "nbformat_minor": 5
}
