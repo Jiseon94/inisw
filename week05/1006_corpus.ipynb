{
 "cells": [
  {
   "cell_type": "code",
   "execution_count": 93,
   "id": "42612066-8570-429f-a172-14bf77786183",
   "metadata": {},
   "outputs": [],
   "source": [
    "from requests import get\n",
    "from bs4 import BeautifulSoup\n",
    "import re\n",
    "\n",
    "urls = list()\n",
    "seens = list()\n",
    "\n",
    "path = 'naver/'\n",
    "urls.append('https://news.naver.com/')\n",
    "\n",
    "headers={'user-agent':'Mozilla/5.0 (Windows NT 10.0; Win64; x64) AppleWebKit/537.36 (KHTML, like Gecko) Chrome/117.0.0.0 Safari/537.36'}\n",
    "\n",
    "while urls:\n",
    "    url = urls.pop(0)\n",
    "    seens.append(url)\n",
    "\n",
    "    dom = BeautifulSoup(get(url,headers=headers).text, 'html.parser')\n",
    "\n",
    "    #메뉴\n",
    "    alist = dom.select('ul[role=menu] > li > a[href]')\n",
    "    for a in alist:\n",
    "        if re.search(r'sid1=\\d{3}$', a.attrs['href']):\n",
    "            if a.attrs['href'] not in urls and a.attrs['href'] not in seens:\n",
    "                urls.append(a.attrs['href'])\n",
    "                \n",
    "    #기사링크 = > 정교하게\n",
    "    alist = dom.select('''\n",
    "                        .sh_text > a[href],\n",
    "                        .cluster_text > a[href],\n",
    "                        dt > a[href]\n",
    "                    ''')\n",
    "    for a in alist:\n",
    "        if a.attrs['href'] not in urls and a.attrs['href'] not in seens:\n",
    "            urls.append(a.attrs['href'])\n",
    "\n",
    "    #본문\n",
    "    news = dom.select_one('#newsct_article')\n",
    "    \n",
    "    if news:\n",
    "        #파일 이름 신경써서, 저장하기\n",
    "        file = re.search(r'(\\d{10})', url).group(1)\n",
    "        # href=\"https://n.news.naver.com/mnews/article/003/0012130761?sid=100\"\n",
    "        with open(f'{path}{file}.txt', 'w', encoding='utf-8') as fp:\n",
    "            fp.write(news.text)"
   ]
  },
  {
   "cell_type": "code",
   "execution_count": 94,
   "id": "7fd08a56-f020-46b8-b772-fd08be249d6b",
   "metadata": {},
   "outputs": [
    {
     "data": {
      "text/plain": [
       "['0000015228.txt',\n",
       " '0000015343.txt',\n",
       " '0000015369.txt',\n",
       " '0000015398.txt',\n",
       " '0000020088.txt',\n",
       " '0000020663.txt',\n",
       " '0000021218.txt',\n",
       " '0000022648.txt',\n",
       " '0000046326.txt',\n",
       " '0000047901.txt',\n",
       " '0000049955.txt',\n",
       " '0000050638.txt',\n",
       " '0000054197.txt',\n",
       " '0000120141.txt',\n",
       " '0000353463.txt',\n",
       " '0000361949.txt',\n",
       " '0000361955.txt',\n",
       " '0000362047.txt',\n",
       " '0000362050.txt',\n",
       " '0000362063.txt',\n",
       " '0000362078.txt',\n",
       " '0000430333.txt',\n",
       " '0000430354.txt',\n",
       " '0000430365.txt',\n",
       " '0000430389.txt',\n",
       " '0000430464.txt',\n",
       " '0000430497.txt',\n",
       " '0000430508.txt',\n",
       " '0000430514.txt',\n",
       " '0000430536.txt',\n",
       " '0000621113.txt',\n",
       " '0000621466.txt',\n",
       " '0000622324.txt',\n",
       " '0000622489.txt',\n",
       " '0000622492.txt',\n",
       " '0000622502.txt',\n",
       " '0000622594.txt',\n",
       " '0000622635.txt',\n",
       " '0000622638.txt',\n",
       " '0000763643.txt',\n",
       " '0000763733.txt',\n",
       " '0000768792.txt',\n",
       " '0000769247.txt',\n",
       " '0000773513.txt',\n",
       " '0000773591.txt',\n",
       " '0000773646.txt',\n",
       " '0000775960.txt',\n",
       " '0000776944.txt',\n",
       " '0000777226.txt',\n",
       " '0000777256.txt',\n",
       " '0000777301.txt',\n",
       " '0000837802.txt',\n",
       " '0000838077.txt',\n",
       " '0000838289.txt',\n",
       " '0000838952.txt',\n",
       " '0000937044.txt',\n",
       " '0000937063.txt',\n",
       " '0000937114.txt',\n",
       " '0000937177.txt',\n",
       " '0000937192.txt',\n",
       " '0000937228.txt',\n",
       " '0000937230.txt',\n",
       " '0000937259.txt',\n",
       " '0000937268.txt',\n",
       " '0000952386.txt',\n",
       " '0000952390.txt',\n",
       " '0000952758.txt',\n",
       " '0000953079.txt',\n",
       " '0000998783.txt',\n",
       " '0000998997.txt',\n",
       " '0001094782.txt',\n",
       " '0001094832.txt',\n",
       " '0001094985.txt',\n",
       " '0001095042.txt',\n",
       " '0001095048.txt',\n",
       " '0001095070.txt',\n",
       " '0001095122.txt',\n",
       " '0001110357.txt',\n",
       " '0001127745.txt',\n",
       " '0001127936.txt',\n",
       " '0001128107.txt',\n",
       " '0001128113.txt',\n",
       " '0001128140.txt',\n",
       " '0001231207.txt',\n",
       " '0001232376.txt',\n",
       " '0001233673.txt',\n",
       " '0001235349.txt',\n",
       " '0001235356.txt',\n",
       " '0001235440.txt',\n",
       " '0001303619.txt',\n",
       " '0001303622.txt',\n",
       " '0001303660.txt',\n",
       " '0001303676.txt',\n",
       " '0001642261.txt',\n",
       " '0001642312.txt',\n",
       " '0001642378.txt',\n",
       " '0001642403.txt',\n",
       " '0001642473.txt',\n",
       " '0001642557.txt',\n",
       " '0001642572.txt',\n",
       " '0001642573.txt',\n",
       " '0001642576.txt',\n",
       " '0001642586.txt',\n",
       " '0001772291.txt',\n",
       " '0001772379.txt',\n",
       " '0001772420.txt',\n",
       " '0001772497.txt',\n",
       " '0001772551.txt',\n",
       " '0001943801.txt',\n",
       " '0001943815.txt',\n",
       " '0001943827.txt',\n",
       " '0002156986.txt',\n",
       " '0002157576.txt',\n",
       " '0002157659.txt',\n",
       " '0002157756.txt',\n",
       " '0002157924.txt',\n",
       " '0002157954.txt',\n",
       " '0002157957.txt',\n",
       " '0002158024.txt',\n",
       " '0002158028.txt',\n",
       " '0002158058.txt',\n",
       " '0002205924.txt',\n",
       " '0002206136.txt',\n",
       " '0002206261.txt',\n",
       " '0002206290.txt',\n",
       " '0002206326.txt',\n",
       " '0002206362.txt',\n",
       " '0002206392.txt',\n",
       " '0002206395.txt',\n",
       " '0002206452.txt',\n",
       " '0002206481.txt',\n",
       " '0002206491.txt',\n",
       " '0002206493.txt',\n",
       " '0002206505.txt',\n",
       " '0002206522.txt',\n",
       " '0002206526.txt',\n",
       " '0002206542.txt',\n",
       " '0002302894.txt',\n",
       " '0002303930.txt',\n",
       " '0002304452.txt',\n",
       " '0002305138.txt',\n",
       " '0002305276.txt',\n",
       " '0002305608.txt',\n",
       " '0002305952.txt',\n",
       " '0002306826.txt',\n",
       " '0002307039.txt',\n",
       " '0002307053.txt',\n",
       " '0002307063.txt',\n",
       " '0002317284.txt',\n",
       " '0002408032.txt',\n",
       " '0002408330.txt',\n",
       " '0002408352.txt',\n",
       " '0002408469.txt',\n",
       " '0002408488.txt',\n",
       " '0002594297.txt',\n",
       " '0002594307.txt',\n",
       " '0002595600.txt',\n",
       " '0002595638.txt',\n",
       " '0002595792.txt',\n",
       " '0002596806.txt',\n",
       " '0002597598.txt',\n",
       " '0002597629.txt',\n",
       " '0002597643.txt',\n",
       " '0002657738.txt',\n",
       " '0002657856.txt',\n",
       " '0002657910.txt',\n",
       " '0002658347.txt',\n",
       " '0002658573.txt',\n",
       " '0002658857.txt',\n",
       " '0002659022.txt',\n",
       " '0002659037.txt',\n",
       " '0002659175.txt',\n",
       " '0002755181.txt',\n",
       " '0002755357.txt',\n",
       " '0002755444.txt',\n",
       " '0002828606.txt',\n",
       " '0002828622.txt',\n",
       " '0002828706.txt',\n",
       " '0002828738.txt',\n",
       " '0002828809.txt',\n",
       " '0003141616.txt',\n",
       " '0003141730.txt',\n",
       " '0003141878.txt',\n",
       " '0003141944.txt',\n",
       " '0003141950.txt',\n",
       " '0003142164.txt',\n",
       " '0003142167.txt',\n",
       " '0003142230.txt',\n",
       " '0003142255.txt',\n",
       " '0003142257.txt',\n",
       " '0003252945.txt',\n",
       " '0003253034.txt',\n",
       " '0003253065.txt',\n",
       " '0003312265.txt',\n",
       " '0003312266.txt',\n",
       " '0003312293.txt',\n",
       " '0003312362.txt',\n",
       " '0003312371.txt',\n",
       " '0003312409.txt',\n",
       " '0003312442.txt',\n",
       " '0003312470.txt',\n",
       " '0003391481.txt',\n",
       " '0003393103.txt',\n",
       " '0003393420.txt',\n",
       " '0003393443.txt',\n",
       " '0003393847.txt',\n",
       " '0003394262.txt',\n",
       " '0003394995.txt',\n",
       " '0003395353.txt',\n",
       " '0003395401.txt',\n",
       " '0003396237.txt',\n",
       " '0003396527.txt',\n",
       " '0003396908.txt',\n",
       " '0003397003.txt',\n",
       " '0003397193.txt',\n",
       " '0003397739.txt',\n",
       " '0003397750.txt',\n",
       " '0003398001.txt',\n",
       " '0003398198.txt',\n",
       " '0003398326.txt',\n",
       " '0003398344.txt',\n",
       " '0003398407.txt',\n",
       " '0003398411.txt',\n",
       " '0003523864.txt',\n",
       " '0003523910.txt',\n",
       " '0003523942.txt',\n",
       " '0003524003.txt',\n",
       " '0003791515.txt',\n",
       " '0003791562.txt',\n",
       " '0003791606.txt',\n",
       " '0003791624.txt',\n",
       " '0003791626.txt',\n",
       " '0003791639.txt',\n",
       " '0003791739.txt',\n",
       " '0003791775.txt',\n",
       " '0003791782.txt',\n",
       " '0003819676.txt',\n",
       " '0003819790.txt',\n",
       " '0003819816.txt',\n",
       " '0003819994.txt',\n",
       " '0003820031.txt',\n",
       " '0003859664.txt',\n",
       " '0003861122.txt',\n",
       " '0003861549.txt',\n",
       " '0003861590.txt',\n",
       " '0003861690.txt',\n",
       " '0003861807.txt',\n",
       " '0003861856.txt',\n",
       " '0003861935.txt',\n",
       " '0003861993.txt',\n",
       " '0003862053.txt',\n",
       " '0003862069.txt',\n",
       " '0004245455.txt',\n",
       " '0004245738.txt',\n",
       " '0004245820.txt',\n",
       " '0004245881.txt',\n",
       " '0004245962.txt',\n",
       " '0004246128.txt',\n",
       " '0004889839.txt',\n",
       " '0004895089.txt',\n",
       " '0004896456.txt',\n",
       " '0004896961.txt',\n",
       " '0004897224.txt',\n",
       " '0004897345.txt',\n",
       " '0004897500.txt',\n",
       " '0004897736.txt',\n",
       " '0004897833.txt',\n",
       " '0004898610.txt',\n",
       " '0004898670.txt',\n",
       " '0004898682.txt',\n",
       " '0004898822.txt',\n",
       " '0004898839.txt',\n",
       " '0004899171.txt',\n",
       " '0004899172.txt',\n",
       " '0004899187.txt',\n",
       " '0004899242.txt',\n",
       " '0004899251.txt',\n",
       " '0004899259.txt',\n",
       " '0004899281.txt',\n",
       " '0004945299.txt',\n",
       " '0004945383.txt',\n",
       " '0004945392.txt',\n",
       " '0004945637.txt',\n",
       " '0004945701.txt',\n",
       " '0004945738.txt',\n",
       " '0004945755.txt',\n",
       " '0004945809.txt',\n",
       " '0004945830.txt',\n",
       " '0004945849.txt',\n",
       " '0004945858.txt',\n",
       " '0005081476.txt',\n",
       " '0005081507.txt',\n",
       " '0005081876.txt',\n",
       " '0005082093.txt',\n",
       " '0005082124.txt',\n",
       " '0005082169.txt',\n",
       " '0005082194.txt',\n",
       " '0005082241.txt',\n",
       " '0005195060.txt',\n",
       " '0005195275.txt',\n",
       " '0005195278.txt',\n",
       " '0005195348.txt',\n",
       " '0005195391.txt',\n",
       " '0005195411.txt',\n",
       " '0005195416.txt',\n",
       " '0005322568.txt',\n",
       " '0005322695.txt',\n",
       " '0005322747.txt',\n",
       " '0005322794.txt',\n",
       " '0005322818.txt',\n",
       " '0005322905.txt',\n",
       " '0005322938.txt',\n",
       " '0005588405.txt',\n",
       " '0005589110.txt',\n",
       " '0005589187.txt',\n",
       " '0005589392.txt',\n",
       " '0005589489.txt',\n",
       " '0005589492.txt',\n",
       " '0005589512.txt',\n",
       " '0005589551.txt',\n",
       " '0005589570.txt',\n",
       " '0005589655.txt',\n",
       " '0005589662.txt',\n",
       " '0005589684.txt',\n",
       " '0007074514.txt',\n",
       " '0007079895.txt',\n",
       " '0007084728.txt',\n",
       " '0007088849.txt',\n",
       " '0007088878.txt',\n",
       " '0007089001.txt',\n",
       " '0007089010.txt',\n",
       " '0007089025.txt',\n",
       " '0007089798.txt',\n",
       " '0007090826.txt',\n",
       " '0007091310.txt',\n",
       " '0007091579.txt',\n",
       " '0007091614.txt',\n",
       " '0007092005.txt',\n",
       " '0007092064.txt',\n",
       " '0007092123.txt',\n",
       " '0007092168.txt',\n",
       " '0011576968.txt',\n",
       " '0011577334.txt',\n",
       " '0012129041.txt',\n",
       " '0012129155.txt',\n",
       " '0012129390.txt',\n",
       " '0012130039.txt',\n",
       " '0012130228.txt',\n",
       " '0012130459.txt',\n",
       " '0012130461.txt',\n",
       " '0012130599.txt',\n",
       " '0012130602.txt',\n",
       " '0012130622.txt',\n",
       " '0012130779.txt',\n",
       " '0012130782.txt',\n",
       " '0012130998.txt',\n",
       " '0014210580.txt',\n",
       " '0014223880.txt',\n",
       " '0014232204.txt',\n",
       " '0014233741.txt',\n",
       " '0014235672.txt',\n",
       " '0014238856.txt',\n",
       " '0014239064.txt',\n",
       " '0014239141.txt',\n",
       " '0014239353.txt',\n",
       " '0014239576.txt',\n",
       " '0014239605.txt',\n",
       " '0014239621.txt',\n",
       " '0014240135.txt',\n",
       " '0014240191.txt',\n",
       " '0014240580.txt',\n",
       " '0014241163.txt',\n",
       " '0014242180.txt',\n",
       " '0014242186.txt',\n",
       " '0014242187.txt',\n",
       " '0014242192.txt',\n",
       " '0014242237.txt',\n",
       " '0014242239.txt',\n",
       " '0014242350.txt',\n",
       " '0014242379.txt',\n",
       " '0014242385.txt',\n",
       " '0014242416.txt',\n",
       " '0014242430.txt',\n",
       " '0014242479.txt',\n",
       " '0014242501.txt',\n",
       " '0014242538.txt',\n",
       " '0014242569.txt']"
      ]
     },
     "execution_count": 94,
     "metadata": {},
     "output_type": "execute_result"
    }
   ],
   "source": [
    "listdir('./naver')"
   ]
  },
  {
   "cell_type": "markdown",
   "id": "eb6c8e5d-6a9a-41f7-b39b-e499de3f65bf",
   "metadata": {},
   "source": [
    "### 뉴스가 다 없더라.... 어쩐지 아무것도 수집되지 않더라..."
   ]
  },
  {
   "cell_type": "code",
   "execution_count": 67,
   "id": "b3df2bfd-1e75-48be-bc8b-718400e1dbab",
   "metadata": {},
   "outputs": [
    {
     "data": {
      "text/plain": [
       "['https://news.naver.com/',\n",
       " 'https://news.naver.com/main/main.naver?mode=LSD&mid=shm&sid1=100',\n",
       " 'https://news.naver.com/main/main.naver?mode=LSD&mid=shm&sid1=101',\n",
       " 'https://news.naver.com/main/main.naver?mode=LSD&mid=shm&sid1=102',\n",
       " 'https://news.naver.com/main/main.naver?mode=LSD&mid=shm&sid1=103',\n",
       " 'https://news.naver.com/main/main.naver?mode=LSD&mid=shm&sid1=105',\n",
       " 'https://news.naver.com/main/main.naver?mode=LSD&mid=shm&sid1=104',\n",
       " 'https://n.news.naver.com/mnews/article/047/0002408469?sid=100',\n",
       " 'https://n.news.naver.com/mnews/article/008/0004945392?sid=100',\n",
       " 'https://n.news.naver.com/mnews/article/022/0003861935?sid=100',\n",
       " 'https://n.news.naver.com/mnews/article/029/0002828809?sid=100',\n",
       " 'https://n.news.naver.com/mnews/article/023/0003791775?sid=100',\n",
       " 'https://n.news.naver.com/mnews/article/057/0001772379?sid=100',\n",
       " 'https://n.news.naver.com/mnews/article/001/0014242192?sid=100',\n",
       " 'https://n.news.naver.com/mnews/article/001/0014242416?sid=100',\n",
       " 'https://n.news.naver.com/mnews/article/022/0003861590?sid=100',\n",
       " 'https://n.news.naver.com/mnews/article/055/0001094985?sid=100',\n",
       " 'https://n.news.naver.com/mnews/hotissue/article/021/0002597643?type=series&cid=1089541',\n",
       " 'https://n.news.naver.com/mnews/hotissue/article/021/0002596806?type=series&cid=1089541',\n",
       " 'https://n.news.naver.com/mnews/hotissue/article/021/0002595792?type=series&cid=1089541',\n",
       " 'https://n.news.naver.com/mnews/hotissue/article/021/0002595600?type=series&cid=1089541',\n",
       " 'https://n.news.naver.com/mnews/article/016/0002206452?sid=101',\n",
       " 'https://n.news.naver.com/mnews/article/421/0007091310?sid=101',\n",
       " 'https://n.news.naver.com/mnews/article/215/0001128140?sid=101',\n",
       " 'https://n.news.naver.com/mnews/article/001/0014239064?sid=101',\n",
       " 'https://n.news.naver.com/mnews/article/016/0002206261?sid=101',\n",
       " 'https://n.news.naver.com/mnews/article/016/0002206481?sid=101',\n",
       " 'https://n.news.naver.com/mnews/article/015/0004899242?sid=101',\n",
       " 'https://n.news.naver.com/mnews/article/025/0003312442?sid=101',\n",
       " 'https://n.news.naver.com/mnews/article/001/0014240580?sid=101',\n",
       " 'https://n.news.naver.com/mnews/article/031/0000777226?sid=101',\n",
       " 'https://n.news.naver.com/mnews/hotissue/article/031/0000776944?type=series&cid=1088413',\n",
       " 'https://n.news.naver.com/mnews/hotissue/article/031/0000773646?type=series&cid=1088413',\n",
       " 'https://n.news.naver.com/mnews/hotissue/article/031/0000773591?type=series&cid=1088413',\n",
       " 'https://n.news.naver.com/mnews/hotissue/article/031/0000768792?type=series&cid=1088413',\n",
       " 'https://n.news.naver.com/mnews/article/023/0003791515?sid=102',\n",
       " 'https://n.news.naver.com/mnews/article/029/0002828622?sid=102',\n",
       " 'https://n.news.naver.com/mnews/article/005/0001642557?sid=102',\n",
       " 'https://n.news.naver.com/mnews/article/018/0005589662?sid=102',\n",
       " 'https://n.news.naver.com/mnews/article/277/0005322818?sid=102',\n",
       " 'https://n.news.naver.com/mnews/article/001/0014242385?sid=102',\n",
       " 'https://n.news.naver.com/mnews/article/005/0001642576?sid=102',\n",
       " 'https://n.news.naver.com/mnews/article/008/0004945383?sid=102',\n",
       " 'https://n.news.naver.com/mnews/article/008/0004945809?sid=102',\n",
       " 'https://n.news.naver.com/mnews/article/023/0003791624?sid=102',\n",
       " 'https://n.news.naver.com/mnews/hotissue/article/021/0002597629?type=series&cid=1089554',\n",
       " 'https://n.news.naver.com/mnews/hotissue/article/021/0002595638?type=series&cid=1089554',\n",
       " 'https://n.news.naver.com/mnews/hotissue/article/021/0002594307?type=series&cid=1089554',\n",
       " 'https://n.news.naver.com/mnews/hotissue/article/021/0002594297?type=series&cid=1089554',\n",
       " 'https://n.news.naver.com/mnews/article/011/0004245962?sid=103',\n",
       " 'https://n.news.naver.com/mnews/article/008/0004945738?sid=103',\n",
       " 'https://n.news.naver.com/mnews/article/366/0000937192?sid=103',\n",
       " 'https://n.news.naver.com/mnews/article/437/0000362047?sid=103',\n",
       " 'https://n.news.naver.com/mnews/article/422/0000622635?sid=103',\n",
       " 'https://n.news.naver.com/mnews/article/437/0000362050?sid=103',\n",
       " 'https://n.news.naver.com/mnews/article/366/0000937228?sid=103',\n",
       " 'https://n.news.naver.com/mnews/article/022/0003862053?sid=103',\n",
       " 'https://n.news.naver.com/mnews/hotissue/article/001/0014242237?type=series&cid=1087218',\n",
       " 'https://n.news.naver.com/mnews/hotissue/article/001/0014232204?type=series&cid=1087218',\n",
       " 'https://n.news.naver.com/mnews/hotissue/article/001/0014223880?type=series&cid=1087218',\n",
       " 'https://n.news.naver.com/mnews/hotissue/article/001/0014210580?type=series&cid=1087218',\n",
       " 'https://n.news.naver.com/mnews/hotissue/article/015/0004899172?type=series&cid=1086097',\n",
       " 'https://n.news.naver.com/mnews/hotissue/article/015/0004897833?type=series&cid=1086097',\n",
       " 'https://n.news.naver.com/mnews/hotissue/article/015/0004897736?type=series&cid=1086097',\n",
       " 'https://n.news.naver.com/mnews/hotissue/article/015/0004897345?type=series&cid=1086097',\n",
       " 'https://n.news.naver.com/mnews/article/081/0003398411?sid=105',\n",
       " 'https://n.news.naver.com/mnews/article/020/0003523864?sid=105',\n",
       " 'https://n.news.naver.com/mnews/article/029/0002828706?sid=105',\n",
       " 'https://n.news.naver.com/mnews/article/366/0000937230?sid=105',\n",
       " 'https://n.news.naver.com/mnews/article/138/0002158058?sid=105',\n",
       " 'https://n.news.naver.com/mnews/article/008/0004945299?sid=105',\n",
       " 'https://n.news.naver.com/mnews/article/023/0003791562?sid=105',\n",
       " 'https://n.news.naver.com/mnews/article/119/0002755444?sid=105',\n",
       " 'https://n.news.naver.com/mnews/hotissue/article/421/0007088849?type=series&cid=2000002',\n",
       " 'https://n.news.naver.com/mnews/hotissue/article/421/0007084728?type=series&cid=2000002',\n",
       " 'https://n.news.naver.com/mnews/hotissue/article/421/0007079895?type=series&cid=2000002',\n",
       " 'https://n.news.naver.com/mnews/hotissue/article/421/0007074514?type=series&cid=2000002',\n",
       " 'https://n.news.naver.com/mnews/hotissue/article/081/0003398001?type=series&cid=1057665',\n",
       " 'https://n.news.naver.com/mnews/hotissue/article/081/0003396908?type=series&cid=1057665',\n",
       " 'https://n.news.naver.com/mnews/hotissue/article/081/0003394995?type=series&cid=1057665',\n",
       " 'https://n.news.naver.com/mnews/hotissue/article/081/0003393103?type=series&cid=1057665',\n",
       " 'https://n.news.naver.com/mnews/article/032/0003252945?sid=104',\n",
       " 'https://n.news.naver.com/mnews/article/002/0002302894?sid=104',\n",
       " 'https://n.news.naver.com/mnews/article/469/0000763643?sid=104',\n",
       " 'https://n.news.naver.com/mnews/article/055/0001094832?sid=104',\n",
       " 'https://n.news.naver.com/mnews/article/018/0005589512?sid=104',\n",
       " 'https://n.news.naver.com/mnews/article/082/0001235349?sid=104',\n",
       " 'https://n.news.naver.com/mnews/article/055/0001095042?sid=104',\n",
       " 'https://n.news.naver.com/mnews/article/008/0004945755?sid=104',\n",
       " 'https://n.news.naver.com/mnews/article/052/0001943815?sid=104',\n",
       " 'https://n.news.naver.com/mnews/article/022/0003862069?sid=104',\n",
       " 'https://n.news.naver.com/mnews/hotissue/article/015/0004898822?type=series&cid=2001090',\n",
       " 'https://n.news.naver.com/mnews/hotissue/article/015/0004897224?type=series&cid=2001090',\n",
       " 'https://n.news.naver.com/mnews/hotissue/article/015/0004895089?type=series&cid=2001090',\n",
       " 'https://n.news.naver.com/mnews/hotissue/article/015/0004889839?type=series&cid=2001090']"
      ]
     },
     "execution_count": 67,
     "metadata": {},
     "output_type": "execute_result"
    }
   ],
   "source": [
    "seens"
   ]
  },
  {
   "cell_type": "code",
   "execution_count": 21,
   "id": "4d17d38f-48e6-4aa7-b57c-7e095b7b1385",
   "metadata": {},
   "outputs": [
    {
     "ename": "FileExistsError",
     "evalue": "[WinError 183] 파일이 이미 있으므로 만들 수 없습니다: 'naver'",
     "output_type": "error",
     "traceback": [
      "\u001b[1;31m---------------------------------------------------------------------------\u001b[0m",
      "\u001b[1;31mFileExistsError\u001b[0m                           Traceback (most recent call last)",
      "Cell \u001b[1;32mIn[21], line 2\u001b[0m\n\u001b[0;32m      1\u001b[0m \u001b[38;5;28;01mfrom\u001b[39;00m \u001b[38;5;21;01mos\u001b[39;00m \u001b[38;5;28;01mimport\u001b[39;00m listdir, mkdir\n\u001b[1;32m----> 2\u001b[0m \u001b[43mmkdir\u001b[49m\u001b[43m(\u001b[49m\u001b[38;5;124;43m'\u001b[39;49m\u001b[38;5;124;43mnaver\u001b[39;49m\u001b[38;5;124;43m'\u001b[39;49m\u001b[43m)\u001b[49m\n\u001b[0;32m      3\u001b[0m listdir(\u001b[38;5;124m'\u001b[39m\u001b[38;5;124m.\u001b[39m\u001b[38;5;124m'\u001b[39m)\n",
      "\u001b[1;31mFileExistsError\u001b[0m: [WinError 183] 파일이 이미 있으므로 만들 수 없습니다: 'naver'"
     ]
    }
   ],
   "source": [
    "from os import listdir, mkdir\n",
    "mkdir('naver')\n",
    "listdir('.')"
   ]
  },
  {
   "cell_type": "markdown",
   "id": "29524bab-c58e-4b65-be64-060c2c053874",
   "metadata": {},
   "source": [
    "### file id 만들기"
   ]
  },
  {
   "cell_type": "code",
   "execution_count": 95,
   "id": "7c412839-0e51-4b44-bfd8-afabb8af2f01",
   "metadata": {},
   "outputs": [
    {
     "data": {
      "text/plain": [
       "['0000015228.txt',\n",
       " '0000015343.txt',\n",
       " '0000015369.txt',\n",
       " '0000015398.txt',\n",
       " '0000020088.txt',\n",
       " '0000020663.txt',\n",
       " '0000021218.txt',\n",
       " '0000022648.txt',\n",
       " '0000046326.txt',\n",
       " '0000047901.txt',\n",
       " '0000049955.txt',\n",
       " '0000050638.txt',\n",
       " '0000054197.txt',\n",
       " '0000120141.txt',\n",
       " '0000353463.txt',\n",
       " '0000361949.txt',\n",
       " '0000361955.txt',\n",
       " '0000362047.txt',\n",
       " '0000362050.txt',\n",
       " '0000362063.txt',\n",
       " '0000362078.txt',\n",
       " '0000430333.txt',\n",
       " '0000430354.txt',\n",
       " '0000430365.txt',\n",
       " '0000430389.txt',\n",
       " '0000430464.txt',\n",
       " '0000430497.txt',\n",
       " '0000430508.txt',\n",
       " '0000430514.txt',\n",
       " '0000430536.txt',\n",
       " '0000621113.txt',\n",
       " '0000621466.txt',\n",
       " '0000622324.txt',\n",
       " '0000622489.txt',\n",
       " '0000622492.txt',\n",
       " '0000622502.txt',\n",
       " '0000622594.txt',\n",
       " '0000622635.txt',\n",
       " '0000622638.txt',\n",
       " '0000763643.txt',\n",
       " '0000763733.txt',\n",
       " '0000768792.txt',\n",
       " '0000769247.txt',\n",
       " '0000773513.txt',\n",
       " '0000773591.txt',\n",
       " '0000773646.txt',\n",
       " '0000775960.txt',\n",
       " '0000776944.txt',\n",
       " '0000777226.txt',\n",
       " '0000777256.txt',\n",
       " '0000777301.txt',\n",
       " '0000837802.txt',\n",
       " '0000838077.txt',\n",
       " '0000838289.txt',\n",
       " '0000838952.txt',\n",
       " '0000937044.txt',\n",
       " '0000937063.txt',\n",
       " '0000937114.txt',\n",
       " '0000937177.txt',\n",
       " '0000937192.txt',\n",
       " '0000937228.txt',\n",
       " '0000937230.txt',\n",
       " '0000937259.txt',\n",
       " '0000937268.txt',\n",
       " '0000952386.txt',\n",
       " '0000952390.txt',\n",
       " '0000952758.txt',\n",
       " '0000953079.txt',\n",
       " '0000998783.txt',\n",
       " '0000998997.txt',\n",
       " '0001094782.txt',\n",
       " '0001094832.txt',\n",
       " '0001094985.txt',\n",
       " '0001095042.txt',\n",
       " '0001095048.txt',\n",
       " '0001095070.txt',\n",
       " '0001095122.txt',\n",
       " '0001110357.txt',\n",
       " '0001127745.txt',\n",
       " '0001127936.txt',\n",
       " '0001128107.txt',\n",
       " '0001128113.txt',\n",
       " '0001128140.txt',\n",
       " '0001231207.txt',\n",
       " '0001232376.txt',\n",
       " '0001233673.txt',\n",
       " '0001235349.txt',\n",
       " '0001235356.txt',\n",
       " '0001235440.txt',\n",
       " '0001303619.txt',\n",
       " '0001303622.txt',\n",
       " '0001303660.txt',\n",
       " '0001303676.txt',\n",
       " '0001642261.txt',\n",
       " '0001642312.txt',\n",
       " '0001642378.txt',\n",
       " '0001642403.txt',\n",
       " '0001642473.txt',\n",
       " '0001642557.txt',\n",
       " '0001642572.txt',\n",
       " '0001642573.txt',\n",
       " '0001642576.txt',\n",
       " '0001642586.txt',\n",
       " '0001772291.txt',\n",
       " '0001772379.txt',\n",
       " '0001772420.txt',\n",
       " '0001772497.txt',\n",
       " '0001772551.txt',\n",
       " '0001943801.txt',\n",
       " '0001943815.txt',\n",
       " '0001943827.txt',\n",
       " '0002156986.txt',\n",
       " '0002157576.txt',\n",
       " '0002157659.txt',\n",
       " '0002157756.txt',\n",
       " '0002157924.txt',\n",
       " '0002157954.txt',\n",
       " '0002157957.txt',\n",
       " '0002158024.txt',\n",
       " '0002158028.txt',\n",
       " '0002158058.txt',\n",
       " '0002205924.txt',\n",
       " '0002206136.txt',\n",
       " '0002206261.txt',\n",
       " '0002206290.txt',\n",
       " '0002206326.txt',\n",
       " '0002206362.txt',\n",
       " '0002206392.txt',\n",
       " '0002206395.txt',\n",
       " '0002206452.txt',\n",
       " '0002206481.txt',\n",
       " '0002206491.txt',\n",
       " '0002206493.txt',\n",
       " '0002206505.txt',\n",
       " '0002206522.txt',\n",
       " '0002206526.txt',\n",
       " '0002206542.txt',\n",
       " '0002302894.txt',\n",
       " '0002303930.txt',\n",
       " '0002304452.txt',\n",
       " '0002305138.txt',\n",
       " '0002305276.txt',\n",
       " '0002305608.txt',\n",
       " '0002305952.txt',\n",
       " '0002306826.txt',\n",
       " '0002307039.txt',\n",
       " '0002307053.txt',\n",
       " '0002307063.txt',\n",
       " '0002317284.txt',\n",
       " '0002408032.txt',\n",
       " '0002408330.txt',\n",
       " '0002408352.txt',\n",
       " '0002408469.txt',\n",
       " '0002408488.txt',\n",
       " '0002594297.txt',\n",
       " '0002594307.txt',\n",
       " '0002595600.txt',\n",
       " '0002595638.txt',\n",
       " '0002595792.txt',\n",
       " '0002596806.txt',\n",
       " '0002597598.txt',\n",
       " '0002597629.txt',\n",
       " '0002597643.txt',\n",
       " '0002657738.txt',\n",
       " '0002657856.txt',\n",
       " '0002657910.txt',\n",
       " '0002658347.txt',\n",
       " '0002658573.txt',\n",
       " '0002658857.txt',\n",
       " '0002659022.txt',\n",
       " '0002659037.txt',\n",
       " '0002659175.txt',\n",
       " '0002755181.txt',\n",
       " '0002755357.txt',\n",
       " '0002755444.txt',\n",
       " '0002828606.txt',\n",
       " '0002828622.txt',\n",
       " '0002828706.txt',\n",
       " '0002828738.txt',\n",
       " '0002828809.txt',\n",
       " '0003141616.txt',\n",
       " '0003141730.txt',\n",
       " '0003141878.txt',\n",
       " '0003141944.txt',\n",
       " '0003141950.txt',\n",
       " '0003142164.txt',\n",
       " '0003142167.txt',\n",
       " '0003142230.txt',\n",
       " '0003142255.txt',\n",
       " '0003142257.txt',\n",
       " '0003252945.txt',\n",
       " '0003253034.txt',\n",
       " '0003253065.txt',\n",
       " '0003312265.txt',\n",
       " '0003312266.txt',\n",
       " '0003312293.txt',\n",
       " '0003312362.txt',\n",
       " '0003312371.txt',\n",
       " '0003312409.txt',\n",
       " '0003312442.txt',\n",
       " '0003312470.txt',\n",
       " '0003391481.txt',\n",
       " '0003393103.txt',\n",
       " '0003393420.txt',\n",
       " '0003393443.txt',\n",
       " '0003393847.txt',\n",
       " '0003394262.txt',\n",
       " '0003394995.txt',\n",
       " '0003395353.txt',\n",
       " '0003395401.txt',\n",
       " '0003396237.txt',\n",
       " '0003396527.txt',\n",
       " '0003396908.txt',\n",
       " '0003397003.txt',\n",
       " '0003397193.txt',\n",
       " '0003397739.txt',\n",
       " '0003397750.txt',\n",
       " '0003398001.txt',\n",
       " '0003398198.txt',\n",
       " '0003398326.txt',\n",
       " '0003398344.txt',\n",
       " '0003398407.txt',\n",
       " '0003398411.txt',\n",
       " '0003523864.txt',\n",
       " '0003523910.txt',\n",
       " '0003523942.txt',\n",
       " '0003524003.txt',\n",
       " '0003791515.txt',\n",
       " '0003791562.txt',\n",
       " '0003791606.txt',\n",
       " '0003791624.txt',\n",
       " '0003791626.txt',\n",
       " '0003791639.txt',\n",
       " '0003791739.txt',\n",
       " '0003791775.txt',\n",
       " '0003791782.txt',\n",
       " '0003819676.txt',\n",
       " '0003819790.txt',\n",
       " '0003819816.txt',\n",
       " '0003819994.txt',\n",
       " '0003820031.txt',\n",
       " '0003859664.txt',\n",
       " '0003861122.txt',\n",
       " '0003861549.txt',\n",
       " '0003861590.txt',\n",
       " '0003861690.txt',\n",
       " '0003861807.txt',\n",
       " '0003861856.txt',\n",
       " '0003861935.txt',\n",
       " '0003861993.txt',\n",
       " '0003862053.txt',\n",
       " '0003862069.txt',\n",
       " '0004245455.txt',\n",
       " '0004245738.txt',\n",
       " '0004245820.txt',\n",
       " '0004245881.txt',\n",
       " '0004245962.txt',\n",
       " '0004246128.txt',\n",
       " '0004889839.txt',\n",
       " '0004895089.txt',\n",
       " '0004896456.txt',\n",
       " '0004896961.txt',\n",
       " '0004897224.txt',\n",
       " '0004897345.txt',\n",
       " '0004897500.txt',\n",
       " '0004897736.txt',\n",
       " '0004897833.txt',\n",
       " '0004898610.txt',\n",
       " '0004898670.txt',\n",
       " '0004898682.txt',\n",
       " '0004898822.txt',\n",
       " '0004898839.txt',\n",
       " '0004899171.txt',\n",
       " '0004899172.txt',\n",
       " '0004899187.txt',\n",
       " '0004899242.txt',\n",
       " '0004899251.txt',\n",
       " '0004899259.txt',\n",
       " '0004899281.txt',\n",
       " '0004945299.txt',\n",
       " '0004945383.txt',\n",
       " '0004945392.txt',\n",
       " '0004945637.txt',\n",
       " '0004945701.txt',\n",
       " '0004945738.txt',\n",
       " '0004945755.txt',\n",
       " '0004945809.txt',\n",
       " '0004945830.txt',\n",
       " '0004945849.txt',\n",
       " '0004945858.txt',\n",
       " '0005081476.txt',\n",
       " '0005081507.txt',\n",
       " '0005081876.txt',\n",
       " '0005082093.txt',\n",
       " '0005082124.txt',\n",
       " '0005082169.txt',\n",
       " '0005082194.txt',\n",
       " '0005082241.txt',\n",
       " '0005195060.txt',\n",
       " '0005195275.txt',\n",
       " '0005195278.txt',\n",
       " '0005195348.txt',\n",
       " '0005195391.txt',\n",
       " '0005195411.txt',\n",
       " '0005195416.txt',\n",
       " '0005322568.txt',\n",
       " '0005322695.txt',\n",
       " '0005322747.txt',\n",
       " '0005322794.txt',\n",
       " '0005322818.txt',\n",
       " '0005322905.txt',\n",
       " '0005322938.txt',\n",
       " '0005588405.txt',\n",
       " '0005589110.txt',\n",
       " '0005589187.txt',\n",
       " '0005589392.txt',\n",
       " '0005589489.txt',\n",
       " '0005589492.txt',\n",
       " '0005589512.txt',\n",
       " '0005589551.txt',\n",
       " '0005589570.txt',\n",
       " '0005589655.txt',\n",
       " '0005589662.txt',\n",
       " '0005589684.txt',\n",
       " '0007074514.txt',\n",
       " '0007079895.txt',\n",
       " '0007084728.txt',\n",
       " '0007088849.txt',\n",
       " '0007088878.txt',\n",
       " '0007089001.txt',\n",
       " '0007089010.txt',\n",
       " '0007089025.txt',\n",
       " '0007089798.txt',\n",
       " '0007090826.txt',\n",
       " '0007091310.txt',\n",
       " '0007091579.txt',\n",
       " '0007091614.txt',\n",
       " '0007092005.txt',\n",
       " '0007092064.txt',\n",
       " '0007092123.txt',\n",
       " '0007092168.txt',\n",
       " '0011576968.txt',\n",
       " '0011577334.txt',\n",
       " '0012129041.txt',\n",
       " '0012129155.txt',\n",
       " '0012129390.txt',\n",
       " '0012130039.txt',\n",
       " '0012130228.txt',\n",
       " '0012130459.txt',\n",
       " '0012130461.txt',\n",
       " '0012130599.txt',\n",
       " '0012130602.txt',\n",
       " '0012130622.txt',\n",
       " '0012130779.txt',\n",
       " '0012130782.txt',\n",
       " '0012130998.txt',\n",
       " '0014210580.txt',\n",
       " '0014223880.txt',\n",
       " '0014232204.txt',\n",
       " '0014233741.txt',\n",
       " '0014235672.txt',\n",
       " '0014238856.txt',\n",
       " '0014239064.txt',\n",
       " '0014239141.txt',\n",
       " '0014239353.txt',\n",
       " '0014239576.txt',\n",
       " '0014239605.txt',\n",
       " '0014239621.txt',\n",
       " '0014240135.txt',\n",
       " '0014240191.txt',\n",
       " '0014240580.txt',\n",
       " '0014241163.txt',\n",
       " '0014242180.txt',\n",
       " '0014242186.txt',\n",
       " '0014242187.txt',\n",
       " '0014242192.txt',\n",
       " '0014242237.txt',\n",
       " '0014242239.txt',\n",
       " '0014242350.txt',\n",
       " '0014242379.txt',\n",
       " '0014242385.txt',\n",
       " '0014242416.txt',\n",
       " '0014242430.txt',\n",
       " '0014242479.txt',\n",
       " '0014242501.txt',\n",
       " '0014242538.txt',\n",
       " '0014242569.txt']"
      ]
     },
     "execution_count": 95,
     "metadata": {},
     "output_type": "execute_result"
    }
   ],
   "source": [
    "def fileids(path, ext='txt'):\n",
    "    return list(filter(lambda f:re.search(f'{ext}$', f),\n",
    "                       listdir(path)))\n",
    "fileids('./naver')"
   ]
  },
  {
   "cell_type": "code",
   "execution_count": 96,
   "id": "0716977b-ecff-416f-be95-1904e23fb3e5",
   "metadata": {},
   "outputs": [],
   "source": [
    "def fileids(path, ext='txt'):\n",
    "    files = list(filter(lambda f:re.search(f'{ext}$', f),\n",
    "                       listdir(path)))\n",
    "    return list(map(lambda f:f'{path}/{f}', files))\n",
    "# fileids('./naver')"
   ]
  },
  {
   "cell_type": "code",
   "execution_count": 97,
   "id": "3d9aa124-ad5d-4e13-8483-fbc0fdf98111",
   "metadata": {},
   "outputs": [
    {
     "ename": "UnicodeDecodeError",
     "evalue": "'cp949' codec can't decode byte 0xe2 in position 33: illegal multibyte sequence",
     "output_type": "error",
     "traceback": [
      "\u001b[1;31m---------------------------------------------------------------------------\u001b[0m",
      "\u001b[1;31mUnicodeDecodeError\u001b[0m                        Traceback (most recent call last)",
      "Cell \u001b[1;32mIn[97], line 2\u001b[0m\n\u001b[0;32m      1\u001b[0m \u001b[38;5;28;01mwith\u001b[39;00m \u001b[38;5;28mopen\u001b[39m(fileids(\u001b[38;5;124m'\u001b[39m\u001b[38;5;124m./naver\u001b[39m\u001b[38;5;124m'\u001b[39m)[\u001b[38;5;241m0\u001b[39m], \u001b[38;5;124m'\u001b[39m\u001b[38;5;124mr\u001b[39m\u001b[38;5;124m'\u001b[39m) \u001b[38;5;28;01mas\u001b[39;00m fp:\n\u001b[1;32m----> 2\u001b[0m     \u001b[38;5;28mprint\u001b[39m(\u001b[43mfp\u001b[49m\u001b[38;5;241;43m.\u001b[39;49m\u001b[43mread\u001b[49m\u001b[43m(\u001b[49m\u001b[43m)\u001b[49m)\n",
      "\u001b[1;31mUnicodeDecodeError\u001b[0m: 'cp949' codec can't decode byte 0xe2 in position 33: illegal multibyte sequence"
     ]
    }
   ],
   "source": [
    "with open(fileids('./naver')[0], 'r') as fp:\n",
    "    print(fp.read())"
   ]
  },
  {
   "cell_type": "markdown",
   "id": "6c86afa7-1081-4345-b504-bfb7d0b7bc99",
   "metadata": {},
   "source": [
    "# 한국말일때, 실데이터(기사)에서 힙스의 법칙, 집스의 법칙 보기"
   ]
  },
  {
   "cell_type": "code",
   "execution_count": 98,
   "id": "2fa44554-2735-488c-8bfc-d19a76494b85",
   "metadata": {},
   "outputs": [],
   "source": [
    "def ngram(s, n=2):\n",
    "    rst=list()\n",
    "    for i in range(len(s)-(n-1)):\n",
    "        rst.append(tuple(s[i:i+n]))\n",
    "    return rst"
   ]
  },
  {
   "cell_type": "code",
   "execution_count": 99,
   "id": "02f5f487-714d-45b8-b5cb-793af275331c",
   "metadata": {},
   "outputs": [],
   "source": [
    "from konlpy.corpus import kolaw\n",
    "corpus=kolaw.open(kolaw.fileids()[0]).read()"
   ]
  },
  {
   "cell_type": "code",
   "execution_count": 100,
   "id": "aa166bab-9a96-4fef-b15b-020cfd402cd4",
   "metadata": {},
   "outputs": [],
   "source": [
    "from konlpy.tag import Komoran\n",
    "ma=Komoran()"
   ]
  },
  {
   "cell_type": "code",
   "execution_count": 101,
   "id": "ad278f77-9702-4484-a945-b977f54461d7",
   "metadata": {},
   "outputs": [],
   "source": [
    "from nltk.tokenize import word_tokenize\n",
    "from nltk.text import Text"
   ]
  },
  {
   "cell_type": "code",
   "execution_count": 102,
   "id": "30d80535-758e-4be6-9673-8fd11f590fec",
   "metadata": {},
   "outputs": [],
   "source": [
    "tokens=word_tokenize(corpus)\n",
    "bigram=ngram(tokens)"
   ]
  },
  {
   "cell_type": "code",
   "execution_count": 76,
   "id": "25828605-17a8-43ef-928d-eb6f643bde3c",
   "metadata": {},
   "outputs": [],
   "source": [
    "biText=Text(bigram)"
   ]
  },
  {
   "cell_type": "code",
   "execution_count": 77,
   "id": "4543bc81-93f1-470e-909f-0e50510a1670",
   "metadata": {},
   "outputs": [],
   "source": [
    "unigram=ngram(tokens,1)"
   ]
  },
  {
   "cell_type": "code",
   "execution_count": 78,
   "id": "2e91e42b-a661-487e-af5a-ef62d0a01116",
   "metadata": {},
   "outputs": [],
   "source": [
    "from nltk.probability import FreqDist"
   ]
  },
  {
   "cell_type": "code",
   "execution_count": 79,
   "id": "d4cd8e66-b06c-431d-9447-9a7faafa9998",
   "metadata": {},
   "outputs": [
    {
     "data": {
      "text/plain": [
       "57"
      ]
     },
     "execution_count": 79,
     "metadata": {},
     "output_type": "execute_result"
    }
   ],
   "source": [
    "len(list(filter(lambda t:t[0]=='법률이', unigram)))"
   ]
  },
  {
   "cell_type": "code",
   "execution_count": 80,
   "id": "54eae988-6b22-40ca-9657-358894b5b535",
   "metadata": {},
   "outputs": [],
   "source": [
    "a=FreqDist(list(filter(lambda t:t[0]=='법률이', bigram)))"
   ]
  },
  {
   "cell_type": "code",
   "execution_count": 81,
   "id": "8f905263-6ef3-450e-a401-1949315756e2",
   "metadata": {},
   "outputs": [
    {
     "name": "stdout",
     "output_type": "stream",
     "text": [
      "('법률이', '정하는')-48=>P(('법률이', '정하는')|법률이)=0.8421052631578947\n",
      "('법률이', '정한')-7=>P(('법률이', '정한')|법률이)=0.12280701754385964\n",
      "('법률이', '확정된')-1=>P(('법률이', '확정된')|법률이)=0.017543859649122806\n",
      "('법률이', '헌법에')-1=>P(('법률이', '헌법에')|법률이)=0.017543859649122806\n"
     ]
    }
   ],
   "source": [
    "for k,v in a.items():\n",
    "    print(f'{k}-{v}=>P({k}|법률이)={v/sum(a.values())}')"
   ]
  },
  {
   "cell_type": "code",
   "execution_count": 103,
   "id": "ea6b0278-8d4e-4db5-8680-53a8e9e4905b",
   "metadata": {},
   "outputs": [
    {
     "ename": "UnicodeDecodeError",
     "evalue": "'cp949' codec can't decode byte 0xe2 in position 33: illegal multibyte sequence",
     "output_type": "error",
     "traceback": [
      "\u001b[1;31m---------------------------------------------------------------------------\u001b[0m",
      "\u001b[1;31mUnicodeDecodeError\u001b[0m                        Traceback (most recent call last)",
      "Cell \u001b[1;32mIn[103], line 4\u001b[0m\n\u001b[0;32m      2\u001b[0m \u001b[38;5;28;01mfor\u001b[39;00m f \u001b[38;5;129;01min\u001b[39;00m fileids(\u001b[38;5;124m'\u001b[39m\u001b[38;5;124mnaver\u001b[39m\u001b[38;5;124m'\u001b[39m):\n\u001b[0;32m      3\u001b[0m     \u001b[38;5;28;01mwith\u001b[39;00m \u001b[38;5;28mopen\u001b[39m(f, \u001b[38;5;124m'\u001b[39m\u001b[38;5;124mr\u001b[39m\u001b[38;5;124m'\u001b[39m) \u001b[38;5;28;01mas\u001b[39;00m fp:\n\u001b[1;32m----> 4\u001b[0m         corpus\u001b[38;5;241m.\u001b[39mappend(\u001b[43mfp\u001b[49m\u001b[38;5;241;43m.\u001b[39;49m\u001b[43mread\u001b[49m\u001b[43m(\u001b[49m\u001b[43m)\u001b[49m)\n",
      "\u001b[1;31mUnicodeDecodeError\u001b[0m: 'cp949' codec can't decode byte 0xe2 in position 33: illegal multibyte sequence"
     ]
    }
   ],
   "source": [
    "corpus = list()\n",
    "for f in fileids('naver'):\n",
    "    with open(f, 'r') as fp:\n",
    "        corpus.append(fp.read())"
   ]
  },
  {
   "cell_type": "code",
   "execution_count": 83,
   "id": "6136e862-6abc-4ae2-ba94-227ba8dd8c54",
   "metadata": {},
   "outputs": [],
   "source": [
    "from nltk.tokenize import sent_tokenize\n",
    "\n",
    "wtText = list()\n",
    "maText = list()\n",
    "wtText.append(FreqDist())\n",
    "maText.append(FreqDist())\n",
    "\n",
    "# texts = list()\n",
    "# texts.append(FreqDist())\n",
    "for d in corpus:\n",
    "    \n",
    "    wtText.append(wtText[-1] + Text(word_tokenize(d)).vocab())\n",
    "\n",
    "    rst = list()\n",
    "    for s in sent_tokenize(re.sub(r'\\s+', ' ', d)):\n",
    "        rst.extend(ma.morphs(s))\n",
    "    maText.append(maText[-1] + Text(rst).vocab())"
   ]
  },
  {
   "cell_type": "code",
   "execution_count": 84,
   "id": "8e6296e0-7074-4220-8547-ed106e969227",
   "metadata": {},
   "outputs": [
    {
     "data": {
      "text/plain": [
       "(0, 0, 0, 0)"
      ]
     },
     "execution_count": 84,
     "metadata": {},
     "output_type": "execute_result"
    }
   ],
   "source": [
    "wtText[-1].B(), wtText[-1].N(), \\\n",
    "maText[-1].B(), wtText[-1].N()"
   ]
  },
  {
   "cell_type": "code",
   "execution_count": 85,
   "id": "0e9fdf3d-6781-4074-97b0-187dde861507",
   "metadata": {},
   "outputs": [
    {
     "data": {
      "text/plain": [
       "[]"
      ]
     },
     "execution_count": 85,
     "metadata": {},
     "output_type": "execute_result"
    }
   ],
   "source": [
    "list(zip(wtText[-1].most_common(10), maText[-1].most_common(10)))"
   ]
  },
  {
   "cell_type": "code",
   "execution_count": 88,
   "id": "310509ea-cc7a-4fdf-a31b-5fa8c990220e",
   "metadata": {},
   "outputs": [
    {
     "ename": "ValueError",
     "evalue": "x and y must have same first dimension, but have shapes (100,) and (0,)",
     "output_type": "error",
     "traceback": [
      "\u001b[1;31m---------------------------------------------------------------------------\u001b[0m",
      "\u001b[1;31mValueError\u001b[0m                                Traceback (most recent call last)",
      "Cell \u001b[1;32mIn[88], line 12\u001b[0m\n\u001b[0;32m      7\u001b[0m X3 \u001b[38;5;241m=\u001b[39m \u001b[38;5;28mlist\u001b[39m(\u001b[38;5;28mmap\u001b[39m(\u001b[38;5;28;01mlambda\u001b[39;00m r:maText[\u001b[38;5;241m-\u001b[39m\u001b[38;5;241m1\u001b[39m]\u001b[38;5;241m.\u001b[39mget(r)\u001b[38;5;241m/\u001b[39mmaText[\u001b[38;5;241m-\u001b[39m\u001b[38;5;241m1\u001b[39m]\u001b[38;5;241m.\u001b[39mget(maText[\u001b[38;5;241m-\u001b[39m\u001b[38;5;241m1\u001b[39m]\u001b[38;5;241m.\u001b[39mmax()),\n\u001b[0;32m      8\u001b[0m          \u001b[38;5;28msorted\u001b[39m(maText[\u001b[38;5;241m-\u001b[39m\u001b[38;5;241m1\u001b[39m], key\u001b[38;5;241m=\u001b[39mmaText[\u001b[38;5;241m-\u001b[39m\u001b[38;5;241m1\u001b[39m]\u001b[38;5;241m.\u001b[39mget, reverse\u001b[38;5;241m=\u001b[39m\u001b[38;5;28;01mTrue\u001b[39;00m)[:N]))\n\u001b[0;32m     11\u001b[0m plt\u001b[38;5;241m.\u001b[39mplot(\u001b[38;5;28mrange\u001b[39m(N), X1)\n\u001b[1;32m---> 12\u001b[0m \u001b[43mplt\u001b[49m\u001b[38;5;241;43m.\u001b[39;49m\u001b[43mplot\u001b[49m\u001b[43m(\u001b[49m\u001b[38;5;28;43mrange\u001b[39;49m\u001b[43m(\u001b[49m\u001b[43mN\u001b[49m\u001b[43m)\u001b[49m\u001b[43m,\u001b[49m\u001b[43m \u001b[49m\u001b[43mX2\u001b[49m\u001b[43m)\u001b[49m\n\u001b[0;32m     13\u001b[0m plt\u001b[38;5;241m.\u001b[39mplot(\u001b[38;5;28mrange\u001b[39m(N), X3)\n",
      "File \u001b[1;32m~\\AppData\\Roaming\\Python\\Python310\\site-packages\\matplotlib\\pyplot.py:2812\u001b[0m, in \u001b[0;36mplot\u001b[1;34m(scalex, scaley, data, *args, **kwargs)\u001b[0m\n\u001b[0;32m   2810\u001b[0m \u001b[38;5;129m@_copy_docstring_and_deprecators\u001b[39m(Axes\u001b[38;5;241m.\u001b[39mplot)\n\u001b[0;32m   2811\u001b[0m \u001b[38;5;28;01mdef\u001b[39;00m \u001b[38;5;21mplot\u001b[39m(\u001b[38;5;241m*\u001b[39margs, scalex\u001b[38;5;241m=\u001b[39m\u001b[38;5;28;01mTrue\u001b[39;00m, scaley\u001b[38;5;241m=\u001b[39m\u001b[38;5;28;01mTrue\u001b[39;00m, data\u001b[38;5;241m=\u001b[39m\u001b[38;5;28;01mNone\u001b[39;00m, \u001b[38;5;241m*\u001b[39m\u001b[38;5;241m*\u001b[39mkwargs):\n\u001b[1;32m-> 2812\u001b[0m     \u001b[38;5;28;01mreturn\u001b[39;00m gca()\u001b[38;5;241m.\u001b[39mplot(\n\u001b[0;32m   2813\u001b[0m         \u001b[38;5;241m*\u001b[39margs, scalex\u001b[38;5;241m=\u001b[39mscalex, scaley\u001b[38;5;241m=\u001b[39mscaley,\n\u001b[0;32m   2814\u001b[0m         \u001b[38;5;241m*\u001b[39m\u001b[38;5;241m*\u001b[39m({\u001b[38;5;124m\"\u001b[39m\u001b[38;5;124mdata\u001b[39m\u001b[38;5;124m\"\u001b[39m: data} \u001b[38;5;28;01mif\u001b[39;00m data \u001b[38;5;129;01mis\u001b[39;00m \u001b[38;5;129;01mnot\u001b[39;00m \u001b[38;5;28;01mNone\u001b[39;00m \u001b[38;5;28;01melse\u001b[39;00m {}), \u001b[38;5;241m*\u001b[39m\u001b[38;5;241m*\u001b[39mkwargs)\n",
      "File \u001b[1;32m~\\AppData\\Roaming\\Python\\Python310\\site-packages\\matplotlib\\axes\\_axes.py:1688\u001b[0m, in \u001b[0;36mAxes.plot\u001b[1;34m(self, scalex, scaley, data, *args, **kwargs)\u001b[0m\n\u001b[0;32m   1445\u001b[0m \u001b[38;5;250m\u001b[39m\u001b[38;5;124;03m\"\"\"\u001b[39;00m\n\u001b[0;32m   1446\u001b[0m \u001b[38;5;124;03mPlot y versus x as lines and/or markers.\u001b[39;00m\n\u001b[0;32m   1447\u001b[0m \n\u001b[1;32m   (...)\u001b[0m\n\u001b[0;32m   1685\u001b[0m \u001b[38;5;124;03m(``'green'``) or hex strings (``'#008000'``).\u001b[39;00m\n\u001b[0;32m   1686\u001b[0m \u001b[38;5;124;03m\"\"\"\u001b[39;00m\n\u001b[0;32m   1687\u001b[0m kwargs \u001b[38;5;241m=\u001b[39m cbook\u001b[38;5;241m.\u001b[39mnormalize_kwargs(kwargs, mlines\u001b[38;5;241m.\u001b[39mLine2D)\n\u001b[1;32m-> 1688\u001b[0m lines \u001b[38;5;241m=\u001b[39m [\u001b[38;5;241m*\u001b[39m\u001b[38;5;28mself\u001b[39m\u001b[38;5;241m.\u001b[39m_get_lines(\u001b[38;5;241m*\u001b[39margs, data\u001b[38;5;241m=\u001b[39mdata, \u001b[38;5;241m*\u001b[39m\u001b[38;5;241m*\u001b[39mkwargs)]\n\u001b[0;32m   1689\u001b[0m \u001b[38;5;28;01mfor\u001b[39;00m line \u001b[38;5;129;01min\u001b[39;00m lines:\n\u001b[0;32m   1690\u001b[0m     \u001b[38;5;28mself\u001b[39m\u001b[38;5;241m.\u001b[39madd_line(line)\n",
      "File \u001b[1;32m~\\AppData\\Roaming\\Python\\Python310\\site-packages\\matplotlib\\axes\\_base.py:311\u001b[0m, in \u001b[0;36m_process_plot_var_args.__call__\u001b[1;34m(self, data, *args, **kwargs)\u001b[0m\n\u001b[0;32m    309\u001b[0m     this \u001b[38;5;241m+\u001b[39m\u001b[38;5;241m=\u001b[39m args[\u001b[38;5;241m0\u001b[39m],\n\u001b[0;32m    310\u001b[0m     args \u001b[38;5;241m=\u001b[39m args[\u001b[38;5;241m1\u001b[39m:]\n\u001b[1;32m--> 311\u001b[0m \u001b[38;5;28;01myield from\u001b[39;00m \u001b[38;5;28;43mself\u001b[39;49m\u001b[38;5;241;43m.\u001b[39;49m\u001b[43m_plot_args\u001b[49m\u001b[43m(\u001b[49m\n\u001b[0;32m    312\u001b[0m \u001b[43m    \u001b[49m\u001b[43mthis\u001b[49m\u001b[43m,\u001b[49m\u001b[43m \u001b[49m\u001b[43mkwargs\u001b[49m\u001b[43m,\u001b[49m\u001b[43m \u001b[49m\u001b[43mambiguous_fmt_datakey\u001b[49m\u001b[38;5;241;43m=\u001b[39;49m\u001b[43mambiguous_fmt_datakey\u001b[49m\u001b[43m)\u001b[49m\n",
      "File \u001b[1;32m~\\AppData\\Roaming\\Python\\Python310\\site-packages\\matplotlib\\axes\\_base.py:504\u001b[0m, in \u001b[0;36m_process_plot_var_args._plot_args\u001b[1;34m(self, tup, kwargs, return_kwargs, ambiguous_fmt_datakey)\u001b[0m\n\u001b[0;32m    501\u001b[0m     \u001b[38;5;28mself\u001b[39m\u001b[38;5;241m.\u001b[39maxes\u001b[38;5;241m.\u001b[39myaxis\u001b[38;5;241m.\u001b[39mupdate_units(y)\n\u001b[0;32m    503\u001b[0m \u001b[38;5;28;01mif\u001b[39;00m x\u001b[38;5;241m.\u001b[39mshape[\u001b[38;5;241m0\u001b[39m] \u001b[38;5;241m!=\u001b[39m y\u001b[38;5;241m.\u001b[39mshape[\u001b[38;5;241m0\u001b[39m]:\n\u001b[1;32m--> 504\u001b[0m     \u001b[38;5;28;01mraise\u001b[39;00m \u001b[38;5;167;01mValueError\u001b[39;00m(\u001b[38;5;124mf\u001b[39m\u001b[38;5;124m\"\u001b[39m\u001b[38;5;124mx and y must have same first dimension, but \u001b[39m\u001b[38;5;124m\"\u001b[39m\n\u001b[0;32m    505\u001b[0m                      \u001b[38;5;124mf\u001b[39m\u001b[38;5;124m\"\u001b[39m\u001b[38;5;124mhave shapes \u001b[39m\u001b[38;5;132;01m{\u001b[39;00mx\u001b[38;5;241m.\u001b[39mshape\u001b[38;5;132;01m}\u001b[39;00m\u001b[38;5;124m and \u001b[39m\u001b[38;5;132;01m{\u001b[39;00my\u001b[38;5;241m.\u001b[39mshape\u001b[38;5;132;01m}\u001b[39;00m\u001b[38;5;124m\"\u001b[39m)\n\u001b[0;32m    506\u001b[0m \u001b[38;5;28;01mif\u001b[39;00m x\u001b[38;5;241m.\u001b[39mndim \u001b[38;5;241m>\u001b[39m \u001b[38;5;241m2\u001b[39m \u001b[38;5;129;01mor\u001b[39;00m y\u001b[38;5;241m.\u001b[39mndim \u001b[38;5;241m>\u001b[39m \u001b[38;5;241m2\u001b[39m:\n\u001b[0;32m    507\u001b[0m     \u001b[38;5;28;01mraise\u001b[39;00m \u001b[38;5;167;01mValueError\u001b[39;00m(\u001b[38;5;124mf\u001b[39m\u001b[38;5;124m\"\u001b[39m\u001b[38;5;124mx and y can be no greater than 2D, but have \u001b[39m\u001b[38;5;124m\"\u001b[39m\n\u001b[0;32m    508\u001b[0m                      \u001b[38;5;124mf\u001b[39m\u001b[38;5;124m\"\u001b[39m\u001b[38;5;124mshapes \u001b[39m\u001b[38;5;132;01m{\u001b[39;00mx\u001b[38;5;241m.\u001b[39mshape\u001b[38;5;132;01m}\u001b[39;00m\u001b[38;5;124m and \u001b[39m\u001b[38;5;132;01m{\u001b[39;00my\u001b[38;5;241m.\u001b[39mshape\u001b[38;5;132;01m}\u001b[39;00m\u001b[38;5;124m\"\u001b[39m)\n",
      "\u001b[1;31mValueError\u001b[0m: x and y must have same first dimension, but have shapes (100,) and (0,)"
     ]
    },
    {
     "data": {
      "image/png": "[encoded data removed]",
      "text/plain": [
       "<Figure size 640x480 with 1 Axes>"
      ]
     },
     "metadata": {},
     "output_type": "display_data"
    }
   ],
   "source": [
    "import matplotlib.pyplot as plt\n",
    "\n",
    "N=100\n",
    "X1 = list(map(lambda r:(r+1)/(r+1), range(N)))\n",
    "X2 = list(map(lambda r:wtText[-1].get(r)/wtText[-1].get(wtText[-1].max()),\n",
    "         sorted(wtText[-1], key=wtText[-1].get, reverse=True)[:N]))\n",
    "X3 = list(map(lambda r:maText[-1].get(r)/maText[-1].get(maText[-1].max()),\n",
    "         sorted(maText[-1], key=maText[-1].get, reverse=True)[:N]))\n",
    "\n",
    "\n",
    "plt.plot(range(N), X1)\n",
    "plt.plot(range(N), X2)\n",
    "plt.plot(range(N), X3)"
   ]
  },
  {
   "cell_type": "code",
   "execution_count": 89,
   "id": "44c1e7fb-387d-41f6-8a0a-96a985caca79",
   "metadata": {},
   "outputs": [
    {
     "data": {
      "text/plain": [
       "0"
      ]
     },
     "execution_count": 89,
     "metadata": {},
     "output_type": "execute_result"
    }
   ],
   "source": [
    "sum(list(map(lambda r:\n",
    "             maText[-1].freq(r),\n",
    "         sorted(maText[-1], key=maText[-1].get, reverse=True)[:60])))"
   ]
  },
  {
   "cell_type": "code",
   "execution_count": 90,
   "id": "de95c780-140a-43c5-8a24-2b55f7e1a214",
   "metadata": {},
   "outputs": [
    {
     "data": {
      "text/plain": [
       "[]"
      ]
     },
     "execution_count": 90,
     "metadata": {},
     "output_type": "execute_result"
    }
   ],
   "source": [
    "maText[-1].most_common(60)"
   ]
  },
  {
   "cell_type": "code",
   "execution_count": 91,
   "id": "be9b8e29-f38a-4567-8c59-b5b5669f2fb7",
   "metadata": {},
   "outputs": [
    {
     "data": {
      "text/plain": [
       "[<matplotlib.lines.Line2D at 0x1598d7f5c30>]"
      ]
     },
     "execution_count": 91,
     "metadata": {},
     "output_type": "execute_result"
    },
    {
     "data": {
      "image/png": "[encoded data removed]",
      "text/plain": [
       "<Figure size 640x480 with 1 Axes>"
      ]
     },
     "metadata": {},
     "output_type": "display_data"
    }
   ],
   "source": [
    "k = 24 #10 ~ 100\n",
    "b = .63\n",
    "plt.plot(range(len(maText))[1:],\n",
    "         [t.B() for t in maText][1:])\n",
    "plt.plot(range(len(maText))[1:],\n",
    "         list(map(lambda n:k*n.B()**b, maText))[1:])"
   ]
  },
  {
   "cell_type": "code",
   "execution_count": 92,
   "id": "dd0a9850-ecad-4a3c-b8ad-3fb4a8e7bd45",
   "metadata": {},
   "outputs": [
    {
     "data": {
      "text/plain": [
       "(0.0, 0)"
      ]
     },
     "execution_count": 92,
     "metadata": {},
     "output_type": "execute_result"
    }
   ],
   "source": [
    "k*maText[-1].B()**b, maText[-1].N()"
   ]
  },
  {
   "cell_type": "code",
   "execution_count": 104,
   "id": "dc4eb41a-702b-4899-a7ab-c48d1e5b6f39",
   "metadata": {},
   "outputs": [
    {
     "data": {
      "text/plain": [
       "<function sum(iterable, /, start=0)>"
      ]
     },
     "execution_count": 104,
     "metadata": {},
     "output_type": "execute_result"
    }
   ],
   "source": [
    "sum"
   ]
  },
  {
   "cell_type": "code",
   "execution_count": 107,
   "id": "09433aba-5996-4ed7-9d04-0b78aa259048",
   "metadata": {},
   "outputs": [],
   "source": [
    "gram1 = list()\n",
    "gram2 = list()\n",
    "gram3 = list()\n",
    "\n",
    "for d in corpus:\n",
    "    rst = list()\n",
    "    for s in sent_tokenize(re.sub(r'\\s+', ' ', d)):\n",
    "        rst.extend(ma.morphs(s))\n",
    "    gram1 += ngram(rst, 1)\n",
    "    gram2 += ngram(rst, 2)\n",
    "    gram3 += ngram(rst, 3)"
   ]
  },
  {
   "cell_type": "code",
   "execution_count": 108,
   "id": "eed573c7-dd81-4b2a-aecb-fa38fffea7b9",
   "metadata": {},
   "outputs": [
    {
     "data": {
      "text/plain": [
       "(0, 0, 0)"
      ]
     },
     "execution_count": 108,
     "metadata": {},
     "output_type": "execute_result"
    }
   ],
   "source": [
    "len(gram1), len(gram2), len(gram3)"
   ]
  },
  {
   "cell_type": "code",
   "execution_count": 109,
   "id": "51be1c68-bcea-4ac6-a30e-eec195a43f35",
   "metadata": {},
   "outputs": [],
   "source": [
    "from collections import Counter"
   ]
  },
  {
   "cell_type": "code",
   "execution_count": 110,
   "id": "78e04a4e-3797-4340-9c7f-cca7e7c226c2",
   "metadata": {},
   "outputs": [],
   "source": [
    "gram1_cnt = Counter(gram1)\n",
    "gram2_cnt = Counter(gram2)\n",
    "gram3_cnt = Counter(gram3)"
   ]
  },
  {
   "cell_type": "code",
   "execution_count": 111,
   "id": "c133be98-de27-4591-8eed-abddcfe41ba8",
   "metadata": {},
   "outputs": [],
   "source": [
    "#gram 1, 2 활용해서 특정 단어를 주면, 다음단어가 먼지 예측하게하는 기능\n",
    "seed = '대통령'\n",
    "gram1_cnt.get(('대통령',))"
   ]
  },
  {
   "cell_type": "code",
   "execution_count": 113,
   "id": "010e8758-366a-45c6-8270-4bdd56b7108b",
   "metadata": {},
   "outputs": [
    {
     "data": {
      "text/plain": [
       "[]"
      ]
     },
     "execution_count": 113,
     "metadata": {},
     "output_type": "execute_result"
    }
   ],
   "source": [
    "seed = '대통령'\n",
    "gram1_cnt.get(('seed',))\n",
    "\n",
    "list(map(lambda k:{k:gram2_cnt.get(k), \n",
    "              'prob':gram2_cnt.get(k)/gram1_cnt.get((seed,))},\n",
    "    list(filter(lambda k:k[0] == seed, gram2_cnt))))"
   ]
  },
  {
   "cell_type": "markdown",
   "id": "1b3e7da0-b60b-4659-af81-4c8c47e1e424",
   "metadata": {},
   "source": [
    "### 함수 : key 로 시작하는 freq 찾는 함수"
   ]
  },
  {
   "cell_type": "code",
   "execution_count": 120,
   "id": "02a8af65-c9b2-46d3-8cde-6ade379afc66",
   "metadata": {},
   "outputs": [],
   "source": [
    "def find(key, gram):\n",
    "    n = len(key)\n",
    "    return [{k:gram.get(k)} for k in list(gram.keys()) \n",
    "            if k[:(n)] == key]"
   ]
  },
  {
   "cell_type": "code",
   "execution_count": 121,
   "id": "6355dbd6-d326-4cef-94ba-48b4dd7ac6d5",
   "metadata": {},
   "outputs": [],
   "source": [
    "# (list(gram2_cnt.keys())[0])[:1]"
   ]
  },
  {
   "cell_type": "code",
   "execution_count": 122,
   "id": "56b8ec4d-079a-4e76-9b86-354ee97f0e1c",
   "metadata": {},
   "outputs": [
    {
     "data": {
      "text/plain": [
       "[]"
      ]
     },
     "execution_count": 122,
     "metadata": {},
     "output_type": "execute_result"
    }
   ],
   "source": [
    "find(('대통령', ), gram2_cnt, 2)"
   ]
  },
  {
   "cell_type": "code",
   "execution_count": 123,
   "id": "cdda22ba-68f3-424e-bb23-d7e614a77e9c",
   "metadata": {},
   "outputs": [],
   "source": [
    "# ABC 를 찾고 싶을때는\n",
    "# C를 찾고 싶을때는 AB가 기븐,\n",
    "# .... 하...."
   ]
  },
  {
   "cell_type": "code",
   "execution_count": null,
   "id": "b8f8078a-8b03-4723-8a9a-c75ef4f7a9ae",
   "metadata": {},
   "outputs": [],
   "source": [
    "def find(key, gram):\n",
    "    n = len(key)\n",
    "    #계산하기 편하게 tuple 로 바꾼 버전..\n",
    "    return [(k:gram.get(k)) for k in list(gram.keys()) \n",
    "            if k[:(n)] == key]"
   ]
  },
  {
   "cell_type": "code",
   "execution_count": null,
   "id": "74aae7e3-8fd2-4ea4-ac16-a1120aa6e485",
   "metadata": {},
   "outputs": [],
   "source": []
  },
  {
   "cell_type": "code",
   "execution_count": 125,
   "id": "4bb71ffb-3eed-424a-bcb2-6237a4659423",
   "metadata": {},
   "outputs": [
    {
     "ename": "IndexError",
     "evalue": "list index out of range",
     "output_type": "error",
     "traceback": [
      "\u001b[1;31m---------------------------------------------------------------------------\u001b[0m",
      "\u001b[1;31mIndexError\u001b[0m                                Traceback (most recent call last)",
      "Cell \u001b[1;32mIn[125], line 6\u001b[0m\n\u001b[0;32m      3\u001b[0m given \u001b[38;5;241m=\u001b[39m find(seed, gram1_cnt)\n\u001b[0;32m      4\u001b[0m candidates \u001b[38;5;241m=\u001b[39m \u001b[38;5;28mlist\u001b[39m(\u001b[38;5;28mmap\u001b[39m(\u001b[38;5;28;01mlambda\u001b[39;00m r:(r[\u001b[38;5;241m0\u001b[39m], r[\u001b[38;5;241m1\u001b[39m]\u001b[38;5;241m/\u001b[39mgiven),\n\u001b[0;32m      5\u001b[0m                       find(seed, gram2_cnt)))\n\u001b[1;32m----> 6\u001b[0m best \u001b[38;5;241m=\u001b[39m \u001b[38;5;28;43mlist\u001b[39;49m\u001b[43m(\u001b[49m\u001b[38;5;28;43msorted\u001b[39;49m\u001b[43m(\u001b[49m\u001b[43mcandidates\u001b[49m\u001b[43m,\u001b[49m\u001b[43m \u001b[49m\u001b[43mkey\u001b[49m\u001b[38;5;241;43m=\u001b[39;49m\u001b[38;5;28;43;01mlambda\u001b[39;49;00m\u001b[43m \u001b[49m\u001b[43mr\u001b[49m\u001b[43m:\u001b[49m\u001b[43mr\u001b[49m\u001b[43m[\u001b[49m\u001b[38;5;241;43m1\u001b[39;49m\u001b[43m]\u001b[49m\u001b[43m,\u001b[49m\n\u001b[0;32m      7\u001b[0m \u001b[43m                   \u001b[49m\u001b[43mreverse\u001b[49m\u001b[38;5;241;43m=\u001b[39;49m\u001b[38;5;28;43;01mTrue\u001b[39;49;00m\u001b[43m)\u001b[49m\u001b[43m)\u001b[49m\u001b[43m[\u001b[49m\u001b[38;5;241;43m0\u001b[39;49m\u001b[43m]\u001b[49m\n\u001b[0;32m      8\u001b[0m \u001b[38;5;28mprint\u001b[39m(best)\n\u001b[0;32m      9\u001b[0m seed \u001b[38;5;241m=\u001b[39m best[\u001b[38;5;241m0\u001b[39m][\u001b[38;5;241m-\u001b[39m\u001b[38;5;241m1\u001b[39m]\n",
      "\u001b[1;31mIndexError\u001b[0m: list index out of range"
     ]
    }
   ],
   "source": [
    "seed = ('대통령',)\n",
    "for i in range(10):\n",
    "    given = find(seed, gram1_cnt)[0][1]\n",
    "    candidates = list(map(lambda r:(r[0], r[1]/given),\n",
    "                          find(seed, gram2_cnt)))\n",
    "    best = list(sorted(candidates, key=lambda r:r[1],\n",
    "                       reverse=True))[0]\n",
    "    print(best)\n",
    "    seed = best[0][-1]"
   ]
  },
  {
   "cell_type": "code",
   "execution_count": 126,
   "id": "b4400235-b471-44c0-8fd5-d985e43f4fda",
   "metadata": {},
   "outputs": [],
   "source": [
    "# NLU, NLG .... "
   ]
  },
  {
   "cell_type": "markdown",
   "id": "ee64dd02-3a96-4f8d-bfc8-5e6c326786d3",
   "metadata": {},
   "source": [
    "### 자동띄어쓰기 만들어보기.."
   ]
  },
  {
   "cell_type": "code",
   "execution_count": 127,
   "id": "efe19cb3-0dcd-4ff9-806a-67d5946c6dfa",
   "metadata": {},
   "outputs": [
    {
     "data": {
      "text/plain": [
       "'권전대법관은대법관재임중이던2020년7월당시경기지사였던더불어민주당이재명대표의선거법위반사건재판에서무죄취지파기환송판결을주도한것으로알려졌다.'"
      ]
     },
     "execution_count": 127,
     "metadata": {},
     "output_type": "execute_result"
    }
   ],
   "source": [
    "'권 전 대법관은 대법관 재임 중이던 2020년 7월 당시 경기지사였던 더불어민주당 이재명 대표의 선거법 위반 사건 재판에서 무죄 취지 파기 환송 판결을 주도한 것으로 알려졌다.'.replace(' ','')"
   ]
  },
  {
   "cell_type": "code",
   "execution_count": 128,
   "id": "c09a5760-3ccc-45e1-9087-487c3c097aeb",
   "metadata": {},
   "outputs": [],
   "source": [
    "ngram1 = Counter(ngram(' '.join(corpus), 1))\n",
    "ngram2 = Counter(ngram(' '.join(corpus), 2))\n",
    "ngram3 = Counter(ngram(' '.join(corpus), 3))\n",
    "ngram4 = Counter(ngram(' '.join(corpus), 4))"
   ]
  },
  {
   "cell_type": "code",
   "execution_count": 130,
   "id": "27e67271-f419-4352-a11e-12460b83f038",
   "metadata": {},
   "outputs": [],
   "source": [
    "#첫번째 글자 find 로 찾아보기 - ngram1,2, 3, 4에서\n",
    "#만약 띄어쓰기가 아니면 다음 글자를 알려줌\n",
    "#근데 우리나라는 1음절짜리 단어가 많아서 다 띄우라고 한다... \n",
    "# find(())"
   ]
  },
  {
   "cell_type": "code",
   "execution_count": null,
   "id": "5082faec-8519-413a-96bc-a3f83bc11831",
   "metadata": {},
   "outputs": [],
   "source": [
    "#그래서 "
   ]
  }
 ],
 "metadata": {
  "kernelspec": {
   "display_name": "Python 3 (ipykernel)",
   "language": "python",
   "name": "python3"
  },
  "language_info": {
   "codemirror_mode": {
    "name": "ipython",
    "version": 3
   },
   "file_extension": ".py",
   "mimetype": "text/x-python",
   "name": "python",
   "nbconvert_exporter": "python",
   "pygments_lexer": "ipython3",
   "version": "3.10.1"
  },
  "widgets": {
   "application/vnd.jupyter.widget-state+json": {
    "state": {},
    "version_major": 2,
    "version_minor": 0
   }
  }
 },
 "nbformat": 4,
 "nbformat_minor": 5
}
