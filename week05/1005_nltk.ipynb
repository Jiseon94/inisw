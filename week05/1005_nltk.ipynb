{
 "cells": [
  {
   "cell_type": "code",
   "execution_count": 1,
   "id": "6fc0be69-5219-4b46-a3c9-936238f0e064",
   "metadata": {},
   "outputs": [],
   "source": [
    "from nltk.tokenize import regexp_tokenize"
   ]
  },
  {
   "cell_type": "code",
   "execution_count": 2,
   "id": "990e6720-e054-4873-bc66-61bb149c458a",
   "metadata": {},
   "outputs": [
    {
     "name": "stderr",
     "output_type": "stream",
     "text": [
      "[nltk_data] Downloading package brown to\n",
      "[nltk_data]     C:\\Users\\user\\AppData\\Roaming\\nltk_data...\n",
      "[nltk_data]   Package brown is already up-to-date!\n",
      "[nltk_data] Downloading package gutenberg to\n",
      "[nltk_data]     C:\\Users\\user\\AppData\\Roaming\\nltk_data...\n",
      "[nltk_data]   Package gutenberg is already up-to-date!\n"
     ]
    },
    {
     "data": {
      "text/plain": [
       "True"
      ]
     },
     "execution_count": 2,
     "metadata": {},
     "output_type": "execute_result"
    }
   ],
   "source": [
    "import nltk\n",
    "\n",
    "nltk.download('brown')\n",
    "nltk.download('gutenberg')"
   ]
  },
  {
   "cell_type": "code",
   "execution_count": 4,
   "id": "a253c825-92ad-4d55-92d0-acf32749e3b3",
   "metadata": {},
   "outputs": [],
   "source": [
    "from nltk.corpus import gutenberg"
   ]
  },
  {
   "cell_type": "code",
   "execution_count": 5,
   "id": "62e76ce5-67bc-4174-a279-81386f7ded13",
   "metadata": {},
   "outputs": [],
   "source": [
    "emma = gutenberg.open(gutenberg.fileids()[0]).read()"
   ]
  },
  {
   "cell_type": "code",
   "execution_count": 7,
   "id": "4fd65f4a-4f32-48a5-93a7-e404ba479b2b",
   "metadata": {},
   "outputs": [],
   "source": [
    "from nltk.tokenize import sent_tokenize, word_tokenize\n",
    "from nltk.tokenize import regexp_tokenize, TweetTokenizer"
   ]
  },
  {
   "cell_type": "code",
   "execution_count": 8,
   "id": "36f85680-d628-49e5-8576-f1f4c361aad3",
   "metadata": {},
   "outputs": [
    {
     "data": {
      "text/plain": [
       "(16823, 7493)"
      ]
     },
     "execution_count": 8,
     "metadata": {},
     "output_type": "execute_result"
    }
   ],
   "source": [
    "len(emma.splitlines()) ,len(sent_tokenize(emma))"
   ]
  },
  {
   "cell_type": "markdown",
   "id": "cbec113d-aab2-4de0-8f3e-479155941b33",
   "metadata": {},
   "source": [
    "# Text 객체 보기"
   ]
  },
  {
   "cell_type": "code",
   "execution_count": 9,
   "id": "9c890223-bdd8-4e7e-bf7a-e5497b68dadc",
   "metadata": {},
   "outputs": [],
   "source": [
    "from nltk.text import Text"
   ]
  },
  {
   "cell_type": "code",
   "execution_count": 10,
   "id": "bdfef76c-46da-44e5-bb4e-2a286f51d9ac",
   "metadata": {},
   "outputs": [],
   "source": [
    "emmaObj = Text(word_tokenize(emma))"
   ]
  },
  {
   "cell_type": "markdown",
   "id": "af691b8f-21fe-4873-95ee-7329cbaa77e5",
   "metadata": {},
   "source": [
    "#### vocab 빈도분포를 나타낸다"
   ]
  },
  {
   "cell_type": "code",
   "execution_count": 11,
   "id": "8b45d9ff-2146-437f-8b32-ce67af64d3e2",
   "metadata": {},
   "outputs": [
    {
     "data": {
      "text/plain": [
       "FreqDist({',': 12016, '.': 6355, 'to': 5125, 'the': 4844, 'and': 4653, 'of': 4272, 'I': 3177, '--': 3100, 'a': 3001, \"''\": 2452, ...})"
      ]
     },
     "execution_count": 11,
     "metadata": {},
     "output_type": "execute_result"
    }
   ],
   "source": [
    "emmaObj.vocab()"
   ]
  },
  {
   "cell_type": "code",
   "execution_count": 12,
   "id": "c49f1c83-9846-487b-80f7-31504e61edf8",
   "metadata": {},
   "outputs": [
    {
     "data": {
      "text/plain": [
       "8406"
      ]
     },
     "execution_count": 12,
     "metadata": {},
     "output_type": "execute_result"
    }
   ],
   "source": [
    "emmaObj.vocab().B() #unique한 개수"
   ]
  },
  {
   "cell_type": "code",
   "execution_count": 13,
   "id": "757c0d4d-37d0-4816-9eb1-a4a3f8a320ca",
   "metadata": {},
   "outputs": [
    {
     "data": {
      "text/plain": [
       "191785"
      ]
     },
     "execution_count": 13,
     "metadata": {},
     "output_type": "execute_result"
    }
   ],
   "source": [
    "emmaObj.vocab().N() #전체개수"
   ]
  },
  {
   "cell_type": "code",
   "execution_count": 15,
   "id": "e77c1045-e95f-4d3f-9af8-98e2e0c108f5",
   "metadata": {},
   "outputs": [
    {
     "data": {
      "text/plain": [
       "[(',', 12016),\n",
       " ('.', 6355),\n",
       " ('to', 5125),\n",
       " ('the', 4844),\n",
       " ('and', 4653),\n",
       " ('of', 4272),\n",
       " ('I', 3177),\n",
       " ('--', 3100),\n",
       " ('a', 3001),\n",
       " (\"''\", 2452)]"
      ]
     },
     "execution_count": 15,
     "metadata": {},
     "output_type": "execute_result"
    }
   ],
   "source": [
    "emmaObj.vocab().most_common(10) #상위 10개 개수 돌려준다."
   ]
  },
  {
   "cell_type": "markdown",
   "id": "760b8697-5e55-49c9-a7bb-3e0097c1f987",
   "metadata": {},
   "source": [
    "##### 최다빈도, 최소빈도 단어들끼리 정렬이 가능하다."
   ]
  },
  {
   "cell_type": "code",
   "execution_count": 16,
   "id": "ee9ca898-b7e8-405d-9537-49c8b97ca434",
   "metadata": {},
   "outputs": [
    {
     "data": {
      "text/plain": [
       "0.06265349219177725"
      ]
     },
     "execution_count": 16,
     "metadata": {},
     "output_type": "execute_result"
    }
   ],
   "source": [
    "emmaObj.vocab().freq(',') #전체에서 몇퍼센트 차지하는지 "
   ]
  },
  {
   "cell_type": "code",
   "execution_count": 18,
   "id": "0a0a7eb6-a4e4-4c1e-a893-b06476d97ec7",
   "metadata": {},
   "outputs": [
    {
     "data": {
      "text/plain": [
       "0.06265349219177725"
      ]
     },
     "execution_count": 18,
     "metadata": {},
     "output_type": "execute_result"
    }
   ],
   "source": [
    "emmaObj.vocab().get(',')/emmaObj.vocab().N() #콤마의 개수 / 전체 개수. 위와 똑같은걸 확인할 수 있다. "
   ]
  },
  {
   "cell_type": "code",
   "execution_count": 17,
   "id": "68623666-7577-4438-a751-8b8f31d99023",
   "metadata": {},
   "outputs": [
    {
     "data": {
      "text/plain": [
       "12016"
      ]
     },
     "execution_count": 17,
     "metadata": {},
     "output_type": "execute_result"
    }
   ],
   "source": [
    "emmaObj.vocab().get(',')"
   ]
  },
  {
   "cell_type": "markdown",
   "id": "040c3343-6c3a-4080-80e5-a12320be901d",
   "metadata": {},
   "source": [
    "# Zipf's Law"
   ]
  },
  {
   "cell_type": "code",
   "execution_count": 19,
   "id": "c39607f3-b75a-4308-ad87-869892377c1b",
   "metadata": {},
   "outputs": [
    {
     "ename": "KeyboardInterrupt",
     "evalue": "",
     "output_type": "error",
     "traceback": [
      "\u001b[1;31m---------------------------------------------------------------------------\u001b[0m",
      "\u001b[1;31mKeyboardInterrupt\u001b[0m                         Traceback (most recent call last)",
      "Cell \u001b[1;32mIn[19], line 1\u001b[0m\n\u001b[1;32m----> 1\u001b[0m \u001b[43memmaObj\u001b[49m\u001b[38;5;241;43m.\u001b[39;49m\u001b[43mplot\u001b[49m\u001b[43m(\u001b[49m\u001b[43m)\u001b[49m\n\u001b[0;32m      2\u001b[0m \u001b[38;5;66;03m#8400개 정도를 보려니 컴퓨터가 뻗을수도 있다. \u001b[39;00m\n",
      "File \u001b[1;32m~\\AppData\\Roaming\\Python\\Python310\\site-packages\\nltk\\text.py:615\u001b[0m, in \u001b[0;36mText.plot\u001b[1;34m(self, *args)\u001b[0m\n\u001b[0;32m    610\u001b[0m \u001b[38;5;28;01mdef\u001b[39;00m \u001b[38;5;21mplot\u001b[39m(\u001b[38;5;28mself\u001b[39m, \u001b[38;5;241m*\u001b[39margs):\n\u001b[0;32m    611\u001b[0m \u001b[38;5;250m    \u001b[39m\u001b[38;5;124;03m\"\"\"\u001b[39;00m\n\u001b[0;32m    612\u001b[0m \u001b[38;5;124;03m    See documentation for FreqDist.plot()\u001b[39;00m\n\u001b[0;32m    613\u001b[0m \u001b[38;5;124;03m    :seealso: nltk.prob.FreqDist.plot()\u001b[39;00m\n\u001b[0;32m    614\u001b[0m \u001b[38;5;124;03m    \"\"\"\u001b[39;00m\n\u001b[1;32m--> 615\u001b[0m     \u001b[38;5;28;01mreturn\u001b[39;00m \u001b[38;5;28;43mself\u001b[39;49m\u001b[38;5;241;43m.\u001b[39;49m\u001b[43mvocab\u001b[49m\u001b[43m(\u001b[49m\u001b[43m)\u001b[49m\u001b[38;5;241;43m.\u001b[39;49m\u001b[43mplot\u001b[49m\u001b[43m(\u001b[49m\u001b[38;5;241;43m*\u001b[39;49m\u001b[43margs\u001b[49m\u001b[43m)\u001b[49m\n",
      "File \u001b[1;32m~\\AppData\\Roaming\\Python\\Python310\\site-packages\\nltk\\probability.py:307\u001b[0m, in \u001b[0;36mFreqDist.plot\u001b[1;34m(self, title, cumulative, percents, show, *args, **kwargs)\u001b[0m\n\u001b[0;32m    304\u001b[0m ax\u001b[38;5;241m.\u001b[39mset_ylabel(ylabel)\n\u001b[0;32m    306\u001b[0m \u001b[38;5;28;01mif\u001b[39;00m show:\n\u001b[1;32m--> 307\u001b[0m     \u001b[43mplt\u001b[49m\u001b[38;5;241;43m.\u001b[39;49m\u001b[43mshow\u001b[49m\u001b[43m(\u001b[49m\u001b[43m)\u001b[49m\n\u001b[0;32m    309\u001b[0m \u001b[38;5;28;01mreturn\u001b[39;00m ax\n",
      "File \u001b[1;32m~\\AppData\\Roaming\\Python\\Python310\\site-packages\\matplotlib\\pyplot.py:446\u001b[0m, in \u001b[0;36mshow\u001b[1;34m(*args, **kwargs)\u001b[0m\n\u001b[0;32m    402\u001b[0m \u001b[38;5;250m\u001b[39m\u001b[38;5;124;03m\"\"\"\u001b[39;00m\n\u001b[0;32m    403\u001b[0m \u001b[38;5;124;03mDisplay all open figures.\u001b[39;00m\n\u001b[0;32m    404\u001b[0m \n\u001b[1;32m   (...)\u001b[0m\n\u001b[0;32m    443\u001b[0m \u001b[38;5;124;03mexplicitly there.\u001b[39;00m\n\u001b[0;32m    444\u001b[0m \u001b[38;5;124;03m\"\"\"\u001b[39;00m\n\u001b[0;32m    445\u001b[0m _warn_if_gui_out_of_main_thread()\n\u001b[1;32m--> 446\u001b[0m \u001b[38;5;28;01mreturn\u001b[39;00m _get_backend_mod()\u001b[38;5;241m.\u001b[39mshow(\u001b[38;5;241m*\u001b[39margs, \u001b[38;5;241m*\u001b[39m\u001b[38;5;241m*\u001b[39mkwargs)\n",
      "File \u001b[1;32m~\\AppData\\Roaming\\Python\\Python310\\site-packages\\matplotlib_inline\\backend_inline.py:90\u001b[0m, in \u001b[0;36mshow\u001b[1;34m(close, block)\u001b[0m\n\u001b[0;32m     88\u001b[0m \u001b[38;5;28;01mtry\u001b[39;00m:\n\u001b[0;32m     89\u001b[0m     \u001b[38;5;28;01mfor\u001b[39;00m figure_manager \u001b[38;5;129;01min\u001b[39;00m Gcf\u001b[38;5;241m.\u001b[39mget_all_fig_managers():\n\u001b[1;32m---> 90\u001b[0m         \u001b[43mdisplay\u001b[49m\u001b[43m(\u001b[49m\n\u001b[0;32m     91\u001b[0m \u001b[43m            \u001b[49m\u001b[43mfigure_manager\u001b[49m\u001b[38;5;241;43m.\u001b[39;49m\u001b[43mcanvas\u001b[49m\u001b[38;5;241;43m.\u001b[39;49m\u001b[43mfigure\u001b[49m\u001b[43m,\u001b[49m\n\u001b[0;32m     92\u001b[0m \u001b[43m            \u001b[49m\u001b[43mmetadata\u001b[49m\u001b[38;5;241;43m=\u001b[39;49m\u001b[43m_fetch_figure_metadata\u001b[49m\u001b[43m(\u001b[49m\u001b[43mfigure_manager\u001b[49m\u001b[38;5;241;43m.\u001b[39;49m\u001b[43mcanvas\u001b[49m\u001b[38;5;241;43m.\u001b[39;49m\u001b[43mfigure\u001b[49m\u001b[43m)\u001b[49m\n\u001b[0;32m     93\u001b[0m \u001b[43m        \u001b[49m\u001b[43m)\u001b[49m\n\u001b[0;32m     94\u001b[0m \u001b[38;5;28;01mfinally\u001b[39;00m:\n\u001b[0;32m     95\u001b[0m     show\u001b[38;5;241m.\u001b[39m_to_draw \u001b[38;5;241m=\u001b[39m []\n",
      "File \u001b[1;32m~\\AppData\\Roaming\\Python\\Python310\\site-packages\\IPython\\core\\display_functions.py:298\u001b[0m, in \u001b[0;36mdisplay\u001b[1;34m(include, exclude, metadata, transient, display_id, raw, clear, *objs, **kwargs)\u001b[0m\n\u001b[0;32m    296\u001b[0m     publish_display_data(data\u001b[38;5;241m=\u001b[39mobj, metadata\u001b[38;5;241m=\u001b[39mmetadata, \u001b[38;5;241m*\u001b[39m\u001b[38;5;241m*\u001b[39mkwargs)\n\u001b[0;32m    297\u001b[0m \u001b[38;5;28;01melse\u001b[39;00m:\n\u001b[1;32m--> 298\u001b[0m     format_dict, md_dict \u001b[38;5;241m=\u001b[39m \u001b[38;5;28;43mformat\u001b[39;49m\u001b[43m(\u001b[49m\u001b[43mobj\u001b[49m\u001b[43m,\u001b[49m\u001b[43m \u001b[49m\u001b[43minclude\u001b[49m\u001b[38;5;241;43m=\u001b[39;49m\u001b[43minclude\u001b[49m\u001b[43m,\u001b[49m\u001b[43m \u001b[49m\u001b[43mexclude\u001b[49m\u001b[38;5;241;43m=\u001b[39;49m\u001b[43mexclude\u001b[49m\u001b[43m)\u001b[49m\n\u001b[0;32m    299\u001b[0m     \u001b[38;5;28;01mif\u001b[39;00m \u001b[38;5;129;01mnot\u001b[39;00m format_dict:\n\u001b[0;32m    300\u001b[0m         \u001b[38;5;66;03m# nothing to display (e.g. _ipython_display_ took over)\u001b[39;00m\n\u001b[0;32m    301\u001b[0m         \u001b[38;5;28;01mcontinue\u001b[39;00m\n",
      "File \u001b[1;32m~\\AppData\\Roaming\\Python\\Python310\\site-packages\\IPython\\core\\formatters.py:179\u001b[0m, in \u001b[0;36mDisplayFormatter.format\u001b[1;34m(self, obj, include, exclude)\u001b[0m\n\u001b[0;32m    177\u001b[0m md \u001b[38;5;241m=\u001b[39m \u001b[38;5;28;01mNone\u001b[39;00m\n\u001b[0;32m    178\u001b[0m \u001b[38;5;28;01mtry\u001b[39;00m:\n\u001b[1;32m--> 179\u001b[0m     data \u001b[38;5;241m=\u001b[39m \u001b[43mformatter\u001b[49m\u001b[43m(\u001b[49m\u001b[43mobj\u001b[49m\u001b[43m)\u001b[49m\n\u001b[0;32m    180\u001b[0m \u001b[38;5;28;01mexcept\u001b[39;00m:\n\u001b[0;32m    181\u001b[0m     \u001b[38;5;66;03m# FIXME: log the exception\u001b[39;00m\n\u001b[0;32m    182\u001b[0m     \u001b[38;5;28;01mraise\u001b[39;00m\n",
      "File \u001b[1;32m~\\AppData\\Roaming\\Python\\Python310\\site-packages\\decorator.py:232\u001b[0m, in \u001b[0;36mdecorate.<locals>.fun\u001b[1;34m(*args, **kw)\u001b[0m\n\u001b[0;32m    230\u001b[0m \u001b[38;5;28;01mif\u001b[39;00m \u001b[38;5;129;01mnot\u001b[39;00m kwsyntax:\n\u001b[0;32m    231\u001b[0m     args, kw \u001b[38;5;241m=\u001b[39m fix(args, kw, sig)\n\u001b[1;32m--> 232\u001b[0m \u001b[38;5;28;01mreturn\u001b[39;00m caller(func, \u001b[38;5;241m*\u001b[39m(extras \u001b[38;5;241m+\u001b[39m args), \u001b[38;5;241m*\u001b[39m\u001b[38;5;241m*\u001b[39mkw)\n",
      "File \u001b[1;32m~\\AppData\\Roaming\\Python\\Python310\\site-packages\\IPython\\core\\formatters.py:223\u001b[0m, in \u001b[0;36mcatch_format_error\u001b[1;34m(method, self, *args, **kwargs)\u001b[0m\n\u001b[0;32m    221\u001b[0m \u001b[38;5;250m\u001b[39m\u001b[38;5;124;03m\"\"\"show traceback on failed format call\"\"\"\u001b[39;00m\n\u001b[0;32m    222\u001b[0m \u001b[38;5;28;01mtry\u001b[39;00m:\n\u001b[1;32m--> 223\u001b[0m     r \u001b[38;5;241m=\u001b[39m method(\u001b[38;5;28mself\u001b[39m, \u001b[38;5;241m*\u001b[39margs, \u001b[38;5;241m*\u001b[39m\u001b[38;5;241m*\u001b[39mkwargs)\n\u001b[0;32m    224\u001b[0m \u001b[38;5;28;01mexcept\u001b[39;00m \u001b[38;5;167;01mNotImplementedError\u001b[39;00m:\n\u001b[0;32m    225\u001b[0m     \u001b[38;5;66;03m# don't warn on NotImplementedErrors\u001b[39;00m\n\u001b[0;32m    226\u001b[0m     \u001b[38;5;28;01mreturn\u001b[39;00m \u001b[38;5;28mself\u001b[39m\u001b[38;5;241m.\u001b[39m_check_return(\u001b[38;5;28;01mNone\u001b[39;00m, args[\u001b[38;5;241m0\u001b[39m])\n",
      "File \u001b[1;32m~\\AppData\\Roaming\\Python\\Python310\\site-packages\\IPython\\core\\formatters.py:340\u001b[0m, in \u001b[0;36mBaseFormatter.__call__\u001b[1;34m(self, obj)\u001b[0m\n\u001b[0;32m    338\u001b[0m     \u001b[38;5;28;01mpass\u001b[39;00m\n\u001b[0;32m    339\u001b[0m \u001b[38;5;28;01melse\u001b[39;00m:\n\u001b[1;32m--> 340\u001b[0m     \u001b[38;5;28;01mreturn\u001b[39;00m \u001b[43mprinter\u001b[49m\u001b[43m(\u001b[49m\u001b[43mobj\u001b[49m\u001b[43m)\u001b[49m\n\u001b[0;32m    341\u001b[0m \u001b[38;5;66;03m# Finally look for special method names\u001b[39;00m\n\u001b[0;32m    342\u001b[0m method \u001b[38;5;241m=\u001b[39m get_real_method(obj, \u001b[38;5;28mself\u001b[39m\u001b[38;5;241m.\u001b[39mprint_method)\n",
      "File \u001b[1;32m~\\AppData\\Roaming\\Python\\Python310\\site-packages\\IPython\\core\\pylabtools.py:152\u001b[0m, in \u001b[0;36mprint_figure\u001b[1;34m(fig, fmt, bbox_inches, base64, **kwargs)\u001b[0m\n\u001b[0;32m    149\u001b[0m     \u001b[38;5;28;01mfrom\u001b[39;00m \u001b[38;5;21;01mmatplotlib\u001b[39;00m\u001b[38;5;21;01m.\u001b[39;00m\u001b[38;5;21;01mbackend_bases\u001b[39;00m \u001b[38;5;28;01mimport\u001b[39;00m FigureCanvasBase\n\u001b[0;32m    150\u001b[0m     FigureCanvasBase(fig)\n\u001b[1;32m--> 152\u001b[0m fig\u001b[38;5;241m.\u001b[39mcanvas\u001b[38;5;241m.\u001b[39mprint_figure(bytes_io, \u001b[38;5;241m*\u001b[39m\u001b[38;5;241m*\u001b[39mkw)\n\u001b[0;32m    153\u001b[0m data \u001b[38;5;241m=\u001b[39m bytes_io\u001b[38;5;241m.\u001b[39mgetvalue()\n\u001b[0;32m    154\u001b[0m \u001b[38;5;28;01mif\u001b[39;00m fmt \u001b[38;5;241m==\u001b[39m \u001b[38;5;124m'\u001b[39m\u001b[38;5;124msvg\u001b[39m\u001b[38;5;124m'\u001b[39m:\n",
      "File \u001b[1;32m~\\AppData\\Roaming\\Python\\Python310\\site-packages\\matplotlib\\backend_bases.py:2366\u001b[0m, in \u001b[0;36mFigureCanvasBase.print_figure\u001b[1;34m(self, filename, dpi, facecolor, edgecolor, orientation, format, bbox_inches, pad_inches, bbox_extra_artists, backend, **kwargs)\u001b[0m\n\u001b[0;32m   2362\u001b[0m \u001b[38;5;28;01mtry\u001b[39;00m:\n\u001b[0;32m   2363\u001b[0m     \u001b[38;5;66;03m# _get_renderer may change the figure dpi (as vector formats\u001b[39;00m\n\u001b[0;32m   2364\u001b[0m     \u001b[38;5;66;03m# force the figure dpi to 72), so we need to set it again here.\u001b[39;00m\n\u001b[0;32m   2365\u001b[0m     \u001b[38;5;28;01mwith\u001b[39;00m cbook\u001b[38;5;241m.\u001b[39m_setattr_cm(\u001b[38;5;28mself\u001b[39m\u001b[38;5;241m.\u001b[39mfigure, dpi\u001b[38;5;241m=\u001b[39mdpi):\n\u001b[1;32m-> 2366\u001b[0m         result \u001b[38;5;241m=\u001b[39m print_method(\n\u001b[0;32m   2367\u001b[0m             filename,\n\u001b[0;32m   2368\u001b[0m             facecolor\u001b[38;5;241m=\u001b[39mfacecolor,\n\u001b[0;32m   2369\u001b[0m             edgecolor\u001b[38;5;241m=\u001b[39medgecolor,\n\u001b[0;32m   2370\u001b[0m             orientation\u001b[38;5;241m=\u001b[39morientation,\n\u001b[0;32m   2371\u001b[0m             bbox_inches_restore\u001b[38;5;241m=\u001b[39m_bbox_inches_restore,\n\u001b[0;32m   2372\u001b[0m             \u001b[38;5;241m*\u001b[39m\u001b[38;5;241m*\u001b[39mkwargs)\n\u001b[0;32m   2373\u001b[0m \u001b[38;5;28;01mfinally\u001b[39;00m:\n\u001b[0;32m   2374\u001b[0m     \u001b[38;5;28;01mif\u001b[39;00m bbox_inches \u001b[38;5;129;01mand\u001b[39;00m restore_bbox:\n",
      "File \u001b[1;32m~\\AppData\\Roaming\\Python\\Python310\\site-packages\\matplotlib\\backend_bases.py:2232\u001b[0m, in \u001b[0;36mFigureCanvasBase._switch_canvas_and_return_print_method.<locals>.<lambda>\u001b[1;34m(*args, **kwargs)\u001b[0m\n\u001b[0;32m   2228\u001b[0m     optional_kws \u001b[38;5;241m=\u001b[39m {  \u001b[38;5;66;03m# Passed by print_figure for other renderers.\u001b[39;00m\n\u001b[0;32m   2229\u001b[0m         \u001b[38;5;124m\"\u001b[39m\u001b[38;5;124mdpi\u001b[39m\u001b[38;5;124m\"\u001b[39m, \u001b[38;5;124m\"\u001b[39m\u001b[38;5;124mfacecolor\u001b[39m\u001b[38;5;124m\"\u001b[39m, \u001b[38;5;124m\"\u001b[39m\u001b[38;5;124medgecolor\u001b[39m\u001b[38;5;124m\"\u001b[39m, \u001b[38;5;124m\"\u001b[39m\u001b[38;5;124morientation\u001b[39m\u001b[38;5;124m\"\u001b[39m,\n\u001b[0;32m   2230\u001b[0m         \u001b[38;5;124m\"\u001b[39m\u001b[38;5;124mbbox_inches_restore\u001b[39m\u001b[38;5;124m\"\u001b[39m}\n\u001b[0;32m   2231\u001b[0m     skip \u001b[38;5;241m=\u001b[39m optional_kws \u001b[38;5;241m-\u001b[39m {\u001b[38;5;241m*\u001b[39minspect\u001b[38;5;241m.\u001b[39msignature(meth)\u001b[38;5;241m.\u001b[39mparameters}\n\u001b[1;32m-> 2232\u001b[0m     print_method \u001b[38;5;241m=\u001b[39m functools\u001b[38;5;241m.\u001b[39mwraps(meth)(\u001b[38;5;28;01mlambda\u001b[39;00m \u001b[38;5;241m*\u001b[39margs, \u001b[38;5;241m*\u001b[39m\u001b[38;5;241m*\u001b[39mkwargs: meth(\n\u001b[0;32m   2233\u001b[0m         \u001b[38;5;241m*\u001b[39margs, \u001b[38;5;241m*\u001b[39m\u001b[38;5;241m*\u001b[39m{k: v \u001b[38;5;28;01mfor\u001b[39;00m k, v \u001b[38;5;129;01min\u001b[39;00m kwargs\u001b[38;5;241m.\u001b[39mitems() \u001b[38;5;28;01mif\u001b[39;00m k \u001b[38;5;129;01mnot\u001b[39;00m \u001b[38;5;129;01min\u001b[39;00m skip}))\n\u001b[0;32m   2234\u001b[0m \u001b[38;5;28;01melse\u001b[39;00m:  \u001b[38;5;66;03m# Let third-parties do as they see fit.\u001b[39;00m\n\u001b[0;32m   2235\u001b[0m     print_method \u001b[38;5;241m=\u001b[39m meth\n",
      "File \u001b[1;32m~\\AppData\\Roaming\\Python\\Python310\\site-packages\\matplotlib\\backends\\backend_agg.py:509\u001b[0m, in \u001b[0;36mFigureCanvasAgg.print_png\u001b[1;34m(self, filename_or_obj, metadata, pil_kwargs)\u001b[0m\n\u001b[0;32m    462\u001b[0m \u001b[38;5;28;01mdef\u001b[39;00m \u001b[38;5;21mprint_png\u001b[39m(\u001b[38;5;28mself\u001b[39m, filename_or_obj, \u001b[38;5;241m*\u001b[39m, metadata\u001b[38;5;241m=\u001b[39m\u001b[38;5;28;01mNone\u001b[39;00m, pil_kwargs\u001b[38;5;241m=\u001b[39m\u001b[38;5;28;01mNone\u001b[39;00m):\n\u001b[0;32m    463\u001b[0m \u001b[38;5;250m    \u001b[39m\u001b[38;5;124;03m\"\"\"\u001b[39;00m\n\u001b[0;32m    464\u001b[0m \u001b[38;5;124;03m    Write the figure to a PNG file.\u001b[39;00m\n\u001b[0;32m    465\u001b[0m \n\u001b[1;32m   (...)\u001b[0m\n\u001b[0;32m    507\u001b[0m \u001b[38;5;124;03m        *metadata*, including the default 'Software' key.\u001b[39;00m\n\u001b[0;32m    508\u001b[0m \u001b[38;5;124;03m    \"\"\"\u001b[39;00m\n\u001b[1;32m--> 509\u001b[0m     \u001b[38;5;28;43mself\u001b[39;49m\u001b[38;5;241;43m.\u001b[39;49m\u001b[43m_print_pil\u001b[49m\u001b[43m(\u001b[49m\u001b[43mfilename_or_obj\u001b[49m\u001b[43m,\u001b[49m\u001b[43m \u001b[49m\u001b[38;5;124;43m\"\u001b[39;49m\u001b[38;5;124;43mpng\u001b[39;49m\u001b[38;5;124;43m\"\u001b[39;49m\u001b[43m,\u001b[49m\u001b[43m \u001b[49m\u001b[43mpil_kwargs\u001b[49m\u001b[43m,\u001b[49m\u001b[43m \u001b[49m\u001b[43mmetadata\u001b[49m\u001b[43m)\u001b[49m\n",
      "File \u001b[1;32m~\\AppData\\Roaming\\Python\\Python310\\site-packages\\matplotlib\\backends\\backend_agg.py:457\u001b[0m, in \u001b[0;36mFigureCanvasAgg._print_pil\u001b[1;34m(self, filename_or_obj, fmt, pil_kwargs, metadata)\u001b[0m\n\u001b[0;32m    452\u001b[0m \u001b[38;5;28;01mdef\u001b[39;00m \u001b[38;5;21m_print_pil\u001b[39m(\u001b[38;5;28mself\u001b[39m, filename_or_obj, fmt, pil_kwargs, metadata\u001b[38;5;241m=\u001b[39m\u001b[38;5;28;01mNone\u001b[39;00m):\n\u001b[0;32m    453\u001b[0m \u001b[38;5;250m    \u001b[39m\u001b[38;5;124;03m\"\"\"\u001b[39;00m\n\u001b[0;32m    454\u001b[0m \u001b[38;5;124;03m    Draw the canvas, then save it using `.image.imsave` (to which\u001b[39;00m\n\u001b[0;32m    455\u001b[0m \u001b[38;5;124;03m    *pil_kwargs* and *metadata* are forwarded).\u001b[39;00m\n\u001b[0;32m    456\u001b[0m \u001b[38;5;124;03m    \"\"\"\u001b[39;00m\n\u001b[1;32m--> 457\u001b[0m     \u001b[43mFigureCanvasAgg\u001b[49m\u001b[38;5;241;43m.\u001b[39;49m\u001b[43mdraw\u001b[49m\u001b[43m(\u001b[49m\u001b[38;5;28;43mself\u001b[39;49m\u001b[43m)\u001b[49m\n\u001b[0;32m    458\u001b[0m     mpl\u001b[38;5;241m.\u001b[39mimage\u001b[38;5;241m.\u001b[39mimsave(\n\u001b[0;32m    459\u001b[0m         filename_or_obj, \u001b[38;5;28mself\u001b[39m\u001b[38;5;241m.\u001b[39mbuffer_rgba(), \u001b[38;5;28mformat\u001b[39m\u001b[38;5;241m=\u001b[39mfmt, origin\u001b[38;5;241m=\u001b[39m\u001b[38;5;124m\"\u001b[39m\u001b[38;5;124mupper\u001b[39m\u001b[38;5;124m\"\u001b[39m,\n\u001b[0;32m    460\u001b[0m         dpi\u001b[38;5;241m=\u001b[39m\u001b[38;5;28mself\u001b[39m\u001b[38;5;241m.\u001b[39mfigure\u001b[38;5;241m.\u001b[39mdpi, metadata\u001b[38;5;241m=\u001b[39mmetadata, pil_kwargs\u001b[38;5;241m=\u001b[39mpil_kwargs)\n",
      "File \u001b[1;32m~\\AppData\\Roaming\\Python\\Python310\\site-packages\\matplotlib\\backends\\backend_agg.py:400\u001b[0m, in \u001b[0;36mFigureCanvasAgg.draw\u001b[1;34m(self)\u001b[0m\n\u001b[0;32m    396\u001b[0m \u001b[38;5;66;03m# Acquire a lock on the shared font cache.\u001b[39;00m\n\u001b[0;32m    397\u001b[0m \u001b[38;5;28;01mwith\u001b[39;00m RendererAgg\u001b[38;5;241m.\u001b[39mlock, \\\n\u001b[0;32m    398\u001b[0m      (\u001b[38;5;28mself\u001b[39m\u001b[38;5;241m.\u001b[39mtoolbar\u001b[38;5;241m.\u001b[39m_wait_cursor_for_draw_cm() \u001b[38;5;28;01mif\u001b[39;00m \u001b[38;5;28mself\u001b[39m\u001b[38;5;241m.\u001b[39mtoolbar\n\u001b[0;32m    399\u001b[0m       \u001b[38;5;28;01melse\u001b[39;00m nullcontext()):\n\u001b[1;32m--> 400\u001b[0m     \u001b[38;5;28;43mself\u001b[39;49m\u001b[38;5;241;43m.\u001b[39;49m\u001b[43mfigure\u001b[49m\u001b[38;5;241;43m.\u001b[39;49m\u001b[43mdraw\u001b[49m\u001b[43m(\u001b[49m\u001b[38;5;28;43mself\u001b[39;49m\u001b[38;5;241;43m.\u001b[39;49m\u001b[43mrenderer\u001b[49m\u001b[43m)\u001b[49m\n\u001b[0;32m    401\u001b[0m     \u001b[38;5;66;03m# A GUI class may be need to update a window using this draw, so\u001b[39;00m\n\u001b[0;32m    402\u001b[0m     \u001b[38;5;66;03m# don't forget to call the superclass.\u001b[39;00m\n\u001b[0;32m    403\u001b[0m     \u001b[38;5;28msuper\u001b[39m()\u001b[38;5;241m.\u001b[39mdraw()\n",
      "File \u001b[1;32m~\\AppData\\Roaming\\Python\\Python310\\site-packages\\matplotlib\\artist.py:95\u001b[0m, in \u001b[0;36m_finalize_rasterization.<locals>.draw_wrapper\u001b[1;34m(artist, renderer, *args, **kwargs)\u001b[0m\n\u001b[0;32m     93\u001b[0m \u001b[38;5;129m@wraps\u001b[39m(draw)\n\u001b[0;32m     94\u001b[0m \u001b[38;5;28;01mdef\u001b[39;00m \u001b[38;5;21mdraw_wrapper\u001b[39m(artist, renderer, \u001b[38;5;241m*\u001b[39margs, \u001b[38;5;241m*\u001b[39m\u001b[38;5;241m*\u001b[39mkwargs):\n\u001b[1;32m---> 95\u001b[0m     result \u001b[38;5;241m=\u001b[39m draw(artist, renderer, \u001b[38;5;241m*\u001b[39margs, \u001b[38;5;241m*\u001b[39m\u001b[38;5;241m*\u001b[39mkwargs)\n\u001b[0;32m     96\u001b[0m     \u001b[38;5;28;01mif\u001b[39;00m renderer\u001b[38;5;241m.\u001b[39m_rasterizing:\n\u001b[0;32m     97\u001b[0m         renderer\u001b[38;5;241m.\u001b[39mstop_rasterizing()\n",
      "File \u001b[1;32m~\\AppData\\Roaming\\Python\\Python310\\site-packages\\matplotlib\\artist.py:72\u001b[0m, in \u001b[0;36mallow_rasterization.<locals>.draw_wrapper\u001b[1;34m(artist, renderer)\u001b[0m\n\u001b[0;32m     69\u001b[0m     \u001b[38;5;28;01mif\u001b[39;00m artist\u001b[38;5;241m.\u001b[39mget_agg_filter() \u001b[38;5;129;01mis\u001b[39;00m \u001b[38;5;129;01mnot\u001b[39;00m \u001b[38;5;28;01mNone\u001b[39;00m:\n\u001b[0;32m     70\u001b[0m         renderer\u001b[38;5;241m.\u001b[39mstart_filter()\n\u001b[1;32m---> 72\u001b[0m     \u001b[38;5;28;01mreturn\u001b[39;00m \u001b[43mdraw\u001b[49m\u001b[43m(\u001b[49m\u001b[43martist\u001b[49m\u001b[43m,\u001b[49m\u001b[43m \u001b[49m\u001b[43mrenderer\u001b[49m\u001b[43m)\u001b[49m\n\u001b[0;32m     73\u001b[0m \u001b[38;5;28;01mfinally\u001b[39;00m:\n\u001b[0;32m     74\u001b[0m     \u001b[38;5;28;01mif\u001b[39;00m artist\u001b[38;5;241m.\u001b[39mget_agg_filter() \u001b[38;5;129;01mis\u001b[39;00m \u001b[38;5;129;01mnot\u001b[39;00m \u001b[38;5;28;01mNone\u001b[39;00m:\n",
      "File \u001b[1;32m~\\AppData\\Roaming\\Python\\Python310\\site-packages\\matplotlib\\figure.py:3175\u001b[0m, in \u001b[0;36mFigure.draw\u001b[1;34m(self, renderer)\u001b[0m\n\u001b[0;32m   3172\u001b[0m         \u001b[38;5;66;03m# ValueError can occur when resizing a window.\u001b[39;00m\n\u001b[0;32m   3174\u001b[0m \u001b[38;5;28mself\u001b[39m\u001b[38;5;241m.\u001b[39mpatch\u001b[38;5;241m.\u001b[39mdraw(renderer)\n\u001b[1;32m-> 3175\u001b[0m \u001b[43mmimage\u001b[49m\u001b[38;5;241;43m.\u001b[39;49m\u001b[43m_draw_list_compositing_images\u001b[49m\u001b[43m(\u001b[49m\n\u001b[0;32m   3176\u001b[0m \u001b[43m    \u001b[49m\u001b[43mrenderer\u001b[49m\u001b[43m,\u001b[49m\u001b[43m \u001b[49m\u001b[38;5;28;43mself\u001b[39;49m\u001b[43m,\u001b[49m\u001b[43m \u001b[49m\u001b[43martists\u001b[49m\u001b[43m,\u001b[49m\u001b[43m \u001b[49m\u001b[38;5;28;43mself\u001b[39;49m\u001b[38;5;241;43m.\u001b[39;49m\u001b[43msuppressComposite\u001b[49m\u001b[43m)\u001b[49m\n\u001b[0;32m   3178\u001b[0m \u001b[38;5;28;01mfor\u001b[39;00m sfig \u001b[38;5;129;01min\u001b[39;00m \u001b[38;5;28mself\u001b[39m\u001b[38;5;241m.\u001b[39msubfigs:\n\u001b[0;32m   3179\u001b[0m     sfig\u001b[38;5;241m.\u001b[39mdraw(renderer)\n",
      "File \u001b[1;32m~\\AppData\\Roaming\\Python\\Python310\\site-packages\\matplotlib\\image.py:131\u001b[0m, in \u001b[0;36m_draw_list_compositing_images\u001b[1;34m(renderer, parent, artists, suppress_composite)\u001b[0m\n\u001b[0;32m    129\u001b[0m \u001b[38;5;28;01mif\u001b[39;00m not_composite \u001b[38;5;129;01mor\u001b[39;00m \u001b[38;5;129;01mnot\u001b[39;00m has_images:\n\u001b[0;32m    130\u001b[0m     \u001b[38;5;28;01mfor\u001b[39;00m a \u001b[38;5;129;01min\u001b[39;00m artists:\n\u001b[1;32m--> 131\u001b[0m         \u001b[43ma\u001b[49m\u001b[38;5;241;43m.\u001b[39;49m\u001b[43mdraw\u001b[49m\u001b[43m(\u001b[49m\u001b[43mrenderer\u001b[49m\u001b[43m)\u001b[49m\n\u001b[0;32m    132\u001b[0m \u001b[38;5;28;01melse\u001b[39;00m:\n\u001b[0;32m    133\u001b[0m     \u001b[38;5;66;03m# Composite any adjacent images together\u001b[39;00m\n\u001b[0;32m    134\u001b[0m     image_group \u001b[38;5;241m=\u001b[39m []\n",
      "File \u001b[1;32m~\\AppData\\Roaming\\Python\\Python310\\site-packages\\matplotlib\\artist.py:72\u001b[0m, in \u001b[0;36mallow_rasterization.<locals>.draw_wrapper\u001b[1;34m(artist, renderer)\u001b[0m\n\u001b[0;32m     69\u001b[0m     \u001b[38;5;28;01mif\u001b[39;00m artist\u001b[38;5;241m.\u001b[39mget_agg_filter() \u001b[38;5;129;01mis\u001b[39;00m \u001b[38;5;129;01mnot\u001b[39;00m \u001b[38;5;28;01mNone\u001b[39;00m:\n\u001b[0;32m     70\u001b[0m         renderer\u001b[38;5;241m.\u001b[39mstart_filter()\n\u001b[1;32m---> 72\u001b[0m     \u001b[38;5;28;01mreturn\u001b[39;00m \u001b[43mdraw\u001b[49m\u001b[43m(\u001b[49m\u001b[43martist\u001b[49m\u001b[43m,\u001b[49m\u001b[43m \u001b[49m\u001b[43mrenderer\u001b[49m\u001b[43m)\u001b[49m\n\u001b[0;32m     73\u001b[0m \u001b[38;5;28;01mfinally\u001b[39;00m:\n\u001b[0;32m     74\u001b[0m     \u001b[38;5;28;01mif\u001b[39;00m artist\u001b[38;5;241m.\u001b[39mget_agg_filter() \u001b[38;5;129;01mis\u001b[39;00m \u001b[38;5;129;01mnot\u001b[39;00m \u001b[38;5;28;01mNone\u001b[39;00m:\n",
      "File \u001b[1;32m~\\AppData\\Roaming\\Python\\Python310\\site-packages\\matplotlib\\axes\\_base.py:3064\u001b[0m, in \u001b[0;36m_AxesBase.draw\u001b[1;34m(self, renderer)\u001b[0m\n\u001b[0;32m   3061\u001b[0m \u001b[38;5;28;01mif\u001b[39;00m artists_rasterized:\n\u001b[0;32m   3062\u001b[0m     _draw_rasterized(\u001b[38;5;28mself\u001b[39m\u001b[38;5;241m.\u001b[39mfigure, artists_rasterized, renderer)\n\u001b[1;32m-> 3064\u001b[0m \u001b[43mmimage\u001b[49m\u001b[38;5;241;43m.\u001b[39;49m\u001b[43m_draw_list_compositing_images\u001b[49m\u001b[43m(\u001b[49m\n\u001b[0;32m   3065\u001b[0m \u001b[43m    \u001b[49m\u001b[43mrenderer\u001b[49m\u001b[43m,\u001b[49m\u001b[43m \u001b[49m\u001b[38;5;28;43mself\u001b[39;49m\u001b[43m,\u001b[49m\u001b[43m \u001b[49m\u001b[43martists\u001b[49m\u001b[43m,\u001b[49m\u001b[43m \u001b[49m\u001b[38;5;28;43mself\u001b[39;49m\u001b[38;5;241;43m.\u001b[39;49m\u001b[43mfigure\u001b[49m\u001b[38;5;241;43m.\u001b[39;49m\u001b[43msuppressComposite\u001b[49m\u001b[43m)\u001b[49m\n\u001b[0;32m   3067\u001b[0m renderer\u001b[38;5;241m.\u001b[39mclose_group(\u001b[38;5;124m'\u001b[39m\u001b[38;5;124maxes\u001b[39m\u001b[38;5;124m'\u001b[39m)\n\u001b[0;32m   3068\u001b[0m \u001b[38;5;28mself\u001b[39m\u001b[38;5;241m.\u001b[39mstale \u001b[38;5;241m=\u001b[39m \u001b[38;5;28;01mFalse\u001b[39;00m\n",
      "File \u001b[1;32m~\\AppData\\Roaming\\Python\\Python310\\site-packages\\matplotlib\\image.py:131\u001b[0m, in \u001b[0;36m_draw_list_compositing_images\u001b[1;34m(renderer, parent, artists, suppress_composite)\u001b[0m\n\u001b[0;32m    129\u001b[0m \u001b[38;5;28;01mif\u001b[39;00m not_composite \u001b[38;5;129;01mor\u001b[39;00m \u001b[38;5;129;01mnot\u001b[39;00m has_images:\n\u001b[0;32m    130\u001b[0m     \u001b[38;5;28;01mfor\u001b[39;00m a \u001b[38;5;129;01min\u001b[39;00m artists:\n\u001b[1;32m--> 131\u001b[0m         \u001b[43ma\u001b[49m\u001b[38;5;241;43m.\u001b[39;49m\u001b[43mdraw\u001b[49m\u001b[43m(\u001b[49m\u001b[43mrenderer\u001b[49m\u001b[43m)\u001b[49m\n\u001b[0;32m    132\u001b[0m \u001b[38;5;28;01melse\u001b[39;00m:\n\u001b[0;32m    133\u001b[0m     \u001b[38;5;66;03m# Composite any adjacent images together\u001b[39;00m\n\u001b[0;32m    134\u001b[0m     image_group \u001b[38;5;241m=\u001b[39m []\n",
      "File \u001b[1;32m~\\AppData\\Roaming\\Python\\Python310\\site-packages\\matplotlib\\artist.py:72\u001b[0m, in \u001b[0;36mallow_rasterization.<locals>.draw_wrapper\u001b[1;34m(artist, renderer)\u001b[0m\n\u001b[0;32m     69\u001b[0m     \u001b[38;5;28;01mif\u001b[39;00m artist\u001b[38;5;241m.\u001b[39mget_agg_filter() \u001b[38;5;129;01mis\u001b[39;00m \u001b[38;5;129;01mnot\u001b[39;00m \u001b[38;5;28;01mNone\u001b[39;00m:\n\u001b[0;32m     70\u001b[0m         renderer\u001b[38;5;241m.\u001b[39mstart_filter()\n\u001b[1;32m---> 72\u001b[0m     \u001b[38;5;28;01mreturn\u001b[39;00m \u001b[43mdraw\u001b[49m\u001b[43m(\u001b[49m\u001b[43martist\u001b[49m\u001b[43m,\u001b[49m\u001b[43m \u001b[49m\u001b[43mrenderer\u001b[49m\u001b[43m)\u001b[49m\n\u001b[0;32m     73\u001b[0m \u001b[38;5;28;01mfinally\u001b[39;00m:\n\u001b[0;32m     74\u001b[0m     \u001b[38;5;28;01mif\u001b[39;00m artist\u001b[38;5;241m.\u001b[39mget_agg_filter() \u001b[38;5;129;01mis\u001b[39;00m \u001b[38;5;129;01mnot\u001b[39;00m \u001b[38;5;28;01mNone\u001b[39;00m:\n",
      "File \u001b[1;32m~\\AppData\\Roaming\\Python\\Python310\\site-packages\\matplotlib\\axis.py:1380\u001b[0m, in \u001b[0;36mAxis.draw\u001b[1;34m(self, renderer, *args, **kwargs)\u001b[0m\n\u001b[0;32m   1377\u001b[0m tlb1, tlb2 \u001b[38;5;241m=\u001b[39m \u001b[38;5;28mself\u001b[39m\u001b[38;5;241m.\u001b[39m_get_ticklabel_bboxes(ticks_to_draw, renderer)\n\u001b[0;32m   1379\u001b[0m \u001b[38;5;28;01mfor\u001b[39;00m tick \u001b[38;5;129;01min\u001b[39;00m ticks_to_draw:\n\u001b[1;32m-> 1380\u001b[0m     \u001b[43mtick\u001b[49m\u001b[38;5;241;43m.\u001b[39;49m\u001b[43mdraw\u001b[49m\u001b[43m(\u001b[49m\u001b[43mrenderer\u001b[49m\u001b[43m)\u001b[49m\n\u001b[0;32m   1382\u001b[0m \u001b[38;5;66;03m# Shift label away from axes to avoid overlapping ticklabels.\u001b[39;00m\n\u001b[0;32m   1383\u001b[0m \u001b[38;5;28mself\u001b[39m\u001b[38;5;241m.\u001b[39m_update_label_position(renderer)\n",
      "File \u001b[1;32m~\\AppData\\Roaming\\Python\\Python310\\site-packages\\matplotlib\\artist.py:72\u001b[0m, in \u001b[0;36mallow_rasterization.<locals>.draw_wrapper\u001b[1;34m(artist, renderer)\u001b[0m\n\u001b[0;32m     69\u001b[0m     \u001b[38;5;28;01mif\u001b[39;00m artist\u001b[38;5;241m.\u001b[39mget_agg_filter() \u001b[38;5;129;01mis\u001b[39;00m \u001b[38;5;129;01mnot\u001b[39;00m \u001b[38;5;28;01mNone\u001b[39;00m:\n\u001b[0;32m     70\u001b[0m         renderer\u001b[38;5;241m.\u001b[39mstart_filter()\n\u001b[1;32m---> 72\u001b[0m     \u001b[38;5;28;01mreturn\u001b[39;00m \u001b[43mdraw\u001b[49m\u001b[43m(\u001b[49m\u001b[43martist\u001b[49m\u001b[43m,\u001b[49m\u001b[43m \u001b[49m\u001b[43mrenderer\u001b[49m\u001b[43m)\u001b[49m\n\u001b[0;32m     73\u001b[0m \u001b[38;5;28;01mfinally\u001b[39;00m:\n\u001b[0;32m     74\u001b[0m     \u001b[38;5;28;01mif\u001b[39;00m artist\u001b[38;5;241m.\u001b[39mget_agg_filter() \u001b[38;5;129;01mis\u001b[39;00m \u001b[38;5;129;01mnot\u001b[39;00m \u001b[38;5;28;01mNone\u001b[39;00m:\n",
      "File \u001b[1;32m~\\AppData\\Roaming\\Python\\Python310\\site-packages\\matplotlib\\axis.py:301\u001b[0m, in \u001b[0;36mTick.draw\u001b[1;34m(self, renderer)\u001b[0m\n\u001b[0;32m    298\u001b[0m renderer\u001b[38;5;241m.\u001b[39mopen_group(\u001b[38;5;28mself\u001b[39m\u001b[38;5;241m.\u001b[39m\u001b[38;5;18m__name__\u001b[39m, gid\u001b[38;5;241m=\u001b[39m\u001b[38;5;28mself\u001b[39m\u001b[38;5;241m.\u001b[39mget_gid())\n\u001b[0;32m    299\u001b[0m \u001b[38;5;28;01mfor\u001b[39;00m artist \u001b[38;5;129;01min\u001b[39;00m [\u001b[38;5;28mself\u001b[39m\u001b[38;5;241m.\u001b[39mgridline, \u001b[38;5;28mself\u001b[39m\u001b[38;5;241m.\u001b[39mtick1line, \u001b[38;5;28mself\u001b[39m\u001b[38;5;241m.\u001b[39mtick2line,\n\u001b[0;32m    300\u001b[0m                \u001b[38;5;28mself\u001b[39m\u001b[38;5;241m.\u001b[39mlabel1, \u001b[38;5;28mself\u001b[39m\u001b[38;5;241m.\u001b[39mlabel2]:\n\u001b[1;32m--> 301\u001b[0m     \u001b[43martist\u001b[49m\u001b[38;5;241;43m.\u001b[39;49m\u001b[43mdraw\u001b[49m\u001b[43m(\u001b[49m\u001b[43mrenderer\u001b[49m\u001b[43m)\u001b[49m\n\u001b[0;32m    302\u001b[0m renderer\u001b[38;5;241m.\u001b[39mclose_group(\u001b[38;5;28mself\u001b[39m\u001b[38;5;241m.\u001b[39m\u001b[38;5;18m__name__\u001b[39m)\n\u001b[0;32m    303\u001b[0m \u001b[38;5;28mself\u001b[39m\u001b[38;5;241m.\u001b[39mstale \u001b[38;5;241m=\u001b[39m \u001b[38;5;28;01mFalse\u001b[39;00m\n",
      "File \u001b[1;32m~\\AppData\\Roaming\\Python\\Python310\\site-packages\\matplotlib\\artist.py:72\u001b[0m, in \u001b[0;36mallow_rasterization.<locals>.draw_wrapper\u001b[1;34m(artist, renderer)\u001b[0m\n\u001b[0;32m     69\u001b[0m     \u001b[38;5;28;01mif\u001b[39;00m artist\u001b[38;5;241m.\u001b[39mget_agg_filter() \u001b[38;5;129;01mis\u001b[39;00m \u001b[38;5;129;01mnot\u001b[39;00m \u001b[38;5;28;01mNone\u001b[39;00m:\n\u001b[0;32m     70\u001b[0m         renderer\u001b[38;5;241m.\u001b[39mstart_filter()\n\u001b[1;32m---> 72\u001b[0m     \u001b[38;5;28;01mreturn\u001b[39;00m \u001b[43mdraw\u001b[49m\u001b[43m(\u001b[49m\u001b[43martist\u001b[49m\u001b[43m,\u001b[49m\u001b[43m \u001b[49m\u001b[43mrenderer\u001b[49m\u001b[43m)\u001b[49m\n\u001b[0;32m     73\u001b[0m \u001b[38;5;28;01mfinally\u001b[39;00m:\n\u001b[0;32m     74\u001b[0m     \u001b[38;5;28;01mif\u001b[39;00m artist\u001b[38;5;241m.\u001b[39mget_agg_filter() \u001b[38;5;129;01mis\u001b[39;00m \u001b[38;5;129;01mnot\u001b[39;00m \u001b[38;5;28;01mNone\u001b[39;00m:\n",
      "File \u001b[1;32m~\\AppData\\Roaming\\Python\\Python310\\site-packages\\matplotlib\\text.py:800\u001b[0m, in \u001b[0;36mText.draw\u001b[1;34m(self, renderer)\u001b[0m\n\u001b[0;32m    796\u001b[0m             textrenderer\u001b[38;5;241m.\u001b[39mdraw_tex(gc, x, y, clean_line,\n\u001b[0;32m    797\u001b[0m                                   \u001b[38;5;28mself\u001b[39m\u001b[38;5;241m.\u001b[39m_fontproperties, angle,\n\u001b[0;32m    798\u001b[0m                                   mtext\u001b[38;5;241m=\u001b[39mmtext)\n\u001b[0;32m    799\u001b[0m         \u001b[38;5;28;01melse\u001b[39;00m:\n\u001b[1;32m--> 800\u001b[0m             \u001b[43mtextrenderer\u001b[49m\u001b[38;5;241;43m.\u001b[39;49m\u001b[43mdraw_text\u001b[49m\u001b[43m(\u001b[49m\u001b[43mgc\u001b[49m\u001b[43m,\u001b[49m\u001b[43m \u001b[49m\u001b[43mx\u001b[49m\u001b[43m,\u001b[49m\u001b[43m \u001b[49m\u001b[43my\u001b[49m\u001b[43m,\u001b[49m\u001b[43m \u001b[49m\u001b[43mclean_line\u001b[49m\u001b[43m,\u001b[49m\n\u001b[0;32m    801\u001b[0m \u001b[43m                                   \u001b[49m\u001b[38;5;28;43mself\u001b[39;49m\u001b[38;5;241;43m.\u001b[39;49m\u001b[43m_fontproperties\u001b[49m\u001b[43m,\u001b[49m\u001b[43m \u001b[49m\u001b[43mangle\u001b[49m\u001b[43m,\u001b[49m\n\u001b[0;32m    802\u001b[0m \u001b[43m                                   \u001b[49m\u001b[43mismath\u001b[49m\u001b[38;5;241;43m=\u001b[39;49m\u001b[43mismath\u001b[49m\u001b[43m,\u001b[49m\u001b[43m \u001b[49m\u001b[43mmtext\u001b[49m\u001b[38;5;241;43m=\u001b[39;49m\u001b[43mmtext\u001b[49m\u001b[43m)\u001b[49m\n\u001b[0;32m    804\u001b[0m gc\u001b[38;5;241m.\u001b[39mrestore()\n\u001b[0;32m    805\u001b[0m renderer\u001b[38;5;241m.\u001b[39mclose_group(\u001b[38;5;124m'\u001b[39m\u001b[38;5;124mtext\u001b[39m\u001b[38;5;124m'\u001b[39m)\n",
      "File \u001b[1;32m~\\AppData\\Roaming\\Python\\Python310\\site-packages\\matplotlib\\backends\\backend_agg.py:207\u001b[0m, in \u001b[0;36mRendererAgg.draw_text\u001b[1;34m(self, gc, x, y, s, prop, angle, ismath, mtext)\u001b[0m\n\u001b[0;32m    204\u001b[0m font \u001b[38;5;241m=\u001b[39m \u001b[38;5;28mself\u001b[39m\u001b[38;5;241m.\u001b[39m_prepare_font(prop)\n\u001b[0;32m    205\u001b[0m \u001b[38;5;66;03m# We pass '0' for angle here, since it will be rotated (in raster\u001b[39;00m\n\u001b[0;32m    206\u001b[0m \u001b[38;5;66;03m# space) in the following call to draw_text_image).\u001b[39;00m\n\u001b[1;32m--> 207\u001b[0m \u001b[43mfont\u001b[49m\u001b[38;5;241;43m.\u001b[39;49m\u001b[43mset_text\u001b[49m\u001b[43m(\u001b[49m\u001b[43ms\u001b[49m\u001b[43m,\u001b[49m\u001b[43m \u001b[49m\u001b[38;5;241;43m0\u001b[39;49m\u001b[43m,\u001b[49m\u001b[43m \u001b[49m\u001b[43mflags\u001b[49m\u001b[38;5;241;43m=\u001b[39;49m\u001b[43mget_hinting_flag\u001b[49m\u001b[43m(\u001b[49m\u001b[43m)\u001b[49m\u001b[43m)\u001b[49m\n\u001b[0;32m    208\u001b[0m font\u001b[38;5;241m.\u001b[39mdraw_glyphs_to_bitmap(\n\u001b[0;32m    209\u001b[0m     antialiased\u001b[38;5;241m=\u001b[39mmpl\u001b[38;5;241m.\u001b[39mrcParams[\u001b[38;5;124m'\u001b[39m\u001b[38;5;124mtext.antialiased\u001b[39m\u001b[38;5;124m'\u001b[39m])\n\u001b[0;32m    210\u001b[0m d \u001b[38;5;241m=\u001b[39m font\u001b[38;5;241m.\u001b[39mget_descent() \u001b[38;5;241m/\u001b[39m \u001b[38;5;241m64.0\u001b[39m\n",
      "\u001b[1;31mKeyboardInterrupt\u001b[0m: "
     ]
    }
   ],
   "source": [
    "emmaObj.plot()\n",
    "#8400개 정도를 보려니 컴퓨터가 뻗을수도 있다. "
   ]
  },
  {
   "cell_type": "code",
   "execution_count": 20,
   "id": "75827b14-b472-4db0-9a52-26d39cecc098",
   "metadata": {},
   "outputs": [],
   "source": [
    "import matplotlib.pyplot as plt"
   ]
  },
  {
   "cell_type": "code",
   "execution_count": 22,
   "id": "af2ef985-4188-4b03-af35-ccfbdb0346cd",
   "metadata": {},
   "outputs": [
    {
     "data": {
      "text/plain": [
       "[<matplotlib.lines.Line2D at 0x2a94689fc40>]"
      ]
     },
     "execution_count": 22,
     "metadata": {},
     "output_type": "execute_result"
    },
    {
     "data": {
      "image/png": "[encoded data removed]",
      "text/plain": [
       "<Figure size 640x480 with 1 Axes>"
      ]
     },
     "metadata": {},
     "output_type": "display_data"
    }
   ],
   "source": [
    "plt.plot(range(1,51), [1/i for i in range(1, 51)])\n",
    "#상위 50개에 대한 그래프를 확인 할 수 있다."
   ]
  },
  {
   "cell_type": "code",
   "execution_count": 23,
   "id": "516989b6-d5e2-4fc7-824b-683872c433dd",
   "metadata": {},
   "outputs": [],
   "source": [
    "#12016 개의 빈도를 가진 콤마를 가지고 해볼려고한다.\n",
    "maxfreq = emmaObj.vocab().get(',')"
   ]
  },
  {
   "cell_type": "code",
   "execution_count": 26,
   "id": "522d5478-6697-4ba8-9fa4-3b06a9385928",
   "metadata": {},
   "outputs": [
    {
     "data": {
      "text/plain": [
       "[<matplotlib.lines.Line2D at 0x2a946b0be50>]"
      ]
     },
     "execution_count": 26,
     "metadata": {},
     "output_type": "execute_result"
    },
    {
     "data": {
      "image/png": "[encoded data removed]",
      "text/plain": [
       "<Figure size 640x480 with 1 Axes>"
      ]
     },
     "metadata": {},
     "output_type": "display_data"
    }
   ],
   "source": [
    "plt.plot(range(1,51), [t[1]/maxfreq for t in emmaObj.vocab().most_common(50)])\n",
    "plt.plot(range(1,51), [1/i for i in range(1, 51)])\n",
    "#일치한거라고 한다,,,, "
   ]
  },
  {
   "cell_type": "code",
   "execution_count": 28,
   "id": "5fc061fd-fffb-4654-8d66-fc2c2472a7bc",
   "metadata": {},
   "outputs": [
    {
     "data": {
      "text/plain": [
       "[<matplotlib.lines.Line2D at 0x2a9486ab520>]"
      ]
     },
     "execution_count": 28,
     "metadata": {},
     "output_type": "execute_result"
    },
    {
     "data": {
      "image/png": "[encoded data removed]",
      "text/plain": [
       "<Figure size 640x480 with 1 Axes>"
      ]
     },
     "metadata": {},
     "output_type": "display_data"
    }
   ],
   "source": [
    "N=101\n",
    "plt.plot(range(1,N), [t[1]/maxfreq for t in emmaObj.vocab().most_common(N-1)])\n",
    "plt.plot(range(1,N), [1/i for i in range(1, N)])\n",
    "#경향성이 비슷해.. 보인다... \n",
    "#왜 이렇게 나오냐고? 충분히 유익한 단어를 덜 뽑아서 그런거다"
   ]
  },
  {
   "cell_type": "code",
   "execution_count": 29,
   "id": "c6f80136-7f7a-4659-b559-96e8b335f03f",
   "metadata": {},
   "outputs": [],
   "source": [
    "from nltk.tag import pos_tag"
   ]
  },
  {
   "cell_type": "code",
   "execution_count": 31,
   "id": "6ff580f9-1dc8-46bd-8610-695d7be051be",
   "metadata": {},
   "outputs": [
    {
     "data": {
      "text/plain": [
       "(10974, 191785)"
      ]
     },
     "execution_count": 31,
     "metadata": {},
     "output_type": "execute_result"
    }
   ],
   "source": [
    "len(set(pos_tag(word_tokenize(emma)))),\\\n",
    "len(pos_tag(word_tokenize(emma)))"
   ]
  },
  {
   "cell_type": "code",
   "execution_count": 32,
   "id": "dc7003ac-bce0-4ec3-b385-6680977f46c3",
   "metadata": {},
   "outputs": [],
   "source": [
    "emmaPos = Text(pos_tag(word_tokenize(emma)))"
   ]
  },
  {
   "cell_type": "code",
   "execution_count": 35,
   "id": "8901125f-9732-4417-b38b-00939610c3d7",
   "metadata": {},
   "outputs": [
    {
     "data": {
      "text/plain": [
       "[<matplotlib.lines.Line2D at 0x2a948d4de70>]"
      ]
     },
     "execution_count": 35,
     "metadata": {},
     "output_type": "execute_result"
    },
    {
     "data": {
      "image/png": "[encoded data removed]",
      "text/plain": [
       "<Figure size 640x480 with 1 Axes>"
      ]
     },
     "metadata": {},
     "output_type": "display_data"
    }
   ],
   "source": [
    "N=51\n",
    "plt.plot(range(1,N), [1/i for i in range(1, N)])\n",
    "plt.plot(range(1,N),\n",
    "         [t[1]/maxfreq for t in emmaObj.vocab().most_common(N-1)],\n",
    "        'r-')\n",
    "plt.plot(range(1,N),\n",
    "         [t[1]/maxfreq for t in emmaObj.vocab().most_common(N-1)],\n",
    "        'b-')\n",
    "plt.plot(range(1,N),\n",
    "         [t[1]/maxfreq for t in emmaObj.vocab().most_common(N-1)],\n",
    "        'k-')"
   ]
  },
  {
   "cell_type": "markdown",
   "id": "5f91bbcb-22f4-4aec-a6ee-075998629f1b",
   "metadata": {},
   "source": [
    "emmaObj.vo"
   ]
  },
  {
   "cell_type": "code",
   "execution_count": 36,
   "id": "aa19ef35-f06e-4786-ba03-fb36e8d05f35",
   "metadata": {},
   "outputs": [
    {
     "data": {
      "text/plain": [
       "[(',', 12016),\n",
       " ('.', 6355),\n",
       " ('to', 5125),\n",
       " ('the', 4844),\n",
       " ('and', 4653),\n",
       " ('of', 4272),\n",
       " ('I', 3177),\n",
       " ('--', 3100),\n",
       " ('a', 3001),\n",
       " (\"''\", 2452),\n",
       " ('was', 2383),\n",
       " ('her', 2360),\n",
       " (';', 2353),\n",
       " ('not', 2242),\n",
       " ('in', 2103),\n",
       " ('it', 2103),\n",
       " ('be', 1965),\n",
       " ('she', 1774),\n",
       " ('``', 1735),\n",
       " ('that', 1729),\n",
       " ('you', 1664),\n",
       " ('had', 1605),\n",
       " ('as', 1387),\n",
       " ('he', 1365),\n",
       " ('for', 1320),\n",
       " ('have', 1301),\n",
       " ('is', 1221),\n",
       " ('with', 1185),\n",
       " ('very', 1151),\n",
       " ('but', 1148),\n",
       " ('Mr.', 1091),\n",
       " ('his', 1084),\n",
       " ('!', 1063),\n",
       " ('at', 996),\n",
       " ('so', 918),\n",
       " (\"'s\", 866),\n",
       " ('Emma', 855),\n",
       " ('all', 831),\n",
       " ('could', 824),\n",
       " ('would', 813),\n",
       " ('been', 755),\n",
       " ('him', 748),\n",
       " ('on', 674),\n",
       " ('Mrs.', 668),\n",
       " ('any', 651),\n",
       " ('?', 621),\n",
       " ('my', 619),\n",
       " ('no', 616),\n",
       " ('Miss', 592),\n",
       " ('were', 590)]"
      ]
     },
     "execution_count": 36,
     "metadata": {},
     "output_type": "execute_result"
    }
   ],
   "source": [
    "emmaObj.vocab().most_common(50)"
   ]
  },
  {
   "cell_type": "markdown",
   "id": "3aee44c5-c7cf-44e3-a732-6810603e63e9",
   "metadata": {},
   "source": [
    "## 가장 적은 빈도수의 단어들의 중요도 확인 -> 잘 안쓰이는 표현들이다."
   ]
  },
  {
   "cell_type": "code",
   "execution_count": 37,
   "id": "e0e8373c-77b2-4296-8e95-7360ec0ba2cf",
   "metadata": {
    "scrolled": true
   },
   "outputs": [
    {
     "data": {
      "text/plain": [
       "['Austen',\n",
       " '1816',\n",
       " 'twenty-one',\n",
       " 'vex',\n",
       " 'indistinct',\n",
       " 'caresses',\n",
       " 'nominal',\n",
       " 'mildness',\n",
       " 'impose',\n",
       " 'esteeming',\n",
       " 'disadvantages',\n",
       " 'misfortunes',\n",
       " 'Sorrow',\n",
       " 'consciousness.',\n",
       " 'mournful',\n",
       " 'bride-people',\n",
       " 'self-denying',\n",
       " 'debt',\n",
       " 'tenderer',\n",
       " 'valetudinarian',\n",
       " 'amounting',\n",
       " 'equals',\n",
       " 'lieu',\n",
       " 'awoke',\n",
       " 'Matrimony',\n",
       " 'chatted',\n",
       " 'large.',\n",
       " 'housemaid',\n",
       " 'pretty-spoken',\n",
       " 'curtseys',\n",
       " 'needlework',\n",
       " 'lock',\n",
       " 'bangs',\n",
       " 'backgammon',\n",
       " 'backgammon-table',\n",
       " 'eight-and-thirty',\n",
       " 'Dirty',\n",
       " 'speck',\n",
       " 'rained',\n",
       " 'Especially',\n",
       " 'gainer',\n",
       " 'punctual',\n",
       " 'widower',\n",
       " 'deathbed',\n",
       " 'Broadway',\n",
       " 'drizzle',\n",
       " 'Farmer',\n",
       " 'Mitchell',\n",
       " 'Success',\n",
       " 'supposes',\n",
       " 'delicately',\n",
       " 'do-nothing',\n",
       " 'do-all',\n",
       " 'encouragements',\n",
       " 'grievously',\n",
       " 'fitted',\n",
       " 'fish',\n",
       " 'seven-and-twenty',\n",
       " 'homely',\n",
       " 'embodied',\n",
       " 'military',\n",
       " 'family-estate',\n",
       " 'dissuaded',\n",
       " 'pursue',\n",
       " 'luxuries',\n",
       " 'poorer',\n",
       " 'lingering',\n",
       " 'kindred',\n",
       " 'widower-father',\n",
       " 'competence',\n",
       " 'portionless',\n",
       " 'tyrannic',\n",
       " 'well-judging',\n",
       " 'choose',\n",
       " 'avowed',\n",
       " 'adoption',\n",
       " 'assume',\n",
       " 'capricious',\n",
       " 'boasts',\n",
       " 'dissentient',\n",
       " 'prized',\n",
       " 'congratulation',\n",
       " 'ennui',\n",
       " 'companionableness',\n",
       " 'feeble',\n",
       " 'hindrance',\n",
       " 'ceasing',\n",
       " 'teased',\n",
       " 'apothecary',\n",
       " 'bias',\n",
       " 'newly',\n",
       " 'dinner-parties',\n",
       " 'unfrequently',\n",
       " 'card-table',\n",
       " 'Real',\n",
       " 'exchanging',\n",
       " 'come-at-able',\n",
       " 'quadrille',\n",
       " 'untoward',\n",
       " 'predicament',\n",
       " 'frighten',\n",
       " 'cleverness',\n",
       " 'universal',\n",
       " 'quicksighted',\n",
       " 'gossip',\n",
       " 'School',\n",
       " 'seminary',\n",
       " 'combine',\n",
       " 'morality',\n",
       " 'systems',\n",
       " 'enormous',\n",
       " 'screwed',\n",
       " 'Boarding-school',\n",
       " 'accomplishments',\n",
       " 'prodigies',\n",
       " 'repute',\n",
       " 'chilblains',\n",
       " 'tea-visit',\n",
       " 'fancy-work',\n",
       " 'win',\n",
       " 'sixpences',\n",
       " 'remedy',\n",
       " 'prosings',\n",
       " 'requesting',\n",
       " 'mansion',\n",
       " 'scholar',\n",
       " 'plump',\n",
       " \"Smith's\",\n",
       " 'inconveniently',\n",
       " 'shy',\n",
       " 'artlessly',\n",
       " 'wasted',\n",
       " 'renting',\n",
       " 'creditably',\n",
       " 'unpolished',\n",
       " 'detach',\n",
       " 'in-betweens',\n",
       " 'supper-table',\n",
       " 'impulse',\n",
       " 'honours',\n",
       " 'minced',\n",
       " 'scalloped',\n",
       " 'oysters',\n",
       " 'cloth',\n",
       " 'constrain',\n",
       " 'nicer',\n",
       " 'boiling',\n",
       " 'tart',\n",
       " 'Ours',\n",
       " 'apple-tarts',\n",
       " 'preserves',\n",
       " 'custard',\n",
       " '_half_',\n",
       " 'glass',\n",
       " '_small_',\n",
       " 'half-glass',\n",
       " 'tumbler',\n",
       " 'personage',\n",
       " 'affability',\n",
       " 'Quick',\n",
       " 'privileges',\n",
       " 'docile',\n",
       " 'appreciating',\n",
       " 'Altogether',\n",
       " 'usefulness',\n",
       " 'talkativeness',\n",
       " '_two_',\n",
       " 'cows',\n",
       " 'Alderneys',\n",
       " 'narrative',\n",
       " 'forever',\n",
       " 'inspiriting',\n",
       " 'games',\n",
       " 'shepherd',\n",
       " 'flock',\n",
       " 'wool',\n",
       " '_wanted_',\n",
       " 'Prince',\n",
       " 'Richardson',\n",
       " 'sup',\n",
       " 'Agricultural',\n",
       " 'Reports',\n",
       " 'seats',\n",
       " 'Vicar',\n",
       " 'Wakefield',\n",
       " 'Children',\n",
       " 'yeomanry',\n",
       " 'creditable',\n",
       " '8th',\n",
       " 'birthday',\n",
       " '23rd',\n",
       " 'afloat',\n",
       " 'diligence',\n",
       " 'indoors',\n",
       " 'fluctuations',\n",
       " 'respectfully',\n",
       " 'unfeigned',\n",
       " 'survey',\n",
       " 'contrasted',\n",
       " 'noticed',\n",
       " 'uncouthness',\n",
       " 'unmodulated',\n",
       " '_gentleman_',\n",
       " 'loudness',\n",
       " 'coarseness',\n",
       " 'detestable',\n",
       " 'solemnly',\n",
       " 'gross',\n",
       " 'inattentive',\n",
       " 'engrosses',\n",
       " 'market',\n",
       " 'thriving',\n",
       " 'thrive',\n",
       " 'bluntness',\n",
       " 'commanding',\n",
       " 'copying',\n",
       " 'sufferable',\n",
       " 'ingratiating',\n",
       " 'efficacy',\n",
       " 'fastidious',\n",
       " 'riding',\n",
       " 'quarrels',\n",
       " 'fight',\n",
       " 'battle',\n",
       " 'drawing-up',\n",
       " 'neatly',\n",
       " 'alphabetically',\n",
       " 'fourteen',\n",
       " 'industry',\n",
       " 'stimulate',\n",
       " 'affirm',\n",
       " 'wished.',\n",
       " 'omitting',\n",
       " 'cleverest',\n",
       " 'cope',\n",
       " 'inherits',\n",
       " 'wantonness',\n",
       " '_that_.',\n",
       " 'possibilities',\n",
       " 'foretelling',\n",
       " 'undesigned',\n",
       " 'hourly',\n",
       " 'doctrines',\n",
       " 'tend',\n",
       " 'polish',\n",
       " 'grown-up',\n",
       " 'personally',\n",
       " 'errs',\n",
       " 'spleen',\n",
       " 'unkind',\n",
       " 'hinting',\n",
       " 'accountable',\n",
       " 'approves',\n",
       " 'province',\n",
       " 'outcry',\n",
       " 'gently',\n",
       " 'attractions',\n",
       " 'artlessness',\n",
       " 'superadded',\n",
       " 'Skilful',\n",
       " 'Great',\n",
       " 'seconded',\n",
       " 'landscapes',\n",
       " 'flowers',\n",
       " 'figure-pieces',\n",
       " 'Keep',\n",
       " 'peculiarity',\n",
       " 'portfolio',\n",
       " 'portraits',\n",
       " 'beginnings',\n",
       " 'Miniatures',\n",
       " 'half-lengths',\n",
       " 'whole-lengths',\n",
       " 'crayon',\n",
       " 'reputation',\n",
       " 'ecstasies',\n",
       " 'performances',\n",
       " 'stealth',\n",
       " 'sheet',\n",
       " 'coarser',\n",
       " 'featured',\n",
       " 'fourth',\n",
       " 'cockade',\n",
       " 'nestled',\n",
       " 'unclosing',\n",
       " 'pet',\n",
       " 'vowed',\n",
       " 'apologised',\n",
       " 'forswear',\n",
       " '_present_',\n",
       " 'portrait',\n",
       " 'fidgeting',\n",
       " 'stationing',\n",
       " 'irksomeness',\n",
       " 'intermission',\n",
       " 'charmed.',\n",
       " 'encourager',\n",
       " 'filling',\n",
       " 'memorial',\n",
       " 'associations',\n",
       " 'permission',\n",
       " 'courtesies',\n",
       " 'defended',\n",
       " 'criticism',\n",
       " 'eyelashes',\n",
       " 'proportions',\n",
       " 'Proportions',\n",
       " 'fore-shortening.',\n",
       " 'doer',\n",
       " 'commissions',\n",
       " 'stirring',\n",
       " 'fogs',\n",
       " 'executing',\n",
       " 'pack',\n",
       " 'incommoding',\n",
       " 'mostly',\n",
       " 'deposit',\n",
       " 'languish',\n",
       " 'services',\n",
       " 'songs',\n",
       " 'copy',\n",
       " 'half-ashamed',\n",
       " 'grammatical',\n",
       " 'composition',\n",
       " 'diffuse',\n",
       " 'pen',\n",
       " 'Vigorous',\n",
       " 'unequivocal',\n",
       " 'demurs',\n",
       " 'inflicting',\n",
       " 'unbidden',\n",
       " 'Ought',\n",
       " 'misunderstanding',\n",
       " '_purport_',\n",
       " 'wording',\n",
       " 'contemplating',\n",
       " '_doubts_',\n",
       " 'perhaps.',\n",
       " 'favourable.',\n",
       " 'thoughtfully',\n",
       " 'mechanically',\n",
       " 'twisted',\n",
       " 'aghast',\n",
       " 'offending',\n",
       " 'formation',\n",
       " 'brace',\n",
       " 'sealed',\n",
       " 'Nor',\n",
       " 'teacher',\n",
       " 'tittle-tattle',\n",
       " 'Hitherto',\n",
       " 'tender-hearted',\n",
       " 'softly',\n",
       " 'mounts',\n",
       " 'opens',\n",
       " 'introduces',\n",
       " 'diffuses',\n",
       " 'prepossession',\n",
       " 'slept',\n",
       " 'bed-room',\n",
       " 'invalids',\n",
       " 'substitute',\n",
       " 'walker',\n",
       " 'tedious',\n",
       " 'greatcoat',\n",
       " 'school-girl',\n",
       " 'giggle',\n",
       " 'Almost',\n",
       " 'gossips',\n",
       " 'Tiresome',\n",
       " 'wretches',\n",
       " 'confidant',\n",
       " 'adviser',\n",
       " 'desperately',\n",
       " 'red',\n",
       " 'incomprehensible',\n",
       " 'imagines',\n",
       " 'asperity',\n",
       " 'infatuation',\n",
       " 'blinds',\n",
       " 'tempered',\n",
       " 'deserts',\n",
       " 'helpmate',\n",
       " 'aright',\n",
       " 'cry-out',\n",
       " 'statement',\n",
       " 'estimated',\n",
       " 'richest',\n",
       " 'society.',\n",
       " 'sphere',\n",
       " 'gentleman-farmer',\n",
       " 'legal',\n",
       " 'grudged',\n",
       " 'comfort.',\n",
       " 'deny.',\n",
       " 'distaste',\n",
       " 'ambition',\n",
       " 'disinclined',\n",
       " 'haphazard',\n",
       " 'assertion',\n",
       " 'represent',\n",
       " 'slightingly',\n",
       " 'Waiving',\n",
       " 'possesses',\n",
       " 'ninety-nine',\n",
       " 'misapply',\n",
       " 'bewitches',\n",
       " 'pick',\n",
       " 'puff',\n",
       " 'produces',\n",
       " 'connecting',\n",
       " 'writing-master',\n",
       " 'canvassing',\n",
       " '_letting_',\n",
       " 'abide',\n",
       " 'assistant',\n",
       " 'errant',\n",
       " 'habitual',\n",
       " 'projects',\n",
       " 'disclaimed',\n",
       " 'unreserved',\n",
       " 'apiece',\n",
       " 'doings',\n",
       " 'promoting',\n",
       " 'indistinctness',\n",
       " 'adversary',\n",
       " 'adequate',\n",
       " 'restoratives',\n",
       " 'resentfully',\n",
       " 'war',\n",
       " 'overcoming',\n",
       " 'originally',\n",
       " 'Clayton',\n",
       " 'Park',\n",
       " 'whist-club',\n",
       " 'remonstrated',\n",
       " '_particular_',\n",
       " 'enviable',\n",
       " 'bearer',\n",
       " 'endeared',\n",
       " 'Picture',\n",
       " 'improving',\n",
       " 'chapters',\n",
       " 'labouring',\n",
       " 'enlarge',\n",
       " 'facts',\n",
       " 'literary',\n",
       " 'transcribing',\n",
       " 'quarto',\n",
       " 'hot-pressed',\n",
       " 'ornamented',\n",
       " 'ciphers',\n",
       " 'trophies',\n",
       " 'literature',\n",
       " 'collections',\n",
       " 'head-teacher',\n",
       " 'invention',\n",
       " 'requisition',\n",
       " 'contribute',\n",
       " 'enigmas',\n",
       " 'conundrums',\n",
       " 'ungallant',\n",
       " 'politest',\n",
       " 'puzzles',\n",
       " 'recited',\n",
       " 'doth',\n",
       " 'destin',\n",
       " 'antidote',\n",
       " 'soften',\n",
       " 'heal.',\n",
       " 'inspire',\n",
       " 'inspiration',\n",
       " 'tremor',\n",
       " 'loth',\n",
       " 'CHARADE',\n",
       " 'puzzling',\n",
       " '_Courtship_',\n",
       " 'Approve',\n",
       " 'Soft',\n",
       " 'epithets',\n",
       " 'justest',\n",
       " 'Neptune',\n",
       " 'trident',\n",
       " 'Mermaids',\n",
       " 'sharks',\n",
       " '_court_',\n",
       " '_ship_',\n",
       " 'cream',\n",
       " '_courtship_',\n",
       " 'follows',\n",
       " 'completest',\n",
       " 'eligibility',\n",
       " 'confirm',\n",
       " 'embraces',\n",
       " 'articulate',\n",
       " 'Receive',\n",
       " 'prologue',\n",
       " 'motto',\n",
       " 'chapter',\n",
       " 'matter-of-fact',\n",
       " 'strangest',\n",
       " 'Smiths',\n",
       " 'courts',\n",
       " 'pre-arrangement',\n",
       " 'respective',\n",
       " 'channel',\n",
       " 'edition',\n",
       " 'Shakespeare',\n",
       " 'Michaelmas',\n",
       " 'Church',\n",
       " 'texts',\n",
       " 'preached',\n",
       " 'Abbots',\n",
       " 'peeped',\n",
       " 'arm-in-arm',\n",
       " '_happily_',\n",
       " 'comparisons',\n",
       " 'rejection',\n",
       " 'committed.',\n",
       " 'beaming',\n",
       " 'Trust',\n",
       " 'Granted',\n",
       " 'couplet',\n",
       " '_appropriation_',\n",
       " 'capacities',\n",
       " 'publicity',\n",
       " 'charade.',\n",
       " 'affix',\n",
       " 'affixed',\n",
       " 'souls',\n",
       " 'nodded',\n",
       " 'smiled.',\n",
       " 'stanza',\n",
       " 'Kindled',\n",
       " 'flame',\n",
       " 'hood-wink',\n",
       " 'fatal',\n",
       " 'Garrick',\n",
       " 'christened',\n",
       " 'Catherine',\n",
       " 'days.',\n",
       " 'Unwelcome',\n",
       " 'Grandpapa',\n",
       " 'knife',\n",
       " 'knives',\n",
       " 'grandpapas',\n",
       " 'papas',\n",
       " 'hardy',\n",
       " 'misbehave',\n",
       " 'tosses',\n",
       " 'ceiling',\n",
       " 'whichever',\n",
       " 'Later',\n",
       " 'push',\n",
       " 'conditionally',\n",
       " 'rubber',\n",
       " 're-urged',\n",
       " 're-declined',\n",
       " 'smilingly',\n",
       " 'replacing',\n",
       " 'proudest',\n",
       " 'sublime',\n",
       " 'detached',\n",
       " 'angles',\n",
       " 'abode',\n",
       " 'dwellings',\n",
       " 'smartened',\n",
       " 'slackened',\n",
       " 'eyes.',\n",
       " 'riddle-book',\n",
       " 'curtains',\n",
       " 'admires',\n",
       " '_now_',\n",
       " 'intimately',\n",
       " 'pools',\n",
       " 'pollards',\n",
       " 'exteriors',\n",
       " 'inducements',\n",
       " 'Fortune',\n",
       " 'image',\n",
       " 'prosing',\n",
       " 'undistinguishing',\n",
       " 'unfastidious',\n",
       " 'unmarried',\n",
       " 'celibacy',\n",
       " 'contract',\n",
       " 'sour',\n",
       " 'perforce',\n",
       " 'illiberal',\n",
       " 'Poverty',\n",
       " 'contracted',\n",
       " 'sixpence',\n",
       " 'occupations',\n",
       " 'carpet-work',\n",
       " 'blinder',\n",
       " 'stomacher',\n",
       " 'knit',\n",
       " 'garters',\n",
       " 'tires',\n",
       " 'distresses',\n",
       " 'temptations',\n",
       " 'romantic',\n",
       " 'vanish',\n",
       " 'tottering',\n",
       " 'slippery',\n",
       " 'sufferers',\n",
       " 'empty',\n",
       " 'Anxious',\n",
       " 'imitation',\n",
       " 'lacing',\n",
       " 'half-boot',\n",
       " 'orders',\n",
       " 'pitcher',\n",
       " 'broth',\n",
       " 'ahead',\n",
       " 'theirs',\n",
       " 'experienced',\n",
       " 'Stilton',\n",
       " 'cheese',\n",
       " 'north',\n",
       " 'Wiltshire',\n",
       " 'cellery',\n",
       " 'beet-root',\n",
       " 'pales',\n",
       " 'broke',\n",
       " 'dexterously',\n",
       " 'throwing',\n",
       " 'ditch',\n",
       " 'inability',\n",
       " 'ill-equipped',\n",
       " 'ribband',\n",
       " 'conducting',\n",
       " 'aspect',\n",
       " 'schemed',\n",
       " 'gallantries',\n",
       " 'allusions',\n",
       " 'Cautious',\n",
       " 'advances',\n",
       " 'believes',\n",
       " 'superintend',\n",
       " 'quicken',\n",
       " 'henceforth',\n",
       " 'prime',\n",
       " 'fortuitous',\n",
       " 'vacation',\n",
       " 'holidays',\n",
       " 'nervously',\n",
       " 'apprehensively',\n",
       " 'forestalling',\n",
       " 'nursery-maids',\n",
       " 'maternal',\n",
       " 'tenderly',\n",
       " 'ties',\n",
       " 'over-careful',\n",
       " 'worshipping',\n",
       " 'defects',\n",
       " 'sister-in-law',\n",
       " 'injuries',\n",
       " 'peculiarities',\n",
       " 'fidgetiness',\n",
       " 'retort',\n",
       " 'ill-bestowed',\n",
       " 'father-in-law',\n",
       " 'properest',\n",
       " 'unsullied',\n",
       " 'grievous',\n",
       " 'hesitated.',\n",
       " 'papa.',\n",
       " 'best-tempered',\n",
       " 'existed',\n",
       " 'flying',\n",
       " 'kite',\n",
       " 'scarlet',\n",
       " 'Cobham',\n",
       " 'existence.',\n",
       " 'Three-and-twenty',\n",
       " 'exceeding',\n",
       " 'dated',\n",
       " 'Sept.',\n",
       " 'Madam',\n",
       " 'good-hearted',\n",
       " 'cheerful-tempered',\n",
       " 'finds',\n",
       " 'depending',\n",
       " 'affords',\n",
       " 'all-sufficiency',\n",
       " 'resulted',\n",
       " \"brother's\",\n",
       " 'important.',\n",
       " 'Making-up',\n",
       " 'Concession',\n",
       " 'restoration',\n",
       " 'unceremoniousness',\n",
       " 'amity',\n",
       " 'sauciness',\n",
       " 'whim',\n",
       " 'discordancies',\n",
       " 'lapse',\n",
       " 'understandings',\n",
       " '_nearer_',\n",
       " 'grievances',\n",
       " '_both_',\n",
       " 'sorry.',\n",
       " 'burying',\n",
       " 'mixing',\n",
       " 'magistrate',\n",
       " 'anecdote',\n",
       " 'home-farm',\n",
       " 'attachments',\n",
       " 'drain',\n",
       " 'fence',\n",
       " 'felling',\n",
       " 'acre',\n",
       " 'wheat',\n",
       " 'turnips',\n",
       " 'corn',\n",
       " 'interrupting',\n",
       " 'labours',\n",
       " 'basins',\n",
       " 'strenuously',\n",
       " 'unsafe',\n",
       " 'prohibited',\n",
       " 'forgets',\n",
       " 'attributed',\n",
       " 'prevalent',\n",
       " 'influenza',\n",
       " 'confound',\n",
       " 'vicinity',\n",
       " 'head-aches',\n",
       " 'palpitations',\n",
       " 'Middling',\n",
       " 'doctoring',\n",
       " 'coddling',\n",
       " 'Graham',\n",
       " 'bailiff',\n",
       " 'Scotland',\n",
       " 'praising',\n",
       " 'discussed',\n",
       " 'comments',\n",
       " 'undoubting',\n",
       " 'wholesomeness',\n",
       " 'Philippics',\n",
       " 'failures',\n",
       " 'cook',\n",
       " 'hired',\n",
       " 'Often',\n",
       " 'fixing',\n",
       " 'concern.',\n",
       " 'ejaculation',\n",
       " 'rumination',\n",
       " 'suffice',\n",
       " 'relish',\n",
       " 'sir.',\n",
       " 'mud',\n",
       " 'anywhere.',\n",
       " 'pure',\n",
       " 'lodgings',\n",
       " 'hundred.',\n",
       " 'coast',\n",
       " 'Perry.',\n",
       " 'drugs',\n",
       " 'sarcastic',\n",
       " 'dryness',\n",
       " 'interposition',\n",
       " 'Langham',\n",
       " 'maps',\n",
       " 'harsh',\n",
       " 'attributing',\n",
       " 'swiftly',\n",
       " 'mornings',\n",
       " 'amounted',\n",
       " 'especial',\n",
       " '24th',\n",
       " 'doom',\n",
       " 'feverish',\n",
       " 'unavoidable',\n",
       " 'absences',\n",
       " 'comfortless',\n",
       " 'rice',\n",
       " 'pudding',\n",
       " 'hastening',\n",
       " 'inflamed',\n",
       " 'sore-throats',\n",
       " 'sore-throat',\n",
       " 'putrid',\n",
       " 'risks',\n",
       " 'excess',\n",
       " 'feed',\n",
       " 'demand',\n",
       " 'to-night',\n",
       " 'conceptions',\n",
       " 'impartially',\n",
       " 'vision',\n",
       " 'rejoicing',\n",
       " 'extricated',\n",
       " 'employments',\n",
       " 'dignities',\n",
       " 'balance',\n",
       " 'works',\n",
       " 'good-temper',\n",
       " 'slyness',\n",
       " 'regulate',\n",
       " 'mistakes',\n",
       " 'shrinking',\n",
       " 'sky',\n",
       " 'milder',\n",
       " 'disagreeables',\n",
       " 'discontent',\n",
       " 'thinner',\n",
       " 'clothing',\n",
       " 'dismal',\n",
       " 'shivering',\n",
       " 'colder',\n",
       " 'emulate',\n",
       " 'administered',\n",
       " 'quarrelsome',\n",
       " 'wrapped',\n",
       " 'spruce',\n",
       " 'dressing',\n",
       " 'lengthened',\n",
       " 'estimable',\n",
       " 'dismay',\n",
       " 'sheepskin',\n",
       " 'precautions',\n",
       " 'contrivances',\n",
       " 'fenced',\n",
       " 'unpermitted',\n",
       " 'Weather',\n",
       " 'matter.',\n",
       " 'snows',\n",
       " 'seasonable',\n",
       " 'invites',\n",
       " \"se'nnight\",\n",
       " 'values',\n",
       " 'hospitable',\n",
       " 'select',\n",
       " 'slavery',\n",
       " 'disperse',\n",
       " 'uninterrupted',\n",
       " 'gratifications',\n",
       " 'oddities',\n",
       " 'enjoyable',\n",
       " 'elbow',\n",
       " 'obtruding',\n",
       " 'solicitously',\n",
       " 'internal',\n",
       " 'Absurd',\n",
       " 'would-be',\n",
       " 'overpowering',\n",
       " 'half-syllables',\n",
       " 'reviving',\n",
       " '_were_',\n",
       " 'coupled',\n",
       " 'ill-timed',\n",
       " 'released',\n",
       " 'saddle',\n",
       " 'assented',\n",
       " 'put-off',\n",
       " 'secrets',\n",
       " 'vagaries',\n",
       " 'caprices',\n",
       " 'devil',\n",
       " 'alarming.',\n",
       " 'undergoing',\n",
       " 'stands',\n",
       " 'odd-tempered',\n",
       " 'instinctive',\n",
       " 'Braithwaites',\n",
       " \"man's\",\n",
       " '_woman_',\n",
       " 'teazed',\n",
       " '_man_',\n",
       " 'decides',\n",
       " 'exercises',\n",
       " '_when_',\n",
       " 'lateness',\n",
       " 'convivial',\n",
       " 'separations',\n",
       " 'augmentation',\n",
       " 'improprieties',\n",
       " 'sick-chamber',\n",
       " '_promise_',\n",
       " 'implore',\n",
       " 'persuasions',\n",
       " 'ulcerated',\n",
       " 'Judge',\n",
       " 'drifting',\n",
       " 'unfeelingly',\n",
       " 'blown',\n",
       " 'bleak',\n",
       " 'midnight',\n",
       " 'contrivance',\n",
       " 'blocked',\n",
       " 'adventurous',\n",
       " 'accumulations',\n",
       " 'drifted',\n",
       " 'Walk',\n",
       " 'shod',\n",
       " 'discussing',\n",
       " 'whiten',\n",
       " 'coachmen',\n",
       " 'ring',\n",
       " 'rung',\n",
       " 'deposited',\n",
       " 'lawfully',\n",
       " 'demanded',\n",
       " 'availing',\n",
       " 'declaring',\n",
       " 'fearing',\n",
       " 'adoring',\n",
       " 'unequalled',\n",
       " 'unexampled',\n",
       " 'professing',\n",
       " 'vainly',\n",
       " 'Angry',\n",
       " 'drunkenness',\n",
       " 'Accordingly',\n",
       " 'deliver',\n",
       " 'boastful',\n",
       " 'Command',\n",
       " 'drunk',\n",
       " 'confuse',\n",
       " 'inebriety',\n",
       " 'struggles',\n",
       " 'Believe',\n",
       " 'insinuating',\n",
       " 'uppermost',\n",
       " 'joyously',\n",
       " 'interpret',\n",
       " 'respectably',\n",
       " 'ends',\n",
       " 'misconception',\n",
       " 'supplication',\n",
       " 'foot-pace',\n",
       " 'zigzags',\n",
       " 'passed.',\n",
       " 'coldly',\n",
       " 'proudly',\n",
       " 'separating',\n",
       " 'curled',\n",
       " 'miserable.',\n",
       " 'overthrow',\n",
       " 'mis-judgment',\n",
       " 'doubled',\n",
       " 'unmarked',\n",
       " 'dubious',\n",
       " 'jumble',\n",
       " 'thick-headed',\n",
       " 'indiscreetly',\n",
       " 'Contrary',\n",
       " 'insulted',\n",
       " 'pretended',\n",
       " 'Sighs',\n",
       " 'devise',\n",
       " 'allied',\n",
       " 'aggrandise',\n",
       " 'heiress',\n",
       " 'gradations',\n",
       " 'ancient',\n",
       " 'landed',\n",
       " 'notch',\n",
       " 'alliances',\n",
       " 'civility.',\n",
       " 'raving',\n",
       " 'incongruity',\n",
       " 'honesty',\n",
       " 'complaisant',\n",
       " 'self-interest',\n",
       " 'adventuring',\n",
       " 'relapse',\n",
       " 'dispiriting',\n",
       " 'cogitation',\n",
       " 'discontinuing',\n",
       " 'eclat',\n",
       " 'unmirthful',\n",
       " 'blundered',\n",
       " 'analogy',\n",
       " 'unclosed',\n",
       " 'retentive',\n",
       " 'further',\n",
       " 'atmosphere',\n",
       " 'unsettled',\n",
       " 'frost',\n",
       " 'thaw',\n",
       " 'unfriendly',\n",
       " 'freeze',\n",
       " 'prisoner',\n",
       " 'confine',\n",
       " 'amiableness',\n",
       " 'lamentations',\n",
       " 'feminine',\n",
       " 'retain',\n",
       " 'commands',\n",
       " 'surprized.',\n",
       " 'Resentment',\n",
       " 'compliments.',\n",
       " 'solemnity',\n",
       " 'acknowledgments',\n",
       " 'however.',\n",
       " 'lonely',\n",
       " ...]"
      ]
     },
     "execution_count": 37,
     "metadata": {},
     "output_type": "execute_result"
    }
   ],
   "source": [
    "#빈도가 제일 적은순으로 오름차순 한거다. 잘 안쓰이는 표현들이 상위를 차지한다. \n",
    "sorted(emmaObj.vocab(), key=emmaObj.vocab().get)"
   ]
  },
  {
   "cell_type": "code",
   "execution_count": 38,
   "id": "afaa2cd6-2ccf-48a3-9bc4-ae5c8b033888",
   "metadata": {},
   "outputs": [
    {
     "data": {
      "text/plain": [
       "[',', '.', 'to', 'the', 'and', 'of', 'I', '--', 'a', \"''\"]"
      ]
     },
     "execution_count": 38,
     "metadata": {},
     "output_type": "execute_result"
    }
   ],
   "source": [
    "sorted(emmaObj.vocab(), key=emmaObj.vocab().get, reverse=True)[:10]"
   ]
  },
  {
   "cell_type": "code",
   "execution_count": 40,
   "id": "9edfd49b-9052-4c1f-bfc0-f5d001332d58",
   "metadata": {},
   "outputs": [
    {
     "data": {
      "text/plain": [
       "0.5160153296660321"
      ]
     },
     "execution_count": 40,
     "metadata": {},
     "output_type": "execute_result"
    }
   ],
   "source": [
    "sumof = 0.0\n",
    "for t in sorted(emmaObj.vocab(), key=emmaObj.vocab().get,\n",
    "                reverse=True)[:50]:\n",
    "    sumof += emmaObj.vocab().freq(t)\n",
    "sumof"
   ]
  },
  {
   "cell_type": "code",
   "execution_count": 41,
   "id": "fe3365ba-a631-49f4-ade1-28032d628bda",
   "metadata": {},
   "outputs": [
    {
     "data": {
      "text/plain": [
       "8406"
      ]
     },
     "execution_count": 41,
     "metadata": {},
     "output_type": "execute_result"
    }
   ],
   "source": [
    "emmaObj.vocab().B()"
   ]
  },
  {
   "cell_type": "code",
   "execution_count": 42,
   "id": "e5e6d622-f632-4b10-9191-d6c0e1f24ea8",
   "metadata": {},
   "outputs": [],
   "source": [
    "#이런애들을 빼고, 변별력을 살리기 위해서. "
   ]
  },
  {
   "cell_type": "code",
   "execution_count": 44,
   "id": "c85b7dab-8207-4ff1-8165-8f185ac5570b",
   "metadata": {},
   "outputs": [
    {
     "data": {
      "text/plain": [
       "0.01042834423964354"
      ]
     },
     "execution_count": 44,
     "metadata": {},
     "output_type": "execute_result"
    }
   ],
   "source": [
    "sumof = 0.0\n",
    "for t in sorted(emmaObj.vocab(), key=emmaObj.vocab().get)[:2000]:\n",
    "    sumof += emmaObj.vocab().freq(t)\n",
    "sumof\n",
    "#2000개 정도는 1프로를 차지한다... 결국 1/4 정도는 잘 안쓰이는 단어들이다."
   ]
  },
  {
   "cell_type": "code",
   "execution_count": null,
   "id": "66bbf1e3-8654-4850-9403-d635e9de00c9",
   "metadata": {},
   "outputs": [],
   "source": [
    "# 결국 6450 개 정도가 실제로 의미를 가지는 단어들인거다. 이게 Zipf's Law 를 통해서.. "
   ]
  },
  {
   "cell_type": "code",
   "execution_count": 49,
   "id": "f2d7baf3-253e-4301-81c5-cae19263c2c5",
   "metadata": {},
   "outputs": [
    {
     "name": "stderr",
     "output_type": "stream",
     "text": [
      "[nltk_data] Downloading package stopwords to\n",
      "[nltk_data]     C:\\Users\\user\\AppData\\Roaming\\nltk_data...\n",
      "[nltk_data]   Unzipping corpora\\stopwords.zip.\n"
     ]
    },
    {
     "data": {
      "text/plain": [
       "True"
      ]
     },
     "execution_count": 49,
     "metadata": {},
     "output_type": "execute_result"
    }
   ],
   "source": [
    "import nltk\n",
    "nltk.download('stopwords')"
   ]
  },
  {
   "cell_type": "code",
   "execution_count": 50,
   "id": "d39167fa-26c0-48df-b90f-812da686bfe5",
   "metadata": {},
   "outputs": [
    {
     "name": "stdout",
     "output_type": "stream",
     "text": [
      "Mr. Knightley; Mrs. Weston; Frank Churchill; Mr. Elton; Miss\n",
      "Woodhouse; Miss Bates; Mrs. Elton; Miss Fairfax; Mr. Weston; Jane\n",
      "Fairfax; every thing; Mr. Woodhouse; every body; young man; great\n",
      "deal; dare say; Maple Grove; Mrs. Goddard; John Knightley; Miss Smith\n"
     ]
    }
   ],
   "source": [
    "emmaObj.collocations()"
   ]
  },
  {
   "cell_type": "code",
   "execution_count": 52,
   "id": "10a17749-b151-4022-bb8f-fc08785792f7",
   "metadata": {},
   "outputs": [
    {
     "name": "stdout",
     "output_type": "stream",
     "text": [
      "Displaying 25 of 855 matches:\n",
      "[ Emma by Jane Austen 1816 ] VOLUME I CHAPT\n",
      "ane Austen 1816 ] VOLUME I CHAPTER I Emma Woodhouse , handsome , clever , and \n",
      "both daughters , but particularly of Emma . Between _them_ it was more the int\n",
      " friend very mutually attached , and Emma doing just what she liked ; highly e\n",
      "r own . The real evils , indeed , of Emma 's situation were the power of havin\n",
      "ding-day of this beloved friend that Emma first sat in mournful thought of any\n",
      "ing only half a mile from them ; but Emma was aware that great must be the dif\n",
      "y . It was a melancholy change ; and Emma could not but sigh over it , and wis\n",
      " the rest of her life at Hartfield . Emma smiled and chatted as cheerfully as \n",
      "able to tell her how we all are . '' Emma spared no exertions to maintain this\n",
      " ' I have a great regard for you and Emma ; but when it comes to the question \n",
      "ful , troublesome creature ! '' said Emma playfully . `` That is what you have\n",
      "e few people who could see faults in Emma Woodhouse , and the only one who eve\n",
      "is was not particularly agreeable to Emma herself , she knew it would be so mu\n",
      "g thought perfect by every body . `` Emma knows I never flatter her , '' said \n",
      "t be a gainer . '' `` Well , '' said Emma , willing to let it pass -- '' you w\n",
      "re of meeting every day . '' `` Dear Emma bears every thing so well , '' said \n",
      "ss her more than she thinks for . '' Emma turned away her head , divided betwe\n",
      "nd smiles . `` It is impossible that Emma should not miss such a companion , '\n",
      "en one matter of joy to me , '' said Emma , '' and a very considerable one -- \n",
      "od to them , by interference . '' `` Emma never thinks of herself , if she can\n",
      "etter thing . Invite him to dinner , Emma , and help him to the best of the fi\n",
      " could not think , without pain , of Emma 's losing a single pleasure , or suf\n",
      " of her companionableness : but dear Emma was of no feeble character ; she was\n",
      ", was so just and so apparent , that Emma , well as she knew her father , was \n"
     ]
    }
   ],
   "source": [
    "emmaObj.concordance('Emma')\n",
    "#용례 : Emma 라는 단어가 어떻게 활용됐는지 파악하는거다. "
   ]
  },
  {
   "cell_type": "code",
   "execution_count": 53,
   "id": "986b4760-e6ae-4998-955d-77cd9f7377fa",
   "metadata": {},
   "outputs": [
    {
     "data": {
      "image/png": "[encoded data removed]",
      "text/plain": [
       "<Figure size 640x480 with 1 Axes>"
      ]
     },
     "metadata": {},
     "output_type": "display_data"
    }
   ],
   "source": [
    "emmaObj.dispersion_plot(['Emma', 'Elton','Weston'])"
   ]
  },
  {
   "cell_type": "code",
   "execution_count": 54,
   "id": "fbcc51ce-d40e-4d2e-bd21-60b608db06ab",
   "metadata": {},
   "outputs": [
    {
     "name": "stdout",
     "output_type": "stream",
     "text": [
      "she it he i weston you her harriet elton him me knightley jane that\n",
      "and the all there they them\n"
     ]
    }
   ],
   "source": [
    "emmaObj.similar('Emma')\n",
    "#엠마라는 단어 대신 쓰인 표현을 찾아준다. "
   ]
  },
  {
   "cell_type": "code",
   "execution_count": 55,
   "id": "9ee4936e-cbcf-4b30-9bbb-dab76bfde0ba",
   "metadata": {},
   "outputs": [
    {
     "name": "stdout",
     "output_type": "stream",
     "text": [
      "it emma she he i her you harriet elton that him knightley and them\n",
      "herself there me all what highbury\n"
     ]
    }
   ],
   "source": [
    "emmaObj.similar('Weston')"
   ]
  },
  {
   "cell_type": "code",
   "execution_count": 56,
   "id": "c9051b81-89c2-4682-abc2-427976eff7ce",
   "metadata": {},
   "outputs": [
    {
     "name": "stdout",
     "output_type": "stream",
     "text": [
      "it he her she emma weston you knightley harriet him i the all there\n",
      "and highbury me his them what\n"
     ]
    }
   ],
   "source": [
    "emmaObj.similar('Elton')"
   ]
  },
  {
   "cell_type": "code",
   "execution_count": 57,
   "id": "ff7849ca-302e-4bd1-99c9-98c4cfd67f4a",
   "metadata": {},
   "outputs": [],
   "source": [
    "#좀 이상한데..?"
   ]
  },
  {
   "cell_type": "code",
   "execution_count": 58,
   "id": "09bfedf0-7945-481a-a2ed-2f19e9d00dde",
   "metadata": {},
   "outputs": [],
   "source": [
    "from nltk.stem import PorterStemmer \n",
    "#어간 추출 #규칙적으로 잘라준다"
   ]
  },
  {
   "cell_type": "code",
   "execution_count": 61,
   "id": "3cc27c8a-ee5e-4678-9e7b-b2143b2f92b0",
   "metadata": {},
   "outputs": [
    {
     "data": {
      "text/plain": [
       "('wa', 'wai')"
      ]
     },
     "execution_count": 61,
     "metadata": {},
     "output_type": "execute_result"
    }
   ],
   "source": [
    "ps = PorterStemmer()\n",
    "ps.stem('was'),\\\n",
    "ps.stem('waied')\n",
    "#Zipf's Law 에 따라서 너무 고빈도, 저빈도는 자르는데, 그 단어들에 포함되지 않도록, 필요없는부분을 잘라내주는 역할로 쓰는거라고 한다..?"
   ]
  },
  {
   "cell_type": "code",
   "execution_count": 64,
   "id": "653aed30-fbd2-4f72-b835-b39c6fa8c38d",
   "metadata": {},
   "outputs": [],
   "source": [
    "from nltk.collocations import *"
   ]
  },
  {
   "cell_type": "code",
   "execution_count": 67,
   "id": "f05532f1-a4ea-4868-8fa9-b7321b90b002",
   "metadata": {},
   "outputs": [],
   "source": [
    "bigram = BigramCollocationFinder.from_words(word_tokenize(emma))"
   ]
  },
  {
   "cell_type": "code",
   "execution_count": 69,
   "id": "f4e83650-4000-42fd-908d-0ae0ee9ec48e",
   "metadata": {},
   "outputs": [],
   "source": [
    "from nltk import BigramCollocationFinder\n",
    "from nltk.collocations import BigramAssocMeasures"
   ]
  },
  {
   "cell_type": "code",
   "execution_count": 70,
   "id": "e705e00e-2189-415d-af5d-9d3f10ac2e7b",
   "metadata": {},
   "outputs": [
    {
     "data": {
      "text/plain": [
       "[('26th', 'ult.'),\n",
       " ('Abominable', 'scoundrel'),\n",
       " ('Agricultural', 'Reports'),\n",
       " ('Austen', '1816'),\n",
       " ('Baronne', \"d'Almane\"),\n",
       " ('Candles', 'everywhere.'),\n",
       " ('Clayton', 'Park'),\n",
       " ('Comtesse', \"d'Ostalis\"),\n",
       " ('DEAR', 'MADAM'),\n",
       " ('Farmer', 'Mitchell')]"
      ]
     },
     "execution_count": 70,
     "metadata": {},
     "output_type": "execute_result"
    }
   ],
   "source": [
    "bigram.nbest(BigramAssocMeasures().pmi, 10)\n",
    "#이웃한거"
   ]
  },
  {
   "cell_type": "code",
   "execution_count": 71,
   "id": "7f14ac31-bbf2-4998-b97e-a361eea39807",
   "metadata": {},
   "outputs": [
    {
     "data": {
      "text/plain": [
       "[('&', 'c.'),\n",
       " ('10,000', 'l.'),\n",
       " ('26th', 'ult.'),\n",
       " ('Abominable', 'scoundrel'),\n",
       " ('Agricultural', 'Reports'),\n",
       " ('Austen', '1816'),\n",
       " ('Baronne', \"d'Almane\"),\n",
       " ('Candles', 'everywhere.'),\n",
       " ('Clayton', 'Park'),\n",
       " ('Comtesse', \"d'Ostalis\")]"
      ]
     },
     "execution_count": 71,
     "metadata": {},
     "output_type": "execute_result"
    }
   ],
   "source": [
    "bigram.nbest(BigramAssocMeasures().chi_sq, 10)"
   ]
  },
  {
   "cell_type": "code",
   "execution_count": null,
   "id": "3e56bc1c-1dec-4973-96d5-8a53bd2e2908",
   "metadata": {},
   "outputs": [],
   "source": [
    "#지금까지 zipf's 법칙을 봤다.\n",
    "단어의 빈도로 나열을 하면 = 순위의 역과 비례하더라. \n",
    "빈도 젤 큰애가 1이면,       순위도 1\n"
   ]
  },
  {
   "cell_type": "markdown",
   "id": "e1189ee5-c016-4df7-bdc0-cd608f1f4c0b",
   "metadata": {},
   "source": [
    "# Heaps' Law"
   ]
  },
  {
   "cell_type": "code",
   "execution_count": 72,
   "id": "08cdd908-0a14-44d8-8675-dd1f1235c84a",
   "metadata": {},
   "outputs": [],
   "source": [
    "t = list()\n",
    "\n",
    "for file in gutenberg.fileids()[:5]:\n",
    "    doc = gutenberg.open(file).read()\n",
    "    t.append(Text(word_tokenize(doc)))"
   ]
  },
  {
   "cell_type": "code",
   "execution_count": 76,
   "id": "e11b430a-d43f-4092-ad0a-678cb3ad054e",
   "metadata": {},
   "outputs": [],
   "source": [
    "#전체개수와 유니크한 값이 필요하다.\n",
    "from nltk.probability import FreqDist\n",
    "\n",
    "uniq = list()\n",
    "total = list()\n",
    "\n",
    "objs = FreqDist()\n",
    "\n",
    "for obj in t:\n",
    "    objs += obj.vocab()\n",
    "    uniq.append(objs.B())\n",
    "    total.append(objs.N())"
   ]
  },
  {
   "cell_type": "code",
   "execution_count": 85,
   "id": "ca354d50-b73e-469a-93c5-649e9249be50",
   "metadata": {},
   "outputs": [
    {
     "data": {
      "text/plain": [
       "[<matplotlib.lines.Line2D at 0x2a94e491510>]"
      ]
     },
     "execution_count": 85,
     "metadata": {},
     "output_type": "execute_result"
    },
    {
     "data": {
      "image/png": "[encoded data removed]",
      "text/plain": [
       "<Figure size 640x480 with 1 Axes>"
      ]
     },
     "metadata": {},
     "output_type": "display_data"
    }
   ],
   "source": [
    "#Heaps' Law 해보기\n",
    "k = 65 #10 ~ 100\n",
    "b = .42 #.4 ~.6 \n",
    "plt.plot(range(5), uniq)\n",
    "plt.plot(range(5), list(map(lambda n:k*n**b, total)))"
   ]
  },
  {
   "cell_type": "code",
   "execution_count": 86,
   "id": "89f04dbc-bdd5-45ee-91de-7985ea9868af",
   "metadata": {},
   "outputs": [
    {
     "data": {
      "text/plain": [
       "148906.39742990522"
      ]
     },
     "execution_count": 86,
     "metadata": {},
     "output_type": "execute_result"
    }
   ],
   "source": [
    "# k*n**b 이 부분을 변형해보기\n",
    "k*100000000**b"
   ]
  },
  {
   "cell_type": "code",
   "execution_count": 91,
   "id": "5225c3cf-6586-4d52-b54d-ae204afd4215",
   "metadata": {},
   "outputs": [
    {
     "data": {
      "text/plain": [
       "(1386130, 24687.153711153154)"
      ]
     },
     "execution_count": 91,
     "metadata": {},
     "output_type": "execute_result"
    }
   ],
   "source": [
    "objs.N(),\\\n",
    "k*objs.N()**b"
   ]
  },
  {
   "cell_type": "markdown",
   "id": "6efb0293-6d08-4ecf-bd59-7f8ca8105a21",
   "metadata": {},
   "source": [
    "##### Heaps\n",
    "문서 내 전체 단어의 빈도는 => 특정 법칙에 의해 유니크한 단어의 수와 비레한다.\n",
    "\n",
    "k = 65, b=.42\n",
    "\n",
    "=> 데이터셋(코퍼스;말뭉치)의 증가에 비례해서 / 유니한 단어의 수 (features)가 결정된다. \n",
    "\n",
    "=> feature selection / model size 가이드"
   ]
  },
  {
   "cell_type": "markdown",
   "id": "940fe2d3-d62d-4fd4-8680-52f4b5a725ca",
   "metadata": {},
   "source": [
    "# 한글로 해보기"
   ]
  },
  {
   "cell_type": "code",
   "execution_count": 92,
   "id": "57538bf7-c1f3-48c8-94e2-bd29091851f5",
   "metadata": {},
   "outputs": [],
   "source": [
    "from konlpy.corpus import kobill, kolaw\n",
    "from konlpy.tag import Hannanum, Komoran, Kkma, Okt"
   ]
  },
  {
   "cell_type": "code",
   "execution_count": 94,
   "id": "5b99bf3d-65aa-415d-a480-394a6299e7eb",
   "metadata": {},
   "outputs": [],
   "source": [
    "ma = {'hannanum':Hannanum(), 'komoran':Komoran(),\n",
    "     'kkma':Kkma(), 'okt':Okt()}"
   ]
  },
  {
   "cell_type": "code",
   "execution_count": 95,
   "id": "5fefbfb5-3aed-4001-a92b-bb619ac4b345",
   "metadata": {},
   "outputs": [
    {
     "name": "stdout",
     "output_type": "stream",
     "text": [
      "hannanum\n",
      "[('쟤', 'N'), ('완전', 'N'), ('킹받네', 'N'), ('.', 'S')]\n",
      "komoran\n",
      "[('쟤', 'NP'), ('완전', 'NNG'), ('킹', 'NNG'), ('받', 'VV'), ('네', 'EF'), ('.', 'SF')]\n",
      "kkma\n",
      "[('쟤', 'UN'), ('완전', 'NNG'), ('킹', 'NNG'), ('받', 'VV'), ('네', 'EFN'), ('.', 'SF')]\n",
      "okt\n",
      "[('쟤', 'Noun'), ('완전', 'Noun'), ('킹', 'Noun'), ('받네', 'Verb'), ('.', 'Punctuation')]\n"
     ]
    }
   ],
   "source": [
    "data = '쟤 완전 킹받네.'\n",
    "\n",
    "for k,v in ma.items():\n",
    "    print(k)\n",
    "    print(v.pos(data))"
   ]
  },
  {
   "cell_type": "code",
   "execution_count": 96,
   "id": "a3d5d3b8-0c14-47cb-b610-d640533cb84e",
   "metadata": {},
   "outputs": [
    {
     "data": {
      "text/plain": [
       "'체언'"
      ]
     },
     "execution_count": 96,
     "metadata": {},
     "output_type": "execute_result"
    }
   ],
   "source": [
    "ma['hannanum'].tagset['N']"
   ]
  },
  {
   "cell_type": "code",
   "execution_count": 99,
   "id": "74a39f19-07de-49da-8c7a-c30888fb8583",
   "metadata": {},
   "outputs": [
    {
     "name": "stdout",
     "output_type": "stream",
     "text": [
      "hannanum\n",
      "[('이정곤', 'N'), ('감독', 'N'), ('은', 'J'), ('유승호', 'N'), ('를', 'J'), ('포함', 'N'), ('하', 'X'), ('ㄴ', 'E'), ('배우들', 'N'), ('이', 'J'), ('거래', 'N'), ('를', 'J'), ('대표작', 'N'), ('으로', 'J'), ('내세우', 'P'), ('ㄹ', 'E'), ('수', 'N'), ('있', 'P'), ('을', 'E'), ('것', 'N'), ('이란', 'J'), ('기대', 'P'), ('어', 'E'), ('오', 'P'), ('아', 'E'), ('확신', 'N'), ('이', 'J'), ('있', 'P'), ('다', 'E'), ('고', 'J'), ('자신감', 'N'), ('을', 'J'), ('드러내', 'P'), ('어', 'E'), ('이목', 'N'), ('을', 'J'), ('집중', 'N'), ('시키', 'X'), ('었다', 'E'), ('.', 'S')]\n",
      "komoran\n",
      "[('이정', 'NNP'), ('곤', 'NNP'), ('감독', 'NNG'), ('은', 'JX'), ('유승호', 'NNP'), ('를', 'JKO'), ('포함', 'NNG'), ('하', 'XSV'), ('ㄴ', 'ETM'), ('배우', 'NNG'), ('들', 'XSN'), ('이', 'JKS'), ('거래', 'NNG'), ('를', 'JKO'), ('대표작', 'NNG'), ('으로', 'JKB'), ('내세우', 'VV'), ('ㄹ', 'ETM'), ('수', 'NNB'), ('있', 'VV'), ('을', 'ETM'), ('것', 'NNB'), ('이란', 'JX'), ('기대', 'NNG'), ('와', 'JC'), ('확신', 'NNG'), ('이', 'JKS'), ('있', 'VV'), ('다고', 'EC'), ('자신감', 'NNG'), ('을', 'JKO'), ('드러내', 'VV'), ('어', 'EC'), ('이목', 'NNP'), ('을', 'JKO'), ('집중', 'NNG'), ('시키', 'XSV'), ('었', 'EP'), ('다', 'EF'), ('.', 'SF')]\n",
      "kkma\n",
      "[('이정', 'NNG'), ('골', 'VV'), ('ㄴ', 'ETD'), ('감독', 'NNG'), ('은', 'JX'), ('유', 'NNG'), ('승호', 'NNG'), ('를', 'JKO'), ('포함', 'NNG'), ('하', 'XSV'), ('ㄴ', 'ETD'), ('배우', 'NNG'), ('들', 'XSN'), ('이', 'JKS'), ('거래', 'NNG'), ('를', 'JKO'), ('대표작', 'NNG'), ('으로', 'JKM'), ('내세우', 'VV'), ('ㄹ', 'ETD'), ('수', 'NNB'), ('있', 'VV'), ('을', 'ETD'), ('것', 'NNB'), ('이', 'VCP'), ('란', 'ETD'), ('기대', 'NNG'), ('와', 'JKM'), ('확신', 'NNG'), ('이', 'JKS'), ('있', 'VV'), ('다고', 'EFN'), ('자신감', 'NNG'), ('을', 'JKO'), ('드러', 'VV'), ('내', 'EFN'), ('이목', 'NNG'), ('을', 'JKO'), ('집중', 'NNG'), ('시키', 'XSV'), ('었', 'EPT'), ('다', 'EFN'), ('.', 'SF')]\n",
      "okt\n",
      "[('이정', 'Noun'), ('곤', 'Noun'), ('감독', 'Noun'), ('은', 'Josa'), ('유승호', 'Noun'), ('를', 'Josa'), ('포함', 'Noun'), ('한', 'Josa'), ('배우', 'Noun'), ('들', 'Suffix'), ('이', 'Josa'), ('거래', 'Noun'), ('를', 'Josa'), ('대표', 'Noun'), ('작', 'Noun'), ('으로', 'Josa'), ('내세울', 'Verb'), ('수', 'Noun'), ('있을', 'Adjective'), ('것', 'Noun'), ('이란', 'Josa'), ('기대', 'Noun'), ('와', 'Josa'), ('확신', 'Noun'), ('이', 'Josa'), ('있다고', 'Adjective'), ('자신감', 'Noun'), ('을', 'Josa'), ('드러내', 'Verb'), ('이목', 'Noun'), ('을', 'Josa'), ('집중', 'Noun'), ('시켰다', 'Verb'), ('.', 'Punctuation')]\n"
     ]
    }
   ],
   "source": [
    "data = '이정곤 감독은 유승호를 포함한 배우들이 거래를 대표작으로 내세울 수 있을 것이란 기대와 확신이 있다고 자신감을 드러내 이목을 집중시켰다.'\n",
    "\n",
    "for k,v in ma.items():\n",
    "    print(k)\n",
    "    print(v.pos(data))"
   ]
  },
  {
   "cell_type": "code",
   "execution_count": 100,
   "id": "42ac80c7-0bc1-4fb6-89bb-73a051f20610",
   "metadata": {},
   "outputs": [
    {
     "data": {
      "text/plain": [
       "'용언'"
      ]
     },
     "execution_count": 100,
     "metadata": {},
     "output_type": "execute_result"
    }
   ],
   "source": [
    "ma['hannanum'].tagset['P']"
   ]
  },
  {
   "cell_type": "code",
   "execution_count": 104,
   "id": "0275b012-a573-4d8f-9383-fece3d5e422a",
   "metadata": {},
   "outputs": [
    {
     "data": {
      "text/plain": [
       "'동사'"
      ]
     },
     "execution_count": 104,
     "metadata": {},
     "output_type": "execute_result"
    }
   ],
   "source": [
    "ma['komoran'].tagset['VV']"
   ]
  },
  {
   "cell_type": "markdown",
   "id": "9414bbc4-ab9a-4083-adc9-36171effc0b6",
   "metadata": {},
   "source": [
    "##### 형태소 분석기의 성능은 경우에 따라서 다르다. "
   ]
  },
  {
   "cell_type": "code",
   "execution_count": 107,
   "id": "6fa391ec-1523-4775-a96c-afd397bc1da4",
   "metadata": {},
   "outputs": [
    {
     "name": "stdout",
     "output_type": "stream",
     "text": [
      "hannanum\n",
      "[('아버지가방에들어가셨다', 'N'), ('들', 'P'), ('어', 'E'), ('가', 'P'), ('ㅁ', 'E'), ('들', 'P'), ('어', 'E'), ('가', 'P'), ('ㄴ다', 'E')]\n",
      "komoran\n",
      "[('아버지', 'NNG'), ('가방', 'NNP'), ('에', 'JKB'), ('들어가', 'VV'), ('시', 'EP'), ('었', 'EP'), ('다', 'EC'), ('들어가', 'VV'), ('ㅁ', 'ETN'), ('들어가', 'VV'), ('ㄴ다', 'EC')]\n",
      "kkma\n",
      "[('아버지', 'NNG'), ('가방', 'NNG'), ('에', 'JKM'), ('들어가', 'VV'), ('시', 'EPH'), ('었', 'EPT'), ('다', 'ECS'), ('듣', 'VV'), ('어', 'ECD'), ('감', 'NNG'), ('들어가', 'VV'), ('ㄴ다', 'EFN')]\n",
      "okt\n",
      "[('아버지', 'Noun'), ('가방', 'Noun'), ('에', 'Josa'), ('들어가셨다', 'Verb'), ('들어감', 'Verb'), ('들어간다', 'Verb')]\n"
     ]
    }
   ],
   "source": [
    "data = '아버지가방에들어가셨다 들어감 들어간다'\n",
    "\n",
    "for k,v in ma.items():\n",
    "    print(k)\n",
    "    print(v.pos(data))"
   ]
  },
  {
   "cell_type": "code",
   "execution_count": 106,
   "id": "93b331de-c3c7-496e-8280-8a08e3e8734d",
   "metadata": {},
   "outputs": [
    {
     "data": {
      "text/plain": [
       "'관계언'"
      ]
     },
     "execution_count": 106,
     "metadata": {},
     "output_type": "execute_result"
    }
   ],
   "source": [
    "ma['hannanum'].tagset['J']"
   ]
  },
  {
   "cell_type": "code",
   "execution_count": 110,
   "id": "5f635fbe-9208-493f-bd90-3d63efccab8e",
   "metadata": {},
   "outputs": [
    {
     "data": {
      "text/plain": [
       "{'EC': '연결 어미',\n",
       " 'EF': '종결 어미',\n",
       " 'EP': '선어말어미',\n",
       " 'ETM': '관형형 전성 어미',\n",
       " 'ETN': '명사형 전성 어미',\n",
       " 'IC': '감탄사',\n",
       " 'JC': '접속 조사',\n",
       " 'JKB': '부사격 조사',\n",
       " 'JKC': '보격 조사',\n",
       " 'JKG': '관형격 조사',\n",
       " 'JKO': '목적격 조사',\n",
       " 'JKQ': '인용격 조사',\n",
       " 'JKS': '주격 조사',\n",
       " 'JKV': '호격 조사',\n",
       " 'JX': '보조사',\n",
       " 'MAG': '일반 부사',\n",
       " 'MAJ': '접속 부사',\n",
       " 'MM': '관형사',\n",
       " 'NA': '분석불능범주',\n",
       " 'NF': '명사추정범주',\n",
       " 'NNB': '의존 명사',\n",
       " 'NNG': '일반 명사',\n",
       " 'NNP': '고유 명사',\n",
       " 'NP': '대명사',\n",
       " 'NR': '수사',\n",
       " 'NV': '용언추정범주',\n",
       " 'SE': '줄임표',\n",
       " 'SF': '마침표, 물음표, 느낌표',\n",
       " 'SH': '한자',\n",
       " 'SL': '외국어',\n",
       " 'SN': '숫자',\n",
       " 'SO': '붙임표(물결,숨김,빠짐)',\n",
       " 'SP': '쉼표,가운뎃점,콜론,빗금',\n",
       " 'SS': '따옴표,괄호표,줄표',\n",
       " 'SW': '기타기호 (논리수학기호,화폐기호)',\n",
       " 'VA': '형용사',\n",
       " 'VCN': '부정 지정사',\n",
       " 'VCP': '긍정 지정사',\n",
       " 'VV': '동사',\n",
       " 'VX': '보조 용언',\n",
       " 'XPN': '체언 접두사',\n",
       " 'XR': '어근',\n",
       " 'XSA': '형용사 파생 접미사',\n",
       " 'XSN': '명사파생 접미사',\n",
       " 'XSV': '동사 파생 접미사'}"
      ]
     },
     "execution_count": 110,
     "metadata": {},
     "output_type": "execute_result"
    }
   ],
   "source": [
    "ma['komoran'].tagset"
   ]
  },
  {
   "cell_type": "code",
   "execution_count": 111,
   "id": "655a39c3-cd62-4586-bafc-8db7e18ac211",
   "metadata": {},
   "outputs": [
    {
     "data": {
      "text/plain": [
       "['이정',\n",
       " '곤',\n",
       " '감독',\n",
       " '유승호',\n",
       " '포함',\n",
       " '배우',\n",
       " '거래',\n",
       " '대표작',\n",
       " '수',\n",
       " '것',\n",
       " '기대',\n",
       " '확신',\n",
       " '자신감',\n",
       " '이목',\n",
       " '집중']"
      ]
     },
     "execution_count": 111,
     "metadata": {},
     "output_type": "execute_result"
    }
   ],
   "source": [
    "\n",
    "ma['komoran'].nouns('이정곤 감독은 유승호를 포함한 배우들이 거래를 대표작으로 내세울 수 있을 것이란 기대와 확신이 있다고 자신감을 드러내 이목을 집중시켰다.')"
   ]
  },
  {
   "cell_type": "code",
   "execution_count": 113,
   "id": "c0b0a4b2-073c-4fc0-a079-b49cd5089e75",
   "metadata": {},
   "outputs": [],
   "source": [
    "law = kolaw.open(kolaw.fileids()[0]).read()"
   ]
  },
  {
   "cell_type": "code",
   "execution_count": 116,
   "id": "30cca55a-ff23-4cd7-9e46-199d79f076cf",
   "metadata": {},
   "outputs": [
    {
     "data": {
      "text/plain": [
       "(18884, 4178, 356)"
      ]
     },
     "execution_count": 116,
     "metadata": {},
     "output_type": "execute_result"
    }
   ],
   "source": [
    "len(law), len(law.split()), len(law.splitlines())"
   ]
  },
  {
   "cell_type": "code",
   "execution_count": 119,
   "id": "3d5a09c0-58cf-4db7-ac9e-ebba0182e3ba",
   "metadata": {},
   "outputs": [
    {
     "data": {
      "text/plain": [
       "(4640, 2023)"
      ]
     },
     "execution_count": 119,
     "metadata": {},
     "output_type": "execute_result"
    }
   ],
   "source": [
    "len(word_tokenize(law)), len(set(word_tokenize(law)))"
   ]
  },
  {
   "cell_type": "code",
   "execution_count": 120,
   "id": "ce16119a-7774-423a-9b94-938d887b254b",
   "metadata": {},
   "outputs": [
    {
     "data": {
      "text/plain": [
       "(4325, 2085)"
      ]
     },
     "execution_count": 120,
     "metadata": {},
     "output_type": "execute_result"
    }
   ],
   "source": [
    "len(regexp_tokenize(law, r'\\b\\w+\\b')), \\\n",
    "len(set(regexp_tokenize(law, r'\\b\\w+\\b')))"
   ]
  },
  {
   "cell_type": "code",
   "execution_count": 122,
   "id": "cd53365a-2317-41b7-bdf6-3921785c407f",
   "metadata": {},
   "outputs": [
    {
     "ename": "NameError",
     "evalue": "name 'tokenizer' is not defined",
     "output_type": "error",
     "traceback": [
      "\u001b[1;31m---------------------------------------------------------------------------\u001b[0m",
      "\u001b[1;31mNameError\u001b[0m                                 Traceback (most recent call last)",
      "Cell \u001b[1;32mIn[122], line 1\u001b[0m\n\u001b[1;32m----> 1\u001b[0m \u001b[38;5;28mlen\u001b[39m(\u001b[43mtokenizer\u001b[49m\u001b[38;5;241m.\u001b[39mtokenize(law)),\\\n\u001b[0;32m      2\u001b[0m \u001b[38;5;28mlen\u001b[39m(\u001b[38;5;28mset\u001b[39m(tokenizer\u001b[38;5;241m.\u001b[39mtokenize(law)))\n",
      "\u001b[1;31mNameError\u001b[0m: name 'tokenizer' is not defined"
     ]
    }
   ],
   "source": [
    "len(tokenizer.tokenize(law)),\\\n",
    "len(set(tokenizer.tokenize(law)))"
   ]
  },
  {
   "cell_type": "code",
   "execution_count": 123,
   "id": "eef74205-144b-474b-ab68-bc2ccfea5dfd",
   "metadata": {},
   "outputs": [
    {
     "data": {
      "text/plain": [
       "357"
      ]
     },
     "execution_count": 123,
     "metadata": {},
     "output_type": "execute_result"
    }
   ],
   "source": [
    "len(sent_tokenize(law))"
   ]
  },
  {
   "cell_type": "code",
   "execution_count": 124,
   "id": "d7d2ff89-87de-46b6-a186-675ee4bfbc33",
   "metadata": {},
   "outputs": [
    {
     "data": {
      "text/plain": [
       "9780"
      ]
     },
     "execution_count": 124,
     "metadata": {},
     "output_type": "execute_result"
    }
   ],
   "source": [
    "len(ma['komoran'].morphs(law))"
   ]
  },
  {
   "cell_type": "code",
   "execution_count": 125,
   "id": "d425bd7b-88aa-44c1-ac99-f51ea243dcb1",
   "metadata": {},
   "outputs": [
    {
     "data": {
      "text/plain": [
       "1214"
      ]
     },
     "execution_count": 125,
     "metadata": {},
     "output_type": "execute_result"
    }
   ],
   "source": [
    "len(set(ma['komoran'].morphs(law)))"
   ]
  },
  {
   "cell_type": "code",
   "execution_count": 126,
   "id": "be8b71e2-6ada-4fa8-aad9-2e7a7f705ecc",
   "metadata": {},
   "outputs": [],
   "source": [
    "t1 = Text(word_tokenize(law))\n",
    "t2 = Text(ma['komoran'].morphs(law))"
   ]
  },
  {
   "cell_type": "code",
   "execution_count": 128,
   "id": "a3bcb433-890c-4050-bad4-4db3b4747b43",
   "metadata": {},
   "outputs": [
    {
     "data": {
      "text/plain": [
       "(4640, 9780)"
      ]
     },
     "execution_count": 128,
     "metadata": {},
     "output_type": "execute_result"
    }
   ],
   "source": [
    "t1.vocab().N(), t2.vocab().N()"
   ]
  },
  {
   "cell_type": "code",
   "execution_count": 129,
   "id": "af0d0c74-ca44-4fb8-a666-800a2f80a3b6",
   "metadata": {},
   "outputs": [
    {
     "data": {
      "text/plain": [
       "[(('.', 357), ('하', 472)),\n",
       " ((',', 101), ('의', 387)),\n",
       " (('수', 87), ('.', 360)),\n",
       " (('①', 75), ('에', 330)),\n",
       " (('또는', 70), ('는', 287)),\n",
       " (('의하여', 66), ('ㄴ다', 243)),\n",
       " (('법률이', 57), ('ㄴ', 236)),\n",
       " (('있다', 57), ('이', 230)),\n",
       " (('한다', 56), ('을', 225)),\n",
       " (('정하는', 50), ('은', 199))]"
      ]
     },
     "execution_count": 129,
     "metadata": {},
     "output_type": "execute_result"
    }
   ],
   "source": [
    "list(zip(t1.vocab().most_common(10), t2.vocab().most_common(10)))"
   ]
  },
  {
   "cell_type": "code",
   "execution_count": 131,
   "id": "e9d47caf-c1b9-4757-b299-16e89fa35423",
   "metadata": {},
   "outputs": [
    {
     "data": {
      "text/plain": [
       "[<matplotlib.lines.Line2D at 0x2a942cc0c40>]"
      ]
     },
     "execution_count": 131,
     "metadata": {},
     "output_type": "execute_result"
    },
    {
     "data": {
      "image/png": "[encoded data removed]",
      "text/plain": [
       "<Figure size 640x480 with 1 Axes>"
      ]
     },
     "metadata": {},
     "output_type": "display_data"
    }
   ],
   "source": [
    "N=51\n",
    "plt.plot(range(1,N), [1/i for i in range(1, N)])\n",
    "plt.plot(range(1,N),\n",
    "         [t[1]/358 for t in t1.vocab().most_common(N-1)],\n",
    "        'r-')\n",
    "plt.plot(range(1,N),\n",
    "         [t[1]/472 for t in t2.vocab().most_common(N-1)],\n",
    "        'b-')"
   ]
  },
  {
   "cell_type": "code",
   "execution_count": 132,
   "id": "882fd302-102c-4014-9d7f-200cb4bc5b77",
   "metadata": {},
   "outputs": [
    {
     "data": {
      "text/plain": [
       "0.5221881390593046"
      ]
     },
     "execution_count": 132,
     "metadata": {},
     "output_type": "execute_result"
    }
   ],
   "source": [
    "sumof = 0.0\n",
    "for k in sorted(t2.vocab(), key=t2.vocab().get, reverse=True)[:30]:\n",
    "    sumof += t2.vocab().freq(k)\n",
    "sumof"
   ]
  },
  {
   "cell_type": "code",
   "execution_count": 133,
   "id": "0343531b-1f73-452e-9c06-9918fac278fe",
   "metadata": {},
   "outputs": [
    {
     "data": {
      "text/plain": [
       "0.010224948875255624"
      ]
     },
     "execution_count": 133,
     "metadata": {},
     "output_type": "execute_result"
    }
   ],
   "source": [
    "sumof = 0.0\n",
    "for k in sorted(t2.vocab(), key=t2.vocab().get)[:100]:\n",
    "    sumof += t2.vocab().freq(k)\n",
    "sumof"
   ]
  },
  {
   "cell_type": "code",
   "execution_count": 136,
   "id": "9d6ea463-e03d-42e6-a7de-8c5628e029d0",
   "metadata": {},
   "outputs": [
    {
     "data": {
      "text/plain": [
       "['또는',\n",
       " '국회',\n",
       " '국민',\n",
       " '헌법',\n",
       " '으로',\n",
       " '관하',\n",
       " '아니하',\n",
       " '모든',\n",
       " '위하',\n",
       " '가지',\n",
       " '아야',\n",
       " '필요',\n",
       " '기타',\n",
       " '에서',\n",
       " '사항',\n",
       " '법관',\n",
       " '보장',\n",
       " '어야',\n",
       " '대하',\n",
       " '정부',\n",
       " '국회의원',\n",
       " '경제',\n",
       " '거나',\n",
       " '직무',\n",
       " '선거',\n",
       " '국무총리',\n",
       " '임명',\n",
       " '의무',\n",
       " '정당',\n",
       " '조직',\n",
       " '임기',\n",
       " '권리',\n",
       " '의결',\n",
       " '공무원',\n",
       " '경우',\n",
       " '이상',\n",
       " '의원',\n",
       " '국무위원',\n",
       " '자유',\n",
       " '항의',\n",
       " '보호',\n",
       " '정책',\n",
       " '헌법재판소',\n",
       " '노력',\n",
       " '법원',\n",
       " '요구',\n",
       " '아니',\n",
       " '집회',\n",
       " '출석',\n",
       " '찬성',\n",
       " '조약',\n",
       " '다만',\n",
       " '까지',\n",
       " '동의',\n",
       " '과반수',\n",
       " '행정',\n",
       " '탄핵',\n",
       " '대한민국',\n",
       " '에게',\n",
       " '공포',\n",
       " '이나',\n",
       " '심판',\n",
       " '재판',\n",
       " '처분',\n",
       " '교육',\n",
       " '시행',\n",
       " '재적',\n",
       " '중요',\n",
       " '위원',\n",
       " '권한',\n",
       " '자문',\n",
       " '대법원',\n",
       " '사회',\n",
       " '기본',\n",
       " '정치',\n",
       " '어서',\n",
       " '개정',\n",
       " '효력',\n",
       " '체포',\n",
       " '절차',\n",
       " '형사',\n",
       " '근로',\n",
       " '회의',\n",
       " '국정',\n",
       " '범위',\n",
       " '명령',\n",
       " '지방',\n",
       " '자치',\n",
       " '안전',\n",
       " '제정',\n",
       " '투표',\n",
       " '인정',\n",
       " '구속',\n",
       " '당하',\n",
       " '없이',\n",
       " '구성',\n",
       " '확정',\n",
       " '제출',\n",
       " '각부',\n",
       " '재판관',\n",
       " '단체',\n",
       " '대법원장',\n",
       " '따르',\n",
       " '생활',\n",
       " '수립',\n",
       " '유지',\n",
       " '이유',\n",
       " '행위',\n",
       " '제한',\n",
       " '기관',\n",
       " '공개',\n",
       " '로부터',\n",
       " '한하',\n",
       " '선출',\n",
       " '3분',\n",
       " '감사',\n",
       " '위안',\n",
       " '선거관리위원회',\n",
       " '국무회의',\n",
       " '관리',\n",
       " '최초',\n",
       " '평화',\n",
       " '통일',\n",
       " '승인',\n",
       " '으며',\n",
       " '10',\n",
       " '누구',\n",
       " '든지',\n",
       " '청구',\n",
       " '피고인',\n",
       " '지체',\n",
       " '소추',\n",
       " '인하',\n",
       " '침해',\n",
       " '군사',\n",
       " '재정',\n",
       " '개발',\n",
       " '의장',\n",
       " '규정',\n",
       " '이내',\n",
       " '회계',\n",
       " '처리',\n",
       " '규칙',\n",
       " '자격',\n",
       " '감사원',\n",
       " '결정',\n",
       " '중임',\n",
       " '응하',\n",
       " '제청',\n",
       " '당시',\n",
       " '민주',\n",
       " '로써',\n",
       " '질서',\n",
       " '책임',\n",
       " '향상',\n",
       " '운영',\n",
       " '해산',\n",
       " '발전',\n",
       " '으로서',\n",
       " '제도',\n",
       " '진술',\n",
       " '붙이',\n",
       " '심사',\n",
       " '언론',\n",
       " '출판',\n",
       " '내용',\n",
       " '군인',\n",
       " '중대',\n",
       " '제외',\n",
       " '30',\n",
       " '특별',\n",
       " '회기',\n",
       " '행하',\n",
       " '기간',\n",
       " '재의',\n",
       " '예산안',\n",
       " '심의',\n",
       " '연도',\n",
       " '개시',\n",
       " '예산',\n",
       " '설치',\n",
       " '계엄',\n",
       " '계획',\n",
       " '개정안',\n",
       " '각급',\n",
       " '사무',\n",
       " '균형',\n",
       " '이용',\n",
       " '육성',\n",
       " '문화',\n",
       " '영역',\n",
       " '으로써',\n",
       " '국군',\n",
       " '수행',\n",
       " '체결',\n",
       " '목적',\n",
       " '평등',\n",
       " '검사',\n",
       " '영장',\n",
       " '변호인',\n",
       " '방법',\n",
       " '범죄',\n",
       " '재산권',\n",
       " '15',\n",
       " '타인',\n",
       " '도록',\n",
       " '보상',\n",
       " '비상계엄',\n",
       " '선포',\n",
       " '군사법원',\n",
       " '판결',\n",
       " '집행',\n",
       " '근로자',\n",
       " '조건',\n",
       " '는다',\n",
       " '40',\n",
       " '임시회',\n",
       " '적의',\n",
       " '못하',\n",
       " '다음',\n",
       " '지출',\n",
       " '계속',\n",
       " '부담',\n",
       " '발의',\n",
       " '저촉',\n",
       " '내부',\n",
       " '규율',\n",
       " '파면',\n",
       " '후임자',\n",
       " '긴급',\n",
       " '관계',\n",
       " '사면',\n",
       " '원로',\n",
       " '선고',\n",
       " '선임',\n",
       " '농지',\n",
       " '운동',\n",
       " '조국',\n",
       " '민족',\n",
       " '단결',\n",
       " '자율',\n",
       " '기회',\n",
       " '능력',\n",
       " '최고',\n",
       " '균등',\n",
       " '으로부터',\n",
       " '국제',\n",
       " '중립',\n",
       " '일반',\n",
       " '지위',\n",
       " '신분',\n",
       " '활동',\n",
       " '위배',\n",
       " '제소',\n",
       " '인간',\n",
       " '개인',\n",
       " '11',\n",
       " '영전',\n",
       " '압수',\n",
       " '수색',\n",
       " '처벌',\n",
       " '불리',\n",
       " '현행범',\n",
       " '증거',\n",
       " '입법',\n",
       " '주거',\n",
       " '비밀',\n",
       " '20',\n",
       " '배상',\n",
       " '행사',\n",
       " '선거권',\n",
       " '문서',\n",
       " '청원',\n",
       " '재판을 받을 권리',\n",
       " '군무원',\n",
       " '구금',\n",
       " '공공단체',\n",
       " '증진',\n",
       " '단체행동권',\n",
       " '복지',\n",
       " '실시',\n",
       " '사유',\n",
       " '보전',\n",
       " '통하',\n",
       " '속하',\n",
       " '이익',\n",
       " '기업체',\n",
       " '계약',\n",
       " '만료',\n",
       " '로서',\n",
       " '편성',\n",
       " '변경',\n",
       " '60',\n",
       " '상호',\n",
       " '강화',\n",
       " '선전',\n",
       " '외국',\n",
       " '의견',\n",
       " '정부위원',\n",
       " '보고',\n",
       " '해임',\n",
       " '건의',\n",
       " '중앙',\n",
       " '대통령령',\n",
       " '안녕질서',\n",
       " '조치',\n",
       " '부터',\n",
       " '해제',\n",
       " '감형',\n",
       " '복권',\n",
       " '대외',\n",
       " '결산',\n",
       " '조정',\n",
       " '지명',\n",
       " '국가안전보장회의',\n",
       " '사무에']"
      ]
     },
     "execution_count": 136,
     "metadata": {},
     "output_type": "execute_result"
    }
   ],
   "source": [
    "list(filter(lambda t:len(t)>1,\n",
    "       sorted(t2.vocab(), key=t2.vocab().get, reverse=True)[30:-800]))"
   ]
  },
  {
   "cell_type": "code",
   "execution_count": 139,
   "id": "61908107-ba99-4ed7-8ab8-c1879de0cd1e",
   "metadata": {},
   "outputs": [
    {
     "data": {
      "text/plain": [
       "123"
      ]
     },
     "execution_count": 139,
     "metadata": {},
     "output_type": "execute_result"
    }
   ],
   "source": [
    "total = 0\n",
    "for t in list(filter(lambda t:t.startswith('법률'), t1.vocab().keys())):\n",
    "    total += t1.vocab().get(t)\n",
    "total"
   ]
  },
  {
   "cell_type": "markdown",
   "id": "eb48f878-44bc-4cac-87fe-33212f7c3cea",
   "metadata": {},
   "source": [
    "# 이번에는 힙스의 법칙"
   ]
  },
  {
   "cell_type": "code",
   "execution_count": 141,
   "id": "1e474a97-6ee2-49a5-a633-9313654203a3",
   "metadata": {},
   "outputs": [
    {
     "data": {
      "text/plain": [
       "'지방공무원법 일부개정법률안\\n\\n(정의화의원 대표발의 )\\n\\n 의 안\\n 번 호\\n\\n9890\\n\\n발의연월일 : 2010.  11.  12.  \\n\\n발  의  자 : 정의화․이명수․김을동 \\n\\n이사철․여상규․안규백\\n\\n황영철․박영아․김정훈\\n\\n김학송 의원(10인)\\n\\n제안이유 및 주요내용\\n\\n  초등학교 저학년의 경우에도 부모의 따뜻한 사랑과 보살핌이 필요\\n\\n한 나이이나, 현재 공무원이 자녀를 양육하기 위하여 육아휴직을 할 \\n\\n수 있는 자녀의 나이는 만 6세 이하로 되어 있어 초등학교 저학년인 \\n\\n자녀를 돌보기 위해서는 해당 부모님은 일자리를 그만 두어야 하고 \\n\\n이는 곧 출산의욕을 저하시키는 문제로 이어질 수 있을 것임.\\n\\n  따라서 육아휴직이 가능한 자녀의 연령을 만 8세 이하로 개정하려\\n\\n는 것임(안 제63조제2항제4호).\\n\\n- 1 -\\n\\n\\x0c법률  제        호\\n\\n지방공무원법 일부개정법률안\\n\\n지방공무원법 일부를 다음과 같이 개정한다.\\n\\n제63조제2항제4호 중 “만 6세 이하의 초등학교 취학 전 자녀를”을 “만 \\n\\n8세 이하(취학 중인 경우에는 초등학교 2학년 이하를 말한다)의 자녀를”\\n\\n로 한다.\\n\\n부      칙\\n\\n이 법은 공포한 날부터 시행한다.\\n\\n- 3 -\\n\\n\\x0c신 ·구조문대비표\\n\\n현      행\\n\\n개   정   안\\n\\n제63조(휴직) ① (생  략)\\n\\n제63조(휴직) ① (현행과 같음)\\n\\n  ② 공무원이 다음 각 호의 어\\n\\n  ② -------------------------\\n\\n느 하나에 해당하는 사유로 휴\\n\\n----------------------------\\n\\n직을 원하면 임용권자는 휴직\\n\\n----------------------------\\n\\n을 명할 수 있다. 다만, 제4호\\n\\n-------------.---------------\\n\\n의 경우에는 대통령령으로 정\\n\\n----------------------------\\n\\n하는 특별한 사정이 없으면 휴\\n\\n----------------------------\\n\\n직을 명하여야 한다.\\n\\n--------------.\\n\\n  1. ∼ 3. (생  략)\\n\\n  1. ∼ 3. (현행과 같음)\\n\\n  4. 만 6세 이하의 초등학교 취\\n\\n  4. 만 8세 이하(취학 중인 경우\\n\\n학 전 자녀를 양육하기 위하\\n\\n에는 초등학교 2학년 이하를 \\n\\n여 필요하거나 여자공무원이 \\n\\n말한다)의 자녀를 ----------\\n\\n임신 또는 출산하게 되었을 \\n\\n---------------------------\\n\\n때\\n\\n---------------------------\\n\\n  5.⋅6. (생  략)\\n\\n  ③⋅④ (생  략)\\n\\n--------\\n\\n  5.⋅6. (현행과 같음)\\n\\n  ③⋅④ (현행과 같음)\\n\\n- 5 -\\n\\n\\x0c지방공무원법 일부개정법률안 등 비용추계서 미첨부사유서\\n1.  재정수반요인\\n\\n개정안에서 ｢국가공무원법｣  제71조제2항제4호 중 국가공무원의 육아\\n\\n휴직 가능 자녀의 연령을 만6세 이하에서 만8세 이하로 하고, ｢지방공\\n\\n무원법｣ 제63조제2항제4호 중 지방공무원의 육아휴직 가능 자녀의 연\\n\\n령을 만6세 이하에서 만8세 이하로 하고, ｢교육공무원법｣ 제44조제1항\\n\\n제7조 중 교육공무원의 육아휴직 가능 자녀의 연령을 만6세 이하에서 \\n\\n만8세 이하로 하고, ｢남녀고용평등과 일․가정 양립지원에 관한 법률｣ \\n\\n제19조제1항 중 근로자 육아휴직 가능 자녀연령을 만6세 이하에서 만\\n\\n8세 이하로 조정함에 따라 추가 재정소요가 예상됨.\\n\\n2.  미첨부  근거  규정\\n｢의안의 비용추계에 관한 규칙｣ 제3조제1항 단서 중 제1호(예상되는 비용이 연평균  10억원 미만\\n이거나  한시적인  경비로서  총  30억원  미만인  경우)에  해당함.\\n\\n3.  미첨부  사유\\n\\n개정안에서 국가․지방․교육공무원 및 근로자가 육아휴직을 신청할 \\n\\n수 있는 자녀의 연령을 만6세 이하에서 만8세 이하로 상향조정함에 \\n\\n따라 추가 재정소요가 예상된다. 동 법률 개정안이 2011년에 시행된다\\n\\n고 가정한 경우, 2010년 현재 자녀의 연령이 7세이고 육아휴직을 신청\\n\\n- 7 -\\n\\n\\x0c- 8 -\\n\\n하지 않은 국가․지방․교육공무원 및 근로자가 대상이 된다.\\n\\n대상연령의 확대됨에 따라 육아휴직신청자의 수가 어느 정도 늘어날 \\n\\n것으로 예상된다. 이 경우 발생하는 비용은 현행법에 따르면 월50만원\\n\\n이나 현재 관련법령 개정이 추진되고 있으며, 이에 따라 2011년에는 \\n\\n육아휴직자가 지급받는 월급여액에 비례하여 육아휴직급여가 지급되\\n\\n기 때문에 법령개정을 가정하고 추계한다. 이러한 경우 육아휴직급여\\n\\n액은 육아휴직자가 지급받는 월급여의 40%에 해당한다. 육아휴직자가 \\n\\n발생한 경우 발생하는 비용은 대체인력 고용인건비와 육아휴직자가 \\n\\n받는 월급여액의 40%이다. 이와 대비하여 육아휴직자에게 지급하던 \\n\\n임금은 더 이상 발생하지 않는다. 따라서 실제 발생하는 순비용은 육\\n\\n아휴직자에게 지급하던 월 급여액과 연령 확대에 따라 발생하는 비용\\n\\n인 육아휴직자가 받던 월급여액의 40%와 대체인력 고용인건비의 차\\n\\n액인데 이 값이 0보다 크면 추가 재정소요는 발생하지 않는다고 볼 \\n\\n수 있다.\\n\\n추가비용 발생여부를 정확하게 알아보기 위하여 비용에 대한 수리모\\n\\n델을 만들고 이에 따라 비용발생 여부를 알아보기로 하자. 모델에 사\\n\\n용되는 변수를 다음과 같이 정의한다.\\n\\n발생비용 : N×p×X + N×육아휴직급여액 - N×P\\n\\nN\\n\\nP\\n\\n: 육아휴직대상자의 수\\n\\n: 육아휴직대상자의 월급여액\\n\\n\\x0cp\\n\\nX\\n\\n: 육아휴직자가 발생한 경우 대체 고용할 확률\\n\\n: 대체 고용한 인력에게 지급하는 월급여액\\n\\n위의 수식에서 육아휴직급여액은 육아휴직자 월급여액의 40%까지 지\\n\\n급할 예정이므로 육아휴직급여액은 P×40%이다. 육아휴직자가 발생한 \\n\\n경우 대체 고용할 확률 p는 고용노동부의 육아휴직 관련 자료를 이용\\n\\n한다. 고용노동부에 따르면 2011년의 경우 육아휴직급여 대상자는 \\n\\n40,923명이며, 육아휴직에 따른 대체인력 고용 예상인원은 2,836명이\\n\\n다. 2007년부터 2011년까지의 현황을 정리하면 다음의 [표]와 같다.\\n\\n[표]  육아휴직급여  수급자의  수  및  대체인력  고용  현황:  2007~2011년\\n\\n(단위:  명,  % )\\n\\n2007\\n\\n2008\\n\\n2009\\n\\n2010\\n\\n2011\\n\\n평균\\n\\n육아휴직급여  수급자(A)\\n\\n21,185\\n\\n29,145\\n\\n35,400\\n\\n41,291\\n\\n43,899\\n\\n34,184\\n\\n대체인력  채용(B)\\n\\n796\\n\\n1,658\\n\\n1,957\\n\\n2,396\\n\\n2,836\\n\\n1,929\\n\\n비  율(B/A)\\n\\n3.8\\n\\n5.7\\n\\n5.5\\n\\n5.8\\n\\n6.5\\n\\n5.6\\n\\n자료: 고용노동부  자료를  바탕으로  국회예산정책처  작성\\n\\n위의 [표]의 자료에 따라 육아휴직자가 발생한 경우 대체 고용할 확률 \\n\\np의 값은 5.6%라고 가정한다. 그리고 비용이 발생한다고 가정하여 위\\n\\n의 수식을 다시 작성하면 다음의 수식과 같다.\\n\\nN×p×X + N×육아휴직급여액 - N×P > 0\\n\\n(1)\\n\\n- 9 -\\n\\n\\x0c- 10 -\\n\\nN×5.6%×X + N×P×40% - N×P > 0\\n\\n0.056×X > 0.6P\\n\\nX > 10.7×P\\n\\n(2)\\n\\n(3)\\n\\n(5)\\n\\n위의 수식에 육아휴직자가 받는 월 급여액을 대입하여 대체고용인력\\n\\n자에게 지급하는 월 급여액을 추정하여 보자. 육아휴직자가 월 200만\\n\\n원을 받는다고 가정하면, 대체고용인력자에게 육아휴직자가 받는 월 \\n\\n급여액의 10.7배에 달하는 월 21,428,571원 이상을 지급해야 추가 비용\\n\\n이 발생한다. 대체고용인력자에게 육아휴직자보다 더 많은 월급여액을 \\n\\n주지는 않을 것이고 그리고 10여배 이상 월급을 주지도 않을 것이기 \\n\\n때문에 추가 비용이 발생한다고 보기 힘들다. 위의 수식에서 대체인력 \\n\\n고용확률 p를 20%로 가정하더라도(이 경우 X > 3×P) 200만원 받는 \\n\\n육아휴직자 대체인력에게 월 600만원 이상을 지급해야 추가 비용이 \\n\\n발생한다.\\n\\n행정안전부의 통계자료(행정안전부 통계연감)에서는 지방공무원의 육\\n\\n아휴직 현황자료를 보여주고 있다. 여기서 육아휴직자가 발생한 경우 \\n\\n대체인력을 주로 임용대기자 또는 일용직을 활용하는 것으로 보인다. \\n\\n따라서 공무원의 경우에도 [표]에서 보여주는 일반기업체의 대체인력 \\n\\n고용확률과 차이는 크지 않을 것으로 보인다.\\n\\n이상의 논의를 바탕으로 육아휴직기간을 만6에서 만8세로 연장하더라\\n\\n도 법률 개정에 따른 추가 비용은 발생하지 않을 것으로 예상된다.\\n\\n\\x0c4.  작성자\\n\\n국회예산정책처 법안비용추계1팀\\n\\n팀      장   정 문 종\\n\\n예산분석관   김 태 완\\n\\n(02-788-4649, tanzania@assembly.go.kr)\\n\\n- 11 -\\n\\n\\x0c'"
      ]
     },
     "execution_count": 141,
     "metadata": {},
     "output_type": "execute_result"
    }
   ],
   "source": [
    "kobill.open(kobill.fileids()[0]).read()"
   ]
  },
  {
   "cell_type": "code",
   "execution_count": 146,
   "id": "f35be4b1-6b7e-4811-b664-2f62f85a3af8",
   "metadata": {},
   "outputs": [],
   "source": [
    "from nltk.tokenize import regexp_tokenize"
   ]
  },
  {
   "cell_type": "code",
   "execution_count": 148,
   "id": "e236095e-e2ab-448b-b861-2d272594b7bc",
   "metadata": {},
   "outputs": [],
   "source": [
    "import re"
   ]
  },
  {
   "cell_type": "code",
   "execution_count": 170,
   "id": "7fbc4bb3-3d26-445d-a7c2-918bafc46657",
   "metadata": {},
   "outputs": [],
   "source": [
    "ktokens = list()\n",
    "kmorphs = list()\n",
    "\n",
    "ktokens.append(FreqDist()) #비어있는 0번째 인덱스에 FreqDist()객체에 지금분석한걸 담을거임.\n",
    "kmorphs.append(FreqDist())\n",
    "\n",
    "for doc in kobill.fileids():\n",
    "    morphs = list()\n",
    "    corpus = kobill.open(doc).read()\n",
    "    ktokens.append(ktokens[-1] + Text(word_tokenize(corpus)).vocab()) \n",
    "    for s in sent_tokenize(re.sub(r'\\s{2,}', ' ', corpus)):\n",
    "        # JAVA 에는 공간이 한정적이라서, 문장이 너무 길어도 안된다. 그래서 띄어쓰기도 좀 제거해서 최소화한 상태에서 tokenizer 를 돌린거라고 한다.\n",
    "        if len(s) > 1:\n",
    "            morphs.extend(ma['komoran'].morphs(s))\n",
    "    kmorphs.append(kmorphs[-1] + Text(morphs).vocab())"
   ]
  },
  {
   "cell_type": "code",
   "execution_count": 171,
   "id": "026f088c-162b-4e7e-8f69-aefe8e25b1c2",
   "metadata": {},
   "outputs": [
    {
     "data": {
      "text/plain": [
       "FreqDist({})"
      ]
     },
     "execution_count": 171,
     "metadata": {},
     "output_type": "execute_result"
    }
   ],
   "source": [
    "ktokens[0]"
   ]
  },
  {
   "cell_type": "code",
   "execution_count": 172,
   "id": "b3545b01-50e7-4e09-af86-103c7b4f3850",
   "metadata": {},
   "outputs": [
    {
     "name": "stdout",
     "output_type": "stream",
     "text": [
      "0 0\n",
      "1124 536\n",
      "2240 544\n",
      "3638 656\n",
      "4727 720\n",
      "5003 830\n",
      "5509 983\n",
      "7952 1567\n",
      "8860 1874\n",
      "9806 2041\n",
      "12338 2479\n"
     ]
    }
   ],
   "source": [
    "for k in ktokens:\n",
    "    print(k.N(), k.B())"
   ]
  },
  {
   "cell_type": "markdown",
   "id": "2d10747f-fb83-4516-81c2-8390064d7204",
   "metadata": {},
   "source": [
    "### 헌법을 Text 에 넣어서 볼 수 있는게 뭔지 확인하기"
   ]
  },
  {
   "cell_type": "code",
   "execution_count": 155,
   "id": "d06deb6d-0e89-4da8-bc1f-4a79e1c40aef",
   "metadata": {},
   "outputs": [],
   "source": [
    "lawText = Text(ma['komoran'].morphs(law))"
   ]
  },
  {
   "cell_type": "code",
   "execution_count": 156,
   "id": "0648f76f-b8ae-49aa-b8f7-8385832ea298",
   "metadata": {},
   "outputs": [
    {
     "name": "stdout",
     "output_type": "stream",
     "text": [
      "헌법재판소 재판관\n"
     ]
    }
   ],
   "source": [
    "lawText.collocations()\n",
    "#의미 있는 걸 찾을 수가 없다,,,;;;; 그래도 의미 있는걸로 굳이 찾아낸걸로 볼 수 있다."
   ]
  },
  {
   "cell_type": "code",
   "execution_count": 157,
   "id": "eecf9081-ef84-493a-8bc5-0df7481b7ee3",
   "metadata": {},
   "outputs": [
    {
     "name": "stdout",
     "output_type": "stream",
     "text": [
      "Displaying 25 of 67 matches:\n",
      "대한민국 헌법 유구 하 ㄴ 역사 와 전통 에 빛나 는 우리 대하 ㄴ 국민 은 3 · 1 운동 으로 건립 되 ㄴ 대한민국 임시 정부 의 법통 \n",
      " 에 따르 는 책임 과 의무 를 완수 하 게 하 아 , 안 으로 는 국민 생활 의 균등 하 ㄴ 향상 을 기하 고 밖 으로 는 항구 적 이 ㄴ\n",
      " 에 걸치 어 개정 되 ㄴ 헌법 을 이제 국회 의 의결 을 거치 어 국민 투표 에 의하 아 개정 하 ㄴ다 . 제 1 장 총 강 제 1 조 ①\n",
      " 조 ① 대한민국 은 민주공화국 이 다 . ② 대한민국 의 주권 은 국민 에게 있 고 , 모든 권력 은 국민 으로부터 나오 ㄴ다 . 제 2 \n",
      "다 . ② 대한민국 의 주권 은 국민 에게 있 고 , 모든 권력 은 국민 으로부터 나오 ㄴ다 . 제 2 조 ① 대한민국 의 국민 이 되 는 \n",
      "든 권력 은 국민 으로부터 나오 ㄴ다 . 제 2 조 ① 대한민국 의 국민 이 되 는 요건 은 법률 로 정하 ㄴ다 . ② 국가 는 법률 이 정\n",
      "에 의하 아 그 지위 가 보장 되 ㄴ다 . 제 7 조 ① 공무원 은 국민 전체 에 대하 ㄴ 봉사자 이 며 , 국민 에 대하 아 책임 을 지 \n",
      " 제 7 조 ① 공무원 은 국민 전체 에 대하 ㄴ 봉사자 이 며 , 국민 에 대하 아 책임 을 지 ㄴ다 . ② 공무원 의 신분 과 정치 적 \n",
      "정당 은 그 목적 · 조직 과 활동 이 민주 적 이 어야 하 며 , 국민 의 정치 적 의사 형성 에 참여 하 는데 필요 하 ㄴ 조직 을 가지\n",
      " 아야 하 ㄴ다 . 제 2 장 국민의 권리와 의무 제 10 조 모든 국민 은 인간 으로서 의 존엄 과 가치 를 가지 며 , 행복 을 추구 하\n",
      " 고 이 를 보장 하 ㄹ 의무 를 지 ㄴ다 . 제 11 조 ① 모든 국민 은 법 앞 에 평등 하 다 . 누구 이 든지 성별 · 종교 또는 사\n",
      " ㄴ 특권 도 이 에 따르 지 아니하 ㄴ다 . 제 12 조 ① 모든 국민 은 신체의 자유 를 가지 ㄴ다 . 누구 이 든지 법률 에 의하 지 \n",
      "벌 · 보안처분 또는 강제 노역 을 받 지 아니하 ㄴ다 . ② 모든 국민 은 고문 을 받 지 아니하 며 , 형사 상 자기 에게 불리 하 ㄴ \n",
      "나 이 를 이유 로 처벌 하 ㄹ 수 없 다 . 제 13 조 ① 모든 국민 은 행위 시 의 법률 에 의하 아 범죄 를 구성 하 지 아니하 는 \n",
      "하 ㄴ 범죄 에 대하 아 거듭 처벌 받 지 아니하 ㄴ다 . ② 모든 국민 은 소급 입법 에 의하 아 참정권 의 제한 을 받 거나 재산권 을 \n",
      "제한 을 받 거나 재산권 을 박탈 당하 지 아니하 ㄴ다 . ③ 모든 국민 은 자기 의 행위 가 아니 ㄴ 친족 의 행위 로 인하 아 불 이익한\n",
      "하 아 불 이익한 처우 를 받 지 아니하 ㄴ다 . 제 14 조 모든 국민 은 거주 · 이전 의 자유 를 가지 ㄴ다 . 제 15 조 모든 국민\n",
      "국민 은 거주 · 이전 의 자유 를 가지 ㄴ다 . 제 15 조 모든 국민 은 직업 선택 의 자유 를 가지 ㄴ다 . 제 16 조 모든 국민 은\n",
      "든 국민 은 직업 선택 의 자유 를 가지 ㄴ다 . 제 16 조 모든 국민 은 주거 의 자유 를 침해 받 지 아니하 ㄴ다 . 주거 에 대하 ㄴ\n",
      " 발부 하 ㄴ 영장 을 제시 하 아야 하 ㄴ다 . 제 17 조 모든 국민 은 사생활의 비밀과 자유 를 침해 받 지 아니하 ㄴ다 . 제 18 \n",
      "활의 비밀과 자유 를 침해 받 지 아니하 ㄴ다 . 제 18 조 모든 국민 은 통신 의 비밀 을 침해 받 지 아니하 ㄴ다 . 제 19 조 모든\n",
      "은 통신 의 비밀 을 침해 받 지 아니하 ㄴ다 . 제 19 조 모든 국민 은 양심의 자유 를 가지 ㄴ다 . 제 20 조 ① 모든 국민 은 종\n",
      " 모든 국민 은 양심의 자유 를 가지 ㄴ다 . 제 20 조 ① 모든 국민 은 종교의 자유 를 가지 ㄴ다 . ② 국교 는 인정 되 지 아니하 \n",
      "하 며 , 종교 와 정치 는 분리 되 ㄴ다 . 제 21 조 ① 모든 국민 은 언론 · 출판 의 자유 와 집회 · 결사의 자유 를 가지 ㄴ다 \n",
      " 피해 의 배상 을 청구 하 ㄹ 수 있 다 . 제 22 조 ① 모든 국민 은 학문 과 예술 의 자유 를 가지 ㄴ다 . ② 저작자 · 발명가 \n"
     ]
    }
   ],
   "source": [
    "lawText.concordance('국민')"
   ]
  },
  {
   "cell_type": "code",
   "execution_count": 158,
   "id": "164ec6ce-333c-4e0a-b741-154c5729fa2f",
   "metadata": {},
   "outputs": [
    {
     "name": "stdout",
     "output_type": "stream",
     "text": [
      "국회 국가 법관 법원 국회의원 대통령 대한민국 정부 조국 공무원 헌법재판소 재판 타인 군사법원 판결 근로 여자 국정 국무회의\n",
      "대법원장\n"
     ]
    }
   ],
   "source": [
    "lawText.similar('국민')\n",
    "#'국민' 단어와 가장 연관성있는거. "
   ]
  },
  {
   "cell_type": "code",
   "execution_count": 159,
   "id": "7a54061c-e408-4bfb-b93f-35101b0dad2c",
   "metadata": {},
   "outputs": [
    {
     "name": "stdout",
     "output_type": "stream",
     "text": [
      "국민\n"
     ]
    }
   ],
   "source": [
    "lawText.similar('권력')"
   ]
  },
  {
   "cell_type": "code",
   "execution_count": 160,
   "id": "cb33e84b-ab96-486c-bcca-7bd3b441f96c",
   "metadata": {},
   "outputs": [
    {
     "name": "stdout",
     "output_type": "stream",
     "text": [
      "법률 국회의원 공무원 국무위원 법관 대법원장 국민 국회 국군 조약 정당 법원 국정 위원 대한민국 헌법 국가 정책 효력 발전\n"
     ]
    }
   ],
   "source": [
    "lawText.similar('대통령')"
   ]
  },
  {
   "cell_type": "code",
   "execution_count": 161,
   "id": "689d3c9f-6654-4cf7-8a4a-f207a04f4ea6",
   "metadata": {},
   "outputs": [
    {
     "name": "stdout",
     "output_type": "stream",
     "text": [
      "대통령 공무원 법관 국민 법원 국무위원 위원 대한민국 국회 법률 국가 국군 정당 이상 재판 군인 군사법원 여자 국정 감사원\n"
     ]
    }
   ],
   "source": [
    "lawText.similar('국회의원')"
   ]
  },
  {
   "cell_type": "code",
   "execution_count": 162,
   "id": "638d4a70-6d8b-4e5e-8ded-be08557cd236",
   "metadata": {},
   "outputs": [
    {
     "name": "stdout",
     "output_type": "stream",
     "text": [
      "국민 법관 법원 군사법원 국회의원 정부 국회 국가 국군 공무원 헌법재판소 전통문화 불가침 검사 인 피고인 재판 재산권 과학기술\n",
      "청원\n"
     ]
    }
   ],
   "source": [
    "lawText.similar('여자')"
   ]
  },
  {
   "cell_type": "code",
   "execution_count": 164,
   "id": "e207be11-9e3a-4030-a3a8-b399b9aeb0fc",
   "metadata": {},
   "outputs": [],
   "source": [
    "bigram = BigramCollocationFinder.from_words(ma['komoran'].morphs(law))"
   ]
  },
  {
   "cell_type": "code",
   "execution_count": 167,
   "id": "b758d4a8-8b84-4e5e-b198-3d469d7d9fe4",
   "metadata": {},
   "outputs": [
    {
     "data": {
      "text/plain": [
       "[('가부', '동수'),\n",
       " ('강제', '노역'),\n",
       " ('경자', '유전'),\n",
       " ('교전', '상태'),\n",
       " ('국립', '대학교'),\n",
       " ('군', '참모총장'),\n",
       " ('군용', '물'),\n",
       " ('궐위되거나', '사고'),\n",
       " ('더욱', '확고히'),\n",
       " ('도로', '발휘')]"
      ]
     },
     "execution_count": 167,
     "metadata": {},
     "output_type": "execute_result"
    }
   ],
   "source": [
    "bigram.nbest(BigramAssocMeasures.pmi, 10)"
   ]
  },
  {
   "cell_type": "code",
   "execution_count": 168,
   "id": "63a85ced-9ac1-4719-ac8a-3f9d9ae3006b",
   "metadata": {},
   "outputs": [
    {
     "data": {
      "text/plain": [
       "[('가부', '동수'),\n",
       " ('강제', '노역'),\n",
       " ('경자', '유전'),\n",
       " ('교전', '상태'),\n",
       " ('국립', '대학교'),\n",
       " ('군', '참모총장'),\n",
       " ('군용', '물'),\n",
       " ('궐위되거나', '사고'),\n",
       " ('내부', '규율'),\n",
       " ('더욱', '확고히')]"
      ]
     },
     "execution_count": 168,
     "metadata": {},
     "output_type": "execute_result"
    }
   ],
   "source": [
    "bigram.nbest(BigramAssocMeasures.chi_sq, 10)"
   ]
  },
  {
   "cell_type": "code",
   "execution_count": 173,
   "id": "970c7c66-b38d-410c-96ca-265cde6b9bc3",
   "metadata": {},
   "outputs": [],
   "source": [
    "# bigram 도 유의미한 단어 쌍들을 보여주고, 하나로 취급할 수도 있다. "
   ]
  },
  {
   "cell_type": "markdown",
   "id": "ed2a3914-2c85-4e69-ac36-9b135b39fde0",
   "metadata": {},
   "source": [
    "# n-gram"
   ]
  },
  {
   "cell_type": "code",
   "execution_count": null,
   "id": "8f6f6d02-1d1c-4fdf-ae75-919f3af0a900",
   "metadata": {},
   "outputs": [],
   "source": []
  }
 ],
 "metadata": {
  "kernelspec": {
   "display_name": "Python 3 (ipykernel)",
   "language": "python",
   "name": "python3"
  },
  "language_info": {
   "codemirror_mode": {
    "name": "ipython",
    "version": 3
   },
   "file_extension": ".py",
   "mimetype": "text/x-python",
   "name": "python",
   "nbconvert_exporter": "python",
   "pygments_lexer": "ipython3",
   "version": "3.10.1"
  },
  "widgets": {
   "application/vnd.jupyter.widget-state+json": {
    "state": {},
    "version_major": 2,
    "version_minor": 0
   }
  }
 },
 "nbformat": 4,
 "nbformat_minor": 5
}
