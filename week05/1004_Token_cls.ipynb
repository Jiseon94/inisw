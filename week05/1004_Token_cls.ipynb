{
 "cells": [
  {
   "cell_type": "code",
   "execution_count": 1,
   "id": "5fd58040-56d0-47b1-814d-2f8c8f972bd0",
   "metadata": {},
   "outputs": [],
   "source": [
    "from konlpy.tag import Okt"
   ]
  },
  {
   "cell_type": "code",
   "execution_count": 3,
   "id": "0d916bec-13cd-4275-87f7-cb641d4a435c",
   "metadata": {},
   "outputs": [
    {
     "data": {
      "text/plain": [
       "[('코로나', 'Noun'),\n",
       " ('극복', 'Noun'),\n",
       " ('이후', 'Noun'),\n",
       " ('해외여행', 'Noun'),\n",
       " ('수요', 'Noun'),\n",
       " ('가', 'Josa'),\n",
       " ('늘면서', 'Verb'),\n",
       " (',', 'Punctuation'),\n",
       " ('소비자', 'Noun'),\n",
       " ('상담', 'Noun'),\n",
       " ('과', 'Josa'),\n",
       " ('피해', 'Noun'),\n",
       " ('접수', 'Noun'),\n",
       " ('건', 'Noun'),\n",
       " ('수도', 'Noun'),\n",
       " ('증가', 'Noun')]"
      ]
     },
     "execution_count": 3,
     "metadata": {},
     "output_type": "execute_result"
    }
   ],
   "source": [
    "Okt().pos('코로나 극복 이후 해외여행 수요가 늘면서, 소비자 상담과 피해접수 건수도 증가')"
   ]
  },
  {
   "cell_type": "code",
   "execution_count": 5,
   "id": "9e383689-75ff-4014-8472-e4c0f2ea17e9",
   "metadata": {},
   "outputs": [],
   "source": [
    "from nltk.tokenize import regexp_tokenize"
   ]
  },
  {
   "cell_type": "code",
   "execution_count": 7,
   "id": "7c113571-fb0b-42eb-971e-00c8a2bf6cc5",
   "metadata": {},
   "outputs": [
    {
     "data": {
      "text/plain": [
       "['',\n",
       " '',\n",
       " '',\n",
       " '',\n",
       " '',\n",
       " '',\n",
       " '',\n",
       " '',\n",
       " '',\n",
       " '',\n",
       " '',\n",
       " '',\n",
       " '',\n",
       " '',\n",
       " '',\n",
       " '',\n",
       " '',\n",
       " '',\n",
       " '',\n",
       " '',\n",
       " '',\n",
       " '',\n",
       " '',\n",
       " '',\n",
       " '',\n",
       " '',\n",
       " '',\n",
       " '',\n",
       " '',\n",
       " '',\n",
       " '',\n",
       " '',\n",
       " '',\n",
       " '',\n",
       " '',\n",
       " '',\n",
       " '',\n",
       " '',\n",
       " '',\n",
       " '',\n",
       " '',\n",
       " '',\n",
       " '',\n",
       " '']"
      ]
     },
     "execution_count": 7,
     "metadata": {},
     "output_type": "execute_result"
    }
   ],
   "source": [
    "regexp_tokenize('코로나 극복 이후 해외여행 수요가 늘면서, 소비자 상담과 피해접수 건수도 증가',\n",
    "               '')"
   ]
  },
  {
   "cell_type": "code",
   "execution_count": null,
   "id": "ccd94e71-5561-4f1b-8c90-041cef1029d3",
   "metadata": {},
   "outputs": [],
   "source": [
    "KoNLPy 사이트\n",
    "\n",
    "1. JDK 1.8 | open jdk\n",
    "2. whl(윈도우)  X\n",
    "3. konlpy install\n",
    "\n",
    "경로를 찾을 수 없음 등 => java path 확인\n",
    "whl 설치 불가 => python, os bits 확인"
   ]
  },
  {
   "cell_type": "markdown",
   "id": "7b67c8a6-3ed4-47d2-9408-d18990cff6a4",
   "metadata": {},
   "source": [
    "# NLTK"
   ]
  },
  {
   "cell_type": "code",
   "execution_count": 8,
   "id": "b96d943b-54d8-43ce-aeae-b52b031a9f50",
   "metadata": {},
   "outputs": [],
   "source": [
    "# 가장 많이 쓰이고, 일반적인 toolkit 이라고 함. \n",
    "# 한국어, 일본어 지원 x. 중국어는 지원 O."
   ]
  },
  {
   "cell_type": "code",
   "execution_count": 9,
   "id": "7e235a43-8f3b-44f2-9e1a-d78173373dfc",
   "metadata": {},
   "outputs": [],
   "source": [
    "# from nltk.corpus import brown, gutenberg\n",
    "# brown 유명 대학에서.\n",
    "# gutenberg 는 코퍼스 자원이 많은 곳. \n",
    "\n",
    "# 그냥 코퍼스, 태그드 코퍼스가 있는데, \n",
    "\n",
    "# 왜 코퍼스부터 보냐면? 공통된 말뭉치를 보고 같은 결과를 바라볼테니."
   ]
  },
  {
   "cell_type": "code",
   "execution_count": 16,
   "id": "af4c7bc1-2bbd-4dca-8ce2-0d07c7b5977f",
   "metadata": {},
   "outputs": [
    {
     "name": "stderr",
     "output_type": "stream",
     "text": [
      "[nltk_data] Downloading package brown to\n",
      "[nltk_data]     C:\\Users\\user\\AppData\\Roaming\\nltk_data...\n",
      "[nltk_data]   Unzipping corpora\\brown.zip.\n",
      "[nltk_data] Downloading package gutenberg to\n",
      "[nltk_data]     C:\\Users\\user\\AppData\\Roaming\\nltk_data...\n",
      "[nltk_data]   Unzipping corpora\\gutenberg.zip.\n"
     ]
    },
    {
     "data": {
      "text/plain": [
       "True"
      ]
     },
     "execution_count": 16,
     "metadata": {},
     "output_type": "execute_result"
    }
   ],
   "source": [
    "import nltk\n",
    "\n",
    "nltk.download('brown')\n",
    "nltk.download('gutenberg')\n"
   ]
  },
  {
   "cell_type": "code",
   "execution_count": 26,
   "id": "0f8aa026-22dd-447c-804e-c97c4cfda5e6",
   "metadata": {},
   "outputs": [
    {
     "name": "stderr",
     "output_type": "stream",
     "text": [
      "[nltk_data] Error loading upenn: Package 'upenn' not found in index\n"
     ]
    },
    {
     "data": {
      "text/plain": [
       "False"
      ]
     },
     "execution_count": 26,
     "metadata": {},
     "output_type": "execute_result"
    }
   ],
   "source": [
    "nltk.download('upenn')"
   ]
  },
  {
   "cell_type": "code",
   "execution_count": 17,
   "id": "fb8f3f51-5429-425d-a4a3-b4f83749ae26",
   "metadata": {},
   "outputs": [],
   "source": [
    "from nltk.corpus import gutenberg"
   ]
  },
  {
   "cell_type": "code",
   "execution_count": 19,
   "id": "0407e601-fc7d-49e1-895a-213b020d1498",
   "metadata": {},
   "outputs": [],
   "source": [
    "emma = gutenberg.open(gutenberg.fileids()[0]).read()"
   ]
  },
  {
   "cell_type": "code",
   "execution_count": 22,
   "id": "ecc5a2a6-a4a6-4b87-a8d5-b1a99d150418",
   "metadata": {},
   "outputs": [],
   "source": [
    "from nltk.tokenize import sent_tokenize, word_tokenize\n",
    "from nltk.tokenize import regexp_tokenize, TweetTokenizer"
   ]
  },
  {
   "cell_type": "code",
   "execution_count": null,
   "id": "9a28423c-c3ae-4383-8a08-362cad20e356",
   "metadata": {},
   "outputs": [],
   "source": [
    "# PennTreebank (bin)\n",
    "펜실페니아 대학에서 연구한 영어 구문 자료를 준다고 함. \n",
    "영어에서 품사가 어떻게 되는지 등등 \n",
    "\n",
    "#Stanford(bin)\n",
    "\n",
    "얘네 사이트가서 바이너리 파일 받아와야한다함."
   ]
  },
  {
   "cell_type": "code",
   "execution_count": 28,
   "id": "2a4145c6-6fdb-4861-8ac8-672f5babc520",
   "metadata": {},
   "outputs": [],
   "source": [
    "from nltk.help import brown_tagset, upenn_tagset"
   ]
  },
  {
   "cell_type": "code",
   "execution_count": 27,
   "id": "1ea8a98c-ebef-43ea-8044-db85bfdd9dce",
   "metadata": {},
   "outputs": [
    {
     "name": "stderr",
     "output_type": "stream",
     "text": [
      "[nltk_data] Downloading package tagsets to\n",
      "[nltk_data]     C:\\Users\\user\\AppData\\Roaming\\nltk_data...\n",
      "[nltk_data]   Unzipping help\\tagsets.zip.\n"
     ]
    },
    {
     "data": {
      "text/plain": [
       "True"
      ]
     },
     "execution_count": 27,
     "metadata": {},
     "output_type": "execute_result"
    }
   ],
   "source": [
    "nltk.download('tagsets')"
   ]
  },
  {
   "cell_type": "code",
   "execution_count": 29,
   "id": "75dec65d-ad1c-40ad-abaf-f6c530aa34f1",
   "metadata": {},
   "outputs": [
    {
     "name": "stdout",
     "output_type": "stream",
     "text": [
      "$: dollar\n",
      "    $ -$ --$ A$ C$ HK$ M$ NZ$ S$ U.S.$ US$\n",
      "'': closing quotation mark\n",
      "    ' ''\n",
      "(: opening parenthesis\n",
      "    ( [ {\n",
      "): closing parenthesis\n",
      "    ) ] }\n",
      ",: comma\n",
      "    ,\n",
      "--: dash\n",
      "    --\n",
      ".: sentence terminator\n",
      "    . ! ?\n",
      ":: colon or ellipsis\n",
      "    : ; ...\n",
      "CC: conjunction, coordinating\n",
      "    & 'n and both but either et for less minus neither nor or plus so\n",
      "    therefore times v. versus vs. whether yet\n",
      "CD: numeral, cardinal\n",
      "    mid-1890 nine-thirty forty-two one-tenth ten million 0.5 one forty-\n",
      "    seven 1987 twenty '79 zero two 78-degrees eighty-four IX '60s .025\n",
      "    fifteen 271,124 dozen quintillion DM2,000 ...\n",
      "DT: determiner\n",
      "    all an another any both del each either every half la many much nary\n",
      "    neither no some such that the them these this those\n",
      "EX: existential there\n",
      "    there\n",
      "FW: foreign word\n",
      "    gemeinschaft hund ich jeux habeas Haementeria Herr K'ang-si vous\n",
      "    lutihaw alai je jour objets salutaris fille quibusdam pas trop Monte\n",
      "    terram fiche oui corporis ...\n",
      "IN: preposition or conjunction, subordinating\n",
      "    astride among uppon whether out inside pro despite on by throughout\n",
      "    below within for towards near behind atop around if like until below\n",
      "    next into if beside ...\n",
      "JJ: adjective or numeral, ordinal\n",
      "    third ill-mannered pre-war regrettable oiled calamitous first separable\n",
      "    ectoplasmic battery-powered participatory fourth still-to-be-named\n",
      "    multilingual multi-disciplinary ...\n",
      "JJR: adjective, comparative\n",
      "    bleaker braver breezier briefer brighter brisker broader bumper busier\n",
      "    calmer cheaper choosier cleaner clearer closer colder commoner costlier\n",
      "    cozier creamier crunchier cuter ...\n",
      "JJS: adjective, superlative\n",
      "    calmest cheapest choicest classiest cleanest clearest closest commonest\n",
      "    corniest costliest crassest creepiest crudest cutest darkest deadliest\n",
      "    dearest deepest densest dinkiest ...\n",
      "LS: list item marker\n",
      "    A A. B B. C C. D E F First G H I J K One SP-44001 SP-44002 SP-44005\n",
      "    SP-44007 Second Third Three Two * a b c d first five four one six three\n",
      "    two\n",
      "MD: modal auxiliary\n",
      "    can cannot could couldn't dare may might must need ought shall should\n",
      "    shouldn't will would\n",
      "NN: noun, common, singular or mass\n",
      "    common-carrier cabbage knuckle-duster Casino afghan shed thermostat\n",
      "    investment slide humour falloff slick wind hyena override subhumanity\n",
      "    machinist ...\n",
      "NNP: noun, proper, singular\n",
      "    Motown Venneboerger Czestochwa Ranzer Conchita Trumplane Christos\n",
      "    Oceanside Escobar Kreisler Sawyer Cougar Yvette Ervin ODI Darryl CTCA\n",
      "    Shannon A.K.C. Meltex Liverpool ...\n",
      "NNPS: noun, proper, plural\n",
      "    Americans Americas Amharas Amityvilles Amusements Anarcho-Syndicalists\n",
      "    Andalusians Andes Andruses Angels Animals Anthony Antilles Antiques\n",
      "    Apache Apaches Apocrypha ...\n",
      "NNS: noun, common, plural\n",
      "    undergraduates scotches bric-a-brac products bodyguards facets coasts\n",
      "    divestitures storehouses designs clubs fragrances averages\n",
      "    subjectivists apprehensions muses factory-jobs ...\n",
      "PDT: pre-determiner\n",
      "    all both half many quite such sure this\n",
      "POS: genitive marker\n",
      "    ' 's\n",
      "PRP: pronoun, personal\n",
      "    hers herself him himself hisself it itself me myself one oneself ours\n",
      "    ourselves ownself self she thee theirs them themselves they thou thy us\n",
      "PRP$: pronoun, possessive\n",
      "    her his mine my our ours their thy your\n",
      "RB: adverb\n",
      "    occasionally unabatingly maddeningly adventurously professedly\n",
      "    stirringly prominently technologically magisterially predominately\n",
      "    swiftly fiscally pitilessly ...\n",
      "RBR: adverb, comparative\n",
      "    further gloomier grander graver greater grimmer harder harsher\n",
      "    healthier heavier higher however larger later leaner lengthier less-\n",
      "    perfectly lesser lonelier longer louder lower more ...\n",
      "RBS: adverb, superlative\n",
      "    best biggest bluntest earliest farthest first furthest hardest\n",
      "    heartiest highest largest least less most nearest second tightest worst\n",
      "RP: particle\n",
      "    aboard about across along apart around aside at away back before behind\n",
      "    by crop down ever fast for forth from go high i.e. in into just later\n",
      "    low more off on open out over per pie raising start teeth that through\n",
      "    under unto up up-pp upon whole with you\n",
      "SYM: symbol\n",
      "    % & ' '' ''. ) ). * + ,. < = > @ A[fj] U.S U.S.S.R * ** ***\n",
      "TO: \"to\" as preposition or infinitive marker\n",
      "    to\n",
      "UH: interjection\n",
      "    Goodbye Goody Gosh Wow Jeepers Jee-sus Hubba Hey Kee-reist Oops amen\n",
      "    huh howdy uh dammit whammo shucks heck anyways whodunnit honey golly\n",
      "    man baby diddle hush sonuvabitch ...\n",
      "VB: verb, base form\n",
      "    ask assemble assess assign assume atone attention avoid bake balkanize\n",
      "    bank begin behold believe bend benefit bevel beware bless boil bomb\n",
      "    boost brace break bring broil brush build ...\n",
      "VBD: verb, past tense\n",
      "    dipped pleaded swiped regummed soaked tidied convened halted registered\n",
      "    cushioned exacted snubbed strode aimed adopted belied figgered\n",
      "    speculated wore appreciated contemplated ...\n",
      "VBG: verb, present participle or gerund\n",
      "    telegraphing stirring focusing angering judging stalling lactating\n",
      "    hankerin' alleging veering capping approaching traveling besieging\n",
      "    encrypting interrupting erasing wincing ...\n",
      "VBN: verb, past participle\n",
      "    multihulled dilapidated aerosolized chaired languished panelized used\n",
      "    experimented flourished imitated reunifed factored condensed sheared\n",
      "    unsettled primed dubbed desired ...\n",
      "VBP: verb, present tense, not 3rd person singular\n",
      "    predominate wrap resort sue twist spill cure lengthen brush terminate\n",
      "    appear tend stray glisten obtain comprise detest tease attract\n",
      "    emphasize mold postpone sever return wag ...\n",
      "VBZ: verb, present tense, 3rd person singular\n",
      "    bases reconstructs marks mixes displeases seals carps weaves snatches\n",
      "    slumps stretches authorizes smolders pictures emerges stockpiles\n",
      "    seduces fizzes uses bolsters slaps speaks pleads ...\n",
      "WDT: WH-determiner\n",
      "    that what whatever which whichever\n",
      "WP: WH-pronoun\n",
      "    that what whatever whatsoever which who whom whosoever\n",
      "WP$: WH-pronoun, possessive\n",
      "    whose\n",
      "WRB: Wh-adverb\n",
      "    how however whence whenever where whereby whereever wherein whereof why\n",
      "``: opening quotation mark\n",
      "    ` ``\n"
     ]
    }
   ],
   "source": [
    "upenn_tagset()\n",
    "\n",
    "#형태소 분석기 마다 다 다르다고 함. 거기서 성능이 달라진다고 함. "
   ]
  },
  {
   "cell_type": "markdown",
   "id": "56b7d679-3932-4b86-9758-d336fb2325dd",
   "metadata": {},
   "source": [
    "## Tokenizing => Morpheme Analaysis; for Feature ( Extraction / Selection)\n",
    "                                    => Data 대표하는 특징\n",
    "                                    => Model Complexity 감소\n",
    "                                    모델의 Complexity 는 줄일수있다면 줄이는게 좋다. 머신러닝의 목적에 부합.\n",
    "                                    복잡도가 올라갈수록 모델의 복잡도도 올라감. general 한 환경에서는 성능이 떨어진다고 함.\n",
    "                                    줄이는데 있어서 모델의 아키텍쳐 or Feature 를 줄일 수도 있다. \n",
    "문서(문헌) => 여러개의 문단으로 구성 => 여러개의 문장으로 구성\n",
    "가장 작은 단위를 찾아야함. = 문장을 찾아야함. \n",
    "sent_tokenize 를 통해서 찾는편이다."
   ]
  },
  {
   "cell_type": "code",
   "execution_count": 32,
   "id": "6b06afe2-682a-4490-88b1-03a3010dad55",
   "metadata": {},
   "outputs": [
    {
     "name": "stderr",
     "output_type": "stream",
     "text": [
      "[nltk_data] Downloading package punkt to\n",
      "[nltk_data]     C:\\Users\\user\\AppData\\Roaming\\nltk_data...\n",
      "[nltk_data]   Unzipping tokenizers\\punkt.zip.\n"
     ]
    },
    {
     "data": {
      "text/plain": [
       "True"
      ]
     },
     "execution_count": 32,
     "metadata": {},
     "output_type": "execute_result"
    }
   ],
   "source": [
    "nltk.download('punkt')\n",
    "#구두점을 다운받은 거임."
   ]
  },
  {
   "cell_type": "code",
   "execution_count": 34,
   "id": "0f10a847-7ca8-49bf-94d0-6c890bf6e322",
   "metadata": {},
   "outputs": [
    {
     "data": {
      "text/plain": [
       "(16823, 7493)"
      ]
     },
     "execution_count": 34,
     "metadata": {},
     "output_type": "execute_result"
    }
   ],
   "source": [
    "len(emma.splitlines()) ,len(sent_tokenize(emma))\n",
    "#왼쪽은 엔터를 쳤을때마다, 오른쪽은 의미적으로 분석할 단위인거임. 문장 단위로 \n",
    "#결국, 누굴 기준으로 자르는지가 중요. "
   ]
  },
  {
   "cell_type": "code",
   "execution_count": 35,
   "id": "21aaece6-eb55-4adf-a34a-e4be57ee774d",
   "metadata": {},
   "outputs": [],
   "source": [
    "from string import punctuation"
   ]
  },
  {
   "cell_type": "code",
   "execution_count": 36,
   "id": "3fc4ef58-6e09-4675-a72f-e81f04053876",
   "metadata": {},
   "outputs": [
    {
     "data": {
      "text/plain": [
       "'!\"#$%&\\'()*+,-./:;<=>?@[\\\\]^_`{|}~'"
      ]
     },
     "execution_count": 36,
     "metadata": {},
     "output_type": "execute_result"
    }
   ],
   "source": [
    "punctuation"
   ]
  },
  {
   "cell_type": "code",
   "execution_count": 41,
   "id": "024cd556-0c00-49e8-8e3a-26b70f734c4b",
   "metadata": {},
   "outputs": [],
   "source": [
    "from nltk import punkt"
   ]
  },
  {
   "cell_type": "code",
   "execution_count": 43,
   "id": "0097beb2-f9f7-4cd1-9c9d-cabef91a220e",
   "metadata": {},
   "outputs": [
    {
     "data": {
      "text/plain": [
       "['아버지가 방에 들어가신다 아버지가 방에 들어가셨다']"
      ]
     },
     "execution_count": 43,
     "metadata": {},
     "output_type": "execute_result"
    }
   ],
   "source": [
    "sent_tokenize('아버지가 방에 들어가신다 아버지가 방에 들어가셨다')\n",
    "#구둣점이 없는 문장임. => 하나의 문장으로 인식함. "
   ]
  },
  {
   "cell_type": "code",
   "execution_count": 44,
   "id": "446ee251-ccef-4484-be39-1757670519ca",
   "metadata": {},
   "outputs": [
    {
     "data": {
      "text/plain": [
       "['아버지가 방에 들어가신다.', '아버지가 방에 들어가셨다']"
      ]
     },
     "execution_count": 44,
     "metadata": {},
     "output_type": "execute_result"
    }
   ],
   "source": [
    "sent_tokenize('아버지가 방에 들어가신다. 아버지가 방에 들어가셨다')"
   ]
  },
  {
   "cell_type": "code",
   "execution_count": 45,
   "id": "689fa049-6f56-4909-ba50-a63dcc98e5ea",
   "metadata": {},
   "outputs": [
    {
     "data": {
      "text/plain": [
       "['아버지가 방에 들어가신다.아버지가 방에 들어가셨다']"
      ]
     },
     "execution_count": 45,
     "metadata": {},
     "output_type": "execute_result"
    }
   ],
   "source": [
    "sent_tokenize('아버지가 방에 들어가신다.아버지가 방에 들어가셨다')"
   ]
  },
  {
   "cell_type": "code",
   "execution_count": 46,
   "id": "c85a270e-24ef-4c27-88ae-f0545f9555b5",
   "metadata": {},
   "outputs": [],
   "source": [
    "#이게 다 영어식으로 쪼개서 그런거임. white space 기준으로 쪼개니까. \n",
    "# .바로 뒤에 단어를 붙이면 약어로 인식함. "
   ]
  },
  {
   "cell_type": "code",
   "execution_count": 47,
   "id": "76684e5b-00ed-444e-9837-fe706e505f82",
   "metadata": {},
   "outputs": [
    {
     "data": {
      "text/plain": [
       "['아버지가 방에 들어가신다...아버지가 방에 들어가셨다']"
      ]
     },
     "execution_count": 47,
     "metadata": {},
     "output_type": "execute_result"
    }
   ],
   "source": [
    "sent_tokenize('아버지가 방에 들어가신다...아버지가 방에 들어가셨다')"
   ]
  },
  {
   "cell_type": "code",
   "execution_count": 48,
   "id": "b04d9d0f-45de-46a9-b5df-edccad6708b4",
   "metadata": {},
   "outputs": [
    {
     "data": {
      "text/plain": [
       "['아버지가 방에 들어가신다... 아버지가 방에 들어가셨다']"
      ]
     },
     "execution_count": 48,
     "metadata": {},
     "output_type": "execute_result"
    }
   ],
   "source": [
    "sent_tokenize('아버지가 방에 들어가신다... 아버지가 방에 들어가셨다')"
   ]
  },
  {
   "cell_type": "code",
   "execution_count": 49,
   "id": "cab8ecf7-2eff-4852-a07b-fe5ddc7ed13f",
   "metadata": {},
   "outputs": [
    {
     "data": {
      "text/plain": [
       "['아버지가 방에 들어가신다!', '아버지가 방에 들어가셨다']"
      ]
     },
     "execution_count": 49,
     "metadata": {},
     "output_type": "execute_result"
    }
   ],
   "source": [
    "sent_tokenize('아버지가 방에 들어가신다! 아버지가 방에 들어가셨다')"
   ]
  },
  {
   "cell_type": "code",
   "execution_count": 50,
   "id": "58eb76bd-afb5-44c8-b31a-d232823e183c",
   "metadata": {},
   "outputs": [
    {
     "data": {
      "text/plain": [
       "['아버지가 방에 들어가신다?', '아버지가 방에 들어가셨다']"
      ]
     },
     "execution_count": 50,
     "metadata": {},
     "output_type": "execute_result"
    }
   ],
   "source": [
    "sent_tokenize('아버지가 방에 들어가신다? 아버지가 방에 들어가셨다')"
   ]
  },
  {
   "cell_type": "code",
   "execution_count": 51,
   "id": "45637248-651a-4058-9b2f-a68cf4597c92",
   "metadata": {},
   "outputs": [
    {
     "data": {
      "text/plain": [
       "['아버지가 방에 들어가신다:=) 아버지가 방에 들어가셨다']"
      ]
     },
     "execution_count": 51,
     "metadata": {},
     "output_type": "execute_result"
    }
   ],
   "source": [
    "sent_tokenize('아버지가 방에 들어가신다:=) 아버지가 방에 들어가셨다')"
   ]
  },
  {
   "cell_type": "code",
   "execution_count": 52,
   "id": "ea51ee76-74ef-48de-859b-77648cb5ad99",
   "metadata": {},
   "outputs": [
    {
     "data": {
      "text/plain": [
       "['\\n아버지가 방에 들어가신다\\n아버지가 방에 들어가셨다']"
      ]
     },
     "execution_count": 52,
     "metadata": {},
     "output_type": "execute_result"
    }
   ],
   "source": [
    "sent_tokenize('''\n",
    "아버지가 방에 들어가신다\n",
    "아버지가 방에 들어가셨다\n",
    "''')"
   ]
  },
  {
   "cell_type": "code",
   "execution_count": 53,
   "id": "ab04425e-4896-41e1-99d1-328e7fc7fcdd",
   "metadata": {},
   "outputs": [
    {
     "data": {
      "text/plain": [
       "['\\n아버지가 방에 들어가신다:-)\\n아버지가 방에 들어가셨다']"
      ]
     },
     "execution_count": 53,
     "metadata": {},
     "output_type": "execute_result"
    }
   ],
   "source": [
    "sent_tokenize('''\n",
    "아버지가 방에 들어가신다:-)\n",
    "아버지가 방에 들어가셨다\n",
    "''')"
   ]
  },
  {
   "cell_type": "code",
   "execution_count": 54,
   "id": "6a2534f4-b9ea-4b97-b4ab-cd35d36c31be",
   "metadata": {},
   "outputs": [
    {
     "data": {
      "text/plain": [
       "['\\n\"아버지가 방에 들어가신다\"라고 누가 얘기했다.', '아버지가 방에 들어가셨다']"
      ]
     },
     "execution_count": 54,
     "metadata": {},
     "output_type": "execute_result"
    }
   ],
   "source": [
    "sent_tokenize('''\n",
    "\"아버지가 방에 들어가신다\"라고 누가 얘기했다.\n",
    "아버지가 방에 들어가셨다\n",
    "''')"
   ]
  },
  {
   "cell_type": "code",
   "execution_count": 55,
   "id": "84250837-c7a0-4313-8fe6-16a0f2e90ecb",
   "metadata": {},
   "outputs": [
    {
     "data": {
      "text/plain": [
       "['\\n\"아버지가 방에 들어가신다.', '\"라고 누가 얘기했다.', '아버지가 방에 들어가셨다']"
      ]
     },
     "execution_count": 55,
     "metadata": {},
     "output_type": "execute_result"
    }
   ],
   "source": [
    "sent_tokenize('''\n",
    "\"아버지가 방에 들어가신다.\"라고 누가 얘기했다.\n",
    "아버지가 방에 들어가셨다\n",
    "''')"
   ]
  },
  {
   "cell_type": "code",
   "execution_count": null,
   "id": "24d92038-32b9-41e9-bdc9-ff1ee703dd74",
   "metadata": {},
   "outputs": [],
   "source": [
    "#결국 마침표, 물음표, 느낌표가  sent_tokenize 쓸때 제일 중요한거. \n",
    "# => 문장의 최소단위. string 객체의 new line 으로 자르는거랑 다름. \n",
    "# => 구두점이 명확하게 달려있어야한다. 이모티콘은 지원하지 않음을 알 수 있다. 인용문 지원 X. "
   ]
  },
  {
   "cell_type": "code",
   "execution_count": 56,
   "id": "a2aa2566-1915-4f42-8e06-57aa908992ce",
   "metadata": {},
   "outputs": [
    {
     "data": {
      "text/plain": [
       "['\\n\"아버지가 방에 들어가신다\"라고 누가 얘기했다.', '아버지가 방에 들어가셨다']"
      ]
     },
     "execution_count": 56,
     "metadata": {},
     "output_type": "execute_result"
    }
   ],
   "source": [
    "sent_tokenize('''\n",
    "\"아버지가 방에 들어가신다\"라고 누가 얘기했다.\n",
    "아버지가 방에 들어가셨다\n",
    "''')\n",
    "#얘는 안짤라준다;;;"
   ]
  },
  {
   "cell_type": "markdown",
   "id": "16a98ec3-1b8d-4ac7-8ad6-b9108737336a",
   "metadata": {},
   "source": [
    "## word tokenize"
   ]
  },
  {
   "cell_type": "code",
   "execution_count": 57,
   "id": "b11cd223-dc7a-4c58-a62f-22b9a69c413d",
   "metadata": {},
   "outputs": [
    {
     "data": {
      "text/plain": [
       "['아버지가', '방에', '들어가신다', '.']"
      ]
     },
     "execution_count": 57,
     "metadata": {},
     "output_type": "execute_result"
    }
   ],
   "source": [
    "word_tokenize('아버지가 방에 들어가신다.')\n",
    "#구둣점도 별개의 토큰으로 쪼개져있음을 볼 수 잇다."
   ]
  },
  {
   "cell_type": "code",
   "execution_count": 58,
   "id": "06544eee-e3ff-4d3b-9be8-1efec30c0e6b",
   "metadata": {},
   "outputs": [
    {
     "data": {
      "text/plain": [
       "['아버지가', '방에', '들어가신다.', '아버지가', '방에', '들어가신다', '.']"
      ]
     },
     "execution_count": 58,
     "metadata": {},
     "output_type": "execute_result"
    }
   ],
   "source": [
    "word_tokenize('아버지가 방에 들어가신다. 아버지가 방에 들어가신다.',\n",
    "             preserve_line=True)"
   ]
  },
  {
   "cell_type": "code",
   "execution_count": 59,
   "id": "bc00c2e7-2663-480a-a740-26faaa3f5848",
   "metadata": {},
   "outputs": [
    {
     "data": {
      "text/plain": [
       "['아버지가', '방에', '들어가신다', '.', '아버지가', '방에', '들어가신다', '.']"
      ]
     },
     "execution_count": 59,
     "metadata": {},
     "output_type": "execute_result"
    }
   ],
   "source": [
    "word_tokenize('아버지가 방에 들어가신다. 아버지가 방에 들어가신다.',\n",
    "             preserve_line=False)"
   ]
  },
  {
   "cell_type": "code",
   "execution_count": 60,
   "id": "41e0d9cd-59d5-4d8c-8ce1-fa7cf58730e8",
   "metadata": {},
   "outputs": [],
   "source": [
    "#이건 다 확률모델이다. \n",
    "# P(어떤단어A, 어떤단어B, 어떤단어C...,.)\n",
    "# mle 가지고 추정한다고 칠때, 전체 구둣점으로 기준을 삼으니... \n",
    "# 근데 True 라고 하면... 최종적인 구둣점만 따로 보는?......\n",
    "# 주로 어떤 표현으로 끝났는지를 보는거임. "
   ]
  },
  {
   "cell_type": "code",
   "execution_count": 62,
   "id": "1a413054-2459-4f5e-80a8-c40581ab7a81",
   "metadata": {},
   "outputs": [
    {
     "data": {
      "text/plain": [
       "['D.C',\n",
       " '``',\n",
       " '아버지가',\n",
       " '방에',\n",
       " '들어가신다',\n",
       " '.',\n",
       " '``',\n",
       " '라고',\n",
       " '누가',\n",
       " '얘기했다',\n",
       " '.',\n",
       " '아버지가',\n",
       " '방에',\n",
       " '들어가신다',\n",
       " '.']"
      ]
     },
     "execution_count": 62,
     "metadata": {},
     "output_type": "execute_result"
    }
   ],
   "source": [
    "word_tokenize('D.C \"아버지가 방에 들어가신다.\"라고 누가 얘기했다. 아버지가 방에 들어가신다.',\n",
    "             preserve_line=False)\n",
    "\n",
    "#sent_tokenize 랑 비교해서 봐야해. "
   ]
  },
  {
   "cell_type": "code",
   "execution_count": 66,
   "id": "b72abcf6-4286-4a15-98e1-49502d8f0e57",
   "metadata": {},
   "outputs": [
    {
     "data": {
      "text/plain": [
       "['D.C',\n",
       " 'I',\n",
       " \"'d\",\n",
       " 'like',\n",
       " '-',\n",
       " '``',\n",
       " '아버지',\n",
       " '가방에',\n",
       " '들어가신다',\n",
       " '.',\n",
       " '``',\n",
       " '라고',\n",
       " '누가',\n",
       " '얘기했다',\n",
       " '.',\n",
       " '아버지가',\n",
       " '방에',\n",
       " '들어가신다',\n",
       " '.']"
      ]
     },
     "execution_count": 66,
     "metadata": {},
     "output_type": "execute_result"
    }
   ],
   "source": [
    "word_tokenize('''\n",
    "D.C I'd like - \"아버지 가방에 들어가신다.\"라고 누가 얘기했다. 아버지가 방에 들어가신다.\n",
    "''',\n",
    "             preserve_line=False)\n",
    "\n",
    "# 영어에서는 length가 3보다 작은게 얼마 없다. 의미를 담당하는 애들이 거의 없다. a, an 이런거. \n",
    "# 우리나라 말과 달리.. 우리나라말은 1음절이더라도 의미가 크다. "
   ]
  },
  {
   "cell_type": "markdown",
   "id": "e2d4c7f8-2a5e-4bf4-9231-f9af39aca7bd",
   "metadata": {},
   "source": [
    "### regular expression tokenize 정규식 토크나이저"
   ]
  },
  {
   "cell_type": "code",
   "execution_count": 68,
   "id": "48a05bfb-14eb-456b-98f6-4fcbddc61cdd",
   "metadata": {},
   "outputs": [
    {
     "data": {
      "text/plain": [
       "15203"
      ]
     },
     "execution_count": 68,
     "metadata": {},
     "output_type": "execute_result"
    }
   ],
   "source": [
    "len(regexp_tokenize(emma, r'\\b[A-Z]\\w+\\b'))"
   ]
  },
  {
   "cell_type": "code",
   "execution_count": 69,
   "id": "850ef101-bd5c-4534-a829-ac25b1172612",
   "metadata": {},
   "outputs": [
    {
     "data": {
      "text/plain": [
       "161983"
      ]
     },
     "execution_count": 69,
     "metadata": {},
     "output_type": "execute_result"
    }
   ],
   "source": [
    "len(regexp_tokenize(emma, r'\\b\\w+\\b'))\n",
    "#두 식의 차이는 대문자로 시작하느냐 마느냐의 차이임. 그냥 자르면 16만개가 나오는데.\n",
    "#대문자로 시작하는 애들은 1만5천개가 나오는거임. \n",
    "# 그래서 첫 표현에 뭐가 들어갔느냐(영어에서), \n",
    "# 혹은 마지막꺼를 어떻게 했느냐. "
   ]
  },
  {
   "cell_type": "code",
   "execution_count": 72,
   "id": "fd6c32cf-d6a2-4a45-b03b-e3a6ac8399f5",
   "metadata": {},
   "outputs": [
    {
     "data": {
      "text/plain": [
       "['아버지가', '방에', '들어가신다', '라고', '누가', '얘기했다', '아버지가', '방에', '들어가셨다']"
      ]
     },
     "execution_count": 72,
     "metadata": {},
     "output_type": "execute_result"
    }
   ],
   "source": [
    "#그래서 한글에서는 어떻게 동작하는가\n",
    "regexp_tokenize('''\n",
    "\"아버지가 방에 들어가신다.\"라고 누가 얘기했다. \n",
    "아버지가 방에 들어가셨다\n",
    "''', r'\\b\\w+\\b')"
   ]
  },
  {
   "cell_type": "code",
   "execution_count": 80,
   "id": "fe2a4b13-80e6-4c15-8aab-69b2510bc5ba",
   "metadata": {},
   "outputs": [
    {
     "data": {
      "text/plain": [
       "['아버지가',\n",
       " '방에',\n",
       " '들어가신다',\n",
       " '라고',\n",
       " '누가',\n",
       " '얘기했다',\n",
       " '아버지가',\n",
       " '방에',\n",
       " '들어가셨다',\n",
       " '넘나',\n",
       " '슬퍼썽',\n",
       " 'ㅠㅠ',\n",
       " '123813',\n",
       " 'adhfisjdf',\n",
       " 'zㅣ대']"
      ]
     },
     "execution_count": 80,
     "metadata": {},
     "output_type": "execute_result"
    }
   ],
   "source": [
    "regexp_tokenize('''\n",
    "\"아버지가 방에 들어가신다.\"라고 누가 얘기했다. \n",
    "아버지가 방에 들어가셨다\n",
    "넘나 슬퍼썽 ㅠㅠ \n",
    "123813\n",
    "adhfisjdf\n",
    "zㅣ대\n",
    "''', r'\\b\\w+\\b')"
   ]
  },
  {
   "cell_type": "code",
   "execution_count": 76,
   "id": "1300eeca-b0a1-4cce-9d08-8cef127807a8",
   "metadata": {},
   "outputs": [
    {
     "data": {
      "text/plain": [
       "['아버지가', '방에', '들어가신다', '라고', '누가', '얘기했다', '아버지가', '방에', '들어가셨다', '넘나', '슬퍼썽']"
      ]
     },
     "execution_count": 76,
     "metadata": {},
     "output_type": "execute_result"
    }
   ],
   "source": [
    "regexp_tokenize('''\n",
    "\"아버지가 방에 들어가신다.\"라고 누가 얘기했다. \n",
    "아버지가 방에 들어가셨다\n",
    "넘나 슬퍼썽 ㅠㅠ \n",
    "123813\n",
    "adhfisjdf\n",
    "''', r'\\b[가-힣]+\\b')"
   ]
  },
  {
   "cell_type": "code",
   "execution_count": 79,
   "id": "d9f2987c-e47a-412b-a86d-4d31cd3445c8",
   "metadata": {},
   "outputs": [
    {
     "data": {
      "text/plain": [
       "['ㅠㅠ']"
      ]
     },
     "execution_count": 79,
     "metadata": {},
     "output_type": "execute_result"
    }
   ],
   "source": [
    "regexp_tokenize('''\n",
    "\"아버지가 방에 들어가신다.\"라고 누가 얘기했다. \n",
    "아버지가 방에 들어가셨다\n",
    "넘나 슬퍼썽 ㅠㅠ \n",
    "123813\n",
    "adhfisjdf\n",
    "zㅣ대\n",
    "''', r'\\b[ㅠㅠ]{2,}\\b')"
   ]
  },
  {
   "cell_type": "code",
   "execution_count": 81,
   "id": "c1ec23ce-b05e-4be2-9dc6-eb650af6abbd",
   "metadata": {},
   "outputs": [],
   "source": [
    "#텍스트에서 감성분석할때 ㅠㅠ 같은 이모티콘을 많이 확인함. "
   ]
  },
  {
   "cell_type": "markdown",
   "id": "10ededac-cc4e-4ce1-a710-a5b3276d3186",
   "metadata": {},
   "source": [
    "### TweetTokenizer\n",
    "트위터 안에 짧은 문장 안에서 분석하기 위해서 만들어진 함수"
   ]
  },
  {
   "cell_type": "code",
   "execution_count": 83,
   "id": "ad058674-5c9b-46ee-b7ca-d4a169f19022",
   "metadata": {},
   "outputs": [
    {
     "data": {
      "text/plain": [
       "['\"',\n",
       " '아버지가',\n",
       " '방에',\n",
       " '들어가신다',\n",
       " '.',\n",
       " '\"',\n",
       " '라고',\n",
       " '누가',\n",
       " '얘기했다',\n",
       " '.',\n",
       " '아버지가',\n",
       " '방에',\n",
       " '들어가셨다',\n",
       " '넘나',\n",
       " '슬퍼썽',\n",
       " 'ㅠㅠ',\n",
       " ':-)']"
      ]
     },
     "execution_count": 83,
     "metadata": {},
     "output_type": "execute_result"
    }
   ],
   "source": [
    "TweetTokenizer().tokenize('''\n",
    "\"아버지가 방에 들어가신다.\"라고 누가 얘기했다. \n",
    "아버지가 방에 들어가셨다\n",
    "넘나 슬퍼썽 ㅠㅠ \n",
    ":-)\n",
    "'''\n",
    ")"
   ]
  },
  {
   "cell_type": "code",
   "execution_count": 97,
   "id": "b37367d6-5359-4cfe-83b0-07757e488a5a",
   "metadata": {},
   "outputs": [],
   "source": [
    "#한국어로 구두점 토큰화는 부족하다. \n",
    "# 왜냐고? 교착어, 형태소들이 ... \n",
    "# 우리나라말은 형태소 단위로 분석해야 한다. => KoNLPy\n",
    "# 영어에도 형태소 분석기가 있다."
   ]
  },
  {
   "cell_type": "code",
   "execution_count": 85,
   "id": "9f2973b0-786a-4df8-a42e-1b7aa9787711",
   "metadata": {},
   "outputs": [],
   "source": [
    "from nltk.tag import pos_tag"
   ]
  },
  {
   "cell_type": "markdown",
   "id": "c5a3eaa7-56d9-47f6-8a87-3bd53d101a0e",
   "metadata": {},
   "source": [
    "##### Use NLTK's currently recommended part of speech tagger to \n",
    "tag the given list of tokens."
   ]
  },
  {
   "cell_type": "code",
   "execution_count": 87,
   "id": "f703dd09-e67f-4dcc-bdb8-add45449ebaf",
   "metadata": {},
   "outputs": [],
   "source": [
    "emma_sentences = sent_tokenize(emma)"
   ]
  },
  {
   "cell_type": "code",
   "execution_count": 89,
   "id": "aa989f7e-0ffe-437e-ace5-9c0e7dc7d53b",
   "metadata": {},
   "outputs": [
    {
     "name": "stderr",
     "output_type": "stream",
     "text": [
      "[nltk_data] Downloading package averaged_perceptron_tagger to\n",
      "[nltk_data]     C:\\Users\\user\\AppData\\Roaming\\nltk_data...\n",
      "[nltk_data]   Unzipping taggers\\averaged_perceptron_tagger.zip.\n"
     ]
    },
    {
     "data": {
      "text/plain": [
       "True"
      ]
     },
     "execution_count": 89,
     "metadata": {},
     "output_type": "execute_result"
    }
   ],
   "source": [
    "nltk.download('averaged_perceptron_tagger')"
   ]
  },
  {
   "cell_type": "code",
   "execution_count": 90,
   "id": "99590dfe-2f4b-4f54-82ba-5008354930dd",
   "metadata": {},
   "outputs": [
    {
     "data": {
      "text/plain": [
       "[('She', 'PRP'),\n",
       " ('was', 'VBD'),\n",
       " ('the', 'DT'),\n",
       " ('youngest', 'JJS'),\n",
       " ('of', 'IN'),\n",
       " ('the', 'DT'),\n",
       " ('two', 'CD'),\n",
       " ('daughters', 'NNS'),\n",
       " ('of', 'IN'),\n",
       " ('a', 'DT'),\n",
       " ('most', 'RBS'),\n",
       " ('affectionate', 'JJ'),\n",
       " (',', ','),\n",
       " ('indulgent', 'JJ'),\n",
       " ('father', 'NN'),\n",
       " (';', ':'),\n",
       " ('and', 'CC'),\n",
       " ('had', 'VBD'),\n",
       " (',', ','),\n",
       " ('in', 'IN'),\n",
       " ('consequence', 'NN'),\n",
       " ('of', 'IN'),\n",
       " ('her', 'PRP$'),\n",
       " ('sister', 'NN'),\n",
       " (\"'s\", 'POS'),\n",
       " ('marriage', 'NN'),\n",
       " (',', ','),\n",
       " ('been', 'VBN'),\n",
       " ('mistress', 'NN'),\n",
       " ('of', 'IN'),\n",
       " ('his', 'PRP$'),\n",
       " ('house', 'NN'),\n",
       " ('from', 'IN'),\n",
       " ('a', 'DT'),\n",
       " ('very', 'RB'),\n",
       " ('early', 'JJ'),\n",
       " ('period', 'NN'),\n",
       " ('.', '.')]"
      ]
     },
     "execution_count": 90,
     "metadata": {},
     "output_type": "execute_result"
    }
   ],
   "source": [
    "pos_tag(word_tokenize(emma_sentences[1]))"
   ]
  },
  {
   "cell_type": "code",
   "execution_count": 91,
   "id": "48cd355a-a80a-461e-9c3d-e65d8fe67473",
   "metadata": {},
   "outputs": [
    {
     "name": "stdout",
     "output_type": "stream",
     "text": [
      "PRP: pronoun, personal\n",
      "    hers herself him himself hisself it itself me myself one oneself ours\n",
      "    ourselves ownself self she thee theirs them themselves they thou thy us\n"
     ]
    }
   ],
   "source": [
    "upenn_tagset('PRP')"
   ]
  },
  {
   "cell_type": "code",
   "execution_count": 92,
   "id": "d5e423a0-ffad-4203-9ae1-7f8de435e8b4",
   "metadata": {},
   "outputs": [
    {
     "name": "stdout",
     "output_type": "stream",
     "text": [
      "No matching tags found.\n"
     ]
    }
   ],
   "source": [
    "brown_tagset('PRP')"
   ]
  },
  {
   "cell_type": "code",
   "execution_count": 93,
   "id": "f933aeab-3638-467c-8bff-985092ee9d9a",
   "metadata": {},
   "outputs": [],
   "source": [
    "#품사는 태그셋에 의해 결정되는데, 펜실베니아꺼를 사용한다는거다. "
   ]
  },
  {
   "cell_type": "code",
   "execution_count": 95,
   "id": "62d4c205-8e55-4624-aee5-e861700274c2",
   "metadata": {},
   "outputs": [
    {
     "data": {
      "text/plain": [
       "[('She', 'PRP')]"
      ]
     },
     "execution_count": 95,
     "metadata": {},
     "output_type": "execute_result"
    }
   ],
   "source": [
    "list(filter(lambda r:r[1] == 'PRP',\n",
    "       pos_tag(word_tokenize(emma_sentences[1]))))"
   ]
  },
  {
   "cell_type": "code",
   "execution_count": 96,
   "id": "5fb0d399-46a3-486b-b7e5-4d89eafdab54",
   "metadata": {},
   "outputs": [
    {
     "data": {
      "text/plain": [
       "[('father', 'NN'),\n",
       " ('consequence', 'NN'),\n",
       " ('sister', 'NN'),\n",
       " ('marriage', 'NN'),\n",
       " ('mistress', 'NN'),\n",
       " ('house', 'NN'),\n",
       " ('period', 'NN')]"
      ]
     },
     "execution_count": 96,
     "metadata": {},
     "output_type": "execute_result"
    }
   ],
   "source": [
    "list(filter(lambda r:r[1] == 'NN',\n",
    "       pos_tag(word_tokenize(emma_sentences[1]))))"
   ]
  },
  {
   "cell_type": "markdown",
   "id": "4f2bc308-2bd2-4157-8c63-bc67c8f8006f",
   "metadata": {},
   "source": [
    "#### 뉴라인과 문장 분리 달랐음을 확인했음"
   ]
  },
  {
   "cell_type": "code",
   "execution_count": 98,
   "id": "c543d38b-87cb-487a-aa3a-a9fc2df9bfa6",
   "metadata": {},
   "outputs": [
    {
     "data": {
      "text/plain": [
       "(191785, 161983)"
      ]
     },
     "execution_count": 98,
     "metadata": {},
     "output_type": "execute_result"
    }
   ],
   "source": [
    "len(word_tokenize(emma)), len(regexp_tokenize(emma, r'\\b\\w+\\b'))"
   ]
  },
  {
   "cell_type": "code",
   "execution_count": 99,
   "id": "8d9706a0-a365-4fd2-b0f2-a31db9a1b194",
   "metadata": {},
   "outputs": [
    {
     "data": {
      "text/plain": [
       "193228"
      ]
     },
     "execution_count": 99,
     "metadata": {},
     "output_type": "execute_result"
    }
   ],
   "source": [
    "len(TweetTokenizer().tokenize(emma))"
   ]
  },
  {
   "cell_type": "code",
   "execution_count": 100,
   "id": "69ac3fc6-b4b3-47d1-97eb-0a37bc535dd8",
   "metadata": {},
   "outputs": [],
   "source": [
    "# 위의 개수가 다 다름. feature의 수가 달라졌음. 더 중요한애, 덜 중요한애 .\n",
    "# 토큰으로 만들어진 빈도가 달라짐. . . \n",
    "# 토큰화된 결과가 다르니.. 확률값이 다르다. "
   ]
  },
  {
   "cell_type": "markdown",
   "id": "dcfe06fc-54de-4c17-aab0-3951ff35f5a8",
   "metadata": {},
   "source": [
    "# 자연어가 가지는 특징\n",
    "수학적으로 증명된건 아니지만, 아주아주 중요함.\n",
    "이 법칙에서 어긋나면 일반적인 텍스트 데이터가 아님."
   ]
  },
  {
   "cell_type": "code",
   "execution_count": null,
   "id": "c9fc17f8-3316-4cad-a307-6f4db687dd0e",
   "metadata": {},
   "outputs": [],
   "source": []
  }
 ],
 "metadata": {
  "kernelspec": {
   "display_name": "Python 3 (ipykernel)",
   "language": "python",
   "name": "python3"
  },
  "language_info": {
   "codemirror_mode": {
    "name": "ipython",
    "version": 3
   },
   "file_extension": ".py",
   "mimetype": "text/x-python",
   "name": "python",
   "nbconvert_exporter": "python",
   "pygments_lexer": "ipython3",
   "version": "3.10.1"
  },
  "widgets": {
   "application/vnd.jupyter.widget-state+json": {
    "state": {},
    "version_major": 2,
    "version_minor": 0
   }
  }
 },
 "nbformat": 4,
 "nbformat_minor": 5
}
