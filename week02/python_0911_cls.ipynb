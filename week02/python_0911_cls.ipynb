{
 "cells": [
  {
   "cell_type": "code",
   "execution_count": null,
   "id": "b468d4fc-0fff-4fc3-8088-30d53de371c8",
   "metadata": {},
   "outputs": [],
   "source": [
    "class A:\n",
    "    def __init__(self, x):\n",
    "        self.x = x\n",
    "    def tt(self):\n",
    "       return 1\n",
    "    def ss(self):\n",
    "        return self.x"
   ]
  },
  {
   "cell_type": "code",
   "execution_count": 1,
   "id": "acaa0a86-130e-4df2-bfc0-50407a497b9f",
   "metadata": {},
   "outputs": [],
   "source": [
    "class B:\n",
    "    def x(self):\n",
    "        self.a = 2"
   ]
  },
  {
   "cell_type": "code",
   "execution_count": 2,
   "id": "3d89a50a-72ea-40ab-8087-e941e3d18a75",
   "metadata": {},
   "outputs": [],
   "source": [
    "b=B()"
   ]
  },
  {
   "cell_type": "code",
   "execution_count": 3,
   "id": "b800261a-9b7e-4681-9046-78f2fe9e830c",
   "metadata": {},
   "outputs": [
    {
     "data": {
      "text/plain": [
       "{}"
      ]
     },
     "execution_count": 3,
     "metadata": {},
     "output_type": "execute_result"
    }
   ],
   "source": [
    "vars(b) #vars는 인스턴스 변수를 알려주는 애"
   ]
  },
  {
   "cell_type": "code",
   "execution_count": 4,
   "id": "ea6344ac-8df7-4718-9a44-92307d16331e",
   "metadata": {},
   "outputs": [],
   "source": [
    "b.x()"
   ]
  },
  {
   "cell_type": "code",
   "execution_count": 5,
   "id": "ad543b58-0dd3-49a4-89cb-8f63036c08e0",
   "metadata": {},
   "outputs": [
    {
     "data": {
      "text/plain": [
       "{'a': 2}"
      ]
     },
     "execution_count": 5,
     "metadata": {},
     "output_type": "execute_result"
    }
   ],
   "source": [
    "vars(b)"
   ]
  },
  {
   "cell_type": "code",
   "execution_count": 6,
   "id": "cd6e8818-262c-4124-9abf-408d61cc7a99",
   "metadata": {},
   "outputs": [],
   "source": [
    "#C++, Java 같은 정적프로그래밍은 처음부터 인스턴스가 생성되지만, python은 메소드가 실행될 때마다 인스턴스 변수가 생성되는거다.\n",
    "#그래서 vars 는 꼭 확인해줘야하는거다. \n",
    "#근데, 골치아픈게 이걸 매번 확인해야해?\n",
    "#그래서 ! 미리 사용할 애를 미리 만들고, 이렇게 동적으로 생성하지 않는거다. \n",
    "#그래서 제일 처음 생성되는게 __init__ 이다. 이때 미리 다 만들어놓는거다. "
   ]
  },
  {
   "cell_type": "code",
   "execution_count": 7,
   "id": "3f5ce485-e3ac-4b9e-bee2-42dd8b04fbb4",
   "metadata": {},
   "outputs": [],
   "source": [
    "#composition 으로 상속 구현해보기\n",
    "class A:\n",
    "    x=1\n",
    "    def t(self):\n",
    "        return 1"
   ]
  },
  {
   "cell_type": "code",
   "execution_count": 8,
   "id": "87913096-5f78-4f28-8f7b-b3cd2f5be73f",
   "metadata": {},
   "outputs": [],
   "source": [
    "class B(A):\n",
    "    x=2"
   ]
  },
  {
   "cell_type": "code",
   "execution_count": null,
   "id": "0ed46cf3-90e0-47a7-a9b8-6a789581c7e1",
   "metadata": {},
   "outputs": [],
   "source": [
    "#파이썬 상속은 물려받는게 아니라, delegate, 내가 처리하지 못하면 부모에게 위임한다. 맡긴다. \n",
    "#근데 부모가 시도때도 없이 기능을 바꾼다면 골치 아픈 일이다. \n",
    "class C:\n",
    "    x=2\n",
    "    def t(self): #C를 실행하면 클래스 A의 함수를 부르는거다. \n",
    "        return A.x(self)\n",
    "        #이 방법은 아주 안좋은 방법이다. class A같은게 100개 있다면? 다 해줘야하잖아\n",
    "        "
   ]
  },
  {
   "cell_type": "code",
   "execution_count": 9,
   "id": "f1730970-a068-4c15-93de-d16453d44728",
   "metadata": {},
   "outputs": [],
   "source": [
    "class D:\n",
    "    def __init__(self): #내 선언에 다른 클래스의 객체를 데꼬오겠다.\n",
    "        self.x = A.x"
   ]
  },
  {
   "cell_type": "code",
   "execution_count": 10,
   "id": "0e7ed9fe-772f-4721-856a-57f00236c245",
   "metadata": {},
   "outputs": [
    {
     "ename": "AttributeError",
     "evalue": "type object 'D' has no attribute 'x'",
     "output_type": "error",
     "traceback": [
      "\u001b[1;31m---------------------------------------------------------------------------\u001b[0m",
      "\u001b[1;31mAttributeError\u001b[0m                            Traceback (most recent call last)",
      "Cell \u001b[1;32mIn[10], line 1\u001b[0m\n\u001b[1;32m----> 1\u001b[0m \u001b[43mD\u001b[49m\u001b[38;5;241;43m.\u001b[39;49m\u001b[43mx\u001b[49m\n",
      "\u001b[1;31mAttributeError\u001b[0m: type object 'D' has no attribute 'x'"
     ]
    }
   ],
   "source": [
    "D.x"
   ]
  },
  {
   "cell_type": "code",
   "execution_count": 11,
   "id": "acb4486e-0aac-4089-a344-1c43b83d3945",
   "metadata": {},
   "outputs": [],
   "source": [
    "d = D()"
   ]
  },
  {
   "cell_type": "code",
   "execution_count": 12,
   "id": "a40d6962-638e-42cd-b838-8bf464e700e5",
   "metadata": {},
   "outputs": [
    {
     "data": {
      "text/plain": [
       "1"
      ]
     },
     "execution_count": 12,
     "metadata": {},
     "output_type": "execute_result"
    }
   ],
   "source": [
    "d.x"
   ]
  },
  {
   "cell_type": "code",
   "execution_count": 13,
   "id": "768834bf-10da-49c6-98ec-ed9caccc07c9",
   "metadata": {},
   "outputs": [],
   "source": [
    "#근데 이방법도 좋은 방법 아니라고 한다. "
   ]
  },
  {
   "cell_type": "code",
   "execution_count": 19,
   "id": "fddd666b-a0f8-451d-96cc-e54498d8b73d",
   "metadata": {},
   "outputs": [],
   "source": [
    "class D:\n",
    "    def __init__(self): \n",
    "        # self.x = A.x\n",
    "        self.tt = A() #A의 인스턴스를 갖고 왔다. \n",
    "    def t(self):\n",
    "        return self.tt.t()\n"
   ]
  },
  {
   "cell_type": "code",
   "execution_count": 20,
   "id": "c13d2461-680a-423f-8a23-d57ef7467899",
   "metadata": {},
   "outputs": [],
   "source": [
    "d = D()"
   ]
  },
  {
   "cell_type": "code",
   "execution_count": 21,
   "id": "e0f4abf2-389c-45f2-91cc-7077bf72c556",
   "metadata": {},
   "outputs": [
    {
     "data": {
      "text/plain": [
       "1"
      ]
     },
     "execution_count": 21,
     "metadata": {},
     "output_type": "execute_result"
    }
   ],
   "source": [
    "d.t()"
   ]
  },
  {
   "cell_type": "code",
   "execution_count": 22,
   "id": "1eb610b2-f1cf-4a2b-95b7-791becbf8741",
   "metadata": {},
   "outputs": [],
   "source": [
    "#근데 이런식으로 계속 만들어주면 상속은 안했지만 상속한것처럼 쓸 수 있는거다. 근데 이 방법은 50점 짜리다."
   ]
  },
  {
   "cell_type": "code",
   "execution_count": 27,
   "id": "99feb155-6cad-4d13-af1e-996b96ace6d8",
   "metadata": {},
   "outputs": [],
   "source": [
    "class D:\n",
    "    def __init__(self): \n",
    "        # self.x = A.x\n",
    "        self.tt = A() #A의 인스턴스를 갖고 왔다. \n",
    "    def __getattr__(self, x):\n",
    "        self.tt"
   ]
  },
  {
   "cell_type": "code",
   "execution_count": 28,
   "id": "241cf38b-ae11-47ec-a84a-9d44d3fb0637",
   "metadata": {},
   "outputs": [],
   "source": [
    "d = D()"
   ]
  },
  {
   "cell_type": "code",
   "execution_count": 29,
   "id": "15c8f100-3ecb-4efe-9069-380881b2ddbb",
   "metadata": {},
   "outputs": [],
   "source": [
    "d.a"
   ]
  },
  {
   "cell_type": "code",
   "execution_count": 30,
   "id": "13fee573-9fd2-4e85-bb2c-051da1a7b053",
   "metadata": {},
   "outputs": [],
   "source": [
    "#getattr 이 없으면 dir 해서 정의 안한건 에러가 나온다. 근데 getattr 써서 예외처리 기능을 제공한다. 그래서 attributeError 가 나오지 않는다.\n",
    "#근데 attributeError 가 나오면, self.tt 에게 일을 시킨다. "
   ]
  },
  {
   "cell_type": "code",
   "execution_count": 31,
   "id": "5957262a-1877-427b-91a9-547d2f663755",
   "metadata": {},
   "outputs": [],
   "source": [
    "x = 1\n"
   ]
  },
  {
   "cell_type": "code",
   "execution_count": 32,
   "id": "35872ee0-79ec-425e-9952-0baadc8424b3",
   "metadata": {
    "scrolled": true
   },
   "outputs": [
    {
     "data": {
      "text/plain": [
       "['__abs__',\n",
       " '__add__',\n",
       " '__and__',\n",
       " '__bool__',\n",
       " '__ceil__',\n",
       " '__class__',\n",
       " '__delattr__',\n",
       " '__dir__',\n",
       " '__divmod__',\n",
       " '__doc__',\n",
       " '__eq__',\n",
       " '__float__',\n",
       " '__floor__',\n",
       " '__floordiv__',\n",
       " '__format__',\n",
       " '__ge__',\n",
       " '__getattribute__',\n",
       " '__getnewargs__',\n",
       " '__gt__',\n",
       " '__hash__',\n",
       " '__index__',\n",
       " '__init__',\n",
       " '__init_subclass__',\n",
       " '__int__',\n",
       " '__invert__',\n",
       " '__le__',\n",
       " '__lshift__',\n",
       " '__lt__',\n",
       " '__mod__',\n",
       " '__mul__',\n",
       " '__ne__',\n",
       " '__neg__',\n",
       " '__new__',\n",
       " '__or__',\n",
       " '__pos__',\n",
       " '__pow__',\n",
       " '__radd__',\n",
       " '__rand__',\n",
       " '__rdivmod__',\n",
       " '__reduce__',\n",
       " '__reduce_ex__',\n",
       " '__repr__',\n",
       " '__rfloordiv__',\n",
       " '__rlshift__',\n",
       " '__rmod__',\n",
       " '__rmul__',\n",
       " '__ror__',\n",
       " '__round__',\n",
       " '__rpow__',\n",
       " '__rrshift__',\n",
       " '__rshift__',\n",
       " '__rsub__',\n",
       " '__rtruediv__',\n",
       " '__rxor__',\n",
       " '__setattr__',\n",
       " '__sizeof__',\n",
       " '__str__',\n",
       " '__sub__',\n",
       " '__subclasshook__',\n",
       " '__truediv__',\n",
       " '__trunc__',\n",
       " '__xor__',\n",
       " 'as_integer_ratio',\n",
       " 'bit_count',\n",
       " 'bit_length',\n",
       " 'conjugate',\n",
       " 'denominator',\n",
       " 'from_bytes',\n",
       " 'imag',\n",
       " 'numerator',\n",
       " 'real',\n",
       " 'to_bytes']"
      ]
     },
     "execution_count": 32,
     "metadata": {},
     "output_type": "execute_result"
    }
   ],
   "source": [
    "dir (x)"
   ]
  },
  {
   "cell_type": "code",
   "execution_count": 33,
   "id": "7b3a2946-6209-44f9-8f01-10b771094981",
   "metadata": {},
   "outputs": [
    {
     "data": {
      "text/plain": [
       "1"
      ]
     },
     "execution_count": 33,
     "metadata": {},
     "output_type": "execute_result"
    }
   ],
   "source": [
    "getattr(x, '__abs__')()"
   ]
  },
  {
   "cell_type": "code",
   "execution_count": 34,
   "id": "2ddc15ea-56e6-4e6f-84d2-a2bdacf1801a",
   "metadata": {},
   "outputs": [],
   "source": [
    "d = D()"
   ]
  },
  {
   "cell_type": "code",
   "execution_count": 35,
   "id": "cb0b81c8-a2cb-4b84-8158-9287552330b6",
   "metadata": {},
   "outputs": [],
   "source": [
    "d.a"
   ]
  },
  {
   "cell_type": "code",
   "execution_count": 36,
   "id": "ef75a3b5-699b-4bba-aee7-6b1563bd37e3",
   "metadata": {},
   "outputs": [],
   "source": [
    "class D:\n",
    "    def __init__(self): \n",
    "        # self.x = A.x\n",
    "        self.tt = A() #A의 인스턴스를 갖고 왔다. \n",
    "    def __getattr__(self, x):\n",
    "        return getattr(self.tt, x)"
   ]
  },
  {
   "cell_type": "code",
   "execution_count": 37,
   "id": "d81c802d-faa5-480b-bc54-b30be7863344",
   "metadata": {},
   "outputs": [],
   "source": [
    "dd=D()"
   ]
  },
  {
   "cell_type": "code",
   "execution_count": 39,
   "id": "3a1c004c-6eab-41d6-bc33-a1f0b34a4d5d",
   "metadata": {},
   "outputs": [
    {
     "data": {
      "text/plain": [
       "1"
      ]
     },
     "execution_count": 39,
     "metadata": {},
     "output_type": "execute_result"
    }
   ],
   "source": [
    "dd.x"
   ]
  },
  {
   "cell_type": "code",
   "execution_count": 42,
   "id": "6b55a934-9d14-487c-bac4-cbcc3d2381b0",
   "metadata": {},
   "outputs": [
    {
     "data": {
      "text/plain": [
       "1"
      ]
     },
     "execution_count": 42,
     "metadata": {},
     "output_type": "execute_result"
    }
   ],
   "source": [
    "dd.t()"
   ]
  },
  {
   "cell_type": "code",
   "execution_count": 43,
   "id": "bbc98e2f-2ede-4ed0-8260-acd5bb3a6612",
   "metadata": {},
   "outputs": [],
   "source": [
    "#상속을 안하고 외부의 클래스의 객체를 데리고 와서 일을 시키는거다. 이건 85점짜리 방식이라고 한다. \n",
    "# composition 이라는 테크닉은 .... \n",
    "# 내 인스턴스에 남의 인스턴스 변수를 데리고 와서 이걸 조합해서 일을 하는게 컴포지션..\n",
    "# 이것도 descriptor 내용 중 일부라고 한다..ㅠㅠㅠ"
   ]
  },
  {
   "cell_type": "code",
   "execution_count": null,
   "id": "219b860f-c1a5-4551-80a3-f772dbe28725",
   "metadata": {},
   "outputs": [],
   "source": [
    "# notimplmentedError는 텐서플로우에 있던 거다!\n",
    "#NotImplementedError   : 너 상속할때 무조건 구현해라는 강제성이 있는거다. "
   ]
  },
  {
   "cell_type": "code",
   "execution_count": 54,
   "id": "37410577-afa1-47ba-8902-2d3c79cac420",
   "metadata": {},
   "outputs": [],
   "source": [
    "class D:\n",
    "    def call(self):\n",
    "        # pass\n",
    "        raise NotImplementedError\n",
    "    def __call__(self):\n",
    "        self.call()"
   ]
  },
  {
   "cell_type": "code",
   "execution_count": 59,
   "id": "4c5c3968-bc65-47f0-a5ff-f7df03cd338c",
   "metadata": {},
   "outputs": [],
   "source": [
    "#상속을 해보겠다. \n",
    "class E(D):\n",
    "    # pass\n",
    "    #상속과 함과 동시에 call 구현을 해줘야한다!!! 안그럼 에러나와\n",
    "    def call(self):\n",
    "        print('call')"
   ]
  },
  {
   "cell_type": "code",
   "execution_count": 63,
   "id": "a75a5e72-c8c5-4e2d-b968-8b195fba4026",
   "metadata": {},
   "outputs": [],
   "source": [
    "e = E()"
   ]
  },
  {
   "cell_type": "code",
   "execution_count": 64,
   "id": "4d5e36fc-4f37-4baa-b451-5489ecbe9512",
   "metadata": {},
   "outputs": [
    {
     "name": "stdout",
     "output_type": "stream",
     "text": [
      "call\n"
     ]
    }
   ],
   "source": [
    "e()"
   ]
  },
  {
   "cell_type": "code",
   "execution_count": 65,
   "id": "90b7e094-81ea-4249-9b7c-11329c1a5656",
   "metadata": {},
   "outputs": [
    {
     "name": "stdout",
     "output_type": "stream",
     "text": [
      "call\n"
     ]
    }
   ],
   "source": [
    "e.call()"
   ]
  },
  {
   "cell_type": "code",
   "execution_count": 66,
   "id": "b33677bb-12fd-4628-8d36-ebb387698389",
   "metadata": {},
   "outputs": [
    {
     "ename": "TypeError",
     "evalue": "'list_iterator' object is not subscriptable",
     "output_type": "error",
     "traceback": [
      "\u001b[1;31m---------------------------------------------------------------------------\u001b[0m",
      "\u001b[1;31mTypeError\u001b[0m                                 Traceback (most recent call last)",
      "Cell \u001b[1;32mIn[66], line 3\u001b[0m\n\u001b[0;32m      1\u001b[0m \u001b[38;5;66;03m#Lazy\u001b[39;00m\n\u001b[0;32m      2\u001b[0m a \u001b[38;5;241m=\u001b[39m \u001b[38;5;28miter\u001b[39m([\u001b[38;5;241m1\u001b[39m,\u001b[38;5;241m2\u001b[39m,\u001b[38;5;241m3\u001b[39m,\u001b[38;5;241m4\u001b[39m])\n\u001b[1;32m----> 3\u001b[0m \u001b[43ma\u001b[49m\u001b[43m[\u001b[49m\u001b[38;5;241;43m0\u001b[39;49m\u001b[43m]\u001b[49m\n",
      "\u001b[1;31mTypeError\u001b[0m: 'list_iterator' object is not subscriptable"
     ]
    }
   ],
   "source": [
    "#Lazy\n",
    "a = iter([1,2,3,4])\n",
    "a[0]"
   ]
  },
  {
   "cell_type": "code",
   "execution_count": 67,
   "id": "0f7c5cf6-96df-4020-b85c-428b2c0c5599",
   "metadata": {},
   "outputs": [
    {
     "ename": "TypeError",
     "evalue": "object of type 'list_iterator' has no len()",
     "output_type": "error",
     "traceback": [
      "\u001b[1;31m---------------------------------------------------------------------------\u001b[0m",
      "\u001b[1;31mTypeError\u001b[0m                                 Traceback (most recent call last)",
      "Cell \u001b[1;32mIn[67], line 1\u001b[0m\n\u001b[1;32m----> 1\u001b[0m \u001b[38;5;28;43mlen\u001b[39;49m\u001b[43m(\u001b[49m\u001b[43ma\u001b[49m\u001b[43m)\u001b[49m\n",
      "\u001b[1;31mTypeError\u001b[0m: object of type 'list_iterator' has no len()"
     ]
    }
   ],
   "source": [
    "len(a)"
   ]
  },
  {
   "cell_type": "code",
   "execution_count": 68,
   "id": "eb8cc674-17c7-4d38-9899-b4b1d1654f66",
   "metadata": {},
   "outputs": [
    {
     "data": {
      "text/plain": [
       "1"
      ]
     },
     "execution_count": 68,
     "metadata": {},
     "output_type": "execute_result"
    }
   ],
   "source": [
    "next(a)"
   ]
  },
  {
   "cell_type": "code",
   "execution_count": 69,
   "id": "73b23319-e4ad-4fcb-8d7d-5a7b2ccbf81e",
   "metadata": {},
   "outputs": [
    {
     "ename": "ModuleNotFoundError",
     "evalue": "No module named 'sklearn'",
     "output_type": "error",
     "traceback": [
      "\u001b[1;31m---------------------------------------------------------------------------\u001b[0m",
      "\u001b[1;31mModuleNotFoundError\u001b[0m                       Traceback (most recent call last)",
      "Cell \u001b[1;32mIn[69], line 1\u001b[0m\n\u001b[1;32m----> 1\u001b[0m \u001b[38;5;28;01mfrom\u001b[39;00m \u001b[38;5;21;01msklearn\u001b[39;00m\u001b[38;5;21;01m.\u001b[39;00m\u001b[38;5;21;01mnaive_bayes\u001b[39;00m \u001b[38;5;28;01mimport\u001b[39;00m ABCMeta\n",
      "\u001b[1;31mModuleNotFoundError\u001b[0m: No module named 'sklearn'"
     ]
    }
   ],
   "source": [
    "from sklearn.naive_bayes import ABCMeta"
   ]
  },
  {
   "cell_type": "code",
   "execution_count": null,
   "id": "c726c09a-5eff-4811-abf7-53a6e0e37581",
   "metadata": {},
   "outputs": [],
   "source": []
  },
  {
   "cell_type": "code",
   "execution_count": null,
   "id": "d0d34ae0-fdc5-41e9-a7e9-f8df7a9b30d9",
   "metadata": {},
   "outputs": [],
   "source": []
  },
  {
   "cell_type": "code",
   "execution_count": null,
   "id": "bc7ad071-d4cf-4af0-8eb6-9fb160f5e63f",
   "metadata": {},
   "outputs": [],
   "source": [
    "A, B, C"
   ]
  },
  {
   "cell_type": "code",
   "execution_count": 70,
   "id": "71d227b2-e8f3-46de-83a8-a6358618993b",
   "metadata": {},
   "outputs": [],
   "source": [
    "class D:\n",
    "    #공통된 기능을 c라고 하자.\n",
    "    def c(self):\n",
    "        pass\n",
    "    #차별적인 기능을 ee 라고 하자.무조건 구현해야한다. 구현안하면 큰일남. \n",
    "    def ee(self):\n",
    "        raise NotImplementedError"
   ]
  },
  {
   "cell_type": "code",
   "execution_count": 71,
   "id": "effe5a87-d575-41ee-8a49-3f788d91a685",
   "metadata": {},
   "outputs": [],
   "source": [
    "class A(D):\n",
    "    pass"
   ]
  },
  {
   "cell_type": "code",
   "execution_count": 72,
   "id": "cd92c976-ede7-4a41-a10a-79b642529bbd",
   "metadata": {},
   "outputs": [],
   "source": [
    "a = A()"
   ]
  },
  {
   "cell_type": "code",
   "execution_count": 73,
   "id": "eb23a1ff-cb69-4f2c-82e4-6d87e37d3d32",
   "metadata": {},
   "outputs": [
    {
     "ename": "NotImplementedError",
     "evalue": "",
     "output_type": "error",
     "traceback": [
      "\u001b[1;31m---------------------------------------------------------------------------\u001b[0m",
      "\u001b[1;31mNotImplementedError\u001b[0m                       Traceback (most recent call last)",
      "Cell \u001b[1;32mIn[73], line 2\u001b[0m\n\u001b[0;32m      1\u001b[0m \u001b[38;5;66;03m#깜빡하고, 공통된 기능 c를 안쓰고, 차별적인 기능 ee를 쓰면?\u001b[39;00m\n\u001b[1;32m----> 2\u001b[0m \u001b[43ma\u001b[49m\u001b[38;5;241;43m.\u001b[39;49m\u001b[43mee\u001b[49m\u001b[43m(\u001b[49m\u001b[43m)\u001b[49m\n",
      "Cell \u001b[1;32mIn[70], line 7\u001b[0m, in \u001b[0;36mD.ee\u001b[1;34m(self)\u001b[0m\n\u001b[0;32m      6\u001b[0m \u001b[38;5;28;01mdef\u001b[39;00m \u001b[38;5;21mee\u001b[39m(\u001b[38;5;28mself\u001b[39m):\n\u001b[1;32m----> 7\u001b[0m     \u001b[38;5;28;01mraise\u001b[39;00m \u001b[38;5;167;01mNotImplementedError\u001b[39;00m\n",
      "\u001b[1;31mNotImplementedError\u001b[0m: "
     ]
    }
   ],
   "source": [
    "#깜빡하고, 공통된 기능 c를 안쓰고, 차별적인 기능 ee를 쓰면?\n",
    "a.ee()"
   ]
  },
  {
   "cell_type": "code",
   "execution_count": 74,
   "id": "64cfafa5-d838-4a39-83b4-c8c082ce8a9d",
   "metadata": {},
   "outputs": [],
   "source": [
    "#이 추상화를 duck_typing : 왜냐면, 노골적으로 상속을 통해서 타입체크를 했기에 ... "
   ]
  },
  {
   "cell_type": "code",
   "execution_count": 76,
   "id": "a91ca718-669f-4796-a918-897c6ddd6616",
   "metadata": {},
   "outputs": [],
   "source": [
    "from collections.abc import Sequence\n",
    "#a의 줄임말은 abstract, b는 base, c는 class 객체. \n",
    "#abc는 추상 부모 클래스라는 뜻이다. 결국, abc 단어 자체가 "
   ]
  },
  {
   "cell_type": "code",
   "execution_count": null,
   "id": "b661f99a-70b8-41e7-bb95-fb53b1a28d0a",
   "metadata": {},
   "outputs": [],
   "source": [
    "from collections.abc import Sequence\n",
    "class ExpandingSequence(Sequence):\n",
    "    def __init__(self, it):\n",
    "        self.it = it\n",
    "        self._cache = []\n",
    "        \n",
    "    def __getitem__(self, index):\n",
    "        while len(self._cache) <= index:\n",
    "            self._cache.append(next(self.it))\n",
    "        return self._cache[index]\n",
    "    #getitem 은 인덱싱 하기 위해서인데, minus 하기위해서 len 을 쓰는거다..\n",
    "    \n",
    "    def __len__(self):\n",
    "        return len(self._cache)\n",
    "#파이썬에서는 추상화를 상속의 관점에서 사용한다. 공통된 거 새로 구현할 필요없고, 차이나는 애들만 구현하면 된다. \n",
    "#이걸 구현안하면 에러나도록 강제시키는거다. "
   ]
  },
  {
   "cell_type": "code",
   "execution_count": 77,
   "id": "b9d258da-d958-42b5-b073-5f25f3a4a375",
   "metadata": {},
   "outputs": [],
   "source": [
    "#상속하지 않았음에도 , 기능한다. "
   ]
  },
  {
   "cell_type": "code",
   "execution_count": 84,
   "id": "7d91fc08-3fb0-4297-b434-07bfc6c0e2fd",
   "metadata": {},
   "outputs": [],
   "source": [
    "class ExpandingSequence():\n",
    "    def __init__(self, it):\n",
    "        self.it = it\n",
    "        self._cache = []\n",
    "        \n",
    "    def __getitem__(self, index):\n",
    "        while len(self._cache) <= index:\n",
    "            self._cache.append(next(self.it))\n",
    "        return self._cache[index]\n",
    "    #getitem 은 인덱싱 하기 위해서인데, minus 하기위해서 len 을 쓰는거다..\n",
    "    \n",
    "    def __len__(self):\n",
    "        return len(self._cache)"
   ]
  },
  {
   "cell_type": "code",
   "execution_count": 85,
   "id": "13915cca-c0d2-43a3-afa3-8bde64eb842a",
   "metadata": {},
   "outputs": [],
   "source": [
    "e = ExpandingSequence(iter([1,2,3,4]))"
   ]
  },
  {
   "cell_type": "code",
   "execution_count": 86,
   "id": "92cd2189-244b-40c9-8222-68f3f30fdbcc",
   "metadata": {},
   "outputs": [
    {
     "ename": "IndexError",
     "evalue": "list index out of range",
     "output_type": "error",
     "traceback": [
      "\u001b[1;31m---------------------------------------------------------------------------\u001b[0m",
      "\u001b[1;31mIndexError\u001b[0m                                Traceback (most recent call last)",
      "Cell \u001b[1;32mIn[86], line 1\u001b[0m\n\u001b[1;32m----> 1\u001b[0m \u001b[43me\u001b[49m\u001b[43m[\u001b[49m\u001b[38;5;241;43m-\u001b[39;49m\u001b[38;5;241;43m1\u001b[39;49m\u001b[43m]\u001b[49m\n",
      "Cell \u001b[1;32mIn[84], line 9\u001b[0m, in \u001b[0;36mExpandingSequence.__getitem__\u001b[1;34m(self, index)\u001b[0m\n\u001b[0;32m      7\u001b[0m \u001b[38;5;28;01mwhile\u001b[39;00m \u001b[38;5;28mlen\u001b[39m(\u001b[38;5;28mself\u001b[39m\u001b[38;5;241m.\u001b[39m_cache) \u001b[38;5;241m<\u001b[39m\u001b[38;5;241m=\u001b[39m index:\n\u001b[0;32m      8\u001b[0m     \u001b[38;5;28mself\u001b[39m\u001b[38;5;241m.\u001b[39m_cache\u001b[38;5;241m.\u001b[39mappend(\u001b[38;5;28mnext\u001b[39m(\u001b[38;5;28mself\u001b[39m\u001b[38;5;241m.\u001b[39mit))\n\u001b[1;32m----> 9\u001b[0m \u001b[38;5;28;01mreturn\u001b[39;00m \u001b[38;5;28;43mself\u001b[39;49m\u001b[38;5;241;43m.\u001b[39;49m\u001b[43m_cache\u001b[49m\u001b[43m[\u001b[49m\u001b[43mindex\u001b[49m\u001b[43m]\u001b[49m\n",
      "\u001b[1;31mIndexError\u001b[0m: list index out of range"
     ]
    }
   ],
   "source": [
    "e[-1]"
   ]
  },
  {
   "cell_type": "code",
   "execution_count": 87,
   "id": "7c0baeb7-5554-4e4b-b605-d1d4acbb3a4e",
   "metadata": {},
   "outputs": [],
   "source": [
    "#duck typing 의 문제점은 오리인지 아닌지 확인하지 않기때문에, 계산을 못해서 이런 문제점이 나올 수 있다. "
   ]
  },
  {
   "cell_type": "code",
   "execution_count": 88,
   "id": "a5f05168-bb39-45ea-8779-55e9d5fea9fc",
   "metadata": {},
   "outputs": [],
   "source": [
    "#이번에는 상속해보겠다."
   ]
  },
  {
   "cell_type": "code",
   "execution_count": 90,
   "id": "be153573-7735-4a2d-bd34-de0060cc1b60",
   "metadata": {},
   "outputs": [],
   "source": [
    "from collections.abc import Sequence\n",
    "class ExpandingSequence(Sequence):\n",
    "    def __init__(self, it):\n",
    "        self.it = it\n",
    "        self._cache = []\n",
    "\n",
    "    # 실수로 이걸 구현 안했다는가정하에. \n",
    "    # def __getitem__(self, index):\n",
    "    #     while len(self._cache) <= index:\n",
    "    #         self._cache.append(next(self.it))\n",
    "    #     return self._cache[index]\n",
    "    \n",
    "    \n",
    "    def __len__(self):\n",
    "        return len(self._cache)"
   ]
  },
  {
   "cell_type": "code",
   "execution_count": 91,
   "id": "ac97bfb2-98c3-4b36-aeda-90247e9bb59d",
   "metadata": {},
   "outputs": [
    {
     "ename": "TypeError",
     "evalue": "Can't instantiate abstract class ExpandingSequence with abstract method __getitem__",
     "output_type": "error",
     "traceback": [
      "\u001b[1;31m---------------------------------------------------------------------------\u001b[0m",
      "\u001b[1;31mTypeError\u001b[0m                                 Traceback (most recent call last)",
      "Cell \u001b[1;32mIn[91], line 1\u001b[0m\n\u001b[1;32m----> 1\u001b[0m e \u001b[38;5;241m=\u001b[39m \u001b[43mExpandingSequence\u001b[49m\u001b[43m(\u001b[49m\u001b[38;5;28;43miter\u001b[39;49m\u001b[43m(\u001b[49m\u001b[43m[\u001b[49m\u001b[38;5;241;43m1\u001b[39;49m\u001b[43m,\u001b[49m\u001b[38;5;241;43m2\u001b[39;49m\u001b[43m,\u001b[49m\u001b[38;5;241;43m3\u001b[39;49m\u001b[43m,\u001b[49m\u001b[38;5;241;43m4\u001b[39;49m\u001b[43m]\u001b[49m\u001b[43m)\u001b[49m\u001b[43m)\u001b[49m\n",
      "\u001b[1;31mTypeError\u001b[0m: Can't instantiate abstract class ExpandingSequence with abstract method __getitem__"
     ]
    }
   ],
   "source": [
    "e = ExpandingSequence(iter([1,2,3,4]))"
   ]
  },
  {
   "cell_type": "code",
   "execution_count": 92,
   "id": "49a79b89-7980-4122-b963-9063d94fce42",
   "metadata": {},
   "outputs": [],
   "source": [
    "# 차별적인 기능을 나머지 애들이 구현을 안하면, 에러가 나는게 <- 추상화의 단점이다. "
   ]
  },
  {
   "cell_type": "code",
   "execution_count": 97,
   "id": "c8419402-967d-4671-880c-79e889b44960",
   "metadata": {},
   "outputs": [],
   "source": [
    "from abc import abstractmethod, ABC #추상 메소드"
   ]
  },
  {
   "cell_type": "code",
   "execution_count": 98,
   "id": "b568af64-f762-46a5-9bfc-f9242bf23874",
   "metadata": {},
   "outputs": [],
   "source": [
    "class D(ABC):\n",
    "    @abstractmethod\n",
    "    def x(self):\n",
    "        pass"
   ]
  },
  {
   "cell_type": "code",
   "execution_count": 99,
   "id": "6d98396d-3453-4cdb-8d64-0b9db7ebd28e",
   "metadata": {},
   "outputs": [],
   "source": [
    "class E(D):\n",
    "    pass"
   ]
  },
  {
   "cell_type": "code",
   "execution_count": 100,
   "id": "7a780a19-683e-46f0-b905-7c8a97583465",
   "metadata": {},
   "outputs": [
    {
     "ename": "TypeError",
     "evalue": "Can't instantiate abstract class E with abstract method x",
     "output_type": "error",
     "traceback": [
      "\u001b[1;31m---------------------------------------------------------------------------\u001b[0m",
      "\u001b[1;31mTypeError\u001b[0m                                 Traceback (most recent call last)",
      "Cell \u001b[1;32mIn[100], line 1\u001b[0m\n\u001b[1;32m----> 1\u001b[0m e \u001b[38;5;241m=\u001b[39m \u001b[43mE\u001b[49m\u001b[43m(\u001b[49m\u001b[43m)\u001b[49m\n",
      "\u001b[1;31mTypeError\u001b[0m: Can't instantiate abstract class E with abstract method x"
     ]
    }
   ],
   "source": [
    "e = E()"
   ]
  },
  {
   "cell_type": "code",
   "execution_count": 101,
   "id": "12bd36b6-5005-4819-8717-7ce80b43d888",
   "metadata": {},
   "outputs": [],
   "source": [
    "#상속을 통해서 추상화를 해야하지만... 가이드만 해준셈이다. \n",
    "#텐서플로우, 파이토치 전부 덕타이핑 방식인데, 가이드만 준거다. 에러 굳이 안내줌. \n",
    "#근데 ABC 클래스를 이용해서 강제적으로 에러를 보이는거다. "
   ]
  },
  {
   "cell_type": "code",
   "execution_count": 102,
   "id": "f67e0329-10ad-44e9-b0b9-a29b4d2f9aef",
   "metadata": {},
   "outputs": [],
   "source": [
    "from abc import ABCMeta, abstractmethod"
   ]
  },
  {
   "cell_type": "code",
   "execution_count": 103,
   "id": "d67528e1-8356-441a-8f81-e48b08a4eade",
   "metadata": {},
   "outputs": [],
   "source": [
    "class E(metaclass=ABCMeta):\n",
    "    @abstractmethod\n",
    "    def x(self):\n",
    "        pass"
   ]
  },
  {
   "cell_type": "code",
   "execution_count": 104,
   "id": "57647979-802f-45ea-aea5-883a70d99be0",
   "metadata": {},
   "outputs": [],
   "source": [
    "class F(E):\n",
    "    pass"
   ]
  },
  {
   "cell_type": "code",
   "execution_count": 105,
   "id": "21d93b49-0f8e-47dc-bb7a-bfe8ec6b278b",
   "metadata": {},
   "outputs": [
    {
     "ename": "TypeError",
     "evalue": "Can't instantiate abstract class F with abstract method x",
     "output_type": "error",
     "traceback": [
      "\u001b[1;31m---------------------------------------------------------------------------\u001b[0m",
      "\u001b[1;31mTypeError\u001b[0m                                 Traceback (most recent call last)",
      "Cell \u001b[1;32mIn[105], line 1\u001b[0m\n\u001b[1;32m----> 1\u001b[0m f \u001b[38;5;241m=\u001b[39m \u001b[43mF\u001b[49m\u001b[43m(\u001b[49m\u001b[43m)\u001b[49m\n",
      "\u001b[1;31mTypeError\u001b[0m: Can't instantiate abstract class F with abstract method x"
     ]
    }
   ],
   "source": [
    "f = F()"
   ]
  },
  {
   "cell_type": "code",
   "execution_count": 106,
   "id": "058b10c3-cd1e-458b-b8c7-b5f55e9dd985",
   "metadata": {},
   "outputs": [],
   "source": [
    "#metaclass가 제일 세련된 방식이다... 하...........너무 어려워서 눈물나네 ~~~~ㅠㅠㅎㅎㅎㅎ\n",
    "#이 기능이 더 강력하다. 상속을 하고, 추상화를 덧 붙일수 있으니. "
   ]
  },
  {
   "cell_type": "code",
   "execution_count": 107,
   "id": "da04eee4-201a-45cb-beff-bb0344fb229c",
   "metadata": {},
   "outputs": [
    {
     "ename": "ModuleNotFoundError",
     "evalue": "No module named 'seaborn'",
     "output_type": "error",
     "traceback": [
      "\u001b[1;31m---------------------------------------------------------------------------\u001b[0m",
      "\u001b[1;31mModuleNotFoundError\u001b[0m                       Traceback (most recent call last)",
      "Cell \u001b[1;32mIn[107], line 1\u001b[0m\n\u001b[1;32m----> 1\u001b[0m \u001b[38;5;28;01mimport\u001b[39;00m \u001b[38;5;21;01mseaborn\u001b[39;00m \u001b[38;5;28;01mas\u001b[39;00m \u001b[38;5;21;01msns\u001b[39;00m\n",
      "\u001b[1;31mModuleNotFoundError\u001b[0m: No module named 'seaborn'"
     ]
    }
   ],
   "source": [
    "import seaborn as sns"
   ]
  },
  {
   "cell_type": "code",
   "execution_count": 112,
   "id": "96825c9e-97af-4edc-981d-0fc340406dda",
   "metadata": {},
   "outputs": [],
   "source": [
    "b = map(lambda x:x+10, [1,2,3,4,5])"
   ]
  },
  {
   "cell_type": "code",
   "execution_count": 113,
   "id": "2901cc49-b267-46b7-9228-1a4b9d304aa1",
   "metadata": {},
   "outputs": [
    {
     "data": {
      "text/plain": [
       "<map at 0x244f345b5b0>"
      ]
     },
     "execution_count": 113,
     "metadata": {},
     "output_type": "execute_result"
    }
   ],
   "source": [
    "b"
   ]
  },
  {
   "cell_type": "code",
   "execution_count": 115,
   "id": "f7da4fa7-bd9a-4958-a596-a286c5a26765",
   "metadata": {},
   "outputs": [
    {
     "data": {
      "text/plain": [
       "12"
      ]
     },
     "execution_count": 115,
     "metadata": {},
     "output_type": "execute_result"
    }
   ],
   "source": [
    "next(b)"
   ]
  },
  {
   "cell_type": "code",
   "execution_count": 116,
   "id": "bfe1f1e0-cf47-4fac-a589-81491b63b51b",
   "metadata": {},
   "outputs": [],
   "source": [
    "b = map(lambda x, Y:x+Y, [1,2,3,4,5], [1,2,3,4,5])"
   ]
  },
  {
   "cell_type": "code",
   "execution_count": 121,
   "id": "1ae7d702-ddd4-4dae-beb5-71aef8d4acfa",
   "metadata": {},
   "outputs": [
    {
     "data": {
      "text/plain": [
       "<zip at 0x244f137b0c0>"
      ]
     },
     "execution_count": 121,
     "metadata": {},
     "output_type": "execute_result"
    }
   ],
   "source": [
    "zip([1,2,3], [3,4,5])"
   ]
  },
  {
   "cell_type": "code",
   "execution_count": 118,
   "id": "383a5edd-359d-4713-bc53-4484790eac54",
   "metadata": {},
   "outputs": [
    {
     "data": {
      "text/plain": [
       "4"
      ]
     },
     "execution_count": 118,
     "metadata": {},
     "output_type": "execute_result"
    }
   ],
   "source": [
    "next(b)"
   ]
  },
  {
   "cell_type": "code",
   "execution_count": 122,
   "id": "9171e30b-1054-4a65-bf33-e2f9e5d6c563",
   "metadata": {},
   "outputs": [],
   "source": [
    "b = zip([1,2,3,4,5], [3,4,5])"
   ]
  },
  {
   "cell_type": "code",
   "execution_count": 123,
   "id": "0e6877ca-601d-4881-92d9-719bedec2440",
   "metadata": {},
   "outputs": [
    {
     "data": {
      "text/plain": [
       "(1, 3)"
      ]
     },
     "execution_count": 123,
     "metadata": {},
     "output_type": "execute_result"
    }
   ],
   "source": [
    "next(b)"
   ]
  },
  {
   "cell_type": "code",
   "execution_count": 124,
   "id": "d7410c56-8ab7-4fd8-ad4c-f16265abba4e",
   "metadata": {},
   "outputs": [],
   "source": [
    "#긴거 기준으로 쓰고 싶다면 \n",
    "from itertools import zip_longest"
   ]
  },
  {
   "cell_type": "code",
   "execution_count": 125,
   "id": "8e6e8d58-bbb2-42fc-af43-5aa8d19f93ce",
   "metadata": {},
   "outputs": [],
   "source": [
    "c = zip_longest([1,2,3,4,5], [3,4,5])"
   ]
  },
  {
   "cell_type": "code",
   "execution_count": 126,
   "id": "c8b3440a-61d3-4741-a736-db29b2018548",
   "metadata": {},
   "outputs": [
    {
     "data": {
      "text/plain": [
       "[(1, 3), (2, 4), (3, 5), (4, None), (5, None)]"
      ]
     },
     "execution_count": 126,
     "metadata": {},
     "output_type": "execute_result"
    }
   ],
   "source": [
    "list(c)"
   ]
  },
  {
   "cell_type": "code",
   "execution_count": 127,
   "id": "bc82030d-d3d3-4e8d-aacd-0883b32ef5f2",
   "metadata": {},
   "outputs": [
    {
     "data": {
      "text/plain": [
       "15"
      ]
     },
     "execution_count": 127,
     "metadata": {},
     "output_type": "execute_result"
    }
   ],
   "source": [
    "from functools import reduce\n",
    "reduce(lambda x,y:x+y, [1,2,3,4,5])"
   ]
  },
  {
   "cell_type": "code",
   "execution_count": 128,
   "id": "d1480232-2c9f-4ca0-ba87-d838e89bc535",
   "metadata": {},
   "outputs": [],
   "source": [
    "from itertools import accumulate"
   ]
  },
  {
   "cell_type": "code",
   "execution_count": 130,
   "id": "50ba47c9-9c9e-4ca2-bf81-7ce487248cf5",
   "metadata": {},
   "outputs": [],
   "source": [
    "b= accumulate([1,2,3,4,5], lambda x,y:x+y )"
   ]
  },
  {
   "cell_type": "code",
   "execution_count": 131,
   "id": "30136e4a-f9ac-437d-a560-f3f1eae0883e",
   "metadata": {},
   "outputs": [
    {
     "data": {
      "text/plain": [
       "[1, 3, 6, 10, 15]"
      ]
     },
     "execution_count": 131,
     "metadata": {},
     "output_type": "execute_result"
    }
   ],
   "source": [
    "list(b)"
   ]
  },
  {
   "cell_type": "code",
   "execution_count": 134,
   "id": "cb971336-539c-414e-aad7-8c0c98f79861",
   "metadata": {},
   "outputs": [],
   "source": [
    "a = 5\n",
    "b = 2"
   ]
  },
  {
   "cell_type": "code",
   "execution_count": 135,
   "id": "657e66c6-88e7-4360-957e-1a57f899a83c",
   "metadata": {},
   "outputs": [],
   "source": [
    "a, b = b, a"
   ]
  },
  {
   "cell_type": "code",
   "execution_count": 136,
   "id": "15fda8fc-9387-4dbb-a5c4-1950384220ba",
   "metadata": {},
   "outputs": [
    {
     "data": {
      "text/plain": [
       "2"
      ]
     },
     "execution_count": 136,
     "metadata": {},
     "output_type": "execute_result"
    }
   ],
   "source": [
    "a"
   ]
  },
  {
   "cell_type": "code",
   "execution_count": 137,
   "id": "82804131-a50a-4ece-9f92-214b3f18cb0c",
   "metadata": {},
   "outputs": [
    {
     "data": {
      "text/plain": [
       "5"
      ]
     },
     "execution_count": 137,
     "metadata": {},
     "output_type": "execute_result"
    }
   ],
   "source": [
    "b"
   ]
  },
  {
   "cell_type": "code",
   "execution_count": 138,
   "id": "5d1c3ce7-0d7a-4821-a499-d66e7de20dcc",
   "metadata": {},
   "outputs": [],
   "source": [
    "a, b = b, a+3"
   ]
  },
  {
   "cell_type": "code",
   "execution_count": 139,
   "id": "ce242b7f-06e8-4031-a40f-84ee545851fe",
   "metadata": {},
   "outputs": [
    {
     "data": {
      "text/plain": [
       "5"
      ]
     },
     "execution_count": 139,
     "metadata": {},
     "output_type": "execute_result"
    }
   ],
   "source": [
    "a"
   ]
  },
  {
   "cell_type": "code",
   "execution_count": 140,
   "id": "05d6ca93-65b3-476b-9b47-144e23b2a561",
   "metadata": {},
   "outputs": [
    {
     "data": {
      "text/plain": [
       "5"
      ]
     },
     "execution_count": 140,
     "metadata": {},
     "output_type": "execute_result"
    }
   ],
   "source": [
    "b"
   ]
  },
  {
   "cell_type": "code",
   "execution_count": 141,
   "id": "a6755d3d-88bb-47d0-8b22-da4f24ff1550",
   "metadata": {},
   "outputs": [],
   "source": [
    "x= 1,2,3"
   ]
  },
  {
   "cell_type": "code",
   "execution_count": 142,
   "id": "1ed9565c-8b8a-446c-a3b0-6a5180ef790f",
   "metadata": {},
   "outputs": [
    {
     "data": {
      "text/plain": [
       "(1, 2, 3)"
      ]
     },
     "execution_count": 142,
     "metadata": {},
     "output_type": "execute_result"
    }
   ],
   "source": [
    "x"
   ]
  },
  {
   "cell_type": "code",
   "execution_count": 143,
   "id": "f9c8283f-2003-4cea-8aa7-7ceb707e7d61",
   "metadata": {},
   "outputs": [],
   "source": [
    "#동시에 연산되는거다. 순서대로 되는게 아니라."
   ]
  },
  {
   "cell_type": "code",
   "execution_count": 144,
   "id": "eadc6819-4858-4ee7-bc4c-3907859721db",
   "metadata": {},
   "outputs": [],
   "source": [
    "from itertools import cycle"
   ]
  },
  {
   "cell_type": "code",
   "execution_count": 145,
   "id": "7a8170f8-b001-4100-94b7-ee9293b899cf",
   "metadata": {},
   "outputs": [],
   "source": [
    "a = cycle([1,2,3]) #내부적으로 무한반복하게 만들어져있다. "
   ]
  },
  {
   "cell_type": "code",
   "execution_count": 149,
   "id": "3d3e052a-1b72-4358-a6bc-b38ed69efcdd",
   "metadata": {},
   "outputs": [
    {
     "data": {
      "text/plain": [
       "1"
      ]
     },
     "execution_count": 149,
     "metadata": {},
     "output_type": "execute_result"
    }
   ],
   "source": [
    "next(a)"
   ]
  },
  {
   "cell_type": "code",
   "execution_count": null,
   "id": "90f06359-c22d-491d-9e0b-ea9af3c286c5",
   "metadata": {},
   "outputs": [],
   "source": []
  },
  {
   "cell_type": "code",
   "execution_count": 151,
   "id": "afe5fc2d-092e-4fad-b9d3-c2e05ea0dd15",
   "metadata": {},
   "outputs": [],
   "source": [
    "from itertools import chain"
   ]
  },
  {
   "cell_type": "code",
   "execution_count": 153,
   "id": "4b467ba9-cf27-48b6-a506-8f58cd61caee",
   "metadata": {},
   "outputs": [],
   "source": [
    "b= chain([1,2,3], [4,5,6])"
   ]
  },
  {
   "cell_type": "code",
   "execution_count": 156,
   "id": "b80305eb-a81c-4e30-a730-0dacf7d220ee",
   "metadata": {},
   "outputs": [
    {
     "data": {
      "text/plain": [
       "3"
      ]
     },
     "execution_count": 156,
     "metadata": {},
     "output_type": "execute_result"
    }
   ],
   "source": [
    "next(b)"
   ]
  },
  {
   "cell_type": "code",
   "execution_count": null,
   "id": "51e797fe-bba8-42c8-a994-80941fb517dd",
   "metadata": {},
   "outputs": [],
   "source": []
  }
 ],
 "metadata": {
  "kernelspec": {
   "display_name": "Python 3 (ipykernel)",
   "language": "python",
   "name": "python3"
  },
  "language_info": {
   "codemirror_mode": {
    "name": "ipython",
    "version": 3
   },
   "file_extension": ".py",
   "mimetype": "text/x-python",
   "name": "python",
   "nbconvert_exporter": "python",
   "pygments_lexer": "ipython3",
   "version": "3.10.1"
  }
 },
 "nbformat": 4,
 "nbformat_minor": 5
}
